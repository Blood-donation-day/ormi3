{
 "cells": [
  {
   "cell_type": "code",
   "execution_count": null,
   "metadata": {},
   "outputs": [],
   "source": [
    "x = 3\n",
    "y = 5\n",
    "result = (isinstance(x, int) and isinstance(y, int)) and x + y # 여기에 논리연산자를 더 붙여 두 수를 더하는 코드를 만들어보세요.\n",
    "\n",
    "result # 8"
   ]
  },
  {
   "cell_type": "code",
   "execution_count": null,
   "metadata": {},
   "outputs": [],
   "source": [
    "print('hello' < 'hell o')\n",
    "print([10, 20, 30] < [10, 19, 100])\n",
    "print(10 % 3.3 == 0.1)\n",
    "\n",
    "# false false false\n",
    "#1.글자의 앞에서 비교를 시작해 5번째 글자 'o' 와 ' '을 비교하는 과정에서 왼쪽의 'o'가 더 크다고 판단 false출력\n",
    "#2.배열의 앞에서 비교를 시작해 2번째 '20' 과 '19' 를 비교해 왼쪽의 '20'이 더 큼으로 false 출력\n",
    "#3.부동소수점 문제로 인하여 0.1000... 즉 결과값이 0.1이 아니므로 false 출력"
   ]
  },
  {
   "cell_type": "code",
   "execution_count": null,
   "metadata": {},
   "outputs": [],
   "source": [
    "\n",
    "email2 = 'abc.@gmail.com' # gmail\n",
    "email3 = 'abc@naver.com' # naver\n",
    "email4 = 'abc@weniv.co.kr' # weniv\n",
    "email5 = 'li.cat@weniv.co.kr' # weniv\n",
    "\n",
    "def FindDomain(email):\n",
    "    firstindex = email.index(\"@\")     \n",
    "    # lastindex: email을 @가 나오는 인덱스에서 시작하여 문자 끝까지 범위에서  . 까지의 인덱스\n",
    "    lastindex = email[firstindex:-1].index(\".\")   \n",
    "    email = email[firstindex +1:firstindex + lastindex]\n",
    "    print(f'해당 계정은 \"{email}\"을(를) 사용중입니다.')\n",
    "\n",
    "\n",
    "emails = [email2, email3, email4, email5]   #emails안에 email넣기\n",
    "\n",
    "for email in emails:\n",
    "    FindDomain(email)"
   ]
  },
  {
   "cell_type": "markdown",
   "metadata": {},
   "source": [
    "## 9-18 연습문제 "
   ]
  },
  {
   "cell_type": "markdown",
   "metadata": {},
   "source": [
    "#문제 1: 동물 클래스 Animal을 만드세요\n",
    "동물 클래스 Animal을 만드세요. Dog와 cat 클래스를 각각 정의하십시오.\n",
    "#Animal 클래스는 name속성을 가집니다. 이 클래스는 make_sound 매서드를 갖고 있습니다.\n",
    "\n",
    "#Dog와 Cat클래스를 Animal클래스를 상속받는 클래스 입니다. Dog클래스의 make_sound 메서드는 \"멍멍\"\n",
    "#Cat클래스의 make_sound매서드는 \"야옹!\"을 출력하도록 재정의 하세요.\n",
    "#(더 완성도 높은 클래스를 만들어보세요. 추가 속성이나 메서드 작성 가능합니다.)"
   ]
  },
  {
   "cell_type": "code",
   "execution_count": null,
   "metadata": {},
   "outputs": [],
   "source": [
    "\n",
    "\n",
    "#문제 1\n",
    "\n",
    "class Animal():\n",
    "    def __init__ (self, name = ''):\n",
    "        self.name = name\n",
    "    def setName(self, name):\n",
    "        self.name = name\n",
    "        self.played = []\n",
    "    def playtogether(self, kinds):\n",
    "        if kinds not in self.played:\n",
    "            self.played.append(kinds)\n",
    "            print(f'{self.name}과 함께 {kinds}를 시작합니다!')\n",
    "        elif kinds in self.played:\n",
    "            print(\"했던거라 지겨웡... 다른걸 해보자!\")\n",
    "        \n",
    "class Dog(Animal):\n",
    "    \n",
    "    def __init__(self):\n",
    "        self.sound = '멍멍!'\n",
    "    \n",
    "    def make_sound(self):\n",
    "        print(self.sound)\n",
    "\n",
    "class Cat(Animal):\n",
    "    \n",
    "    def __init__(self):\n",
    "        self.sound = '야옹!'\n",
    "    \n",
    "    def make_sound(self):\n",
    "        print(self.sound)\n",
    "\n",
    "dog = Dog()\n",
    "dog.setName('땡글이')\n",
    "cat = Cat()\n",
    "cat.setName('참치')\n",
    "\n",
    "print(dog.name, cat.name)\n",
    "dog.make_sound()\n",
    "cat.make_sound()\n",
    "dog.playtogether('공놀이')\n",
    "cat.playtogether('놀아주기')\n",
    "dog.playtogether('공놀이')"
   ]
  },
  {
   "cell_type": "markdown",
   "metadata": {},
   "source": [
    "문제 2: Person을 상속받는 Student 클래스를 정의하십시오.\n",
    "Person이라는 기본 클래스를 만들어주세요. Person 클래스는 `이름`과 `나이`라는 두 개의 속성과 `소개하기`라는 메서드를 가지며, 이 메서드는 \"Hello World!, 제 이름은 [이름]이고 제 나이는 [나이]살 입니다.\"라는 메시지를 출력합니다.\n",
    "\n",
    "Person 클래스를 상속받는 Student 클래스를 정의하십시오. Student 클래스는 추가적으로 `학년` 속성을 가집니다. Student 클래스에서 `소개하기` 메서드를 오버라이드하여 \"Hello World!, 제 이름은 [이름]이고 제 나이는 [나이]살 입니다. 그리고 저는 [학년]학년입니다. \"라는 메시지를 출력하도록 만드세요."
   ]
  },
  {
   "cell_type": "code",
   "execution_count": null,
   "metadata": {},
   "outputs": [],
   "source": [
    "#문제 2\n",
    "\n",
    "class Person:\n",
    "    def __init__(self, name, age):\n",
    "        self.name = name\n",
    "        self.age = age\n",
    "\n",
    "    def introduce(self):\n",
    "        print(f'Hello World!, 제 이름은 [{self.name}]이고 제 나이는 [{self.age}]살 입니다.')\n",
    "\n",
    "class Student(Person):\n",
    "    def __init__(self, name, age, grade):\n",
    "        Person.__init__(self, name, age)\n",
    "        self.grade = grade\n",
    "    \n",
    "    #소개하기 를 오버라이드 하여 Person의 class에만 적용되는 함수\n",
    "    def introduce(self):\n",
    "        print(f'Hello World!, 제 이름은 [{self.name}]이고 제 나이는 [{self.age}]살 입니다. 그리고 저는 [{self.grade}]학년입니다.')\n",
    "\n",
    "고등학생 = Student('김창환', 18, 2)\n",
    "고등학생.introduce()"
   ]
  },
  {
   "cell_type": "markdown",
   "metadata": {},
   "source": [
    "## 9-19 연습문제"
   ]
  },
  {
   "cell_type": "markdown",
   "metadata": {},
   "source": [
    "문제1: (라운지 쓰레드)\n",
    "두 수를 나누는 함수 div(a, b)가 있었을 때 \n",
    "b에 0이 입력되면 예외처리를 하여 정상작동이 되는 함수로 작성을 해주세요."
   ]
  },
  {
   "cell_type": "code",
   "execution_count": null,
   "metadata": {},
   "outputs": [],
   "source": [
    "def div(a, b):\n",
    "    #정수, 실수 외 다른값을 입력시 출력\n",
    "    if not (isinstance(a, int) or isinstance(a, float)) or not (isinstance(b, int) or isinstance(b, float)):\n",
    "        print('정수, 실수를 입력하세요.') \n",
    "        return\n",
    "    try:\n",
    "        return f'{a} / {b} = {a/b}'\n",
    "    except:\n",
    "        return '0으로 나눌 수 없습니다!'\n",
    "\n",
    "print(div(5, 0.1))\n",
    "print(div(11, 0))"
   ]
  },
  {
   "cell_type": "markdown",
   "metadata": {},
   "source": [
    "문제2: (class 쓰레드)\n",
    "하나의 숫자에 제곱근을 구하는 함수 sqrt_number(num)이 있었을 때\n",
    "자체 예외 NegativeNumberError를 정의하세요. 이 예외는 음수가 입력될 때 발생하도록 합니다.\n",
    "사용자로부터 숫자를 입력 받아 그 숫자의 제곱근을 반환하는 함수를 작성하세요.\n",
    "입력된 숫자가 음수이면 NegativeNumberError를 발생시키고 \n",
    "\"음수의 제곱근은 계산할 수 없습니다.\"라는 메시지를 출력하세요."
   ]
  },
  {
   "cell_type": "code",
   "execution_count": null,
   "metadata": {},
   "outputs": [],
   "source": [
    "class NegativeNumberError(Exception):\n",
    "    def __init__(self):\n",
    "        super().__init__('음수의 제곱근은 계산할 수 없습니다.')\n",
    "\n",
    "def sqrt_number(num):\n",
    "\n",
    "    if num < 0:\n",
    "        raise NegativeNumberError()\n",
    "    print(num**(1/2))\n",
    "\n",
    "sqrt_number(456)"
   ]
  },
  {
   "cell_type": "markdown",
   "metadata": {},
   "source": [
    "문제3: (class 쓰레드)\n",
    "사용자로부터 인덱스 값을 입력 받아서 리스트 [\"apple\", \"banana\", \"cherry\"]에서 \n",
    "해당 인덱스의 값을 출력하는 함수를 작성하세요.\n",
    "사용자가 범위를 벗어난 인덱스를 입력하면 \"리스트의 범위를 벗어났습니다.\"라는 메시지를 출력하세요."
   ]
  },
  {
   "cell_type": "code",
   "execution_count": null,
   "metadata": {},
   "outputs": [],
   "source": [
    "fruit = [\"apple\", \"banana\", \"cherry\"]\n",
    "class OutOfList(Exception):\n",
    "    def __init__(self):\n",
    "        super().__init__('리스트의 범위를 벗어났습니다.')\n",
    "\n",
    "def choice():\n",
    "    \n",
    "    while True:\n",
    "        try:\n",
    "            index = int(input('정수를 입력하세요:'))\n",
    "            break\n",
    "        except:\n",
    "            print('\"다시 입력해 주세요\"')\n",
    "    \n",
    "    if len(fruit) < index:\n",
    "        raise OutOfList\n",
    "\n",
    "    print(fruit[index-1])\n",
    "\n",
    "choice()"
   ]
  },
  {
   "cell_type": "markdown",
   "metadata": {},
   "source": [
    "## 9-20 연습문제 "
   ]
  },
  {
   "cell_type": "markdown",
   "metadata": {},
   "source": [
    "문제1: 다음과 같이 동작하는 제너레이터 함수 fibonacci(n)를 완성하세요. \n",
    "주어진 숫자 n까지의 피보나치 수열을 반환합니다.\n",
    "인터넷에서 피보나치 순열 Python 코드를 검색해보셔도 좋습니다."
   ]
  },
  {
   "cell_type": "code",
   "execution_count": null,
   "metadata": {},
   "outputs": [],
   "source": [
    "def fib(n):\n",
    "    fibolist = []\n",
    "\n",
    "    if n == 1:\n",
    "        fibolist.append(1)\n",
    "        return fibolist\n",
    "    if n == 2:\n",
    "        fibolist.append(1)\n",
    "        fibolist.append(1)\n",
    "        return fibolist   \n",
    "    \n",
    "    a, b = 1, 1\n",
    "    fibolist = [1, 1]\n",
    "    for i in range(n-2):\n",
    "        c=a+b\n",
    "        fibolist.append(c)\n",
    "        a=b\n",
    "        b=c\n",
    "    return fibolist\n",
    "\n",
    "print(fib(5))\n",
    "'''\n",
    "출력\n",
    "1\n",
    "1\n",
    "2\n",
    "3\n",
    "5\n",
    "'''"
   ]
  },
  {
   "cell_type": "markdown",
   "metadata": {},
   "source": [
    "문제2: 주어진 함수의 실행 시간을 측정하여 출력하는 데코레이터 time_it를 작성하세요. \n",
    "(힌트: time 모듈의 time() 함수를 사용하세요.) "
   ]
  },
  {
   "cell_type": "code",
   "execution_count": null,
   "metadata": {},
   "outputs": [],
   "source": [
    "import time\n",
    "from typing import Callable\n",
    "import datetime\n",
    "def time_it(function: Callable):\n",
    "    def wrapper(*args, **kwargs):\n",
    "        start = time.time()\n",
    "        result = function(*args, **kwargs)\n",
    "        end = time.time()\n",
    "        print(f\"실행하는데 걸린 시간: {datetime.timedelta(seconds=(end-start))}초\")\n",
    "        return result\n",
    "\n",
    "    return wrapper\n",
    "\n",
    "\n",
    "@time_it\n",
    "def time_measure():\n",
    "    print(123)\n",
    "\n",
    "time_measure()"
   ]
  },
  {
   "cell_type": "markdown",
   "metadata": {},
   "source": [
    "## 9-21 연습문제"
   ]
  },
  {
   "cell_type": "markdown",
   "metadata": {},
   "source": [
    "문제1 오늘 마지막문제 손코딩"
   ]
  },
  {
   "cell_type": "markdown",
   "metadata": {},
   "source": [
    "문제2\n",
    "student.csv에는 아래와 같은 텍스트가 담겨있습니다.\n",
    "학년,반,번,이름,국어,영어,수학,사회\n",
    "3,3,1,licat,90,80,30,40\n",
    "3,3,2,mura,80,70,60,30\n",
    "3,3,3,binky,30,80,70,30\n",
    "\n",
    "학생들의 평균을 구해 아래와 같이 student.csv출력되게 해주세요.(xx이라 표기된 곳에 평균 값이 들어가야 합니다.)\n",
    "학년,반,번,이름,국어,영어,수학,사회,평균\n",
    "3,3,1,licat,90,80,30,40,xx\n",
    "3,3,2,mura,80,70,60,30,xx\n",
    "3,3,3,binky,30,80,70,30,xx\n"
   ]
  },
  {
   "cell_type": "code",
   "execution_count": null,
   "metadata": {},
   "outputs": [],
   "source": [
    "#csv 작성용\n",
    "csv1 = open('student.csv', 'w')\n",
    "csv_contents = '''학년,반,번,이름,국어,영어,수학,사회\n",
    "3,3,1,licat,90,80,30,40\n",
    "3,3,2,mura,80,70,60,30\n",
    "3,3,3,binky,30,80,70,30\n",
    "''' \n",
    "csv1.write(csv_contents)\n",
    "csv1.close()"
   ]
  },
  {
   "cell_type": "code",
   "execution_count": null,
   "metadata": {},
   "outputs": [],
   "source": [
    "import csv\n",
    "\n",
    "csv1 = open('student.csv', 'r')\n",
    "read = csv.reader(csv1)\n",
    "\n",
    "\n",
    "#평균점수 추가하는 함수\n",
    "def add_average(readfile):\n",
    "\n",
    "    csvData = []\n",
    "    for row in readfile:\n",
    "        csvData.append(row)\n",
    "    \n",
    "    csvData[0].append('평균')\n",
    "\n",
    "    #점수를 int형으로 변환\n",
    "    for row in csvData:\n",
    "        for i in range(len(row)):\n",
    "            try:\n",
    "                row[i] = int(row[i])\n",
    "            except:\n",
    "                pass\n",
    "    \n",
    "    #각 배열의 평균 구하기\n",
    "    for i in range(len(csvData)):\n",
    "        if i >= 1:\n",
    "            average = sum(csvData[i][4:7]) / len(csvData[i][4:7])\n",
    "            try:\n",
    "                csvData[i].append(round(average, 2))\n",
    "            except:\n",
    "                pass\n",
    "    return csvData\n",
    "\n",
    "#결과 배열을 csv파일에 덮어씌우기\n",
    "def tocsv(result):\n",
    "    with open('student_average.csv', 'w', newline='') as f:\n",
    "        writer = csv.writer(f, delimiter=',')\n",
    "        writer.writerows(result)\n",
    "\n",
    "result = add_average(read)\n",
    "tocsv(result)\n",
    "\n",
    "\n",
    "csv1.close()\n",
    "\n",
    "\n"
   ]
  },
  {
   "cell_type": "markdown",
   "metadata": {},
   "source": [
    "## 9-22 연습문제"
   ]
  },
  {
   "cell_type": "markdown",
   "metadata": {},
   "source": [
    "문제1:\n",
    "https://school.programmers.co.kr/learn/courses/30/lessons/120871"
   ]
  },
  {
   "cell_type": "code",
   "execution_count": null,
   "metadata": {},
   "outputs": [],
   "source": [
    "# 저주의 숫자 3과 5 - 마을에서 3과 5를 사용하지 않습니다.\n",
    "# 3의 배수와 5의 배수는 3과 5가 들어간게 아니라면 사용합니다.\n",
    "# 그러면 이 마을에서 30은 어떻게 표현할까요?\n"
   ]
  },
  {
   "cell_type": "code",
   "execution_count": null,
   "metadata": {},
   "outputs": [],
   "source": [
    "def x3(n):\n",
    "    result = list(filter(lambda n : '3' not in str(n) and '5' not in str(n), range(0, 999)))\n",
    "    return result[n]\n",
    "\n",
    "x3(15)"
   ]
  },
  {
   "cell_type": "code",
   "execution_count": null,
   "metadata": {},
   "outputs": [],
   "source": [
    "#이게 for문 정석인것같다.\n",
    "def solution(n):\n",
    "    \n",
    "    count = 0\n",
    "    for i in range(1,n+1):\n",
    "        count+=1\n",
    "        while '3' in str(count) or '5' in str(count):\n",
    "            count+=1\n",
    "    return count\n",
    "\n",
    "solution(30)"
   ]
  },
  {
   "cell_type": "markdown",
   "metadata": {},
   "source": [
    "문제2:"
   ]
  },
  {
   "cell_type": "code",
   "execution_count": null,
   "metadata": {},
   "outputs": [],
   "source": [
    "def ngrams(s ,n):\n",
    "    for i in range(0, len(s), n):  #0 부터 s길이까지 n만큼끊으면서\n",
    "        print(s[i:i+n])\n",
    "\n",
    "# 난 이렇게 하려고 했는데 위에가 더 깔끔하네 .\n",
    "def ngramss(s ,n):\n",
    "    for i in range(len(s)):\n",
    "        if i % s == 0:\n",
    "            print(s[i:i+n])\n",
    "\n",
    "ngrams('pytn', 2)"
   ]
  },
  {
   "cell_type": "code",
   "execution_count": null,
   "metadata": {},
   "outputs": [],
   "source": [
    "# 정규표현식을 이용해 ngram 문제 풀기\n",
    "import re\n",
    "p = re.compile(r'[a-z]{2}')\n",
    "word = \"abcdefghija\"\n",
    "p.findall(word)\n",
    "#훨씬 간단하고 가독성 좋게 코드를 작성할 수 있습니다."
   ]
  },
  {
   "cell_type": "markdown",
   "metadata": {},
   "source": [
    "문제3:\n",
    "https://pyalgo.co.kr/?page=2"
   ]
  },
  {
   "cell_type": "code",
   "execution_count": null,
   "metadata": {},
   "outputs": [],
   "source": [
    "import re\n",
    "\n",
    "pre = re.compile(r'[rev][1-9]')\n",
    "data = 'a10b9r10ce33uab8wc918v2cv11v9'\n",
    "pre.findall(data)"
   ]
  },
  {
   "cell_type": "markdown",
   "metadata": {},
   "source": [
    "문제4: \n",
    " https://www.paullab.co.kr/stock.html 서비스를 크롤링하여 제주코딩베이스캠프 연구원의 2019년 10월 총 거래량을 구해주세요."
   ]
  },
  {
   "cell_type": "code",
   "execution_count": null,
   "metadata": {},
   "outputs": [],
   "source": [
    "import re\n",
    "import requests\n",
    "from bs4 import BeautifulSoup\n",
    "\n",
    "Data = requests.get('https://www.paullab.co.kr/stock.html')\n",
    "Data.encoding = 'utf-8'\n",
    "html = Data.text\n"
   ]
  },
  {
   "cell_type": "code",
   "execution_count": null,
   "metadata": {},
   "outputs": [],
   "source": [
    "souphtml = BeautifulSoup(html, 'html.parser')\n",
    "def 거래량():\n",
    "    total = []\n",
    "    for i in range(1, 16):\n",
    "        text = souphtml.select('.table > tbody > tr')[i].select('td')[6].text\n",
    "        text = int(re.sub(r\"[\\,]\", \"\", text))\n",
    "        total.append(text)\n",
    "    result = sum(total)\n",
    "    return f'10월의 거래량은 {result} 입니다.'\n",
    "거래량()\n"
   ]
  },
  {
   "cell_type": "markdown",
   "metadata": {},
   "source": [
    "문제5:\n",
    " html에서 태그를 제거하고 텍스트만 뽑아낼 수 있도록 해주세요.\n",
    "'<p>This is a <em>simple</em> example.</p>'\n",
    "\n"
   ]
  },
  {
   "cell_type": "code",
   "execution_count": null,
   "metadata": {},
   "outputs": [],
   "source": [
    "oneofHtml = '<p>This is a <em>simple</em> example.</p>'\n",
    "oneofHtml = BeautifulSoup(oneofHtml, 'html.parser')\n",
    "Imonlytext = oneofHtml.text\n",
    "print(Imonlytext)"
   ]
  },
  {
   "cell_type": "markdown",
   "metadata": {},
   "source": [
    "문제6:\n",
    "아래 텍스트에서 이메일만 추출할 수 있는 정규표현식을 만들어주세요.\n",
    "'제 이메일 주소는 example1@gmail.com이고 회사 이메일 주소는 example2@gmail.com 입니다. example1로 연락을 주셨다면 제게 메시지 한 번 부탁드립니다.'"
   ]
  },
  {
   "cell_type": "code",
   "execution_count": null,
   "metadata": {},
   "outputs": [],
   "source": [
    "oneoftext = '제 이메일 주소는 example1@gmail.com이고 회사 이메일 주소는 example2@gmail.com 입니다. example1로 연락을 주셨다면 제게 메시지 한 번 부탁드립니다.'\n",
    "IwantEmail = re.compile(r'[a-z0-9A-Z]+@[a-z0-9A-Z]+\\.com')\n",
    "Email = IwantEmail.findall(oneoftext)\n",
    "Email"
   ]
  },
  {
   "cell_type": "markdown",
   "metadata": {},
   "source": [
    "## 9-25 연습문제"
   ]
  },
  {
   "cell_type": "markdown",
   "metadata": {},
   "source": [
    "### 문제 1\n",
    "https://pyalgo.co.kr/?page=6\n",
    "재료가 준비되면 식빵 → 계란 → 베이컨 → 야채 → 식빵과 같은 조리 순서로 항상 순서에 맞게 샌드위치를 하나씩 \n",
    "\n",
    "재료의 순서로 [식빵, 식빵, 계란, 베이컨, 야채, 식빵, 계란, 베이컨, 야채, 식빵] 이 들어온 경우\n",
    "2번째부터 6번째까지의 재료로 샌드위치 한 개를 포장할 수 있습니다.\n",
    "이제 1번째 재료와 7번째부터 10번째까지의 재료로 하나의 샌드위치를 포장할 수 있습니다.\n",
    "그러므로, 총 2개의 샌드위치를 만들어 낼 수 있습니다. 순서가 바뀌면 샌드위치는 포장할 수 없습니다.\n",
    "위의 예제와 같이 라이캣에게 전해지는 재료의 정보가 리스트로 주어졌을 때, 포장할 수 있는 샌드위치 개수를 출력하세요.\n",
    "\n",
    "\n",
    "입력\t                                출력\n",
    "[1, 2, 3, 4, 1, 1, 2, 3, 4]\t            1\n",
    "[1, 1, 1, 2, 3, 4, 1, 2, 3, 4, 1]\t    2\n",
    "[1, 2, 3, 4, 2, 3, 4, 1]\t            0"
   ]
  },
  {
   "cell_type": "code",
   "execution_count": null,
   "metadata": {},
   "outputs": [],
   "source": [
    "# 비행기 ㅋㅋㅋㅋㅋㅋ\n",
    "def solution(data):\n",
    "\n",
    "    result = 0\n",
    "    result1 = data\n",
    "    for i in data \n",
    "        if 1 in result1:\n",
    "            if 2 in result1:\n",
    "                if 3 in result1:\n",
    "                    if 4 in result1:\n",
    "                        if 1 in result1 and 5 <= len(result1):\n",
    "                            if 1 in result1[4:]:\n",
    "                                result1.pop(0)\n",
    "                                result1.pop(0)\n",
    "                                result1.pop(0)\n",
    "                                result1.pop(0)\n",
    "                                result1.pop(0)\n",
    "                                result += 1\n",
    "                            else:\n",
    "                                return result\n",
    "                        else:\n",
    "                            return result\n",
    "                    else:\n",
    "                        return result\n",
    "                else:\n",
    "                    return result\n",
    "            else:\n",
    "                return result\n",
    "        else:\n",
    "            return result\n",
    "\n",
    "solution([1, 2, 3, 4, 2, 3, 4, 1])"
   ]
  },
  {
   "cell_type": "code",
   "execution_count": null,
   "metadata": {},
   "outputs": [],
   "source": [
    "def solution(data):\n",
    "\n",
    "    서순 = data\n",
    "    result = 0\n",
    "    while True:\n",
    "        if 서순.count(1) >= 2 in 서순 and 2 in 서순 and 3 in 서순 and 4 in 서순:\n",
    "            식빵 = 서순.index(1)\n",
    "            계란 = 서순.index(2)\n",
    "            베이컨 = 서순.index(3)\n",
    "            야채 = 서순.index(4)\n",
    "            식빵2 = 야채 + 서순[야채:].index(1) \n",
    "        else:\n",
    "            return result\n",
    "        if 식빵 < 계란 < 베이컨 < 야채 < 식빵2 and 식빵2 - 야채 == 1:\n",
    "            서순.pop(식빵2)\n",
    "            서순.pop(야채)\n",
    "            서순.pop(베이컨)\n",
    "            서순.pop(계란)\n",
    "            서순.pop(식빵)\n",
    "            result += 1\n",
    "        else:\n",
    "            break\n",
    "    return result\n",
    "\n",
    "solution([1, 2, 3, 4, 2, 3, 4, 1])"
   ]
  },
  {
   "cell_type": "markdown",
   "metadata": {},
   "source": [
    "## 09-27 연습문제"
   ]
  },
  {
   "cell_type": "markdown",
   "metadata": {},
   "source": [
    "### 오픈채팅방\n",
    "https://school.programmers.co.kr/learn/courses/30/lessons/42888"
   ]
  },
  {
   "cell_type": "code",
   "execution_count": 2,
   "metadata": {},
   "outputs": [
    {
     "data": {
      "text/plain": [
       "['Prodo님이 들어왔습니다.', 'Ryan님이 들어왔습니다.', 'Prodo님이 나갔습니다.', 'Prodo님이 들어왔습니다.']"
      ]
     },
     "execution_count": 2,
     "metadata": {},
     "output_type": "execute_result"
    }
   ],
   "source": [
    "def solution(record):\n",
    "    userinfo = {}\n",
    "    answer = []\n",
    "    for text in record:\n",
    "        info = text.split(' ')\n",
    "        if info[0] == 'Enter':\n",
    "            userinfo[info[1]] = info[2]\n",
    "            answer.append([info[1], '님이 들어왔습니다.'])\n",
    "        elif info[0] == 'Leave':\n",
    "            answer.append([info[1], '님이 나갔습니다.'])\n",
    "        elif info[0] == 'Change':\n",
    "            userinfo[info[1]] = info[2]\n",
    "    return [f'{userinfo[uid]}{text}' for uid, text in answer]\n",
    "\n",
    "s = [\"Enter uid1234 Muzi\", \"Enter uid4567 Prodo\",\"Leave uid1234\",\"Enter uid1234 Prodo\",\"Change uid4567 Ryan\"]\n",
    "solution(s)"
   ]
  },
  {
   "cell_type": "code",
   "execution_count": 45,
   "metadata": {},
   "outputs": [
    {
     "name": "stdout",
     "output_type": "stream",
     "text": [
      "{'uid1234': 'Prodo', 'uid4567': 'Ryan'}\n"
     ]
    },
    {
     "data": {
      "text/plain": [
       "['Prodo님이 들어왔습니다.', 'Ryan님이 들어왔습니다.', 'Prodo님이 나갔습니다.', 'Prodo님이 들어왔습니다.']"
      ]
     },
     "execution_count": 45,
     "metadata": {},
     "output_type": "execute_result"
    }
   ],
   "source": [
    "def solution(record):\n",
    "    result = []\n",
    "    user = {}\n",
    "    uidlog = []\n",
    "    for i in record:\n",
    "        word = i.split(' ')\n",
    "        if user.get(word[1]) is None:\n",
    "            user[word[1]] = word[2]\n",
    "        \n",
    "        if word[0] == 'Enter':\n",
    "            uidlog.append([word[1], '님이 들어왔습니다.'])\n",
    "            user[word[1]] = word[2]\n",
    "        if word[0] == 'Change':\n",
    "            user[word[1]] = word[2]\n",
    "        if word[0] == 'Leave':\n",
    "            uidlog.append([word[1], '님이 나갔습니다.'])\n",
    "    print(user)\n",
    "    for log in uidlog:\n",
    "        result.append(user[log[0]] + log[1])\n",
    "    \n",
    "    return result\n",
    "\n",
    "solution([\"Enter uid1234 Muzi\", \"Enter uid4567 Prodo\",\"Leave uid1234\",\"Enter uid1234 Prodo\",\"Change uid4567 Ryan\"])\n"
   ]
  },
  {
   "cell_type": "markdown",
   "metadata": {},
   "source": [
    "### 옹알이(1)\n",
    "머쓱이는 태어난 지 6개월 된 조카를 돌보고 있습니다. 조카는 아직 \"aya\", \"ye\", \"woo\", \"ma\" 네 가지 발음을 최대 한 번씩 사용해 조합한(이어 붙인) 발음밖에 하지 못합니다. 문자열 배열 babbling이 매개변수로 주어질 때, 머쓱이의 조카가 발음할 수 있는 단어의 개수를 return하도록 solution 함수를 완성해주세요."
   ]
  },
  {
   "cell_type": "code",
   "execution_count": 23,
   "metadata": {},
   "outputs": [
    {
     "data": {
      "text/plain": [
       "3"
      ]
     },
     "execution_count": 23,
     "metadata": {},
     "output_type": "execute_result"
    }
   ],
   "source": [
    "import re\n",
    "\n",
    "def solution(babbling):\n",
    "    count = 0\n",
    "    filterlist = [\"aya\", \"ye\", \"woo\", \"ma\"]\n",
    "    for i in babbling:\n",
    "        check = i\n",
    "        for filter in filterlist:\n",
    "            check = re.sub(filter, ' ', check)\n",
    "        if check.replace(' ', '') == '':\n",
    "            count += 1\n",
    "    return count\n",
    "\n",
    "solution([\"ayaye\", \"uuuma\", \"ye\", \"yemawoo\", \"ayaa\"])"
   ]
  },
  {
   "cell_type": "markdown",
   "metadata": {},
   "source": [
    "### 진료순서 정하기\n",
    "외과의사 머쓱이는 응급실에 온 환자의 응급도를 기준으로 진료 순서를 정하려고 합니다. 정수 배열 emergency가 매개변수로 주어질 때 응급도가 높은 순서대로 진료 순서를 정한 배열을 return하도록 solution 함수를 완성해주세요."
   ]
  },
  {
   "cell_type": "code",
   "execution_count": null,
   "metadata": {},
   "outputs": [],
   "source": [
    "# https://school.programmers.co.kr/learn/courses/30/lessons/120835\n",
    "\n",
    "def solution(emergency):\n",
    "    응급순서 = sorted(emergency, reverse=True)\n",
    "    return [응급순서.index(응급도) + 1 for 응급도 in emergency]"
   ]
  },
  {
   "cell_type": "code",
   "execution_count": 29,
   "metadata": {},
   "outputs": [
    {
     "data": {
      "text/plain": [
       "[2, 4, 3, 5, 1]"
      ]
     },
     "execution_count": 29,
     "metadata": {},
     "output_type": "execute_result"
    }
   ],
   "source": [
    "def solution(emergency):\n",
    "    result = []\n",
    "    sortlist = sorted(emergency, reverse=True)\n",
    "    for i in emergency:\n",
    "        result.append(sortlist.index(i)+1)\n",
    "    return result\n",
    "\n",
    "solution([30, 10, 23, 6, 100])"
   ]
  }
 ],
 "metadata": {
  "kernelspec": {
   "display_name": "Python 3",
   "language": "python",
   "name": "python3"
  },
  "language_info": {
   "codemirror_mode": {
    "name": "ipython",
    "version": 3
   },
   "file_extension": ".py",
   "mimetype": "text/x-python",
   "name": "python",
   "nbconvert_exporter": "python",
   "pygments_lexer": "ipython3",
   "version": "3.11.4"
  },
  "orig_nbformat": 4
 },
 "nbformat": 4,
 "nbformat_minor": 2
}
