{
  "cells": [
    {
      "cell_type": "markdown",
      "metadata": {
        "id": "9pLjIKD46LPd"
      },
      "source": [
        "# 실전 대기업 문제 풀이"
      ]
    },
    {
      "cell_type": "markdown",
      "metadata": {
        "id": "rFbImTlt5tv4"
      },
      "source": [
        "* 너무 어려운 문제는 제외하였습니다.\n",
        "* 문제 풀이는 워밍업, 18년, 19년, 20년, 21년 입사문제 풀이 순으로 진행합니다.\n",
        "* 문제는 한 해 전에 공개됩니다. 예를 들어 2020 공채라면 19년에 시험을 보기 때문입니다."
      ]
    },
    {
      "cell_type": "markdown",
      "metadata": {
        "id": "q5CyT2MW5twB"
      },
      "source": [
        "## 카카오 2018 공채 문제 1번\n",
        "* 비밀지도 문제 링크 : https://school.programmers.co.kr/learn/courses/30/lessons/17681"
      ]
    },
    {
      "cell_type": "code",
      "execution_count": 6,
      "metadata": {
        "id": "NfkT20oFL9TH"
      },
      "outputs": [
        {
          "data": {
            "text/plain": [
              "['#####', '# # #', '### #', '#  ##', '#####']"
            ]
          },
          "execution_count": 6,
          "metadata": {},
          "output_type": "execute_result"
        }
      ],
      "source": [
        "def solution(n, arr1, arr2):\n",
        "    result = []\n",
        "    for i in range(n):\n",
        "        result.append(bin(arr1[i] | arr2[i]))\n",
        "        result[i] = result[i][2:].zfill(n).replace('1', '#').replace('0', ' ')\n",
        "    return result\n",
        "\n",
        "solution(5, [9, 20, 28, 18, 11], [30, 1, 21, 17, 28])"
      ]
    },
    {
      "cell_type": "markdown",
      "metadata": {
        "id": "tZzxd6b55twF"
      },
      "source": [
        "## 카카오 2018 공채 문제 2번\n",
        "* 다트게임 문제 링크 : https://school.programmers.co.kr/learn/courses/30/lessons/17682"
      ]
    },
    {
      "cell_type": "code",
      "execution_count": 7,
      "metadata": {
        "id": "3a7RGtiCL9TH",
        "outputId": "38423183-23e9-4227-eb65-d1ff759e23af"
      },
      "outputs": [
        {
          "name": "stdout",
          "output_type": "stream",
          "text": [
            "[0, 2, 8, 27]\n"
          ]
        },
        {
          "data": {
            "text/plain": [
              "37"
            ]
          },
          "execution_count": 7,
          "metadata": {},
          "output_type": "execute_result"
        }
      ],
      "source": [
        "# 내맘대로 풀어보기\n",
        "import re\n",
        "\n",
        "def solution(dartResult):\n",
        "    sido = re.compile(r'(\\d+)([SDT])([\\*\\#]?)')\n",
        "    result = re.findall(sido, dartResult)\n",
        "    total_score = []\n",
        "    prev_score = 0\n",
        "    for score, bonus, option in result:\n",
        "        score = int(score)\n",
        "\n",
        "        if bonus == 'D':\n",
        "            score = score ** 2\n",
        "        elif bonus == 'T':\n",
        "            score = score ** 3\n",
        "\n",
        "        if option:\n",
        "            if option == '#':\n",
        "                score = -score\n",
        "\n",
        "            if option == '*':\n",
        "                score = score * 2\n",
        "                prev_score = prev_score * 2\n",
        "        total_score.append(prev_score)\n",
        "        prev_score = score\n",
        "\n",
        "    total_score.append(prev_score)\n",
        "    print(total_score)\n",
        "    return sum(total_score)\n",
        "\n",
        "solution('1S2D*3T')"
      ]
    },
    {
      "cell_type": "code",
      "execution_count": 8,
      "metadata": {
        "id": "ksnjYv79L9TH",
        "outputId": "d8b64d2d-834e-4d09-b30f-cd4c42d8af93"
      },
      "outputs": [
        {
          "data": {
            "text/plain": [
              "37"
            ]
          },
          "execution_count": 8,
          "metadata": {},
          "output_type": "execute_result"
        }
      ],
      "source": [
        "# 정석으로 풀어보기\n",
        "# 숫자는 무시하고 연산자만 처리\n",
        "# 숫자는 시작 index만 관리한다\n",
        "# 최근1개 혹은 2개의 숫자에 대해 연산한다. >> 연산이 다 끝나고 한번에 더한다 >> stack 자료구조\n",
        "\n",
        "def solution(dartResult):\n",
        "    # 0. 입력 및 초기화\n",
        "    scores = []\n",
        "    start_index = 0\n",
        "    power = {'S' : 1, 'D' : 2, 'T' : 3} #코드를 좀 더 깔끔하게 정의\n",
        "\n",
        "    # 1. dartResult 별로 처리\n",
        "    for i in range(len(dartResult)):\n",
        "        op = dartResult[i]\n",
        "        if op in power:\n",
        "            scores.append(int(dartResult[start_index:i]) ** power[op]) # 문자 전까지 숫자\n",
        "        elif op == '*':\n",
        "            scores[-2:] = [x * 2 for x in scores[-2:]] # scores배열의 마지막 2개에 2를 곱함\n",
        "        elif op == '#':\n",
        "            scores[-1] = -scores[-1]\n",
        "\n",
        "        if not op.isnumeric():\n",
        "            start_index = i + 1\n",
        "    # 2. score들의 합을 반환\n",
        "    return sum(scores)\n",
        "\n",
        "solution('1S2D*3T')"
      ]
    },
    {
      "cell_type": "markdown",
      "metadata": {
        "id": "rJ4pRYNo5twH"
      },
      "source": [
        "## 카카오 2018 공채 문제 3번\n",
        "* 캐시 문제 링크 :\n",
        "https://school.programmers.co.kr/learn/courses/30/lessons/17680"
      ]
    },
    {
      "cell_type": "code",
      "execution_count": 9,
      "metadata": {
        "id": "z-4chGYd5twH"
      },
      "outputs": [],
      "source": [
        "도시이름 = ['Jeju', 'Pangyo', 'Seoul', 'NewYork', 'LA', 'Jeju', 'Pangyo', 'Seoul', 'NewYork', 'LA']"
      ]
    },
    {
      "cell_type": "code",
      "execution_count": null,
      "metadata": {
        "id": "3iJJ0CGYL9TI"
      },
      "outputs": [],
      "source": []
    },
    {
      "cell_type": "markdown",
      "metadata": {
        "id": "ty8L5-XsL9TI"
      },
      "source": [
        "## 카카오 가사검색 문제\n",
        "\n",
        "https://school.programmers.co.kr/learn/courses/30/lessons/60060?language=python3"
      ]
    },
    {
      "cell_type": "code",
      "execution_count": 10,
      "metadata": {
        "id": "R6_l1HTwL9TI",
        "outputId": "4f8b0364-8c54-4787-949e-836033a380f3"
      },
      "outputs": [
        {
          "data": {
            "text/plain": [
              "[3, 2, 4, 1, 0]"
            ]
          },
          "execution_count": 10,
          "metadata": {},
          "output_type": "execute_result"
        }
      ],
      "source": [
        "# 효율성 통과하는 방법을 모르겠다...\n",
        "def solution(words, queries):\n",
        "\n",
        "    result = []\n",
        "    search = []\n",
        "    for query in queries:\n",
        "        if '?' in query[0]:\n",
        "            result.append([query.count('?'), query[0:query.count('?')], query[query.count('?'):]])\n",
        "        elif '?' in query[-1]:\n",
        "            result.append([0, query[-query.count('?'):], query[:-query.count('?')]])\n",
        "        else:\n",
        "            result.append([0, 0, query])\n",
        "\n",
        "    for case in result:\n",
        "        count = 0\n",
        "        for word in words:\n",
        "            if case[2] in word[case[0]:case[0]+len(case[2])] and (len(case[1]) + len(case[2])) == len(word):\n",
        "                count += 1\n",
        "        search.append(count)\n",
        "\n",
        "    return search\n",
        "\n",
        "solution([\"frodo\", \"front\", \"frost\", \"frozen\", \"frame\", \"kakao\"], [\"fro??\", \"????o\", \"fr???\", \"fro???\", \"prodo\"])\n"
      ]
    },
    {
      "cell_type": "code",
      "execution_count": 11,
      "metadata": {
        "id": "YcaNvyB6L9TI",
        "outputId": "fa83c3d4-6974-4526-e773-a777ff38f75b"
      },
      "outputs": [
        {
          "data": {
            "text/plain": [
              "[3, 2, 4, 1, 0]"
            ]
          },
          "execution_count": 11,
          "metadata": {},
          "output_type": "execute_result"
        }
      ],
      "source": [
        "# 트라이 노드 사용예제\n",
        "class TrieNode:\n",
        "    def __init__(self):\n",
        "        self.children = {}\n",
        "        self.count = 0\n",
        "\n",
        "def add_word(root, word):\n",
        "    node = root\n",
        "    node.count += 1\n",
        "    for char in word:\n",
        "        if char not in node.children:\n",
        "            node.children[char] = TrieNode()\n",
        "        node = node.children[char]\n",
        "        node.count += 1\n",
        "\n",
        "def search_word(root, query):\n",
        "    node = root\n",
        "    for char in query:\n",
        "        if char == '?':\n",
        "            return node.count\n",
        "        if char not in node.children:\n",
        "            return 0\n",
        "        node = node.children[char]\n",
        "    return node.count\n",
        "\n",
        "def solution(words, queries):\n",
        "    answer = []\n",
        "\n",
        "    # 길이별로 Trie 구조를 생성합니다.\n",
        "    root = [TrieNode() for _ in range(10001)]\n",
        "    reversed_root = [TrieNode() for _ in range(10001)]\n",
        "\n",
        "    for word in words:\n",
        "        add_word(root[len(word)], word)\n",
        "        add_word(reversed_root[len(word)], word[::-1])\n",
        "\n",
        "    for query in queries:\n",
        "        if query[0] != '?':\n",
        "            result = search_word(root[len(query)], query)\n",
        "        else:\n",
        "            result = search_word(reversed_root[len(query)], query[::-1])\n",
        "        answer.append(result)\n",
        "\n",
        "    return answer\n",
        "\n",
        "solution([\"frodo\", \"front\", \"frost\", \"frozen\", \"frame\", \"kakao\"], [\"fro??\", \"????o\", \"fr???\", \"fro???\", \"prodo\"])\n",
        "\n"
      ]
    },
    {
      "cell_type": "code",
      "execution_count": null,
      "metadata": {
        "id": "E9GwGxcgL9TI"
      },
      "outputs": [],
      "source": [
        "[[0, '??', 'fro'],\n",
        " [4, '????', 'o'],\n",
        " [0, '???', 'fr'],\n",
        " [0, '???', 'fro'],\n",
        " [0, 0, 'prodo']]"
      ]
    },
    {
      "cell_type": "markdown",
      "metadata": {
        "id": "3zMy5tGL5twJ"
      },
      "source": [
        "## 카카오 2018 공채 문제 4번\n",
        "셔틀버스 문제 링크 : https://school.programmers.co.kr/learn/courses/30/lessons/17678"
      ]
    },
    {
      "cell_type": "markdown",
      "metadata": {
        "id": "I0YCEulB5twJ"
      },
      "source": [
        "## 카카오 2018 공채 문제 5번\n",
        "* 뉴스 클러스터링 문제 링크 : https://school.programmers.co.kr/learn/courses/30/lessons/17677"
      ]
    },
    {
      "cell_type": "markdown",
      "metadata": {
        "id": "b672cqDV5twL"
      },
      "source": [
        "## 카카오 2018 공채 문제 6번\n",
        "* 프렌즈4블록 문제 링크 : https://school.programmers.co.kr/learn/courses/30/lessons/17679"
      ]
    },
    {
      "cell_type": "markdown",
      "metadata": {
        "id": "sPPxTOkA5twO"
      },
      "source": [
        "## 카카오 2019 공채 문제 1번\n",
        "* 카카오 오픈 채팅방 : https://school.programmers.co.kr/learn/courses/30/lessons/42888"
      ]
    },
    {
      "cell_type": "markdown",
      "metadata": {
        "id": "LnebP09G5twO"
      },
      "source": [
        "## 카카오 2019 공채 문제 2번\n",
        "* 실패율 링크 : https://school.programmers.co.kr/learn/courses/30/lessons/42889"
      ]
    },
    {
      "cell_type": "markdown",
      "metadata": {
        "id": "SCsdIg9a5twP"
      },
      "source": [
        "## 카카오 2019 공채 문제 3번\n",
        "* 후보키 : https://school.programmers.co.kr/learn/courses/30/lessons/42890"
      ]
    },
    {
      "cell_type": "markdown",
      "metadata": {
        "id": "8GNAfbqt5twV"
      },
      "source": [
        "## 카카오 2019 공채 문제 4번\n",
        "* 무지의 먹방 라이브 문제 링크 : https://school.programmers.co.kr/learn/courses/30/lessons/42891"
      ]
    },
    {
      "cell_type": "markdown",
      "metadata": {
        "id": "cMbiFNQz5twX"
      },
      "source": [
        "## 카카오 2020 공채 문제 1번\n",
        "* 문자열 압축 문제 링크 : https://school.programmers.co.kr/learn/courses/30/lessons/60057"
      ]
    },
    {
      "cell_type": "markdown",
      "metadata": {
        "id": "q9mx-MTW5twZ"
      },
      "source": [
        "## 14번 카카오 2020 공채 문제 4번\n",
        "* 가사 검색 문제 링크 : https://school.programmers.co.kr/learn/courses/30/lessons/60060"
      ]
    },
    {
      "cell_type": "markdown",
      "metadata": {
        "id": "HwjP_4Iw5twd"
      },
      "source": [
        "## 카카오 2021 공채 문제 1번\n",
        "* 신규 아이디 추천 문제 링크 : https://school.programmers.co.kr/learn/courses/30/lessons/72410"
      ]
    },
    {
      "cell_type": "markdown",
      "metadata": {
        "id": "NIvo5VrN5twe"
      },
      "source": [
        "## 카카오 2021 공채 문제 2번\n",
        "* 메뉴 리뉴얼 문제 링크 : https://school.programmers.co.kr/learn/courses/30/lessons/72411"
      ]
    }
  ],
  "metadata": {
    "colab": {
      "collapsed_sections": [
        "sPPxTOkA5twO"
      ],
      "provenance": [],
      "toc_visible": true
    },
    "kernelspec": {
      "display_name": "Python 3",
      "language": "python",
      "name": "python3"
    },
    "language_info": {
      "codemirror_mode": {
        "name": "ipython",
        "version": 3
      },
      "file_extension": ".py",
      "mimetype": "text/x-python",
      "name": "python",
      "nbconvert_exporter": "python",
      "pygments_lexer": "ipython3",
      "version": "3.11.4"
    }
  },
  "nbformat": 4,
  "nbformat_minor": 0
}
