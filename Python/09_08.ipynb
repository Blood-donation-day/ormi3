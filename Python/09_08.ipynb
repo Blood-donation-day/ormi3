{
  "nbformat": 4,
  "nbformat_minor": 0,
  "metadata": {
    "colab": {
      "provenance": []
    },
    "kernelspec": {
      "name": "python3",
      "display_name": "Python 3"
    },
    "language_info": {
      "name": "python"
    }
  },
  "cells": [
    {
      "cell_type": "markdown",
      "source": [
        "# 주석"
      ],
      "metadata": {
        "id": "XJp0VaRuKck0"
      }
    },
    {
      "cell_type": "code",
      "execution_count": null,
      "metadata": {
        "id": "W6lAdUep2vGe",
        "outputId": "8e50f613-db37-43ad-bc1a-4b46e26e33a8",
        "colab": {
          "base_uri": "https://localhost:8080/",
          "height": 53
        }
      },
      "outputs": [
        {
          "output_type": "stream",
          "name": "stdout",
          "text": [
            "Hello World!\n"
          ]
        },
        {
          "output_type": "execute_result",
          "data": {
            "text/plain": [
              "'\\n여러줄 주석\\n여러줄주석을 넣는방법 주석을 함수안? 함수 밖? 나중에 배워보자\\n'"
            ],
            "application/vnd.google.colaboratory.intrinsic+json": {
              "type": "string"
            }
          },
          "metadata": {},
          "execution_count": 5
        }
      ],
      "source": [
        "# 주석\n",
        "print(\"Hello World!\")\n",
        "\"\"\"\n",
        "여러줄 주석\n",
        "여러줄주석을 넣는방법 주석을 함수안? 함수 밖? 나중에 배워보자\n",
        "\"\"\""
      ]
    },
    {
      "cell_type": "markdown",
      "source": [
        "#입력 및 출력"
      ],
      "metadata": {
        "id": "Y_d8R7otLzdv"
      }
    },
    {
      "cell_type": "code",
      "source": [
        "x = input(\"ㅎㅇ요:\")  #input은 문자열로 받음.\n",
        "x + x #collab은 마지막 라인에 한하여 print를 사용하지 않아도 적용됩니다."
      ],
      "metadata": {
        "colab": {
          "base_uri": "https://localhost:8080/",
          "height": 53
        },
        "id": "7pbebNZ9L2Ya",
        "outputId": "05ac2064-d7a7-4264-c1af-033196ac3759"
      },
      "execution_count": null,
      "outputs": [
        {
          "name": "stdout",
          "output_type": "stream",
          "text": [
            "ㅎㅇ요:asd\n"
          ]
        },
        {
          "output_type": "execute_result",
          "data": {
            "text/plain": [
              "'asdasd'"
            ],
            "application/vnd.google.colaboratory.intrinsic+json": {
              "type": "string"
            }
          },
          "metadata": {},
          "execution_count": 11
        }
      ]
    },
    {
      "cell_type": "code",
      "source": [
        "y = \"hello yy\"\n",
        "print(y)\n",
        "y + y"
      ],
      "metadata": {
        "colab": {
          "base_uri": "https://localhost:8080/",
          "height": 53
        },
        "id": "SYT0IjO6NDF9",
        "outputId": "49008c69-70a7-46d1-fb47-90cd564bd186"
      },
      "execution_count": null,
      "outputs": [
        {
          "output_type": "stream",
          "name": "stdout",
          "text": [
            "hello yy\n"
          ]
        },
        {
          "output_type": "execute_result",
          "data": {
            "text/plain": [
              "'hello yyhello yy'"
            ],
            "application/vnd.google.colaboratory.intrinsic+json": {
              "type": "string"
            }
          },
          "metadata": {},
          "execution_count": 12
        }
      ]
    },
    {
      "cell_type": "code",
      "source": [
        "print(\"010\", \"6415\", \"1671\", sep=\"-\")  #띄어쓰기에서 사용\n",
        "print(\"010\", \"6415\", \"1671\", end=\"-\")"
      ],
      "metadata": {
        "colab": {
          "base_uri": "https://localhost:8080/"
        },
        "id": "prSJobkqNQkH",
        "outputId": "e52108fe-914f-479b-abd8-31f5ae786194"
      },
      "execution_count": null,
      "outputs": [
        {
          "output_type": "stream",
          "name": "stdout",
          "text": [
            "010-6415-1671\n",
            "010 6415 1671-"
          ]
        }
      ]
    },
    {
      "cell_type": "code",
      "source": [
        "print(\"010\", \"6415\", \"1671\", end=\"-\")\n",
        "print(\"010\", \"6415\", \"1671\", end=\"-\")  # 개행 바로 이어서 출력"
      ],
      "metadata": {
        "colab": {
          "base_uri": "https://localhost:8080/"
        },
        "id": "WCMNwF6gOCPN",
        "outputId": "2fa5c645-c579-4724-d2fd-facff26bb45e"
      },
      "execution_count": null,
      "outputs": [
        {
          "output_type": "stream",
          "name": "stdout",
          "text": [
            "010 6415 1671-010 6415 1671-"
          ]
        }
      ]
    },
    {
      "cell_type": "markdown",
      "source": [
        "# 변수\n",
        "*python에서 변수는 포스트잇이다. 값을 담는것이 아니라 가리킨다.\n",
        "\n"
      ],
      "metadata": {
        "id": "-h0NSk4MOvI7"
      }
    },
    {
      "cell_type": "markdown",
      "source": [
        "변수의 이름을 정할 때는 몇 가지 규칙을 따라야 합니다.\n",
        "\n",
        "1. 변수 이름은 알파벳(대문자와 소문자), 숫자, 언더스코어(_)로 구성됩니다.\n",
        "2. 변수 이름은 숫자로 시작할 수 없습니다.\n",
        "3. Python의 키워드(예: if, else, while 등)는 변수 이름으로 사용할 수 없습니다.\n",
        "4. 변수 이름은 대소문자를 구분합니다. (예: 'name', 'Name', 'NAME'은 서로 다른 변수입니다.)\n",
        "5. 관습\n",
        "    1. 일반 변수는 첫 문자를 소문자ㅇ로 쓰는 것이 보통입니다.\n",
        "    2. 사용하지 않는 변수는 언더스코어(`_`)로 명명합니다.\n",
        "    3. 클래스는 첫 문자를 대문자로 사용합니다.\n",
        "    4. 변수 이름은 스네이크 표기법을 주로 사용합니다."
      ],
      "metadata": {
        "id": "DM3Tkv5BZKLJ"
      }
    },
    {
      "cell_type": "code",
      "source": [
        "x = 10\n",
        "y = x\n",
        "z = y\n",
        "print(id(x), id(y), id(z)) #아이디가 같은것을 확인할 수 있음"
      ],
      "metadata": {
        "colab": {
          "base_uri": "https://localhost:8080/"
        },
        "id": "poi_jC-PO3Xx",
        "outputId": "99ccf509-9e1f-4e7c-88a5-b854eb4e0368"
      },
      "execution_count": null,
      "outputs": [
        {
          "output_type": "stream",
          "name": "stdout",
          "text": [
            "135308372918800 135308372918800 135308372918800\n"
          ]
        }
      ]
    },
    {
      "cell_type": "code",
      "source": [
        "print(x)\n",
        "del (x)\n",
        "print(x)  #오류 발생 x라는 변수가 존재하지 않음"
      ],
      "metadata": {
        "id": "rZcdjGJ3TbNh"
      },
      "execution_count": null,
      "outputs": []
    },
    {
      "cell_type": "code",
      "source": [
        "#변수이름\n",
        "#python의 경우 보통 스네이크 표기법으로 변수 표기\n",
        "col_sum = 10\n",
        "#_는 사용하지 않는 변수에 할당합니다.\n",
        "for _ in range(5):\n",
        "    print(\"hello\") #_가 for문 안에서 사용이 안됩니다."
      ],
      "metadata": {
        "colab": {
          "base_uri": "https://localhost:8080/"
        },
        "id": "hQQTuAgtUMIE",
        "outputId": "ddc49628-8be0-4308-9658-53a3f5564261"
      },
      "execution_count": null,
      "outputs": [
        {
          "output_type": "stream",
          "name": "stdout",
          "text": [
            "hello\n",
            "hello\n",
            "hello\n",
            "hello\n",
            "hello\n"
          ]
        }
      ]
    },
    {
      "cell_type": "markdown",
      "source": [
        "#자료형\n",
        "\n"
      ],
      "metadata": {
        "id": "Vp-oxL_hY00S"
      }
    },
    {
      "cell_type": "markdown",
      "source": [
        "## 정수(int)\n"
      ],
      "metadata": {
        "id": "wUeukel6c0d4"
      }
    },
    {
      "cell_type": "code",
      "source": [
        "#변수 타입: 변수들을 어떻게 관리하고 처리할지에 대한 코드\n",
        "\n",
        "x = 10\n",
        "print(x + x)  #int\n",
        "y='101'\n",
        "print (y+y) #str\n",
        "\n",
        "y = int(y) #y를 정수형으로 변경\n",
        "print(y+y)"
      ],
      "metadata": {
        "colab": {
          "base_uri": "https://localhost:8080/"
        },
        "id": "v4DWFWJRWEJ5",
        "outputId": "206f80fa-dc38-437d-c1e9-a1b04fca2020"
      },
      "execution_count": null,
      "outputs": [
        {
          "output_type": "stream",
          "name": "stdout",
          "text": [
            "20\n",
            "101101\n",
            "202\n"
          ]
        }
      ]
    },
    {
      "cell_type": "code",
      "source": [
        "# 진수: 수를 표현하는 방법\n",
        "# 2진수 : 0 1\n",
        "# 8진수 : 0 1 2 3 4 5 6 7\n",
        "# 16진수: 0 1 2 3 4 5 6 7 8 9 a b c d e f\n",
        "\n",
        "# 10진수 731 = 7 * 10^2 + 3 * 10^1 + 1 * 10^0\n",
        "# 2진수  110 = 1 * 2^2 + 1 * 2^1 + 0 * 2^0"
      ],
      "metadata": {
        "id": "smOQrE7lbrV9"
      },
      "execution_count": null,
      "outputs": []
    },
    {
      "cell_type": "code",
      "source": [
        "#2진수\n",
        "x = 0b110\n",
        "print(x)\n",
        "print(type(x))"
      ],
      "metadata": {
        "colab": {
          "base_uri": "https://localhost:8080/"
        },
        "id": "U0IneSkbY3sk",
        "outputId": "bc74305e-f5e7-49d2-bd9f-ea30304fde16"
      },
      "execution_count": null,
      "outputs": [
        {
          "output_type": "stream",
          "name": "stdout",
          "text": [
            "6\n",
            "<class 'int'>\n"
          ]
        }
      ]
    },
    {
      "cell_type": "code",
      "source": [
        "#8진수\n",
        "x = 0o110\n",
        "print(x)\n",
        "print(type(x))"
      ],
      "metadata": {
        "colab": {
          "base_uri": "https://localhost:8080/"
        },
        "id": "oHu_jeYxa67m",
        "outputId": "92cb4a0a-1e77-4401-af5a-e4c086f600d6"
      },
      "execution_count": null,
      "outputs": [
        {
          "output_type": "stream",
          "name": "stdout",
          "text": [
            "72\n",
            "<class 'int'>\n"
          ]
        }
      ]
    },
    {
      "cell_type": "code",
      "source": [
        "#16진수\n",
        "x = 0x110\n",
        "print(x)\n",
        "print(type(x))"
      ],
      "metadata": {
        "colab": {
          "base_uri": "https://localhost:8080/"
        },
        "id": "9gX_0oAtbH_1",
        "outputId": "1cc1c740-e552-4fb1-a1a6-2ab839969de4"
      },
      "execution_count": null,
      "outputs": [
        {
          "output_type": "stream",
          "name": "stdout",
          "text": [
            "272\n",
            "<class 'int'>\n"
          ]
        }
      ]
    },
    {
      "cell_type": "code",
      "source": [
        "#매우 중요한 내용, 새로운 자료형을 만났을 때 2개를 꼭 해보세요.\n",
        "x = 10\n",
        "print(type(x))\n",
        "print(dir(x))"
      ],
      "metadata": {
        "colab": {
          "base_uri": "https://localhost:8080/"
        },
        "id": "vvc0tfQhdccn",
        "outputId": "dee3305b-a977-4eec-ea58-30168eeed9e8"
      },
      "execution_count": null,
      "outputs": [
        {
          "output_type": "stream",
          "name": "stdout",
          "text": [
            "<class 'int'>\n",
            "['__abs__', '__add__', '__and__', '__bool__', '__ceil__', '__class__', '__delattr__', '__dir__', '__divmod__', '__doc__', '__eq__', '__float__', '__floor__', '__floordiv__', '__format__', '__ge__', '__getattribute__', '__getnewargs__', '__gt__', '__hash__', '__index__', '__init__', '__init_subclass__', '__int__', '__invert__', '__le__', '__lshift__', '__lt__', '__mod__', '__mul__', '__ne__', '__neg__', '__new__', '__or__', '__pos__', '__pow__', '__radd__', '__rand__', '__rdivmod__', '__reduce__', '__reduce_ex__', '__repr__', '__rfloordiv__', '__rlshift__', '__rmod__', '__rmul__', '__ror__', '__round__', '__rpow__', '__rrshift__', '__rshift__', '__rsub__', '__rtruediv__', '__rxor__', '__setattr__', '__sizeof__', '__str__', '__sub__', '__subclasshook__', '__truediv__', '__trunc__', '__xor__', 'as_integer_ratio', 'bit_count', 'bit_length', 'conjugate', 'denominator', 'from_bytes', 'imag', 'numerator', 'real', 'to_bytes']\n"
          ]
        }
      ]
    },
    {
      "cell_type": "code",
      "source": [
        "# 매직 매서드 : 이 타입에 속성을 정의합니다.\n",
        "abs(-5) # __`abs`__\n",
        "5 + 5 # __`add`__\n",
        "5 and 5 # '__and__'\n",
        "bool(5) # '_bool__`\n",
        "5 == 5 # `__eq__`\n",
        "\n",
        "# 메서드: 이 타입에서 변수를 다룰 수 있는 여러 기능을 제공합니다.\n",
        "# 'as_integer_ratio',\n",
        "# 'bit_count',\n",
        "# 'bit_length',\n",
        "# 'conjugate',\n",
        "# 'denominator',\n",
        "# 'from_bytes',\n",
        "# 'imag',\n",
        "# 'numerator',\n",
        "# 'real',\n",
        "# 'to_bytes'"
      ],
      "metadata": {
        "colab": {
          "base_uri": "https://localhost:8080/"
        },
        "id": "lc1pUfUld6ed",
        "outputId": "2cc1f3f5-56a7-46cb-e90b-8ee026e5733b"
      },
      "execution_count": null,
      "outputs": [
        {
          "output_type": "execute_result",
          "data": {
            "text/plain": [
              "True"
            ]
          },
          "metadata": {},
          "execution_count": 30
        }
      ]
    },
    {
      "cell_type": "code",
      "source": [
        "x = 5\n",
        "x.bit_count() # 101  1이 2개\n",
        "x.bit_length() # 길이 3"
      ],
      "metadata": {
        "colab": {
          "base_uri": "https://localhost:8080/"
        },
        "id": "Rasywv_uhetw",
        "outputId": "d817dade-6712-4799-dec1-1923c1c1880b"
      },
      "execution_count": null,
      "outputs": [
        {
          "output_type": "execute_result",
          "data": {
            "text/plain": [
              "3"
            ]
          },
          "metadata": {},
          "execution_count": 34
        }
      ]
    },
    {
      "cell_type": "code",
      "source": [
        "# -5 ~ 256\n",
        "x = 256\n",
        "y = 256\n",
        "\n",
        "print(id(x), id(y)) # -5 ~ 256일 때 둘의 메모리 값이 같다.\n",
        "\n",
        "x = 257\n",
        "y = 257\n",
        "print(id(x), id(y)) #둘의 메모리 값이 다름  . `"
      ],
      "metadata": {
        "colab": {
          "base_uri": "https://localhost:8080/"
        },
        "id": "IgGwcmaPh2cn",
        "outputId": "5e4e7c52-e71a-4b78-d177-5bf6f6ffc521"
      },
      "execution_count": null,
      "outputs": [
        {
          "output_type": "stream",
          "name": "stdout",
          "text": [
            "135308372926672 135308372926672\n",
            "135307602601776 135307602599216\n"
          ]
        }
      ]
    },
    {
      "cell_type": "code",
      "source": [
        " x = 258   # x와 z 의 메모리값이 같다 .\n",
        " y = 258\n",
        " z = x\n",
        " print(id(x))\n",
        " print(id(y))\n",
        " print(id(z))"
      ],
      "metadata": {
        "colab": {
          "base_uri": "https://localhost:8080/"
        },
        "id": "asWiypuUjcrX",
        "outputId": "03d6d8ff-9792-4220-a6a6-81ec77dafe83"
      },
      "execution_count": null,
      "outputs": [
        {
          "output_type": "stream",
          "name": "stdout",
          "text": [
            "135307602595696\n",
            "135307602596624\n",
            "135307602595696\n"
          ]
        }
      ]
    },
    {
      "cell_type": "markdown",
      "source": [
        "## 실수 (float)"
      ],
      "metadata": {
        "id": "v8YU2k76pqbn"
      }
    },
    {
      "cell_type": "code",
      "source": [
        "float(\"inf\") > 10000000\n",
        "float(\"-inf\") < -10000000"
      ],
      "metadata": {
        "colab": {
          "base_uri": "https://localhost:8080/"
        },
        "id": "vrB5ke3YlXhp",
        "outputId": "9d1fbcae-e8b9-422f-b590-5fff92d1abde"
      },
      "execution_count": null,
      "outputs": [
        {
          "output_type": "execute_result",
          "data": {
            "text/plain": [
              "True"
            ]
          },
          "metadata": {},
          "execution_count": 43
        }
      ]
    },
    {
      "cell_type": "code",
      "source": [
        "#실수의 부동소수점 문제\n",
        "0.1 * 0.2"
      ],
      "metadata": {
        "colab": {
          "base_uri": "https://localhost:8080/"
        },
        "id": "sAdq2YSjkZKz",
        "outputId": "7dd2fa14-ab6e-47cb-df69-0fe60855b41e"
      },
      "execution_count": null,
      "outputs": [
        {
          "output_type": "execute_result",
          "data": {
            "text/plain": [
              "0.020000000000000004"
            ]
          },
          "metadata": {},
          "execution_count": 40
        }
      ]
    },
    {
      "cell_type": "markdown",
      "source": [
        "정수부분은 그대로 놔두고 소수부분만 2진수로 계산\n",
        ".1 * 2 === 0.2,\n",
        "\n",
        ".2 * 2 === 0.4,\n",
        "\n",
        ".4 * 2 === 0.8,\n",
        "\n",
        ".8 * 2 === 1.6,\n",
        "\n",
        ".6 * 2 === 1.2,\n",
        "\n",
        ".2 * 2 === 0.4, # 여기서부터 같은 결과가 반복되기 시작합니다.\n",
        "\n",
        ".4 * 2 === 0.8,\n",
        "\n",
        ".8 * 2 === 1.6,\n",
        "\n",
        ".6 * 2 === 1.2,\n",
        "\n",
        ".2 * 2 === 0.4,\n",
        "\n",
        ".4 * 2 === 0.8,\n",
        "\n",
        ".8 * 2 === 1.6,\n",
        "\n",
        ".6 * 2 === 1.2,\n",
        "\n",
        ".\n",
        "정부수와 합치면 결과는 0.000110011001100110011... 이 됩니다."
      ],
      "metadata": {
        "id": "iA9aKaBAlv-s"
      }
    },
    {
      "cell_type": "code",
      "source": [
        "#소수의 정확한 계산\n",
        "import decimal\n",
        "\n",
        "# 각각 모듈 import해서 사용하셔야 합니다.\n",
        "float(decimal.Decimal('.1') + decimal.Decimal('.2'))\n",
        "# float(fractions.Fraction('0.1') + fractions.Fraction('0.2'))"
      ],
      "metadata": {
        "colab": {
          "base_uri": "https://localhost:8080/"
        },
        "id": "zGv76GejnKww",
        "outputId": "8aa24d6b-98db-495b-f0f8-3ed83d085105"
      },
      "execution_count": null,
      "outputs": [
        {
          "output_type": "execute_result",
          "data": {
            "text/plain": [
              "0.3"
            ]
          },
          "metadata": {},
          "execution_count": 45
        }
      ]
    },
    {
      "cell_type": "markdown",
      "source": [
        "##복소수 (complex)"
      ],
      "metadata": {
        "id": "Y_Bk1biJntuh"
      }
    },
    {
      "cell_type": "code",
      "source": [
        "#복소수\n",
        "\n",
        "x =10.0\n",
        "print(type(x), dir(x))\n",
        "\n",
        "#메서드\n",
        "# 'conjugate', 'fromhex', 'hex', 'imag', 'is_integer', 'real'"
      ],
      "metadata": {
        "colab": {
          "base_uri": "https://localhost:8080/"
        },
        "id": "NFc4sAH2nbGf",
        "outputId": "e6c63d3f-5b6a-445e-ae40-50d519f959f0"
      },
      "execution_count": null,
      "outputs": [
        {
          "output_type": "stream",
          "name": "stdout",
          "text": [
            "<class 'float'> ['__abs__', '__add__', '__bool__', '__ceil__', '__class__', '__delattr__', '__dir__', '__divmod__', '__doc__', '__eq__', '__float__', '__floor__', '__floordiv__', '__format__', '__ge__', '__getattribute__', '__getformat__', '__getnewargs__', '__gt__', '__hash__', '__init__', '__init_subclass__', '__int__', '__le__', '__lt__', '__mod__', '__mul__', '__ne__', '__neg__', '__new__', '__pos__', '__pow__', '__radd__', '__rdivmod__', '__reduce__', '__reduce_ex__', '__repr__', '__rfloordiv__', '__rmod__', '__rmul__', '__round__', '__rpow__', '__rsub__', '__rtruediv__', '__setattr__', '__setformat__', '__sizeof__', '__str__', '__sub__', '__subclasshook__', '__truediv__', '__trunc__', 'as_integer_ratio', 'conjugate', 'fromhex', 'hex', 'imag', 'is_integer', 'real']\n"
          ]
        }
      ]
    },
    {
      "cell_type": "code",
      "source": [
        "x = 3 + 4j\n",
        "x = complex(3, 4)\n",
        "\n",
        "\n",
        "x = 3 + 4j\n",
        "y = 1 - 2j\n",
        "\n",
        "print(x + y)\n",
        "print(x - y)\n",
        "print(x * y)\n",
        "print(x / y)\n",
        "print(x.real, x.imag )"
      ],
      "metadata": {
        "colab": {
          "base_uri": "https://localhost:8080/"
        },
        "id": "leVPaGV0oRvM",
        "outputId": "f9bc0da9-a185-4b24-bd27-472b1696659f"
      },
      "execution_count": null,
      "outputs": [
        {
          "output_type": "stream",
          "name": "stdout",
          "text": [
            "(4+2j)\n",
            "(2+6j)\n",
            "(11-2j)\n",
            "(-1+2j)\n",
            "4.0 3.0\n"
          ]
        }
      ]
    },
    {
      "cell_type": "markdown",
      "source": [
        "##문자열 (string)"
      ],
      "metadata": {
        "id": "PaWJZJrMpEok"
      }
    },
    {
      "cell_type": "code",
      "source": [
        "x = 'hello world'\n",
        "y = \"hello world\"\n",
        "z = '''hello world'''\n",
        "k = \"\"\"hello world\"\"\"  #회사마다 컨벤션이 다릅니다.\n",
        "\n",
        "print(x, y, z, k)"
      ],
      "metadata": {
        "colab": {
          "base_uri": "https://localhost:8080/"
        },
        "id": "WG8QfK0bpHR7",
        "outputId": "7e1ed8be-5525-4206-e51f-ea817c44061a"
      },
      "execution_count": null,
      "outputs": [
        {
          "output_type": "stream",
          "name": "stdout",
          "text": [
            "hello world hello world hello world hello world\n"
          ]
        }
      ]
    },
    {
      "cell_type": "code",
      "source": [
        "i = '''저는 위니브의 대표 이호준입니다.\n",
        "파이썬 참 좋아요.\n",
        "여러분 정말 잘 선택하셨어요.'''\n",
        "\n",
        "i   #저는 위니브의 대표 이호준입니다.\\n파이썬 참 좋아요.\\n여러분 정말 잘 선택하셨어요.\n",
        "print(i)"
      ],
      "metadata": {
        "colab": {
          "base_uri": "https://localhost:8080/"
        },
        "id": "vqfiS9VaqlT5",
        "outputId": "f3d3e3fd-578a-4095-feb7-5228dffd13bf"
      },
      "execution_count": null,
      "outputs": [
        {
          "output_type": "stream",
          "name": "stdout",
          "text": [
            "저는 위니브의 대표 이호준입니다.\n",
            "파이썬 참 좋아요.\n",
            "여러분 정말 잘 선택하셨어요.\n"
          ]
        }
      ]
    },
    {
      "cell_type": "code",
      "source": [
        "#이런 연산들을 문자열에서는 문제가 없지만\n",
        "#다른 자료형들은 아래와 같은 문제가 발생합니다,\n",
        "\n",
        "x = [[100]*3, [10]*2]\n",
        "x"
      ],
      "metadata": {
        "colab": {
          "base_uri": "https://localhost:8080/"
        },
        "id": "zlGUdv9traaN",
        "outputId": "1a6572b1-baee-454e-d68c-1f457c9487c8"
      },
      "execution_count": null,
      "outputs": [
        {
          "output_type": "execute_result",
          "data": {
            "text/plain": [
              "[[100, 100, 100], [10, 10]]"
            ]
          },
          "metadata": {},
          "execution_count": 63
        }
      ]
    },
    {
      "cell_type": "markdown",
      "source": [
        "###문자열 인덱싱"
      ],
      "metadata": {
        "id": "U2erpjTIr-6t"
      }
    },
    {
      "cell_type": "code",
      "source": [
        "s =\"hello world\"\n",
        "s[-11]  #넘어가면 out of range 에러"
      ],
      "metadata": {
        "colab": {
          "base_uri": "https://localhost:8080/",
          "height": 35
        },
        "id": "ymRRuVJssARa",
        "outputId": "d8740e40-f138-492c-9412-70a5ecf3c5f2"
      },
      "execution_count": null,
      "outputs": [
        {
          "output_type": "execute_result",
          "data": {
            "text/plain": [
              "'h'"
            ],
            "application/vnd.google.colaboratory.intrinsic+json": {
              "type": "string"
            }
          },
          "metadata": {},
          "execution_count": 76
        }
      ]
    },
    {
      "cell_type": "code",
      "source": [
        "s = 'weniv CEO leehojun'\n",
        "# s[start:stop:step]\n",
        "\n",
        "\n",
        "# ':step'은 통으로 생략이 가능합니다\n",
        "# start와 stop은 숫자만 생략이 가능합니다.\n",
        "# 중요: slicing은 error 발생시키지 않습니다.\n",
        "\n"
      ],
      "metadata": {
        "colab": {
          "base_uri": "https://localhost:8080/",
          "height": 35
        },
        "id": "r1ye2L6x-Xa9",
        "outputId": "be0759d8-85fa-43ed-fa94-cfbf94cc00a8"
      },
      "execution_count": null,
      "outputs": [
        {
          "output_type": "execute_result",
          "data": {
            "text/plain": [
              "'nujoheel OEC vinew'"
            ],
            "application/vnd.google.colaboratory.intrinsic+json": {
              "type": "string"
            }
          },
          "metadata": {},
          "execution_count": 80
        }
      ]
    },
    {
      "cell_type": "code",
      "source": [
        "s[0:5]\n",
        "# s[5:0]\n",
        "s[:5]\n",
        "s[6:]\n",
        "s[0:5:2]\n",
        "# 2칸씩 건너 띄는 코드는 거의 작성하지 않고(알고리즘 문제에서는 많이 사용합니다.)\n",
        "# step 값으로는 -1을 많이 사용합니다.\n",
        "s[::-1]\n",
        "s[5:0:-1] # ????, 왜 의도한 바대로 안나왔을까요? 5부터 1까지이기 때문에 그렇습니다!\n",
        "# 'weniv CEO leehojun' 여기서 5부터 시작해보세요!"
      ],
      "metadata": {
        "colab": {
          "base_uri": "https://localhost:8080/",
          "height": 35
        },
        "id": "6LLJrZvFAMHg",
        "outputId": "cb73e7d9-db76-4d68-d435-eddb0029ca3c"
      },
      "execution_count": null,
      "outputs": [
        {
          "output_type": "execute_result",
          "data": {
            "text/plain": [
              "' vine'"
            ],
            "application/vnd.google.colaboratory.intrinsic+json": {
              "type": "string"
            }
          },
          "metadata": {},
          "execution_count": 82
        }
      ]
    },
    {
      "cell_type": "code",
      "source": [
        "s = 'leehojun.png'\n",
        "# 자주쓰지만 햇갈리는 것\n",
        "print(s[2:-4]) #step값이 음에 값이 아닙니다! 양의 값이니 뒤로 가지 않습니다\n",
        "#-4를 양에 인덱스로 변봔 후 슬라이싱합니다.\n",
        "#~~~ -4 까지\n",
        "#문제2: png만 잘라내 주세요.\n",
        "print(s[-3:])  # -3을 양의 인덱스로 변환하면 9부터 마지막까지 결국 [9:]와 같습니다.\n",
        "#-3부터~~\n",
        "#자바스크립트의 splice는 자르고 남는값을 반환했다면 python slice는 자른값을 반환.\n",
        "\n",
        "# 슬라이싱에서 알아두어야 할 점\n",
        "#슬라이싱이 C구현체로 되어 있어 메서드보다 통상 8배 정도 빠릅니다.\n",
        "#슬라이싱으로 copy한 객체는 얕은 복사가 됩니다.-\n",
        "#"
      ],
      "metadata": {
        "colab": {
          "base_uri": "https://localhost:8080/"
        },
        "id": "tvkTW-ycAMvr",
        "outputId": "d2488151-7ec3-42dd-9126-66f74668dce4"
      },
      "execution_count": null,
      "outputs": [
        {
          "output_type": "stream",
          "name": "stdout",
          "text": [
            "leehojun\n",
            "png\n"
          ]
        }
      ]
    },
    {
      "cell_type": "code",
      "source": [
        "#아래처럼 되면 x와 y는 같은 곳을 가리키게 됩니다.\n",
        "x =[10, 20 ,30]\n",
        "y = x\n",
        "print(id(x), id(y))   #id값이 같음\n",
        "\n",
        "x = [10, 20, 30]\n",
        "y = x[:]\n",
        "print(id(x), id(y)) # id값이 서로 다름."
      ],
      "metadata": {
        "colab": {
          "base_uri": "https://localhost:8080/"
        },
        "id": "QHyy8Cu7Dr2G",
        "outputId": "f5397273-b2d0-43c0-89a7-fb8371d4954a"
      },
      "execution_count": null,
      "outputs": [
        {
          "output_type": "stream",
          "name": "stdout",
          "text": [
            "135307091471424 135307091471424\n",
            "135307091405568 135307601128192\n"
          ]
        }
      ]
    },
    {
      "cell_type": "markdown",
      "source": [
        "###문자열 메서드"
      ],
      "metadata": {
        "id": "f139R3pIEURy"
      }
    },
    {
      "cell_type": "code",
      "source": [
        "#소문자 대문자 변환\n",
        "s = 'Hello My Name Is CHANGHWAN'\n",
        "print(type(s), dir(s))\n",
        "\n",
        "print(s.lower())\n",
        "print(s.upper())"
      ],
      "metadata": {
        "id": "4xyCEBSpEfqa"
      },
      "execution_count": null,
      "outputs": []
    },
    {
      "cell_type": "code",
      "source": [
        "#문자 인덱스 찾기\n",
        "print(s.find('My')) #없는값이면 -1 출력  단 -1도 boolean값이 True임으로 주의\n",
        "print(s.index('My')) #없는값이면 error발생\n",
        "\n",
        "#에러가 안나는 코드가 좋은 코드다? X\n",
        "#에러가 적절한 곳에서 나고, 예외 처리가 견교히 되어있는게 좋은코드"
      ],
      "metadata": {
        "id": "4Xs-FQrcGjFS"
      },
      "execution_count": null,
      "outputs": []
    },
    {
      "cell_type": "code",
      "source": [
        "# count( )는 특정 문자열이나 숫자의 개수를 셀 때 사용하는 method입니다.\n",
        "s = 'weniv CEO licat'\n",
        "s.count('i')"
      ],
      "metadata": {
        "colab": {
          "base_uri": "https://localhost:8080/"
        },
        "id": "iAsJjop3GmQF",
        "outputId": "7f7d445b-bdb0-4b8c-8e59-658d6c5b575b"
      },
      "execution_count": null,
      "outputs": [
        {
          "output_type": "execute_result",
          "data": {
            "text/plain": [
              "2"
            ]
          },
          "metadata": {},
          "execution_count": 114
        }
      ]
    },
    {
      "cell_type": "code",
      "source": [
        "# strip 양쪽 공백을 제거하는 method\n",
        "s = '   weniv CEO licat    '\n",
        "print(s.strip())\n",
        "\n",
        "'    ,!!5!  hello world   '.strip(' ,!')\n",
        "#양쪽의 공백과 ',!'을 제거해주는 method"
      ],
      "metadata": {
        "colab": {
          "base_uri": "https://localhost:8080/",
          "height": 53
        },
        "id": "-yMIDfwFGwJi",
        "outputId": "ba60207f-9626-498d-9f27-8c9e0202060e"
      },
      "execution_count": null,
      "outputs": [
        {
          "output_type": "stream",
          "name": "stdout",
          "text": [
            "weniv CEO licat\n"
          ]
        },
        {
          "output_type": "execute_result",
          "data": {
            "text/plain": [
              "'5!  hello world'"
            ],
            "application/vnd.google.colaboratory.intrinsic+json": {
              "type": "string"
            }
          },
          "metadata": {},
          "execution_count": 119
        }
      ]
    },
    {
      "cell_type": "code",
      "source": [
        "#replace 문자열을 대체하는 method\n",
        "\n",
        "s = 'weniv CEO licat'\n",
        "print(s.replace('ceo', 'CTO')) #대소문자 유의\n",
        "\n",
        "print(s.replace('CEO', 'CTO')) #대소문자 유의"
      ],
      "metadata": {
        "colab": {
          "base_uri": "https://localhost:8080/"
        },
        "id": "EK0AdawdH88C",
        "outputId": "1d24170f-c948-4a47-d830-ac2ca569410b"
      },
      "execution_count": null,
      "outputs": [
        {
          "output_type": "stream",
          "name": "stdout",
          "text": [
            "weniv CEO licat\n",
            "weniv CTO licat\n"
          ]
        }
      ]
    },
    {
      "cell_type": "code",
      "source": [
        "#join( )\n",
        "#join( ) 메서드는 split( ) 메서드와 반대로 리스트를 하나의 문자열로 합치는 메서드입니다.\n",
        "# 아래 예제를 살펴보겠습니다.\n",
        "\n",
        "s = ['weniv', 'CEO', 'licat']\n",
        "print('-'.join(s)) #리스트를 하나의 문자열로 합치기\n",
        "\n",
        "s = '010 1000 1000'\n",
        "print('-'.join(s.split())) #공백을 기준으로 문자열을 나눈 후 '-'로 합치기\n"
      ],
      "metadata": {
        "colab": {
          "base_uri": "https://localhost:8080/"
        },
        "id": "ADgWKZuwMilE",
        "outputId": "2912a66d-8c42-454c-f4e1-7a0fe1fef1e2"
      },
      "execution_count": null,
      "outputs": [
        {
          "output_type": "stream",
          "name": "stdout",
          "text": [
            "weniv-CEO-licat\n",
            "010-1000-1000\n"
          ]
        }
      ]
    },
    {
      "cell_type": "code",
      "source": [
        "#format  위 코드에서는 문자열 내에 {}를 넣어 변수의 값을 대입하였습니다.\n",
        "#format() 메서드를 이용해 {}에 변수의 값을 순서대로 대입할 수 있습니다.\n",
        "\n",
        "#하지만 현재는 f string을 사용함으로 그런가보다 하고 넘어가자.\n",
        "name = 'licat'\n",
        "age = 29\n",
        "\n",
        "print('제 이름은 {}이고, 나이는 {}살입니다.'.format(name, age))\n",
        "\n",
        "print('제 이름은 {0} 제 나이는 {1}'.format(name, age))\n",
        "print('제 이름은 {1} 제 나이는 {0}'.format(name, age))\n",
        "print(f'제 이름은 {name}이고, 나이는{age}살입니다.') #이것을 사용한다고 생각하면 된다."
      ],
      "metadata": {
        "colab": {
          "base_uri": "https://localhost:8080/"
        },
        "id": "A0MCFPv7NUIi",
        "outputId": "1b8a47d2-092f-49a5-8cf5-d36eec1b6dd1"
      },
      "execution_count": null,
      "outputs": [
        {
          "output_type": "stream",
          "name": "stdout",
          "text": [
            "제 이름은 licat이고, 나이는 29살입니다.\n",
            "제 이름은 licat 제 나이는 29\n",
            "제 이름은 29 제 나이는 licat\n",
            "제 이름은 licat이고, 나이는29살입니다.\n"
          ]
        }
      ]
    },
    {
      "cell_type": "code",
      "source": [
        "#isalnum( ) / isdigit() / isalpha( )\n",
        "print('ㅎㅇ'.isalnum()) #a-z A-Z 0-9 ㄱ-ㅎ\n",
        "print('123456'.isdigit()) #문자열이 숫자로만 이루어져 있는지\n",
        "print('abcdef'.isalpha()) #문자열이 알파벳(+ㄱ-ㅎ)으로만 이루어져 있는지"
      ],
      "metadata": {
        "colab": {
          "base_uri": "https://localhost:8080/"
        },
        "id": "xNZaMAP8Pi4r",
        "outputId": "d5c26638-9902-4282-9d6f-798b577cf961"
      },
      "execution_count": null,
      "outputs": [
        {
          "output_type": "stream",
          "name": "stdout",
          "text": [
            "True\n",
            "True\n",
            "True\n"
          ]
        }
      ]
    },
    {
      "cell_type": "code",
      "source": [
        "#rjust( ) / ljust( ) / center( )\n",
        "\n",
        "s = 'licat'\n",
        "print(s.rjust(10, '-')) #문자열을 지정한 길이로 맞추고, 왼쪽을 '-'로 채우는 method\n",
        "\n",
        "s = 'licat'\n",
        "print(s.ljust(10, '-')) #문자열을 지정한 길이로 맞추고, 오른쪽을 '-'로 채우는 method\n",
        "\n",
        "s = 'licat'\n",
        "print(s.center(11, '-')) #문자열을 지정한 길이로 맞추고, 양쪽을 '-'로 채우는 method"
      ],
      "metadata": {
        "colab": {
          "base_uri": "https://localhost:8080/"
        },
        "id": "xBMAEcmWTt0B",
        "outputId": "2fe87a60-b8e9-4d9f-a166-f70dd427bc1b"
      },
      "execution_count": 169,
      "outputs": [
        {
          "output_type": "stream",
          "name": "stdout",
          "text": [
            "-----licat\n",
            "licat-----\n",
            "---licat---\n"
          ]
        }
      ]
    },
    {
      "cell_type": "code",
      "source": [
        "#문자열의 zfill() 메서드는 주어진 길이만큼 문자열의 앞쪽을 '0'으로 채워서 반환합니다\n",
        "\n",
        "x = \"42\"\n",
        "result = x.zfill(5)\n",
        "print(result)  # 00042\n",
        "\n",
        "filename = '1'.zfill(3) + \".jpg\"\n",
        "print(filename) #파일의 로그번호 등을 메길 때 매우 유용함.\n",
        "\n",
        "년 = '23'\n",
        "월 = '9'\n",
        "일 = '8'\n",
        "오늘날짜 = f'{년}/{월.zfill(2)}/{일.zfill(2)}'\n",
        "print(오늘날짜) #23/09/08 이런 느낌으로 0채워줌"
      ],
      "metadata": {
        "id": "7amIMrwyRhD0",
        "colab": {
          "base_uri": "https://localhost:8080/"
        },
        "outputId": "2babb17d-adf7-4514-80af-c614b48389c1"
      },
      "execution_count": 174,
      "outputs": [
        {
          "output_type": "stream",
          "name": "stdout",
          "text": [
            "00042\n",
            "001.jpg\n",
            "23/09/08\n"
          ]
        }
      ]
    },
    {
      "cell_type": "code",
      "source": [
        "#maketrans    translate\n",
        "table = str.maketrans('abc', '123') # a b c 를 1 2 3 으로 치환\n",
        "print('akbkckdkek'.translate(table))\n",
        "\n",
        "# 'd'와 'e' 문자 제거하기\n",
        "table = str.maketrans('', '', 'de') #3번째 인수는 해당 문자가 포함되면 제거하겠다 (d e)\n",
        "text = \"abcde\"\n",
        "result = text.translate(table)\n",
        "print(result)  # abc\n",
        "\n",
        "#이스케이프 문자제거\n",
        "table = str.maketrans('\\n\\t', '  ') # 똑같은 길이를 가지고 있어야 함 아니면 에러출력\n",
        "print('weniv \\n\\n\\n CEO \\t\\t\\t licat'.translate(table))"
      ],
      "metadata": {
        "colab": {
          "base_uri": "https://localhost:8080/"
        },
        "id": "jlv_fmvnh1G3",
        "outputId": "0d803094-090a-44cf-ad38-662eeeedff61"
      },
      "execution_count": 39,
      "outputs": [
        {
          "output_type": "stream",
          "name": "stdout",
          "text": [
            "1k2k3kdkek\n",
            "abc\n",
            "weniv     CEO     licat\n"
          ]
        }
      ]
    },
    {
      "cell_type": "markdown",
      "source": [
        "# 연습문제 풀이"
      ],
      "metadata": {
        "id": "1ZAMIfNFaCVb"
      }
    },
    {
      "cell_type": "code",
      "source": [
        "# https://school.programmers.co.kr/learn/courses/30/lessons/17681?language=python3\n",
        "\n",
        "n =5\n",
        "arr1 = [9, 20, 28, 18, 11]\n",
        "arr2 = [30, 1, 21, 17, 28]"
      ],
      "metadata": {
        "id": "b1_43mRzaGHJ"
      },
      "execution_count": 1,
      "outputs": []
    },
    {
      "cell_type": "code",
      "source": [
        "#keep해야할 포인트\n",
        "#1. 2진수는 정수형이다.\n",
        "#2. 다만 bin()은 문자열이다.\n",
        "\n",
        "print(arr1[0] | arr2[0])\n",
        "# for i=0 i<n i++:\n",
        "print(bin(arr1[0] | arr2[0])[2:].zfill(5).replace('1','#').replace('0',' '))\n",
        "#2진수 arr1과 arr2를 더해서 세번째 글자부터 출력하는데 1은 # 0은 \" \"공백으로 출력\n",
        "#단 빈칸은 0으로 출력 (replace에 의해서 공백)"
      ],
      "metadata": {
        "colab": {
          "base_uri": "https://localhost:8080/"
        },
        "id": "6peLV66DaeWJ",
        "outputId": "d959926d-b34d-42e8-f2ee-87fbcb9d47bd"
      },
      "execution_count": 4,
      "outputs": [
        {
          "output_type": "stream",
          "name": "stdout",
          "text": [
            "31\n",
            "#####\n"
          ]
        }
      ]
    },
    {
      "cell_type": "code",
      "source": [
        "# https://school.programmers.co.kr/learn/courses/30/lessons/120891\n",
        "#연습문제 369게임\n",
        "import random\n",
        "#어떤 1 ≤ s ≤ 1,000,000 일때 3 6 9 갯수를 구하라\n",
        "s = random.randint(1,1000000)\n",
        "print(s)\n",
        "s = str(s)\n",
        "print(s.count('3')+s.count('6')+s.count('9'))"
      ],
      "metadata": {
        "colab": {
          "base_uri": "https://localhost:8080/"
        },
        "id": "qTh7zvNMdosZ",
        "outputId": "d7c978f8-4321-47a5-c8cb-e85c0ed8a913"
      },
      "execution_count": 16,
      "outputs": [
        {
          "output_type": "stream",
          "name": "stdout",
          "text": [
            "823837\n",
            "2\n"
          ]
        }
      ]
    },
    {
      "cell_type": "code",
      "source": [
        "# 심화문제\n",
        "# 숫자가 너무 크니 숫자를 줄여 드리도록 하겠습니다. 숫자는 100입니다.\n",
        "# 세팅\n",
        "\n",
        "s = str(list(range(random.randint(1,1000))))\n",
        "print(s)\n",
        "print(s.count('3')+s.count('6')+s.count('9')) #위에 문제랑 같은 문제 아닌가?\n",
        "\n",
        "#어려워보여도 정답은 같아. 그러니까 어려운 문제라도 당황하지 않고 진행하면 문제없다."
      ],
      "metadata": {
        "colab": {
          "base_uri": "https://localhost:8080/"
        },
        "id": "pXzqytvOftnb",
        "outputId": "c302411b-bb34-4bd6-90c6-dbad2244440f"
      },
      "execution_count": 27,
      "outputs": [
        {
          "output_type": "stream",
          "name": "stdout",
          "text": [
            "[0, 1, 2, 3, 4, 5, 6, 7, 8, 9, 10, 11, 12, 13, 14, 15, 16, 17, 18, 19, 20, 21, 22, 23, 24, 25, 26, 27, 28, 29, 30, 31, 32, 33, 34, 35, 36, 37, 38, 39, 40, 41, 42, 43, 44, 45, 46, 47, 48, 49, 50, 51, 52, 53, 54, 55, 56, 57, 58, 59, 60, 61, 62, 63, 64, 65, 66, 67, 68, 69, 70, 71, 72, 73, 74, 75, 76, 77, 78, 79, 80, 81, 82, 83, 84, 85, 86, 87, 88, 89, 90, 91, 92, 93, 94, 95, 96, 97, 98, 99, 100, 101, 102, 103, 104, 105, 106, 107, 108, 109, 110, 111, 112, 113, 114, 115, 116, 117, 118, 119, 120, 121, 122, 123, 124, 125, 126, 127, 128, 129, 130, 131, 132, 133, 134, 135, 136, 137, 138, 139, 140, 141, 142, 143, 144, 145, 146, 147, 148, 149, 150, 151, 152, 153, 154, 155, 156, 157, 158, 159, 160, 161, 162, 163, 164, 165, 166, 167, 168, 169, 170, 171, 172, 173, 174, 175, 176, 177, 178, 179, 180, 181, 182, 183, 184, 185, 186, 187, 188, 189, 190, 191, 192, 193, 194, 195, 196, 197, 198, 199, 200, 201, 202, 203, 204, 205, 206, 207, 208, 209, 210, 211, 212, 213, 214, 215, 216, 217, 218, 219, 220, 221, 222, 223, 224, 225, 226, 227, 228, 229, 230, 231, 232, 233, 234, 235, 236, 237, 238, 239, 240, 241, 242, 243, 244, 245, 246, 247, 248, 249, 250, 251, 252, 253, 254, 255, 256, 257, 258, 259, 260, 261, 262, 263, 264, 265, 266, 267, 268, 269, 270, 271, 272, 273, 274, 275, 276, 277, 278, 279, 280, 281, 282, 283, 284, 285, 286, 287, 288, 289, 290, 291, 292, 293, 294, 295, 296, 297, 298, 299, 300, 301, 302, 303, 304, 305, 306, 307, 308, 309, 310, 311, 312, 313, 314, 315, 316, 317, 318, 319, 320, 321, 322, 323, 324, 325, 326, 327, 328, 329, 330, 331, 332, 333, 334, 335, 336, 337, 338, 339, 340, 341, 342, 343, 344, 345, 346, 347, 348, 349, 350, 351, 352, 353, 354, 355, 356, 357, 358, 359, 360, 361, 362, 363, 364, 365, 366, 367, 368, 369, 370, 371, 372, 373, 374, 375, 376, 377, 378, 379, 380, 381, 382, 383, 384, 385, 386, 387, 388, 389, 390, 391, 392, 393, 394, 395, 396, 397, 398, 399, 400, 401, 402, 403, 404, 405, 406, 407, 408, 409, 410, 411, 412, 413, 414, 415, 416, 417, 418, 419, 420, 421, 422, 423, 424, 425, 426, 427, 428, 429, 430, 431, 432, 433, 434, 435, 436, 437, 438, 439, 440, 441, 442, 443, 444, 445, 446, 447, 448, 449, 450, 451, 452, 453, 454, 455, 456, 457, 458, 459, 460, 461, 462, 463, 464, 465, 466, 467, 468, 469, 470, 471, 472, 473, 474, 475, 476, 477, 478, 479, 480, 481, 482, 483, 484, 485, 486, 487, 488, 489, 490, 491, 492, 493, 494, 495, 496, 497, 498, 499, 500, 501, 502, 503, 504, 505, 506, 507, 508, 509, 510, 511, 512, 513, 514, 515, 516, 517, 518, 519, 520, 521, 522, 523, 524, 525]\n",
            "407\n"
          ]
        }
      ]
    },
    {
      "cell_type": "markdown",
      "source": [
        "#논리 자료형 (boolean)"
      ],
      "metadata": {
        "id": "XnFD3F3ajCXK"
      }
    }
  ]
}