{
  "cells": [
    {
      "cell_type": "markdown",
      "metadata": {},
      "source": [
        "# Day1"
      ]
    },
    {
      "cell_type": "markdown",
      "metadata": {},
      "source": [
        "## a와 b 출력하기\n",
        "\n",
        "a와 b 출력하기\n",
        "정수 a와 b가 주어집니다.\n",
        "각 수를 입력받아 입출력 예와 같은 형식으로 출력하는 코드를 작성해 보세요.\n",
        "입력: 4 5"
      ]
    },
    {
      "cell_type": "code",
      "execution_count": null,
      "metadata": {
        "id": "x7pawmG_eLd_"
      },
      "outputs": [],
      "source": [
        "a , b = map(int, input().strip().split())\n",
        "print(f'a = {a}')\n",
        "print(f'b = {b}')"
      ]
    },
    {
      "cell_type": "markdown",
      "metadata": {},
      "source": [
        "## 문자열 반복해서 출력하기\n",
        "\n",
        "문자열 반복해서 출력하기\n",
        "문자열 str과 정수 n이 주어집니다.\n",
        "str이 n번 반복된 문자열을 만들어 출력하는 코드를 작성해 보세요.\n",
        "입력: string 5"
      ]
    },
    {
      "cell_type": "code",
      "execution_count": null,
      "metadata": {
        "colab": {
          "base_uri": "https://localhost:8080/"
        },
        "id": "6EDMANeAefSU",
        "outputId": "515698b5-e577-4930-b901-7c94d746905f"
      },
      "outputs": [],
      "source": [
        "a, b = input().strip().split()\n",
        "print(a * int(b))"
      ]
    },
    {
      "cell_type": "markdown",
      "metadata": {},
      "source": [
        "## 대소문자 바꿔서 출력하기\n",
        "\n",
        "대소문자 바꿔서 출력하기\n",
        "영어 알파벳으로 이루어진 문자열 str이 주어집니다.\n",
        "각 알파벳을 대문자는 소문자로 소문자는 대문자로 변환해서 출력하는 코드를 작성해 보세요.\n",
        "입력: aBcDeFg"
      ]
    },
    {
      "cell_type": "code",
      "execution_count": null,
      "metadata": {
        "colab": {
          "base_uri": "https://localhost:8080/"
        },
        "id": "CJziTTzse7c0",
        "outputId": "43c8af0f-21d7-4626-9e42-7cf446d805f5"
      },
      "outputs": [],
      "source": [
        "str = input()\n",
        "print(str.swapcase())"
      ]
    },
    {
      "cell_type": "markdown",
      "metadata": {},
      "source": [
        "## 특수문자 출력하기\n",
        "\n",
        "특수문자 출력하기\n",
        "다음과 같이 출력하도록 코드를 작성해 주세요.\n",
        "출력예시: !@#$%^&*(\\'\"<>?:;\n"
      ]
    },
    {
      "cell_type": "code",
      "execution_count": null,
      "metadata": {
        "colab": {
          "base_uri": "https://localhost:8080/"
        },
        "id": "LG_Yb88me6Ua",
        "outputId": "8e843bda-da64-4667-f27e-893fb362fc31"
      },
      "outputs": [],
      "source": [
        "print(r'!@#$%^&*(\\'\"<>?:;')"
      ]
    },
    {
      "cell_type": "markdown",
      "metadata": {},
      "source": [
        "# Day2"
      ]
    },
    {
      "cell_type": "markdown",
      "metadata": {},
      "source": [
        "## 덧셈식 출력하기\n",
        "\n",
        "덧셈식 출력하기\n",
        "두 정수 a, b가 주어질 때 다음과 같은 형태의 계산식을 출력하는 코드를 작성해보세요.\n",
        "a + b = c\n",
        "입력:4 5"
      ]
    },
    {
      "cell_type": "code",
      "execution_count": null,
      "metadata": {
        "id": "IpUGdq56fw_6"
      },
      "outputs": [],
      "source": [
        "a, b = map(int, input().strip().split())\n",
        "print(f'{a} + {b} = {a + b}')"
      ]
    },
    {
      "cell_type": "markdown",
      "metadata": {},
      "source": [
        "## 문자열 붙여서 출력하기\n",
        "\n",
        "문자열 붙여서 출력하기\n",
        "두개의 문자열 str1, str2가 공백으로 구분되어 입력으로 주어집니다.\n",
        "입출력 예와 같이 str1과 str2을 이어서 출력하는 코드르 작성해 보세요.\n",
        "입력:apple pen  출력:applepen\n"
      ]
    },
    {
      "cell_type": "code",
      "execution_count": null,
      "metadata": {
        "colab": {
          "base_uri": "https://localhost:8080/"
        },
        "id": "yPndIIwigPji",
        "outputId": "18b4d4fe-6d76-4299-98f1-0c1a79c25184"
      },
      "outputs": [],
      "source": [
        "str1, str2 = input().strip().split()\n",
        "print(str1 + str2)"
      ]
    },
    {
      "cell_type": "markdown",
      "metadata": {},
      "source": [
        "## 문자열 돌리기\n",
        "\n",
        "문자열 str이 주어집니다.\n",
        "문자열을 시계방향으로 90도 돌려서 아래 입출력 예와 같이 출력하는 코드를 작성해 보세요.\n",
        "입력: abcde"
      ]
    },
    {
      "cell_type": "code",
      "execution_count": null,
      "metadata": {
        "colab": {
          "base_uri": "https://localhost:8080/"
        },
        "id": "vYSbgFUBd48o",
        "outputId": "9a567433-9a63-45d2-c4d8-5ecdf6a7a389"
      },
      "outputs": [],
      "source": [
        "# print('\\n'.join(input()))\n",
        "for i in input():\n",
        "    print (i)"
      ]
    },
    {
      "cell_type": "markdown",
      "metadata": {},
      "source": [
        "## 홀짝 구분하기\n",
        "\n",
        "홀짝 구분하기\n",
        "자연수 n이 입력으로 주어졌을 때 만약 n이 짝수이면 \"n is even\"을,\n",
        "홀수이면 \"n is odd\"를 출력하는 코드를 작성해 보세요."
      ]
    },
    {
      "cell_type": "code",
      "execution_count": null,
      "metadata": {
        "colab": {
          "base_uri": "https://localhost:8080/"
        },
        "id": "keZuJFN8iOnu",
        "outputId": "f0e14bca-d0ee-4050-f169-304087acf002"
      },
      "outputs": [],
      "source": [
        "n = int(input())\n",
        "if n % 2 == 0:\n",
        "    print(f'{n} is even')\n",
        "else:\n",
        "    print(f'{n} is odd')"
      ]
    },
    {
      "cell_type": "markdown",
      "metadata": {},
      "source": [
        "## 문자열 곂쳐쓰기\n",
        "\n",
        "문자열 곂쳐쓰기\n",
        "문자열 my_string, overwrite_string과 정수 s가 주어집니다.\n",
        "문자열 my_string의 인덱스 s부터 overwrite_string의 길이만큼을\n",
        "문자열 overwrite_string으로 바꾼 문자열을 return 하는 solution 함수를 작성해 주세요.\n",
        "\n",
        "my_string\toverwrite_string\ts\tresult\n",
        "\"He11oWor1d\"\t\"lloWorl\"\t    2\t\"HelloWorld\""
      ]
    },
    {
      "cell_type": "code",
      "execution_count": null,
      "metadata": {
        "id": "kh7VkIfCjdAl"
      },
      "outputs": [],
      "source": [
        "def solution(my_string, overwrite_string, s):\n",
        "    answer = list(my_string)\n",
        "    answer[s:s + len(overwrite_string)] = overwrite_string\n",
        "    answer = ''.join(answer)\n",
        "    return answer\n",
        "\n",
        "solution(\"He11oWor1d\", \"lloWorl\", 2)"
      ]
    },
    {
      "cell_type": "markdown",
      "metadata": {},
      "source": [
        "# Day3"
      ]
    },
    {
      "cell_type": "markdown",
      "metadata": {},
      "source": [
        "## 문자열 섞기\n",
        "\n",
        "길이가 같은 두 문자열 str1과 str2가 주어집니다.\n",
        "두 문자열의 각 문자가 앞에서부터 서로 번갈아가면서 한 번씩 등장하는 문자열을 만들어 \n",
        "return 하는 solution 함수를 완성해 주세요\n"
      ]
    },
    {
      "cell_type": "code",
      "execution_count": null,
      "metadata": {},
      "outputs": [],
      "source": [
        "def solution(str1, str2):\n",
        "    str1 = str(str1)\n",
        "    str2 = str(str2)\n",
        "    str3 = []\n",
        "    for i in range(len(str1)):\n",
        "        str3.append(str1[i])\n",
        "        str3.append(str2[i])\n",
        "    str3 = ''.join(str3)\n",
        "    return str3\n",
        "\n",
        "solution('12345', 'abcde')"
      ]
    },
    {
      "cell_type": "markdown",
      "metadata": {},
      "source": [
        "## 문자 리스트를 문자열로 변환하기\n",
        "\n",
        "문자들이 담겨있는 배열 arr가 주어집니다. \n",
        "arr의 원소들을 순서대로 이어 붙인 문자열을 return 하는 solution함수를 작성해 주세요."
      ]
    },
    {
      "cell_type": "code",
      "execution_count": null,
      "metadata": {},
      "outputs": [],
      "source": [
        "def solution(arr):\n",
        "    return ''.join(arr)\n",
        "\n",
        "solution([\"a\",\"b\",\"c\"])"
      ]
    },
    {
      "cell_type": "markdown",
      "metadata": {},
      "source": [
        "## 문자열 곱하기\n",
        "\n",
        "문자열 my_string과 정수 k가 주어질 때, my_string을 k번 반복한 문자열을 \n",
        "return 하는 solution 함수를 작성해 주세요."
      ]
    },
    {
      "cell_type": "code",
      "execution_count": null,
      "metadata": {},
      "outputs": [],
      "source": [
        "def solution(my_string, k):\n",
        "    return my_string * k\n",
        "\n",
        "solution('abc', 3)\n",
        "\n",
        "sol = lambda my_string, k: ''.join([my_string * k]) #이런 방법도 있네"
      ]
    },
    {
      "cell_type": "markdown",
      "metadata": {},
      "source": [
        "## 더 크게 합치기\n",
        "\n",
        "#연산 ⊕는 두 정수에 대한 연산으로 두 정수를 붙여서 쓴 값을 반환합니다. 예를 들면 다음과 같습니다.\n",
        "12 ⊕ 3 = 123\n",
        "3 ⊕ 12 = 312\n",
        "양의 정수 a와 b가 주어졌을 때, a ⊕ b와 b ⊕ a 중 더 큰 값을 \n",
        "return 하는 solution 함수를 완성해 주세요.\n",
        "(단, a ⊕ b와 b ⊕ a가 같다면 a ⊕ b를 return 합니다.)\n"
      ]
    },
    {
      "cell_type": "code",
      "execution_count": null,
      "metadata": {},
      "outputs": [],
      "source": [
        "def solution(a, b):\n",
        "    c = str(a) + str(b)\n",
        "    d = str(b) + str(a)\n",
        "    answer = max(list([int(c), int(d)])) \n",
        "    return answer\n",
        "\n",
        "solution(91, 9)"
      ]
    },
    {
      "cell_type": "markdown",
      "metadata": {},
      "source": [
        "## 두 수의 연간값 비교하기\n",
        "\n",
        "연산 ⊕는 두 정수에 대한 연산으로 두 정수를 붙여서 쓴 값을 반환합니다. 예를 들면 다음과 같습니다.\n",
        "12 ⊕ 3 = 123\n",
        "3 ⊕ 12 = 312\n",
        "양의 정수 a와 b가 주어졌을 때, a ⊕ b와 2 * a * b 중 더 큰 값을 return하는 solution 함수를 완성해 주세요.\n",
        "단, a ⊕ b와 2 * a * b가 같으면 a ⊕ b를 return 합니다"
      ]
    },
    {
      "cell_type": "code",
      "execution_count": null,
      "metadata": {},
      "outputs": [],
      "source": [
        "def solution(a, b):\n",
        "    answer = max([2*a*b,int(str(a)+str(b))])\n",
        "    return answer\n",
        "\n",
        "solution(3, 9)"
      ]
    },
    {
      "cell_type": "markdown",
      "metadata": {},
      "source": [
        "# Day4"
      ]
    },
    {
      "cell_type": "markdown",
      "metadata": {},
      "source": [
        "## n의 배수 \n",
        "정수 num과 n이 매개 변수로 주어질 때, num이 n의 배수이면 1을 return n의 배수가 아니라면 0을 return하도록 solution 함수를 완성해주세요."
      ]
    },
    {
      "cell_type": "code",
      "execution_count": null,
      "metadata": {},
      "outputs": [],
      "source": [
        "def solution(num, n):\n",
        "    if num % n == 0:\n",
        "        return 1\n",
        "    else:\n",
        "        return 0"
      ]
    },
    {
      "cell_type": "markdown",
      "metadata": {},
      "source": [
        "## 공배수\n",
        "정수 number와 n, m이 주어집니다. number가 n의 배수이면서 m의 배수이면 1을 아니라면 0을 return하도록 solution 함수를 완성해주세요."
      ]
    },
    {
      "cell_type": "code",
      "execution_count": null,
      "metadata": {},
      "outputs": [],
      "source": [
        "def solution(number, n, m):\n",
        "    return int((number % n ==0) & (number % m == 0))"
      ]
    },
    {
      "cell_type": "markdown",
      "metadata": {},
      "source": [
        "## 홀짝에 따라 다른 값 반환하기\n",
        "양의 정수 n이 매개변수로 주어질 때, n이 홀수라면 n 이하의 홀수인 모든 양의 정수의 합을 return 하고 n이 짝수라면 n 이하의 짝수인 모든 양의 정수의 제곱의 합을 return 하는 solution 함수를 작성해 주세요."
      ]
    },
    {
      "cell_type": "code",
      "execution_count": null,
      "metadata": {},
      "outputs": [],
      "source": [
        "def solution(n):\n",
        "    if n % 2 == 1:\n",
        "        return sum(range(1, n+1, 2))\n",
        "    elif n % 2 == 0:\n",
        "        return sum(map(lambda x: x**2, range(0, n+1, 2)))\n",
        "        \n",
        "solution(10)"
      ]
    },
    {
      "cell_type": "markdown",
      "metadata": {},
      "source": [
        "## 조건 문자열\n",
        "문자열에 따라 다음과 같이 두 수의 크기를 비교하려고 합니다.\n",
        "\n",
        "두 수가 n과 m이라면\n",
        "\">\", \"=\" : n >= m\n",
        "\"<\", \"=\" : n <= m\n",
        "\">\", \"!\" : n > m\n",
        "\"<\", \"!\" : n < m\n",
        "두 문자열 ineq와 eq가 주어집니다. ineq는 \"<\"와 \">\"중 하나고, eq는 \"=\"와 \"!\"중 하나입니다. 그리고 두 정수 n과 m이 주어질 때, n과 m이 ineq와 eq의 조건에 맞으면 1을 아니면 0을 return하도록 solution 함수를 완성해주세요"
      ]
    },
    {
      "cell_type": "code",
      "execution_count": null,
      "metadata": {},
      "outputs": [],
      "source": [
        "#아니 이건 좀.... ㅋㅋㅋㅋ\n",
        "def solution(ineq, eq, n, m):\n",
        "    sol1 = ''\n",
        "    sol2 = ''\n",
        "    if '>' in ineq:\n",
        "        sol1 = 'left'\n",
        "    else:\n",
        "        sol1 = 'right'\n",
        "    if '=' in eq:\n",
        "        sol2 = 'equal'\n",
        "    else:\n",
        "        sol2 = 'x'\n",
        "    \n",
        "    caseA = int(n >= m)\n",
        "    caseB = int(n <= m)\n",
        "    caseC = int(n > m)\n",
        "    caseD = int(n < m)\n",
        "\n",
        "    if 'left' in sol1:\n",
        "        if 'equal' in sol2:\n",
        "            return caseA\n",
        "        else:\n",
        "            return caseC\n",
        "    elif 'right' in sol1:\n",
        "        if 'equal' in sol2:\n",
        "            return caseB\n",
        "        else:\n",
        "            return caseD\n",
        "    else:\n",
        "        pass\n",
        "\n",
        "\n",
        "solution(\">\", \"!\", 41, 70)\n"
      ]
    },
    {
      "cell_type": "markdown",
      "metadata": {},
      "source": [
        "## flag에 따라 다른 값 반환하기\n",
        "두 정수 a, b와 boolean 변수 flag가 매개변수로 주어질 때, flag가 true면 a + b를 false면 a - b를 return 하는 solution 함수를 작성해 주세요."
      ]
    },
    {
      "cell_type": "code",
      "execution_count": null,
      "metadata": {},
      "outputs": [],
      "source": [
        "def solution(a, b, flag):\n",
        "    if flag == True:\n",
        "        return a + b\n",
        "    else:\n",
        "        return a - b"
      ]
    },
    {
      "cell_type": "markdown",
      "metadata": {},
      "source": [
        "# Day5"
      ]
    },
    {
      "cell_type": "markdown",
      "metadata": {},
      "source": [
        "## 코드 처리하기\n",
        "문자열 code가 주어집니다.\n",
        "code를 앞에서부터 읽으면서 만약 문자가 \"1\"이면 mode를 바꿉니다. mode에 따라 code를 읽어가면서 문자열 ret을 만들어냅니다.\n",
        "\n",
        "mode는 0과 1이 있으며, idx를 0 부터 code의 길이 - 1 까지 1씩 키워나가면서 code[idx]의 값에 따라 다음과 같이 행동합니다.\n",
        "\n",
        "mode가 0일 때\n",
        "code[idx]가 \"1\"이 아니면 idx가 짝수일 때만 ret의 맨 뒤에 code[idx]를 추가합니다.\n",
        "code[idx]가 \"1\"이면 mode를 0에서 1로 바꿉니다.\n",
        "mode가 1일 때\n",
        "code[idx]가 \"1\"이 아니면 idx가 홀수일 때만 ret의 맨 뒤에 code[idx]를 추가합니다.\n",
        "code[idx]가 \"1\"이면 mode를 1에서 0으로 바꿉니다.\n",
        "문자열 code를 통해 만들어진 문자열 ret를 return 하는 solution 함수를 완성해 주세요.\n",
        "\n",
        "단, 시작할 때 mode는 0이며, return 하려는 ret가 만약 빈 문자열이라면 대신 \"EMPTY\"를 return 합니다."
      ]
    },
    {
      "cell_type": "code",
      "execution_count": null,
      "metadata": {},
      "outputs": [],
      "source": [
        "def solution(code):\n",
        "    mode = 0\n",
        "    ret = ''\n",
        "    for i in range(len(code)):\n",
        "        if code[i] == '1':\n",
        "            if mode == 0:\n",
        "                mode = 1\n",
        "            else:\n",
        "                mode = 0\n",
        "        \n",
        "        if i % 2 == 0 and mode == 0 and '1' not in code[i]:\n",
        "            ret += code[i]\n",
        "        elif i % 2 == 1 and mode == 1 and '1' not in code[i]:\n",
        "            ret += code[i]\n",
        "    if ret == '':\n",
        "        ret = 'EMPTY'\n",
        "    return ret\n",
        "\n",
        "solution(\"\")"
      ]
    },
    {
      "cell_type": "markdown",
      "metadata": {},
      "source": [
        "## 등차수열의 특정한 항만 더하기\n",
        "두 정수 a, d와 길이가 n인 boolean 배열 included가 주어집니다. \n",
        "첫째항이 a, 공차가 d인 등차수열에서 included[i]가 i + 1항을 의미할 때, \n",
        "이 등차수열의 1항부터 n항까지 included가 true인 항들만 더한 값을 \n",
        "return 하는 solution 함수를 작성해 주세요.\n",
        "![Alt text](image-1.png)"
      ]
    },
    {
      "cell_type": "code",
      "execution_count": null,
      "metadata": {},
      "outputs": [],
      "source": [
        "def solution(a, b ,included):\n",
        "    result = 0\n",
        "    include = []\n",
        "    for i in included:\n",
        "        include.append(i)\n",
        "    \n",
        "    for i in range(len(included)):\n",
        "        if included[i] == True:\n",
        "            result += a + (b * i) \n",
        "    \n",
        "    return result\n",
        "\n",
        "solution(7,1, [False, False, False, True, False, False, False])"
      ]
    },
    {
      "cell_type": "markdown",
      "metadata": {},
      "source": [
        "## 주사위 게임 2\n",
        "1부터 6까지 숫자가 적힌 주사위가 세 개 있습니다. 세 주사위를 굴렸을 때 나온 숫자를 각각 a, b, c라고 했을 때 얻는 점수는 다음과 같습니다.\n",
        "\n",
        "세 숫자가 모두 다르다면 a + b + c 점을 얻습니다.\n",
        "세 숫자 중 어느 두 숫자는 같고 나머지 다른 숫자는 다르다면 (a + b + c) × (a2 + b2 + c2 )점을 얻습니다.\n",
        "세 숫자가 모두 같다면 (a + b + c) × (a2 + b2 + c2 ) × (a3 + b3 + c3 )점을 얻습니다.\n",
        "세 정수 a, b, c가 매개변수로 주어질 때, 얻는 점수를 return 하는 solution 함수를 작성해 주세요."
      ]
    },
    {
      "cell_type": "code",
      "execution_count": null,
      "metadata": {},
      "outputs": [],
      "source": [
        "def solution(a, b, c):\n",
        "    sum1 = a + b + c\n",
        "    sum2 = a**2 + b**2 + c**2\n",
        "    sum3 = a**3 + b**3 + c**3\n",
        "    if a == b and b == c:\n",
        "        return sum1 * sum2 * sum3\n",
        "    if (a == b or a == c or b == c):\n",
        "        return sum1 * sum2\n",
        "    else:\n",
        "        return sum1\n",
        "    \n",
        "solution(3, 3, 3)"
      ]
    },
    {
      "cell_type": "markdown",
      "metadata": {},
      "source": [
        "## 원소들의 곱과 합\n",
        "정수가 담긴 리스트 num_list가 주어질 때, 모든 원소들의 곱이 모든 원소들의 합의 제곱보다 작으면 1을 크면 0을 return하도록 solution 함수를 완성해주세요."
      ]
    },
    {
      "cell_type": "code",
      "execution_count": null,
      "metadata": {},
      "outputs": [],
      "source": [
        "def solution(num_list):\n",
        "    mul = num_list[0]\n",
        "    square = 0\n",
        "    for value in num_list:\n",
        "        for i in range(len(num_list)):\n",
        "            if i > 0:\n",
        "                mul = mul * num_list[i]\n",
        "        break\n",
        "        \n",
        "    for val in num_list:\n",
        "        square += val\n",
        "    square = square**2\n",
        "\n",
        "    if mul < square:\n",
        "        return 1\n",
        "    else:\n",
        "        return 0\n",
        "    \n",
        "solution([3, 4, 5, 2, 1])"
      ]
    },
    {
      "cell_type": "markdown",
      "metadata": {},
      "source": [
        "## 이어 붙인 수\n",
        "정수가 담긴 리스트 num_list가 주어집니다. num_list의 홀수만 순서대로 이어 붙인 수와 짝수만 순서대로 이어 붙인 수의 합을 return하도록 solution 함수를 완성해주세요."
      ]
    },
    {
      "cell_type": "code",
      "execution_count": null,
      "metadata": {},
      "outputs": [],
      "source": [
        "def solution(num_list):\n",
        "    oddlist = int(''.join(map(str, list(filter(lambda x:x % 2 == 1, list(map(int, num_list)))))))\n",
        "    evenlist = int(''.join(map( str, list(filter(lambda x:x % 2 == 0, list(map(int, num_list)))))))\n",
        "    return oddlist + evenlist\n",
        "\n",
        "solution([3, 4, 5, 2, 1])"
      ]
    },
    {
      "cell_type": "markdown",
      "metadata": {},
      "source": [
        "# Day6"
      ]
    },
    {
      "cell_type": "markdown",
      "metadata": {},
      "source": [
        "## 마지막 두 원소\n",
        "정수 리스트 num_list가 주어질 때, 마지막 원소가 그전 원소보다 크면 마지막 원소에서 그전 원소를 뺀 값을 마지막 원소가 그전 원소보다 크지 않다면 마지막 원소를 두 배한 값을 추가하여 return하도록 solution 함수를 완성해주세요."
      ]
    },
    {
      "cell_type": "code",
      "execution_count": null,
      "metadata": {},
      "outputs": [],
      "source": [
        "def solution(num_list):\n",
        "    result = num_list\n",
        "    if num_list[-1] > num_list[-2]:\n",
        "        result.append(num_list[-1] - num_list[-2])\n",
        "        return result\n",
        "    if num_list[-1] <= num_list[-2]:\n",
        "        result.append(num_list[-1] * 2)\n",
        "        return result\n",
        "\n",
        "solution([2, 1, 3, 4, 5, 6, 7, 8, 11, 10])"
      ]
    },
    {
      "cell_type": "markdown",
      "metadata": {},
      "source": [
        "## 수 조작하기1\n",
        "정수 n과 문자열 control이 주어집니다. control은 \"w\", \"a\", \"s\", \"d\"의 4개의 문자로 이루어져 있으며, control의 앞에서부터 순서대로 문자에 따라 n의 값을 바꿉니다.\n",
        "\n",
        "\"w\" : n이 1 커집니다.\n",
        "\"s\" : n이 1 작아집니다.\n",
        "\"d\" : n이 10 커집니다.\n",
        "\"a\" : n이 10 작아집니다.\n",
        "위 규칙에 따라 n을 바꿨을 때 가장 마지막에 나오는 n의 값을 return 하는 solution 함수를 완성해 주세요."
      ]
    },
    {
      "cell_type": "code",
      "execution_count": null,
      "metadata": {},
      "outputs": [],
      "source": [
        "def solution(n, control):\n",
        "    for i in control:\n",
        "        if 'w' in i:\n",
        "            n += 1\n",
        "        if 's' in i:\n",
        "            n -= 1\n",
        "        if 'd' in i:\n",
        "            n += 10\n",
        "        if 'a' in i:\n",
        "            n -= 10\n",
        "    return n\n",
        "\n",
        "solution(0, \"wsdawsdassw\")"
      ]
    },
    {
      "cell_type": "markdown",
      "metadata": {},
      "source": [
        "## 수 조작하기2\n",
        "정수 배열 numLog가 주어집니다. 처음에 numLog[0]에서 부터 시작해 \"w\", \"a\", \"s\", \"d\"로 이루어진 문자열을 입력으로 받아 순서대로 다음과 같은 조작을 했다고 합시다.\n",
        "\n",
        "\"w\" : 수에 1을 더한다.\n",
        "\"s\" : 수에 1을 뺀다.\n",
        "\"d\" : 수에 10을 더한다.\n",
        "\"a\" : 수에 10을 뺀다.\n",
        "그리고 매번 조작을 할 때마다 결괏값을 기록한 정수 배열이 numLog입니다. 즉, numLog[i]는 numLog[0]로부터 총 i번의 조작을 가한 결과가 저장되어 있습니다.\n",
        "\n",
        "주어진 정수 배열 numLog에 대해 조작을 위해 입력받은 문자열을 return 하는 solution 함수를 완성해 주세요."
      ]
    },
    {
      "cell_type": "code",
      "execution_count": null,
      "metadata": {},
      "outputs": [],
      "source": [
        "# 개인적으로 마음에 안드는 솔루션\n",
        "def solution(numLog):\n",
        "    result = ''\n",
        "    for i in range(len(numLog)-1):\n",
        "        if numLog[i+1] - numLog[i] == 1:\n",
        "            result += 'w'\n",
        "        if numLog[i+1] - numLog[i] == -1:\n",
        "            result += 's'\n",
        "        if numLog[i+1] - numLog[i] == 10:\n",
        "            result += 'd'\n",
        "        if numLog[i+1] - numLog[i] == -10:\n",
        "            result += 'a'\n",
        "    return result\n",
        "\n",
        "solution([0, 1, 0, 10, 0, 1, 0, 10, 0, -1, -2, -1])"
      ]
    },
    {
      "cell_type": "code",
      "execution_count": null,
      "metadata": {},
      "outputs": [],
      "source": [
        "# 수정버전\n",
        "def solution(numLog):\n",
        "    keyboard = dict(zip([1, -1, 10, -10], ['w', 's', 'd', 'a']))\n",
        "    print(keyboard)\n",
        "    result = ''\n",
        "    for num in numLog:\n",
        "        result += str(keyboard.get(num, 0))\n",
        "        print(keyboard.get(num))\n",
        "    return result\n",
        "solution([0, 1, 0, 10, 0, 1, 0, 10, 0, -1, -2, -1])\n"
      ]
    },
    {
      "cell_type": "markdown",
      "metadata": {},
      "source": [
        "## 수열과 구간쿼리 3\n",
        "정수 배열 arr와 2차원 정수 배열 queries이 주어집니다. queries의 원소는 각각 하나의 query를 나타내며, [i, j] 꼴입니다.\n",
        "\n",
        "각 query마다 순서대로 arr[i]의 값과 arr[j]의 값을 서로 바꿉니다.\n",
        "\n",
        "위 규칙에 따라 queries를 처리한 이후의 arr를 return 하는 solution 함수를 완성해 주세요."
      ]
    },
    {
      "cell_type": "code",
      "execution_count": 2,
      "metadata": {},
      "outputs": [
        {
          "name": "stdout",
          "output_type": "stream",
          "text": [
            "[3, 4, 1, 0, 2]\n"
          ]
        }
      ],
      "source": [
        "def solution(arr, queries):\n",
        "    for i, j in queries:\n",
        "        arr[i], arr[j] = arr[j], arr[i]\n",
        "    return arr\n",
        "\n",
        "print(solution([0, 1, 2, 3, 4], [[0, 3],[1, 2],[1, 4]]))"
      ]
    },
    {
      "cell_type": "markdown",
      "metadata": {},
      "source": [
        "## 수열과 구간쿼리 2\n",
        "정수 배열 arr와 2차원 정수 배열 queries이 주어집니다. queries의 원소는 각각 하나의 query를 나타내며, [s, e, k] 꼴입니다.\n",
        "\n",
        "각 query마다 순서대로 s ≤ i ≤ e인 모든 i에 대해 k보다 크면서 가장 작은 arr[i]를 찾습니다.\n",
        "\n",
        "각 쿼리의 순서에 맞게 답을 저장한 배열을 반환하는 solution 함수를 완성해 주세요.\n",
        "단, 특정 쿼리의 답이 존재하지 않으면 -1을 저장합니다.\n"
      ]
    },
    {
      "cell_type": "code",
      "execution_count": 22,
      "metadata": {},
      "outputs": [
        {
          "data": {
            "text/plain": [
              "[3, 4, -1]"
            ]
          },
          "execution_count": 22,
          "metadata": {},
          "output_type": "execute_result"
        }
      ],
      "source": [
        "def solution(arr, queries):\n",
        "    result = []\n",
        "    for s, e, k in queries:\n",
        "        arr_1 = arr[s:e+1]\n",
        "        arr_2 = [i for i in arr_1 if i > k]\n",
        "        try:\n",
        "            result.append(min(arr_2))\n",
        "        except:\n",
        "            result.append(-1)\n",
        "    return result\n",
        "\n",
        "solution([0, 1, 2, 4, 3], [[0, 4, 2],[0, 3, 2], [0, 2, 2]])\n",
        "\n"
      ]
    },
    {
      "cell_type": "markdown",
      "metadata": {},
      "source": [
        "# Day7 "
      ]
    },
    {
      "cell_type": "markdown",
      "metadata": {},
      "source": [
        "## 수열과 구간 쿼리4\n",
        "정수 배열 arr와 2차원 정수 배열 queries이 주어집니다. queries의 원소는 각각 하나의 query를 나타내며, [s, e, k] 꼴입니다.\n",
        "\n",
        "각 query마다 순서대로 s ≤ i ≤ e인 모든 i에 대해 i가 k의 배수이면 arr[i]에 1을 더합니다.\n",
        "\n",
        "위 규칙에 따라 queries를 처리한 이후의 arr를 return 하는 solution 함수를 완성해 주세요."
      ]
    },
    {
      "cell_type": "code",
      "execution_count": null,
      "metadata": {},
      "outputs": [],
      "source": [
        "def solution(arr, queries):\n",
        "    answer = []\n",
        "    return answer"
      ]
    }
  ],
  "metadata": {
    "colab": {
      "provenance": []
    },
    "kernelspec": {
      "display_name": "Python 3",
      "name": "python3"
    },
    "language_info": {
      "codemirror_mode": {
        "name": "ipython",
        "version": 3
      },
      "file_extension": ".py",
      "mimetype": "text/x-python",
      "name": "python",
      "nbconvert_exporter": "python",
      "pygments_lexer": "ipython3",
      "version": "3.11.4"
    }
  },
  "nbformat": 4,
  "nbformat_minor": 0
}
