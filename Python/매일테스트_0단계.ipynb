{
  "cells": [
    {
      "cell_type": "markdown",
      "metadata": {},
      "source": [
        "# Day1"
      ]
    },
    {
      "cell_type": "markdown",
      "metadata": {},
      "source": [
        "## a와 b 출력하기\n",
        "\n",
        "a와 b 출력하기\n",
        "정수 a와 b가 주어집니다.\n",
        "각 수를 입력받아 입출력 예와 같은 형식으로 출력하는 코드를 작성해 보세요.\n",
        "입력: 4 5"
      ]
    },
    {
      "cell_type": "code",
      "execution_count": null,
      "metadata": {
        "id": "x7pawmG_eLd_"
      },
      "outputs": [],
      "source": [
        "a , b = map(int, input().strip().split())\n",
        "print(f'a = {a}')\n",
        "print(f'b = {b}')"
      ]
    },
    {
      "cell_type": "markdown",
      "metadata": {},
      "source": [
        "## 문자열 반복해서 출력하기\n",
        "\n",
        "문자열 반복해서 출력하기\n",
        "문자열 str과 정수 n이 주어집니다.\n",
        "str이 n번 반복된 문자열을 만들어 출력하는 코드를 작성해 보세요.\n",
        "입력: string 5"
      ]
    },
    {
      "cell_type": "code",
      "execution_count": null,
      "metadata": {
        "colab": {
          "base_uri": "https://localhost:8080/"
        },
        "id": "6EDMANeAefSU",
        "outputId": "515698b5-e577-4930-b901-7c94d746905f"
      },
      "outputs": [],
      "source": [
        "a, b = input().strip().split()\n",
        "print(a * int(b))"
      ]
    },
    {
      "cell_type": "markdown",
      "metadata": {},
      "source": [
        "## 대소문자 바꿔서 출력하기\n",
        "\n",
        "대소문자 바꿔서 출력하기\n",
        "영어 알파벳으로 이루어진 문자열 str이 주어집니다.\n",
        "각 알파벳을 대문자는 소문자로 소문자는 대문자로 변환해서 출력하는 코드를 작성해 보세요.\n",
        "입력: aBcDeFg"
      ]
    },
    {
      "cell_type": "code",
      "execution_count": null,
      "metadata": {
        "colab": {
          "base_uri": "https://localhost:8080/"
        },
        "id": "CJziTTzse7c0",
        "outputId": "43c8af0f-21d7-4626-9e42-7cf446d805f5"
      },
      "outputs": [],
      "source": [
        "str = input()\n",
        "print(str.swapcase())"
      ]
    },
    {
      "cell_type": "markdown",
      "metadata": {},
      "source": [
        "## 특수문자 출력하기\n",
        "\n",
        "특수문자 출력하기\n",
        "다음과 같이 출력하도록 코드를 작성해 주세요.\n",
        "출력예시: !@#$%^&*(\\'\"<>?:;\n"
      ]
    },
    {
      "cell_type": "code",
      "execution_count": null,
      "metadata": {
        "colab": {
          "base_uri": "https://localhost:8080/"
        },
        "id": "LG_Yb88me6Ua",
        "outputId": "8e843bda-da64-4667-f27e-893fb362fc31"
      },
      "outputs": [],
      "source": [
        "print(r'!@#$%^&*(\\'\"<>?:;')"
      ]
    },
    {
      "cell_type": "markdown",
      "metadata": {},
      "source": [
        "# Day2"
      ]
    },
    {
      "cell_type": "markdown",
      "metadata": {},
      "source": [
        "## 덧셈식 출력하기\n",
        "\n",
        "덧셈식 출력하기\n",
        "두 정수 a, b가 주어질 때 다음과 같은 형태의 계산식을 출력하는 코드를 작성해보세요.\n",
        "a + b = c\n",
        "입력:4 5"
      ]
    },
    {
      "cell_type": "code",
      "execution_count": null,
      "metadata": {
        "id": "IpUGdq56fw_6"
      },
      "outputs": [],
      "source": [
        "a, b = map(int, input().strip().split())\n",
        "print(f'{a} + {b} = {a + b}')"
      ]
    },
    {
      "cell_type": "markdown",
      "metadata": {},
      "source": [
        "## 문자열 붙여서 출력하기\n",
        "\n",
        "문자열 붙여서 출력하기\n",
        "두개의 문자열 str1, str2가 공백으로 구분되어 입력으로 주어집니다.\n",
        "입출력 예와 같이 str1과 str2을 이어서 출력하는 코드르 작성해 보세요.\n",
        "입력:apple pen  출력:applepen\n"
      ]
    },
    {
      "cell_type": "code",
      "execution_count": null,
      "metadata": {
        "colab": {
          "base_uri": "https://localhost:8080/"
        },
        "id": "yPndIIwigPji",
        "outputId": "18b4d4fe-6d76-4299-98f1-0c1a79c25184"
      },
      "outputs": [],
      "source": [
        "str1, str2 = input().strip().split()\n",
        "print(str1 + str2)"
      ]
    },
    {
      "cell_type": "markdown",
      "metadata": {},
      "source": [
        "## 문자열 돌리기\n",
        "\n",
        "문자열 str이 주어집니다.\n",
        "문자열을 시계방향으로 90도 돌려서 아래 입출력 예와 같이 출력하는 코드를 작성해 보세요.\n",
        "입력: abcde"
      ]
    },
    {
      "cell_type": "code",
      "execution_count": null,
      "metadata": {
        "colab": {
          "base_uri": "https://localhost:8080/"
        },
        "id": "vYSbgFUBd48o",
        "outputId": "9a567433-9a63-45d2-c4d8-5ecdf6a7a389"
      },
      "outputs": [],
      "source": [
        "# print('\\n'.join(input()))\n",
        "for i in input():\n",
        "    print (i)"
      ]
    },
    {
      "cell_type": "markdown",
      "metadata": {},
      "source": [
        "## 홀짝 구분하기\n",
        "\n",
        "홀짝 구분하기\n",
        "자연수 n이 입력으로 주어졌을 때 만약 n이 짝수이면 \"n is even\"을,\n",
        "홀수이면 \"n is odd\"를 출력하는 코드를 작성해 보세요."
      ]
    },
    {
      "cell_type": "code",
      "execution_count": null,
      "metadata": {
        "colab": {
          "base_uri": "https://localhost:8080/"
        },
        "id": "keZuJFN8iOnu",
        "outputId": "f0e14bca-d0ee-4050-f169-304087acf002"
      },
      "outputs": [],
      "source": [
        "n = int(input())\n",
        "if n % 2 == 0:\n",
        "    print(f'{n} is even')\n",
        "else:\n",
        "    print(f'{n} is odd')"
      ]
    },
    {
      "cell_type": "markdown",
      "metadata": {},
      "source": [
        "## 문자열 곂쳐쓰기\n",
        "\n",
        "문자열 곂쳐쓰기\n",
        "문자열 my_string, overwrite_string과 정수 s가 주어집니다.\n",
        "문자열 my_string의 인덱스 s부터 overwrite_string의 길이만큼을\n",
        "문자열 overwrite_string으로 바꾼 문자열을 return 하는 solution 함수를 작성해 주세요.\n",
        "\n",
        "my_string\toverwrite_string\ts\tresult\n",
        "\"He11oWor1d\"\t\"lloWorl\"\t    2\t\"HelloWorld\""
      ]
    },
    {
      "cell_type": "code",
      "execution_count": null,
      "metadata": {
        "id": "kh7VkIfCjdAl"
      },
      "outputs": [],
      "source": [
        "def solution(my_string, overwrite_string, s):\n",
        "    answer = list(my_string)\n",
        "    answer[s:s + len(overwrite_string)] = overwrite_string\n",
        "    answer = ''.join(answer)\n",
        "    return answer\n",
        "\n",
        "solution(\"He11oWor1d\", \"lloWorl\", 2)"
      ]
    },
    {
      "cell_type": "markdown",
      "metadata": {},
      "source": [
        "# Day3"
      ]
    },
    {
      "cell_type": "markdown",
      "metadata": {},
      "source": [
        "## 문자열 섞기\n",
        "\n",
        "길이가 같은 두 문자열 str1과 str2가 주어집니다.\n",
        "두 문자열의 각 문자가 앞에서부터 서로 번갈아가면서 한 번씩 등장하는 문자열을 만들어 \n",
        "return 하는 solution 함수를 완성해 주세요\n"
      ]
    },
    {
      "cell_type": "code",
      "execution_count": null,
      "metadata": {},
      "outputs": [],
      "source": [
        "def solution(str1, str2):\n",
        "    str1 = str(str1)\n",
        "    str2 = str(str2)\n",
        "    str3 = []\n",
        "    for i in range(len(str1)):\n",
        "        str3.append(str1[i])\n",
        "        str3.append(str2[i])\n",
        "    str3 = ''.join(str3)\n",
        "    return str3\n",
        "\n",
        "solution('12345', 'abcde')"
      ]
    },
    {
      "cell_type": "markdown",
      "metadata": {},
      "source": [
        "## 문자 리스트를 문자열로 변환하기\n",
        "\n",
        "문자들이 담겨있는 배열 arr가 주어집니다. \n",
        "arr의 원소들을 순서대로 이어 붙인 문자열을 return 하는 solution함수를 작성해 주세요."
      ]
    },
    {
      "cell_type": "code",
      "execution_count": null,
      "metadata": {},
      "outputs": [],
      "source": [
        "def solution(arr):\n",
        "    return ''.join(arr)\n",
        "\n",
        "solution([\"a\",\"b\",\"c\"])"
      ]
    },
    {
      "cell_type": "markdown",
      "metadata": {},
      "source": [
        "## 문자열 곱하기\n",
        "\n",
        "문자열 my_string과 정수 k가 주어질 때, my_string을 k번 반복한 문자열을 \n",
        "return 하는 solution 함수를 작성해 주세요."
      ]
    },
    {
      "cell_type": "code",
      "execution_count": null,
      "metadata": {},
      "outputs": [],
      "source": [
        "def solution(my_string, k):\n",
        "    return my_string * k\n",
        "\n",
        "solution('abc', 3)\n",
        "\n",
        "sol = lambda my_string, k: ''.join([my_string * k]) #이런 방법도 있네"
      ]
    },
    {
      "cell_type": "markdown",
      "metadata": {},
      "source": [
        "## 더 크게 합치기\n",
        "\n",
        "#연산 ⊕는 두 정수에 대한 연산으로 두 정수를 붙여서 쓴 값을 반환합니다. 예를 들면 다음과 같습니다.\n",
        "12 ⊕ 3 = 123\n",
        "3 ⊕ 12 = 312\n",
        "양의 정수 a와 b가 주어졌을 때, a ⊕ b와 b ⊕ a 중 더 큰 값을 \n",
        "return 하는 solution 함수를 완성해 주세요.\n",
        "(단, a ⊕ b와 b ⊕ a가 같다면 a ⊕ b를 return 합니다.)\n"
      ]
    },
    {
      "cell_type": "code",
      "execution_count": null,
      "metadata": {},
      "outputs": [],
      "source": [
        "def solution(a, b):\n",
        "    c = str(a) + str(b)\n",
        "    d = str(b) + str(a)\n",
        "    answer = max(list([int(c), int(d)])) \n",
        "    return answer\n",
        "\n",
        "solution(91, 9)"
      ]
    },
    {
      "cell_type": "markdown",
      "metadata": {},
      "source": [
        "## 두 수의 연간값 비교하기\n",
        "\n",
        "연산 ⊕는 두 정수에 대한 연산으로 두 정수를 붙여서 쓴 값을 반환합니다. 예를 들면 다음과 같습니다.\n",
        "12 ⊕ 3 = 123\n",
        "3 ⊕ 12 = 312\n",
        "양의 정수 a와 b가 주어졌을 때, a ⊕ b와 2 * a * b 중 더 큰 값을 return하는 solution 함수를 완성해 주세요.\n",
        "단, a ⊕ b와 2 * a * b가 같으면 a ⊕ b를 return 합니다"
      ]
    },
    {
      "cell_type": "code",
      "execution_count": null,
      "metadata": {},
      "outputs": [],
      "source": [
        "def solution(a, b):\n",
        "    answer = max([2*a*b,int(str(a)+str(b))])\n",
        "    return answer\n",
        "\n",
        "solution(3, 9)"
      ]
    },
    {
      "cell_type": "markdown",
      "metadata": {},
      "source": [
        "# Day4"
      ]
    },
    {
      "cell_type": "markdown",
      "metadata": {},
      "source": [
        "## n의 배수 \n",
        "정수 num과 n이 매개 변수로 주어질 때, num이 n의 배수이면 1을 return n의 배수가 아니라면 0을 return하도록 solution 함수를 완성해주세요."
      ]
    },
    {
      "cell_type": "code",
      "execution_count": null,
      "metadata": {},
      "outputs": [],
      "source": [
        "def solution(num, n):\n",
        "    if num % n == 0:\n",
        "        return 1\n",
        "    else:\n",
        "        return 0"
      ]
    },
    {
      "cell_type": "markdown",
      "metadata": {},
      "source": [
        "## 공배수\n",
        "정수 number와 n, m이 주어집니다. number가 n의 배수이면서 m의 배수이면 1을 아니라면 0을 return하도록 solution 함수를 완성해주세요."
      ]
    },
    {
      "cell_type": "code",
      "execution_count": null,
      "metadata": {},
      "outputs": [],
      "source": [
        "def solution(number, n, m):\n",
        "    return int((number % n ==0) & (number % m == 0))"
      ]
    },
    {
      "cell_type": "markdown",
      "metadata": {},
      "source": [
        "## 홀짝에 따라 다른 값 반환하기\n",
        "양의 정수 n이 매개변수로 주어질 때, n이 홀수라면 n 이하의 홀수인 모든 양의 정수의 합을 return 하고 n이 짝수라면 n 이하의 짝수인 모든 양의 정수의 제곱의 합을 return 하는 solution 함수를 작성해 주세요."
      ]
    },
    {
      "cell_type": "code",
      "execution_count": null,
      "metadata": {},
      "outputs": [],
      "source": [
        "def solution(n):\n",
        "    if n % 2 == 1:\n",
        "        return sum(range(1, n+1, 2))\n",
        "    elif n % 2 == 0:\n",
        "        return sum(map(lambda x: x**2, range(0, n+1, 2)))\n",
        "        \n",
        "solution(10)"
      ]
    },
    {
      "cell_type": "markdown",
      "metadata": {},
      "source": [
        "## 조건 문자열\n",
        "문자열에 따라 다음과 같이 두 수의 크기를 비교하려고 합니다.\n",
        "\n",
        "두 수가 n과 m이라면\n",
        "\">\", \"=\" : n >= m\n",
        "\"<\", \"=\" : n <= m\n",
        "\">\", \"!\" : n > m\n",
        "\"<\", \"!\" : n < m\n",
        "두 문자열 ineq와 eq가 주어집니다. ineq는 \"<\"와 \">\"중 하나고, eq는 \"=\"와 \"!\"중 하나입니다. 그리고 두 정수 n과 m이 주어질 때, n과 m이 ineq와 eq의 조건에 맞으면 1을 아니면 0을 return하도록 solution 함수를 완성해주세요"
      ]
    },
    {
      "cell_type": "code",
      "execution_count": null,
      "metadata": {},
      "outputs": [],
      "source": [
        "#아니 이건 좀.... ㅋㅋㅋㅋ\n",
        "def solution(ineq, eq, n, m):\n",
        "    sol1 = ''\n",
        "    sol2 = ''\n",
        "    if '>' in ineq:\n",
        "        sol1 = 'left'\n",
        "    else:\n",
        "        sol1 = 'right'\n",
        "    if '=' in eq:\n",
        "        sol2 = 'equal'\n",
        "    else:\n",
        "        sol2 = 'x'\n",
        "    \n",
        "    caseA = int(n >= m)\n",
        "    caseB = int(n <= m)\n",
        "    caseC = int(n > m)\n",
        "    caseD = int(n < m)\n",
        "\n",
        "    if 'left' in sol1:\n",
        "        if 'equal' in sol2:\n",
        "            return caseA\n",
        "        else:\n",
        "            return caseC\n",
        "    elif 'right' in sol1:\n",
        "        if 'equal' in sol2:\n",
        "            return caseB\n",
        "        else:\n",
        "            return caseD\n",
        "    else:\n",
        "        pass\n",
        "\n",
        "\n",
        "solution(\">\", \"!\", 41, 70)\n"
      ]
    },
    {
      "cell_type": "markdown",
      "metadata": {},
      "source": [
        "## flag에 따라 다른 값 반환하기\n",
        "두 정수 a, b와 boolean 변수 flag가 매개변수로 주어질 때, flag가 true면 a + b를 false면 a - b를 return 하는 solution 함수를 작성해 주세요."
      ]
    },
    {
      "cell_type": "code",
      "execution_count": null,
      "metadata": {},
      "outputs": [],
      "source": [
        "def solution(a, b, flag):\n",
        "    if flag == True:\n",
        "        return a + b\n",
        "    else:\n",
        "        return a - b"
      ]
    },
    {
      "cell_type": "markdown",
      "metadata": {},
      "source": [
        "# Day5"
      ]
    },
    {
      "cell_type": "markdown",
      "metadata": {},
      "source": [
        "## 코드 처리하기\n",
        "문자열 code가 주어집니다.\n",
        "code를 앞에서부터 읽으면서 만약 문자가 \"1\"이면 mode를 바꿉니다. mode에 따라 code를 읽어가면서 문자열 ret을 만들어냅니다.\n",
        "\n",
        "mode는 0과 1이 있으며, idx를 0 부터 code의 길이 - 1 까지 1씩 키워나가면서 code[idx]의 값에 따라 다음과 같이 행동합니다.\n",
        "\n",
        "mode가 0일 때\n",
        "code[idx]가 \"1\"이 아니면 idx가 짝수일 때만 ret의 맨 뒤에 code[idx]를 추가합니다.\n",
        "code[idx]가 \"1\"이면 mode를 0에서 1로 바꿉니다.\n",
        "mode가 1일 때\n",
        "code[idx]가 \"1\"이 아니면 idx가 홀수일 때만 ret의 맨 뒤에 code[idx]를 추가합니다.\n",
        "code[idx]가 \"1\"이면 mode를 1에서 0으로 바꿉니다.\n",
        "문자열 code를 통해 만들어진 문자열 ret를 return 하는 solution 함수를 완성해 주세요.\n",
        "\n",
        "단, 시작할 때 mode는 0이며, return 하려는 ret가 만약 빈 문자열이라면 대신 \"EMPTY\"를 return 합니다."
      ]
    },
    {
      "cell_type": "code",
      "execution_count": null,
      "metadata": {},
      "outputs": [],
      "source": [
        "def solution(code):\n",
        "    mode = 0\n",
        "    ret = ''\n",
        "    for i in range(len(code)):\n",
        "        if code[i] == '1':\n",
        "            if mode == 0:\n",
        "                mode = 1\n",
        "            else:\n",
        "                mode = 0\n",
        "        \n",
        "        if i % 2 == 0 and mode == 0 and '1' not in code[i]:\n",
        "            ret += code[i]\n",
        "        elif i % 2 == 1 and mode == 1 and '1' not in code[i]:\n",
        "            ret += code[i]\n",
        "    if ret == '':\n",
        "        ret = 'EMPTY'\n",
        "    return ret\n",
        "\n",
        "solution(\"\")"
      ]
    },
    {
      "cell_type": "markdown",
      "metadata": {},
      "source": [
        "## 등차수열의 특정한 항만 더하기\n",
        "두 정수 a, d와 길이가 n인 boolean 배열 included가 주어집니다. \n",
        "첫째항이 a, 공차가 d인 등차수열에서 included[i]가 i + 1항을 의미할 때, \n",
        "이 등차수열의 1항부터 n항까지 included가 true인 항들만 더한 값을 \n",
        "return 하는 solution 함수를 작성해 주세요.\n",
        "![Alt text](image-1.png)"
      ]
    },
    {
      "cell_type": "code",
      "execution_count": null,
      "metadata": {},
      "outputs": [],
      "source": [
        "def solution(a, b ,included):\n",
        "    result = 0\n",
        "    include = []\n",
        "    for i in included:\n",
        "        include.append(i)\n",
        "    \n",
        "    for i in range(len(included)):\n",
        "        if included[i] == True:\n",
        "            result += a + (b * i) \n",
        "    \n",
        "    return result\n",
        "\n",
        "solution(7,1, [False, False, False, True, False, False, False])"
      ]
    },
    {
      "cell_type": "markdown",
      "metadata": {},
      "source": [
        "## 주사위 게임 2\n",
        "1부터 6까지 숫자가 적힌 주사위가 세 개 있습니다. 세 주사위를 굴렸을 때 나온 숫자를 각각 a, b, c라고 했을 때 얻는 점수는 다음과 같습니다.\n",
        "\n",
        "세 숫자가 모두 다르다면 a + b + c 점을 얻습니다.\n",
        "세 숫자 중 어느 두 숫자는 같고 나머지 다른 숫자는 다르다면 (a + b + c) × (a2 + b2 + c2 )점을 얻습니다.\n",
        "세 숫자가 모두 같다면 (a + b + c) × (a2 + b2 + c2 ) × (a3 + b3 + c3 )점을 얻습니다.\n",
        "세 정수 a, b, c가 매개변수로 주어질 때, 얻는 점수를 return 하는 solution 함수를 작성해 주세요."
      ]
    },
    {
      "cell_type": "code",
      "execution_count": null,
      "metadata": {},
      "outputs": [],
      "source": [
        "def solution(a, b, c):\n",
        "    sum1 = a + b + c\n",
        "    sum2 = a**2 + b**2 + c**2\n",
        "    sum3 = a**3 + b**3 + c**3\n",
        "    if a == b and b == c:\n",
        "        return sum1 * sum2 * sum3\n",
        "    if (a == b or a == c or b == c):\n",
        "        return sum1 * sum2\n",
        "    else:\n",
        "        return sum1\n",
        "    \n",
        "solution(3, 3, 3)"
      ]
    },
    {
      "cell_type": "markdown",
      "metadata": {},
      "source": [
        "## 원소들의 곱과 합\n",
        "정수가 담긴 리스트 num_list가 주어질 때, 모든 원소들의 곱이 모든 원소들의 합의 제곱보다 작으면 1을 크면 0을 return하도록 solution 함수를 완성해주세요."
      ]
    },
    {
      "cell_type": "code",
      "execution_count": null,
      "metadata": {},
      "outputs": [],
      "source": [
        "def solution(num_list):\n",
        "    mul = num_list[0]\n",
        "    square = 0\n",
        "    for value in num_list:\n",
        "        for i in range(len(num_list)):\n",
        "            if i > 0:\n",
        "                mul = mul * num_list[i]\n",
        "        break\n",
        "        \n",
        "    for val in num_list:\n",
        "        square += val\n",
        "    square = square**2\n",
        "\n",
        "    if mul < square:\n",
        "        return 1\n",
        "    else:\n",
        "        return 0\n",
        "    \n",
        "solution([3, 4, 5, 2, 1])"
      ]
    },
    {
      "cell_type": "markdown",
      "metadata": {},
      "source": [
        "## 이어 붙인 수\n",
        "정수가 담긴 리스트 num_list가 주어집니다. num_list의 홀수만 순서대로 이어 붙인 수와 짝수만 순서대로 이어 붙인 수의 합을 return하도록 solution 함수를 완성해주세요."
      ]
    },
    {
      "cell_type": "code",
      "execution_count": null,
      "metadata": {},
      "outputs": [],
      "source": [
        "def solution(num_list):\n",
        "    oddlist = int(''.join(map(str, list(filter(lambda x:x % 2 == 1, list(map(int, num_list)))))))\n",
        "    evenlist = int(''.join(map( str, list(filter(lambda x:x % 2 == 0, list(map(int, num_list)))))))\n",
        "    return oddlist + evenlist\n",
        "\n",
        "solution([3, 4, 5, 2, 1])"
      ]
    },
    {
      "cell_type": "markdown",
      "metadata": {},
      "source": [
        "# Day6"
      ]
    },
    {
      "cell_type": "markdown",
      "metadata": {},
      "source": [
        "## 마지막 두 원소\n",
        "정수 리스트 num_list가 주어질 때, 마지막 원소가 그전 원소보다 크면 마지막 원소에서 그전 원소를 뺀 값을 마지막 원소가 그전 원소보다 크지 않다면 마지막 원소를 두 배한 값을 추가하여 return하도록 solution 함수를 완성해주세요."
      ]
    },
    {
      "cell_type": "code",
      "execution_count": null,
      "metadata": {},
      "outputs": [],
      "source": [
        "def solution(num_list):\n",
        "    result = num_list\n",
        "    if num_list[-1] > num_list[-2]:\n",
        "        result.append(num_list[-1] - num_list[-2])\n",
        "        return result\n",
        "    if num_list[-1] <= num_list[-2]:\n",
        "        result.append(num_list[-1] * 2)\n",
        "        return result\n",
        "\n",
        "solution([2, 1, 3, 4, 5, 6, 7, 8, 11, 10])"
      ]
    },
    {
      "cell_type": "markdown",
      "metadata": {},
      "source": [
        "## 수 조작하기1\n",
        "정수 n과 문자열 control이 주어집니다. control은 \"w\", \"a\", \"s\", \"d\"의 4개의 문자로 이루어져 있으며, control의 앞에서부터 순서대로 문자에 따라 n의 값을 바꿉니다.\n",
        "\n",
        "\"w\" : n이 1 커집니다.\n",
        "\"s\" : n이 1 작아집니다.\n",
        "\"d\" : n이 10 커집니다.\n",
        "\"a\" : n이 10 작아집니다.\n",
        "위 규칙에 따라 n을 바꿨을 때 가장 마지막에 나오는 n의 값을 return 하는 solution 함수를 완성해 주세요."
      ]
    },
    {
      "cell_type": "code",
      "execution_count": null,
      "metadata": {},
      "outputs": [],
      "source": [
        "def solution(n, control):\n",
        "    for i in control:\n",
        "        if 'w' in i:\n",
        "            n += 1\n",
        "        if 's' in i:\n",
        "            n -= 1\n",
        "        if 'd' in i:\n",
        "            n += 10\n",
        "        if 'a' in i:\n",
        "            n -= 10\n",
        "    return n\n",
        "\n",
        "solution(0, \"wsdawsdassw\")"
      ]
    },
    {
      "cell_type": "markdown",
      "metadata": {},
      "source": [
        "## 수 조작하기2\n",
        "정수 배열 numLog가 주어집니다. 처음에 numLog[0]에서 부터 시작해 \"w\", \"a\", \"s\", \"d\"로 이루어진 문자열을 입력으로 받아 순서대로 다음과 같은 조작을 했다고 합시다.\n",
        "\n",
        "\"w\" : 수에 1을 더한다.\n",
        "\"s\" : 수에 1을 뺀다.\n",
        "\"d\" : 수에 10을 더한다.\n",
        "\"a\" : 수에 10을 뺀다.\n",
        "그리고 매번 조작을 할 때마다 결괏값을 기록한 정수 배열이 numLog입니다. 즉, numLog[i]는 numLog[0]로부터 총 i번의 조작을 가한 결과가 저장되어 있습니다.\n",
        "\n",
        "주어진 정수 배열 numLog에 대해 조작을 위해 입력받은 문자열을 return 하는 solution 함수를 완성해 주세요."
      ]
    },
    {
      "cell_type": "code",
      "execution_count": null,
      "metadata": {},
      "outputs": [],
      "source": [
        "# 개인적으로 마음에 안드는 솔루션\n",
        "def solution(numLog):\n",
        "    result = ''\n",
        "    for i in range(len(numLog)-1):\n",
        "        if numLog[i+1] - numLog[i] == 1:\n",
        "            result += 'w'\n",
        "        if numLog[i+1] - numLog[i] == -1:\n",
        "            result += 's'\n",
        "        if numLog[i+1] - numLog[i] == 10:\n",
        "            result += 'd'\n",
        "        if numLog[i+1] - numLog[i] == -10:\n",
        "            result += 'a'\n",
        "    return result\n",
        "\n",
        "solution([0, 1, 0, 10, 0, 1, 0, 10, 0, -1, -2, -1])"
      ]
    },
    {
      "cell_type": "code",
      "execution_count": null,
      "metadata": {},
      "outputs": [],
      "source": [
        "# 수정버전\n",
        "def solution(numLog):\n",
        "    keyboard = dict(zip([1, -1, 10, -10], ['w', 's', 'd', 'a']))\n",
        "    print(keyboard)\n",
        "    result = ''\n",
        "    for num in numLog:\n",
        "        result += str(keyboard.get(num, 0))\n",
        "        print(keyboard.get(num))\n",
        "    return result\n",
        "solution([0, 1, 0, 10, 0, 1, 0, 10, 0, -1, -2, -1])\n"
      ]
    },
    {
      "cell_type": "markdown",
      "metadata": {},
      "source": [
        "## 수열과 구간쿼리 3\n",
        "정수 배열 arr와 2차원 정수 배열 queries이 주어집니다. queries의 원소는 각각 하나의 query를 나타내며, [i, j] 꼴입니다.\n",
        "\n",
        "각 query마다 순서대로 arr[i]의 값과 arr[j]의 값을 서로 바꿉니다.\n",
        "\n",
        "위 규칙에 따라 queries를 처리한 이후의 arr를 return 하는 solution 함수를 완성해 주세요."
      ]
    },
    {
      "cell_type": "code",
      "execution_count": null,
      "metadata": {},
      "outputs": [],
      "source": [
        "def solution(arr, queries):\n",
        "    for i, j in queries:\n",
        "        arr[i], arr[j] = arr[j], arr[i]\n",
        "    return arr\n",
        "\n",
        "print(solution([0, 1, 2, 3, 4], [[0, 3],[1, 2],[1, 4]]))"
      ]
    },
    {
      "cell_type": "markdown",
      "metadata": {},
      "source": [
        "## 수열과 구간쿼리 2\n",
        "정수 배열 arr와 2차원 정수 배열 queries이 주어집니다. queries의 원소는 각각 하나의 query를 나타내며, [s, e, k] 꼴입니다.\n",
        "\n",
        "각 query마다 순서대로 s ≤ i ≤ e인 모든 i에 대해 k보다 크면서 가장 작은 arr[i]를 찾습니다.\n",
        "\n",
        "각 쿼리의 순서에 맞게 답을 저장한 배열을 반환하는 solution 함수를 완성해 주세요.\n",
        "단, 특정 쿼리의 답이 존재하지 않으면 -1을 저장합니다.\n"
      ]
    },
    {
      "cell_type": "code",
      "execution_count": null,
      "metadata": {},
      "outputs": [],
      "source": [
        "def solution(arr, queries):\n",
        "    result = []\n",
        "    for s, e, k in queries:\n",
        "        arr_1 = arr[s:e+1]\n",
        "        arr_2 = [i for i in arr_1 if i > k]\n",
        "        try:\n",
        "            result.append(min(arr_2))\n",
        "        except:\n",
        "            result.append(-1)\n",
        "    return result\n",
        "\n",
        "solution([0, 1, 2, 4, 3], [[0, 4, 2],[0, 3, 2], [0, 2, 2]])\n",
        "\n"
      ]
    },
    {
      "cell_type": "markdown",
      "metadata": {},
      "source": [
        "# Day7 "
      ]
    },
    {
      "cell_type": "markdown",
      "metadata": {},
      "source": [
        "## 수열과 구간 쿼리4\n",
        "정수 배열 arr와 2차원 정수 배열 queries이 주어집니다. queries의 원소는 각각 하나의 query를 나타내며, [s, e, k] 꼴입니다.\n",
        "\n",
        "각 query마다 순서대로 s ≤ i ≤ e인 모든 i에 대해 i가 k의 배수이면 arr[i]에 1을 더합니다.\n",
        "\n",
        "위 규칙에 따라 queries를 처리한 이후의 arr를 return 하는 solution 함수를 완성해 주세요."
      ]
    },
    {
      "cell_type": "code",
      "execution_count": null,
      "metadata": {},
      "outputs": [],
      "source": [
        "def solution(arr, queries):\n",
        "    for s, e, k in queries:\n",
        "        for i in range(s, e+1):\n",
        "            if i % k == 0:\n",
        "                arr[i] += 1\n",
        "            \n",
        "    return arr\n",
        "\n",
        "\n",
        "solution([0, 1, 2, 4, 3], [[0, 4, 1],[0, 3, 2],[0, 3, 3]])"
      ]
    },
    {
      "cell_type": "markdown",
      "metadata": {},
      "source": [
        "## 배열 만들기 2\n",
        "정수 l과 r이 주어졌을 때, l 이상 r이하의 정수 중에서 숫자 \"0\"과 \"5\"로만 이루어진 모든 정수를 오름차순으로 저장한 배열을 return 하는 solution 함수를 완성해 주세요.\n",
        "\n",
        "만약 그러한 정수가 없다면, -1이 담긴 배열을 return 합니다."
      ]
    },
    {
      "cell_type": "code",
      "execution_count": null,
      "metadata": {},
      "outputs": [],
      "source": [
        "def solution(l, r):\n",
        "    result = []\n",
        "    for i in range(l, r + 1):\n",
        "        if set(str(i)) <= {\"0\", \"5\"}:\n",
        "            result.append(i)\n",
        "    if len(result) == 0:\n",
        "        result.append(-1)\n",
        "    return result\n",
        "\n",
        "solution(10, 40)"
      ]
    },
    {
      "cell_type": "markdown",
      "metadata": {},
      "source": [
        "## 카운트업\n",
        "정수 start_num와 end_num가 주어질 때, start_num부터 \n",
        "end_num까지의 숫자를 차례로 담은 리스트를 return하도록 solution 함수를 완성해주세요."
      ]
    },
    {
      "cell_type": "code",
      "execution_count": null,
      "metadata": {},
      "outputs": [],
      "source": [
        "def solution(start_num, end_num):\n",
        "    st, end = start_num, end_num\n",
        "    return [i for i in range(st, end+1)]\n",
        "\n",
        "solution(3, 10)"
      ]
    },
    {
      "cell_type": "markdown",
      "metadata": {},
      "source": [
        "## 콜라츠 수열 만들기\n",
        "모든 자연수 x에 대해서 현재 값이 x이면 x가 짝수일 때는 2로 나누고, x가 홀수일 때는 3 * x + 1로 바꾸는 계산을 계속해서 반복하면 언젠가는 반드시 x가 1이 되는지 묻는 문제를 콜라츠 문제라고 부릅니다.\n",
        "\n",
        "그리고 위 과정에서 거쳐간 모든 수를 기록한 수열을 콜라츠 수열이라고 부릅니다.\n",
        "\n",
        "계산 결과 1,000 보다 작거나 같은 수에 대해서는 전부 언젠가 1에 도달한다는 것이 알려져 있습니다.\n",
        "\n",
        "임의의 1,000 보다 작거나 같은 양의 정수 n이 주어질 때 초기값이 n인 콜라츠 수열을 return 하는 solution 함수를 완성해 주세요."
      ]
    },
    {
      "cell_type": "code",
      "execution_count": null,
      "metadata": {},
      "outputs": [],
      "source": [
        "def solution(x):\n",
        "    result = x\n",
        "    arr1 = [x]\n",
        "    while True:\n",
        "        if result == 1:\n",
        "            break\n",
        "        if result % 2 == 0:\n",
        "            result = result / 2\n",
        "            arr1.append(int(result))\n",
        "        if result == 1:\n",
        "            break\n",
        "        if result % 2 == 1:\n",
        "            result = result * 3 + 1\n",
        "            arr1.append(int(result))\n",
        "    return arr1\n",
        "    \n",
        "solution(586)"
      ]
    },
    {
      "cell_type": "markdown",
      "metadata": {},
      "source": [
        "## 배열 만들기 4\n",
        "정수 배열 arr가 주어집니다. arr를 이용해 새로운 배열 stk를 만드려고 합니다.\n",
        "\n",
        "변수 i를 만들어 초기값을 0으로 설정한 후 i가 arr의 길이보다 작으면 다음 작업을 반복합니다.\n",
        "\n",
        "만약 stk가 빈 배열이라면 arr[i]를 stk에 추가하고 i에 1을 더합니다.\n",
        "stk에 원소가 있고, stk의 마지막 원소가 arr[i]보다 작으면 arr[i]를 stk의 뒤에 추가하고 i에 1을 더합니다.\n",
        "stk에 원소가 있는데 stk의 마지막 원소가 arr[i]보다 크거나 같으면 stk의 마지막 원소를 stk에서 제거합니다.\n",
        "위 작업을 마친 후 만들어진 stk를 return 하는 solution 함수를 완성해 주세요."
      ]
    },
    {
      "cell_type": "code",
      "execution_count": null,
      "metadata": {},
      "outputs": [],
      "source": [
        "def solution(arr):\n",
        "    i = 0\n",
        "    stk = []\n",
        "    while i < len(arr):\n",
        "        if len(stk) == 0 or stk[-1] < arr[i]:\n",
        "            stk.append(arr[i])\n",
        "            i += 1\n",
        "        elif  stk[-1] >= arr[i]:\n",
        "            stk.pop()\n",
        "    \n",
        "    return stk\n",
        "\n",
        "solution([1,4,2,5,3])"
      ]
    },
    {
      "cell_type": "markdown",
      "metadata": {},
      "source": [
        "# Day8"
      ]
    },
    {
      "cell_type": "markdown",
      "metadata": {},
      "source": [
        "## 간단한 논리 연산\n",
        "boolean 변수 x1, x2, x3, x4가 매개변수로 주어질 때, 다음의 식의 true/false를 return 하는 solution 함수를 작성해 주세요.\n",
        "\n",
        "(x1 ∨ x2) ∧ (x3 ∨ x4)"
      ]
    },
    {
      "cell_type": "code",
      "execution_count": null,
      "metadata": {},
      "outputs": [],
      "source": [
        "def solution(x1, x2, x3, x4):\n",
        "    return (x1 or x2) and (x3 or x4)\n",
        "\n",
        "solution(True, False, False, False)"
      ]
    },
    {
      "cell_type": "markdown",
      "metadata": {},
      "source": [
        "## 주사위 게임3\n",
        "1부터 6까지 숫자가 적힌 주사위가 네 개 있습니다. 네 주사위를 굴렸을 때 나온 숫자에 따라 다음과 같은 점수를 얻습니다.\n",
        "\n",
        "네 주사위에서 나온 숫자가 모두 p로 같다면 1111 × p점을 얻습니다.\n",
        "세 주사위에서 나온 숫자가 p로 같고 나머지 다른 주사위에서 나온 숫자가 q(p ≠ q)라면 (10 × p + q)2 점을 얻습니다.\n",
        "주사위가 두 개씩 같은 값이 나오고, 나온 숫자를 각각 p, q(p ≠ q)라고 한다면 (p + q) × |p - q|점을 얻습니다.\n",
        "어느 두 주사위에서 나온 숫자가 p로 같고 나머지 두 주사위에서 나온 숫자가 각각 p와 다른 q, r(q ≠ r)이라면 q × r점을 얻습니다.\n",
        "네 주사위에 적힌 숫자가 모두 다르다면 나온 숫자 중 가장 작은 숫자 만큼의 점수를 얻습니다.\n",
        "네 주사위를 굴렸을 때 나온 숫자가 정수 매개변수 a, b, c, d로 주어질 때, 얻는 점수를 return 하는 solution 함수를 작성해 주세요."
      ]
    },
    {
      "cell_type": "code",
      "execution_count": null,
      "metadata": {},
      "outputs": [],
      "source": [
        "from collections import Counter\n",
        "\n",
        "def solution(a, b, c, d):\n",
        "    arr1 = [a, b, c, d]\n",
        "    counter = Counter(arr1)\n",
        "    if len(counter) == 1:\n",
        "        return 1111 * a\n",
        "    if len(counter) == 2:\n",
        "        p, q = counter.keys()\n",
        "        if counter[p] == 2 and counter[q] == 2:\n",
        "            return (p + q) * abs(p - q)\n",
        "        else:\n",
        "            if counter.get(p) == 3:\n",
        "                return (10 * p + q) ** 2\n",
        "            if counter.get(p) == 1:\n",
        "                return (10 * q + p) ** 2\n",
        "    if len(counter) == 3:\n",
        "        for key, value in counter.items():\n",
        "            if value == 1:\n",
        "                if 'single1' not in locals():\n",
        "                    single1 = key\n",
        "                else:\n",
        "                    single2 = key\n",
        "        return single1 * single2\n",
        "    if len(counter) == 4:\n",
        "        return min(arr1)\n",
        "\n",
        "solution(3, 2, 2, 2)"
      ]
    },
    {
      "cell_type": "markdown",
      "metadata": {},
      "source": [
        "## 글자 이어 붙여 문자열 만들기\n",
        "문자열 my_string과 정수 배열 index_list가 매개변수로 주어집니다. my_string의 index_list의 원소들에 해당하는 인덱스의 글자들을 순서대로 이어 붙인 문자열을 return 하는 solution 함수를 작성해 주세요."
      ]
    },
    {
      "cell_type": "code",
      "execution_count": null,
      "metadata": {},
      "outputs": [],
      "source": [
        "def solution(my_string, index_list):\n",
        "    result = ''\n",
        "    for index in index_list:\n",
        "        result += my_string[index]\n",
        "    return result\n",
        "\n",
        "solution(\"cvsgiorszzzmrpaqpe\", [16, 6, 5, 3, 12, 14, 11, 11, 17, 12, 7]\t)"
      ]
    },
    {
      "cell_type": "markdown",
      "metadata": {},
      "source": [
        "## 9로 나눈 나머지\n",
        "음이 아닌 정수를 9로 나눈 나머지는 그 정수의 각 자리 숫자의 합을 9로 나눈 나머지와 같은 것이 알려져 있습니다.\n",
        "이 사실을 이용하여 음이 아닌 정수가 문자열 number로 주어질 때, 이 정수를 9로 나눈 나머지를 return 하는 solution 함수를 작성해주세요."
      ]
    },
    {
      "cell_type": "code",
      "execution_count": null,
      "metadata": {},
      "outputs": [],
      "source": [
        "def solution(num):\n",
        "    return int(num) % 9"
      ]
    },
    {
      "cell_type": "code",
      "execution_count": null,
      "metadata": {},
      "outputs": [],
      "source": [
        "# 검증\n",
        "def solution(num):\n",
        "    word = []\n",
        "    if isinstance(num, str):\n",
        "        for i in num:\n",
        "            word.append(i)\n",
        "    sumword = sum(map(int, word))\n",
        "    count = 1 \n",
        "    left = int(num) % 9\n",
        "    count = int(num) // 9\n",
        "    return f'{num}의 각 자리 숫자의 합은{sumword}이며 이는 9 X {count} + {left}로 나타냅니다.'\n",
        "\n",
        "solution(56456)"
      ]
    },
    {
      "cell_type": "markdown",
      "metadata": {},
      "source": [
        "## 문자열 여러번 뒤집기\n",
        "문자열 my_string과 이차원 정수 배열 queries가 매개변수로 주어집니다. queries의 원소는 [s, e] 형태로, my_string의 인덱스 s부터 인덱스 e까지를 뒤집으라는 의미입니다. my_string에 queries의 명령을 순서대로 처리한 후의 문자열을 return 하는 solution 함수를 작성해 주세요."
      ]
    },
    {
      "cell_type": "code",
      "execution_count": null,
      "metadata": {},
      "outputs": [],
      "source": [
        "def solution(my_string, queries):\n",
        "    result = list(my_string)\n",
        "    print(my_string[0])\n",
        "    for start, end in queries:\n",
        "        result[start : end+1] = result[start:end+1:][::-1]\n",
        "    return ''.join(result)\n",
        "\n",
        "\n",
        "solution(\"rermgorpsam\", [[2, 3], [0, 7], [5, 9], [6, 10]])"
      ]
    },
    {
      "cell_type": "markdown",
      "metadata": {},
      "source": [
        "# Day9"
      ]
    },
    {
      "cell_type": "markdown",
      "metadata": {},
      "source": [
        "## 배열 만들기 5\n",
        "문자열 배열 intStrs와 정수 k, s, l가 주어집니다. intStrs의 원소는 숫자로 이루어져 있습니다.\n",
        "\n",
        "배열 intStrs의 각 원소마다 s번 인덱스에서 시작하는 길이 l짜리 부분 문자열을 잘라내 정수로 변환합니다. 이때 변환한 정수값이 k보다 큰 값들을 담은 배열을 return 하는 solution 함수를 완성해 주세요."
      ]
    },
    {
      "cell_type": "code",
      "execution_count": null,
      "metadata": {},
      "outputs": [],
      "source": [
        "%%timeit\n",
        "def solution(intStrs, k ,s, l):\n",
        "    result = []\n",
        "    for intstr in intStrs:\n",
        "        if int(intstr[s:s+l]) > k:\n",
        "            result.append(int(intstr[s:s+l]))\n",
        "    return result\n",
        "\n",
        "solution([\"0123456789\",\"9876543210\",\"9999999999999\"], 50000, 5, 5)"
      ]
    },
    {
      "cell_type": "code",
      "execution_count": null,
      "metadata": {},
      "outputs": [],
      "source": [
        "%%timeit\n",
        "def solution(intStrs, k ,s, l):\n",
        "    result = [int(intstr[s:s+l]) for intstr in intStrs if int(intstr[s:s+l]) > k]\n",
        "    return result\n",
        "\n",
        "solution([\"0123456789\",\"9876543210\",\"9999999999999\"], 50000, 5, 5)"
      ]
    },
    {
      "cell_type": "markdown",
      "metadata": {},
      "source": [
        "## 부분 문자열 이어 붙여 문자열 만들기\n",
        "길이가 같은 문자열 배열 my_strings와 이차원 정수 배열 parts가 매개변수로 주어집니다. parts[i]는 [s, e] 형태로, my_string[i]의 인덱스 s부터 인덱스 e까지의 부분 문자열을 의미합니다. 각 my_strings의 원소의 parts에 해당하는 부분 문자열을 순서대로 이어 붙인 문자열을 return 하는 solution 함수를 작성해 주세요."
      ]
    },
    {
      "cell_type": "code",
      "execution_count": null,
      "metadata": {},
      "outputs": [],
      "source": [
        "def solution(my_strings, parts):\n",
        "    result = ''\n",
        "    count = 0\n",
        "    for my_string in my_strings:        \n",
        "        result = result + (my_string[parts[count][0]:parts[count][1]+1])\n",
        "        count += 1\n",
        "    return result\n",
        "\n",
        "solution([\"progressive\", \"hamburger\", \"hammer\", \"ahocorasick\"], [[0, 4], [1, 2], [3, 5], [7, 7]])"
      ]
    },
    {
      "cell_type": "markdown",
      "metadata": {},
      "source": [
        "## 문자열의 뒤의 n글자\n",
        "문자열 my_string과 정수 n이 매개변수로 주어질 때, my_string의 뒤의 n글자로 이루어진 문자열을 return 하는 solution 함수를 작성해 주세요."
      ]
    },
    {
      "cell_type": "code",
      "execution_count": null,
      "metadata": {},
      "outputs": [],
      "source": [
        "def solution(my_string, n):\n",
        "    return (my_string[:-n-1: -1][::-1])\n",
        "\n",
        "solution(\"ProgrammerS123\", 11)"
      ]
    },
    {
      "cell_type": "code",
      "execution_count": null,
      "metadata": {},
      "outputs": [],
      "source": [
        "def solution(my_string, n):\n",
        "    return (my_string[-n:])\n",
        "solution(\"ProgrammerS123\", 11)"
      ]
    },
    {
      "cell_type": "markdown",
      "metadata": {},
      "source": [
        "## 접미사 배열\n",
        "어떤 문자열에 대해서 접미사는 특정 인덱스부터 시작하는 문자열을 의미합니다. 예를 들어, \"banana\"의 모든 접미사는 \"banana\", \"anana\", \"nana\", \"ana\", \"na\", \"a\"입니다.\n",
        "문자열 my_string이 매개변수로 주어질 때, my_string의 모든 접미사를 사전순으로 정렬한 문자열 배열을 return 하는 solution 함수를 작성해 주세요."
      ]
    },
    {
      "cell_type": "code",
      "execution_count": null,
      "metadata": {},
      "outputs": [],
      "source": [
        "def solution(my_string):\n",
        "    return sorted([my_string[i:] for i in range(len(my_string))])\n",
        "\n",
        "solution(\"banana\")"
      ]
    },
    {
      "cell_type": "markdown",
      "metadata": {},
      "source": [
        "## 접미사인지 확인하기\n",
        "어떤 문자열에 대해서 접미사는 특정 인덱스부터 시작하는 문자열을 의미합니다. 예를 들어, \"banana\"의 모든 접미사는 \"banana\", \"anana\", \"nana\", \"ana\", \"na\", \"a\"입니다.\n",
        "문자열 my_string과 is_suffix가 주어질 때, is_suffix가 my_string의 접미사라면 1을, 아니면 0을 return 하는 solution 함수를 작성해 주세요"
      ]
    },
    {
      "cell_type": "code",
      "execution_count": null,
      "metadata": {},
      "outputs": [],
      "source": [
        "def solution (my_string, is_suffix):\n",
        "    suffix_list = [my_string[i:] for i in range(len(my_string))]\n",
        "    if is_suffix in suffix_list:\n",
        "        return 1\n",
        "    return 0\n",
        "\n",
        "solution(\"banana\", 'ana')"
      ]
    },
    {
      "cell_type": "markdown",
      "metadata": {},
      "source": [
        "# Day10"
      ]
    },
    {
      "cell_type": "markdown",
      "metadata": {},
      "source": [
        "## 문자열의 앞의 n글자\n",
        "문자열 my_string과 정수 n이 매개변수로 주어질 때, my_string의 앞의 n글자로 이루어진 문자열을 return 하는 solution 함수를 작성해 주세요."
      ]
    },
    {
      "cell_type": "code",
      "execution_count": null,
      "metadata": {},
      "outputs": [],
      "source": [
        "def solution(my_string, n):\n",
        "    return my_string[:n]"
      ]
    },
    {
      "cell_type": "markdown",
      "metadata": {},
      "source": [
        "## 접두사인지 확인하기\n",
        "어떤 문자열에 대해서 접두사는 특정 인덱스까지의 문자열을 의미합니다. 예를 들어, \"banana\"의 모든 접두사는 \"b\", \"ba\", \"ban\", \"bana\", \"banan\", \"banana\"입니다.\n",
        "문자열 my_string과 is_prefix가 주어질 때, is_prefix가 my_string의 접두사라면 1을, 아니면 0을 return 하는 solution 함수를 작성해 주세요"
      ]
    },
    {
      "cell_type": "code",
      "execution_count": null,
      "metadata": {},
      "outputs": [],
      "source": [
        "def solution(my_string, is_prefix):\n",
        "    if is_prefix in [my_string[:i] for i in range(len(my_string))]:\n",
        "        return 1\n",
        "    else:\n",
        "        return 0\n",
        "\n",
        "solution(\"banana\", 'b')"
      ]
    },
    {
      "cell_type": "markdown",
      "metadata": {},
      "source": [
        "## 문자열 뒤집기\n",
        "문자열 my_string과 정수 s, e가 매개변수로 주어질 때, my_string에서 인덱스 s부터 인덱스 e까지를 뒤집은 문자열을 return 하는 solution 함수를 작성해 주세요."
      ]
    },
    {
      "cell_type": "code",
      "execution_count": null,
      "metadata": {},
      "outputs": [],
      "source": [
        "def solution(my_string, s, e):\n",
        "    return my_string[:s] + my_string[s:e+1][::-1] + my_string[e+1:]\n",
        "\n",
        "\n",
        "solution(\"Progra21Sremm3\", 6, 12)"
      ]
    },
    {
      "cell_type": "markdown",
      "metadata": {},
      "source": [
        "## 세로 읽기\n",
        "문자열 my_string과 두 정수 m, c가 주어집니다. my_string을 한 줄에 m 글자씩 가로로 적었을 때 왼쪽부터 세로로 c번째 열에 적힌 글자들을 문자열로 return 하는 solution 함수를 작성해 주세요."
      ]
    },
    {
      "cell_type": "code",
      "execution_count": null,
      "metadata": {},
      "outputs": [],
      "source": [
        "def solution(my_string, m, c):\n",
        "    return my_string[c-1::m]\n",
        "\n",
        "\n",
        "solution(\"programmers\", 1, 1)"
      ]
    },
    {
      "cell_type": "markdown",
      "metadata": {},
      "source": [
        "## QR CODE\n",
        "두 정수 q, r과 문자열 code가 주어질 때, code의 각 인덱스를 q로 나누었을 때 나머지가 r인 위치의 문자를 앞에서부터 순서대로 이어 붙인 문자열을 return 하는 solution 함수를 작성해 주세요."
      ]
    },
    {
      "cell_type": "code",
      "execution_count": null,
      "metadata": {},
      "outputs": [],
      "source": [
        "def solution(q, r ,code):\n",
        "    result = []\n",
        "    for word in code:\n",
        "        if code.index(word) % q == r:\n",
        "            result.append(word)\n",
        "    return ''.join(result)\n",
        "\n",
        "solution(3, 1, \"qjnwezgrpirldywt\")"
      ]
    },
    {
      "cell_type": "code",
      "execution_count": null,
      "metadata": {},
      "outputs": [],
      "source": [
        "def solution(q, r ,code):\n",
        "    return str(''.join(word for word in code if code.index(word) % q == r))\n",
        "\n",
        "solution(3, 1, \"qjnwezgrpirldywt\")"
      ]
    },
    {
      "cell_type": "code",
      "execution_count": null,
      "metadata": {},
      "outputs": [],
      "source": [
        "def solution(q, r ,code):\n",
        "    return ''.join(char for i, char in enumerate(code) if i % q == r)"
      ]
    },
    {
      "cell_type": "markdown",
      "metadata": {},
      "source": [
        "# DAY 11"
      ]
    },
    {
      "cell_type": "markdown",
      "metadata": {},
      "source": [
        "## 문자 개수 세기\n",
        "알파벳 대소문자로만 이루어진 문자열 my_string이 주어질 때, my_string에서 'A'의 개수, my_string에서 'B'의 개수,..., my_string에서 'Z'의 개수, my_string에서 'a'의 개수, my_string에서 'b'의 개수,..., my_string에서 'z'의 개수를 순서대로 담은 길이 52의 정수 배열을 return 하는 solution 함수를 작성해 주세요."
      ]
    },
    {
      "cell_type": "code",
      "execution_count": null,
      "metadata": {},
      "outputs": [],
      "source": [
        "def solution(my_string):\n",
        "    alphabet = [chr(i) for i in range(65, 91)] + [chr(i) for i in range(97, 123)]\n",
        "\n",
        "    count = [0]*52\n",
        "\n",
        "    for char in my_string:\n",
        "        index = alphabet.index(char)\n",
        "        count[index] += 1\n",
        "    \n",
        "    return count\n",
        "\n",
        "solution('Powerss')\n"
      ]
    },
    {
      "cell_type": "markdown",
      "metadata": {},
      "source": [
        "## 배열 만들기 1\n",
        "정수 n과 k가 주어졌을 때, 1 이상 n이하의 정수 중에서 k의 배수를 오름차순으로 저장한 배열을 return 하는 solution 함수를 완성해 주세요."
      ]
    },
    {
      "cell_type": "code",
      "execution_count": 52,
      "metadata": {},
      "outputs": [
        {
          "data": {
            "text/plain": [
              "[5, 10, 15]"
            ]
          },
          "execution_count": 52,
          "metadata": {},
          "output_type": "execute_result"
        }
      ],
      "source": [
        "def solution(n, k):\n",
        "    return [i for i in range(n+1) if i % k == 0 and i != 0]\n",
        "\n",
        "solution(15, 5)"
      ]
    },
    {
      "cell_type": "markdown",
      "metadata": {},
      "source": [
        "## 글자 지우기\n",
        "문자열 my_string과 정수 배열 indices가 주어질 때, my_string에서 indices의 원소에 해당하는 인덱스의 글자를 지우고 이어 붙인 문자열을 return 하는 solution 함수를 작성해 주세요."
      ]
    },
    {
      "cell_type": "code",
      "execution_count": 8,
      "metadata": {},
      "outputs": [
        {
          "data": {
            "text/plain": [
              "'programmers'"
            ]
          },
          "execution_count": 8,
          "metadata": {},
          "output_type": "execute_result"
        }
      ],
      "source": [
        "def solution(my_string, indices):\n",
        "    indices = sorted(indices, reverse = True)\n",
        "    for i in indices:\n",
        "        my_string = my_string[:i] + my_string[i+1:]\n",
        "    return my_string\n",
        "solution(\"apporoograpemmemprs\", [1, 16, 6, 15, 0, 10, 11, 3])"
      ]
    },
    {
      "cell_type": "markdown",
      "metadata": {},
      "source": [
        "## 카운트 다운\n",
        "정수 start_num와 end_num가 주어질 때, start_num에서 end_num까지 1씩 감소하는 수들을 차례로 담은 리스트를 return하도록 solution 함수를 완성해주세요."
      ]
    },
    {
      "cell_type": "code",
      "execution_count": 20,
      "metadata": {},
      "outputs": [
        {
          "data": {
            "text/plain": [
              "[10, 9, 8, 7, 6, 5, 4, 3, 2]"
            ]
          },
          "execution_count": 20,
          "metadata": {},
          "output_type": "execute_result"
        }
      ],
      "source": [
        "def solution(start_num, end_num):\n",
        "    result = []\n",
        "    count = 0\n",
        "    for i in range(start_num+1 - end_num):\n",
        "        result.append(start_num - count)\n",
        "        count += 1\n",
        "    return result\n",
        "\n",
        "solution(10, 2)"
      ]
    },
    {
      "cell_type": "markdown",
      "metadata": {},
      "source": [
        "## 가까운 1 찾기\n",
        "정수 배열 arr가 주어집니다. 이때 arr의 원소는 1 또는 0입니다. 정수 idx가 주어졌을 때, idx보다 크면서 배열의 값이 1인 가장 작은 인덱스를 찾아서 반환하는 solution 함수를 완성해 주세요.\n",
        "단, 만약 그러한 인덱스가 없다면 -1을 반환합니다."
      ]
    },
    {
      "cell_type": "code",
      "execution_count": 29,
      "metadata": {},
      "outputs": [
        {
          "data": {
            "text/plain": [
              "-1"
            ]
          },
          "execution_count": 29,
          "metadata": {},
          "output_type": "execute_result"
        }
      ],
      "source": [
        "def solution(arr, idx):\n",
        "    count = 0\n",
        "    for i in arr:\n",
        "        if count >= idx and i == 1:\n",
        "            return count\n",
        "        count +=1\n",
        "    return -1\n",
        "solution([1, 0, 0, 1, 0, 0], 4)"
      ]
    },
    {
      "cell_type": "markdown",
      "metadata": {},
      "source": [
        "# Day 12"
      ]
    },
    {
      "cell_type": "markdown",
      "metadata": {},
      "source": [
        "## 리스트 자르기\n",
        "정수 n과 정수 3개가 담긴 리스트 slicer 그리고 정수 여러 개가 담긴 리스트 num_list가 주어집니다. slicer에 담긴 정수를 차례대로 a, b, c라고 할 때, n에 따라 다음과 같이 num_list를 슬라이싱 하려고 합니다.\n",
        "\n",
        "n = 1 : num_list의 0번 인덱스부터 b번 인덱스까지\n",
        "n = 2 : num_list의 a번 인덱스부터 마지막 인덱스까지\n",
        "n = 3 : num_list의 a번 인덱스부터 b번 인덱스까지\n",
        "n = 4 : num_list의 a번 인덱스부터 b번 인덱스까지 c 간격으로\n",
        "올바르게 슬라이싱한 리스트를 return하도록 solution 함수를 완성해주세요."
      ]
    },
    {
      "cell_type": "code",
      "execution_count": 33,
      "metadata": {},
      "outputs": [
        {
          "data": {
            "text/plain": [
              "[1, 2, 3, 4, 5]"
            ]
          },
          "execution_count": 33,
          "metadata": {},
          "output_type": "execute_result"
        }
      ],
      "source": [
        "def solution(n, slicer, num_list):\n",
        "    if n == 1:\n",
        "        return num_list[0:slicer[1]+1]\n",
        "    if n == 2:\n",
        "        return num_list[slicer[0]:]\n",
        "    if n == 3:\n",
        "        return num_list[slicer[0]:slicer[1]+1]\n",
        "    if n == 4:\n",
        "        return num_list[slicer[0]:slicer[1]+1:slicer[2]]\n",
        "solution(1, [1, 5, 2], [1, 2, 3, 4, 5, 6, 7, 8, 9])"
      ]
    },
    {
      "cell_type": "markdown",
      "metadata": {},
      "source": [
        "## 첫 번째로 나오는 음수\n",
        "정수 리스트 num_list가 주어질 때, 첫 번째로 나오는 음수의 인덱스를 return하도록 solution 함수를 완성해주세요. 음수가 없다면 -1을 return합니다."
      ]
    },
    {
      "cell_type": "code",
      "execution_count": 47,
      "metadata": {},
      "outputs": [
        {
          "data": {
            "text/plain": [
              "-1"
            ]
          },
          "execution_count": 47,
          "metadata": {},
          "output_type": "execute_result"
        }
      ],
      "source": [
        "def solution(num_list):\n",
        "    for i in num_list:\n",
        "        if i <= 0:\n",
        "            return num_list.index(i)\n",
        "    return -1\n",
        "solution([13, 22, 53, 24, -155, 6])"
      ]
    },
    {
      "cell_type": "markdown",
      "metadata": {},
      "source": [
        "## 배열 만들기 3\n",
        "정수 배열 arr와 2개의 구간이 담긴 배열 intervals가 주어집니다.\n",
        "\n",
        "intervals는 항상 [[a1, b1], [a2, b2]]의 꼴로 주어지며 각 구간은 닫힌 구간입니다. 닫힌 구간은 양 끝값과 그 사이의 값을 모두 포함하는 구간을 의미합니다.\n",
        "\n",
        "이때 배열 arr의 첫 번째 구간에 해당하는 배열과 두 번째 구간에 해당하는 배열을 앞뒤로 붙여 새로운 배열을 만들어 return 하는 solution 함수를 완성해 주세요."
      ]
    },
    {
      "cell_type": "code",
      "execution_count": 50,
      "metadata": {},
      "outputs": [
        {
          "data": {
            "text/plain": [
              "[2, 3, 4, 1, 2, 3, 4, 5]"
            ]
          },
          "execution_count": 50,
          "metadata": {},
          "output_type": "execute_result"
        }
      ],
      "source": [
        "def solution(arr, intervals):\n",
        "    result = []\n",
        "    for i in range(len(intervals)):\n",
        "        result = result + (arr[intervals[i][0]:intervals[i][1]+1])\n",
        "    return result\n",
        "\n",
        "solution([1, 2, 3, 4, 5], [[1, 3], [0, 4]])"
      ]
    },
    {
      "cell_type": "markdown",
      "metadata": {},
      "source": [
        "## 2의 영역\n",
        "정수 배열 arr가 주어집니다. 배열 안의 2가 모두 포함된 가장 작은 연속된 부분 배열을 return 하는 solution 함수를 완성해 주세요.\n",
        "단, arr에 2가 없는 경우 [-1]을 return 합니다."
      ]
    },
    {
      "cell_type": "code",
      "execution_count": 72,
      "metadata": {},
      "outputs": [
        {
          "data": {
            "text/plain": [
              "[2, 1, 2, 1, 10, 2]"
            ]
          },
          "execution_count": 72,
          "metadata": {},
          "output_type": "execute_result"
        }
      ],
      "source": [
        "def solution(arr):\n",
        "    if 2 not in arr:\n",
        "        return [-1]\n",
        "    start = arr.index(2)\n",
        "    end = arr[::-1].index(2)\n",
        "    return arr[start:len(arr)-end]\n",
        "\n",
        "solution([1, 2, 1, 2, 1, 10, 2, 1, 1, 1, 1, 1])\n",
        "\n"
      ]
    },
    {
      "cell_type": "markdown",
      "metadata": {},
      "source": [
        "## 배열 조각하기\n",
        "정수 배열 arr와 query가 주어집니다.\n",
        "\n",
        "query를 순회하면서 다음 작업을 반복합니다.\n",
        "\n",
        "짝수 인덱스에서는 arr에서 query[i]번 인덱스를 제외하고 배열의 query[i]번 인덱스 뒷부분을 잘라서 버립니다.\n",
        "홀수 인덱스에서는 arr에서 query[i]번 인덱스는 제외하고 배열의 query[i]번 인덱스 앞부분을 잘라서 버립니다.\n",
        "위 작업을 마친 후 남은 arr의 부분 배열을 return 하는 solution 함수를 완성해 주세요."
      ]
    },
    {
      "cell_type": "code",
      "execution_count": 80,
      "metadata": {},
      "outputs": [
        {
          "data": {
            "text/plain": [
              "[1, 2, 3]"
            ]
          },
          "execution_count": 80,
          "metadata": {},
          "output_type": "execute_result"
        }
      ],
      "source": [
        "def solution(arr, quarry):\n",
        "    for i in range(len(quarry)):\n",
        "        if i % 2 == 0 :\n",
        "            arr = arr[:quarry[i]+1]\n",
        "        else:\n",
        "            arr = arr[quarry[i]:]\n",
        "    return arr\n",
        "\n",
        "solution([0, 1, 2, 3, 4, 5], [4, 1, 2])"
      ]
    }
  ],
  "metadata": {
    "colab": {
      "provenance": []
    },
    "kernelspec": {
      "display_name": "Python 3",
      "name": "python3"
    },
    "language_info": {
      "codemirror_mode": {
        "name": "ipython",
        "version": 3
      },
      "file_extension": ".py",
      "mimetype": "text/x-python",
      "name": "python",
      "nbconvert_exporter": "python",
      "pygments_lexer": "ipython3",
      "version": "3.11.4"
    }
  },
  "nbformat": 4,
  "nbformat_minor": 0
}
