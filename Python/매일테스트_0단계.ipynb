{
  "nbformat": 4,
  "nbformat_minor": 0,
  "metadata": {
    "colab": {
      "provenance": []
    },
    "kernelspec": {
      "name": "python3",
      "display_name": "Python 3"
    },
    "language_info": {
      "name": "python"
    }
  },
  "cells": [
    {
      "cell_type": "code",
      "source": [
        "#a와 b 출력하기\n",
        "#정수 a와 b가 주어집니다.\n",
        "#각 수를 입력받아 입출력 예와 같은 형식으로 출력하는 코드를 작성해 보세요.\n",
        "#입력: 4 5\n",
        "\n",
        "a , b = map(int, input().strip().split())\n",
        "print(f'a = {a}')\n",
        "print(f'b = {b}')"
      ],
      "metadata": {
        "id": "x7pawmG_eLd_"
      },
      "execution_count": null,
      "outputs": []
    },
    {
      "cell_type": "code",
      "source": [
        "#문자열 반복해서 출력하기\n",
        "#문자열 str과 정수 n이 주어집니다.\n",
        "#str이 n번 반복된 문자열을 만들어 출력하는 코드를 작성해 보세요.\n",
        "#입력: string 5\n",
        "\n",
        "a, b = input().strip().split()\n",
        "print(a * int(b))"
      ],
      "metadata": {
        "colab": {
          "base_uri": "https://localhost:8080/"
        },
        "id": "6EDMANeAefSU",
        "outputId": "515698b5-e577-4930-b901-7c94d746905f"
      },
      "execution_count": 8,
      "outputs": [
        {
          "output_type": "stream",
          "name": "stdout",
          "text": [
            "asd 5\n",
            "asdasdasdasdasd\n"
          ]
        }
      ]
    },
    {
      "cell_type": "code",
      "source": [
        "#대소문자 바꿔서 출력하기\n",
        "#영어 알파벳으로 이루어진 문자열 str이 주어집니다.\n",
        "#각 알파벳을 대문자는 소문자로 소문자는 대문자로 변환해서 출력하는 코드를 작성해 보세요.\n",
        "#입력: aBcDeFg\n",
        "\n",
        "str = input()\n",
        "print(str.swapcase())"
      ],
      "metadata": {
        "colab": {
          "base_uri": "https://localhost:8080/"
        },
        "id": "CJziTTzse7c0",
        "outputId": "43c8af0f-21d7-4626-9e42-7cf446d805f5"
      },
      "execution_count": 10,
      "outputs": [
        {
          "output_type": "stream",
          "name": "stdout",
          "text": [
            "asdSDAFASd\n",
            "ASDsdafasD\n"
          ]
        }
      ]
    },
    {
      "cell_type": "code",
      "source": [
        "#특수문자 출력하기\n",
        "#다음과 같이 출력하도록 코드를 작성해 주세요.\n",
        "#출력예시: !@#$%^&*(\\'\"<>?:;\n",
        "\n",
        "print(r'!@#$%^&*(\\'\"<>?:;')"
      ],
      "metadata": {
        "colab": {
          "base_uri": "https://localhost:8080/"
        },
        "id": "LG_Yb88me6Ua",
        "outputId": "8e843bda-da64-4667-f27e-893fb362fc31"
      },
      "execution_count": 15,
      "outputs": [
        {
          "output_type": "stream",
          "name": "stdout",
          "text": [
            "!@#$%^&*(\\'\"<>?:;\n"
          ]
        }
      ]
    },
    {
      "cell_type": "code",
      "source": [
        "#덧셈식 출력하기\n",
        "#두 정수 a, b가 주어질 때 다음과 같은 형태의 계산식을 출력하는 코드를 작성해보세요.\n",
        "#a + b = c\n",
        "#입력:4 5\n",
        "\n",
        "a, b = map(int, input().strip().split())\n",
        "print(f'{a} + {b} = {a + b}')"
      ],
      "metadata": {
        "id": "IpUGdq56fw_6"
      },
      "execution_count": null,
      "outputs": []
    },
    {
      "cell_type": "code",
      "source": [
        "#문자열 붙여서 출력하기\n",
        "#두개의 문자열 str1, str2가 공백으로 구분되어 입력으로 주어집니다.\n",
        "#입출력 예와 같이 str1과 str2을 이어서 출력하는 코드르 작성해 보세요.\n",
        "#입력:apple pen  출력:applepen\n",
        "\n",
        "str1, str2 = input().strip().split()\n",
        "print(str1 + str2)"
      ],
      "metadata": {
        "colab": {
          "base_uri": "https://localhost:8080/"
        },
        "id": "yPndIIwigPji",
        "outputId": "18b4d4fe-6d76-4299-98f1-0c1a79c25184"
      },
      "execution_count": 16,
      "outputs": [
        {
          "output_type": "stream",
          "name": "stdout",
          "text": [
            "apple pen\n",
            "applepen\n"
          ]
        }
      ]
    },
    {
      "cell_type": "code",
      "execution_count": 18,
      "metadata": {
        "colab": {
          "base_uri": "https://localhost:8080/"
        },
        "id": "vYSbgFUBd48o",
        "outputId": "9a567433-9a63-45d2-c4d8-5ecdf6a7a389"
      },
      "outputs": [
        {
          "output_type": "stream",
          "name": "stdout",
          "text": [
            "asd56\n",
            "a\n",
            "s\n",
            "d\n",
            "5\n",
            "6\n"
          ]
        }
      ],
      "source": [
        "#문자열 str이 주어집니다.\n",
        "#문자열을 시계방향으로 90도 돌려서 아래 입출력 예와 같이 출력하는 코드를 작성해 보세요.\n",
        "#입력: abcde\n",
        "\n",
        "print('\\n'.join(input()))"
      ]
    },
    {
      "cell_type": "code",
      "source": [
        "#홀짝 구분하기\n",
        "#자연수 n이 입력으로 주어졌을 때 만약 n이 짝수이면 \"n is even\"을,\n",
        "#홀수이면 \"n is odd\"를 출력하는 코드를 작성해 보세요.\n",
        "n = int(input())\n",
        "if n % 2 == 0:\n",
        "    print(f'{n} is even')\n",
        "else:\n",
        "    print(f'{n} is odd')"
      ],
      "metadata": {
        "colab": {
          "base_uri": "https://localhost:8080/"
        },
        "id": "keZuJFN8iOnu",
        "outputId": "f0e14bca-d0ee-4050-f169-304087acf002"
      },
      "execution_count": 20,
      "outputs": [
        {
          "output_type": "stream",
          "name": "stdout",
          "text": [
            "9\n",
            "9 is odd\n"
          ]
        }
      ]
    },
    {
      "cell_type": "code",
      "source": [
        "#문자열 곂쳐쓰기\n",
        "#문자열 my_string, overwrite_string과 정수 s가 주어집니다.\n",
        "#문자열 my_string의 인덱스 s부터 overwrite_string의 길이만큼을\n",
        "#문자열 overwrite_string으로 바꾼 문자열을 return 하는 solution 함수를 작성해 주세요.\n",
        "\n",
        "#my_string\toverwrite_string\ts\tresult\n",
        "#\"He11oWor1d\"\t\"lloWorl\"\t    2\t\"HelloWorld\"\n",
        "\n",
        "def solution(my_string, overwrite_string, s):\n",
        "    answer = my_string\n",
        "    answer.update()\n",
        "    return answer"
      ],
      "metadata": {
        "id": "kh7VkIfCjdAl"
      },
      "execution_count": null,
      "outputs": []
    }
  ]
}