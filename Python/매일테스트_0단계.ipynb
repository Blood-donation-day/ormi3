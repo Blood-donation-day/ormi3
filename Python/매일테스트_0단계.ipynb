{
  "cells": [
    {
      "cell_type": "markdown",
      "metadata": {},
      "source": [
        "# Day1"
      ]
    },
    {
      "cell_type": "markdown",
      "metadata": {},
      "source": [
        "## a와 b 출력하기\n",
        "\n",
        "a와 b 출력하기\n",
        "정수 a와 b가 주어집니다.\n",
        "각 수를 입력받아 입출력 예와 같은 형식으로 출력하는 코드를 작성해 보세요.\n",
        "입력: 4 5"
      ]
    },
    {
      "cell_type": "code",
      "execution_count": null,
      "metadata": {
        "id": "x7pawmG_eLd_"
      },
      "outputs": [],
      "source": [
        "a , b = map(int, input().strip().split())\n",
        "print(f'a = {a}')\n",
        "print(f'b = {b}')"
      ]
    },
    {
      "cell_type": "markdown",
      "metadata": {},
      "source": [
        "## 문자열 반복해서 출력하기\n",
        "\n",
        "문자열 반복해서 출력하기\n",
        "문자열 str과 정수 n이 주어집니다.\n",
        "str이 n번 반복된 문자열을 만들어 출력하는 코드를 작성해 보세요.\n",
        "입력: string 5"
      ]
    },
    {
      "cell_type": "code",
      "execution_count": 8,
      "metadata": {
        "colab": {
          "base_uri": "https://localhost:8080/"
        },
        "id": "6EDMANeAefSU",
        "outputId": "515698b5-e577-4930-b901-7c94d746905f"
      },
      "outputs": [
        {
          "name": "stdout",
          "output_type": "stream",
          "text": [
            "asd 5\n",
            "asdasdasdasdasd\n"
          ]
        }
      ],
      "source": [
        "a, b = input().strip().split()\n",
        "print(a * int(b))"
      ]
    },
    {
      "cell_type": "markdown",
      "metadata": {},
      "source": [
        "## 대소문자 바꿔서 출력하기\n",
        "\n",
        "대소문자 바꿔서 출력하기\n",
        "영어 알파벳으로 이루어진 문자열 str이 주어집니다.\n",
        "각 알파벳을 대문자는 소문자로 소문자는 대문자로 변환해서 출력하는 코드를 작성해 보세요.\n",
        "입력: aBcDeFg"
      ]
    },
    {
      "cell_type": "code",
      "execution_count": 10,
      "metadata": {
        "colab": {
          "base_uri": "https://localhost:8080/"
        },
        "id": "CJziTTzse7c0",
        "outputId": "43c8af0f-21d7-4626-9e42-7cf446d805f5"
      },
      "outputs": [
        {
          "name": "stdout",
          "output_type": "stream",
          "text": [
            "asdSDAFASd\n",
            "ASDsdafasD\n"
          ]
        }
      ],
      "source": [
        "str = input()\n",
        "print(str.swapcase())"
      ]
    },
    {
      "cell_type": "markdown",
      "metadata": {},
      "source": [
        "## 특수문자 출력하기\n",
        "\n",
        "특수문자 출력하기\n",
        "다음과 같이 출력하도록 코드를 작성해 주세요.\n",
        "출력예시: !@#$%^&*(\\'\"<>?:;\n"
      ]
    },
    {
      "cell_type": "code",
      "execution_count": 1,
      "metadata": {
        "colab": {
          "base_uri": "https://localhost:8080/"
        },
        "id": "LG_Yb88me6Ua",
        "outputId": "8e843bda-da64-4667-f27e-893fb362fc31"
      },
      "outputs": [
        {
          "name": "stdout",
          "output_type": "stream",
          "text": [
            "!@#$%^&*(\\'\"<>?:;\n"
          ]
        }
      ],
      "source": [
        "print(r'!@#$%^&*(\\'\"<>?:;')"
      ]
    },
    {
      "cell_type": "markdown",
      "metadata": {},
      "source": [
        "# Day2"
      ]
    },
    {
      "cell_type": "markdown",
      "metadata": {},
      "source": [
        "## 덧셈식 출력하기\n",
        "\n",
        "덧셈식 출력하기\n",
        "두 정수 a, b가 주어질 때 다음과 같은 형태의 계산식을 출력하는 코드를 작성해보세요.\n",
        "a + b = c\n",
        "입력:4 5"
      ]
    },
    {
      "cell_type": "code",
      "execution_count": null,
      "metadata": {
        "id": "IpUGdq56fw_6"
      },
      "outputs": [],
      "source": [
        "a, b = map(int, input().strip().split())\n",
        "print(f'{a} + {b} = {a + b}')"
      ]
    },
    {
      "cell_type": "markdown",
      "metadata": {},
      "source": [
        "## 문자열 붙여서 출력하기\n",
        "\n",
        "문자열 붙여서 출력하기\n",
        "두개의 문자열 str1, str2가 공백으로 구분되어 입력으로 주어집니다.\n",
        "입출력 예와 같이 str1과 str2을 이어서 출력하는 코드르 작성해 보세요.\n",
        "입력:apple pen  출력:applepen\n"
      ]
    },
    {
      "cell_type": "code",
      "execution_count": 16,
      "metadata": {
        "colab": {
          "base_uri": "https://localhost:8080/"
        },
        "id": "yPndIIwigPji",
        "outputId": "18b4d4fe-6d76-4299-98f1-0c1a79c25184"
      },
      "outputs": [
        {
          "name": "stdout",
          "output_type": "stream",
          "text": [
            "apple pen\n",
            "applepen\n"
          ]
        }
      ],
      "source": [
        "str1, str2 = input().strip().split()\n",
        "print(str1 + str2)"
      ]
    },
    {
      "cell_type": "markdown",
      "metadata": {},
      "source": [
        "## 문자열 돌리기\n",
        "\n",
        "문자열 str이 주어집니다.\n",
        "문자열을 시계방향으로 90도 돌려서 아래 입출력 예와 같이 출력하는 코드를 작성해 보세요.\n",
        "입력: abcde"
      ]
    },
    {
      "cell_type": "code",
      "execution_count": 6,
      "metadata": {
        "colab": {
          "base_uri": "https://localhost:8080/"
        },
        "id": "vYSbgFUBd48o",
        "outputId": "9a567433-9a63-45d2-c4d8-5ecdf6a7a389"
      },
      "outputs": [
        {
          "name": "stdout",
          "output_type": "stream",
          "text": [
            "하\n",
            "이\n",
            "요\n"
          ]
        }
      ],
      "source": [
        "# print('\\n'.join(input()))\n",
        "for i in input():\n",
        "    print (i)"
      ]
    },
    {
      "cell_type": "markdown",
      "metadata": {},
      "source": [
        "## 홀짝 구분하기\n",
        "\n",
        "홀짝 구분하기\n",
        "자연수 n이 입력으로 주어졌을 때 만약 n이 짝수이면 \"n is even\"을,\n",
        "홀수이면 \"n is odd\"를 출력하는 코드를 작성해 보세요."
      ]
    },
    {
      "cell_type": "code",
      "execution_count": 20,
      "metadata": {
        "colab": {
          "base_uri": "https://localhost:8080/"
        },
        "id": "keZuJFN8iOnu",
        "outputId": "f0e14bca-d0ee-4050-f169-304087acf002"
      },
      "outputs": [
        {
          "name": "stdout",
          "output_type": "stream",
          "text": [
            "9\n",
            "9 is odd\n"
          ]
        }
      ],
      "source": [
        "n = int(input())\n",
        "if n % 2 == 0:\n",
        "    print(f'{n} is even')\n",
        "else:\n",
        "    print(f'{n} is odd')"
      ]
    },
    {
      "cell_type": "markdown",
      "metadata": {},
      "source": [
        "## 문자열 곂쳐쓰기\n",
        "\n",
        "문자열 곂쳐쓰기\n",
        "문자열 my_string, overwrite_string과 정수 s가 주어집니다.\n",
        "문자열 my_string의 인덱스 s부터 overwrite_string의 길이만큼을\n",
        "문자열 overwrite_string으로 바꾼 문자열을 return 하는 solution 함수를 작성해 주세요.\n",
        "\n",
        "my_string\toverwrite_string\ts\tresult\n",
        "\"He11oWor1d\"\t\"lloWorl\"\t    2\t\"HelloWorld\""
      ]
    },
    {
      "cell_type": "code",
      "execution_count": 1,
      "metadata": {
        "id": "kh7VkIfCjdAl"
      },
      "outputs": [
        {
          "data": {
            "text/plain": [
              "'HelloWorld'"
            ]
          },
          "execution_count": 1,
          "metadata": {},
          "output_type": "execute_result"
        }
      ],
      "source": [
        "def solution(my_string, overwrite_string, s):\n",
        "    answer = list(my_string)\n",
        "    answer[s:s + len(overwrite_string)] = overwrite_string\n",
        "    answer = ''.join(answer)\n",
        "    return answer\n",
        "\n",
        "solution(\"He11oWor1d\", \"lloWorl\", 2)"
      ]
    },
    {
      "cell_type": "markdown",
      "metadata": {},
      "source": [
        "# Day3"
      ]
    },
    {
      "cell_type": "markdown",
      "metadata": {},
      "source": [
        "## 문자열 섞기\n",
        "\n",
        "길이가 같은 두 문자열 str1과 str2가 주어집니다.\n",
        "두 문자열의 각 문자가 앞에서부터 서로 번갈아가면서 한 번씩 등장하는 문자열을 만들어 \n",
        "return 하는 solution 함수를 완성해 주세요\n"
      ]
    },
    {
      "cell_type": "code",
      "execution_count": 13,
      "metadata": {},
      "outputs": [
        {
          "data": {
            "text/plain": [
              "'1a2b3c4d5e'"
            ]
          },
          "execution_count": 13,
          "metadata": {},
          "output_type": "execute_result"
        }
      ],
      "source": [
        "def solution(str1, str2):\n",
        "    str1 = str(str1)\n",
        "    str2 = str(str2)\n",
        "    str3 = []\n",
        "    for i in range(len(str1)):\n",
        "        str3.append(str1[i])\n",
        "        str3.append(str2[i])\n",
        "    str3 = ''.join(str3)\n",
        "    return str3\n",
        "\n",
        "solution('12345', 'abcde')"
      ]
    },
    {
      "cell_type": "markdown",
      "metadata": {},
      "source": [
        "## 문자 리스트를 문자열로 변환하기\n",
        "\n",
        "문자들이 담겨있는 배열 arr가 주어집니다. \n",
        "arr의 원소들을 순서대로 이어 붙인 문자열을 return 하는 solution함수를 작성해 주세요."
      ]
    },
    {
      "cell_type": "code",
      "execution_count": 14,
      "metadata": {},
      "outputs": [
        {
          "data": {
            "text/plain": [
              "'abc'"
            ]
          },
          "execution_count": 14,
          "metadata": {},
          "output_type": "execute_result"
        }
      ],
      "source": [
        "def solution(arr):\n",
        "    return ''.join(arr)\n",
        "\n",
        "solution([\"a\",\"b\",\"c\"])"
      ]
    },
    {
      "cell_type": "markdown",
      "metadata": {},
      "source": [
        "## 문자열 곱하기\n",
        "\n",
        "문자열 my_string과 정수 k가 주어질 때, my_string을 k번 반복한 문자열을 \n",
        "return 하는 solution 함수를 작성해 주세요."
      ]
    },
    {
      "cell_type": "code",
      "execution_count": 17,
      "metadata": {},
      "outputs": [],
      "source": [
        "def solution(my_string, k):\n",
        "    return my_string * k\n",
        "\n",
        "solution('abc', 3)\n",
        "\n",
        "sol = lambda my_string, k: ''.join([my_string * k]) #이런 방법도 있네"
      ]
    },
    {
      "cell_type": "markdown",
      "metadata": {},
      "source": [
        "## 더 크게 합치기\n",
        "\n",
        "#연산 ⊕는 두 정수에 대한 연산으로 두 정수를 붙여서 쓴 값을 반환합니다. 예를 들면 다음과 같습니다.\n",
        "12 ⊕ 3 = 123\n",
        "3 ⊕ 12 = 312\n",
        "양의 정수 a와 b가 주어졌을 때, a ⊕ b와 b ⊕ a 중 더 큰 값을 \n",
        "return 하는 solution 함수를 완성해 주세요.\n",
        "(단, a ⊕ b와 b ⊕ a가 같다면 a ⊕ b를 return 합니다.)\n"
      ]
    },
    {
      "cell_type": "code",
      "execution_count": 28,
      "metadata": {},
      "outputs": [
        {
          "data": {
            "text/plain": [
              "991"
            ]
          },
          "execution_count": 28,
          "metadata": {},
          "output_type": "execute_result"
        }
      ],
      "source": [
        "def solution(a, b):\n",
        "    c = str(a) + str(b)\n",
        "    d = str(b) + str(a)\n",
        "    answer = max(list([int(c), int(d)])) \n",
        "    return answer\n",
        "\n",
        "solution(91, 9)"
      ]
    },
    {
      "cell_type": "markdown",
      "metadata": {},
      "source": [
        "## 두 수의 연간값 비교하기\n",
        "\n",
        "연산 ⊕는 두 정수에 대한 연산으로 두 정수를 붙여서 쓴 값을 반환합니다. 예를 들면 다음과 같습니다.\n",
        "12 ⊕ 3 = 123\n",
        "3 ⊕ 12 = 312\n",
        "양의 정수 a와 b가 주어졌을 때, a ⊕ b와 2 * a * b 중 더 큰 값을 return하는 solution 함수를 완성해 주세요.\n",
        "단, a ⊕ b와 2 * a * b가 같으면 a ⊕ b를 return 합니다"
      ]
    },
    {
      "cell_type": "code",
      "execution_count": 32,
      "metadata": {},
      "outputs": [
        {
          "data": {
            "text/plain": [
              "54"
            ]
          },
          "execution_count": 32,
          "metadata": {},
          "output_type": "execute_result"
        }
      ],
      "source": [
        "def solution(a, b):\n",
        "    answer = max([2*a*b,int(str(a)+str(b))])\n",
        "    return answer\n",
        "\n",
        "solution(3, 9)"
      ]
    },
    {
      "cell_type": "markdown",
      "metadata": {},
      "source": [
        "# Day4"
      ]
    },
    {
      "cell_type": "markdown",
      "metadata": {},
      "source": [
        "## n의 배수 \n",
        "정수 num과 n이 매개 변수로 주어질 때, num이 n의 배수이면 1을 return n의 배수가 아니라면 0을 return하도록 solution 함수를 완성해주세요."
      ]
    },
    {
      "cell_type": "code",
      "execution_count": null,
      "metadata": {},
      "outputs": [],
      "source": [
        "def solution(num, n):\n",
        "    if num % n == 0:\n",
        "        return 1\n",
        "    else:\n",
        "        return 0"
      ]
    },
    {
      "cell_type": "markdown",
      "metadata": {},
      "source": [
        "## 공배수\n",
        "정수 number와 n, m이 주어집니다. number가 n의 배수이면서 m의 배수이면 1을 아니라면 0을 return하도록 solution 함수를 완성해주세요."
      ]
    },
    {
      "cell_type": "code",
      "execution_count": 11,
      "metadata": {},
      "outputs": [
        {
          "data": {
            "text/plain": [
              "0"
            ]
          },
          "execution_count": 11,
          "metadata": {},
          "output_type": "execute_result"
        }
      ],
      "source": [
        "def solution(number, n, m):\n",
        "    return int((number % n ==0) & (number % m == 0))"
      ]
    },
    {
      "cell_type": "markdown",
      "metadata": {},
      "source": [
        "## 홀짝에 따라 다른 값 반환하기\n",
        "양의 정수 n이 매개변수로 주어질 때, n이 홀수라면 n 이하의 홀수인 모든 양의 정수의 합을 return 하고 n이 짝수라면 n 이하의 짝수인 모든 양의 정수의 제곱의 합을 return 하는 solution 함수를 작성해 주세요."
      ]
    },
    {
      "cell_type": "code",
      "execution_count": 27,
      "metadata": {},
      "outputs": [
        {
          "data": {
            "text/plain": [
              "220"
            ]
          },
          "execution_count": 27,
          "metadata": {},
          "output_type": "execute_result"
        }
      ],
      "source": [
        "def solution(n):\n",
        "    if n % 2 == 1:\n",
        "        return sum(range(1, n+1, 2))\n",
        "    elif n % 2 == 0:\n",
        "        return sum(map(lambda x: x**2, range(0, n+1, 2)))\n",
        "        \n",
        "solution(10)"
      ]
    },
    {
      "cell_type": "markdown",
      "metadata": {},
      "source": [
        "## 조건 문자열\n",
        "문자열에 따라 다음과 같이 두 수의 크기를 비교하려고 합니다.\n",
        "\n",
        "두 수가 n과 m이라면\n",
        "\">\", \"=\" : n >= m\n",
        "\"<\", \"=\" : n <= m\n",
        "\">\", \"!\" : n > m\n",
        "\"<\", \"!\" : n < m\n",
        "두 문자열 ineq와 eq가 주어집니다. ineq는 \"<\"와 \">\"중 하나고, eq는 \"=\"와 \"!\"중 하나입니다. 그리고 두 정수 n과 m이 주어질 때, n과 m이 ineq와 eq의 조건에 맞으면 1을 아니면 0을 return하도록 solution 함수를 완성해주세요"
      ]
    },
    {
      "cell_type": "code",
      "execution_count": 34,
      "metadata": {},
      "outputs": [
        {
          "data": {
            "text/plain": [
              "0"
            ]
          },
          "execution_count": 34,
          "metadata": {},
          "output_type": "execute_result"
        }
      ],
      "source": [
        "#아니 이건 좀.... ㅋㅋㅋㅋ\n",
        "def solution(ineq, eq, n, m):\n",
        "    sol1 = ''\n",
        "    sol2 = ''\n",
        "    if '>' in ineq:\n",
        "        sol1 = 'left'\n",
        "    else:\n",
        "        sol1 = 'right'\n",
        "    if '=' in eq:\n",
        "        sol2 = 'equal'\n",
        "    else:\n",
        "        sol2 = 'x'\n",
        "    \n",
        "    caseA = int(n >= m)\n",
        "    caseB = int(n <= m)\n",
        "    caseC = int(n > m)\n",
        "    caseD = int(n < m)\n",
        "\n",
        "    if 'left' in sol1:\n",
        "        if 'equal' in sol2:\n",
        "            return caseA\n",
        "        else:\n",
        "            return caseC\n",
        "    elif 'right' in sol1:\n",
        "        if 'equal' in sol2:\n",
        "            return caseB\n",
        "        else:\n",
        "            return caseD\n",
        "    else:\n",
        "        pass\n",
        "\n",
        "\n",
        "solution(\">\", \"!\", 41, 70)\n"
      ]
    },
    {
      "cell_type": "markdown",
      "metadata": {},
      "source": [
        "## flag에 따라 다른 값 반환하기\n",
        "두 정수 a, b와 boolean 변수 flag가 매개변수로 주어질 때, flag가 true면 a + b를 false면 a - b를 return 하는 solution 함수를 작성해 주세요."
      ]
    },
    {
      "cell_type": "code",
      "execution_count": null,
      "metadata": {},
      "outputs": [],
      "source": [
        "def solution(a, b, flag):\n",
        "    if flag == True:\n",
        "        return a + b\n",
        "    else:\n",
        "        return a - b"
      ]
    },
    {
      "cell_type": "markdown",
      "metadata": {},
      "source": [
        "# Day5"
      ]
    },
    {
      "cell_type": "markdown",
      "metadata": {},
      "source": [
        "## 코드 처리하기\n",
        "문자열 code가 주어집니다.\n",
        "code를 앞에서부터 읽으면서 만약 문자가 \"1\"이면 mode를 바꿉니다. mode에 따라 code를 읽어가면서 문자열 ret을 만들어냅니다.\n",
        "\n",
        "mode는 0과 1이 있으며, idx를 0 부터 code의 길이 - 1 까지 1씩 키워나가면서 code[idx]의 값에 따라 다음과 같이 행동합니다.\n",
        "\n",
        "mode가 0일 때\n",
        "code[idx]가 \"1\"이 아니면 idx가 짝수일 때만 ret의 맨 뒤에 code[idx]를 추가합니다.\n",
        "code[idx]가 \"1\"이면 mode를 0에서 1로 바꿉니다.\n",
        "mode가 1일 때\n",
        "code[idx]가 \"1\"이 아니면 idx가 홀수일 때만 ret의 맨 뒤에 code[idx]를 추가합니다.\n",
        "code[idx]가 \"1\"이면 mode를 1에서 0으로 바꿉니다.\n",
        "문자열 code를 통해 만들어진 문자열 ret를 return 하는 solution 함수를 완성해 주세요.\n",
        "\n",
        "단, 시작할 때 mode는 0이며, return 하려는 ret가 만약 빈 문자열이라면 대신 \"EMPTY\"를 return 합니다."
      ]
    },
    {
      "cell_type": "code",
      "execution_count": 57,
      "metadata": {},
      "outputs": [
        {
          "data": {
            "text/plain": [
              "'EMPTY'"
            ]
          },
          "execution_count": 57,
          "metadata": {},
          "output_type": "execute_result"
        }
      ],
      "source": [
        "def solution(code):\n",
        "    mode = 0\n",
        "    ret = ''\n",
        "    for i in range(len(code)):\n",
        "        if code[i] == '1':\n",
        "            if mode == 0:\n",
        "                mode = 1\n",
        "            else:\n",
        "                mode = 0\n",
        "        \n",
        "        if i % 2 == 0 and mode == 0 and '1' not in code[i]:\n",
        "            ret += code[i]\n",
        "        elif i % 2 == 1 and mode == 1 and '1' not in code[i]:\n",
        "            ret += code[i]\n",
        "    if ret == '':\n",
        "        ret = 'EMPTY'\n",
        "    return ret\n",
        "\n",
        "solution(\"\")"
      ]
    },
    {
      "cell_type": "markdown",
      "metadata": {},
      "source": [
        "## 등차수열의 특정한 항만 더하기\n",
        "두 정수 a, d와 길이가 n인 boolean 배열 included가 주어집니다. \n",
        "첫째항이 a, 공차가 d인 등차수열에서 included[i]가 i + 1항을 의미할 때, \n",
        "이 등차수열의 1항부터 n항까지 included가 true인 항들만 더한 값을 \n",
        "return 하는 solution 함수를 작성해 주세요.\n",
        "![Alt text](image-1.png)"
      ]
    },
    {
      "cell_type": "code",
      "execution_count": null,
      "metadata": {},
      "outputs": [],
      "source": [
        "def solution(a, b ,included):\n",
        "    "
      ]
    }
  ],
  "metadata": {
    "colab": {
      "provenance": []
    },
    "kernelspec": {
      "display_name": "Python 3",
      "name": "python3"
    },
    "language_info": {
      "codemirror_mode": {
        "name": "ipython",
        "version": 3
      },
      "file_extension": ".py",
      "mimetype": "text/x-python",
      "name": "python",
      "nbconvert_exporter": "python",
      "pygments_lexer": "ipython3",
      "version": "3.11.4"
    }
  },
  "nbformat": 4,
  "nbformat_minor": 0
}
