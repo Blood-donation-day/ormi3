{
  "cells": [
    {
      "cell_type": "markdown",
      "metadata": {},
      "source": [
        "# Day1"
      ]
    },
    {
      "cell_type": "markdown",
      "metadata": {},
      "source": [
        "## a와 b 출력하기\n",
        "\n",
        "a와 b 출력하기\n",
        "정수 a와 b가 주어집니다.\n",
        "각 수를 입력받아 입출력 예와 같은 형식으로 출력하는 코드를 작성해 보세요.\n",
        "입력: 4 5"
      ]
    },
    {
      "cell_type": "code",
      "execution_count": null,
      "metadata": {
        "id": "x7pawmG_eLd_"
      },
      "outputs": [],
      "source": [
        "a , b = map(int, input().strip().split())\n",
        "print(f'a = {a}')\n",
        "print(f'b = {b}')"
      ]
    },
    {
      "cell_type": "markdown",
      "metadata": {},
      "source": [
        "## 문자열 반복해서 출력하기\n",
        "\n",
        "문자열 반복해서 출력하기\n",
        "문자열 str과 정수 n이 주어집니다.\n",
        "str이 n번 반복된 문자열을 만들어 출력하는 코드를 작성해 보세요.\n",
        "입력: string 5"
      ]
    },
    {
      "cell_type": "code",
      "execution_count": null,
      "metadata": {
        "colab": {
          "base_uri": "https://localhost:8080/"
        },
        "id": "6EDMANeAefSU",
        "outputId": "515698b5-e577-4930-b901-7c94d746905f"
      },
      "outputs": [],
      "source": [
        "a, b = input().strip().split()\n",
        "print(a * int(b))"
      ]
    },
    {
      "cell_type": "markdown",
      "metadata": {},
      "source": [
        "## 대소문자 바꿔서 출력하기\n",
        "\n",
        "대소문자 바꿔서 출력하기\n",
        "영어 알파벳으로 이루어진 문자열 str이 주어집니다.\n",
        "각 알파벳을 대문자는 소문자로 소문자는 대문자로 변환해서 출력하는 코드를 작성해 보세요.\n",
        "입력: aBcDeFg"
      ]
    },
    {
      "cell_type": "code",
      "execution_count": null,
      "metadata": {
        "colab": {
          "base_uri": "https://localhost:8080/"
        },
        "id": "CJziTTzse7c0",
        "outputId": "43c8af0f-21d7-4626-9e42-7cf446d805f5"
      },
      "outputs": [],
      "source": [
        "str = input()\n",
        "print(str.swapcase())"
      ]
    },
    {
      "cell_type": "markdown",
      "metadata": {},
      "source": [
        "## 특수문자 출력하기\n",
        "\n",
        "특수문자 출력하기\n",
        "다음과 같이 출력하도록 코드를 작성해 주세요.\n",
        "출력예시: !@#$%^&*(\\'\"<>?:;\n"
      ]
    },
    {
      "cell_type": "code",
      "execution_count": null,
      "metadata": {
        "colab": {
          "base_uri": "https://localhost:8080/"
        },
        "id": "LG_Yb88me6Ua",
        "outputId": "8e843bda-da64-4667-f27e-893fb362fc31"
      },
      "outputs": [],
      "source": [
        "print(r'!@#$%^&*(\\'\"<>?:;')"
      ]
    },
    {
      "cell_type": "markdown",
      "metadata": {},
      "source": [
        "# Day2"
      ]
    },
    {
      "cell_type": "markdown",
      "metadata": {},
      "source": [
        "## 덧셈식 출력하기\n",
        "\n",
        "덧셈식 출력하기\n",
        "두 정수 a, b가 주어질 때 다음과 같은 형태의 계산식을 출력하는 코드를 작성해보세요.\n",
        "a + b = c\n",
        "입력:4 5"
      ]
    },
    {
      "cell_type": "code",
      "execution_count": null,
      "metadata": {
        "id": "IpUGdq56fw_6"
      },
      "outputs": [],
      "source": [
        "a, b = map(int, input().strip().split())\n",
        "print(f'{a} + {b} = {a + b}')"
      ]
    },
    {
      "cell_type": "markdown",
      "metadata": {},
      "source": [
        "## 문자열 붙여서 출력하기\n",
        "\n",
        "문자열 붙여서 출력하기\n",
        "두개의 문자열 str1, str2가 공백으로 구분되어 입력으로 주어집니다.\n",
        "입출력 예와 같이 str1과 str2을 이어서 출력하는 코드르 작성해 보세요.\n",
        "입력:apple pen  출력:applepen\n"
      ]
    },
    {
      "cell_type": "code",
      "execution_count": null,
      "metadata": {
        "colab": {
          "base_uri": "https://localhost:8080/"
        },
        "id": "yPndIIwigPji",
        "outputId": "18b4d4fe-6d76-4299-98f1-0c1a79c25184"
      },
      "outputs": [],
      "source": [
        "str1, str2 = input().strip().split()\n",
        "print(str1 + str2)"
      ]
    },
    {
      "cell_type": "markdown",
      "metadata": {},
      "source": [
        "## 문자열 돌리기\n",
        "\n",
        "문자열 str이 주어집니다.\n",
        "문자열을 시계방향으로 90도 돌려서 아래 입출력 예와 같이 출력하는 코드를 작성해 보세요.\n",
        "입력: abcde"
      ]
    },
    {
      "cell_type": "code",
      "execution_count": null,
      "metadata": {
        "colab": {
          "base_uri": "https://localhost:8080/"
        },
        "id": "vYSbgFUBd48o",
        "outputId": "9a567433-9a63-45d2-c4d8-5ecdf6a7a389"
      },
      "outputs": [],
      "source": [
        "# print('\\n'.join(input()))\n",
        "for i in input():\n",
        "    print (i)"
      ]
    },
    {
      "cell_type": "markdown",
      "metadata": {},
      "source": [
        "## 홀짝 구분하기\n",
        "\n",
        "홀짝 구분하기\n",
        "자연수 n이 입력으로 주어졌을 때 만약 n이 짝수이면 \"n is even\"을,\n",
        "홀수이면 \"n is odd\"를 출력하는 코드를 작성해 보세요."
      ]
    },
    {
      "cell_type": "code",
      "execution_count": null,
      "metadata": {
        "colab": {
          "base_uri": "https://localhost:8080/"
        },
        "id": "keZuJFN8iOnu",
        "outputId": "f0e14bca-d0ee-4050-f169-304087acf002"
      },
      "outputs": [],
      "source": [
        "n = int(input())\n",
        "if n % 2 == 0:\n",
        "    print(f'{n} is even')\n",
        "else:\n",
        "    print(f'{n} is odd')"
      ]
    },
    {
      "cell_type": "markdown",
      "metadata": {},
      "source": [
        "## 문자열 곂쳐쓰기\n",
        "\n",
        "문자열 곂쳐쓰기\n",
        "문자열 my_string, overwrite_string과 정수 s가 주어집니다.\n",
        "문자열 my_string의 인덱스 s부터 overwrite_string의 길이만큼을\n",
        "문자열 overwrite_string으로 바꾼 문자열을 return 하는 solution 함수를 작성해 주세요.\n",
        "\n",
        "my_string\toverwrite_string\ts\tresult\n",
        "\"He11oWor1d\"\t\"lloWorl\"\t    2\t\"HelloWorld\""
      ]
    },
    {
      "cell_type": "code",
      "execution_count": null,
      "metadata": {
        "id": "kh7VkIfCjdAl"
      },
      "outputs": [],
      "source": [
        "def solution(my_string, overwrite_string, s):\n",
        "    answer = list(my_string)\n",
        "    answer[s:s + len(overwrite_string)] = overwrite_string\n",
        "    answer = ''.join(answer)\n",
        "    return answer\n",
        "\n",
        "solution(\"He11oWor1d\", \"lloWorl\", 2)"
      ]
    },
    {
      "cell_type": "markdown",
      "metadata": {},
      "source": [
        "# Day3"
      ]
    },
    {
      "cell_type": "markdown",
      "metadata": {},
      "source": [
        "## 문자열 섞기\n",
        "\n",
        "길이가 같은 두 문자열 str1과 str2가 주어집니다.\n",
        "두 문자열의 각 문자가 앞에서부터 서로 번갈아가면서 한 번씩 등장하는 문자열을 만들어 \n",
        "return 하는 solution 함수를 완성해 주세요\n"
      ]
    },
    {
      "cell_type": "code",
      "execution_count": null,
      "metadata": {},
      "outputs": [],
      "source": [
        "def solution(str1, str2):\n",
        "    str1 = str(str1)\n",
        "    str2 = str(str2)\n",
        "    str3 = []\n",
        "    for i in range(len(str1)):\n",
        "        str3.append(str1[i])\n",
        "        str3.append(str2[i])\n",
        "    str3 = ''.join(str3)\n",
        "    return str3\n",
        "\n",
        "solution('12345', 'abcde')"
      ]
    },
    {
      "cell_type": "markdown",
      "metadata": {},
      "source": [
        "## 문자 리스트를 문자열로 변환하기\n",
        "\n",
        "문자들이 담겨있는 배열 arr가 주어집니다. \n",
        "arr의 원소들을 순서대로 이어 붙인 문자열을 return 하는 solution함수를 작성해 주세요."
      ]
    },
    {
      "cell_type": "code",
      "execution_count": null,
      "metadata": {},
      "outputs": [],
      "source": [
        "def solution(arr):\n",
        "    return ''.join(arr)\n",
        "\n",
        "solution([\"a\",\"b\",\"c\"])"
      ]
    },
    {
      "cell_type": "markdown",
      "metadata": {},
      "source": [
        "## 문자열 곱하기\n",
        "\n",
        "문자열 my_string과 정수 k가 주어질 때, my_string을 k번 반복한 문자열을 \n",
        "return 하는 solution 함수를 작성해 주세요."
      ]
    },
    {
      "cell_type": "code",
      "execution_count": null,
      "metadata": {},
      "outputs": [],
      "source": [
        "def solution(my_string, k):\n",
        "    return my_string * k\n",
        "\n",
        "solution('abc', 3)\n",
        "\n",
        "sol = lambda my_string, k: ''.join([my_string * k]) #이런 방법도 있네"
      ]
    },
    {
      "cell_type": "markdown",
      "metadata": {},
      "source": [
        "## 더 크게 합치기\n",
        "\n",
        "#연산 ⊕는 두 정수에 대한 연산으로 두 정수를 붙여서 쓴 값을 반환합니다. 예를 들면 다음과 같습니다.\n",
        "12 ⊕ 3 = 123\n",
        "3 ⊕ 12 = 312\n",
        "양의 정수 a와 b가 주어졌을 때, a ⊕ b와 b ⊕ a 중 더 큰 값을 \n",
        "return 하는 solution 함수를 완성해 주세요.\n",
        "(단, a ⊕ b와 b ⊕ a가 같다면 a ⊕ b를 return 합니다.)\n"
      ]
    },
    {
      "cell_type": "code",
      "execution_count": null,
      "metadata": {},
      "outputs": [],
      "source": [
        "def solution(a, b):\n",
        "    c = str(a) + str(b)\n",
        "    d = str(b) + str(a)\n",
        "    answer = max(list([int(c), int(d)])) \n",
        "    return answer\n",
        "\n",
        "solution(91, 9)"
      ]
    },
    {
      "cell_type": "markdown",
      "metadata": {},
      "source": [
        "## 두 수의 연간값 비교하기\n",
        "\n",
        "연산 ⊕는 두 정수에 대한 연산으로 두 정수를 붙여서 쓴 값을 반환합니다. 예를 들면 다음과 같습니다.\n",
        "12 ⊕ 3 = 123\n",
        "3 ⊕ 12 = 312\n",
        "양의 정수 a와 b가 주어졌을 때, a ⊕ b와 2 * a * b 중 더 큰 값을 return하는 solution 함수를 완성해 주세요.\n",
        "단, a ⊕ b와 2 * a * b가 같으면 a ⊕ b를 return 합니다"
      ]
    },
    {
      "cell_type": "code",
      "execution_count": null,
      "metadata": {},
      "outputs": [],
      "source": [
        "def solution(a, b):\n",
        "    answer = max([2*a*b,int(str(a)+str(b))])\n",
        "    return answer\n",
        "\n",
        "solution(3, 9)"
      ]
    },
    {
      "cell_type": "markdown",
      "metadata": {},
      "source": [
        "# Day4"
      ]
    },
    {
      "cell_type": "markdown",
      "metadata": {},
      "source": [
        "## n의 배수 \n",
        "정수 num과 n이 매개 변수로 주어질 때, num이 n의 배수이면 1을 return n의 배수가 아니라면 0을 return하도록 solution 함수를 완성해주세요."
      ]
    },
    {
      "cell_type": "code",
      "execution_count": null,
      "metadata": {},
      "outputs": [],
      "source": [
        "def solution(num, n):\n",
        "    if num % n == 0:\n",
        "        return 1\n",
        "    else:\n",
        "        return 0"
      ]
    },
    {
      "cell_type": "markdown",
      "metadata": {},
      "source": [
        "## 공배수\n",
        "정수 number와 n, m이 주어집니다. number가 n의 배수이면서 m의 배수이면 1을 아니라면 0을 return하도록 solution 함수를 완성해주세요."
      ]
    },
    {
      "cell_type": "code",
      "execution_count": null,
      "metadata": {},
      "outputs": [],
      "source": [
        "def solution(number, n, m):\n",
        "    return int((number % n ==0) & (number % m == 0))"
      ]
    },
    {
      "cell_type": "markdown",
      "metadata": {},
      "source": [
        "## 홀짝에 따라 다른 값 반환하기\n",
        "양의 정수 n이 매개변수로 주어질 때, n이 홀수라면 n 이하의 홀수인 모든 양의 정수의 합을 return 하고 n이 짝수라면 n 이하의 짝수인 모든 양의 정수의 제곱의 합을 return 하는 solution 함수를 작성해 주세요."
      ]
    },
    {
      "cell_type": "code",
      "execution_count": null,
      "metadata": {},
      "outputs": [],
      "source": [
        "def solution(n):\n",
        "    if n % 2 == 1:\n",
        "        return sum(range(1, n+1, 2))\n",
        "    elif n % 2 == 0:\n",
        "        return sum(map(lambda x: x**2, range(0, n+1, 2)))\n",
        "        \n",
        "solution(10)"
      ]
    },
    {
      "cell_type": "markdown",
      "metadata": {},
      "source": [
        "## 조건 문자열\n",
        "문자열에 따라 다음과 같이 두 수의 크기를 비교하려고 합니다.\n",
        "\n",
        "두 수가 n과 m이라면\n",
        "\">\", \"=\" : n >= m\n",
        "\"<\", \"=\" : n <= m\n",
        "\">\", \"!\" : n > m\n",
        "\"<\", \"!\" : n < m\n",
        "두 문자열 ineq와 eq가 주어집니다. ineq는 \"<\"와 \">\"중 하나고, eq는 \"=\"와 \"!\"중 하나입니다. 그리고 두 정수 n과 m이 주어질 때, n과 m이 ineq와 eq의 조건에 맞으면 1을 아니면 0을 return하도록 solution 함수를 완성해주세요"
      ]
    },
    {
      "cell_type": "code",
      "execution_count": null,
      "metadata": {},
      "outputs": [],
      "source": [
        "#아니 이건 좀.... ㅋㅋㅋㅋ\n",
        "def solution(ineq, eq, n, m):\n",
        "    sol1 = ''\n",
        "    sol2 = ''\n",
        "    if '>' in ineq:\n",
        "        sol1 = 'left'\n",
        "    else:\n",
        "        sol1 = 'right'\n",
        "    if '=' in eq:\n",
        "        sol2 = 'equal'\n",
        "    else:\n",
        "        sol2 = 'x'\n",
        "    \n",
        "    caseA = int(n >= m)\n",
        "    caseB = int(n <= m)\n",
        "    caseC = int(n > m)\n",
        "    caseD = int(n < m)\n",
        "\n",
        "    if 'left' in sol1:\n",
        "        if 'equal' in sol2:\n",
        "            return caseA\n",
        "        else:\n",
        "            return caseC\n",
        "    elif 'right' in sol1:\n",
        "        if 'equal' in sol2:\n",
        "            return caseB\n",
        "        else:\n",
        "            return caseD\n",
        "    else:\n",
        "        pass\n",
        "\n",
        "\n",
        "solution(\">\", \"!\", 41, 70)\n"
      ]
    },
    {
      "cell_type": "markdown",
      "metadata": {},
      "source": [
        "## flag에 따라 다른 값 반환하기\n",
        "두 정수 a, b와 boolean 변수 flag가 매개변수로 주어질 때, flag가 true면 a + b를 false면 a - b를 return 하는 solution 함수를 작성해 주세요."
      ]
    },
    {
      "cell_type": "code",
      "execution_count": null,
      "metadata": {},
      "outputs": [],
      "source": [
        "def solution(a, b, flag):\n",
        "    if flag == True:\n",
        "        return a + b\n",
        "    else:\n",
        "        return a - b"
      ]
    },
    {
      "cell_type": "markdown",
      "metadata": {},
      "source": [
        "# Day5"
      ]
    },
    {
      "cell_type": "markdown",
      "metadata": {},
      "source": [
        "## 코드 처리하기\n",
        "문자열 code가 주어집니다.\n",
        "code를 앞에서부터 읽으면서 만약 문자가 \"1\"이면 mode를 바꿉니다. mode에 따라 code를 읽어가면서 문자열 ret을 만들어냅니다.\n",
        "\n",
        "mode는 0과 1이 있으며, idx를 0 부터 code의 길이 - 1 까지 1씩 키워나가면서 code[idx]의 값에 따라 다음과 같이 행동합니다.\n",
        "\n",
        "mode가 0일 때\n",
        "code[idx]가 \"1\"이 아니면 idx가 짝수일 때만 ret의 맨 뒤에 code[idx]를 추가합니다.\n",
        "code[idx]가 \"1\"이면 mode를 0에서 1로 바꿉니다.\n",
        "mode가 1일 때\n",
        "code[idx]가 \"1\"이 아니면 idx가 홀수일 때만 ret의 맨 뒤에 code[idx]를 추가합니다.\n",
        "code[idx]가 \"1\"이면 mode를 1에서 0으로 바꿉니다.\n",
        "문자열 code를 통해 만들어진 문자열 ret를 return 하는 solution 함수를 완성해 주세요.\n",
        "\n",
        "단, 시작할 때 mode는 0이며, return 하려는 ret가 만약 빈 문자열이라면 대신 \"EMPTY\"를 return 합니다."
      ]
    },
    {
      "cell_type": "code",
      "execution_count": null,
      "metadata": {},
      "outputs": [],
      "source": [
        "def solution(code):\n",
        "    mode = 0\n",
        "    ret = ''\n",
        "    for i in range(len(code)):\n",
        "        if code[i] == '1':\n",
        "            if mode == 0:\n",
        "                mode = 1\n",
        "            else:\n",
        "                mode = 0\n",
        "        \n",
        "        if i % 2 == 0 and mode == 0 and '1' not in code[i]:\n",
        "            ret += code[i]\n",
        "        elif i % 2 == 1 and mode == 1 and '1' not in code[i]:\n",
        "            ret += code[i]\n",
        "    if ret == '':\n",
        "        ret = 'EMPTY'\n",
        "    return ret\n",
        "\n",
        "solution(\"\")"
      ]
    },
    {
      "cell_type": "markdown",
      "metadata": {},
      "source": [
        "## 등차수열의 특정한 항만 더하기\n",
        "두 정수 a, d와 길이가 n인 boolean 배열 included가 주어집니다. \n",
        "첫째항이 a, 공차가 d인 등차수열에서 included[i]가 i + 1항을 의미할 때, \n",
        "이 등차수열의 1항부터 n항까지 included가 true인 항들만 더한 값을 \n",
        "return 하는 solution 함수를 작성해 주세요.\n",
        "![Alt text](image-1.png)"
      ]
    },
    {
      "cell_type": "code",
      "execution_count": null,
      "metadata": {},
      "outputs": [],
      "source": [
        "def solution(a, b ,included):\n",
        "    result = 0\n",
        "    include = []\n",
        "    for i in included:\n",
        "        include.append(i)\n",
        "    \n",
        "    for i in range(len(included)):\n",
        "        if included[i] == True:\n",
        "            result += a + (b * i) \n",
        "    \n",
        "    return result\n",
        "\n",
        "solution(7,1, [False, False, False, True, False, False, False])"
      ]
    },
    {
      "cell_type": "markdown",
      "metadata": {},
      "source": [
        "## 주사위 게임 2\n",
        "1부터 6까지 숫자가 적힌 주사위가 세 개 있습니다. 세 주사위를 굴렸을 때 나온 숫자를 각각 a, b, c라고 했을 때 얻는 점수는 다음과 같습니다.\n",
        "\n",
        "세 숫자가 모두 다르다면 a + b + c 점을 얻습니다.\n",
        "세 숫자 중 어느 두 숫자는 같고 나머지 다른 숫자는 다르다면 (a + b + c) × (a2 + b2 + c2 )점을 얻습니다.\n",
        "세 숫자가 모두 같다면 (a + b + c) × (a2 + b2 + c2 ) × (a3 + b3 + c3 )점을 얻습니다.\n",
        "세 정수 a, b, c가 매개변수로 주어질 때, 얻는 점수를 return 하는 solution 함수를 작성해 주세요."
      ]
    },
    {
      "cell_type": "code",
      "execution_count": null,
      "metadata": {},
      "outputs": [],
      "source": [
        "def solution(a, b, c):\n",
        "    sum1 = a + b + c\n",
        "    sum2 = a**2 + b**2 + c**2\n",
        "    sum3 = a**3 + b**3 + c**3\n",
        "    if a == b and b == c:\n",
        "        return sum1 * sum2 * sum3\n",
        "    if (a == b or a == c or b == c):\n",
        "        return sum1 * sum2\n",
        "    else:\n",
        "        return sum1\n",
        "    \n",
        "solution(3, 3, 3)"
      ]
    },
    {
      "cell_type": "markdown",
      "metadata": {},
      "source": [
        "## 원소들의 곱과 합\n",
        "정수가 담긴 리스트 num_list가 주어질 때, 모든 원소들의 곱이 모든 원소들의 합의 제곱보다 작으면 1을 크면 0을 return하도록 solution 함수를 완성해주세요."
      ]
    },
    {
      "cell_type": "code",
      "execution_count": null,
      "metadata": {},
      "outputs": [],
      "source": [
        "def solution(num_list):\n",
        "    mul = num_list[0]\n",
        "    square = 0\n",
        "    for value in num_list:\n",
        "        for i in range(len(num_list)):\n",
        "            if i > 0:\n",
        "                mul = mul * num_list[i]\n",
        "        break\n",
        "        \n",
        "    for val in num_list:\n",
        "        square += val\n",
        "    square = square**2\n",
        "\n",
        "    if mul < square:\n",
        "        return 1\n",
        "    else:\n",
        "        return 0\n",
        "    \n",
        "solution([3, 4, 5, 2, 1])"
      ]
    },
    {
      "cell_type": "markdown",
      "metadata": {},
      "source": [
        "## 이어 붙인 수\n",
        "정수가 담긴 리스트 num_list가 주어집니다. num_list의 홀수만 순서대로 이어 붙인 수와 짝수만 순서대로 이어 붙인 수의 합을 return하도록 solution 함수를 완성해주세요."
      ]
    },
    {
      "cell_type": "code",
      "execution_count": null,
      "metadata": {},
      "outputs": [],
      "source": [
        "def solution(num_list):\n",
        "    oddlist = int(''.join(map(str, list(filter(lambda x:x % 2 == 1, list(map(int, num_list)))))))\n",
        "    evenlist = int(''.join(map( str, list(filter(lambda x:x % 2 == 0, list(map(int, num_list)))))))\n",
        "    return oddlist + evenlist\n",
        "\n",
        "solution([3, 4, 5, 2, 1])"
      ]
    },
    {
      "cell_type": "markdown",
      "metadata": {},
      "source": [
        "# Day6"
      ]
    },
    {
      "cell_type": "markdown",
      "metadata": {},
      "source": [
        "## 마지막 두 원소\n",
        "정수 리스트 num_list가 주어질 때, 마지막 원소가 그전 원소보다 크면 마지막 원소에서 그전 원소를 뺀 값을 마지막 원소가 그전 원소보다 크지 않다면 마지막 원소를 두 배한 값을 추가하여 return하도록 solution 함수를 완성해주세요."
      ]
    },
    {
      "cell_type": "code",
      "execution_count": null,
      "metadata": {},
      "outputs": [],
      "source": [
        "def solution(num_list):\n",
        "    result = num_list\n",
        "    if num_list[-1] > num_list[-2]:\n",
        "        result.append(num_list[-1] - num_list[-2])\n",
        "        return result\n",
        "    if num_list[-1] <= num_list[-2]:\n",
        "        result.append(num_list[-1] * 2)\n",
        "        return result\n",
        "\n",
        "solution([2, 1, 3, 4, 5, 6, 7, 8, 11, 10])"
      ]
    },
    {
      "cell_type": "markdown",
      "metadata": {},
      "source": [
        "## 수 조작하기1\n",
        "정수 n과 문자열 control이 주어집니다. control은 \"w\", \"a\", \"s\", \"d\"의 4개의 문자로 이루어져 있으며, control의 앞에서부터 순서대로 문자에 따라 n의 값을 바꿉니다.\n",
        "\n",
        "\"w\" : n이 1 커집니다.\n",
        "\"s\" : n이 1 작아집니다.\n",
        "\"d\" : n이 10 커집니다.\n",
        "\"a\" : n이 10 작아집니다.\n",
        "위 규칙에 따라 n을 바꿨을 때 가장 마지막에 나오는 n의 값을 return 하는 solution 함수를 완성해 주세요."
      ]
    },
    {
      "cell_type": "code",
      "execution_count": null,
      "metadata": {},
      "outputs": [],
      "source": [
        "def solution(n, control):\n",
        "    for i in control:\n",
        "        if 'w' in i:\n",
        "            n += 1\n",
        "        if 's' in i:\n",
        "            n -= 1\n",
        "        if 'd' in i:\n",
        "            n += 10\n",
        "        if 'a' in i:\n",
        "            n -= 10\n",
        "    return n\n",
        "\n",
        "solution(0, \"wsdawsdassw\")"
      ]
    },
    {
      "cell_type": "markdown",
      "metadata": {},
      "source": [
        "## 수 조작하기2\n",
        "정수 배열 numLog가 주어집니다. 처음에 numLog[0]에서 부터 시작해 \"w\", \"a\", \"s\", \"d\"로 이루어진 문자열을 입력으로 받아 순서대로 다음과 같은 조작을 했다고 합시다.\n",
        "\n",
        "\"w\" : 수에 1을 더한다.\n",
        "\"s\" : 수에 1을 뺀다.\n",
        "\"d\" : 수에 10을 더한다.\n",
        "\"a\" : 수에 10을 뺀다.\n",
        "그리고 매번 조작을 할 때마다 결괏값을 기록한 정수 배열이 numLog입니다. 즉, numLog[i]는 numLog[0]로부터 총 i번의 조작을 가한 결과가 저장되어 있습니다.\n",
        "\n",
        "주어진 정수 배열 numLog에 대해 조작을 위해 입력받은 문자열을 return 하는 solution 함수를 완성해 주세요."
      ]
    },
    {
      "cell_type": "code",
      "execution_count": null,
      "metadata": {},
      "outputs": [],
      "source": [
        "# 개인적으로 마음에 안드는 솔루션\n",
        "def solution(numLog):\n",
        "    result = ''\n",
        "    for i in range(len(numLog)-1):\n",
        "        if numLog[i+1] - numLog[i] == 1:\n",
        "            result += 'w'\n",
        "        if numLog[i+1] - numLog[i] == -1:\n",
        "            result += 's'\n",
        "        if numLog[i+1] - numLog[i] == 10:\n",
        "            result += 'd'\n",
        "        if numLog[i+1] - numLog[i] == -10:\n",
        "            result += 'a'\n",
        "    return result\n",
        "\n",
        "solution([0, 1, 0, 10, 0, 1, 0, 10, 0, -1, -2, -1])"
      ]
    },
    {
      "cell_type": "code",
      "execution_count": null,
      "metadata": {},
      "outputs": [],
      "source": [
        "# 수정버전\n",
        "def solution(numLog):\n",
        "    keyboard = dict(zip([1, -1, 10, -10], ['w', 's', 'd', 'a']))\n",
        "    print(keyboard)\n",
        "    result = ''\n",
        "    for num in numLog:\n",
        "        result += str(keyboard.get(num, 0))\n",
        "        print(keyboard.get(num))\n",
        "    return result\n",
        "solution([0, 1, 0, 10, 0, 1, 0, 10, 0, -1, -2, -1])\n"
      ]
    },
    {
      "cell_type": "markdown",
      "metadata": {},
      "source": [
        "## 수열과 구간쿼리 3\n",
        "정수 배열 arr와 2차원 정수 배열 queries이 주어집니다. queries의 원소는 각각 하나의 query를 나타내며, [i, j] 꼴입니다.\n",
        "\n",
        "각 query마다 순서대로 arr[i]의 값과 arr[j]의 값을 서로 바꿉니다.\n",
        "\n",
        "위 규칙에 따라 queries를 처리한 이후의 arr를 return 하는 solution 함수를 완성해 주세요."
      ]
    },
    {
      "cell_type": "code",
      "execution_count": null,
      "metadata": {},
      "outputs": [],
      "source": [
        "def solution(arr, queries):\n",
        "    for i, j in queries:\n",
        "        arr[i], arr[j] = arr[j], arr[i]\n",
        "    return arr\n",
        "\n",
        "print(solution([0, 1, 2, 3, 4], [[0, 3],[1, 2],[1, 4]]))"
      ]
    },
    {
      "cell_type": "markdown",
      "metadata": {},
      "source": [
        "## 수열과 구간쿼리 2\n",
        "정수 배열 arr와 2차원 정수 배열 queries이 주어집니다. queries의 원소는 각각 하나의 query를 나타내며, [s, e, k] 꼴입니다.\n",
        "\n",
        "각 query마다 순서대로 s ≤ i ≤ e인 모든 i에 대해 k보다 크면서 가장 작은 arr[i]를 찾습니다.\n",
        "\n",
        "각 쿼리의 순서에 맞게 답을 저장한 배열을 반환하는 solution 함수를 완성해 주세요.\n",
        "단, 특정 쿼리의 답이 존재하지 않으면 -1을 저장합니다.\n"
      ]
    },
    {
      "cell_type": "code",
      "execution_count": null,
      "metadata": {},
      "outputs": [],
      "source": [
        "def solution(arr, queries):\n",
        "    result = []\n",
        "    for s, e, k in queries:\n",
        "        arr_1 = arr[s:e+1]\n",
        "        arr_2 = [i for i in arr_1 if i > k]\n",
        "        try:\n",
        "            result.append(min(arr_2))\n",
        "        except:\n",
        "            result.append(-1)\n",
        "    return result\n",
        "\n",
        "solution([0, 1, 2, 4, 3], [[0, 4, 2],[0, 3, 2], [0, 2, 2]])\n",
        "\n"
      ]
    },
    {
      "cell_type": "markdown",
      "metadata": {},
      "source": [
        "# Day7 "
      ]
    },
    {
      "cell_type": "markdown",
      "metadata": {},
      "source": [
        "## 수열과 구간 쿼리4\n",
        "정수 배열 arr와 2차원 정수 배열 queries이 주어집니다. queries의 원소는 각각 하나의 query를 나타내며, [s, e, k] 꼴입니다.\n",
        "\n",
        "각 query마다 순서대로 s ≤ i ≤ e인 모든 i에 대해 i가 k의 배수이면 arr[i]에 1을 더합니다.\n",
        "\n",
        "위 규칙에 따라 queries를 처리한 이후의 arr를 return 하는 solution 함수를 완성해 주세요."
      ]
    },
    {
      "cell_type": "code",
      "execution_count": null,
      "metadata": {},
      "outputs": [],
      "source": [
        "def solution(arr, queries):\n",
        "    for s, e, k in queries:\n",
        "        for i in range(s, e+1):\n",
        "            if i % k == 0:\n",
        "                arr[i] += 1\n",
        "            \n",
        "    return arr\n",
        "\n",
        "\n",
        "solution([0, 1, 2, 4, 3], [[0, 4, 1],[0, 3, 2],[0, 3, 3]])"
      ]
    },
    {
      "cell_type": "markdown",
      "metadata": {},
      "source": [
        "## 배열 만들기 2\n",
        "정수 l과 r이 주어졌을 때, l 이상 r이하의 정수 중에서 숫자 \"0\"과 \"5\"로만 이루어진 모든 정수를 오름차순으로 저장한 배열을 return 하는 solution 함수를 완성해 주세요.\n",
        "\n",
        "만약 그러한 정수가 없다면, -1이 담긴 배열을 return 합니다."
      ]
    },
    {
      "cell_type": "code",
      "execution_count": null,
      "metadata": {},
      "outputs": [],
      "source": [
        "def solution(l, r):\n",
        "    result = []\n",
        "    for i in range(l, r + 1):\n",
        "        if set(str(i)) <= {\"0\", \"5\"}:\n",
        "            result.append(i)\n",
        "    if len(result) == 0:\n",
        "        result.append(-1)\n",
        "    return result\n",
        "\n",
        "solution(10, 40)"
      ]
    },
    {
      "cell_type": "markdown",
      "metadata": {},
      "source": [
        "## 카운트업\n",
        "정수 start_num와 end_num가 주어질 때, start_num부터 \n",
        "end_num까지의 숫자를 차례로 담은 리스트를 return하도록 solution 함수를 완성해주세요."
      ]
    },
    {
      "cell_type": "code",
      "execution_count": null,
      "metadata": {},
      "outputs": [],
      "source": [
        "def solution(start_num, end_num):\n",
        "    st, end = start_num, end_num\n",
        "    return [i for i in range(st, end+1)]\n",
        "\n",
        "solution(3, 10)"
      ]
    },
    {
      "cell_type": "markdown",
      "metadata": {},
      "source": [
        "## 콜라츠 수열 만들기\n",
        "모든 자연수 x에 대해서 현재 값이 x이면 x가 짝수일 때는 2로 나누고, x가 홀수일 때는 3 * x + 1로 바꾸는 계산을 계속해서 반복하면 언젠가는 반드시 x가 1이 되는지 묻는 문제를 콜라츠 문제라고 부릅니다.\n",
        "\n",
        "그리고 위 과정에서 거쳐간 모든 수를 기록한 수열을 콜라츠 수열이라고 부릅니다.\n",
        "\n",
        "계산 결과 1,000 보다 작거나 같은 수에 대해서는 전부 언젠가 1에 도달한다는 것이 알려져 있습니다.\n",
        "\n",
        "임의의 1,000 보다 작거나 같은 양의 정수 n이 주어질 때 초기값이 n인 콜라츠 수열을 return 하는 solution 함수를 완성해 주세요."
      ]
    },
    {
      "cell_type": "code",
      "execution_count": null,
      "metadata": {},
      "outputs": [],
      "source": [
        "def solution(x):\n",
        "    result = x\n",
        "    arr1 = [x]\n",
        "    while True:\n",
        "        if result == 1:\n",
        "            break\n",
        "        if result % 2 == 0:\n",
        "            result = result / 2\n",
        "            arr1.append(int(result))\n",
        "        if result == 1:\n",
        "            break\n",
        "        if result % 2 == 1:\n",
        "            result = result * 3 + 1\n",
        "            arr1.append(int(result))\n",
        "    return arr1\n",
        "    \n",
        "solution(586)"
      ]
    },
    {
      "cell_type": "markdown",
      "metadata": {},
      "source": [
        "## 배열 만들기 4\n",
        "정수 배열 arr가 주어집니다. arr를 이용해 새로운 배열 stk를 만드려고 합니다.\n",
        "\n",
        "변수 i를 만들어 초기값을 0으로 설정한 후 i가 arr의 길이보다 작으면 다음 작업을 반복합니다.\n",
        "\n",
        "만약 stk가 빈 배열이라면 arr[i]를 stk에 추가하고 i에 1을 더합니다.\n",
        "stk에 원소가 있고, stk의 마지막 원소가 arr[i]보다 작으면 arr[i]를 stk의 뒤에 추가하고 i에 1을 더합니다.\n",
        "stk에 원소가 있는데 stk의 마지막 원소가 arr[i]보다 크거나 같으면 stk의 마지막 원소를 stk에서 제거합니다.\n",
        "위 작업을 마친 후 만들어진 stk를 return 하는 solution 함수를 완성해 주세요."
      ]
    },
    {
      "cell_type": "code",
      "execution_count": null,
      "metadata": {},
      "outputs": [],
      "source": [
        "def solution(arr):\n",
        "    i = 0\n",
        "    stk = []\n",
        "    while i < len(arr):\n",
        "        if len(stk) == 0 or stk[-1] < arr[i]:\n",
        "            stk.append(arr[i])\n",
        "            i += 1\n",
        "        elif  stk[-1] >= arr[i]:\n",
        "            stk.pop()\n",
        "    \n",
        "    return stk\n",
        "\n",
        "solution([1,4,2,5,3])"
      ]
    },
    {
      "cell_type": "markdown",
      "metadata": {},
      "source": [
        "# Day8"
      ]
    },
    {
      "cell_type": "markdown",
      "metadata": {},
      "source": [
        "## 간단한 논리 연산\n",
        "boolean 변수 x1, x2, x3, x4가 매개변수로 주어질 때, 다음의 식의 true/false를 return 하는 solution 함수를 작성해 주세요.\n",
        "\n",
        "(x1 ∨ x2) ∧ (x3 ∨ x4)"
      ]
    },
    {
      "cell_type": "code",
      "execution_count": null,
      "metadata": {},
      "outputs": [],
      "source": [
        "def solution(x1, x2, x3, x4):\n",
        "    return (x1 or x2) and (x3 or x4)\n",
        "\n",
        "solution(True, False, False, False)"
      ]
    },
    {
      "cell_type": "markdown",
      "metadata": {},
      "source": [
        "## 주사위 게임3\n",
        "1부터 6까지 숫자가 적힌 주사위가 네 개 있습니다. 네 주사위를 굴렸을 때 나온 숫자에 따라 다음과 같은 점수를 얻습니다.\n",
        "\n",
        "네 주사위에서 나온 숫자가 모두 p로 같다면 1111 × p점을 얻습니다.\n",
        "세 주사위에서 나온 숫자가 p로 같고 나머지 다른 주사위에서 나온 숫자가 q(p ≠ q)라면 (10 × p + q)2 점을 얻습니다.\n",
        "주사위가 두 개씩 같은 값이 나오고, 나온 숫자를 각각 p, q(p ≠ q)라고 한다면 (p + q) × |p - q|점을 얻습니다.\n",
        "어느 두 주사위에서 나온 숫자가 p로 같고 나머지 두 주사위에서 나온 숫자가 각각 p와 다른 q, r(q ≠ r)이라면 q × r점을 얻습니다.\n",
        "네 주사위에 적힌 숫자가 모두 다르다면 나온 숫자 중 가장 작은 숫자 만큼의 점수를 얻습니다.\n",
        "네 주사위를 굴렸을 때 나온 숫자가 정수 매개변수 a, b, c, d로 주어질 때, 얻는 점수를 return 하는 solution 함수를 작성해 주세요."
      ]
    },
    {
      "cell_type": "code",
      "execution_count": null,
      "metadata": {},
      "outputs": [],
      "source": [
        "from collections import Counter\n",
        "\n",
        "def solution(a, b, c, d):\n",
        "    arr1 = [a, b, c, d]\n",
        "    counter = Counter(arr1)\n",
        "    if len(counter) == 1:\n",
        "        return 1111 * a\n",
        "    if len(counter) == 2:\n",
        "        p, q = counter.keys()\n",
        "        if counter[p] == 2 and counter[q] == 2:\n",
        "            return (p + q) * abs(p - q)\n",
        "        else:\n",
        "            if counter.get(p) == 3:\n",
        "                return (10 * p + q) ** 2\n",
        "            if counter.get(p) == 1:\n",
        "                return (10 * q + p) ** 2\n",
        "    if len(counter) == 3:\n",
        "        for key, value in counter.items():\n",
        "            if value == 1:\n",
        "                if 'single1' not in locals():\n",
        "                    single1 = key\n",
        "                else:\n",
        "                    single2 = key\n",
        "        return single1 * single2\n",
        "    if len(counter) == 4:\n",
        "        return min(arr1)\n",
        "\n",
        "solution(3, 2, 2, 2)"
      ]
    },
    {
      "cell_type": "markdown",
      "metadata": {},
      "source": [
        "## 글자 이어 붙여 문자열 만들기\n",
        "문자열 my_string과 정수 배열 index_list가 매개변수로 주어집니다. my_string의 index_list의 원소들에 해당하는 인덱스의 글자들을 순서대로 이어 붙인 문자열을 return 하는 solution 함수를 작성해 주세요."
      ]
    },
    {
      "cell_type": "code",
      "execution_count": null,
      "metadata": {},
      "outputs": [],
      "source": [
        "def solution(my_string, index_list):\n",
        "    result = ''\n",
        "    for index in index_list:\n",
        "        result += my_string[index]\n",
        "    return result\n",
        "\n",
        "solution(\"cvsgiorszzzmrpaqpe\", [16, 6, 5, 3, 12, 14, 11, 11, 17, 12, 7]\t)"
      ]
    },
    {
      "cell_type": "markdown",
      "metadata": {},
      "source": [
        "## 9로 나눈 나머지\n",
        "음이 아닌 정수를 9로 나눈 나머지는 그 정수의 각 자리 숫자의 합을 9로 나눈 나머지와 같은 것이 알려져 있습니다.\n",
        "이 사실을 이용하여 음이 아닌 정수가 문자열 number로 주어질 때, 이 정수를 9로 나눈 나머지를 return 하는 solution 함수를 작성해주세요."
      ]
    },
    {
      "cell_type": "code",
      "execution_count": null,
      "metadata": {},
      "outputs": [],
      "source": [
        "def solution(num):\n",
        "    return int(num) % 9"
      ]
    },
    {
      "cell_type": "code",
      "execution_count": null,
      "metadata": {},
      "outputs": [],
      "source": [
        "# 검증\n",
        "def solution(num):\n",
        "    word = []\n",
        "    if isinstance(num, str):\n",
        "        for i in num:\n",
        "            word.append(i)\n",
        "    sumword = sum(map(int, word))\n",
        "    count = 1 \n",
        "    left = int(num) % 9\n",
        "    count = int(num) // 9\n",
        "    return f'{num}의 각 자리 숫자의 합은{sumword}이며 이는 9 X {count} + {left}로 나타냅니다.'\n",
        "\n",
        "solution(56456)"
      ]
    },
    {
      "cell_type": "markdown",
      "metadata": {},
      "source": [
        "## 문자열 여러번 뒤집기\n",
        "문자열 my_string과 이차원 정수 배열 queries가 매개변수로 주어집니다. queries의 원소는 [s, e] 형태로, my_string의 인덱스 s부터 인덱스 e까지를 뒤집으라는 의미입니다. my_string에 queries의 명령을 순서대로 처리한 후의 문자열을 return 하는 solution 함수를 작성해 주세요."
      ]
    },
    {
      "cell_type": "code",
      "execution_count": null,
      "metadata": {},
      "outputs": [],
      "source": [
        "def solution(my_string, queries):\n",
        "    result = list(my_string)\n",
        "    print(my_string[0])\n",
        "    for start, end in queries:\n",
        "        result[start : end+1] = result[start:end+1:][::-1]\n",
        "    return ''.join(result)\n",
        "\n",
        "\n",
        "solution(\"rermgorpsam\", [[2, 3], [0, 7], [5, 9], [6, 10]])"
      ]
    },
    {
      "cell_type": "markdown",
      "metadata": {},
      "source": [
        "# Day9"
      ]
    },
    {
      "cell_type": "markdown",
      "metadata": {},
      "source": [
        "## 배열 만들기 5\n",
        "문자열 배열 intStrs와 정수 k, s, l가 주어집니다. intStrs의 원소는 숫자로 이루어져 있습니다.\n",
        "\n",
        "배열 intStrs의 각 원소마다 s번 인덱스에서 시작하는 길이 l짜리 부분 문자열을 잘라내 정수로 변환합니다. 이때 변환한 정수값이 k보다 큰 값들을 담은 배열을 return 하는 solution 함수를 완성해 주세요."
      ]
    },
    {
      "cell_type": "code",
      "execution_count": null,
      "metadata": {},
      "outputs": [],
      "source": [
        "%%timeit\n",
        "def solution(intStrs, k ,s, l):\n",
        "    result = []\n",
        "    for intstr in intStrs:\n",
        "        if int(intstr[s:s+l]) > k:\n",
        "            result.append(int(intstr[s:s+l]))\n",
        "    return result\n",
        "\n",
        "solution([\"0123456789\",\"9876543210\",\"9999999999999\"], 50000, 5, 5)"
      ]
    },
    {
      "cell_type": "code",
      "execution_count": null,
      "metadata": {},
      "outputs": [],
      "source": [
        "%%timeit\n",
        "def solution(intStrs, k ,s, l):\n",
        "    result = [int(intstr[s:s+l]) for intstr in intStrs if int(intstr[s:s+l]) > k]\n",
        "    return result\n",
        "\n",
        "solution([\"0123456789\",\"9876543210\",\"9999999999999\"], 50000, 5, 5)"
      ]
    },
    {
      "cell_type": "markdown",
      "metadata": {},
      "source": [
        "## 부분 문자열 이어 붙여 문자열 만들기\n",
        "길이가 같은 문자열 배열 my_strings와 이차원 정수 배열 parts가 매개변수로 주어집니다. parts[i]는 [s, e] 형태로, my_string[i]의 인덱스 s부터 인덱스 e까지의 부분 문자열을 의미합니다. 각 my_strings의 원소의 parts에 해당하는 부분 문자열을 순서대로 이어 붙인 문자열을 return 하는 solution 함수를 작성해 주세요."
      ]
    },
    {
      "cell_type": "code",
      "execution_count": null,
      "metadata": {},
      "outputs": [],
      "source": [
        "def solution(my_strings, parts):\n",
        "    result = ''\n",
        "    count = 0\n",
        "    for my_string in my_strings:        \n",
        "        result = result + (my_string[parts[count][0]:parts[count][1]+1])\n",
        "        count += 1\n",
        "    return result\n",
        "\n",
        "solution([\"progressive\", \"hamburger\", \"hammer\", \"ahocorasick\"], [[0, 4], [1, 2], [3, 5], [7, 7]])"
      ]
    },
    {
      "cell_type": "markdown",
      "metadata": {},
      "source": [
        "## 문자열의 뒤의 n글자\n",
        "문자열 my_string과 정수 n이 매개변수로 주어질 때, my_string의 뒤의 n글자로 이루어진 문자열을 return 하는 solution 함수를 작성해 주세요."
      ]
    },
    {
      "cell_type": "code",
      "execution_count": null,
      "metadata": {},
      "outputs": [],
      "source": [
        "def solution(my_string, n):\n",
        "    return (my_string[:-n-1: -1][::-1])\n",
        "\n",
        "solution(\"ProgrammerS123\", 11)"
      ]
    },
    {
      "cell_type": "code",
      "execution_count": null,
      "metadata": {},
      "outputs": [],
      "source": [
        "def solution(my_string, n):\n",
        "    return (my_string[-n:])\n",
        "solution(\"ProgrammerS123\", 11)"
      ]
    },
    {
      "cell_type": "markdown",
      "metadata": {},
      "source": [
        "## 접미사 배열\n",
        "어떤 문자열에 대해서 접미사는 특정 인덱스부터 시작하는 문자열을 의미합니다. 예를 들어, \"banana\"의 모든 접미사는 \"banana\", \"anana\", \"nana\", \"ana\", \"na\", \"a\"입니다.\n",
        "문자열 my_string이 매개변수로 주어질 때, my_string의 모든 접미사를 사전순으로 정렬한 문자열 배열을 return 하는 solution 함수를 작성해 주세요."
      ]
    },
    {
      "cell_type": "code",
      "execution_count": null,
      "metadata": {},
      "outputs": [],
      "source": [
        "def solution(my_string):\n",
        "    return sorted([my_string[i:] for i in range(len(my_string))])\n",
        "\n",
        "solution(\"banana\")"
      ]
    },
    {
      "cell_type": "markdown",
      "metadata": {},
      "source": [
        "## 접미사인지 확인하기\n",
        "어떤 문자열에 대해서 접미사는 특정 인덱스부터 시작하는 문자열을 의미합니다. 예를 들어, \"banana\"의 모든 접미사는 \"banana\", \"anana\", \"nana\", \"ana\", \"na\", \"a\"입니다.\n",
        "문자열 my_string과 is_suffix가 주어질 때, is_suffix가 my_string의 접미사라면 1을, 아니면 0을 return 하는 solution 함수를 작성해 주세요"
      ]
    },
    {
      "cell_type": "code",
      "execution_count": null,
      "metadata": {},
      "outputs": [],
      "source": [
        "def solution (my_string, is_suffix):\n",
        "    suffix_list = [my_string[i:] for i in range(len(my_string))]\n",
        "    if is_suffix in suffix_list:\n",
        "        return 1\n",
        "    return 0\n",
        "\n",
        "solution(\"banana\", 'ana')"
      ]
    },
    {
      "cell_type": "markdown",
      "metadata": {},
      "source": [
        "# Day10"
      ]
    },
    {
      "cell_type": "markdown",
      "metadata": {},
      "source": [
        "## 문자열의 앞의 n글자\n",
        "문자열 my_string과 정수 n이 매개변수로 주어질 때, my_string의 앞의 n글자로 이루어진 문자열을 return 하는 solution 함수를 작성해 주세요."
      ]
    },
    {
      "cell_type": "code",
      "execution_count": null,
      "metadata": {},
      "outputs": [],
      "source": [
        "def solution(my_string, n):\n",
        "    return my_string[:n]"
      ]
    },
    {
      "cell_type": "markdown",
      "metadata": {},
      "source": [
        "## 접두사인지 확인하기\n",
        "어떤 문자열에 대해서 접두사는 특정 인덱스까지의 문자열을 의미합니다. 예를 들어, \"banana\"의 모든 접두사는 \"b\", \"ba\", \"ban\", \"bana\", \"banan\", \"banana\"입니다.\n",
        "문자열 my_string과 is_prefix가 주어질 때, is_prefix가 my_string의 접두사라면 1을, 아니면 0을 return 하는 solution 함수를 작성해 주세요"
      ]
    },
    {
      "cell_type": "code",
      "execution_count": null,
      "metadata": {},
      "outputs": [],
      "source": [
        "def solution(my_string, is_prefix):\n",
        "    if is_prefix in [my_string[:i] for i in range(len(my_string))]:\n",
        "        return 1\n",
        "    else:\n",
        "        return 0\n",
        "\n",
        "solution(\"banana\", 'b')"
      ]
    },
    {
      "cell_type": "markdown",
      "metadata": {},
      "source": [
        "## 문자열 뒤집기\n",
        "문자열 my_string과 정수 s, e가 매개변수로 주어질 때, my_string에서 인덱스 s부터 인덱스 e까지를 뒤집은 문자열을 return 하는 solution 함수를 작성해 주세요."
      ]
    },
    {
      "cell_type": "code",
      "execution_count": null,
      "metadata": {},
      "outputs": [],
      "source": [
        "def solution(my_string, s, e):\n",
        "    return my_string[:s] + my_string[s:e+1][::-1] + my_string[e+1:]\n",
        "\n",
        "\n",
        "solution(\"Progra21Sremm3\", 6, 12)"
      ]
    },
    {
      "cell_type": "markdown",
      "metadata": {},
      "source": [
        "## 세로 읽기\n",
        "문자열 my_string과 두 정수 m, c가 주어집니다. my_string을 한 줄에 m 글자씩 가로로 적었을 때 왼쪽부터 세로로 c번째 열에 적힌 글자들을 문자열로 return 하는 solution 함수를 작성해 주세요."
      ]
    },
    {
      "cell_type": "code",
      "execution_count": null,
      "metadata": {},
      "outputs": [],
      "source": [
        "def solution(my_string, m, c):\n",
        "    return my_string[c-1::m]\n",
        "\n",
        "\n",
        "solution(\"programmers\", 1, 1)"
      ]
    },
    {
      "cell_type": "markdown",
      "metadata": {},
      "source": [
        "## QR CODE\n",
        "두 정수 q, r과 문자열 code가 주어질 때, code의 각 인덱스를 q로 나누었을 때 나머지가 r인 위치의 문자를 앞에서부터 순서대로 이어 붙인 문자열을 return 하는 solution 함수를 작성해 주세요."
      ]
    },
    {
      "cell_type": "code",
      "execution_count": null,
      "metadata": {},
      "outputs": [],
      "source": [
        "def solution(q, r ,code):\n",
        "    result = []\n",
        "    for word in code:\n",
        "        if code.index(word) % q == r:\n",
        "            result.append(word)\n",
        "    return ''.join(result)\n",
        "\n",
        "solution(3, 1, \"qjnwezgrpirldywt\")"
      ]
    },
    {
      "cell_type": "code",
      "execution_count": null,
      "metadata": {},
      "outputs": [],
      "source": [
        "def solution(q, r ,code):\n",
        "    return str(''.join(word for word in code if code.index(word) % q == r))\n",
        "\n",
        "solution(3, 1, \"qjnwezgrpirldywt\")"
      ]
    },
    {
      "cell_type": "code",
      "execution_count": null,
      "metadata": {},
      "outputs": [],
      "source": [
        "def solution(q, r ,code):\n",
        "    return ''.join(char for i, char in enumerate(code) if i % q == r)"
      ]
    },
    {
      "cell_type": "markdown",
      "metadata": {},
      "source": [
        "# DAY11"
      ]
    },
    {
      "cell_type": "markdown",
      "metadata": {},
      "source": [
        "## 문자 개수 세기\n",
        "알파벳 대소문자로만 이루어진 문자열 my_string이 주어질 때, my_string에서 'A'의 개수, my_string에서 'B'의 개수,..., my_string에서 'Z'의 개수, my_string에서 'a'의 개수, my_string에서 'b'의 개수,..., my_string에서 'z'의 개수를 순서대로 담은 길이 52의 정수 배열을 return 하는 solution 함수를 작성해 주세요."
      ]
    },
    {
      "cell_type": "code",
      "execution_count": null,
      "metadata": {},
      "outputs": [],
      "source": [
        "def solution(my_string):\n",
        "    alphabet = [chr(i) for i in range(65, 91)] + [chr(i) for i in range(97, 123)]\n",
        "\n",
        "    count = [0]*52\n",
        "\n",
        "    for char in my_string:\n",
        "        index = alphabet.index(char)\n",
        "        count[index] += 1\n",
        "    \n",
        "    return count\n",
        "\n",
        "solution('Powerss')\n"
      ]
    },
    {
      "cell_type": "markdown",
      "metadata": {},
      "source": [
        "## 배열 만들기 1\n",
        "정수 n과 k가 주어졌을 때, 1 이상 n이하의 정수 중에서 k의 배수를 오름차순으로 저장한 배열을 return 하는 solution 함수를 완성해 주세요."
      ]
    },
    {
      "cell_type": "code",
      "execution_count": null,
      "metadata": {},
      "outputs": [],
      "source": [
        "def solution(n, k):\n",
        "    return [i for i in range(n+1) if i % k == 0 and i != 0]\n",
        "\n",
        "solution(15, 5)"
      ]
    },
    {
      "cell_type": "markdown",
      "metadata": {},
      "source": [
        "## 글자 지우기\n",
        "문자열 my_string과 정수 배열 indices가 주어질 때, my_string에서 indices의 원소에 해당하는 인덱스의 글자를 지우고 이어 붙인 문자열을 return 하는 solution 함수를 작성해 주세요."
      ]
    },
    {
      "cell_type": "code",
      "execution_count": null,
      "metadata": {},
      "outputs": [],
      "source": [
        "def solution(my_string, indices):\n",
        "    indices = sorted(indices, reverse = True)\n",
        "    for i in indices:\n",
        "        my_string = my_string[:i] + my_string[i+1:]\n",
        "    return my_string\n",
        "solution(\"apporoograpemmemprs\", [1, 16, 6, 15, 0, 10, 11, 3])"
      ]
    },
    {
      "cell_type": "markdown",
      "metadata": {},
      "source": [
        "## 카운트 다운\n",
        "정수 start_num와 end_num가 주어질 때, start_num에서 end_num까지 1씩 감소하는 수들을 차례로 담은 리스트를 return하도록 solution 함수를 완성해주세요."
      ]
    },
    {
      "cell_type": "code",
      "execution_count": null,
      "metadata": {},
      "outputs": [],
      "source": [
        "def solution(start_num, end_num):\n",
        "    result = []\n",
        "    count = 0\n",
        "    for i in range(start_num+1 - end_num):\n",
        "        result.append(start_num - count)\n",
        "        count += 1\n",
        "    return result\n",
        "\n",
        "solution(10, 2)"
      ]
    },
    {
      "cell_type": "markdown",
      "metadata": {},
      "source": [
        "## 가까운 1 찾기\n",
        "정수 배열 arr가 주어집니다. 이때 arr의 원소는 1 또는 0입니다. 정수 idx가 주어졌을 때, idx보다 크면서 배열의 값이 1인 가장 작은 인덱스를 찾아서 반환하는 solution 함수를 완성해 주세요.\n",
        "단, 만약 그러한 인덱스가 없다면 -1을 반환합니다."
      ]
    },
    {
      "cell_type": "code",
      "execution_count": null,
      "metadata": {},
      "outputs": [],
      "source": [
        "def solution(arr, idx):\n",
        "    count = 0\n",
        "    for i in arr:\n",
        "        if count >= idx and i == 1:\n",
        "            return count\n",
        "        count +=1\n",
        "    return -1\n",
        "solution([1, 0, 0, 1, 0, 0], 4)"
      ]
    },
    {
      "cell_type": "markdown",
      "metadata": {},
      "source": [
        "# Day12"
      ]
    },
    {
      "cell_type": "markdown",
      "metadata": {},
      "source": [
        "## 리스트 자르기\n",
        "정수 n과 정수 3개가 담긴 리스트 slicer 그리고 정수 여러 개가 담긴 리스트 num_list가 주어집니다. slicer에 담긴 정수를 차례대로 a, b, c라고 할 때, n에 따라 다음과 같이 num_list를 슬라이싱 하려고 합니다.\n",
        "\n",
        "n = 1 : num_list의 0번 인덱스부터 b번 인덱스까지\n",
        "n = 2 : num_list의 a번 인덱스부터 마지막 인덱스까지\n",
        "n = 3 : num_list의 a번 인덱스부터 b번 인덱스까지\n",
        "n = 4 : num_list의 a번 인덱스부터 b번 인덱스까지 c 간격으로\n",
        "올바르게 슬라이싱한 리스트를 return하도록 solution 함수를 완성해주세요."
      ]
    },
    {
      "cell_type": "code",
      "execution_count": null,
      "metadata": {},
      "outputs": [],
      "source": [
        "def solution(n, slicer, num_list):\n",
        "    if n == 1:\n",
        "        return num_list[0:slicer[1]+1]\n",
        "    if n == 2:\n",
        "        return num_list[slicer[0]:]\n",
        "    if n == 3:\n",
        "        return num_list[slicer[0]:slicer[1]+1]\n",
        "    if n == 4:\n",
        "        return num_list[slicer[0]:slicer[1]+1:slicer[2]]\n",
        "solution(1, [1, 5, 2], [1, 2, 3, 4, 5, 6, 7, 8, 9])"
      ]
    },
    {
      "cell_type": "markdown",
      "metadata": {},
      "source": [
        "## 첫 번째로 나오는 음수\n",
        "정수 리스트 num_list가 주어질 때, 첫 번째로 나오는 음수의 인덱스를 return하도록 solution 함수를 완성해주세요. 음수가 없다면 -1을 return합니다."
      ]
    },
    {
      "cell_type": "code",
      "execution_count": null,
      "metadata": {},
      "outputs": [],
      "source": [
        "def solution(num_list):\n",
        "    for i in num_list:\n",
        "        if i <= 0:\n",
        "            return num_list.index(i)\n",
        "    return -1\n",
        "solution([13, 22, 53, 24, -155, 6])"
      ]
    },
    {
      "cell_type": "markdown",
      "metadata": {},
      "source": [
        "## 배열 만들기 3\n",
        "정수 배열 arr와 2개의 구간이 담긴 배열 intervals가 주어집니다.\n",
        "\n",
        "intervals는 항상 [[a1, b1], [a2, b2]]의 꼴로 주어지며 각 구간은 닫힌 구간입니다. 닫힌 구간은 양 끝값과 그 사이의 값을 모두 포함하는 구간을 의미합니다.\n",
        "\n",
        "이때 배열 arr의 첫 번째 구간에 해당하는 배열과 두 번째 구간에 해당하는 배열을 앞뒤로 붙여 새로운 배열을 만들어 return 하는 solution 함수를 완성해 주세요."
      ]
    },
    {
      "cell_type": "code",
      "execution_count": null,
      "metadata": {},
      "outputs": [],
      "source": [
        "def solution(arr, intervals):\n",
        "    result = []\n",
        "    for i in range(len(intervals)):\n",
        "        result = result + (arr[intervals[i][0]:intervals[i][1]+1])\n",
        "    return result\n",
        "\n",
        "solution([1, 2, 3, 4, 5], [[1, 3], [0, 4]])"
      ]
    },
    {
      "cell_type": "markdown",
      "metadata": {},
      "source": [
        "## 2의 영역\n",
        "정수 배열 arr가 주어집니다. 배열 안의 2가 모두 포함된 가장 작은 연속된 부분 배열을 return 하는 solution 함수를 완성해 주세요.\n",
        "단, arr에 2가 없는 경우 [-1]을 return 합니다."
      ]
    },
    {
      "cell_type": "code",
      "execution_count": null,
      "metadata": {},
      "outputs": [],
      "source": [
        "def solution(arr):\n",
        "    if 2 not in arr:\n",
        "        return [-1]\n",
        "    start = arr.index(2)\n",
        "    end = arr[::-1].index(2)\n",
        "    return arr[start:len(arr)-end]\n",
        "\n",
        "solution([1, 2, 1, 2, 1, 10, 2, 1, 1, 1, 1, 1])\n",
        "\n"
      ]
    },
    {
      "cell_type": "markdown",
      "metadata": {},
      "source": [
        "## 배열 조각하기\n",
        "정수 배열 arr와 query가 주어집니다.\n",
        "\n",
        "query를 순회하면서 다음 작업을 반복합니다.\n",
        "\n",
        "짝수 인덱스에서는 arr에서 query[i]번 인덱스를 제외하고 배열의 query[i]번 인덱스 뒷부분을 잘라서 버립니다.\n",
        "홀수 인덱스에서는 arr에서 query[i]번 인덱스는 제외하고 배열의 query[i]번 인덱스 앞부분을 잘라서 버립니다.\n",
        "위 작업을 마친 후 남은 arr의 부분 배열을 return 하는 solution 함수를 완성해 주세요."
      ]
    },
    {
      "cell_type": "code",
      "execution_count": null,
      "metadata": {},
      "outputs": [],
      "source": [
        "def solution(arr, quarry):\n",
        "    for i in range(len(quarry)):\n",
        "        if i % 2 == 0 :\n",
        "            arr = arr[:quarry[i]+1]\n",
        "        else:\n",
        "            arr = arr[quarry[i]:]\n",
        "    return arr\n",
        "\n",
        "solution([0, 1, 2, 3, 4, 5], [4, 1, 2])"
      ]
    },
    {
      "cell_type": "markdown",
      "metadata": {},
      "source": [
        "# Day13"
      ]
    },
    {
      "cell_type": "markdown",
      "metadata": {},
      "source": [
        "## n 번째 원소부터\n",
        "정수 리스트 num_list와 정수 n이 주어질 때, n 번째 원소부터 마지막 원소까지의 모든 원소를 담은 리스트를 return하도록 solution 함수를 완성해주세요."
      ]
    },
    {
      "cell_type": "code",
      "execution_count": null,
      "metadata": {},
      "outputs": [],
      "source": [
        "def solution(num_list, n):\n",
        "    return num_list[n-1:]"
      ]
    },
    {
      "cell_type": "markdown",
      "metadata": {},
      "source": [
        "## 순서 바꾸기\n",
        "정수 리스트 num_list와 정수 n이 주어질 때, num_list를 n 번째 원소 이후의 원소들과 n 번째까지의 원소들로 나눠 n 번째 원소 이후의 원소들을 n 번째까지의 원소들 앞에 붙인 리스트를 return하도록 solution 함수를 완성해주세요."
      ]
    },
    {
      "cell_type": "code",
      "execution_count": null,
      "metadata": {},
      "outputs": [],
      "source": [
        "def solution(num_list, n):\n",
        "    return num_list[n:] + num_list[:n]"
      ]
    },
    {
      "cell_type": "markdown",
      "metadata": {},
      "source": [
        "## 왼쪽 오른쪽\n",
        "문자열 리스트 str_list에는 \"u\", \"d\", \"l\", \"r\" 네 개의 문자열이 여러 개 저장되어 있습니다. str_list에서 \"l\"과 \"r\" 중 먼저 나오는 문자열이 \"l\"이라면 해당 문자열을 기준으로 왼쪽에 있는 문자열들을 순서대로 담은 리스트를, 먼저 나오는 문자열이 \"r\"이라면 해당 문자열을 기준으로 오른쪽에 있는 문자열들을 순서대로 담은 리스트를 return하도록 solution 함수를 완성해주세요. \"l\"이나 \"r\"이 없다면 빈 리스트를 return합니다."
      ]
    },
    {
      "cell_type": "code",
      "execution_count": null,
      "metadata": {},
      "outputs": [],
      "source": [
        "def solution(str_list):\n",
        "    for i in str_list:\n",
        "        if i == 'l':\n",
        "            return str_list[:str_list.index('l')]\n",
        "        if i == 'r':\n",
        "            return str_list[str_list.index('r')+1:]\n",
        "    return []\n",
        "\n",
        "solution(['r'])"
      ]
    },
    {
      "cell_type": "markdown",
      "metadata": {},
      "source": [
        "## n번째 원소까지\n",
        "정수 리스트 num_list와 정수 n이 주어질 때, num_list의 첫 번째 원소부터 n 번째 원소까지의 모든 원소를 담은 리스트를 return하도록 solution 함수를 완성해주세요."
      ]
    },
    {
      "cell_type": "code",
      "execution_count": null,
      "metadata": {},
      "outputs": [],
      "source": [
        "def solution(num_list, n):\n",
        "    return num_list[:n]"
      ]
    },
    {
      "cell_type": "markdown",
      "metadata": {},
      "source": [
        "## n간격의 원소들\n",
        "정수 리스트 num_list와 정수 n이 주어질 때, num_list의 첫 번째 원소부터 마지막 원소까지 n개 간격으로 저장되어있는 원소들을 차례로 담은 리스트를 return하도록 solution 함수를 완성해주세요."
      ]
    },
    {
      "cell_type": "code",
      "execution_count": null,
      "metadata": {},
      "outputs": [],
      "source": [
        "def solution(num_list, n):\n",
        "    return num_list[::n]"
      ]
    },
    {
      "cell_type": "markdown",
      "metadata": {},
      "source": [
        "# Day14"
      ]
    },
    {
      "cell_type": "markdown",
      "metadata": {},
      "source": [
        "## 홀수 vs 짝수\n",
        "정수 리스트 num_list가 주어집니다. 가장 첫 번째 원소를 1번 원소라고 할 때, 홀수 번째 원소들의 합과 짝수 번째 원소들의 합 중 큰 값을 return 하도록 solution 함수를 완성해주세요. 두 값이 같을 경우 그 값을 return합니다."
      ]
    },
    {
      "cell_type": "code",
      "execution_count": null,
      "metadata": {},
      "outputs": [],
      "source": [
        "def solution(num_list):\n",
        "    return max(sum(num_list[::2]), sum(num_list[1::2]))\n",
        "\n",
        "solution([4, 2, 6, 1, 7, 6])"
      ]
    },
    {
      "cell_type": "markdown",
      "metadata": {},
      "source": [
        "## 5명씩\n",
        "최대 5명씩 탑승가능한 놀이기구를 타기 위해 줄을 서있는 사람들의 이름이 담긴 문자열 리스트 names가 주어질 때, 앞에서 부터 5명씩 묶은 그룹의 가장 앞에 서있는 사람들의 이름을 담은 리스트를 return하도록 solution 함수를 완성해주세요. 마지막 그룹이 5명이 되지 않더라도 가장 앞에 있는 사람의 이름을 포함합니다."
      ]
    },
    {
      "cell_type": "code",
      "execution_count": null,
      "metadata": {},
      "outputs": [],
      "source": [
        "def solution(names):\n",
        "    return names[::5]"
      ]
    },
    {
      "cell_type": "markdown",
      "metadata": {},
      "source": [
        "## 할 일 목록\n",
        "오늘 해야 할 일이 담긴 문자열 배열 todo_list와 각각의 일을 지금 마쳤는지를 나타내는 boolean 배열 finished가 매개변수로 주어질 때, todo_list에서 아직 마치지 못한 일들을 순서대로 담은 문자열 배열을 return 하는 solution 함수를 작성해 주세요."
      ]
    },
    {
      "cell_type": "code",
      "execution_count": null,
      "metadata": {},
      "outputs": [],
      "source": [
        "def solution(todo_list, finished):\n",
        "    result = zip(todo_list, finished)\n",
        "    return list(map(lambda x:x[0], (filter(lambda x: x[1] == False, result))))\n",
        "\n",
        "solution([\"problemsolving\", \"practiceguitar\", \"swim\", \"studygraph\"],[True, False, True, False] )"
      ]
    },
    {
      "cell_type": "markdown",
      "metadata": {},
      "source": [
        "## n보다 커질 때까지 더하기\n",
        "정수 배열 numbers와 정수 n이 매개변수로 주어집니다. numbers의 원소를 앞에서부터 하나씩 더하다가 그 합이 n보다 커지는 순간 이때까지 더했던 원소들의 합을 return 하는 solution 함수를 작성해 주세요."
      ]
    },
    {
      "cell_type": "code",
      "execution_count": null,
      "metadata": {},
      "outputs": [],
      "source": [
        "def solution(numbers, n):\n",
        "    result = 0\n",
        "    for i in numbers:\n",
        "        result += i\n",
        "        if result > n:\n",
        "            return result"
      ]
    },
    {
      "cell_type": "markdown",
      "metadata": {},
      "source": [
        "## 수열과 구간 쿼리 1\n",
        "정수 배열 arr와 2차원 정수 배열 queries이 주어집니다. queries의 원소는 각각 하나의 query를 나타내며, [s, e] 꼴입니다.\n",
        "\n",
        "각 query마다 순서대로 s ≤ i ≤ e인 모든 i에 대해 arr[i]에 1을 더합니다.\n",
        "\n",
        "위 규칙에 따라 queries를 처리한 이후의 arr를 return 하는 solution 함수를 완성해 주세요."
      ]
    },
    {
      "cell_type": "code",
      "execution_count": null,
      "metadata": {},
      "outputs": [],
      "source": [
        "def solution(arr, queries):\n",
        "    for start, end in queries:\n",
        "        result = arr[start: end+1]\n",
        "        for i in range(len(result)):\n",
        "            result[i] += 1\n",
        "        arr[start:end+1] = result\n",
        "    return arr\n",
        "\n",
        "solution([0, 1, 2, 3, 4], [[0, 1],[1, 2],[2, 3]])"
      ]
    },
    {
      "cell_type": "markdown",
      "metadata": {},
      "source": [
        "# Day15"
      ]
    },
    {
      "cell_type": "markdown",
      "metadata": {},
      "source": [
        "## 조건에 맞게 수열 변환하기 1\n",
        "정수 배열 arr가 주어집니다. arr의 각 원소에 대해 값이 50보다 크거나 같은 짝수라면 2로 나누고, 50보다 작은 홀수라면 2를 곱합니다. 그 결과인 정수 배열을 return 하는 solution 함수를 완성해 주세요."
      ]
    },
    {
      "cell_type": "code",
      "execution_count": null,
      "metadata": {},
      "outputs": [],
      "source": [
        "def solution(arr):\n",
        "    result = []\n",
        "    for i in arr:\n",
        "        if i >= 50 and i % 2 == 0:\n",
        "            result.append(i/2)\n",
        "        elif i < 50 and i % 2 == 1:\n",
        "            result.append(i*2)\n",
        "        else:\n",
        "            result.append(i)\n",
        "    return result\n",
        "solution([1, 2, 3, 100, 99, 98])"
      ]
    },
    {
      "cell_type": "markdown",
      "metadata": {},
      "source": [
        "## 조건에 맞게 수열 변환하기 2\n",
        "정수 배열 arr가 주어집니다. arr의 각 원소에 대해 값이 50보다 크거나 같은 짝수라면 2로 나누고, 50보다 작은 홀수라면 2를 곱하고 다시 1을 더합니다.\n",
        "\n",
        "이러한 작업을 x번 반복한 결과인 배열을 arr(x)라고 표현했을 때, arr(x) = arr(x + 1)인 x가 항상 존재합니다. 이러한 x 중 가장 작은 값을 return 하는 solution 함수를 완성해 주세요.\n",
        "\n",
        "단, 두 배열에 대한 \"=\"는 두 배열의 크기가 서로 같으며, 같은 인덱스의 원소가 각각 서로 같음을 의미합니다."
      ]
    },
    {
      "cell_type": "code",
      "execution_count": null,
      "metadata": {},
      "outputs": [],
      "source": [
        "def solution(arr):\n",
        "    result = []\n",
        "    count = 0\n",
        "    current = arr\n",
        "    while True:\n",
        "        \n",
        "        for i in current:\n",
        "            if i >= 50 and i % 2 == 0:\n",
        "                result.append(i/2)\n",
        "            elif i < 50 and i % 2 == 1:\n",
        "                result.append(i*2 +1)\n",
        "            else:\n",
        "                result.append(i)\n",
        "        \n",
        "        if current == result:\n",
        "            return count\n",
        "        \n",
        "        current = result\n",
        "        result = []\n",
        "        \n",
        "        count += 1\n",
        "\n",
        "solution([1, 2, 3, 100, 99, 98])"
      ]
    },
    {
      "cell_type": "markdown",
      "metadata": {},
      "source": [
        "## 1로 만들기\n",
        "정수가 있을 때, 짝수라면 반으로 나누고, 홀수라면 1을 뺀 뒤 반으로 나누면, 마지막엔 1이 됩니다. 예를 들어 10이 있다면 다음과 같은 과정으로 1이 됩니다.\n",
        "\n",
        "10 / 2 = 5\n",
        "(5 - 1) / 2 = 4\n",
        "4 / 2 = 2\n",
        "2 / 2 = 1\n",
        "위와 같이 4번의 나누기 연산으로 1이 되었습니다.\n",
        "\n",
        "정수들이 담긴 리스트 num_list가 주어질 때, num_list의 모든 원소를 1로 만들기 위해서 필요한 나누기 연산의 횟수를 return하도록 solution 함수를 완성해주세요."
      ]
    },
    {
      "cell_type": "code",
      "execution_count": null,
      "metadata": {},
      "outputs": [],
      "source": [
        "def solution(num_list):\n",
        "    count = 0\n",
        "    for i in num_list:\n",
        "        while i:\n",
        "            if i == 1:\n",
        "                break\n",
        "            if i % 2 == 0:\n",
        "                i = i / 2\n",
        "                count +=1\n",
        "            elif i % 2 == 1:\n",
        "                i = (i-1) / 2\n",
        "                count += 1\n",
        "    return count\n",
        "\n",
        "solution([12, 4, 15, 1, 14])"
      ]
    },
    {
      "cell_type": "markdown",
      "metadata": {},
      "source": [
        "## 길이에 따른 연산\n",
        "정수가 담긴 리스트 num_list가 주어질 때, 리스트의 길이가 11 이상이면 리스트에 있는 모든 원소의 합을 10 이하이면 모든 원소의 곱을 return하도록 solution 함수를 완성해주세요."
      ]
    },
    {
      "cell_type": "code",
      "execution_count": null,
      "metadata": {},
      "outputs": [],
      "source": [
        "def solution(num_list):\n",
        "    if len(num_list) >= 11:\n",
        "        return sum(num_list)\n",
        "    else:\n",
        "        result = 1\n",
        "        for i in num_list:\n",
        "            result = result * i\n",
        "        return result\n",
        "    "
      ]
    },
    {
      "cell_type": "markdown",
      "metadata": {},
      "source": [
        "## 원하는 문자열 찾기\n",
        "알파벳으로 이루어진 문자열 myString과 pat이 주어집니다. myString의 연속된 부분 문자열 중 pat이 존재하면 1을 그렇지 않으면 0을 return 하는 solution 함수를 완성해 주세요.\n",
        "\n",
        "단, 알파벳 대문자와 소문자는 구분하지 않습니다."
      ]
    },
    {
      "cell_type": "code",
      "execution_count": null,
      "metadata": {},
      "outputs": [],
      "source": [
        "def solution(myString, pat):\n",
        "    myString = myString.lower()\n",
        "    pat = pat.lower()\n",
        "    return int(pat in myString)\n"
      ]
    },
    {
      "cell_type": "markdown",
      "metadata": {},
      "source": [
        "# Day16"
      ]
    },
    {
      "cell_type": "markdown",
      "metadata": {},
      "source": [
        "## 대문자로 바꾸기\n",
        "알파벳으로 이루어진 문자열 myString이 주어집니다. 모든 알파벳을 대문자로 변환하여 return 하는 solution 함수를 완성해 주세요.\n",
        "## 소문자로 바꾸기"
      ]
    },
    {
      "cell_type": "code",
      "execution_count": null,
      "metadata": {},
      "outputs": [],
      "source": [
        "def solution(myString):\n",
        "    return myString.upper()"
      ]
    },
    {
      "cell_type": "code",
      "execution_count": null,
      "metadata": {},
      "outputs": [],
      "source": [
        "def solution(myString):\n",
        "    return myString.lower()"
      ]
    },
    {
      "cell_type": "markdown",
      "metadata": {},
      "source": [
        "## 배열에서 문자열 대소문자 변환하기 \n",
        "문자열 배열 strArr가 주어집니다. 모든 원소가 알파벳으로만 이루어져 있을 때, 배열에서 홀수번째 인덱스의 문자열은 모든 문자를 대문자로, 짝수번째 인덱스의 문자열은 모든 문자를 소문자로 바꿔서 반환하는 solution 함수를 완성해 주세요."
      ]
    },
    {
      "cell_type": "code",
      "execution_count": null,
      "metadata": {},
      "outputs": [],
      "source": [
        "def solution(strArr):\n",
        "    for i, word in enumerate(strArr):\n",
        "        if i % 2 == 0:\n",
        "            strArr[i] = word.lower()\n",
        "        else:\n",
        "            strArr[i] = word.upper()\n",
        "    return strArr\n",
        "solution([\"AAA\",\"BBB\",\"CCC\",\"DDD\"])"
      ]
    },
    {
      "cell_type": "markdown",
      "metadata": {},
      "source": [
        "## A 강조하기\n",
        "문자열 myString이 주어집니다. myString에서 알파벳 \"a\"가 등장하면 전부 \"A\"로 변환하고, \"A\"가 아닌 모든 대문자 알파벳은 소문자 알파벳으로 변환하여 return 하는 solution 함수를 완성하세요."
      ]
    },
    {
      "cell_type": "code",
      "execution_count": null,
      "metadata": {},
      "outputs": [],
      "source": [
        "def solution(myString):\n",
        "    result = ''\n",
        "    myString =myString.lower()\n",
        "    for i in myString:\n",
        "        if i == 'a':\n",
        "            result += 'A'\n",
        "        else:\n",
        "            result += i\n",
        "    return result"
      ]
    },
    {
      "cell_type": "markdown",
      "metadata": {},
      "source": [
        "## 특정한 문자를 대문자로 바꾸기\n",
        "영소문자로 이루어진 문자열 my_string과 영소문자 1글자로 이루어진 문자열 alp가 매개변수로 주어질 때, my_string에서 alp에 해당하는 모든 글자를 대문자로 바꾼 문자열을 return 하는 solution 함수를 작성해 주세요."
      ]
    },
    {
      "cell_type": "code",
      "execution_count": null,
      "metadata": {},
      "outputs": [],
      "source": [
        "def solution(my_string, alp):\n",
        "    return my_string.replace(alp, alp.upper())"
      ]
    },
    {
      "cell_type": "markdown",
      "metadata": {},
      "source": [
        "# Day17"
      ]
    },
    {
      "cell_type": "markdown",
      "metadata": {},
      "source": [
        "## 특정 문자열로 끝나는 가장 긴 부분 문자열 찾기\n",
        "문자열 myString과 pat가 주어집니다. myString의 부분 문자열중 pat로 끝나는 가장 긴 부분 문자열을 찾아서 return 하는 solution 함수를 완성해 주세요."
      ]
    },
    {
      "cell_type": "code",
      "execution_count": null,
      "metadata": {},
      "outputs": [],
      "source": [
        "def solution(myString, pat):\n",
        "    String = myString\n",
        "    count = 0\n",
        "    while String:\n",
        "        if pat in String:\n",
        "            index = String.index(pat)\n",
        "            String = String[1:]\n",
        "            count += 1\n",
        "        else:\n",
        "            break\n",
        "        \n",
        "    return myString[:len(pat)+count-1]\n",
        "\n",
        "solution(\"AbCdEFG\", \"bC\")\n",
        "solution(\"AAAAaaaa\", \"a\")\n"
      ]
    },
    {
      "cell_type": "markdown",
      "metadata": {},
      "source": [
        "## 문자열이 몇 번 등장하는지 세기\n",
        "문자열 myString과 pat이 주어집니다. myString에서 pat이 등장하는 횟수를 return 하는 solution 함수를 완성해 주세요."
      ]
    },
    {
      "cell_type": "code",
      "execution_count": null,
      "metadata": {},
      "outputs": [],
      "source": [
        "def solution(myString, pat):\n",
        "    result = 0\n",
        "    for i in range(len(myString)):\n",
        "        for endpoint in range(i, len(myString)):\n",
        "            if myString[i:endpoint+1] == pat:\n",
        "                result += 1\n",
        "    return result\n",
        "\n",
        "solution(\"banana\", \"ana\")\n"
      ]
    },
    {
      "cell_type": "markdown",
      "metadata": {},
      "source": [
        "## ad 제거하기\n",
        "문자열 배열 strArr가 주어집니다. 배열 내의 문자열 중 \"ad\"라는 부분 문자열을 포함하고 있는 모든 문자열을 제거하고 남은 문자열을 순서를 유지하여 배열로 return 하는 solution 함수를 완성해 주세요."
      ]
    },
    {
      "cell_type": "code",
      "execution_count": null,
      "metadata": {},
      "outputs": [],
      "source": [
        "def solution(strArr):\n",
        "    return [word for word in strArr if 'ad' not in word]\n",
        "solution([\"and\", \"notad\", \"abcd\", \"ad1\", \"ad2\"])"
      ]
    },
    {
      "cell_type": "markdown",
      "metadata": {},
      "source": [
        "## 공백으로 구분하기 1\n",
        "단어가 공백 한 개로 구분되어 있는 문자열 my_string이 매개변수로 주어질 때, my_string에 나온 단어를 앞에서부터 순서대로 담은 문자열 배열을 return 하는 solution 함수를 작성해 주세요."
      ]
    },
    {
      "cell_type": "code",
      "execution_count": null,
      "metadata": {},
      "outputs": [],
      "source": [
        "def solution(my_string):\n",
        "    return my_string.split(' ')\n",
        "\n",
        "solution(\"programmers\")"
      ]
    },
    {
      "cell_type": "markdown",
      "metadata": {},
      "source": [
        "## 공백으로 구분하기 2\n",
        "단어가 공백 한 개 이상으로 구분되어 있는 문자열 my_string이 매개변수로 주어질 때, my_string에 나온 단어를 앞에서부터 순서대로 담은 문자열 배열을 return 하는 solution 함수를 작성해 주세요."
      ]
    },
    {
      "cell_type": "code",
      "execution_count": null,
      "metadata": {},
      "outputs": [],
      "source": [
        "def solution(my_string):\n",
        "    return my_string.strip().split()\n",
        "solution(\"    programmers  \")"
      ]
    },
    {
      "cell_type": "markdown",
      "metadata": {},
      "source": [
        "# Day18"
      ]
    },
    {
      "cell_type": "markdown",
      "metadata": {},
      "source": [
        "## x 사이의 개수\n",
        "문자열 myString이 주어집니다. myString을 문자 \"x\"를 기준으로 나눴을 때 나눠진 문자열 각각의 길이를 순서대로 저장한 배열을 return 하는 solution 함수를 완성해 주세요."
      ]
    },
    {
      "cell_type": "code",
      "execution_count": null,
      "metadata": {},
      "outputs": [],
      "source": [
        "def solution(myString):\n",
        "    return [len(x) for x in myString.split('x')]\n",
        "\n",
        "solution(\"oxooxoxxox\")"
      ]
    },
    {
      "cell_type": "markdown",
      "metadata": {},
      "source": [
        "## 문자열 잘라서 정렬하기\n",
        "문자열 myString이 주어집니다. \"x\"를 기준으로 해당 문자열을 잘라내 배열을 만든 후 사전순으로 정렬한 배열을 return 하는 solution 함수를 완성해 주세요.\n",
        "\n",
        "단, 빈 문자열은 반환할 배열에 넣지 않습니다."
      ]
    },
    {
      "cell_type": "code",
      "execution_count": null,
      "metadata": {},
      "outputs": [],
      "source": [
        "def solution(myString):\n",
        "    result = []\n",
        "    for x in myString.split('x'):\n",
        "        if x != '':\n",
        "            result.append(x)\n",
        "    return sorted(result)\n",
        "\n",
        "solution(\"dxccxbbbxaaaa\")"
      ]
    },
    {
      "cell_type": "markdown",
      "metadata": {},
      "source": [
        "## 간단한 식 계산하기:\n",
        "문자열 binomial이 매개변수로 주어집니다. binomial은 \"a op b\" 형태의 이항식이고 a와 b는 음이 아닌 정수, op는 '+', '-', '*' 중 하나입니다. 주어진 식을 계산한 정수를 return 하는 solution 함수를 작성해 주세요."
      ]
    },
    {
      "cell_type": "code",
      "execution_count": null,
      "metadata": {},
      "outputs": [],
      "source": [
        "def solution(binomial):\n",
        "    return eval(binomial)\n",
        "\n",
        "solution(\"43 + 12\")"
      ]
    },
    {
      "cell_type": "markdown",
      "metadata": {},
      "source": [
        "## 문자열 바꿔서 찾기\n",
        "문자 \"A\"와 \"B\"로 이루어진 문자열 myString과 pat가 주어집니다. myString의 \"A\"를 \"B\"로, \"B\"를 \"A\"로 바꾼 문자열의 연속하는 부분 문자열 중 pat이 있으면 1을 아니면 0을 return 하는 solution 함수를 완성하세요."
      ]
    },
    {
      "cell_type": "code",
      "execution_count": null,
      "metadata": {},
      "outputs": [],
      "source": [
        "def solution(myString, pat):\n",
        "    ABtoBA = str.maketrans('AB', 'BA')\n",
        "    myString = myString.translate(ABtoBA)\n",
        "    if pat in myString:\n",
        "        return 1\n",
        "    else:\n",
        "        return 0\n",
        "\n",
        "solution(\"ABBAA\", \"AABB\")"
      ]
    },
    {
      "cell_type": "markdown",
      "metadata": {},
      "source": [
        "## rny_string\n",
        "'m'과 \"rn\"이 모양이 비슷하게 생긴 점을 활용해 문자열에 장난을 하려고 합니다. 문자열 rny_string이 주어질 때, rny_string의 모든 'm'을 \"rn\"으로 바꾼 문자열을 return 하는 solution 함수를 작성해 주세요."
      ]
    },
    {
      "cell_type": "code",
      "execution_count": null,
      "metadata": {},
      "outputs": [],
      "source": [
        "def solution(rny_string):\n",
        "    list1 = list(rny_string)\n",
        "    for i in range(len(list1)):\n",
        "        if list1[i] == 'm':\n",
        "            list1[i] = 'rn'\n",
        "    return ''.join(list1)\n",
        "    \n",
        "solution(\"masterpiece\")"
      ]
    },
    {
      "cell_type": "code",
      "execution_count": null,
      "metadata": {},
      "outputs": [],
      "source": [
        "def solution(rny_string):\n",
        "    return rny_string.replace('m', 'rn')\n",
        "solution(\"masterpiece\")"
      ]
    },
    {
      "cell_type": "markdown",
      "metadata": {},
      "source": [
        "# Day19"
      ]
    },
    {
      "cell_type": "markdown",
      "metadata": {},
      "source": [
        "## 세 개의 구분자\n",
        "임의의 문자열이 주어졌을 때 문자 \"a\", \"b\", \"c\"를 구분자로 사용해 문자열을 나누고자 합니다.\n",
        "\n",
        "예를 들어 주어진 문자열이 \"baconlettucetomato\"라면 나눠진 문자열 목록은 [\"onlettu\", \"etom\", \"to\"] 가 됩니다.\n",
        "\n",
        "문자열 myStr이 주어졌을 때 위 예시와 같이 \"a\", \"b\", \"c\"를 사용해 나눠진 문자열을 순서대로 저장한 배열을 return 하는 solution 함수를 완성해 주세요.\n",
        "\n",
        "단, 두 구분자 사이에 다른 문자가 없을 경우에는 아무것도 저장하지 않으며, return할 배열이 빈 배열이라면 [\"EMPTY\"]를 return 합니다."
      ]
    },
    {
      "cell_type": "code",
      "execution_count": null,
      "metadata": {},
      "outputs": [],
      "source": [
        "import re\n",
        "\n",
        "def solution(myStr):\n",
        "    result = re.split(r'[a-c]', myStr)\n",
        "    result = list(filter(None, result))\n",
        "    if result == []:\n",
        "        return ['EMPTY']\n",
        "    return result\n",
        "\n",
        "solution(\"cabab\")"
      ]
    },
    {
      "cell_type": "markdown",
      "metadata": {},
      "source": [
        "## 배열의 원소만큼 추가하기\n",
        "아무 원소도 들어있지 않은 빈 배열 X가 있습니다. 양의 정수 배열 arr가 매개변수로 주어질 때, arr의 앞에서부터 차례대로 원소를 보면서 원소가 a라면 X의 맨 뒤에 a를 a번 추가하는 일을 반복한 뒤의 배열 X를 return 하는 solution 함수를 작성해 주세요."
      ]
    },
    {
      "cell_type": "code",
      "execution_count": null,
      "metadata": {},
      "outputs": [],
      "source": [
        "def solution(arr):\n",
        "    result = []\n",
        "    for i in arr:\n",
        "        for _ in range(i):\n",
        "            result.append(i)\n",
        "    return result\n",
        "\n",
        "solution([5, 1, 4])"
      ]
    },
    {
      "cell_type": "markdown",
      "metadata": {},
      "source": [
        "## 빈 배열에 추가, 삭제하기\n",
        "아무 원소도 들어있지 않은 빈 배열 X가 있습니다. 길이가 같은 정수 배열 arr과 boolean 배열 flag가 매개변수로 주어질 때, flag를 차례대로 순회하며 flag[i]가 true라면 X의 뒤에 arr[i]를 arr[i] × 2 번 추가하고, flag[i]가 false라면 X에서 마지막 arr[i]개의 원소를 제거한 뒤 X를 return 하는 solution 함수를 작성해 주세요."
      ]
    },
    {
      "cell_type": "code",
      "execution_count": null,
      "metadata": {},
      "outputs": [],
      "source": [
        "def solution(arr, flag):\n",
        "    listX = []\n",
        "    for i in range(len(flag)):\n",
        "        if flag[i] == True:\n",
        "            for _ in range(arr[i]):\n",
        "                listX.append(arr[i])\n",
        "                listX.append(arr[i])\n",
        "        if flag[i] == False:\n",
        "            for _ in range(arr[i]):\n",
        "                listX = listX[:-1]\n",
        "    \n",
        "    return listX\n",
        "\n",
        "solution([3, 2, 4, 1, 3], [True, False, True, False, False])"
      ]
    },
    {
      "cell_type": "markdown",
      "metadata": {},
      "source": [
        "## 배열 만들기 6\n",
        "0과 1로만 이루어진 정수 배열 arr가 주어집니다. arr를 이용해 새로운 배열 stk을 만드려고 합니다.\n",
        "\n",
        "i의 초기값을 0으로 설정하고 i가 arr의 길이보다 작으면 다음을 반복합니다.\n",
        "\n",
        "만약 stk이 빈 배열이라면 arr[i]를 stk에 추가하고 i에 1을 더합니다.\n",
        "stk에 원소가 있고, stk의 마지막 원소가 arr[i]와 같으면 stk의 마지막 원소를 stk에서 제거하고 i에 1을 더합니다.\n",
        "stk에 원소가 있는데 stk의 마지막 원소가 arr[i]와 다르면 stk의 맨 마지막에 arr[i]를 추가하고 i에 1을 더합니다.\n",
        "위 작업을 마친 후 만들어진 stk을 return 하는 solution 함수를 완성해 주세요.\n",
        "\n",
        "단, 만약 빈 배열을 return 해야한다면 [-1]을 return 합니다."
      ]
    },
    {
      "cell_type": "code",
      "execution_count": null,
      "metadata": {},
      "outputs": [],
      "source": [
        "def solution(arr):\n",
        "    result = [arr[0]]\n",
        "    for i in range(1, len(arr)):\n",
        "        if result and result[-1] == arr[i]:\n",
        "            result.pop\n",
        "        else:\n",
        "            result.append(arr[i])\n",
        "\n",
        "    return result or [-1]\n",
        "\n",
        "solution([0, 0, 0, 0, 0])\n"
      ]
    },
    {
      "cell_type": "markdown",
      "metadata": {},
      "source": [
        "## 무작위로 K개의 수 뽑기\n",
        "랜덤으로 서로 다른 k개의 수를 저장한 배열을 만드려고 합니다. 적절한 방법이 떠오르지 않기 때문에 일정한 범위 내에서 무작위로 수를 뽑은 후, 지금까지 나온적이 없는 수이면 배열 맨 뒤에 추가하는 방식으로 만들기로 합니다.\n",
        "\n",
        "이미 어떤 수가 무작위로 주어질지 알고 있다고 가정하고, 실제 만들어질 길이 k의 배열을 예상해봅시다.\n",
        "\n",
        "정수 배열 arr가 주어집니다. 문제에서의 무작위의 수는 arr에 저장된 순서대로 주어질 예정이라고 했을 때, 완성될 배열을 return 하는 solution 함수를 완성해 주세요.\n",
        "\n",
        "단, 완성될 배열의 길이가 k보다 작으면 나머지 값을 전부 -1로 채워서 return 합니다."
      ]
    },
    {
      "cell_type": "code",
      "execution_count": null,
      "metadata": {},
      "outputs": [],
      "source": [
        "def solution(arr, k):\n",
        "    result = []\n",
        "    for i in range(len(arr)):\n",
        "        if arr[i] not in result:\n",
        "            result.append(arr[i])\n",
        "        \n",
        "        if len(result) == k:\n",
        "            break\n",
        "    \n",
        "    while len(result) != k:\n",
        "        result.append(-1)\n",
        "    \n",
        "    return result\n",
        "\n",
        "solution([0, 1, 1, 2, 2, 2,  3], 3)"
      ]
    },
    {
      "cell_type": "markdown",
      "metadata": {},
      "source": [
        "# Day20"
      ]
    },
    {
      "cell_type": "markdown",
      "metadata": {},
      "source": [
        "## 배열의 길이를 2의 거듭제곱으로 만들기\n",
        "정수 배열 arr이 매개변수로 주어집니다. arr의 길이가 2의 정수 거듭제곱이 되도록 arr 뒤에 정수 0을 추가하려고 합니다. arr에 최소한의 개수로 0을 추가한 배열을 return 하는 solution 함수를 작성해 주세요."
      ]
    },
    {
      "cell_type": "code",
      "execution_count": null,
      "metadata": {},
      "outputs": [],
      "source": [
        "def solution(arr):\n",
        "    squarelen = 1\n",
        "    while len(arr) > squarelen:\n",
        "        squarelen *= 2\n",
        "        print(squarelen)\n",
        "    while len(arr) != squarelen:\n",
        "        arr.append(0)\n",
        "    \n",
        "    return arr\n",
        "\n",
        "solution([1, 2, 3, 4])"
      ]
    },
    {
      "cell_type": "markdown",
      "metadata": {},
      "source": [
        "## 배열 비교하기\n",
        "이 문제에서 두 정수 배열의 대소관계를 다음과 같이 정의합니다.\n",
        "\n",
        "두 배열의 길이가 다르다면, 배열의 길이가 긴 쪽이 더 큽니다.\n",
        "배열의 길이가 같다면 각 배열에 있는 모든 원소의 합을 비교하여 다르다면 더 큰 쪽이 크고, 같다면 같습니다.\n",
        "두 정수 배열 arr1과 arr2가 주어질 때, 위에서 정의한 배열의 대소관계에 대하여 arr2가 크다면 -1, arr1이 크다면 1, 두 배열이 같다면 0을 return 하는 solution 함수를 작성해 주세요."
      ]
    },
    {
      "cell_type": "code",
      "execution_count": null,
      "metadata": {},
      "outputs": [],
      "source": [
        "def solution(arr1, arr2):\n",
        "    if len(arr1) != len(arr2):\n",
        "        c, d = len(arr1), len(arr2)\n",
        "        if c == d:\n",
        "            return 0\n",
        "        elif c > d:\n",
        "            return 1\n",
        "\n",
        "    a, b = sum(arr1), sum(arr2)\n",
        "    if a == b:\n",
        "        return 0\n",
        "    elif a > b:\n",
        "        return 1\n",
        "    else:\n",
        "        return -1\n",
        "\n",
        "\n",
        "solution([100, 17, 84, 1], [55, 12, 65, 36])"
      ]
    },
    {
      "cell_type": "markdown",
      "metadata": {},
      "source": [
        "## 문자열 묶기\n",
        "문자열 배열 strArr이 주어집니다. strArr의 원소들을 길이가 같은 문자열들끼리 그룹으로 묶었을 때 가장 개수가 많은 그룹의 크기를 return 하는 solution 함수를 완성해 주세요."
      ]
    },
    {
      "cell_type": "code",
      "execution_count": null,
      "metadata": {},
      "outputs": [],
      "source": [
        "import cProfile\n",
        "from collections import Counter\n",
        "def solution(strArr):\n",
        "    result = []\n",
        "    for i in strArr:\n",
        "        result.append(len(i))\n",
        "    \n",
        "    result = sorted(Counter(result).items())\n",
        "    result = sorted(result,  reverse=True)\n",
        "    result = max(result, key = lambda x: x[1])[1]\n",
        "    return result\n",
        "\n",
        "cProfile.run(solution([\"a\",\"bc\",\"d\",\"efg\",\"hi\", 'asdv', 'asdv', 'asdv', 'asdv', 'asdv']))"
      ]
    },
    {
      "cell_type": "markdown",
      "metadata": {},
      "source": [
        "## 배열의 길이에 따라 다른 연산하기 \n",
        "정수 배열 arr과 정수 n이 매개변수로 주어집니다. arr의 길이가 홀수라면 arr의 모든 짝수 인덱스 위치에 n을 더한 배열을, arr의 길이가 짝수라면 arr의 모든 홀수 인덱스 위치에 n을 더한 배열을 return 하는 solution 함수를 작성해 주세요."
      ]
    },
    {
      "cell_type": "code",
      "execution_count": null,
      "metadata": {},
      "outputs": [],
      "source": [
        "def solution(arr, n):\n",
        "    for i in range(int(len(arr) % 2 == 0), len(arr) , 2):\n",
        "        arr[i] += n\n",
        "    return arr\n",
        "\n",
        "solution([49, 12, 100, 276, 33], 27)"
      ]
    },
    {
      "cell_type": "markdown",
      "metadata": {},
      "source": [
        "## 뒤에서 5등까지\n",
        "정수로 이루어진 리스트 num_list가 주어집니다. num_list에서 가장 작은 5개의 수를 오름차순으로 담은 리스트를 return하도록 solution 함수를 완성해주세요."
      ]
    },
    {
      "cell_type": "code",
      "execution_count": null,
      "metadata": {},
      "outputs": [],
      "source": [
        "def solution(num_list):\n",
        "    return sorted(num_list)[:5]\n",
        "\n",
        "solution([12, 4, 15, 46, 38, 1, 14])"
      ]
    },
    {
      "cell_type": "markdown",
      "metadata": {},
      "source": [
        "# Day21"
      ]
    },
    {
      "cell_type": "markdown",
      "metadata": {},
      "source": [
        "## 뒤에서 5등 위로\n",
        "정수로 이루어진 리스트 num_list가 주어집니다. num_list에서 가장 작은 5개의 수를 제외한 수들을 오름차순으로 담은 리스트를 return하도록 solution 함수를 완성해주세요."
      ]
    },
    {
      "cell_type": "code",
      "execution_count": null,
      "metadata": {},
      "outputs": [],
      "source": [
        "def solution(num_list):\n",
        "    return sorted(num_list)[5:]\n",
        "solution([12, 4, 15, 46, 38, 1, 14, 56, 32, 10])"
      ]
    },
    {
      "cell_type": "markdown",
      "metadata": {},
      "source": [
        "## 전국 대회 선발 고사\n",
        "0번부터 n - 1번까지 n명의 학생 중 3명을 선발하는 전국 대회 선발 고사를 보았습니다. 등수가 높은 3명을 선발해야 하지만, 개인 사정으로 전국 대회에 참여하지 못하는 학생들이 있어 참여가 가능한 학생 중 등수가 높은 3명을 선발하기로 했습니다.\n",
        "\n",
        "각 학생들의 선발 고사 등수를 담은 정수 배열 rank와 전국 대회 참여 가능 여부가 담긴 boolean 배열 attendance가 매개변수로 주어집니다. 전국 대회에 선발된 학생 번호들을 등수가 높은 순서대로 각각 a, b, c번이라고 할 때 10000 × a + 100 × b + c를 return 하는 solution 함수를 작성해 주세요."
      ]
    },
    {
      "cell_type": "code",
      "execution_count": null,
      "metadata": {},
      "outputs": [],
      "source": [
        "def solution(rank, attendance):\n",
        "    result = list(filter(lambda x: x[1] == True ,sorted(zip(rank, attendance), key=lambda x: (x[1], x[0]))))[:3]\n",
        "    result = [x for x, y in result]\n",
        "    a, b, c = [rank.index(a) for a in result]\n",
        "    return a * 10000 + b * 100 + c\n",
        "\n",
        "solution([3, 7, 2, 5, 4, 6, 1], [False, True, True, True, True, False, False])"
      ]
    },
    {
      "cell_type": "markdown",
      "metadata": {},
      "source": [
        "## 정수 부분\n",
        "실수 flo가 매개 변수로 주어질 때, flo의 정수 부분을 return하도록 solution 함수를 완성해주세요."
      ]
    },
    {
      "cell_type": "code",
      "execution_count": null,
      "metadata": {},
      "outputs": [],
      "source": [
        "def solution(flo):\n",
        "    return int(flo)"
      ]
    },
    {
      "cell_type": "markdown",
      "metadata": {},
      "source": [
        "## 문자열 정수의 합\n",
        "한 자리 정수로 이루어진 문자열 num_str이 주어질 때, 각 자리수의 합을 return하도록 solution 함수를 완성해주세요."
      ]
    },
    {
      "cell_type": "code",
      "execution_count": null,
      "metadata": {},
      "outputs": [],
      "source": [
        "def solution(num_str):\n",
        "    return sum(map(int, num_str))"
      ]
    },
    {
      "cell_type": "markdown",
      "metadata": {},
      "source": [
        "## 문자열을 정수로 변환하기\n",
        "숫자로만 이루어진 문자열 n_str이 주어질 때, n_str을 정수로 변환하여 return하도록 solution 함수를 완성해주세요."
      ]
    },
    {
      "cell_type": "code",
      "execution_count": null,
      "metadata": {},
      "outputs": [],
      "source": [
        "def solution(n_str):\n",
        "    return int(n_str)"
      ]
    },
    {
      "cell_type": "markdown",
      "metadata": {},
      "source": [
        "# Day22"
      ]
    },
    {
      "cell_type": "markdown",
      "metadata": {},
      "source": [
        "## 0 떼기\n",
        "정수로 이루어진 문자열 n_str이 주어질 때, n_str의 가장 왼쪽에 처음으로 등장하는 0들을 뗀 문자열을 return하도록 solution 함수를 완성해주세요."
      ]
    },
    {
      "cell_type": "code",
      "execution_count": null,
      "metadata": {},
      "outputs": [],
      "source": [
        "def solution(n_str):\n",
        "    while n_str[0] == '0':\n",
        "        n_str = n_str[1:]\n",
        "    return n_str\n",
        "\n",
        "solution(\"0010\")"
      ]
    },
    {
      "cell_type": "code",
      "execution_count": null,
      "metadata": {},
      "outputs": [],
      "source": [
        "def solution(n_str):\n",
        "    return n_str.lstrip('0')"
      ]
    },
    {
      "cell_type": "markdown",
      "metadata": {},
      "source": [
        "## 두 수의 합\n",
        "0 이상의 두 정수가 문자열 a, b로 주어질 때, a + b의 값을 문자열로 return 하는 solution 함수를 작성해 주세요."
      ]
    },
    {
      "cell_type": "code",
      "execution_count": null,
      "metadata": {},
      "outputs": [],
      "source": [
        "def solution(a, b):\n",
        "    return str(sum(list([int(a), int(b)])))\n"
      ]
    },
    {
      "cell_type": "markdown",
      "metadata": {},
      "source": [
        "## 문자열로 변환\n",
        "정수 n이 주어질 때, n을 문자열로 변환하여 return하도록 solution 함수를 완성해주세요."
      ]
    },
    {
      "cell_type": "code",
      "execution_count": null,
      "metadata": {},
      "outputs": [],
      "source": [
        "def solution(n):\n",
        "    return str(n)"
      ]
    },
    {
      "cell_type": "markdown",
      "metadata": {},
      "source": [
        "## 배열의 원소 삭제하기\n",
        "정수 배열 arr과 delete_list가 있습니다. arr의 원소 중 delete_list의 원소를 모두 삭제하고 남은 원소들은 기존의 arr에 있던 순서를 유지한 배열을 return 하는 solution 함수를 작성해 주세요."
      ]
    },
    {
      "cell_type": "code",
      "execution_count": null,
      "metadata": {},
      "outputs": [],
      "source": [
        "def solution(arr, delete_list):\n",
        "    arr = [i for i in arr if i not in delete_list]\n",
        "    return arr\n",
        "\n",
        "solution([293, 1000, 395, 678, 94], [94, 777, 104, 1000, 1, 12])"
      ]
    },
    {
      "cell_type": "markdown",
      "metadata": {},
      "source": [
        "## 부분 문자열인지 확인하기\n",
        "부분 문자열이란 문자열에서 연속된 일부분에 해당하는 문자열을 의미합니다. 예를 들어, 문자열 \"ana\", \"ban\", \"anana\", \"banana\", \"n\"는 모두 문자열 \"banana\"의 부분 문자열이지만, \"aaa\", \"bnana\", \"wxyz\"는 모두 \"banana\"의 부분 문자열이 아닙니다.\n",
        "\n",
        "문자열 my_string과 target이 매개변수로 주어질 때, target이 문자열 my_string의 부분 문자열이라면 1을, 아니라면 0을 return 하는 solution 함수를 작성해 주세요."
      ]
    },
    {
      "cell_type": "code",
      "execution_count": null,
      "metadata": {},
      "outputs": [],
      "source": [
        "def solution(my_string, target):\n",
        "    return 1 if target in my_string else 0\n"
      ]
    },
    {
      "cell_type": "markdown",
      "metadata": {},
      "source": [
        "# 추가) 바탕화면 정리\n",
        "https://school.programmers.co.kr/learn/courses/30/lessons/161990"
      ]
    },
    {
      "cell_type": "code",
      "execution_count": null,
      "metadata": {},
      "outputs": [],
      "source": [
        "def solution(wallpaper):\n",
        "    x1, x2 = 50, 0\n",
        "    y1, y2 = 50, 0\n",
        "    for i in range(len(wallpaper)):\n",
        "        if '#' in wallpaper[i]:\n",
        "            if y1 > i:\n",
        "                y1 = i\n",
        "\n",
        "            if y2 < i +1:\n",
        "                y2 = i +1\n",
        "    \n",
        "            if x1 > wallpaper[i].index('#'):\n",
        "                x1 = wallpaper[i].index('#')\n",
        "\n",
        "            if x2 < len(wallpaper[i]) - wallpaper[i][::-1].index('#'):\n",
        "                x2 = len(wallpaper[i]) - wallpaper[i][::-1].index('#')\n",
        "        \n",
        "        \n",
        "    return y1, x1, y2, x2\n",
        "    \n",
        "solution([\"#..\", \"#..\"])"
      ]
    },
    {
      "cell_type": "code",
      "execution_count": null,
      "metadata": {},
      "outputs": [],
      "source": [
        "def solution(wallpaper):\n",
        "    x1, x2 = 50, 0\n",
        "    y1, y2 = 50, 0\n",
        "    for i in range(len(wallpaper)):\n",
        "        if '#' in wallpaper[i]:\n",
        "            y1 = min(y1, i)\n",
        "            y2 = max(y2, i + 1)\n",
        "            x1 = min(x1, wallpaper[i].index('#'))\n",
        "            x2 = max(x2, len(wallpaper[i]) - wallpaper[i][::-1].index('#'))\n",
        "    return y1, x1, y2, x2\n",
        "\n",
        "solution([\".##...##.\", \"#..#.#..#\", \"#...#...#\", \".#.....#.\", \"..#...#..\", \"...#.#...\", \"....#....\"])"
      ]
    },
    {
      "cell_type": "markdown",
      "metadata": {},
      "source": [
        "# Day23"
      ]
    },
    {
      "cell_type": "markdown",
      "metadata": {},
      "source": [
        "## 부분 문자열\n",
        "어떤 문자열 A가 다른 문자열 B안에 속하면 A를 B의 부분 문자열이라고 합니다. 예를 들어 문자열 \"abc\"는 문자열 \"aabcc\"의 부분 문자열입니다.\n",
        "\n",
        "문자열 str1과 str2가 주어질 때, str1이 str2의 부분 문자열이라면 1을 부분 문자열이 아니라면 0을 return하도록 solution 함수를 완성해주세요."
      ]
    },
    {
      "cell_type": "code",
      "execution_count": null,
      "metadata": {},
      "outputs": [],
      "source": [
        "def solution(str1, str2):\n",
        "    return int(str1 in str2)"
      ]
    },
    {
      "cell_type": "markdown",
      "metadata": {},
      "source": [
        "## 꼬리 문자열\n",
        "문자열들이 담긴 리스트가 주어졌을 때, 모든 문자열들을 순서대로 합친 문자열을 꼬리 문자열이라고 합니다. 꼬리 문자열을 만들 때 특정 문자열을 포함한 문자열은 제외시키려고 합니다. 예를 들어 문자열 리스트 [\"abc\", \"def\", \"ghi\"]가 있고 문자열 \"ef\"를 포함한 문자열은 제외하고 꼬리 문자열을 만들면 \"abcghi\"가 됩니다.\n",
        "\n",
        "문자열 리스트 str_list와 제외하려는 문자열 ex가 주어질 때, str_list에서 ex를 포함한 문자열을 제외하고 만든 꼬리 문자열을 return하도록 solution 함수를 완성해주세요."
      ]
    },
    {
      "cell_type": "code",
      "execution_count": null,
      "metadata": {},
      "outputs": [],
      "source": [
        "def solution(str_list, ex):\n",
        "    return ''.join([i for i in str_list if ex not in i])\n",
        "\n",
        "solution([\"abc\", \"def\", \"ghi\"], 'ef')"
      ]
    },
    {
      "cell_type": "markdown",
      "metadata": {},
      "source": [
        "## 정수 찾기\n",
        "정수 리스트 num_list와 찾으려는 정수 n이 주어질 때, num_list안에 n이 있으면 1을 없으면 0을 return하도록 solution 함수를 완성해주세요."
      ]
    },
    {
      "cell_type": "code",
      "execution_count": null,
      "metadata": {},
      "outputs": [],
      "source": [
        "def solution(num_list, n):\n",
        "    return int(n in num_list)"
      ]
    },
    {
      "cell_type": "markdown",
      "metadata": {},
      "source": [
        "## 주사위 게임1\n",
        "1부터 6까지 숫자가 적힌 주사위가 두 개 있습니다. 두 주사위를 굴렸을 때 나온 \b숫자를 각각 a, b라고 했을 때 얻는 점수는 다음과 같습니다.\n",
        "\n",
        "a와 b가 모두 홀수라면 a2 + b2 점을 얻습니다.\n",
        "a와 b 중 하나만 홀수라면 2 × (a + b) 점을 얻습니다.\n",
        "a와 b 모두 홀수가 아니라면 |a - b| 점을 얻습니다.\n",
        "두 정수 a와 b가 매개변수로 주어질 때, 얻는 점수를 return 하는 solution 함수를 작성해 주세요."
      ]
    },
    {
      "cell_type": "code",
      "execution_count": null,
      "metadata": {},
      "outputs": [],
      "source": [
        "def solution(a, b):\n",
        "    aa = int(a % 2 == 0)\n",
        "    bb = int(b % 2 == 0)\n",
        "    if aa & bb == 1:\n",
        "        return abs(a - b)\n",
        "    elif aa == bb and aa& bb == 0:\n",
        "        return a**2 + b**2\n",
        "    else:\n",
        "        return 2 * (a + b)\n",
        "    \n"
      ]
    },
    {
      "cell_type": "markdown",
      "metadata": {},
      "source": [
        "## 날짜 비교하기\n",
        "수 배열 date1과 date2가 주어집니다. 두 배열은 각각 날짜를 나타내며 [year, month, day] 꼴로 주어집니다. 각 배열에서 year는 연도를, month는 월을, day는 날짜를 나타냅니다.\n",
        "\n",
        "만약 date1이 date2보다 앞서는 날짜라면 1을, 아니면 0을 return 하는 solution 함수를 완성해 주세요."
      ]
    },
    {
      "cell_type": "code",
      "execution_count": null,
      "metadata": {},
      "outputs": [],
      "source": [
        "def solution(date1, date2):\n",
        "    return int(date1 < date2)"
      ]
    },
    {
      "cell_type": "markdown",
      "metadata": {},
      "source": [
        "# Day24"
      ]
    },
    {
      "cell_type": "markdown",
      "metadata": {},
      "source": [
        "## 커피 심부름\n",
        "팀의 막내인 철수는 아메리카노와 카페 라테만 판매하는 카페에서 팀원들의 커피를 사려고 합니다. 아메리카노와 카페 라테의 가격은 차가운 것과 뜨거운 것 상관없이 각각 4500, 5000원입니다. 각 팀원에게 마실 메뉴를 적어달라고 하였고, 그 중에서 메뉴만 적은 팀원의 것은 차가운 것으로 통일하고 \"아무거나\"를 적은 팀원의 것은 차가운 아메리카노로 통일하기로 하였습니다.\n",
        "\n",
        "각 직원이 적은 메뉴가 문자열 배열 order로 주어질 때, 카페에서 결제하게 될 금액을 return 하는 solution 함수를 작성해주세요. order의 원소는 아래의 것들만 들어오고, 각각의 의미는 다음과 같습니다."
      ]
    },
    {
      "cell_type": "code",
      "execution_count": null,
      "metadata": {},
      "outputs": [],
      "source": [
        "def solution(order):\n",
        "    count = 0\n",
        "    for i in range(len(order)):\n",
        "        if 'cafelatte' in order[i]:\n",
        "            count += 1\n",
        "\n",
        "    return len(order) * 4500 + count * 500\n",
        "\n",
        "solution([\"cafelatte\", \"americanoice\", \"hotcafelatte\", \"anything\"])"
      ]
    },
    {
      "cell_type": "markdown",
      "metadata": {},
      "source": [
        "## 그림 확대\n",
        "직사각형 형태의 그림 파일이 있고, 이 그림 파일은 1 × 1 크기의 정사각형 크기의 픽셀로 이루어져 있습니다. 이 그림 파일을 나타낸 문자열 배열 picture과 정수 k가 매개변수로 주어질 때, 이 그림 파일을 가로 세로로 k배 늘린 그림 파일을 나타내도록 문자열 배열을 return 하는 solution 함수를 작성해 주세요."
      ]
    },
    {
      "cell_type": "code",
      "execution_count": null,
      "metadata": {},
      "outputs": [],
      "source": [
        "def solution(picture, k):\n",
        "    result = []\n",
        "    for i in range(len(picture)):\n",
        "        for j in range(len(picture[i])):\n",
        "            result.append(picture[i][j] * k)\n",
        "        \n",
        "    return result\n",
        "\n",
        "solution([\".xx...xx.\", \"x..x.x..x\", \"x...x...x\", \".x.....x.\", \"..x...x..\", \"...x.x...\", \"....x....\"], 2)"
      ]
    },
    {
      "cell_type": "code",
      "execution_count": null,
      "metadata": {},
      "outputs": [],
      "source": [
        "# 직사각형 형태의 그림 파일이 있고, 이 그림 파일은 1 × 1 크기의 정사각형 크기의 픽셀로 이루어져 있습니다. 이 그림 파일을 나타낸 문자열 배열 picture과 정수 k가 매개변수로 주어질 때, 이 그림 파일을 가로 세로로 k배 늘린 그림 파일을 나타내도록 문자열 배열을 return 하는 solution 함수를 작성해 주세요.\n",
        "def solution(picture, k):\n",
        "    result = []\n",
        "    current = []\n",
        "    \n",
        "    for i in range(len(picture)):\n",
        "        for j in range(len(picture[i])):\n",
        "            current.append(picture[i][j] * k)\n",
        "        \n",
        "        for _ in range(k):\n",
        "            result.append(''.join(current))\n",
        "        current = []\n",
        "    return result\n",
        "\n",
        "solution([\".xx...xx.\", \"x..x.x..x\", \"x...x...x\", \".x.....x.\", \"..x...x..\", \"...x.x...\", \"....x....\"], 2)"
      ]
    },
    {
      "cell_type": "markdown",
      "metadata": {},
      "source": [
        "## 조건에 맞게 수열 변환하기3\n",
        "정수 배열 arr와 자연수 k가 주어집니다.\n",
        "\n",
        "만약 k가 홀수라면 arr의 모든 원소에 k를 곱하고, k가 짝수라면 arr의 모든 원소에 k를 더합니다.\n",
        "\n",
        "이러한 변환을 마친 후의 arr를 return 하는 solution 함수를 완성해 주세요."
      ]
    },
    {
      "cell_type": "code",
      "execution_count": null,
      "metadata": {},
      "outputs": [],
      "source": [
        "def solution(arr, k):\n",
        "    if k % 2 == 0:\n",
        "        return [i + k for i in arr]\n",
        "    else:\n",
        "        return [i * k for i in arr]"
      ]
    },
    {
      "cell_type": "markdown",
      "metadata": {},
      "source": [
        "## l로 만들기\n",
        "알파벳 소문자로 이루어진 문자열 myString이 주어집니다. 알파벳 순서에서 \"l\"보다 앞서는 모든 문자를 \"l\"로 바꾼 문자열을 return 하는 solution 함수를 완성해 주세요."
      ]
    },
    {
      "cell_type": "code",
      "execution_count": null,
      "metadata": {},
      "outputs": [],
      "source": [
        "import re\n",
        "def solution(myString):\n",
        "    return re.sub(r'[a-l]', 'l', myString)\n",
        "    \n",
        "solution('abcdevwxyz')"
      ]
    },
    {
      "cell_type": "markdown",
      "metadata": {},
      "source": [
        "## 특별한 이차원 배열1\n",
        "정수 n이 매개변수로 주어질 때, 다음과 같은 n × n 크기의 이차원 배열 arr를 return 하는 solution 함수를 작성해 주세요.\n",
        "\n",
        "arr[i][j] (0 ≤ i, j < n)의 값은 i = j라면 1, 아니라면 0입니다."
      ]
    },
    {
      "cell_type": "code",
      "execution_count": null,
      "metadata": {},
      "outputs": [],
      "source": [
        "def solution(n):\n",
        "    result = [[0] * n for _ in range(n)]\n",
        "    for i in range(len(result)):\n",
        "        result[i][i] = 1\n",
        "    return result\n",
        "\n",
        "solution(5)"
      ]
    },
    {
      "cell_type": "markdown",
      "metadata": {},
      "source": [
        "# Day25"
      ]
    },
    {
      "cell_type": "markdown",
      "metadata": {},
      "source": [
        "## 정수를 나선형으로 배치하기\n",
        "양의 정수 n이 매개변수로 주어집니다. n × n 배열에 1부터 n2 까지 정수를 인덱스 [0][0]부터 시계방향 나선형으로 배치한 이차원 배열을 return 하는 solution 함수를 작성해 주세요."
      ]
    },
    {
      "cell_type": "code",
      "execution_count": null,
      "metadata": {},
      "outputs": [],
      "source": [
        "def solution(n):\n",
        "    if n == 1:\n",
        "        return [[1]]\n",
        "\n",
        "    arr = [[0] * n for _ in range(n)]\n",
        "    x, y = 0, 0\n",
        "    dir = 'r'\n",
        "\n",
        "    for i in range(n*n):\n",
        "        arr[x][y] = i + 1\n",
        "        if dir == 'r':\n",
        "            y += 1\n",
        "            if y == n - 1 or arr[x][y+1] != 0:\n",
        "                dir = 'c'\n",
        "        \n",
        "        elif dir == 'c':\n",
        "            x += 1\n",
        "            if x == n -1 or arr[x+1][y] != 0:\n",
        "                dir = 'rr'\n",
        "        \n",
        "        elif dir == 'rr':\n",
        "            y -= 1\n",
        "            if y == 0 or arr[x][y-1] != 0:\n",
        "                dir = 'cc'\n",
        "        \n",
        "        elif dir == 'cc':\n",
        "            x -= 1\n",
        "            if x == 1 or arr[x-1][y] != 0:\n",
        "                dir = 'r' \n",
        "\n",
        "    return arr\n",
        "\n",
        "solution(5)"
      ]
    },
    {
      "cell_type": "markdown",
      "metadata": {},
      "source": [
        "## 특별한 이차원 배열 2\n",
        "n × n 크기의 이차원 배열 arr이 매개변수로 주어질 때, arr이 다음을 만족하면 1을 아니라면 0을 return 하는 solution 함수를 작성해 주세요.\n",
        "\n",
        "0 ≤ i, j < n인 정수 i, j에 대하여 arr[i][j] = arr[j][i]"
      ]
    },
    {
      "cell_type": "code",
      "execution_count": null,
      "metadata": {},
      "outputs": [],
      "source": [
        "def solution(arr):\n",
        "    result = 0\n",
        "    for i in range(len(arr)):\n",
        "        for j in range(len(arr[i])):\n",
        "            if arr[i][j] == arr[j][i]:\n",
        "                result = 1\n",
        "            else:\n",
        "                return 0\n",
        "    return result\n",
        "\n",
        "solution([[5, 192, 33], [192, 72, 95], [33, 95, 999]])"
      ]
    },
    {
      "cell_type": "markdown",
      "metadata": {},
      "source": [
        "## 정사각형으로 만들기\n",
        "이차원 정수 배열 arr이 매개변수로 주어집니다. arr의 행의 수가 더 많다면 열의 수가 행의 수와 같아지도록 각 행의 끝에 0을 추가하고, 열의 수가 더 많다면 행의 수가 열의 수와 같아지도록 각 열의 끝에 0을 추가한 이차원 배열을 return 하는 solution 함수를 작성해 주세요."
      ]
    },
    {
      "cell_type": "code",
      "execution_count": null,
      "metadata": {},
      "outputs": [],
      "source": [
        "def solution(arr):\n",
        "\n",
        "    for i in arr:\n",
        "        while len(arr[0]) > len(arr):\n",
        "            arr.append([0]) \n",
        "\n",
        "        while len(i) < len(arr):\n",
        "            i.append(0)\n",
        "\n",
        "    return arr\n",
        "solution([[1, 1, 1, 2, 2 ,2 ,2]])"
      ]
    },
    {
      "cell_type": "markdown",
      "metadata": {},
      "source": [
        "## 이차원 배열 대각선 순회하기\n",
        "2차원 정수 배열 board와 정수 k가 주어집니다.\n",
        "\n",
        "i + j <= k를 만족하는 모든 (i, j)에 대한 board[i][j]의 합을 return 하는 solution 함수를 완성해 주세요."
      ]
    },
    {
      "cell_type": "code",
      "execution_count": null,
      "metadata": {},
      "outputs": [],
      "source": [
        "def solution(board, k):\n",
        "    result = 0\n",
        "    for i in range(len(board)):\n",
        "        for j in range(len(board[i])):\n",
        "            if i + j <= k:\n",
        "                result += board[i][j]\n",
        "\n",
        "    return result\n",
        "\n",
        "solution([[0, 1, 2],[1, 2, 3],[2, 3, 4],[3, 4, 5]], 2)"
      ]
    },
    {
      "cell_type": "markdown",
      "metadata": {},
      "source": [
        "# Day26 코딩테스트 입문문제\n",
        "\n",
        "너무 쉬운 예제 제외"
      ]
    },
    {
      "cell_type": "markdown",
      "metadata": {},
      "source": [
        "## 분수의 덧셈\n",
        "첫 번째 분수의 분자와 분모를 뜻하는 numer1, denom1, 두 번째 분수의 분자와 분모를 뜻하는 numer2, denom2가 매개변수로 주어집니다. 두 분수를 더한 값을 기약 분수로 나타냈을 때 분자와 분모를 순서대로 담은 배열을 return 하도록 solution 함수를 완성해보세요."
      ]
    },
    {
      "cell_type": "code",
      "execution_count": null,
      "metadata": {},
      "outputs": [],
      "source": [
        "def solution(numer1, denom1, numer2, denom2):\n",
        "    result = numer1/denom1 + numer2/denom2\n",
        "    \n",
        "    for i in range(1, 1000):\n",
        "        num = result*i\n",
        "        if num.is_integer():\n",
        "            return [int(num),i]\n",
        "\n",
        "solution(1,2,3,4)"
      ]
    },
    {
      "cell_type": "markdown",
      "metadata": {},
      "source": [
        "## 배열 두배 만들기\n",
        "정수 배열 numbers가 매개변수로 주어집니다. numbers의 각 원소에 두배한 원소를 가진 배열을 return하도록 solution 함수를 완성해주세요."
      ]
    },
    {
      "cell_type": "code",
      "execution_count": null,
      "metadata": {},
      "outputs": [],
      "source": [
        "def solution(numbers):\n",
        "    return list(map(lambda x: x*2, numbers))\n",
        "solution([1, 2, 3, 4, 5])"
      ]
    },
    {
      "cell_type": "markdown",
      "metadata": {},
      "source": [
        "# Day27"
      ]
    },
    {
      "cell_type": "code",
      "execution_count": null,
      "metadata": {},
      "outputs": [],
      "source": [
        "# 중앙값 구하기\n",
        "def solution(array):\n",
        "    return sorted(array)[len(array)//2]\n",
        "\n",
        "solution([9, -1, 0])"
      ]
    },
    {
      "cell_type": "markdown",
      "metadata": {},
      "source": [
        "## 최빈값 구하기\n",
        "최빈값은 주어진 값 중에서 가장 자주 나오는 값을 의미합니다. 정수 배열 array가 매개변수로 주어질 때, 최빈값을 return 하도록 solution 함수를 완성해보세요. 최빈값이 여러 개면 -1을 return 합니다."
      ]
    },
    {
      "cell_type": "code",
      "execution_count": null,
      "metadata": {},
      "outputs": [],
      "source": [
        "from collections import Counter\n",
        "\n",
        "def solution(array):\n",
        "    a = dict(Counter(array))\n",
        "    result =max(a.values())\n",
        "\n",
        "    most_common = [num for num, count in a.items() if count == result]\n",
        "\n",
        "    if len(most_common) > 1:\n",
        "        return -1  \n",
        "    else:\n",
        "        return most_common[0]\n",
        "\n",
        "solution([1, 1, 2, 2])\n",
        "        "
      ]
    },
    {
      "cell_type": "code",
      "execution_count": null,
      "metadata": {},
      "outputs": [],
      "source": [
        "def solution(array):\n",
        "    while len(array) != 0:\n",
        "        for i, a in enumerate(set(array)):\n",
        "            array.remove(a)\n",
        "        if i == 0: return a\n",
        "    return -1"
      ]
    },
    {
      "cell_type": "markdown",
      "metadata": {},
      "source": [
        "## 짝수는 싫어요\n",
        "정수 n이 매개변수로 주어질 때, n 이하의 홀수가 오름차순으로 담긴 배열을 return하도록 solution 함수를 완성해주세요."
      ]
    },
    {
      "cell_type": "code",
      "execution_count": null,
      "metadata": {},
      "outputs": [],
      "source": [
        "def solution(n):\n",
        "    return list(range(1, n+1, 2))"
      ]
    },
    {
      "cell_type": "markdown",
      "metadata": {},
      "source": [
        "## 피자 나눠먹기\n",
        "머쓱이네 피자가게는 피자를 일곱 조각으로 잘라 줍니다. 피자를 나눠먹을 사람의 수 n이 주어질 때, 모든 사람이 피자를 한 조각 이상 먹기 위해 필요한 피자의 수를 return 하는 solution 함수를 완성해보세요."
      ]
    },
    {
      "cell_type": "code",
      "execution_count": null,
      "metadata": {},
      "outputs": [],
      "source": [
        "def solution(n):\n",
        "    return int(n/7) if n % 7 == 0 else int(n/7)+1\n",
        "\n",
        "solution(7)"
      ]
    },
    {
      "cell_type": "markdown",
      "metadata": {},
      "source": [
        "## 피자 나눠 먹기 (2)\n",
        "머쓱이네 피자가게는 피자를 여섯 조각으로 잘라 줍니다. 피자를 나눠먹을 사람의 수 n이 매개변수로 주어질 때, n명이 주문한 피자를 남기지 않고 모두 같은 수의 피자 조각을 먹어야 한다면 최소 몇 판을 시켜야 하는지를 return 하도록 solution 함수를 완성해보세요."
      ]
    },
    {
      "cell_type": "code",
      "execution_count": null,
      "metadata": {},
      "outputs": [],
      "source": [
        "def solution(n):\n",
        "    count = 1\n",
        "    while (6 * count) / n:\n",
        "        if (6 * count) /n == int((6 * count) /n):\n",
        "            return count\n",
        "        count += 1\n",
        "\n",
        "solution(4)"
      ]
    },
    {
      "cell_type": "markdown",
      "metadata": {},
      "source": [
        "## 피자 나눠 먹기 (3)\n",
        "머쓱이네 피자가게는 피자를 두 조각에서 열 조각까지 원하는 조각 수로 잘라줍니다. 피자 조각 수 slice와 피자를 먹는 사람의 수 n이 매개변수로 주어질 때, n명의 사람이 최소 한 조각 이상 피자를 먹으려면 최소 몇 판의 피자를 시켜야 하는지를 return 하도록 solution 함수를 완성해보세요"
      ]
    },
    {
      "cell_type": "code",
      "execution_count": null,
      "metadata": {},
      "outputs": [],
      "source": [
        "def solution(slice, n):\n",
        "    count = 1\n",
        "    while (slice * count) / n < 1:\n",
        "        count += 1\n",
        "    \n",
        "    return count\n",
        "\n",
        "solution(7, 10)"
      ]
    },
    {
      "cell_type": "markdown",
      "metadata": {},
      "source": [
        "## 배열의 평균값\n",
        "정수 배열 numbers가 매개변수로 주어집니다. numbers의 원소의 평균값을 return하도록 solution 함수를 완성해주세요."
      ]
    },
    {
      "cell_type": "code",
      "execution_count": null,
      "metadata": {},
      "outputs": [],
      "source": [
        "def solution(numbers):\n",
        "    return sum(numbers)/len(numbers)"
      ]
    },
    {
      "cell_type": "code",
      "execution_count": null,
      "metadata": {},
      "outputs": [],
      "source": [
        "import numpy as np\n",
        "\n",
        "arr = np.array([9,8,7,6,5,4,3,2,1])\n",
        "mat = np.array([[arr], [arr]])\n",
        "print(mat.shape)"
      ]
    },
    {
      "cell_type": "markdown",
      "metadata": {},
      "source": [
        "# Day28"
      ]
    },
    {
      "cell_type": "markdown",
      "metadata": {},
      "source": [
        "## 옷가게 할인받기\n",
        "머쓱이네 옷가게는 10만 원 이상 사면 5%, 30만 원 이상 사면 10%, 50만 원 이상 사면 20%를 할인해줍니다.\n",
        "구매한 옷의 가격 price가 주어질 때, 지불해야 할 금액을 return 하도록 solution 함수를 완성해보세요."
      ]
    },
    {
      "cell_type": "code",
      "execution_count": null,
      "metadata": {},
      "outputs": [],
      "source": [
        "def solution(price):\n",
        "    if 100000 <= price < 300000:\n",
        "        price = price * 0.95\n",
        "    elif 300000 <= price < 500000:\n",
        "        price = price * 0.9\n",
        "    elif 500000 <= price:\n",
        "        price = price * 0.8\n",
        "    else:\n",
        "        return int(price)"
      ]
    },
    {
      "cell_type": "code",
      "execution_count": null,
      "metadata": {},
      "outputs": [],
      "source": [
        "def solution(price):\n",
        "    discount_rates = {500000: 0.8, 300000:0.9, 100000:0.95, 0:1}\n",
        "    for discount_price, discount_rate in discount_rates.items():\n",
        "        if price >= discount_price:\n",
        "            return int(price * discount_rate)\n",
        "solution(100000)"
      ]
    },
    {
      "cell_type": "markdown",
      "metadata": {},
      "source": [
        "## 나이 출력\n",
        "머쓱이는 40살인 선생님이 몇 년도에 태어났는지 궁금해졌습니다. 나이 age가 주어질 때, 2022년을 기준 출생 연도를 return 하는 solution 함수를 완성해주세요."
      ]
    },
    {
      "cell_type": "code",
      "execution_count": null,
      "metadata": {},
      "outputs": [],
      "source": [
        "def solution(age):\n",
        "    return 2023 - age\n",
        "solution(40)"
      ]
    },
    {
      "cell_type": "markdown",
      "metadata": {},
      "source": [
        "## 배열 뒤집기\n",
        "정수가 들어 있는 배열 num_list가 매개변수로 주어집니다. num_list의 원소의 순서를 거꾸로 뒤집은 배열을 return하도록 solution 함수를 완성해주세요."
      ]
    },
    {
      "cell_type": "code",
      "execution_count": null,
      "metadata": {},
      "outputs": [],
      "source": [
        "def solution(num_list):\n",
        "    return num_list[::-1]"
      ]
    },
    {
      "cell_type": "markdown",
      "metadata": {},
      "source": [
        "## 문자열 뒤집기 \n",
        "문자열 my_string이 매개변수로 주어집니다. my_string을 거꾸로 뒤집은 문자열을 return하도록 solution 함수를 완성해주세요."
      ]
    },
    {
      "cell_type": "code",
      "execution_count": null,
      "metadata": {},
      "outputs": [],
      "source": [
        "def solution(my_string):\n",
        "    answer = []\n",
        "    while my_string:\n",
        "        answer.append(my_string[-1])\n",
        "        my_string = my_string[:-1]\n",
        "    return ''.join(answer)\n",
        "\n",
        "solution('123')"
      ]
    },
    {
      "cell_type": "code",
      "execution_count": null,
      "metadata": {},
      "outputs": [],
      "source": [
        "def solution(my_string):\n",
        "    return ''.join(list(reversed(my_string)))\n",
        "solution('123')"
      ]
    },
    {
      "cell_type": "markdown",
      "metadata": {},
      "source": [
        "## 직각삼각형 출력하기\n",
        "\"*\"의 높이와 너비를 1이라고 했을 때, \"*\"을 이용해 직각 이등변 삼각형을 그리려고합니다. 정수 n 이 주어지면 높이와 너비가 n 인 직각 이등변 삼각형을 출력하도록 코드를 작성해보세요."
      ]
    },
    {
      "cell_type": "code",
      "execution_count": null,
      "metadata": {},
      "outputs": [],
      "source": [
        "n = int(input())\n",
        "for i in range(1,n+1):\n",
        "    print('*' * i)"
      ]
    },
    {
      "cell_type": "code",
      "execution_count": null,
      "metadata": {},
      "outputs": [],
      "source": [
        "print('\\n'.join('*' * (i+1) for i in range(int(input()))))"
      ]
    },
    {
      "cell_type": "code",
      "execution_count": null,
      "metadata": {},
      "outputs": [],
      "source": []
    },
    {
      "cell_type": "markdown",
      "metadata": {},
      "source": [
        "## 짝수 홀수 개수\n",
        "정수가 담긴 리스트 num_list가 주어질 때, num_list의 원소 중 짝수와 홀수의 개수를 담은 배열을 return 하도록 solution 함수를 완성해보세요."
      ]
    },
    {
      "cell_type": "code",
      "execution_count": null,
      "metadata": {},
      "outputs": [],
      "source": [
        "def solution(num_list):\n",
        "    odd, even = 0, 0\n",
        "    for n in num_list:\n",
        "        if n % 2 == 0:\n",
        "            even += 1\n",
        "        else:\n",
        "            odd += 1\n",
        "    return [even, odd]"
      ]
    },
    {
      "cell_type": "code",
      "execution_count": null,
      "metadata": {},
      "outputs": [],
      "source": [
        "def solution(num_list):\n",
        "    answer = [0, 0]\n",
        "    for n in num_list:\n",
        "        answer[n%2] += 1\n",
        "    return answer"
      ]
    },
    {
      "cell_type": "markdown",
      "metadata": {},
      "source": [
        "## 문자 반복 출력하기\n",
        "문자열 my_string과 정수 n이 매개변수로 주어질 때, my_string에 들어있는 각 문자를 n만큼 반복한 문자열을 return 하도록 solution 함수를 완성해보세요."
      ]
    },
    {
      "cell_type": "code",
      "execution_count": null,
      "metadata": {},
      "outputs": [],
      "source": [
        "def solution(my_string, n):\n",
        "    answer = []\n",
        "    for i in my_string:\n",
        "        answer.append(i * n)\n",
        "    return ''.join(answer)\n",
        "solution('123', 6)"
      ]
    },
    {
      "cell_type": "code",
      "execution_count": null,
      "metadata": {},
      "outputs": [],
      "source": [
        "def solution(my_string, n):\n",
        "    return ''.join((i*n for i in my_string))\n",
        "\n",
        "solution('123', 5)"
      ]
    },
    {
      "cell_type": "markdown",
      "metadata": {},
      "source": [
        "# Day29"
      ]
    },
    {
      "cell_type": "markdown",
      "metadata": {},
      "source": [
        "## 특정 문자 제거하기\n",
        "문자열 my_string과 문자 letter이 매개변수로 주어집니다. my_string에서 letter를 제거한 문자열을 return하도록 solution 함수를 완성해주세요."
      ]
    },
    {
      "cell_type": "code",
      "execution_count": null,
      "metadata": {},
      "outputs": [],
      "source": [
        "def solution(my_string, letter):\n",
        "    return my_string.replace(letter, '')\n"
      ]
    },
    {
      "cell_type": "markdown",
      "metadata": {},
      "source": [
        "## 각도기\n",
        "각에서 0도 초과 90도 미만은 예각, 90도는 직각, 90도 초과 180도 미만은 둔각 180도는 평각으로 분류합니다. 각 angle이 매개변수로 주어질 때 예각일 때 1, 직각일 때 2, 둔각일 때 3, 평각일 때 4를 return하도록 solution 함수를 완성해주세요."
      ]
    },
    {
      "cell_type": "code",
      "execution_count": null,
      "metadata": {},
      "outputs": [],
      "source": [
        "def solution(angle):\n",
        "    if angle < 90:\n",
        "        result = 1\n",
        "    elif angle == 90:\n",
        "        result = 2\n",
        "    elif angle < 180:\n",
        "        result = 3\n",
        "    else:\n",
        "        result = 4\n",
        "    return result"
      ]
    },
    {
      "cell_type": "markdown",
      "metadata": {},
      "source": [
        "## 양꼬치\n",
        "머쓱이네 양꼬치 가게는 10인분을 먹으면 음료수 하나를 서비스로 줍니다. 양꼬치는 1인분에 12,000원, 음료수는 2,000원입니다. 정수 n과 k가 매개변수로 주어졌을 때, 양꼬치 n인분과 음료수 k개를 먹었다면 총얼마를 지불해야 하는지 return 하도록 solution 함수를 완성해보세요."
      ]
    },
    {
      "cell_type": "code",
      "execution_count": null,
      "metadata": {},
      "outputs": [],
      "source": [
        "def solution(n, k):\n",
        "    return (n*12000) + (k*2000) - ((n//10)*2000)"
      ]
    },
    {
      "cell_type": "markdown",
      "metadata": {},
      "source": [
        "## 짝수의 합\n",
        "정수 n이 주어질 때, n이하의 짝수를 모두 더한 값을 return 하도록 solution 함수를 작성해주세요."
      ]
    },
    {
      "cell_type": "code",
      "execution_count": null,
      "metadata": {},
      "outputs": [],
      "source": [
        "def solution(n):\n",
        "    return sum(i for i in range(0, n+1, 2))\n"
      ]
    },
    {
      "cell_type": "markdown",
      "metadata": {},
      "source": [
        "## 배열 자르기\n",
        "정수 배열 numbers와 정수 num1, num2가 매개변수로 주어질 때, numbers의 num1번 째 인덱스부터 num2번째 인덱스까지 자른 정수 배열을 return 하도록 solution 함수를 완성해보세요."
      ]
    },
    {
      "cell_type": "code",
      "execution_count": null,
      "metadata": {},
      "outputs": [],
      "source": [
        "def solution(numbers, num1, num2):\n",
        "    return numbers[num1:num2+1]\n",
        "\n",
        "solution([1, 2, 3 ,4 ,5], 1, 3)"
      ]
    },
    {
      "cell_type": "markdown",
      "metadata": {},
      "source": [
        "## 외계행성의 나이\n",
        "우주여행을 하던 머쓱이는 엔진 고장으로 PROGRAMMERS-962 행성에 불시착하게 됐습니다. 입국심사에서 나이를 말해야 하는데, PROGRAMMERS-962 행성에서는 나이를 알파벳으로 말하고 있습니다. a는 0, b는 1, c는 2, ..., j는 9입니다. 예를 들어 23살은 cd, 51살은 fb로 표현합니다. 나이 age가 매개변수로 주어질 때 PROGRAMMER-962식 나이를 return하도록 solution 함수를 완성해주세요."
      ]
    },
    {
      "cell_type": "code",
      "execution_count": null,
      "metadata": {},
      "outputs": [],
      "source": [
        "\n",
        "def solution(age):\n",
        "    age = str(age)\n",
        "    return age.translate(str.maketrans('0123456789','abcdefghij'))"
      ]
    },
    {
      "cell_type": "markdown",
      "metadata": {},
      "source": [
        "## 순서쌍의 개수\n",
        "순서쌍이란 두 개의 숫자를 순서를 정하여 짝지어 나타낸 쌍으로 (a, b)로 표기합니다. 자연수 n이 매개변수로 주어질 때 두 숫자의 곱이 n인 자연수 순서쌍의 개수를 return하도록 solution 함수를 완성해주세요."
      ]
    },
    {
      "cell_type": "code",
      "execution_count": null,
      "metadata": {},
      "outputs": [],
      "source": [
        "def solution(n):\n",
        "    count = 0\n",
        "    for i in range(1, n+1):\n",
        "        if n % i == 0:\n",
        "            count += 1\n",
        "    return count\n",
        "\n",
        "solution(20)\n",
        "    "
      ]
    },
    {
      "cell_type": "code",
      "execution_count": null,
      "metadata": {},
      "outputs": [],
      "source": [
        "def solution(n):\n",
        "    answer = 0\n",
        "    for i in range(1, int(n ** 0.5) + 1):\n",
        "        if n % i == 0:\n",
        "            answer += 2\n",
        "\n",
        "            if i * i == n:\n",
        "                answer -= 1\n",
        "\n",
        "    return answer"
      ]
    },
    {
      "cell_type": "markdown",
      "metadata": {},
      "source": [
        "# Day30"
      ]
    },
    {
      "cell_type": "markdown",
      "metadata": {},
      "source": [
        "## 모스부호(1)\n",
        "머쓱이는 친구에게 모스부호를 이용한 편지를 받았습니다. 그냥은 읽을 수 없어 이를 해독하는 프로그램을 만들려고 합니다. 문자열 letter가 매개변수로 주어질 때, letter를 영어 소문자로 바꾼 문자열을 return 하도록 solution 함수를 완성해보세요.\n",
        "모스부호는 다음과 같습니다.\n",
        "morse = { \n",
        "    '.-':'a','-...':'b','-.-.':'c','-..':'d','.':'e','..-.':'f',\n",
        "    '--.':'g','....':'h','..':'i','.---':'j','-.-':'k','.-..':'l',\n",
        "    '--':'m','-.':'n','---':'o','.--.':'p','--.-':'q','.-.':'r',\n",
        "    '...':'s','-':'t','..-':'u','...-':'v','.--':'w','-..-':'x',\n",
        "    '-.--':'y','--..':'z'\n",
        "}"
      ]
    },
    {
      "cell_type": "code",
      "execution_count": null,
      "metadata": {},
      "outputs": [],
      "source": [
        "def solution(letter):\n",
        "    morse = { \n",
        "    '.-':'a','-...':'b','-.-.':'c','-..':'d','.':'e','..-.':'f',\n",
        "    '--.':'g','....':'h','..':'i','.---':'j','-.-':'k','.-..':'l',\n",
        "    '--':'m','-.':'n','---':'o','.--.':'p','--.-':'q','.-.':'r',\n",
        "    '...':'s','-':'t','..-':'u','...-':'v','.--':'w','-..-':'x',\n",
        "    '-.--':'y','--..':'z'\n",
        "    }\n",
        "    result = ''\n",
        "    letter = letter.split(' ')\n",
        "    for i in range(len(letter)):\n",
        "        result += str(morse[letter[i]])\n",
        "    \n",
        "    return result\n",
        "\n",
        "solution(\".--. -.-- - .... --- -.\")"
      ]
    },
    {
      "cell_type": "markdown",
      "metadata": {},
      "source": [
        "## 가위 바위 보\n",
        "가위는 2 바위는 0 보는 5로 표현합니다. 가위 바위 보를 내는 순서대로 나타낸 문자열 rsp가 매개변수로 주어질 때, rsp에 저장된 가위 바위 보를 모두 이기는 경우를 순서대로 나타낸 문자열을 return하도록 solution 함수를 완성해보세요."
      ]
    },
    {
      "cell_type": "code",
      "execution_count": null,
      "metadata": {},
      "outputs": [],
      "source": [
        "def solution(rsp):\n",
        "    win = {'0':'5', '2':'0', '5':'2'}\n",
        "    result = ''.join([win[i] for i in rsp])\n",
        "    return result\n",
        "solution('205')"
      ]
    },
    {
      "cell_type": "markdown",
      "metadata": {},
      "source": [
        "## 구슬을 나누는 경우의 수\n",
        "머쓱이는 구슬을 친구들에게 나누어주려고 합니다. 구슬은 모두 다르게 생겼습니다. 머쓱이가 갖고 있는 구슬의 개수 balls와 친구들에게 나누어 줄 구슬 개수 share이 매개변수로 주어질 때, balls개의 구슬 중 share개의 구슬을 고르는 가능한 모든 경우의 수를 return 하는 solution 함수를 완성해주세요."
      ]
    },
    {
      "cell_type": "code",
      "execution_count": null,
      "metadata": {},
      "outputs": [],
      "source": [
        "def solution(balls, share):\n",
        "    def factorial(n):\n",
        "        return n * factorial(n-1) if n > 1 else 1\n",
        "    \n",
        "    # nCm = n! / (n-m)! * m!\n",
        "    b = factorial(balls)\n",
        "    s = factorial(share)\n",
        "    bCs = b / (factorial(balls - share) * s)\n",
        "    \n",
        "    return int(bCs)\n",
        "\n",
        "solution(5, 3)"
      ]
    },
    {
      "attachments": {
        "스크린샷 2022-07-07 오후 3.27.04 복사본.png": {
          "image/png": "[encoded data removed]"
        }
      },
      "cell_type": "markdown",
      "metadata": {},
      "source": [
        "## 점의 위치 구하기\n",
        "![스크린샷 2022-07-07 오후 3.27.04 복사본.png](<attachment:스크린샷 2022-07-07 오후 3.27.04 복사본.png>)\n",
        "\n",
        "x 좌표 (x, y)를 차례대로 담은 정수 배열 dot이 매개변수로 주어집니다. 좌표 dot이 사분면 중 어디에 속하는지 1, 2, 3, 4 중 하나를 return 하도록 solution 함수를 완성해주세요."
      ]
    },
    {
      "cell_type": "code",
      "execution_count": null,
      "metadata": {},
      "outputs": [],
      "source": [
        "def solution(dot):\n",
        "    x, y = dot\n",
        "    if x > 0 and y > 0:\n",
        "        return 1\n",
        "    elif x < 0 and y > 0:\n",
        "        return 2\n",
        "    elif x < 0 and y < 0:\n",
        "        return 3\n",
        "    else:\n",
        "        return 4\n",
        "    \n",
        "solution([2,4])"
      ]
    },
    {
      "cell_type": "markdown",
      "metadata": {},
      "source": [
        "# Day 31"
      ]
    },
    {
      "cell_type": "markdown",
      "metadata": {},
      "source": [
        "## 2차원으로 만들기\n",
        "정수 배열 num_list와 정수 n이 매개변수로 주어집니다. num_list를 다음 설명과 같이 2차원 배열로 바꿔 return하도록 solution 함수를 완성해주세요.\n",
        "\n",
        "num_list가 [1, 2, 3, 4, 5, 6, 7, 8] 로 길이가 8이고 n이 2이므로 num_list를 2 * 4 배열로 다음과 같이 변경합니다. 2차원으로 바꿀 때에는 num_list의 원소들을 앞에서부터 n개씩 나눠 2차원 배열로 변경합니다.\n"
      ]
    },
    {
      "cell_type": "code",
      "execution_count": null,
      "metadata": {},
      "outputs": [],
      "source": [
        "def solution(num_list: list, n: int) -> list:\n",
        "    result = []\n",
        "    for i in range(0,len(num_list), n):\n",
        "        result.append(num_list[i:i+n])\n",
        "    return result\n",
        "\n",
        "solution([1, 2, 3, 4, 5, 6, 7, 8], 2)"
      ]
    },
    {
      "cell_type": "markdown",
      "metadata": {},
      "source": [
        "## 공 던지기\n",
        "머쓱이는 친구들과 동그랗게 서서 공 던지기 게임을 하고 있습니다. 공은 1번부터 던지며 오른쪽으로 한 명을 건너뛰고 그다음 사람에게만 던질 수 있습니다. 친구들의 번호가 들어있는 정수 배열 numbers와 정수 K가 주어질 때, k번째로 공을 던지는 사람의 번호는 무엇인지 return 하도록 solution 함수를 완성해보세요."
      ]
    },
    {
      "cell_type": "code",
      "execution_count": null,
      "metadata": {},
      "outputs": [],
      "source": [
        "def solution(numbers, k):\n",
        "    index = (2*(k-1)) % len(numbers)\n",
        "    return numbers[index]\n",
        "\n",
        "solution([10,29,24,4], 2)\n",
        "        "
      ]
    },
    {
      "cell_type": "code",
      "execution_count": null,
      "metadata": {},
      "outputs": [],
      "source": [
        "def solution(numbers, k):\n",
        "    return numbers[2*(k-1) % len(numbers)]  "
      ]
    },
    {
      "cell_type": "markdown",
      "metadata": {},
      "source": [
        "## 배열 회전시키기 \n",
        "정수가 담긴 배열 numbers와 문자열 direction가 매개변수로 주어집니다. 배열 numbers의 원소를 direction방향으로 한 칸씩 회전시킨 배열을 return하도록 solution 함수를 완성해주세요."
      ]
    },
    {
      "cell_type": "code",
      "execution_count": null,
      "metadata": {},
      "outputs": [],
      "source": [
        "def solution(numbers, direction):\n",
        "    if direction == 'right':\n",
        "        numbers.insert(0, numbers.pop())\n",
        "    elif direction == 'left':\n",
        "        numbers.append(numbers.pop(0))\n",
        "    return numbers\n",
        "solution([1,2,3], 'left')"
      ]
    },
    {
      "cell_type": "code",
      "execution_count": null,
      "metadata": {},
      "outputs": [],
      "source": [
        "from collections import deque\n",
        "\n",
        "def solution(numbers, direction):\n",
        "    numbers = deque(numbers)\n",
        "    if direction == 'right':\n",
        "        numbers.rotate(1)\n",
        "    else:\n",
        "        numbers.rotate(-1)\n",
        "    return list(numbers)\n",
        "\n",
        "solution([1,2,3], 'left')"
      ]
    },
    {
      "cell_type": "markdown",
      "metadata": {},
      "source": [
        "## 주사위의 개수\n",
        "머쓱이는 직육면체 모양의 상자를 하나 가지고 있는데 이 상자에 정육면체 모양의 주사위를 최대한 많이 채우고 싶습니다. 상자의 가로, 세로, 높이가 저장되어있는 배열 box와 주사위 모서리의 길이 정수 n이 매개변수로 주어졌을 때, 상자에 들어갈 수 있는 주사위의 최대 개수를 return 하도록 solution 함수를 완성해주세요."
      ]
    },
    {
      "cell_type": "code",
      "execution_count": null,
      "metadata": {},
      "outputs": [],
      "source": [
        "def solution(box: list, n: int) -> int:\n",
        "    lenx = box[0] // n\n",
        "    leny = box[1] // n\n",
        "    height = box[2] // n\n",
        "    \n",
        "    return lenx * leny * height\n",
        "\n",
        "solution([10, 8, 6], 3)"
      ]
    },
    {
      "cell_type": "code",
      "execution_count": null,
      "metadata": {},
      "outputs": [],
      "source": [
        "def solution(box: list, n: int) -> int:\n",
        "    # 리스트를 언패킹\n",
        "    x, y, z = box\n",
        "    return (x // n) * (y // n) * (z // n)"
      ]
    },
    {
      "cell_type": "markdown",
      "metadata": {},
      "source": [
        "## 팩토리얼\n",
        "i팩토리얼 (i!)은 1부터 i까지 정수의 곱을 의미합니다. 예를들어 5! = 5 * 4 * 3 * 2 * 1 = 120 입니다. 정수 n이 주어질 때 다음 조건을 만족하는 가장 큰 정수 i를 return 하도록 solution 함수를 완성해주세요."
      ]
    },
    {
      "cell_type": "code",
      "execution_count": null,
      "metadata": {},
      "outputs": [],
      "source": [
        "def solution(n):\n",
        "    def factorial(n):\n",
        "            return n * factorial(n-1) if n > 1 else 1\n",
        "    \n",
        "    for i in range(1, 12):\n",
        "        if n < factorial(i):\n",
        "            return i-1\n",
        "solution(7)"
      ]
    },
    {
      "cell_type": "code",
      "execution_count": null,
      "metadata": {},
      "outputs": [],
      "source": [
        "# 최대에서 접근\n",
        "def solution(n):\n",
        "    def factorial(n):\n",
        "            return n * factorial(n-1) if n > 1 else 1\n",
        "    i = 10\n",
        "    while n < factorial(i):\n",
        "        i -= 1\n",
        "    return i\n",
        "\n",
        "solution(99999)"
      ]
    },
    {
      "cell_type": "markdown",
      "metadata": {},
      "source": [
        "## 최댓값 만들기 (1)\n",
        "정수 배열 numbers가 매개변수로 주어집니다. numbers의 원소 중 두 개를 곱해 만들 수 있는 최댓값을 return하도록 solution 함수를 완성해주세요."
      ]
    },
    {
      "cell_type": "code",
      "execution_count": null,
      "metadata": {},
      "outputs": [],
      "source": [
        "def solution(numbers):\n",
        "    a = numbers.pop(numbers.index(max(numbers)))\n",
        "    b = numbers.pop(numbers.index(max(numbers)))\n",
        "    \n",
        "    return a * b\n",
        "solution([1, 2, 3, 4, 5])"
      ]
    },
    {
      "cell_type": "code",
      "execution_count": null,
      "metadata": {},
      "outputs": [],
      "source": [
        "def solution(numbers):\n",
        "    numbers.sort()\n",
        "    return numbers[-1] * numbers [-2]\n",
        "solution([1, 2, 3, 4, 5])"
      ]
    },
    {
      "cell_type": "markdown",
      "metadata": {},
      "source": [
        "# Day 32"
      ]
    },
    {
      "cell_type": "markdown",
      "metadata": {},
      "source": [
        "## 문자열 정렬하기\n",
        "문자열 my_string이 매개변수로 주어질 때, my_string 안에 있는 숫자만 골라 오름차순 정렬한 리스트를 return 하도록 solution 함수를 작성해보세요."
      ]
    },
    {
      "cell_type": "code",
      "execution_count": null,
      "metadata": {},
      "outputs": [],
      "source": [
        "def solution(my_string):\n",
        "    result = []\n",
        "    for i in my_string:\n",
        "        try:\n",
        "            result.append(int(i))\n",
        "        except:\n",
        "                pass\n",
        "    result.sort()\n",
        "    return result\n",
        "solution('da9s4d1d')"
      ]
    },
    {
      "cell_type": "code",
      "execution_count": null,
      "metadata": {},
      "outputs": [],
      "source": [
        "def solution(my_string):\n",
        "    result = []\n",
        "    for i in my_string:\n",
        "        if i.isdigit():\n",
        "            result.append(int(i))\n",
        "    result.sort()\n",
        "    return result\n",
        "solution('da9s4d1d')"
      ]
    },
    {
      "cell_type": "markdown",
      "metadata": {},
      "source": [
        "## 숨어있는 숫자의 덧셈(1)\n",
        "문자열 my_string이 매개변수로 주어집니다. my_string안의 모든 자연수들의 합을 return하도록 solution 함수를 완성해주세요."
      ]
    },
    {
      "cell_type": "code",
      "execution_count": null,
      "metadata": {},
      "outputs": [],
      "source": [
        "def solution(my_string):\n",
        "    result = []\n",
        "    for i in my_string:\n",
        "        if i.isdigit():\n",
        "            result.append(int(i))\n",
        "    return sum(result)\n",
        "\n",
        "solution('asd41d4dsa2')"
      ]
    },
    {
      "cell_type": "markdown",
      "metadata": {},
      "source": [
        "## 소인수 분해\n",
        "소인수분해란 어떤 수를 소수들의 곱으로 표현하는 것입니다. 예를 들어 12를 소인수 분해하면 2 * 2 * 3 으로 나타낼 수 있습니다. 따라서 12의 소인수는 2와 3입니다. 자연수 n이 매개변수로 주어질 때 n의 소인수를 오름차순으로 담은 배열을 return하도록 solution 함수를 완성해주세요."
      ]
    },
    {
      "cell_type": "code",
      "execution_count": null,
      "metadata": {},
      "outputs": [],
      "source": [
        "def solution(n):\n",
        "    result = []\n",
        "    mul = 2\n",
        "    while n > 1:\n",
        "        if n % mul == 0:\n",
        "            n = n / mul\n",
        "            result.append(mul)\n",
        "            mul = 2\n",
        "        else:\n",
        "            mul += 1\n",
        "    result = list(set(result))\n",
        "    result.sort()\n",
        "    return result\n",
        "\n",
        "solution(12)"
      ]
    },
    {
      "cell_type": "markdown",
      "metadata": {},
      "source": [
        "## 컨트롤 제트\n",
        "숫자와 \"Z\"가 공백으로 구분되어 담긴 문자열이 주어집니다. 문자열에 있는 숫자를 차례대로 더하려고 합니다. 이 때 \"Z\"가 나오면 바로 전에 더했던 숫자를 뺀다는 뜻입니다. 숫자와 \"Z\"로 이루어진 문자열 s가 주어질 때, 머쓱이가 구한 값을 return 하도록 solution 함수를 완성해보세요."
      ]
    },
    {
      "cell_type": "code",
      "execution_count": null,
      "metadata": {},
      "outputs": [],
      "source": [
        "def solution(s):\n",
        "    result = []\n",
        "    word = s.split(' ')\n",
        "    \n",
        "    for i in word:\n",
        "        if i != 'Z':\n",
        "            result.append(int(i))\n",
        "        elif i == 'Z':\n",
        "            result.pop()\n",
        "    \n",
        "    return sum(result)\n",
        "\n",
        "solution('-1 -2 -3 Z')"
      ]
    },
    {
      "cell_type": "markdown",
      "metadata": {},
      "source": [
        "## 배열 원소의 길이\n",
        "문자열 배열 strlist가 매개변수로 주어집니다. strlist 각 원소의 길이를 담은 배열을 retrun하도록 solution 함수를 완성해주세요."
      ]
    },
    {
      "cell_type": "code",
      "execution_count": null,
      "metadata": {},
      "outputs": [],
      "source": [
        "def solution(strlist):\n",
        "    return [len(str) for str in strlist]\n",
        "solution([\"We\", \"are\", \"the\", \"world!\"])"
      ]
    },
    {
      "cell_type": "code",
      "execution_count": null,
      "metadata": {},
      "outputs": [],
      "source": [
        "def solution(strlist):\n",
        "    result = []\n",
        "    for str in strlist:\n",
        "        count = 0\n",
        "        for i in str:\n",
        "            count += 1\n",
        "        result.append(count)\n",
        "    return result\n",
        "solution([\"We\", \"are\", \"the\", \"world!\"])"
      ]
    },
    {
      "cell_type": "code",
      "execution_count": null,
      "metadata": {},
      "outputs": [],
      "source": [
        "def solution(strlist):\n",
        "    result = list(map(len, strlist))\n",
        "    return result\n",
        "solution([\"We\", \"are\", \"the\", \"world!\"])"
      ]
    },
    {
      "cell_type": "markdown",
      "metadata": {},
      "source": [
        "## 중복된 문자 제거\n",
        "문자열 my_string이 매개변수로 주어집니다. my_string에서 중복된 문자를 제거하고 하나의 문자만 남긴 문자열을 return하도록 solution 함수를 완성해주세요."
      ]
    },
    {
      "cell_type": "code",
      "execution_count": null,
      "metadata": {},
      "outputs": [],
      "source": [
        "def solution(my_string):\n",
        "    string = []\n",
        "    for i in my_string:\n",
        "        if i not in string:\n",
        "            string.append(i)\n",
        "    return ''.join(string)\n",
        "solution(\"people\")"
      ]
    },
    {
      "cell_type": "code",
      "execution_count": null,
      "metadata": {},
      "outputs": [],
      "source": [
        "def solution(my_string):\n",
        "    return ''.join(dict.fromkeys(my_string))\n",
        "solution(\"people\")"
      ]
    },
    {
      "cell_type": "markdown",
      "metadata": {},
      "source": [
        "## 삼각형의 완성조건(1)\n",
        "선분 세 개로 삼각형을 만들기 위해서는 다음과 같은 조건을 만족해야 합니다.\n",
        "\n",
        "가장 긴 변의 길이는 다른 두 변의 길이의 합보다 작아야 합니다.\n",
        "삼각형의 세 변의 길이가 담긴 배열 sides이 매개변수로 주어집니다. 세 변으로 삼각형을 만들 수 있다면 1, 만들 수 없다면 2를 return하도록 solution 함수를 완성해주세요."
      ]
    },
    {
      "cell_type": "code",
      "execution_count": null,
      "metadata": {},
      "outputs": [],
      "source": [
        "def solution(sides):\n",
        "    sides.sort()\n",
        "    if sides[-1] >= sum(sides) - sides[-1]:\n",
        "        return 2\n",
        "    else:\n",
        "        return 1\n",
        "    \n",
        "solution([1, 2, 3])"
      ]
    },
    {
      "cell_type": "markdown",
      "metadata": {},
      "source": [
        "# Day33"
      ]
    },
    {
      "cell_type": "markdown",
      "metadata": {},
      "source": [
        "## 가까운 수\n",
        "정수 배열 array와 정수 n이 매개변수로 주어질 때, array에 들어있는 정수 중 n과 가장 가까운 수를 return 하도록 solution 함수를 완성해주세요."
      ]
    },
    {
      "cell_type": "code",
      "execution_count": null,
      "metadata": {},
      "outputs": [],
      "source": [
        "def solution(array, n):\n",
        "    arr = sorted(array) #정렬 안해도 상관없음\n",
        "    result = arr[0] - n\n",
        "    num = arr[0]\n",
        "    for i in range(len(arr)):\n",
        "        if abs(result) > abs(arr[i]) - n:\n",
        "            result = arr[i] - n\n",
        "            num = arr[i]\n",
        "    \n",
        "    return num\n",
        "\n",
        "solution([10, 11, 12, 13, 14, 15], 13)\n",
        "    "
      ]
    },
    {
      "cell_type": "code",
      "execution_count": null,
      "metadata": {},
      "outputs": [],
      "source": [
        "def solution(array, n):\n",
        "    array.sort(key = lambda x : (abs(x-n), (x-n)))\n",
        "    return array[0]\n",
        "\n",
        "\n",
        "solution([10, 11, 12, 13, 14, 15], 12)"
      ]
    },
    {
      "cell_type": "markdown",
      "metadata": {},
      "source": [
        "## 369게임\n",
        "머쓱이는 친구들과 369게임을 하고 있습니다. 369게임은 1부터 숫자를 하나씩 대며 3, 6, 9가 들어가는 숫자는 숫자 대신 3, 6, 9의 개수만큼 박수를 치는 게임입니다. 머쓱이가 말해야하는 숫자 order가 매개변수로 주어질 때, 머쓱이가 쳐야할 박수 횟수를 return 하도록 solution 함수를 완성해보세요."
      ]
    },
    {
      "cell_type": "code",
      "execution_count": null,
      "metadata": {},
      "outputs": [],
      "source": [
        "def solution(order):\n",
        "    count = 0\n",
        "    for i in str(order):\n",
        "        if i in '369':\n",
        "            count += 1\n",
        "    return count    \n",
        "\n",
        "solution(36969)"
      ]
    },
    {
      "cell_type": "code",
      "execution_count": null,
      "metadata": {},
      "outputs": [],
      "source": [
        "def solution(order):\n",
        "    order = str(order)\n",
        "    answer = order.count('3') + order.count('6') + order.count('9')\n",
        "    return answer\n",
        "\n",
        "solution(123456789)"
      ]
    },
    {
      "cell_type": "markdown",
      "metadata": {},
      "source": [
        "## 암호해독\n",
        "군 전략가 머쓱이는 전쟁 중 적군이 다음과 같은 암호 체계를 사용한다는 것을 알아냈습니다.\n",
        "\n",
        "암호화된 문자열 cipher를 주고받습니다.\n",
        "그 문자열에서 code의 배수 번째 글자만 진짜 암호입니다.\n",
        "문자열 cipher와 정수 code가 매개변수로 주어질 때 해독된 암호 문자열을 return하도록 solution 함수를 완성해주세요."
      ]
    },
    {
      "cell_type": "code",
      "execution_count": null,
      "metadata": {},
      "outputs": [],
      "source": [
        "def solution(cipher, code):\n",
        "    return cipher[code-1::code]\n",
        "\n",
        "solution(\"dfjardstddetckdaccccdegk\", 4)"
      ]
    },
    {
      "cell_type": "markdown",
      "metadata": {},
      "source": [
        "## 대문자와 소문자\n",
        "문자열 my_string이 매개변수로 주어질 때, 대문자는 소문자로 소문자는 대문자로 변환한 문자열을 return하도록 solution 함수를 완성해주세요."
      ]
    },
    {
      "cell_type": "code",
      "execution_count": null,
      "metadata": {},
      "outputs": [],
      "source": [
        "def solution(my_string):\n",
        "    return my_string.swapcase()\n",
        "\n",
        "solution(\"cccCCC\")"
      ]
    },
    {
      "cell_type": "markdown",
      "metadata": {},
      "source": [
        "## 영어가 싫어요\n",
        "영어가 싫은 머쓱이는 영어로 표기되어있는 숫자를 수로 바꾸려고 합니다. 문자열 numbers가 매개변수로 주어질 때, numbers를 정수로 바꿔 return 하도록 solution 함수를 완성해 주세요."
      ]
    },
    {
      "cell_type": "code",
      "execution_count": null,
      "metadata": {},
      "outputs": [],
      "source": [
        "def solution(numbers):\n",
        "    num_dict = {'zero': 0, 'one': 1, 'two': 2, 'three': 3, 'four': 4, 'five': 5, 'six': 6, 'seven': 7, 'eight': 8, 'nine': 9, 'ten': 1}\n",
        "    \n",
        "    result = ''\n",
        "    i = 0\n",
        "    while i < len(numbers):\n",
        "        for word, digit in num_dict.items():\n",
        "            if numbers[i:i+len(word)] == word:\n",
        "                result += str(digit)\n",
        "                i += len(word)\n",
        "                break\n",
        "            \n",
        "    answer = result\n",
        "    return int(answer)\n",
        "\n",
        "solution('nineone')"
      ]
    },
    {
      "cell_type": "code",
      "execution_count": null,
      "metadata": {},
      "outputs": [],
      "source": [
        "def solution(numbers):\n",
        "    dic = [\"zero\", \"one\", \"two\", \"three\", \"four\", \"five\", \"six\", \"seven\", \"eight\", \"nine\"]\n",
        "    i=0\n",
        "    for word in dic:\n",
        "        numbers = numbers.replace(word, str(i))\n",
        "        i += 1\n",
        "    return numbers"
      ]
    },
    {
      "cell_type": "markdown",
      "metadata": {},
      "source": [
        "## 인덱스 바꾸기\n",
        "\n",
        "문자열 my_string과 정수 num1, num2가 매개변수로 주어질 때, my_string에서 인덱스 num1과 인덱스 num2에 해당하는 문자를 바꾼 문자열을 return 하도록 solution 함수를 완성해보세요."
      ]
    },
    {
      "cell_type": "code",
      "execution_count": null,
      "metadata": {},
      "outputs": [],
      "source": [
        "def solution(my_string, num1, num2):\n",
        "    \n",
        "    string_list = list(my_string)\n",
        "    string_list[num1], string_list[num2] = string_list[num2], string_list[num1]\n",
        "\n",
        "    my_string = ''.join(string_list)\n",
        "    return my_string\n",
        "\n",
        "result = solution(\"hello\", 0, 3)\n",
        "print(result)"
      ]
    },
    {
      "cell_type": "code",
      "execution_count": null,
      "metadata": {},
      "outputs": [],
      "source": [
        "def solution(my_string, num1, num2):\n",
        "    a = list(my_string)\n",
        "    a[num1], a[num2] = a[num2], a[num1]\n",
        "    return ''.join(a)\n",
        "\n",
        "solution(\"I love you\", 3, 6)"
      ]
    },
    {
      "cell_type": "markdown",
      "metadata": {},
      "source": [
        "## 한 번만 등장한 문자\n",
        "문자열 s가 매개변수로 주어집니다. s에서 한 번만 등장하는 문자를 사전 순으로 정렬한 문자열을 return 하도록 solution 함수를 완성해보세요. 한 번만 등장하는 문자가 없을 경우 빈 문자열을 return 합니다."
      ]
    },
    {
      "cell_type": "code",
      "execution_count": null,
      "metadata": {},
      "outputs": [],
      "source": [
        "from collections import Counter\n",
        "def solution(s):\n",
        "    counter = Counter(s)\n",
        "    result = []\n",
        "    for char, count in counter.items():\n",
        "        if count == 1:\n",
        "            result.append(char)\n",
        "    \n",
        "    return ''.join(sorted(result))\n",
        "    \n",
        "solution(\"abdc\")"
      ]
    },
    {
      "cell_type": "code",
      "execution_count": null,
      "metadata": {},
      "outputs": [],
      "source": [
        "def solution(s):\n",
        "    result = ''\n",
        "    for word in s:\n",
        "        if s.count(word) == 1:\n",
        "            result += word\n",
        "    return ''.join(sorted(result))\n",
        "\n",
        "solution(\"abdc\")"
      ]
    },
    {
      "cell_type": "markdown",
      "metadata": {},
      "source": [
        "## 약수 구하기\n",
        "정수 n이 매개변수로 주어질 때, n의 약수를 오름차순으로 담은 배열을 return하도록 solution 함수를 완성해주세요."
      ]
    },
    {
      "cell_type": "code",
      "execution_count": null,
      "metadata": {},
      "outputs": [],
      "source": [
        "def solution(n):\n",
        "    result = []\n",
        "    for i in range(1, n+1):\n",
        "        if n % i == 0:\n",
        "            result.append(i)\n",
        "    return result\n",
        "\n",
        "solution(24)"
      ]
    },
    {
      "cell_type": "code",
      "execution_count": null,
      "metadata": {},
      "outputs": [],
      "source": [
        "def solution(n):\n",
        "    answer = [i for i in range(1, n+1) if n % i == 0]\n",
        "    return answer\n",
        "\n",
        "solution(24)"
      ]
    },
    {
      "cell_type": "markdown",
      "metadata": {},
      "source": [
        "# Day34"
      ]
    },
    {
      "cell_type": "markdown",
      "metadata": {},
      "source": [
        "## 편지\n",
        "머쓱이는 할머니께 생신 축하 편지를 쓰려고 합니다. 할머니가 보시기 편하도록 글자 한 자 한 자를 가로 2cm 크기로 적으려고 하며, 편지를 가로로만 적을 때, 축하 문구 message를 적기 위해 필요한 편지지의 최소 가로길이를 return 하도록 solution 함수를 완성해주세요."
      ]
    },
    {
      "cell_type": "code",
      "execution_count": null,
      "metadata": {},
      "outputs": [],
      "source": [
        "def solution(message):\n",
        "    answer = len(message) * 2\n",
        "    return answer\n",
        "\n",
        "solution('i love you~')"
      ]
    },
    {
      "cell_type": "markdown",
      "metadata": {},
      "source": [
        "## 가장 큰 수 찾기\n",
        "정수 배열 array가 매개변수로 주어질 때, 가장 큰 수와 그 수의 인덱스를 담은 배열을 return 하도록 solution 함수를 완성해보세요."
      ]
    },
    {
      "cell_type": "code",
      "execution_count": null,
      "metadata": {},
      "outputs": [],
      "source": [
        "def solution(array):\n",
        "    a = max(array)\n",
        "    b= array.index(max(array))\n",
        "    return [a, b]\n",
        "    \n",
        "solution([1, 8, 3])"
      ]
    },
    {
      "cell_type": "markdown",
      "metadata": {},
      "source": [
        "## 문자열 계산하기\n",
        "my_string은 \"3 + 5\"처럼 문자열로 된 수식입니다. 문자열 my_string이 매개변수로 주어질 때, 수식을 계산한 값을 return 하는 solution 함수를 완성해주세요."
      ]
    },
    {
      "cell_type": "code",
      "execution_count": null,
      "metadata": {},
      "outputs": [],
      "source": [
        "def solution(my_string):\n",
        "    return eval(my_string)\n",
        "\n",
        "solution(\"3 + 4\")"
      ]
    },
    {
      "cell_type": "markdown",
      "metadata": {},
      "source": [
        "## 배열의 유사도\n",
        "두 배열이 얼마나 유사한지 확인해보려고 합니다. 문자열 배열 s1과 s2가 주어질 때 같은 원소의 개수를 return하도록 solution 함수를 완성해주세요."
      ]
    },
    {
      "cell_type": "code",
      "execution_count": null,
      "metadata": {},
      "outputs": [],
      "source": [
        "def solution(s1, s2):\n",
        "    \n",
        "    count = [0 for i in s1 if i in s2]\n",
        "    return len(count)\n",
        "\n",
        "solution([\"a\", \"b\", \"c\"], [\"com\", \"b\", \"d\", \"p\", \"c\"])"
      ]
    },
    {
      "cell_type": "markdown",
      "metadata": {},
      "source": [
        "## 숫자찾기\n",
        "정수 num과 k가 매개변수로 주어질 때, num을 이루는 숫자 중에 k가 있으면 num의 그 숫자가 있는 자리 수를 return하고 없으면 -1을 return 하도록 solution 함수를 완성해보세요."
      ]
    },
    {
      "cell_type": "code",
      "execution_count": null,
      "metadata": {},
      "outputs": [],
      "source": [
        "def solution(num, k):\n",
        "    arr = []\n",
        "    \n",
        "    for i in str(num):\n",
        "        arr.append(int(i))\n",
        "    \n",
        "    if k in arr:\n",
        "        return arr.index(k) + 1\n",
        "    else:\n",
        "        return -1\n",
        "    \n",
        "solution(29183, 1)"
      ]
    },
    {
      "cell_type": "markdown",
      "metadata": {},
      "source": [
        "## n의 배수 고르기\n",
        "정수 n과 정수 배열 numlist가 매개변수로 주어질 때, numlist에서 n의 배수가 아닌 수들을 제거한 배열을 return하도록 solution 함수를 완성해주세요."
      ]
    },
    {
      "cell_type": "code",
      "execution_count": null,
      "metadata": {},
      "outputs": [],
      "source": [
        "def solution(n, numlist):\n",
        "    result = [i for i in numlist if i % n ==0]\n",
        "    return result\n",
        "\n",
        "solution(3, [4, 5, 6, 7, 8, 9, 10, 11, 12])"
      ]
    },
    {
      "cell_type": "markdown",
      "metadata": {},
      "source": [
        "## OX퀴즈\n",
        "덧셈, 뺄셈 수식들이 'X [연산자] Y = Z' 형태로 들어있는 문자열 배열 quiz가 매개변수로 주어집니다. 수식이 옳다면 \"O\"를 틀리다면 \"X\"를 순서대로 담은 배열을 return하도록 solution 함수를 완성해주세요."
      ]
    },
    {
      "cell_type": "code",
      "execution_count": null,
      "metadata": {},
      "outputs": [],
      "source": [
        "def solution(quiz):\n",
        "    result = []\n",
        "\n",
        "    for i in quiz:\n",
        "        a= i.split('=')[0].strip()\n",
        "        b= int(i.split('=')[1].strip())\n",
        "        a1 = a.split()\n",
        "        \n",
        "        if '+' in a1:\n",
        "            if int(a1[0]) + int(a1[2]) == b:\n",
        "                result.append('O')\n",
        "            else:\n",
        "                result.append('X')\n",
        "        else:\n",
        "            if int(a1[0]) - int(a1[2]) == b:\n",
        "                result.append('O')\n",
        "            else:\n",
        "                result.append('X')\n",
        "            pass\n",
        "    return result\n",
        "\n",
        "solution([\"3 - 4 = -3\"])\n"
      ]
    },
    {
      "cell_type": "markdown",
      "metadata": {},
      "source": [
        "## 문자열안에 문자열\n",
        "문자열 str1, str2가 매개변수로 주어집니다. str1 안에 str2가 있다면 1을 없다면 2를 return하도록 solution 함수를 완성해주세요."
      ]
    },
    {
      "cell_type": "code",
      "execution_count": null,
      "metadata": {},
      "outputs": [],
      "source": [
        "def solution(str1, str2):\n",
        "    return 1 if str2 in str1 else 2"
      ]
    },
    {
      "cell_type": "markdown",
      "metadata": {},
      "source": [
        "## 제곱수 판별하기\n",
        "어떤 자연수를 제곱했을 때 나오는 정수를 제곱수라고 합니다. 정수 n이 매개변수로 주어질 때, n이 제곱수라면 1을 아니라면 2를 return하도록 solution 함수를 완성해주세요."
      ]
    },
    {
      "cell_type": "code",
      "execution_count": null,
      "metadata": {},
      "outputs": [],
      "source": [
        "def solution(n):\n",
        "    answer = str(n**(1/2)).split('.')\n",
        "    if answer[1] == '0':\n",
        "        return 1\n",
        "    return 2\n",
        "\n",
        "solution(976)"
      ]
    },
    {
      "cell_type": "code",
      "execution_count": null,
      "metadata": {},
      "outputs": [],
      "source": [
        "def solution(n):\n",
        "    if n**(1/2) == int(n**(1/2)):\n",
        "        return 1\n",
        "    else:\n",
        "        return 2"
      ]
    },
    {
      "cell_type": "markdown",
      "metadata": {},
      "source": [
        "## 세균 증식\n",
        "어떤 세균은 1시간에 두배만큼 증식한다고 합니다. 처음 세균의 마리수 n과 경과한 시간 t가 매개변수로 주어질 때 t시간 후 세균의 수를 return하도록 solution 함수를 완성해주세요."
      ]
    },
    {
      "cell_type": "code",
      "execution_count": null,
      "metadata": {},
      "outputs": [],
      "source": [
        "def solution(n, t):\n",
        "    return n*2**t"
      ]
    },
    {
      "cell_type": "code",
      "execution_count": null,
      "metadata": {},
      "outputs": [],
      "source": [
        "def solution(n, t):\n",
        "    return n << t"
      ]
    },
    {
      "cell_type": "markdown",
      "metadata": {},
      "source": [
        "## 문자열 정렬하기(2)\n",
        "\n",
        "영어 대소문자로 이루어진 문자열 my_string이 매개변수로 주어질 때, my_string을 모두 소문자로 바꾸고 알파벳 순서대로 정렬한 문자열을 return 하도록 solution 함수를 완성해보세요."
      ]
    },
    {
      "cell_type": "code",
      "execution_count": null,
      "metadata": {},
      "outputs": [],
      "source": [
        "def solution(my_string):\n",
        "    answer = sorted(my_string.lower())\n",
        "    return ''.join(answer)"
      ]
    },
    {
      "cell_type": "markdown",
      "metadata": {},
      "source": [
        "# Day 35"
      ]
    },
    {
      "cell_type": "markdown",
      "metadata": {},
      "source": [
        "## 7의 개수\n",
        "머쓱이는 행운의 숫자 7을 가장 좋아합니다. 정수 배열 array가 매개변수로 주어질 때, 7이 총 몇 개 있는지 return 하도록 solution 함수를 완성해보세요."
      ]
    },
    {
      "cell_type": "code",
      "execution_count": 4,
      "metadata": {},
      "outputs": [
        {
          "data": {
            "text/plain": [
              "4"
            ]
          },
          "execution_count": 4,
          "metadata": {},
          "output_type": "execute_result"
        }
      ],
      "source": [
        "def solution(array):\n",
        "    answer = ''.join(map(str, array))\n",
        "    count = 0\n",
        "    for i in answer:\n",
        "        if '7' in i:\n",
        "            count +=1\n",
        "    return count\n",
        "\n",
        "solution([7, 77, 17])"
      ]
    },
    {
      "cell_type": "code",
      "execution_count": 6,
      "metadata": {},
      "outputs": [
        {
          "name": "stdout",
          "output_type": "stream",
          "text": [
            "4\n"
          ]
        },
        {
          "data": {
            "text/plain": [
              "'[7, 77, 17]'"
            ]
          },
          "execution_count": 6,
          "metadata": {},
          "output_type": "execute_result"
        }
      ],
      "source": [
        "def solution(array):\n",
        "    answer = str(array)\n",
        "    print(answer.count('7'))\n",
        "    return answer\n",
        "    \n",
        "solution([7, 77, 17])"
      ]
    },
    {
      "cell_type": "markdown",
      "metadata": {},
      "source": [
        "## 잘라서 배열로 저장하기\n",
        "문자열 my_str과 n이 매개변수로 주어질 때, my_str을 길이 n씩 잘라서 저장한 배열을 return하도록 solution 함수를 완성해주세요."
      ]
    },
    {
      "cell_type": "code",
      "execution_count": 13,
      "metadata": {},
      "outputs": [
        {
          "name": "stdout",
          "output_type": "stream",
          "text": [
            "0\n",
            "6\n",
            "12\n"
          ]
        },
        {
          "data": {
            "text/plain": [
              "['abc1Ad', 'dfggg4', '556b']"
            ]
          },
          "execution_count": 13,
          "metadata": {},
          "output_type": "execute_result"
        }
      ],
      "source": [
        "def solution(my_str, n):\n",
        "    result = []\n",
        "    for i in range(0, len(my_str), n):\n",
        "        result.append(my_str[i:i+n])\n",
        "    return result\n",
        "solution(\"abc1Addfggg4556b\", 6)"
      ]
    },
    {
      "cell_type": "markdown",
      "metadata": {},
      "source": [
        "## 직사각형 넓이 구하기\n",
        "2차원 좌표 평면에 변이 축과 평행한 직사각형이 있습니다. 직사각형 네 꼭짓점의 좌표 [[x1, y1], [x2, y2], [x3, y3], [x4, y4]]가 담겨있는 배열 dots가 매개변수로 주어질 때, 직사각형의 넓이를 return 하도록 solution 함수를 완성해보세요."
      ]
    },
    {
      "cell_type": "code",
      "execution_count": 27,
      "metadata": {},
      "outputs": [
        {
          "data": {
            "text/plain": [
              "4"
            ]
          },
          "execution_count": 27,
          "metadata": {},
          "output_type": "execute_result"
        }
      ],
      "source": [
        "def solution(dots):\n",
        "    # -와 +를 처리하는방법\n",
        "    def is_same(x, y):\n",
        "        if (x > 0, y > 0) or (x < 0, y < 0):\n",
        "            return abs(y-x)\n",
        "        else:\n",
        "            return x + y\n",
        "    \n",
        "    sortx =sorted(dots)\n",
        "    dx = is_same(sortx[0][0], sortx[3][0])\n",
        "    \n",
        "    sorty =sorted(dots, key=lambda x : x[1])\n",
        "    dy = is_same(sorty[0][1], sorty[3][1])\n",
        "    \n",
        "    return dx * dy\n",
        "\n",
        "solution([[-1, -1], [1, 1], [1, -1], [-1, 1]])"
      ]
    },
    {
      "cell_type": "code",
      "execution_count": null,
      "metadata": {},
      "outputs": [],
      "source": [
        "def solution(dots):\n",
        "    x, y = [], []\n",
        "    for dot in dots:\n",
        "        x.append(dot[0])\n",
        "        y.append(dot[1])\n",
        "    return (max(x) - min(x)) * (max(y) - min(y))"
      ]
    },
    {
      "cell_type": "markdown",
      "metadata": {},
      "source": [
        "## 캐릭터의 좌표\n",
        "머쓱이는 RPG게임을 하고 있습니다. 게임에는 up, down, left, right 방향키가 있으며 각 키를 누르면 위, 아래, 왼쪽, 오른쪽으로 한 칸씩 이동합니다. 예를 들어 [0,0]에서 up을 누른다면 캐릭터의 좌표는 [0, 1], down을 누른다면 [0, -1], left를 누른다면 [-1, 0], right를 누른다면 [1, 0]입니다. 머쓱이가 입력한 방향키의 배열 keyinput와 맵의 크기 board이 매개변수로 주어집니다. 캐릭터는 항상 [0,0]에서 시작할 때 키 입력이 모두 끝난 뒤에 캐릭터의 좌표 [x, y]를 return하도록 solution 함수를 완성해주세요."
      ]
    },
    {
      "cell_type": "code",
      "execution_count": 37,
      "metadata": {},
      "outputs": [
        {
          "data": {
            "text/plain": [
              "[3, 0]"
            ]
          },
          "execution_count": 37,
          "metadata": {},
          "output_type": "execute_result"
        }
      ],
      "source": [
        "def solution(keyinput, board):\n",
        "    boardx = int(board[0]/2)\n",
        "    boardy = int(board[1]/2)\n",
        "    \n",
        "    start = [0, 0]\n",
        "    \n",
        "    def check_position():\n",
        "        if abs(start[0]) > abs(boardx):\n",
        "            start[0] = boardx if start[0] > 0 else -boardx\n",
        "        \n",
        "        if abs(start[1]) > abs(boardy):\n",
        "            start[1] = boardy if start[1] > 0 else -boardy\n",
        "    \n",
        "    for direction in keyinput:\n",
        "        if 'left' in direction:\n",
        "            start[0] -= 1\n",
        "        if 'right' in direction:\n",
        "            start[0] += 1\n",
        "        if 'up' in direction:\n",
        "            start[1] += 1\n",
        "        if 'down' in direction:\n",
        "            start[1] -= 1\n",
        "        \n",
        "        check_position()\n",
        "    \n",
        "    return start\n",
        "\n",
        "solution([\"right\", \"right\", \"right\", \"right\", \"right\", \"left\"],[9, 5])"
      ]
    },
    {
      "cell_type": "markdown",
      "metadata": {},
      "source": [
        "## 최댓값 만들기(2)\n",
        "정수 배열 numbers가 매개변수로 주어집니다. numbers의 원소 중 두 개를 곱해 만들 수 있는 최댓값을 return하도록 solution 함수를 완성해주세요."
      ]
    },
    {
      "cell_type": "code",
      "execution_count": 51,
      "metadata": {},
      "outputs": [
        {
          "data": {
            "text/plain": [
              "15"
            ]
          },
          "execution_count": 51,
          "metadata": {},
          "output_type": "execute_result"
        }
      ],
      "source": [
        "def solution(numbers):\n",
        "    numbers.sort()\n",
        "    return max((numbers[0] * numbers[1]), (numbers[-1] * numbers[-2]))\n",
        "\n",
        "solution([1, 2, -3, 4, -5])"
      ]
    },
    {
      "cell_type": "markdown",
      "metadata": {},
      "source": [
        "## 다항식 더하기\n",
        "한 개 이상의 항의 합으로 이루어진 식을 다항식이라고 합니다. 다항식을 계산할 때는 동류항끼리 계산해 정리합니다. 덧셈으로 이루어진 다항식 polynomial이 매개변수로 주어질 때, 동류항끼리 더한 결괏값을 문자열로 return 하도록 solution 함수를 완성해보세요. 같은 식이라면 가장 짧은 수식을 return 합니다."
      ]
    },
    {
      "cell_type": "code",
      "execution_count": 15,
      "metadata": {},
      "outputs": [
        {
          "data": {
            "text/plain": [
              "'4x + 7'"
            ]
          },
          "execution_count": 15,
          "metadata": {},
          "output_type": "execute_result"
        }
      ],
      "source": [
        "def solution(polynomial):\n",
        "    array = polynomial.split('+')\n",
        "    array = [i.strip() for i in array]\n",
        "    \n",
        "    xnum = []\n",
        "    num = []\n",
        "    \n",
        "    for i in array:\n",
        "        if 'x' == i:\n",
        "            xnum.append(1)\n",
        "        elif 'x' in i:\n",
        "            xnum.append(int(i.replace('x','')))\n",
        "        else:\n",
        "            num.append(int(i))\n",
        "    \n",
        "    if sum(xnum) == 1:\n",
        "        xnum = 'x'\n",
        "    elif sum(xnum) == 0:\n",
        "        xnum = ''\n",
        "    else:\n",
        "        xnum = str(sum(xnum)) + 'x'\n",
        "        \n",
        "    \n",
        "    num = sum(num) if sum(num) != 0 else '' \n",
        "    \n",
        "    plus = ' + '\n",
        "    if num == '' or xnum == '':\n",
        "        plus = ''\n",
        "    \n",
        "    return f'{str(xnum) + plus + str(num)}'\n",
        "    \n",
        "\n",
        "solution(\"3x + 7 + x\")"
      ]
    },
    {
      "cell_type": "markdown",
      "metadata": {},
      "source": [
        "# Day 36"
      ]
    },
    {
      "cell_type": "markdown",
      "metadata": {},
      "source": [
        "## 숨어있는 숫자의 덧셈(2)\n",
        "문자열 my_string이 매개변수로 주어집니다. my_string은 소문자, 대문자, 자연수로만 구성되어있습니다. my_string안의 자연수들의 합을 return하도록 solution 함수를 완성해주세요."
      ]
    },
    {
      "cell_type": "code",
      "execution_count": 67,
      "metadata": {},
      "outputs": [
        {
          "name": "stdout",
          "output_type": "stream",
          "text": [
            "1 25 443 4 123 1123\n"
          ]
        },
        {
          "data": {
            "text/plain": [
              "1719"
            ]
          },
          "execution_count": 67,
          "metadata": {},
          "output_type": "execute_result"
        }
      ],
      "source": [
        "def solution(my_string):\n",
        "    answer = ''.join(i if i.isdigit() else ' ' for i in my_string)\n",
        "    print(answer)\n",
        "    \n",
        "    return sum(list(map(int, answer.split())))\n",
        "\n",
        "solution(\"1a25b443c4d123Z1123\")"
      ]
    },
    {
      "cell_type": "markdown",
      "metadata": {},
      "source": [
        "## 삼각형의 완성조건 (2)\n",
        "선분 세 개로 삼각형을 만들기 위해서는 다음과 같은 조건을 만족해야 합니다.\n",
        "\n",
        "가장 긴 변의 길이는 다른 두 변의 길이의 합보다 작아야 합니다.\n",
        "삼각형의 두 변의 길이가 담긴 배열 sides이 매개변수로 주어집니다. 나머지 한 변이 될 수 있는 정수의 개수를 return하도록 solution 함수를 완성해주세요."
      ]
    },
    {
      "cell_type": "code",
      "execution_count": 2,
      "metadata": {},
      "outputs": [
        {
          "data": {
            "text/plain": [
              "5"
            ]
          },
          "execution_count": 2,
          "metadata": {},
          "output_type": "execute_result"
        }
      ],
      "source": [
        "def solution(sides):\n",
        "    minlen = abs(sides[0] - sides[1]) + 1\n",
        "    maxlen = sides[0] + sides[1]\n",
        "    return len(range(minlen,maxlen))\n",
        "\n",
        "solution([3, 6])"
      ]
    },
    {
      "cell_type": "markdown",
      "metadata": {},
      "source": [
        "## 외계어 사전 \n",
        "PROGRAMMERS-962 행성에 불시착한 우주비행사 머쓱이는 외계행성의 언어를 공부하려고 합니다. 알파벳이 담긴 배열 spell과 외계어 사전 dic이 매개변수로 주어집니다. spell에 담긴 알파벳을 한번씩만 모두 사용한 단어가 dic에 존재한다면 1, 존재하지 않는다면 2를 return하도록 solution 함수를 완성해주세요."
      ]
    },
    {
      "cell_type": "code",
      "execution_count": 15,
      "metadata": {},
      "outputs": [
        {
          "data": {
            "text/plain": [
              "2"
            ]
          },
          "execution_count": 15,
          "metadata": {},
          "output_type": "execute_result"
        }
      ],
      "source": [
        "def solution(spell, dic):\n",
        "    for d in dic:\n",
        "        if sorted(d) == sorted(spell):\n",
        "            return 1\n",
        "    return 2\n"
      ]
    },
    {
      "cell_type": "markdown",
      "metadata": {},
      "source": [
        "## 평행\n",
        "점 네 개의 좌표를 담은 이차원 배열  dots가 다음과 같이 매개변수로 주어집니다.\n",
        "\n",
        "[[x1, y1], [x2, y2], [x3, y3], [x4, y4]]\n",
        "주어진 네 개의 점을 두 개씩 이었을 때, 두 직선이 평행이 되는 경우가 있으면 1을 없으면 0을 return 하도록 solution 함수를 완성해보세요."
      ]
    },
    {
      "cell_type": "code",
      "execution_count": 20,
      "metadata": {},
      "outputs": [],
      "source": [
        "\n",
        "def solution(dots):\n",
        "\n",
        "    [[x1, y1], [x2, y2], [x3, y3], [x4, y4]] = dots\n",
        " \n",
        "    gradient_12 = abs((y2 - y1) / (x2 - x1))\n",
        "    gradient_34 = abs((y4 - y3) / (x4 - x3))\n",
        "    \n",
        "    # 선분 13, 선분 24\n",
        "    gradient_13 = abs((y3 - y1) / (x3 - x1))\n",
        "    gradient_24 = abs((y4 - y2) / (x4 - x2))\n",
        "    \n",
        "    # 선분23, 선분 14\n",
        "    gradient_23 = abs((y3 - y2) / (x3 - x2))\n",
        "    gradient_14 = abs((y4 - y1) / (x4 - x1))\n",
        "    \n",
        "    # 셋 중 하나라도 같으면 평행\n",
        "    if gradient_12 == gradient_34 or gradient_23 == gradient_14 or gradient_13 == gradient_24:\n",
        "        return 1\n",
        "    \n",
        "    return 0\n"
      ]
    },
    {
      "cell_type": "code",
      "execution_count": null,
      "metadata": {},
      "outputs": [],
      "source": [
        "# 생짜로 작성\n",
        "def solution(dots):\n",
        "    [[x1, y1], [x2, y2], [x3, y3], [x4, y4]]=dots\n",
        "    answer1 = ((y1-y2)*(x3-x4) == (y3-y4)*(x1-x2))\n",
        "    answer2 = ((y1-y3)*(x2-x4) == (y2-y4)*(x1-x3))\n",
        "    answer3 = ((y1-y4)*(x2-x3) == (y2-y3)*(x1-x4))\n",
        "    return 1 if answer1 or answer2 or answer3 else 0"
      ]
    },
    {
      "cell_type": "markdown",
      "metadata": {},
      "source": [
        "## 겹치는 선분의 길이\n",
        "선분 3개가 평행하게 놓여 있습니다. 세 선분의 시작과 끝 좌표가 [[start, end], [start, end], [start, end]] 형태로 들어있는 2차원 배열 lines가 매개변수로 주어질 때, 두 개 이상의 선분이 겹치는 부분의 길이를 return 하도록 solution 함수를 완성해보세요.\n",
        "\n",
        "lines가 [[0, 2], [-3, -1], [-2, 1]]일 때 그림으로 나타내면 다음과 같습니다."
      ]
    },
    {
      "cell_type": "code",
      "execution_count": 26,
      "metadata": {},
      "outputs": [
        {
          "data": {
            "text/plain": [
              "6"
            ]
          },
          "execution_count": 26,
          "metadata": {},
          "output_type": "execute_result"
        }
      ],
      "source": [
        "def solution(lines):\n",
        "\n",
        "    maxnum = max(max(line) for line in lines)\n",
        "    minnum = min(min(line) for line in lines)\n",
        "\n",
        "    \n",
        "    result = []\n",
        "    for i in range(minnum, maxnum):\n",
        "        count = 0\n",
        "        \n",
        "        # 원소가 포함되어있다면 count +1\n",
        "        for line in lines:\n",
        "            if i in range(line[0], line[1]):\n",
        "                count += 1\n",
        "        \n",
        "        \n",
        "        # 곂치는게 2개이상이면 result에 추가\n",
        "        if count >= 2:\n",
        "            result.append(i)\n",
        "        count == 0\n",
        "\n",
        "    return len(result)\n",
        "solution([[0, 2], [2, 20], [3, 9]])"
      ]
    },
    {
      "cell_type": "code",
      "execution_count": null,
      "metadata": {},
      "outputs": [],
      "source": [
        "def solution(lines):\n",
        "    sets = [set(range(min(l), max(l))) for l in lines]\n",
        "    return len(sets[0] & sets[1] | sets[0] & sets[2] | sets[1] & sets[2])"
      ]
    },
    {
      "cell_type": "markdown",
      "metadata": {},
      "source": [
        "## 유한소수 판별하기\n",
        "소수점 아래 숫자가 계속되지 않고 유한개인 소수를 유한소수라고 합니다. 분수를 소수로 고칠 때 유한소수로 나타낼 수 있는 분수인지 판별하려고 합니다. 유한소수가 되기 위한 분수의 조건은 다음과 같습니다.\n",
        "\n",
        "기약분수로 나타내었을 때, 분모의 소인수가 2와 5만 존재해야 합니다.\n",
        "두 정수 a와 b가 매개변수로 주어질 때, a/b가 유한소수이면 1을, 무한소수라면 2를 return하도록 solution 함수를 완성해주세요."
      ]
    },
    {
      "cell_type": "code",
      "execution_count": 29,
      "metadata": {},
      "outputs": [
        {
          "data": {
            "text/plain": [
              "2"
            ]
          },
          "execution_count": 29,
          "metadata": {},
          "output_type": "execute_result"
        }
      ],
      "source": [
        "def divide(num):\n",
        "    if num % 2 != 0 and num % 5 != 0:\n",
        "        return num\n",
        "    elif num % 2 == 0:\n",
        "        num = num / 2 \n",
        "        return divide(num)\n",
        "    elif num % 5 == 0:\n",
        "        num = num / 5\n",
        "        return divide(num)\n",
        "\n",
        "\n",
        "def devide2(a, b):\n",
        "    if a % 3 == 0 and b % 3 == 0:\n",
        "        a, b = int(a/3), int(b/3)\n",
        "        return devide2(a, b)\n",
        "    else:\n",
        "        return a, b\n",
        "    \n",
        "    \n",
        "def solution(a, b):\n",
        "    if b % a == 0:\n",
        "        a, b = 1, int(b/a)\n",
        "    \n",
        "    if a % b == 0:\n",
        "        a, b = int(a/b), 1\n",
        "    \n",
        "    a, b = devide2(a, b)\n",
        "    \n",
        "    bb = int(divide(b))\n",
        "    \n",
        "    return 1 if bb == 1 else 2\n",
        "    \n",
        "solution(999,666)"
      ]
    },
    {
      "cell_type": "code",
      "execution_count": null,
      "metadata": {},
      "outputs": [],
      "source": [
        "# 유클리드 호제법\n",
        "def gcd(a, b):\n",
        "    if a % b == 0:\n",
        "        return b\n",
        "    else:\n",
        "        return gcd(b, a%b)\n",
        "\n",
        "#소인수 분해\n",
        "def factorization(x):\n",
        "    d = 2\n",
        "    output = []\n",
        "    \n",
        "    while d <= x:\n",
        "        if x % d == 0:\n",
        "            output.append(d)\n",
        "            x /= d\n",
        "        else:\n",
        "            d += 1\n",
        "            \n",
        "    return output\n",
        "    \n",
        "def solution(a, b):\n",
        "    divide_num = gcd(b, a)\n",
        "    result = b // divide_num\n",
        "    \n",
        "    for num in factorization(result):\n",
        "        if num not in [2, 5]:\n",
        "            return 2\n",
        "    return 1"
      ]
    },
    {
      "cell_type": "markdown",
      "metadata": {},
      "source": [
        "## 특이한 정렬\n",
        "정수 n을 기준으로 n과 가까운 수부터 정렬하려고 합니다. 이때 n으로부터의 거리가 같다면 더 큰 수를 앞에 오도록 배치합니다. 정수가 담긴 배열 numlist와 정수 n이 주어질 때 numlist의 원소를 n으로부터 가까운 순서대로 정렬한 배열을 return하도록 solution 함수를 완성해주세요."
      ]
    },
    {
      "cell_type": "code",
      "execution_count": 53,
      "metadata": {},
      "outputs": [
        {
          "data": {
            "text/plain": [
              "[4, 5, 3, 6, 2, 1]"
            ]
          },
          "execution_count": 53,
          "metadata": {},
          "output_type": "execute_result"
        }
      ],
      "source": [
        "def solution(numlist, n):\n",
        "    rangelist = []\n",
        "    for i in numlist:\n",
        "        rangelist.append([abs(i - n), i])\n",
        "    rangelist.sort(key=lambda x: [x[0], -x[1]])\n",
        "    \n",
        "    result = [i[1] for i in rangelist]\n",
        "    return result\n",
        "\n",
        "solution([1, 2, 3, 4, 5, 6], 4)"
      ]
    },
    {
      "cell_type": "code",
      "execution_count": 54,
      "metadata": {},
      "outputs": [
        {
          "data": {
            "text/plain": [
              "[4, 5, 3, 6, 2, 1]"
            ]
          },
          "execution_count": 54,
          "metadata": {},
          "output_type": "execute_result"
        }
      ],
      "source": [
        "def solution(numlist, n):\n",
        "    return sorted(numlist, key = lambda x: [abs(x-n), -x])\n",
        "\n",
        "solution([1, 2, 3, 4, 5, 6], 4)"
      ]
    },
    {
      "cell_type": "markdown",
      "metadata": {},
      "source": [
        "## 등수 매기기\n",
        "영어 점수와 수학 점수의 평균 점수를 기준으로 학생들의 등수를 매기려고 합니다. 영어 점수와 수학 점수를 담은 2차원 정수 배열 score가 주어질 때, 영어 점수와 수학 점수의 평균을 기준으로 매긴 등수를 담은 배열을 return하도록 solution 함수를 완성해주세요."
      ]
    },
    {
      "cell_type": "code",
      "execution_count": 68,
      "metadata": {},
      "outputs": [
        {
          "data": {
            "text/plain": [
              "[4, 4, 6, 2, 2, 1, 7]"
            ]
          },
          "execution_count": 68,
          "metadata": {},
          "output_type": "execute_result"
        }
      ],
      "source": [
        "def solution(score):\n",
        "    total_scores = [sum(i) for i in score]\n",
        "\n",
        "    # 등수를 계산하고 결과를 딕셔너리로 저장\n",
        "    ranking_dict = {}\n",
        "    current_rank = 1\n",
        "    previous_total = None\n",
        "\n",
        "    for total in sorted(total_scores, reverse=True):\n",
        "        if total != previous_total:\n",
        "            ranking_dict[total] = current_rank\n",
        "        previous_total = total\n",
        "        current_rank += 1\n",
        "\n",
        "    # 원래 순서대로 등수를 배열에 저장\n",
        "    rankings = [ranking_dict[total] for total in total_scores]\n",
        "\n",
        "    # 등수 배열 반환\n",
        "    return rankings\n",
        "\n",
        "# 예제 사용\n",
        "solution([[80, 70], [70, 80], [30, 50], [90, 100], [100, 90], [100, 100], [10, 30]])\n",
        "\n"
      ]
    },
    {
      "cell_type": "code",
      "execution_count": 69,
      "metadata": {},
      "outputs": [
        {
          "data": {
            "text/plain": [
              "[4, 4, 6, 2, 2, 1, 7]"
            ]
          },
          "execution_count": 69,
          "metadata": {},
          "output_type": "execute_result"
        }
      ],
      "source": [
        "def solution(score):\n",
        "    answer = sorted([sum(i) for i in score], reverse=True)\n",
        "    return [answer.index(sum(i)) + 1 for i in score]\n",
        "\n",
        "solution([[80, 70], [70, 80], [30, 50], [90, 100], [100, 90], [100, 100], [10, 30]])\n"
      ]
    },
    {
      "cell_type": "markdown",
      "metadata": {},
      "source": [
        "# Day 37"
      ]
    },
    {
      "cell_type": "markdown",
      "metadata": {},
      "source": [
        "## 로그인 성공?\n",
        "머쓱이는 프로그래머스에 로그인하려고 합니다. 머쓱이가 입력한 아이디와 패스워드가 담긴 배열 id_pw와 회원들의 정보가 담긴 2차원 배열 db가 주어질 때, 다음과 같이 로그인 성공, 실패에 따른 메시지를 return하도록 solution 함수를 완성해주세요.\n",
        "\n",
        "아이디와 비밀번호가 모두 일치하는 회원정보가 있으면 \"login\"을 return합니다.\n",
        "로그인이 실패했을 때 아이디가 일치하는 회원이 없다면 “fail”를, 아이디는 일치하지만 비밀번호가 일치하는 회원이 없다면 “wrong pw”를 return 합니다"
      ]
    },
    {
      "cell_type": "code",
      "execution_count": 4,
      "metadata": {},
      "outputs": [
        {
          "data": {
            "text/plain": [
              "'login'"
            ]
          },
          "execution_count": 4,
          "metadata": {},
          "output_type": "execute_result"
        }
      ],
      "source": [
        "def solution(id_pw, db):\n",
        "    result = []\n",
        "    for ids in db:\n",
        "        if ids[0] != id_pw[0]:\n",
        "            result.append('fail')\n",
        "        \n",
        "        elif ids[1] != id_pw[1]:\n",
        "            result.append('wrong pw')\n",
        "        \n",
        "        else:\n",
        "            result.append('login')\n",
        "\n",
        "    if 'login' in result:\n",
        "        return 'login'\n",
        "    elif 'wrong pw' in result:\n",
        "        return 'wrong pw'\n",
        "    else:\n",
        "        return 'fail'\n",
        "\n",
        "solution([\"meosseugi\", \"1234\"], [[\"rardss\", \"123\"], [\"yyoom\", \"1234\"], [\"meosseugi\", \"1234\"]])"
      ]
    },
    {
      "cell_type": "markdown",
      "metadata": {},
      "source": [
        "## 치킨 쿠폰\n",
        "프로그래머스 치킨은 치킨을 시켜먹으면 한 마리당 쿠폰을 한 장 발급합니다. 쿠폰을 열 장 모으면 치킨을 한 마리 서비스로 받을 수 있고, 서비스 치킨에도 쿠폰이 발급됩니다. 시켜먹은 치킨의 수 chicken이 매개변수로 주어질 때 받을 수 있는 최대 서비스 치킨의 수를 return하도록 solution 함수를 완성해주세요."
      ]
    },
    {
      "cell_type": "code",
      "execution_count": 18,
      "metadata": {},
      "outputs": [
        {
          "data": {
            "text/plain": [
              "11"
            ]
          },
          "execution_count": 18,
          "metadata": {},
          "output_type": "execute_result"
        }
      ],
      "source": [
        "def solution(chicken):\n",
        "    \n",
        "    def service(count):\n",
        "        coupon = count // 10\n",
        "        remainder = count % 10\n",
        "        return coupon, remainder\n",
        "    \n",
        "    count = 0\n",
        "    a, b = service(chicken)\n",
        "    count += a\n",
        "    \n",
        "    while a + b >= 10:\n",
        "        a, b = service(a + b)\n",
        "        count += a\n",
        "        \n",
        "    return count\n",
        "    \n",
        "    \n",
        "\n",
        "solution(100)"
      ]
    },
    {
      "cell_type": "code",
      "execution_count": 20,
      "metadata": {},
      "outputs": [
        {
          "data": {
            "text/plain": [
              "11"
            ]
          },
          "execution_count": 20,
          "metadata": {},
          "output_type": "execute_result"
        }
      ],
      "source": [
        "def solution(chicken):\n",
        "    return int(chicken*0.111111111)"
      ]
    },
    {
      "cell_type": "markdown",
      "metadata": {},
      "source": [
        "## 이진수 더하기\n",
        "이진수를 의미하는 두 개의 문자열 bin1과 bin2가 매개변수로 주어질 때, 두 이진수의 합을 return하도록 solution 함수를 완성해주세요."
      ]
    },
    {
      "cell_type": "code",
      "execution_count": 38,
      "metadata": {},
      "outputs": [
        {
          "data": {
            "text/plain": [
              "'101'"
            ]
          },
          "execution_count": 38,
          "metadata": {},
          "output_type": "execute_result"
        }
      ],
      "source": [
        "def solution(bin1, bin2):\n",
        "    a = int(bin1, 2)\n",
        "    b = int(bin2, 2)\n",
        "    \n",
        "    answer = bin(a + b)\n",
        "    return answer[2:]\n",
        "\n",
        "solution(\"10\", \"11\")"
      ]
    },
    {
      "cell_type": "markdown",
      "metadata": {},
      "source": [
        "## A로 B만들기\n",
        "문자열 before와 after가 매개변수로 주어질 때, before의 순서를 바꾸어 after를 만들 수 있으면 1을, 만들 수 없으면 0을 return 하도록 solution 함수를 완성해보세요."
      ]
    },
    {
      "cell_type": "code",
      "execution_count": null,
      "metadata": {},
      "outputs": [],
      "source": [
        "def solution(before, after):\n",
        "    before_letter = []\n",
        "    for i in before:\n",
        "        before_letter.append(i)\n",
        "        \n",
        "    for i in after:\n",
        "        if i not in before_letter:\n",
        "            return 0\n",
        "        \n",
        "        before_letter.pop(before_letter.index(i))\n",
        "    \n",
        "    return 1"
      ]
    },
    {
      "cell_type": "code",
      "execution_count": 46,
      "metadata": {},
      "outputs": [
        {
          "data": {
            "text/plain": [
              "1"
            ]
          },
          "execution_count": 46,
          "metadata": {},
          "output_type": "execute_result"
        }
      ],
      "source": [
        "def solution(before, after):\n",
        "    return 1 if sorted(before) == sorted(after) else 0\n",
        "solution(\"olleh\", \"hello\")"
      ]
    },
    {
      "cell_type": "markdown",
      "metadata": {},
      "source": [
        "## k의 개수\n",
        "1부터 13까지의 수에서, 1은 1, 10, 11, 12, 13 이렇게 총 6번 등장합니다. 정수 i, j, k가 매개변수로 주어질 때, i부터 j까지 k가 몇 번 등장하는지 return 하도록 solution 함수를 완성해주세요."
      ]
    },
    {
      "cell_type": "code",
      "execution_count": 48,
      "metadata": {},
      "outputs": [
        {
          "data": {
            "text/plain": [
              "6"
            ]
          },
          "execution_count": 48,
          "metadata": {},
          "output_type": "execute_result"
        }
      ],
      "source": [
        "def solution(i, j, k):\n",
        "    count = 0\n",
        "    for i in range(i, j+1):\n",
        "        \n",
        "        for ii in str(i):\n",
        "            if str(k) == str(ii):\n",
        "                count += 1\n",
        "    \n",
        "    return count\n",
        "\n",
        "solution(1, 13, 1)"
      ]
    },
    {
      "cell_type": "code",
      "execution_count": 49,
      "metadata": {},
      "outputs": [
        {
          "data": {
            "text/plain": [
              "6"
            ]
          },
          "execution_count": 49,
          "metadata": {},
          "output_type": "execute_result"
        }
      ],
      "source": [
        "def solution(i, j, k):\n",
        "    count = 0\n",
        "    \n",
        "    for n in range(i, j+1):\n",
        "        count += str(n).count(str(k))\n",
        "        \n",
        "    return count"
      ]
    },
    {
      "cell_type": "markdown",
      "metadata": {},
      "source": [
        "# Day 38"
      ]
    },
    {
      "cell_type": "markdown",
      "metadata": {},
      "source": [
        "## 문자열 밀기\n",
        "문자열 \"hello\"에서 각 문자를 오른쪽으로 한 칸씩 밀고 마지막 문자는 맨 앞으로 이동시키면 \"ohell\"이 됩니다. 이것을 문자열을 민다고 정의한다면 문자열 A와 B가 매개변수로 주어질 때, A를 밀어서 B가 될 수 있다면 밀어야 하는 최소 횟수를 return하고 밀어서 B가 될 수 없으면 -1을 return 하도록 solution 함수를 완성해보세요."
      ]
    },
    {
      "cell_type": "code",
      "execution_count": 4,
      "metadata": {},
      "outputs": [
        {
          "name": "stdout",
          "output_type": "stream",
          "text": [
            "ohell\n"
          ]
        },
        {
          "data": {
            "text/plain": [
              "1"
            ]
          },
          "execution_count": 4,
          "metadata": {},
          "output_type": "execute_result"
        }
      ],
      "source": [
        "def solution(A, B):\n",
        "    count = 0\n",
        "    for i in range(len(B)):\n",
        "        if A == B:\n",
        "            return count\n",
        "        \n",
        "        A = A[-1] + A[:-1]\n",
        "        count += 1\n",
        "\n",
        "    return -1\n",
        "\n",
        "solution(\"hello\", \"ohell\")"
      ]
    },
    {
      "cell_type": "markdown",
      "metadata": {},
      "source": [
        "## 종이 자르기\n",
        "머쓱이는 큰 종이를 1 x 1 크기로 자르려고 합니다. 예를 들어 2 x 2 크기의 종이를 1 x 1 크기로 자르려면 최소 가위질 세 번이 필요합니다."
      ]
    },
    {
      "cell_type": "code",
      "execution_count": null,
      "metadata": {},
      "outputs": [],
      "source": [
        "def solution(M, N):\n",
        "    return M * N -1"
      ]
    },
    {
      "cell_type": "code",
      "execution_count": null,
      "metadata": {},
      "outputs": [],
      "source": [
        "def solution(M, N):\n",
        "    answer = 0\n",
        "    M,N = max(M,N), min(M,N)\n",
        "    answer = (M-1) + (N-1)*M\n",
        "    return answer"
      ]
    },
    {
      "cell_type": "markdown",
      "metadata": {},
      "source": [
        "## 연속된 수의 합\n",
        "연속된 세 개의 정수를 더해 12가 되는 경우는 3, 4, 5입니다. 두 정수 num과 total이 주어집니다. 연속된 수 num개를 더한 값이 total이 될 때, 정수 배열을 오름차순으로 담아 return하도록 solution함수를 완성해보세요."
      ]
    },
    {
      "cell_type": "code",
      "execution_count": 26,
      "metadata": {},
      "outputs": [
        {
          "data": {
            "text/plain": [
              "[0, 1, 2, 3, 4]"
            ]
          },
          "execution_count": 26,
          "metadata": {},
          "output_type": "execute_result"
        }
      ],
      "source": [
        "def solution(num, total):\n",
        "    \n",
        "    startnum = 0\n",
        "    A = sum([i for i in range(startnum, startnum + num)])\n",
        "    while A != total:\n",
        "        if A > total:\n",
        "            startnum -= 1\n",
        "        else:\n",
        "            startnum += 1\n",
        "        \n",
        "        A = sum([i for i in range(startnum, startnum + num)])\n",
        "    \n",
        "    answer = [i for i in range(startnum, startnum+num)]\n",
        "    \n",
        "    return answer\n",
        "\n",
        "solution(5, 10)"
      ]
    },
    {
      "cell_type": "code",
      "execution_count": null,
      "metadata": {},
      "outputs": [],
      "source": [
        "def solution(num, total):\n",
        "    answer = []\n",
        "    var = sum(range(num+1))\n",
        "    diff = total - var\n",
        "    start_num = diff//num\n",
        "    answer = [i+1+start_num for i in range(num)]\n",
        "    return answer"
      ]
    },
    {
      "cell_type": "code",
      "execution_count": 23,
      "metadata": {},
      "outputs": [
        {
          "data": {
            "text/plain": [
              "[3, 4, 5]"
            ]
          },
          "execution_count": 23,
          "metadata": {},
          "output_type": "execute_result"
        }
      ],
      "source": [
        "def solution(num, total):\n",
        "    answer = []\n",
        "    var = sum(range(num+1))\n",
        "    diff = total - var\n",
        "    start_num = diff // num\n",
        "    answer = [i + 1 + start_num for i in range(num)]\n",
        "    \n",
        "    return answer\n",
        "    \n",
        "solution(3, 12)"
      ]
    },
    {
      "cell_type": "markdown",
      "metadata": {},
      "source": [
        "## 다음에 올 숫자\n",
        "등차수열 혹은 등비수열 common이 매개변수로 주어질 때, 마지막 원소 다음으로 올 숫자를 return 하도록 solution 함수를 완성해보세요."
      ]
    },
    {
      "cell_type": "code",
      "execution_count": null,
      "metadata": {},
      "outputs": [],
      "source": [
        "def solution(common):\n",
        "    a, b, c = common[-3], common[-2], common[-1]\n",
        "    \n",
        "    if b - a == c - b:\n",
        "        return c + (c-b)\n",
        "    else :\n",
        "        return c * (c / b)"
      ]
    }
  ],
  "metadata": {
    "colab": {
      "provenance": []
    },
    "kernelspec": {
      "display_name": "Python 3",
      "name": "python3"
    },
    "language_info": {
      "codemirror_mode": {
        "name": "ipython",
        "version": 3
      },
      "file_extension": ".py",
      "mimetype": "text/x-python",
      "name": "python",
      "nbconvert_exporter": "python",
      "pygments_lexer": "ipython3",
      "version": "3.12.0"
    }
  },
  "nbformat": 4,
  "nbformat_minor": 0
}
