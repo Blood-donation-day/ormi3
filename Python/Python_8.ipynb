{
  "nbformat": 4,
  "nbformat_minor": 0,
  "metadata": {
    "colab": {
      "provenance": []
    },
    "kernelspec": {
      "name": "python3",
      "display_name": "Python 3"
    },
    "language_info": {
      "name": "python"
    }
  },
  "cells": [
    {
      "cell_type": "markdown",
      "source": [
        "## 크롤링"
      ],
      "metadata": {
        "id": "91eYqybpbhrx"
      }
    },
    {
      "cell_type": "code",
      "source": [
        "import requests\n",
        "import bs4\n",
        "print(requests.__version__)\n",
        "print(bs4.__version__)"
      ],
      "metadata": {
        "colab": {
          "base_uri": "https://localhost:8080/"
        },
        "id": "HV76bJYtbhT8",
        "outputId": "94d446a4-8264-4aff-836c-176065db1fc5"
      },
      "execution_count": 25,
      "outputs": [
        {
          "output_type": "stream",
          "name": "stdout",
          "text": [
            "2.31.0\n",
            "4.11.2\n"
          ]
        }
      ]
    },
    {
      "cell_type": "code",
      "source": [
        "html = requests.get('http://www.paullab.co.kr/stock.html')\n",
        "html"
      ],
      "metadata": {
        "colab": {
          "base_uri": "https://localhost:8080/"
        },
        "id": "C1x4jLC1gh-U",
        "outputId": "97895295-880d-49e2-9cea-04b1677b6569"
      },
      "execution_count": 26,
      "outputs": [
        {
          "output_type": "execute_result",
          "data": {
            "text/plain": [
              "<Response [200]>"
            ]
          },
          "metadata": {},
          "execution_count": 26
        }
      ]
    },
    {
      "cell_type": "code",
      "source": [
        "print(type(html))\n",
        "print(dir(html))\n",
        "print(html.encoding)\n",
        "# html.encoding = 'utf-8' # 한글 깨져 나오면 이 코드를 실행해주세요.\n",
        "# html.headers\n",
        "# html.json\n",
        "# html.raw\n",
        "html.text"
      ],
      "metadata": {
        "id": "_Ql7NI-kgwQZ"
      },
      "execution_count": null,
      "outputs": []
    },
    {
      "cell_type": "code",
      "source": [
        "#params를 통해 사이트 내 특정한 페이지에서 가져오기\n",
        "params = {'pa1': 'val1', 'pa2': 'value2'}\n",
        "#헤더추가 쿠기추가 인증추가\n",
        "# headers = {'Content-Type': 'application/json; charset=utf-8'}\n",
        "# cookies = {'session_id': 'sorryidontcare'}\n",
        "# response = requests.get('http://www.paullab.co.kr', headers=headers, cookies=cookies)\n",
        "# response = requests.post('http://www.paullab.co.kr', auth=(\"id\",\"pass\"))\n",
        "\n",
        "response = requests.get('http://www.paullab.co.kr', params=params)\n",
        "\n",
        "response.text\n",
        "response.url"
      ],
      "metadata": {
        "colab": {
          "base_uri": "https://localhost:8080/",
          "height": 35
        },
        "id": "xSJkwlGliDKl",
        "outputId": "a3eae1e0-6894-4f58-f71f-bd9bd6bc2007"
      },
      "execution_count": 42,
      "outputs": [
        {
          "output_type": "execute_result",
          "data": {
            "text/plain": [
              "'https://paullab.co.kr/?pa1=val1&pa2=value2'"
            ],
            "application/vnd.google.colaboratory.intrinsic+json": {
              "type": "string"
            }
          },
          "metadata": {},
          "execution_count": 42
        }
      ]
    },
    {
      "cell_type": "code",
      "source": [
        "#새로고침 50회 테스트용도 외 사용하지 않는걸 권장\n",
        "for i in range(10):\n",
        "    response = requests.get('http://www.paullab.co.kr', params=params)\n",
        "response.text"
      ],
      "metadata": {
        "id": "rdaZSWbQjZlG"
      },
      "execution_count": null,
      "outputs": []
    },
    {
      "cell_type": "code",
      "source": [
        "import requests\n",
        "from bs4 import BeautifulSoup\n",
        "\n",
        "response = requests.get('http://www.paullab.co.kr/stock.html')\n",
        "response.encoding = 'utf-8'\n",
        "html = response.text\n",
        "# url 코드를 파일로 저장\n",
        "f = open('test.html', 'w', encoding='utf-8')\n",
        "f.write(html)\n",
        "f.close()"
      ],
      "metadata": {
        "id": "31B91pGhp4Gw"
      },
      "execution_count": null,
      "outputs": []
    },
    {
      "cell_type": "code",
      "source": [
        "import requests\n",
        "from bs4 import BeautifulSoup\n",
        "\n",
        "response = requests.get('http://www.paullab.co.kr/stock.html')\n",
        "response.encoding = 'utf-8'\n",
        "html = response.text\n",
        "\n",
        "soup = BeautifulSoup(html, 'html.parser') # 원하는 문자열로 잘라줌 (html형식만 뽑아줘)\n"
      ],
      "metadata": {
        "id": "sTENeIvkkrQE"
      },
      "execution_count": 47,
      "outputs": []
    },
    {
      "cell_type": "code",
      "source": [
        "print(soup)\n",
        "print(soup.prettify()) #이쁘게 보기쉽게 정리해서 출력"
      ],
      "metadata": {
        "id": "Qq3wuUnQlReD"
      },
      "execution_count": null,
      "outputs": []
    },
    {
      "cell_type": "code",
      "source": [
        "soup.tr"
      ],
      "metadata": {
        "colab": {
          "base_uri": "https://localhost:8080/"
        },
        "id": "A3-qExMaluZO",
        "outputId": "ee23d77e-4478-463f-85c7-1493f4530df6"
      },
      "execution_count": 59,
      "outputs": [
        {
          "output_type": "execute_result",
          "data": {
            "text/plain": [
              "<tr>\n",
              "<th class=\"strong\" scope=\"row\">시가총액</th>\n",
              "<!-- 공백은 의도적으로 넣은 것입니다. -->\n",
              "<td class=\"strong\"><em id=\"_market_sum\">349조 2,323</em>억원</td>\n",
              "</tr>"
            ]
          },
          "metadata": {},
          "execution_count": 59
        }
      ]
    },
    {
      "cell_type": "code",
      "source": [
        "soup.select('#_market_sum')\n",
        "soup.select('#_market_sum')[3].text\n",
        "soup.select('#_market_sum')[0]"
      ],
      "metadata": {
        "colab": {
          "base_uri": "https://localhost:8080/"
        },
        "id": "hoS72Gdsmdh0",
        "outputId": "25573f19-6595-4357-a175-79128f7c695a"
      },
      "execution_count": 70,
      "outputs": [
        {
          "output_type": "execute_result",
          "data": {
            "text/plain": [
              "<em id=\"_market_sum\">349조 2,323</em>"
            ]
          },
          "metadata": {},
          "execution_count": 70
        }
      ]
    },
    {
      "cell_type": "code",
      "source": [
        "# 문제\n",
        "# 2019.10.23 거래량을 출력해보세요\n",
        "soup.select('table.table-hover>tbody>tr>td.num')[5]"
      ],
      "metadata": {
        "colab": {
          "base_uri": "https://localhost:8080/"
        },
        "id": "g0KrQR3dnQMf",
        "outputId": "49891be4-54d6-4bcc-e518-fb35c49e2aa6"
      },
      "execution_count": 88,
      "outputs": [
        {
          "output_type": "execute_result",
          "data": {
            "text/plain": [
              "<td class=\"num\"><span>398,421</span></td>"
            ]
          },
          "metadata": {},
          "execution_count": 88
        }
      ]
    }
  ]
}