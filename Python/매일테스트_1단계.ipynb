{
 "cells": [
  {
   "cell_type": "markdown",
   "metadata": {},
   "source": [
    "## 덧칠하기\n",
    "어느 학교에 페인트가 칠해진 길이가 n미터인 벽이 있습니다. 벽에 동아리 · 학회 홍보나 회사 채용 공고 포스터 등을 게시하기 위해 테이프로 붙였다가 철거할 때 떼는 일이 많고 그 과정에서 페인트가 벗겨지곤 합니다. 페인트가 벗겨진 벽이 보기 흉해져 학교는 벽에 페인트를 덧칠하기로 했습니다.\n",
    "\n",
    "넓은 벽 전체에 페인트를 새로 칠하는 대신, 구역을 나누어 일부만 페인트를 새로 칠 함으로써 예산을 아끼려 합니다. 이를 위해 벽을 1미터 길이의 구역 n개로 나누고, 각 구역에 왼쪽부터 순서대로 1번부터 n번까지 번호를 붙였습니다. 그리고 페인트를 다시 칠해야 할 구역들을 정했습니다.\n",
    "\n",
    "벽에 페인트를 칠하는 롤러의 길이는 m미터이고, 롤러로 벽에 페인트를 한 번 칠하는 규칙은 다음과 같습니다.\n",
    "\n",
    "롤러가 벽에서 벗어나면 안 됩니다.\n",
    "구역의 일부분만 포함되도록 칠하면 안 됩니다.\n",
    "즉, 롤러의 좌우측 끝을 구역의 경계선 혹은 벽의 좌우측 끝부분에 맞춘 후 롤러를 위아래로 움직이면서 벽을 칠합니다. 현재 페인트를 칠하는 구역들을 완전히 칠한 후 벽에서 롤러를 떼며, 이를 벽을 한 번 칠했다고 정의합니다.\n",
    "\n",
    "한 구역에 페인트를 여러 번 칠해도 되고 다시 칠해야 할 구역이 아닌 곳에 페인트를 칠해도 되지만 다시 칠하기로 정한 구역은 적어도 한 번 페인트칠을 해야 합니다. 예산을 아끼기 위해 다시 칠할 구역을 정했듯 마찬가지로 롤러로 페인트칠을 하는 횟수를 최소화하려고 합니다.\n",
    "\n",
    "정수 n, m과 다시 페인트를 칠하기로 정한 구역들의 번호가 담긴 정수 배열 section이 매개변수로 주어질 때 롤러로 페인트칠해야 하는 최소 횟수를 return 하는 solution 함수를 작성해 주세요."
   ]
  },
  {
   "cell_type": "code",
   "execution_count": null,
   "metadata": {},
   "outputs": [],
   "source": [
    "from collections import deque\n",
    "def solution(n, m, section):\n",
    "    arr= deque(section)\n",
    "    count = 1\n",
    "\n",
    "    # section[0]부터 m길이의 벽을 칠함\n",
    "    flag = section[0] + m -1\n",
    "\n",
    "    while arr:\n",
    "        \n",
    "        #flag보다 작으면 pop\n",
    "        if arr[0] <= flag:\n",
    "            arr.popleft()\n",
    "        \n",
    "        #아니면 flag 재지정\n",
    "        else:\n",
    "            count+=1\n",
    "            flag = arr[0] +m -1\n",
    "\n",
    "    return count\n",
    "\n",
    "solution(50, 3, [i for i in range(1, 100000, 5)]) #거리가 있을때 지우는것 붙어있을 때 지우는거"
   ]
  },
  {
   "cell_type": "code",
   "execution_count": null,
   "metadata": {},
   "outputs": [],
   "source": [
    "def solution(n, m, section):\n",
    "    count = 0\n",
    "    aa= 0\n",
    "\n",
    "    for i in section:\n",
    "        if aa < i:\n",
    "            count += 1\n",
    "            aa = i + m - 1\n",
    "\n",
    "    return count\n",
    "\n",
    "solution(50, 3, [i for i in range(1, 100000, 5)])"
   ]
  },
  {
   "cell_type": "markdown",
   "metadata": {},
   "source": [
    "## 대충만든 자판\n",
    "휴대폰의 자판은 컴퓨터 키보드 자판과는 다르게 하나의 키에 여러 개의 문자가 할당될 수 있습니다. 키 하나에 여러 문자가 할당된 경우, 동일한 키를 연속해서 빠르게 누르면 할당된 순서대로 문자가 바뀝니다.\n",
    "\n",
    "예를 들어, 1번 키에 \"A\", \"B\", \"C\" 순서대로 문자가 할당되어 있다면 1번 키를 한 번 누르면 \"A\", 두 번 누르면 \"B\", 세 번 누르면 \"C\"가 되는 식입니다.\n",
    "\n",
    "같은 규칙을 적용해 아무렇게나 만든 휴대폰 자판이 있습니다. 이 휴대폰 자판은 키의 개수가 1개부터 최대 100개까지 있을 수 있으며, 특정 키를 눌렀을 때 입력되는 문자들도 무작위로 배열되어 있습니다. 또, 같은 문자가 자판 전체에 여러 번 할당된 경우도 있고, 키 하나에 같은 문자가 여러 번 할당된 경우도 있습니다. 심지어 아예 할당되지 않은 경우도 있습니다. 따라서 몇몇 문자열은 작성할 수 없을 수도 있습니다.\n",
    "\n",
    "이 휴대폰 자판을 이용해 특정 문자열을 작성할 때, 키를 최소 몇 번 눌러야 그 문자열을 작성할 수 있는지 알아보고자 합니다.\n",
    "\n",
    "1번 키부터 차례대로 할당된 문자들이 순서대로 담긴 문자열배열 keymap과 입력하려는 문자열들이 담긴 문자열 배열 targets가 주어질 때, 각 문자열을 작성하기 위해 키를 최소 몇 번씩 눌러야 하는지 순서대로 배열에 담아 return 하는 solution 함수를 완성해 주세요.\n",
    "\n",
    "단, 목표 문자열을 작성할 수 없을 때는 -1을 저장합니다.\n",
    "\n",
    "keymap\ttargets\tresult\n",
    "[\"ABACD\", \"BCEFD\"]\t[\"ABCD\",\"AABB\"]\t[9, 4]\n",
    "[\"AA\"]\t[\"B\"]\t[-1]\n",
    "[\"AGZ\", \"BSSS\"]\t[\"ASA\",\"BGZ\"]\t[4, 6]"
   ]
  },
  {
   "cell_type": "code",
   "execution_count": null,
   "metadata": {},
   "outputs": [],
   "source": [
    "def solution(keymap, targets):\n",
    "    result = []\n",
    "\n",
    "    #모든 키에 대해 최소로 누눌 수 있는 횟수 저장\n",
    "    keymaps = {}\n",
    "    for keys in keymap:\n",
    "        for i, key in enumerate(keys):\n",
    "            if key not in keymaps:\n",
    "                keymaps[key] = i + 1\n",
    "            else:\n",
    "                keymaps[key] = min(keymaps[key], i +1 )\n",
    "\n",
    "    for target in targets:\n",
    "        click = 0\n",
    "        for tar in target:\n",
    "            if tar in keymaps:\n",
    "                click += keymaps[tar]\n",
    "            else:\n",
    "                click = -1\n",
    "                break\n",
    "        result.append(click)\n",
    "\n",
    "\n",
    "    return result\n",
    "\n",
    "solution([\"AZG\", \"BSSS\"], [\"ASA\",\"BGZ\"])\n"
   ]
  },
  {
   "cell_type": "markdown",
   "metadata": {},
   "source": [
    "## 같은 숫자는 싫어\n",
    "배열 arr가 주어집니다. 배열 arr의 각 원소는 숫자 0부터 9까지로 이루어져 있습니다. 이때, 배열 arr에서 연속적으로 나타나는 숫자는 하나만 남기고 전부 제거하려고 합니다. 단, 제거된 후 남은 수들을 반환할 때는 배열 arr의 원소들의 순서를 유지해야 합니다. 예를 들면,\n",
    "\n",
    "arr = [1, 1, 3, 3, 0, 1, 1] 이면 [1, 3, 0, 1] 을 return 합니다.\n",
    "arr = [4, 4, 4, 3, 3] 이면 [4, 3] 을 return 합니다.\n",
    "배열 arr에서 연속적으로 나타나는 숫자는 제거하고 남은 수들을 return 하는 solution 함수를 완성해 주세요.\n",
    "\n",
    "제한사항\n",
    "배열 arr의 크기 : 1,000,000 이하의 자연수\n",
    "배열 arr의 원소의 크기 : 0보다 크거나 같고 9보다 작거나 같은 정수"
   ]
  },
  {
   "cell_type": "code",
   "execution_count": null,
   "metadata": {},
   "outputs": [],
   "source": [
    "def solution(arr):\n",
    "    previous_num = -1\n",
    "    newarr = []\n",
    "    for i in arr:\n",
    "        \n",
    "        if i != previous_num:\n",
    "            newarr.append(i)\n",
    "            previous_num = i\n",
    "    return newarr\n",
    "\n",
    "solution([4,4,4,3,3])"
   ]
  },
  {
   "cell_type": "markdown",
   "metadata": {},
   "source": [
    "## 저주의 숫자 3\n",
    "3x 마을 사람들은 3을 저주의 숫자라고 생각하기 때문에 3의 배수와 숫자 3을 사용하지 않습니다. 3x 마을 사람들의 숫자는 다음과 같습니다.\n",
    "\n",
    "10진법\t3x 마을에서 쓰는 숫자\t10진법\t3x 마을에서 쓰는 숫자\n",
    "1\t1\t6\t8\n",
    "2\t2\t7\t10\n",
    "3\t4\t8\t11\n",
    "4\t5\t9\t14\n",
    "5\t7\t10\t16\n",
    "정수 n이 매개변수로 주어질 때, n을 3x 마을에서 사용하는 숫자로 바꿔 return하도록 solution 함수를 완성해주세요."
   ]
  },
  {
   "cell_type": "code",
   "execution_count": null,
   "metadata": {},
   "outputs": [],
   "source": [
    "def x3(n):\n",
    "    #3 의 배수 및 숫자 3\n",
    "    result = list(filter(lambda n : '3' not in str(n) and '5' not in str(n) and '9' not in str(n), range(0, 999)))\n",
    "    return result[n]\n",
    "\n",
    "x3(15)"
   ]
  },
  {
   "cell_type": "code",
   "execution_count": null,
   "metadata": {},
   "outputs": [],
   "source": [
    "def solution(n):\n",
    "    count = 0\n",
    "    for i in range(n):\n",
    "        count += 1\n",
    "        while count%3 == 0 or '3' in str(count):\n",
    "            count += 1\n",
    "    return count\n",
    "\n",
    "list(map(solution, range(1, 16)))"
   ]
  },
  {
   "cell_type": "markdown",
   "metadata": {},
   "source": [
    "합성수 찾기\n",
    "약수의 개수가 세 개 이상인 수를 합성수라고 합니다. 자연수 n이 매개변수로 주어질 때 n이하의 합성수의 개수를 return하도록 solution 함수를 완성해주세요."
   ]
  },
  {
   "cell_type": "code",
   "execution_count": null,
   "metadata": {},
   "outputs": [],
   "source": [
    "def divisor(num):\n",
    "    count = 0\n",
    "    for aa in range(1, num+1):\n",
    "        if num % aa == 0:\n",
    "            count += 1\n",
    "    return count\n",
    "\n",
    "def solution(n):\n",
    "    result = []\n",
    "    for i in range(1, n+1):\n",
    "        if divisor(i) >= 3:\n",
    "            result.append(i)\n",
    "        \n",
    "    return len(result)\n",
    "\n",
    "solution(100)"
   ]
  },
  {
   "cell_type": "code",
   "execution_count": null,
   "metadata": {},
   "outputs": [],
   "source": [
    "def solution(n):\n",
    "    return len([i for i in range(4, n+1) if i % 2 == 0 or i % 3 == 0])\n",
    "\n",
    "solution(15)"
   ]
  },
  {
   "cell_type": "code",
   "execution_count": null,
   "metadata": {},
   "outputs": [],
   "source": [
    "# 여기서는 안돌아감\n",
    "import time\n",
    "import asyncio\n",
    "\n",
    "async def foo():\n",
    "    res = 0\n",
    "    \n",
    "    for i in range(1, 11):\n",
    "        res += i\n",
    "        print(res)\n",
    "        await asyncio.sleep(1)\n",
    "        \n",
    "    return res\n",
    "\n",
    "\n",
    "start = time.time()\n",
    "\n",
    "loop = asyncio.get_event_loop()\n",
    "loop.run_until_complete(asyncio.gather(foo(), foo()))\n",
    "loop.close()\n",
    "\n",
    "end = time.time()\n",
    "\n",
    "\n",
    "over_time = round(end - start, 3)\n",
    "print(f'걸린시간 : {over_time}')"
   ]
  },
  {
   "cell_type": "code",
   "execution_count": null,
   "metadata": {},
   "outputs": [],
   "source": [
    "def a1000(value):\n",
    "    def wrapper(*args):\n",
    "        print('1000 더하는 함수임 다음에 +1000 할게')\n",
    "        result = value(*args)\n",
    "        return result + 1000\n",
    "    return wrapper\n",
    "\n",
    "\n",
    "@a1000\n",
    "def square(num):\n",
    "    print('이건 제곱함수임 넣는 수를 제곱해서 반환해줌')\n",
    "    num = num**2\n",
    "    return num\n",
    "\n",
    "square(10)\n"
   ]
  },
  {
   "cell_type": "markdown",
   "metadata": {},
   "source": [
    "## 문자열 내림차순으로 배치하기\n",
    "문자열 s에 나타나는 문자를 큰것부터 작은 순으로 정렬해 새로운 문자열을 리턴하는 함수, solution을 완성해주세요.\n",
    "s는 영문 대소문자로만 구성되어 있으며, 대문자는 소문자보다 작은 것으로 간주합니다."
   ]
  },
  {
   "cell_type": "code",
   "execution_count": null,
   "metadata": {},
   "outputs": [],
   "source": [
    "# 이게 왜 레벨1이지? \n",
    "def solution(s):\n",
    "    return ''.join(sorted(s, reverse=True))\n",
    "\n",
    "solution(\"Zbcdefg\")"
   ]
  },
  {
   "cell_type": "markdown",
   "metadata": {},
   "source": [
    "## 안전지대\n",
    "다음 그림과 같이 지뢰가 있는 지역과 지뢰에 인접한 위, 아래, 좌, 우 대각선 칸을 모두 위험지역으로 분류합니다.\n",
    "<img src=\"https://grepp-programmers.s3.ap-northeast-2.amazonaws.com/files/production/124a2c93-da99-4643-96a8-292bb871f553/image.png\">\n",
    "\n",
    "지뢰는 2차원 배열 board에 1로 표시되어 있고 board에는 지뢰가 매설 된 지역 1과, 지뢰가 없는 지역 0만 존재합니다.\n",
    "지뢰가 매설된 지역의 지도 board가 매개변수로 주어질 때, 안전한 지역의 칸 수를 return하도록 solution 함수를 완성해주세요."
   ]
  },
  {
   "cell_type": "code",
   "execution_count": null,
   "metadata": {},
   "outputs": [],
   "source": [
    "def solution(board):\n",
    "    rows, cols = len(board), len(board[0])\n",
    "    directions = [(1, 0), (-1, 0), (0, 1), (0, -1), (1, 1), (1, -1), (-1, 1), (-1, -1)]\n",
    "    safe_count = 0\n",
    "    \n",
    "    for row in range(rows):\n",
    "        #2차원 배열에서 원소하나씩 전부 체크\n",
    "        for col in range(cols):\n",
    "            \n",
    "            if board[row][col] == 1:\n",
    "                continue\n",
    "            \n",
    "            is_safe = True\n",
    "            #주위 8칸 체크\n",
    "            for dx, dy in directions:\n",
    "                x, y = row + dx, col + dy\n",
    "                \n",
    "                #2차원 배열에서 유효한 위치인지 체크\n",
    "                if 0 <= x < rows and 0 <= y < cols:\n",
    "                    if board[x][y] == 1:\n",
    "                        is_safe = False\n",
    "                        break\n",
    "            if is_safe:\n",
    "                safe_count += 1\n",
    "    return safe_count\n",
    "\n",
    "solution([[0, 0, 0, 0, 0], [0, 0, 0, 0, 0], [0, 0, 0, 0, 0], [0, 0, 1, 0, 0], [0, 0, 0, 0, 0]])"
   ]
  },
  {
   "cell_type": "code",
   "execution_count": null,
   "metadata": {},
   "outputs": [],
   "source": [
    "#안전지대 \n",
    "# 배열은 n * n\n",
    "#2차원 배열에서 모든 요소 한번씩 찍어보면서 1이면 주변 8칸 체크\n",
    "# 한쪽이 막힌 경우도 확인해야해.\n",
    "\n",
    "\n",
    "def solution(board):\n",
    "    checks = [(0, -1), (0, 1), (-1, -1), (-1, 0), (-1, 1), (1, -1), (1, 0), (1, 1)]\n",
    "    count = 0\n",
    "    N = len(board)\n",
    "    \n",
    "    for y in range(N):\n",
    "        for x in range(N):\n",
    "            \n",
    "            if board[y][x] == 1:\n",
    "                continue\n",
    "    \n",
    "            safe = True\n",
    "            for dx, dy in checks:\n",
    "                x8, y8 = x + dx, y + dy\n",
    "                \n",
    "                if 0 <= x8 < N and 0<= y8 < N:\n",
    "                    if board[y8][x8] == 1:\n",
    "                        safe = False\n",
    "                        break\n",
    "            \n",
    "            if safe == True:\n",
    "                count += 1\n",
    "    return count\n",
    "                \n",
    "solution([[0, 0, 0, 0, 0], [0, 0, 0, 0, 0], [0, 0, 0, 0, 0], [0, 0, 1, 0, 0], [0, 0, 0, 0, 0]])\n",
    "    "
   ]
  },
  {
   "cell_type": "markdown",
   "metadata": {},
   "source": [
    "## 예산\n",
    "S사에서는 각 부서에 필요한 물품을 지원해 주기 위해 부서별로 물품을 구매하는데 필요한 금액을 조사했습니다. 그러나, 전체 예산이 정해져 있기 때문에 모든 부서의 물품을 구매해 줄 수는 없습니다. 그래서 최대한 많은 부서의 물품을 구매해 줄 수 있도록 하려고 합니다.\n",
    "\n",
    "물품을 구매해 줄 때는 각 부서가 신청한 금액만큼을 모두 지원해 줘야 합니다. 예를 들어 1,000원을 신청한 부서에는 정확히 1,000원을 지원해야 하며, 1,000원보다 적은 금액을 지원해 줄 수는 없습니다.\n",
    "\n",
    "부서별로 신청한 금액이 들어있는 배열 d와 예산 budget이 매개변수로 주어질 때, 최대 몇 개의 부서에 물품을 지원할 수 있는지 return 하도록 solution 함수를 완성해주세요.\n",
    "\n",
    "제한사항\n",
    "d는 부서별로 신청한 금액이 들어있는 배열이며, 길이(전체 부서의 개수)는 1 이상 100 이하입니다.\n",
    "d의 각 원소는 부서별로 신청한 금액을 나타내며, 부서별 신청 금액은 1 이상 100,000 이하의 자연수입니다.\n",
    "budget은 예산을 나타내며, 1 이상 10,000,000 이하의 자연수입니다."
   ]
  },
  {
   "cell_type": "code",
   "execution_count": null,
   "metadata": {},
   "outputs": [],
   "source": [
    "def solution(d, budget):\n",
    "    d.sort()  # 부서들의 예산 요청을 오름차순 정렬\n",
    "    count = 0\n",
    "    \n",
    "    for req in d:\n",
    "        if budget < req:\n",
    "            break\n",
    "        budget -= req\n",
    "        count += 1\n",
    "    \n",
    "    return count"
   ]
  },
  {
   "cell_type": "code",
   "execution_count": null,
   "metadata": {},
   "outputs": [],
   "source": [
    "def solution(d, budget):\n",
    "    d.sort()  # 부서들의 예산 요청을 오름차순 정렬\n",
    "    \n",
    "    while budget < sum(d):\n",
    "        d.pop()\n",
    "\n",
    "    return len(d)"
   ]
  },
  {
   "cell_type": "markdown",
   "metadata": {},
   "source": [
    "## 약수의 개수와 덧셈\n",
    "두 정수 left와 right가 매개변수로 주어집니다. left부터 right까지의 모든 수들 중에서, 약수의 개수가 짝수인 수는 더하고, 약수의 개수가 홀수인 수는 뺀 수를 return 하도록 solution 함수를 완성해주세요."
   ]
  },
  {
   "cell_type": "code",
   "execution_count": null,
   "metadata": {},
   "outputs": [],
   "source": [
    "def solution(left, right):\n",
    "    odd = []\n",
    "    even = []\n",
    "    \n",
    "    for i in range(left, right+1):\n",
    "        count = 0\n",
    "        \n",
    "        for num in range(1, i+1):\n",
    "            if i % num == 0:\n",
    "                count += 1\n",
    "        \n",
    "        if count % 2 == 0:\n",
    "            even.append(i)\n",
    "        else:\n",
    "            odd.append(i)\n",
    "    \n",
    "    return sum(even) - sum(odd)\n",
    "\n",
    "solution(13, 17)"
   ]
  },
  {
   "cell_type": "code",
   "execution_count": null,
   "metadata": {},
   "outputs": [],
   "source": [
    "#  제곱 수는 약수의 개수가 홀수\n",
    "\n",
    "def solution(left, right):\n",
    "    result = 0\n",
    "    for i in range(left, right+1):\n",
    "        if int(i**0.5) == i**0.5:\n",
    "            result -= i\n",
    "        else:\n",
    "            result += i\n",
    "    return result\n",
    "solution(13,17)"
   ]
  },
  {
   "cell_type": "markdown",
   "metadata": {},
   "source": [
    "## 평균 구하기\n",
    "정수를 담고 있는 배열 arr의 평균값을 return하는 함수, solution을 완성해보세요."
   ]
  },
  {
   "cell_type": "code",
   "execution_count": null,
   "metadata": {},
   "outputs": [],
   "source": [
    "def solution(arr):\n",
    "    return sum(arr) / len(arr)"
   ]
  },
  {
   "cell_type": "markdown",
   "metadata": {},
   "source": [
    "## 나머지가 이 되는 수 찾기\n",
    "자연수 n이 매개변수로 주어집니다. n을 x로 나눈 나머지가 1이 되도록 하는 가장 작은 자연수 x를 return 하도록 solution 함수를 완성해주세요. 답이 항상 존재함은 증명될 수 있습니다."
   ]
  },
  {
   "cell_type": "code",
   "execution_count": null,
   "metadata": {},
   "outputs": [],
   "source": [
    "def solution(n):\n",
    "    mul = 2\n",
    "    \n",
    "    while n >= 3:\n",
    "        if n % mul == 1:\n",
    "            return mul\n",
    "        \n",
    "        else:\n",
    "            mul += 1\n",
    "    \n",
    "    return mul\n",
    "\n",
    "solution(456)"
   ]
  },
  {
   "cell_type": "code",
   "execution_count": null,
   "metadata": {},
   "outputs": [],
   "source": [
    "def solution(n):\n",
    "    result = []\n",
    "    mul = 2\n",
    "    while n > 1:\n",
    "        if n % mul == 0:\n",
    "            n = n / mul\n",
    "            result.append(mul)\n",
    "            mul = 2\n",
    "        else:\n",
    "            mul += 1\n",
    "    result = list(set(result))\n",
    "    result.sort()\n",
    "    return result\n",
    "\n",
    "solution(12)"
   ]
  },
  {
   "cell_type": "markdown",
   "metadata": {},
   "source": [
    "## 짝수와 홀수\n",
    "정수 num이 짝수일 경우 \"Even\"을 반환하고 홀수인 경우 \"Odd\"를 반환하는 함수, solution을 완성해주세요."
   ]
  },
  {
   "cell_type": "code",
   "execution_count": null,
   "metadata": {},
   "outputs": [],
   "source": [
    "def solution(num):\n",
    "    return \"Odd\" if num % 2 == 1 else \"Even\""
   ]
  },
  {
   "cell_type": "markdown",
   "metadata": {},
   "source": [
    "## 문자열을 정수로 바꾸기\n",
    "문자열 s를 숫자로 변환한 결과를 반환하는 함수, solution을 완성하세요."
   ]
  },
  {
   "cell_type": "code",
   "execution_count": null,
   "metadata": {},
   "outputs": [],
   "source": [
    "def solution(s):\n",
    "    return str(s) if type(s) == int else int(s)\n",
    "\n",
    "solution(1234)"
   ]
  },
  {
   "cell_type": "markdown",
   "metadata": {},
   "source": [
    "## 약수의 합\n",
    "정수 n을 입력받아 n의 약수를 모두 더한 값을 리턴하는 함수, solution을 완성해주세요."
   ]
  },
  {
   "cell_type": "code",
   "execution_count": null,
   "metadata": {},
   "outputs": [],
   "source": [
    "def solution(n):\n",
    "    \n",
    "    result = []\n",
    "    \n",
    "    for i in range(1, n+1 ):\n",
    "        if n % i == 0:\n",
    "            result.append(i)\n",
    "            \n",
    "    return sum(result)\n",
    "\n",
    "solution(12)"
   ]
  },
  {
   "cell_type": "code",
   "execution_count": null,
   "metadata": {},
   "outputs": [],
   "source": [
    "def solution(n):\n",
    "    return sum((filter(lambda x: n % x == 0, range(1, n+1))))\n",
    "\n",
    "solution(12)"
   ]
  },
  {
   "cell_type": "markdown",
   "metadata": {},
   "source": [
    "## x만큼 간격이 있는 n개의 숫자\n",
    "함수 solution은 정수 x와 자연수 n을 입력 받아, x부터 시작해 x씩 증가하는 숫자를 n개 지니는 리스트를 리턴해야 합니다. 다음 제한 조건을 보고, 조건을 만족하는 함수, solution을 완성해주세요."
   ]
  },
  {
   "cell_type": "code",
   "execution_count": null,
   "metadata": {},
   "outputs": [],
   "source": [
    "def solution(x, n):\n",
    "    return [x*i for i in range(1, n+1)]\n",
    "\n",
    "solution(-4, 2)"
   ]
  },
  {
   "cell_type": "markdown",
   "metadata": {},
   "source": [
    "## 체육복\n",
    "점심시간에 도둑이 들어, 일부 학생이 체육복을 도난당했습니다. 다행히 여벌 체육복이 있는 학생이 이들에게 체육복을 빌려주려 합니다. 학생들의 번호는 체격 순으로 매겨져 있어, 바로 앞번호의 학생이나 바로 뒷번호의 학생에게만 체육복을 빌려줄 수 있습니다. 예를 들어, 4번 학생은 3번 학생이나 5번 학생에게만 체육복을 빌려줄 수 있습니다. 체육복이 없으면 수업을 들을 수 없기 때문에 체육복을 적절히 빌려 최대한 많은 학생이 체육수업을 들어야 합니다.\n",
    "\n",
    "전체 학생의 수 n, 체육복을 도난당한 학생들의 번호가 담긴 배열 lost, 여벌의 체육복을 가져온 학생들의 번호가 담긴 배열 reserve가 매개변수로 주어질 때, 체육수업을 들을 수 있는 학생의 최댓값을 return 하도록 solution 함수를 작성해주세요."
   ]
  },
  {
   "cell_type": "code",
   "execution_count": null,
   "metadata": {},
   "outputs": [],
   "source": [
    "def solution(n, lost, reverse):\n",
    "\n",
    "    reversed = set(set(reverse) - set(lost))\n",
    "    lostd = set(set(lost) - set(reverse))\n",
    "    nn = 0\n",
    "    \n",
    "    for i in lostd:\n",
    "        if i - 1 in reversed:\n",
    "            reversed.remove(i - 1)\n",
    "            nn += 1\n",
    "        elif i + 1 in reversed:\n",
    "            reversed.remove(i + 1)\n",
    "            nn += 1\n",
    "    \n",
    "    return n - len(lostd) + nn\n",
    "    \n",
    "solution(5, [2, 4],[1,3,5])"
   ]
  },
  {
   "cell_type": "markdown",
   "metadata": {},
   "source": [
    "## 문자열 나누기\n",
    "문자열 s가 입력되었을 때 다음 규칙을 따라서 이 문자열을 여러 문자열로 분해하려고 합니다.\n",
    "\n",
    "먼저 첫 글자를 읽습니다. 이 글자를 x라고 합시다.\n",
    "이제 이 문자열을 왼쪽에서 오른쪽으로 읽어나가면서, x와 x가 아닌 다른 글자들이 나온 횟수를 각각 셉니다. 처음으로 두 횟수가 같아지는 순간 멈추고, 지금까지 읽은 문자열을 분리합니다.\n",
    "s에서 분리한 문자열을 빼고 남은 부분에 대해서 이 과정을 반복합니다. 남은 부분이 없다면 종료합니다.\n",
    "만약 두 횟수가 다른 상태에서 더 이상 읽을 글자가 없다면, 역시 지금까지 읽은 문자열을 분리하고, 종료합니다.\n",
    "문자열 s가 매개변수로 주어질 때, 위 과정과 같이 문자열들로 분해하고, 분해한 문자열의 개수를 return 하는 함수 solution을 완성하세요."
   ]
  },
  {
   "cell_type": "code",
   "execution_count": 49,
   "metadata": {},
   "outputs": [
    {
     "data": {
      "text/plain": [
       "6"
      ]
     },
     "execution_count": 49,
     "metadata": {},
     "output_type": "execute_result"
    }
   ],
   "source": [
    "def solution(s):\n",
    "    count = 0\n",
    "    \n",
    "    firstword = ''\n",
    "    firstcount = 0\n",
    "    othercount = 0\n",
    "    \n",
    "    for i in s:\n",
    "        if firstword == '':\n",
    "            firstword = i\n",
    "            firstcount += 1\n",
    "            continue\n",
    "        \n",
    "        if firstword == i:\n",
    "            firstcount += 1\n",
    "        else:\n",
    "            othercount += 1\n",
    "            \n",
    "        if firstcount == othercount:\n",
    "            count +=1\n",
    "            firstword = ''\n",
    "            firstcount, othercount = 0, 0\n",
    "\n",
    "    if firstword != '':\n",
    "        count += 1\n",
    "\n",
    "    return count\n",
    "\n",
    "solution(\"abracadabra\")"
   ]
  },
  {
   "cell_type": "markdown",
   "metadata": {},
   "source": [
    "## 숫자 짝꿍\n",
    "두 정수 X, Y의 임의의 자리에서 공통으로 나타나는 정수 k(0 ≤ k ≤ 9)들을 이용하여 만들 수 있는 가장 큰 정수를 두 수의 짝꿍이라 합니다(단, 공통으로 나타나는 정수 중 서로 짝지을 수 있는 숫자만 사용합니다). X, Y의 짝꿍이 존재하지 않으면, 짝꿍은 -1입니다. X, Y의 짝꿍이 0으로만 구성되어 있다면, 짝꿍은 0입니다.\n",
    "\n",
    "예를 들어, X = 3403이고 Y = 13203이라면, X와 Y의 짝꿍은 X와 Y에서 공통으로 나타나는 3, 0, 3으로 만들 수 있는 가장 큰 정수인 330입니다. 다른 예시로 X = 5525이고 Y = 1255이면 X와 Y의 짝꿍은 X와 Y에서 공통으로 나타나는 2, 5, 5로 만들 수 있는 가장 큰 정수인 552입니다(X에는 5가 3개, Y에는 5가 2개 나타나므로 남는 5 한 개는 짝 지을 수 없습니다.)\n",
    "두 정수 X, Y가 주어졌을 때, X, Y의 짝꿍을 return하는 solution 함수를 완성해주세요."
   ]
  },
  {
   "cell_type": "code",
   "execution_count": 96,
   "metadata": {},
   "outputs": [
    {
     "data": {
      "text/plain": [
       "'211'"
      ]
     },
     "execution_count": 96,
     "metadata": {},
     "output_type": "execute_result"
    }
   ],
   "source": [
    "def solution(X, Y):\n",
    "    X = [i for i in X]\n",
    "    Y = [i for i in Y]\n",
    "    Z = list(set(X)&set(Y))\n",
    "    \n",
    "    if Z == []:\n",
    "        return '-1'\n",
    "    elif Z == ['0']:\n",
    "        return '0'\n",
    "    \n",
    "    #숫자가 몇번나왔는지 딕셔너리형태 , counter사용?\n",
    "    # 곂치는 숫자가 몇번 나왔는지 \n",
    "    # dictnum = { i: X.count(i) for i in Z}\n",
    "    \n",
    "    dictnum = { i: min(X.count(i), Y.count(i)) for i in Z}\n",
    "    listnum = [key for key, value in sorted(dictnum.items(), reverse=True) for _ in range(value)]\n",
    "    maxvalue = ''.join(listnum)\n",
    "    return maxvalue\n",
    "\n",
    "solution(\"1111112\", \"4222221531\")"
   ]
  },
  {
   "cell_type": "code",
   "execution_count": 125,
   "metadata": {},
   "outputs": [
    {
     "name": "stdout",
     "output_type": "stream",
     "text": [
      "['0', '0']\n"
     ]
    },
    {
     "data": {
      "text/plain": [
       "'0'"
      ]
     },
     "execution_count": 125,
     "metadata": {},
     "output_type": "execute_result"
    }
   ],
   "source": [
    "## Counter사용하여 작성\n",
    "\n",
    "from collections import Counter\n",
    "\n",
    "def solution(X, Y):\n",
    "    X, Y = Counter(X), Counter(Y)\n",
    "    Z = sorted((X & Y).elements(), reverse=True)\n",
    "    common_set = list(set(X) & set(Y))\n",
    "\n",
    "    if common_set == []:\n",
    "        return '-1'\n",
    "    elif common_set == ['0']:\n",
    "        return '0'\n",
    "    \n",
    "    return ''.join(Z)\n",
    "    \n",
    "solution(\"100\", \"203045\")"
   ]
  }
 ],
 "metadata": {
  "kernelspec": {
   "display_name": "Python 3",
   "language": "python",
   "name": "python3"
  },
  "language_info": {
   "codemirror_mode": {
    "name": "ipython",
    "version": 3
   },
   "file_extension": ".py",
   "mimetype": "text/x-python",
   "name": "python",
   "nbconvert_exporter": "python",
   "pygments_lexer": "ipython3",
   "version": "3.12.0"
  }
 },
 "nbformat": 4,
 "nbformat_minor": 2
}
