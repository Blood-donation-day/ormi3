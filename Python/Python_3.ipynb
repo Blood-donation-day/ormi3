{
  "nbformat": 4,
  "nbformat_minor": 0,
  "metadata": {
    "colab": {
      "provenance": []
    },
    "kernelspec": {
      "name": "python3",
      "display_name": "Python 3"
    },
    "language_info": {
      "name": "python"
    }
  },
  "cells": [
    {
      "cell_type": "markdown",
      "source": [
        "##리스트"
      ],
      "metadata": {
        "id": "oYuTyz3H7FcW"
      }
    },
    {
      "cell_type": "code",
      "execution_count": null,
      "metadata": {
        "colab": {
          "base_uri": "https://localhost:8080/",
          "height": 35
        },
        "id": "7lQ-XfLV7BXV",
        "outputId": "6e95ecec-3a74-41d6-934f-092e6ab0085b"
      },
      "outputs": [
        {
          "output_type": "execute_result",
          "data": {
            "text/plain": [
              "'hello'"
            ],
            "application/vnd.google.colaboratory.intrinsic+json": {
              "type": "string"
            }
          },
          "metadata": {},
          "execution_count": 4
        }
      ],
      "source": [
        "#시퀸스형, 자료형\n",
        "\n",
        "a = 'hello world'\n",
        "a[0]  #'h'\n",
        "a[:5] #'hello'"
      ]
    },
    {
      "cell_type": "code",
      "source": [
        "range (10)[3]"
      ],
      "metadata": {
        "colab": {
          "base_uri": "https://localhost:8080/"
        },
        "id": "CfyX6DSJ7h-b",
        "outputId": "155abb4c-d3cd-47ae-c768-aa1b59f72643"
      },
      "execution_count": null,
      "outputs": [
        {
          "output_type": "execute_result",
          "data": {
            "text/plain": [
              "1"
            ]
          },
          "metadata": {},
          "execution_count": 11
        }
      ]
    },
    {
      "cell_type": "code",
      "source": [
        "a = range(100, 1000, 10)  #100부터 1000까지 10단위로\n",
        "a[3] #130"
      ],
      "metadata": {
        "colab": {
          "base_uri": "https://localhost:8080/"
        },
        "id": "ad-8klhs7r0K",
        "outputId": "20ec1a0b-6f8c-43e6-f29e-123a6ca991c3"
      },
      "execution_count": null,
      "outputs": [
        {
          "output_type": "execute_result",
          "data": {
            "text/plain": [
              "130"
            ]
          },
          "metadata": {},
          "execution_count": 20
        }
      ]
    },
    {
      "cell_type": "code",
      "source": [
        "a = 1,2,3,4,5\n",
        "print(a)\n",
        "type(a) #tuple"
      ],
      "metadata": {
        "colab": {
          "base_uri": "https://localhost:8080/"
        },
        "id": "FAC9OdF-8D5N",
        "outputId": "fe369000-278a-464e-f009-81241246ecc9"
      },
      "execution_count": null,
      "outputs": [
        {
          "output_type": "stream",
          "name": "stdout",
          "text": [
            "(1, 2, 3, 4, 5)\n"
          ]
        },
        {
          "output_type": "execute_result",
          "data": {
            "text/plain": [
              "tuple"
            ]
          },
          "metadata": {},
          "execution_count": 27
        }
      ]
    },
    {
      "cell_type": "code",
      "source": [
        "list(range(10, 20, 2))"
      ],
      "metadata": {
        "colab": {
          "base_uri": "https://localhost:8080/"
        },
        "id": "jvtNbLJJ8cJv",
        "outputId": "6358d3b4-f5a9-4a87-b642-9a534443933f"
      },
      "execution_count": null,
      "outputs": [
        {
          "output_type": "execute_result",
          "data": {
            "text/plain": [
              "[10, 12, 14, 16, 18]"
            ]
          },
          "metadata": {},
          "execution_count": 28
        }
      ]
    },
    {
      "cell_type": "code",
      "source": [
        "a, b, c, d, e = range(10, 20, 2)\n",
        "e"
      ],
      "metadata": {
        "colab": {
          "base_uri": "https://localhost:8080/"
        },
        "id": "qXYiBSfw8hXz",
        "outputId": "2ce2cd62-4246-4567-df66-98efafac7351"
      },
      "execution_count": null,
      "outputs": [
        {
          "output_type": "execute_result",
          "data": {
            "text/plain": [
              "18"
            ]
          },
          "metadata": {},
          "execution_count": 32
        }
      ]
    },
    {
      "cell_type": "code",
      "source": [
        "a, b, c, d, e, f ='hello'  #error\n",
        "d"
      ],
      "metadata": {
        "colab": {
          "base_uri": "https://localhost:8080/",
          "height": 199
        },
        "id": "ckzh0OR_8tcA",
        "outputId": "e38e21b7-ecb5-47fc-ed29-fbd7f587725d"
      },
      "execution_count": null,
      "outputs": [
        {
          "output_type": "error",
          "ename": "ValueError",
          "evalue": "ignored",
          "traceback": [
            "\u001b[0;31m---------------------------------------------------------------------------\u001b[0m",
            "\u001b[0;31mValueError\u001b[0m                                Traceback (most recent call last)",
            "\u001b[0;32m<ipython-input-35-11c0f413a607>\u001b[0m in \u001b[0;36m<cell line: 1>\u001b[0;34m()\u001b[0m\n\u001b[0;32m----> 1\u001b[0;31m \u001b[0ma\u001b[0m\u001b[0;34m,\u001b[0m \u001b[0mb\u001b[0m\u001b[0;34m,\u001b[0m \u001b[0mc\u001b[0m\u001b[0;34m,\u001b[0m \u001b[0md\u001b[0m\u001b[0;34m,\u001b[0m \u001b[0me\u001b[0m\u001b[0;34m,\u001b[0m \u001b[0mf\u001b[0m \u001b[0;34m=\u001b[0m\u001b[0;34m'hello'\u001b[0m\u001b[0;34m\u001b[0m\u001b[0;34m\u001b[0m\u001b[0m\n\u001b[0m\u001b[1;32m      2\u001b[0m \u001b[0md\u001b[0m\u001b[0;34m\u001b[0m\u001b[0;34m\u001b[0m\u001b[0m\n",
            "\u001b[0;31mValueError\u001b[0m: not enough values to unpack (expected 6, got 5)"
          ]
        }
      ]
    },
    {
      "cell_type": "code",
      "source": [
        "for i , j in [[10, 20], [30, 40]]:\n",
        "    print(i, j)"
      ],
      "metadata": {
        "colab": {
          "base_uri": "https://localhost:8080/"
        },
        "id": "utGPYsqS88sQ",
        "outputId": "f94bb1cc-6b34-4cc0-92bf-b46ff17ce779"
      },
      "execution_count": null,
      "outputs": [
        {
          "output_type": "stream",
          "name": "stdout",
          "text": [
            "10 20\n",
            "30 40\n"
          ]
        }
      ]
    },
    {
      "cell_type": "code",
      "source": [
        "range(100)[::5]\n",
        "list(range(100)[::5])"
      ],
      "metadata": {
        "colab": {
          "base_uri": "https://localhost:8080/"
        },
        "id": "8g-pTc-Y9SNA",
        "outputId": "504a40ba-c7db-4bfe-a401-ed6b033c7b4c"
      },
      "execution_count": null,
      "outputs": [
        {
          "output_type": "execute_result",
          "data": {
            "text/plain": [
              "[0, 5, 10, 15, 20, 25, 30, 35, 40, 45, 50, 55, 60, 65, 70, 75, 80, 85, 90, 95]"
            ]
          },
          "metadata": {},
          "execution_count": 42
        }
      ]
    },
    {
      "cell_type": "code",
      "source": [
        "range(10)[3:]"
      ],
      "metadata": {
        "colab": {
          "base_uri": "https://localhost:8080/"
        },
        "id": "m4OaFvEs9flz",
        "outputId": "50bdda45-1e03-47fb-9c06-5fce2da1d7ac"
      },
      "execution_count": null,
      "outputs": [
        {
          "output_type": "execute_result",
          "data": {
            "text/plain": [
              "range(3, 10)"
            ]
          },
          "metadata": {},
          "execution_count": 43
        }
      ]
    },
    {
      "cell_type": "code",
      "source": [
        "enumerate([0,1,2,3,4,5,6,7,8,9], 100)  #리스트, ?"
      ],
      "metadata": {
        "colab": {
          "base_uri": "https://localhost:8080/"
        },
        "id": "KeDx9fsW9mN2",
        "outputId": "1c8ff7bc-7940-4603-c544-cd6a178db9a2"
      },
      "execution_count": null,
      "outputs": [
        {
          "output_type": "execute_result",
          "data": {
            "text/plain": [
              "<enumerate at 0x79411aecd7c0>"
            ]
          },
          "metadata": {},
          "execution_count": 52
        }
      ]
    },
    {
      "cell_type": "code",
      "source": [
        "enumerate([0,1,2,3,4,5,6,7,8,9], 100)[2]"
      ],
      "metadata": {
        "id": "7j6Ya-yu9wOG"
      },
      "execution_count": null,
      "outputs": []
    },
    {
      "cell_type": "code",
      "source": [
        "enumerate([0,1,2,3,4,5,6,7,8,9], 100)[2:]"
      ],
      "metadata": {
        "colab": {
          "base_uri": "https://localhost:8080/",
          "height": 181
        },
        "id": "CPIqOnKG9zyt",
        "outputId": "3921a873-08f5-4c67-b7ef-efb3dfb11b56"
      },
      "execution_count": null,
      "outputs": [
        {
          "output_type": "error",
          "ename": "TypeError",
          "evalue": "ignored",
          "traceback": [
            "\u001b[0;31m---------------------------------------------------------------------------\u001b[0m",
            "\u001b[0;31mTypeError\u001b[0m                                 Traceback (most recent call last)",
            "\u001b[0;32m<ipython-input-47-6e884efeb4d6>\u001b[0m in \u001b[0;36m<cell line: 1>\u001b[0;34m()\u001b[0m\n\u001b[0;32m----> 1\u001b[0;31m \u001b[0menumerate\u001b[0m\u001b[0;34m(\u001b[0m\u001b[0;34m[\u001b[0m\u001b[0;36m0\u001b[0m\u001b[0;34m,\u001b[0m\u001b[0;36m1\u001b[0m\u001b[0;34m,\u001b[0m\u001b[0;36m2\u001b[0m\u001b[0;34m,\u001b[0m\u001b[0;36m3\u001b[0m\u001b[0;34m,\u001b[0m\u001b[0;36m4\u001b[0m\u001b[0;34m,\u001b[0m\u001b[0;36m5\u001b[0m\u001b[0;34m,\u001b[0m\u001b[0;36m6\u001b[0m\u001b[0;34m,\u001b[0m\u001b[0;36m7\u001b[0m\u001b[0;34m,\u001b[0m\u001b[0;36m8\u001b[0m\u001b[0;34m,\u001b[0m\u001b[0;36m9\u001b[0m\u001b[0;34m]\u001b[0m\u001b[0;34m,\u001b[0m \u001b[0;36m100\u001b[0m\u001b[0;34m)\u001b[0m\u001b[0;34m[\u001b[0m\u001b[0;36m2\u001b[0m\u001b[0;34m:\u001b[0m\u001b[0;34m]\u001b[0m\u001b[0;34m\u001b[0m\u001b[0;34m\u001b[0m\u001b[0m\n\u001b[0m",
            "\u001b[0;31mTypeError\u001b[0m: 'enumerate' object is not subscriptable"
          ]
        }
      ]
    },
    {
      "cell_type": "code",
      "source": [
        "b'world'"
      ],
      "metadata": {
        "colab": {
          "base_uri": "https://localhost:8080/"
        },
        "id": "Txu6ZsUk97DC",
        "outputId": "2d742fb5-91f0-41cb-b3ad-ef0302e02760"
      },
      "execution_count": null,
      "outputs": [
        {
          "output_type": "execute_result",
          "data": {
            "text/plain": [
              "b'world'"
            ]
          },
          "metadata": {},
          "execution_count": 54
        }
      ]
    },
    {
      "cell_type": "code",
      "source": [
        "# b''    바이트\n",
        "# f''    f-string 용법\n",
        "# r''    raw값 출력\n",
        "\n",
        "\n",
        "b = b'world' #유니코드표X, 아스키코드표에서 찾습니다!\n",
        "b[0]\n"
      ],
      "metadata": {
        "colab": {
          "base_uri": "https://localhost:8080/"
        },
        "id": "JdFik4JIBGHQ",
        "outputId": "758e1090-dcc1-4aa5-cbe5-74fbb8cbb2d8"
      },
      "execution_count": null,
      "outputs": [
        {
          "output_type": "execute_result",
          "data": {
            "text/plain": [
              "119"
            ]
          },
          "metadata": {},
          "execution_count": 58
        }
      ]
    },
    {
      "cell_type": "code",
      "source": [
        "#덧셈과 곱셈\n",
        "a = [1, 2, 3, 4, 5]\n",
        "b = [6, 7, 8]\n",
        "\n",
        "print(a + b) #[1, 2, 3, 4, 5, 6, 7, 8]\n",
        "\n",
        "print(a * 3) #[1, 2, 3, 4, 5, 1, 2, 3, 4, 5, 1, 2, 3, 4, 5]\n",
        "\n",
        "id(a[0]), id(a[3])"
      ],
      "metadata": {
        "colab": {
          "base_uri": "https://localhost:8080/"
        },
        "id": "ZzdUzYZRBfVo",
        "outputId": "3d23a88f-4b89-4592-fc29-c93d87503980"
      },
      "execution_count": null,
      "outputs": [
        {
          "output_type": "stream",
          "name": "stdout",
          "text": [
            "[1, 2, 3, 4, 5, 6, 7, 8]\n",
            "[1, 2, 3, 4, 5, 1, 2, 3, 4, 5, 1, 2, 3, 4, 5]\n"
          ]
        },
        {
          "output_type": "execute_result",
          "data": {
            "text/plain": [
              "(133321801842928, 133321801843024)"
            ]
          },
          "metadata": {},
          "execution_count": 61
        }
      ]
    },
    {
      "cell_type": "code",
      "source": [
        "a = [1, 2, 3]\n",
        "a = [a * 2] #리스트 컴프리헨션 사용하어셔 만드는 것을 권합니다.\n",
        "#즉 a = [a, a] 상태\n",
        "\n",
        "#리스트 컴프리헨션을 사용했기 때문에 [a, a]에서 a의 0번째 인덱스를 수정해야함\n",
        "a[0][0] = 10000\n",
        "a"
      ],
      "metadata": {
        "colab": {
          "base_uri": "https://localhost:8080/"
        },
        "id": "pOGZHvkoCImB",
        "outputId": "67f96650-d470-42af-e8fd-468ddc570ccc"
      },
      "execution_count": null,
      "outputs": [
        {
          "output_type": "execute_result",
          "data": {
            "text/plain": [
              "[[10000, 2, 3, 1, 2, 3]]"
            ]
          },
          "metadata": {},
          "execution_count": 70
        }
      ]
    },
    {
      "cell_type": "code",
      "source": [
        "l = [1, 2, 3, 4, 5]\n",
        "print(l[0])\n",
        "print(l[3])\n",
        "print(l[-1])\n",
        "print(l[-3])"
      ],
      "metadata": {
        "colab": {
          "base_uri": "https://localhost:8080/"
        },
        "id": "7rJ_j77YDkwN",
        "outputId": "ce53ddad-1bc9-4d9c-b89e-204f4e37d9b7"
      },
      "execution_count": null,
      "outputs": [
        {
          "output_type": "stream",
          "name": "stdout",
          "text": [
            "1\n",
            "4\n",
            "5\n",
            "3\n"
          ]
        }
      ]
    },
    {
      "cell_type": "code",
      "source": [
        "import numpy as np\n",
        "\n",
        "l = [1, 2, 3]\n",
        "l = np.array(l)   #NumPy배열로 반환\n",
        "l * 3 #array([3, 6, 9])\n",
        "l + l #array([2, 4, 6])"
      ],
      "metadata": {
        "colab": {
          "base_uri": "https://localhost:8080/"
        },
        "id": "-e0nAY9RD5Ib",
        "outputId": "08756aa8-3cd3-4edf-8a4b-fd737b0debe0"
      },
      "execution_count": null,
      "outputs": [
        {
          "output_type": "execute_result",
          "data": {
            "text/plain": [
              "array([2, 4, 6])"
            ]
          },
          "metadata": {},
          "execution_count": 79
        }
      ]
    },
    {
      "cell_type": "code",
      "source": [
        "# 연습문제: 이 데이터에서 licat을 출력해주세요. 단, 직접 접근은 안됩니다.\n",
        "# data[1]로 접근하는 것은 안됩니다.\n",
        "\n",
        "\n",
        "data = [['weniv CTO binky', 2], ['weniv CEO licat', 1], ['weniv COO mura', 2]]\n",
        "\n",
        "f = sorted(data, key = lambda x:x[1])[0][0]  #str 'weniv CEO licat'\n",
        "\n",
        "first = f.find('licat')\n",
        "print(type(first))\n",
        "print(f[first:])"
      ],
      "metadata": {
        "colab": {
          "base_uri": "https://localhost:8080/"
        },
        "id": "s0uqzFLzEui9",
        "outputId": "592624c8-0a14-4b57-fead-7a511f56f264"
      },
      "execution_count": null,
      "outputs": [
        {
          "output_type": "stream",
          "name": "stdout",
          "text": [
            "<class 'int'>\n",
            "licat\n"
          ]
        }
      ]
    },
    {
      "cell_type": "code",
      "source": [
        "data = [['weniv CTO binky', 2], ['weniv CEO licat', 1], ['weniv COO mura', 2]]\n",
        "\n",
        "f = sorted(data, key = lambda x:x[1])[0][0]  #우선순위가 두번째 인덱스로 정렬됨 >> str 'weniv CEO licat'\n",
        "\n",
        "f[f.find('licat'):]  #l의 인덱스를 찾아서 그 이후의 문자열 추출 내가 처음에 한걸 한줄로 요약했네."
      ],
      "metadata": {
        "colab": {
          "base_uri": "https://localhost:8080/",
          "height": 35
        },
        "id": "h2vfUBR5Jkt-",
        "outputId": "e5e2370a-03c6-4c01-fdcc-7b7862a30281"
      },
      "execution_count": null,
      "outputs": [
        {
          "output_type": "execute_result",
          "data": {
            "text/plain": [
              "'licat'"
            ],
            "application/vnd.google.colaboratory.intrinsic+json": {
              "type": "string"
            }
          },
          "metadata": {},
          "execution_count": 136
        }
      ]
    },
    {
      "cell_type": "code",
      "source": [
        "s = str(data)\n",
        "#list에서 find사용불가, str로 변경\n",
        "print(s[s.find('l'):s.find('t') +1]) #l 인덱스 ~ t인덱스 +1까지\n",
        "\n",
        "asd = str(list(data))\n",
        "print(asd[asd.find('licat'):asd.find('licat') + 5]) #l을 기준으로 5칸"
      ],
      "metadata": {
        "colab": {
          "base_uri": "https://localhost:8080/"
        },
        "id": "hu7EiQdAKLGC",
        "outputId": "d0220be1-2c1c-49b8-8343-e927a73cf0d0"
      },
      "execution_count": null,
      "outputs": [
        {
          "output_type": "stream",
          "name": "stdout",
          "text": [
            "licat\n",
            "licat\n"
          ]
        }
      ]
    },
    {
      "cell_type": "code",
      "source": [
        "# 문제1: 다음 함수 is_palindrome를 완성하시오.\n",
        "# 이 함수는 하나의 문자열을 인자로 받아, 해당 문자열이 팰린드롬(앞으로 읽으나 뒤로 읽으나 같은 단어나 구)이면\n",
        "# True를, 아니면 False를 반환해야 합니다.\n",
        "\n",
        "def 로꾸꺼(anyword):\n",
        "    if anyword == anyword[::-1]:\n",
        "        return True\n",
        "    else:\n",
        "        return False\n",
        "\n",
        "def reverse(word):\n",
        "    if list(word) == list(reversed(word)):\n",
        "        return True\n",
        "    return False\n",
        "\n",
        "def is_palindrome(a):\n",
        "    if len(a) < 2:\n",
        "        return True\n",
        "    if a[0] != a[-1]:\n",
        "        return False\n",
        "    return is_palindrome(a[1:-1])\n",
        "\n",
        "print(로꾸꺼('e'))\n",
        "print(로꾸꺼('leasdvel'))\n",
        "print(reverse('토마토'))\n",
        "print(reverse('가짜토마토'))\n",
        "print(is_palindrome('level'))\n",
        "print(is_palindrome('45asd4'))"
      ],
      "metadata": {
        "colab": {
          "base_uri": "https://localhost:8080/"
        },
        "id": "xVeOIIchOCdB",
        "outputId": "8794cd7f-aeae-4d03-a166-0f5d7d9b1b0c"
      },
      "execution_count": null,
      "outputs": [
        {
          "output_type": "stream",
          "name": "stdout",
          "text": [
            "True\n",
            "False\n",
            "True\n",
            "False\n",
            "True\n",
            "False\n"
          ]
        }
      ]
    },
    {
      "cell_type": "code",
      "source": [
        "# 문제2: 리스트 numbers가 주어졌을 때,\n",
        "# 이 리스트 내의 모든 짝수를 제거하는 코드를 작성하시오.\n",
        "numbers = [2, 3, 4, 5, 6, 7, 8, 9, 10]\n",
        "\n",
        "\n",
        "a = list(filter(lambda x: x % 2 == 1, numbers ))\n",
        "a"
      ],
      "metadata": {
        "colab": {
          "base_uri": "https://localhost:8080/"
        },
        "id": "EFIyJqFoQTxR",
        "outputId": "9e7376dc-dc1c-49fa-fde9-b8858210e8f9"
      },
      "execution_count": null,
      "outputs": [
        {
          "output_type": "execute_result",
          "data": {
            "text/plain": [
              "[3, 5, 7, 9]"
            ]
          },
          "metadata": {},
          "execution_count": 203
        }
      ]
    },
    {
      "cell_type": "markdown",
      "source": [
        "##리스트(이어서)"
      ],
      "metadata": {
        "id": "D1yCqrfVSPWt"
      }
    },
    {
      "cell_type": "code",
      "source": [
        "# sum(list(range(101)))과 슬라이싱을 사용해 아래 문제를 풀어주세요.\n",
        "\n",
        "# 문제 1: 짝수를 모두 더해주세요.\n",
        "sum(list(range(101)[::2]))\n",
        "# 문제 2: 3의 배수와 5의 배수를 모두 더해주세요.\n",
        "sum(list(range(101)[::3])) + sum(list(range(101)[::5])) - sum(list(range(101)[::15]))\n",
        "# (슬라이싱 2개 사용) 난이도가 있는 보너스 문제: 1부터 90까지의 짝수를 모두 더해주세요.\n",
        "sum(list(range(101))[0:91][::2])"
      ],
      "metadata": {
        "id": "zgRFUxNgSRLi"
      },
      "execution_count": null,
      "outputs": []
    },
    {
      "cell_type": "code",
      "source": [],
      "metadata": {
        "id": "axUsihrWStl7"
      },
      "execution_count": null,
      "outputs": []
    }
  ]
}