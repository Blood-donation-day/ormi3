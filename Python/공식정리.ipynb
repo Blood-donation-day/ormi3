{
 "cells": [
  {
   "cell_type": "code",
   "execution_count": null,
   "metadata": {},
   "outputs": [],
   "source": [
    "# 유클리드 호제법 (최대공약수 구하기)\n",
    "def gcd(a, b):\n",
    "    if a % b == 0:\n",
    "        return b\n",
    "    else:\n",
    "        return gcd(b, a%b)"
   ]
  },
  {
   "cell_type": "code",
   "execution_count": null,
   "metadata": {},
   "outputs": [],
   "source": [
    "#소인수 분해\n",
    "def factorization(x):\n",
    "    d = 2\n",
    "    output = []\n",
    "    \n",
    "    while d <= x:\n",
    "        if x % d == 0:\n",
    "            output.append(d)\n",
    "            x /= d\n",
    "        else:\n",
    "            d += 1\n",
    "            \n",
    "    return output"
   ]
  },
  {
   "cell_type": "code",
   "execution_count": null,
   "metadata": {},
   "outputs": [],
   "source": [
    "#팩토리얼\n",
    "def factorial(n):\n",
    "    return n * factorial(n-1) if n > 1 else 1"
   ]
  }
 ],
 "metadata": {
  "language_info": {
   "name": "python"
  }
 },
 "nbformat": 4,
 "nbformat_minor": 2
}
