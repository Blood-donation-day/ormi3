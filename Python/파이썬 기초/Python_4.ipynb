{
  "nbformat": 4,
  "nbformat_minor": 0,
  "metadata": {
    "colab": {
      "provenance": []
    },
    "kernelspec": {
      "name": "python3",
      "display_name": "Python 3"
    },
    "language_info": {
      "name": "python"
    }
  },
  "cells": [
    {
      "cell_type": "markdown",
      "source": [
        "##조건문"
      ],
      "metadata": {
        "id": "n9jDmFCUmZiA"
      }
    },
    {
      "cell_type": "code",
      "execution_count": null,
      "metadata": {
        "colab": {
          "base_uri": "https://localhost:8080/"
        },
        "id": "UypP2U15mRjT",
        "outputId": "9f5d5f3b-cae5-48c9-8ec8-bf82333bbcdb"
      },
      "outputs": [
        {
          "output_type": "stream",
          "name": "stdout",
          "text": [
            "hello 0\n",
            "hello 1\n",
            "hello 2\n",
            "hello 3\n",
            "hello 4\n",
            "hello 5\n",
            "hello 6\n",
            "hello 7\n",
            "hello 8\n",
            "hello 9\n",
            "hello 10\n"
          ]
        }
      ],
      "source": [
        "def wow():\n",
        "    iss = 0\n",
        "    while True:\n",
        "       yield iss\n",
        "       iss += 1\n",
        "\n",
        "\n",
        "for i in wow():\n",
        "    if i > 10:\n",
        "        break\n",
        "    print(f'hello {i}')\n",
        "    i += 1\n"
      ]
    },
    {
      "cell_type": "code",
      "source": [
        "if False:\n",
        "    print('hello')"
      ],
      "metadata": {
        "id": "9WK5o020pQ1b"
      },
      "execution_count": null,
      "outputs": []
    },
    {
      "cell_type": "code",
      "source": [
        "if (True): # 이렇게 괄호를 안해도 됩니다!\n",
        "    print('hello')"
      ],
      "metadata": {
        "colab": {
          "base_uri": "https://localhost:8080/"
        },
        "id": "af-3ZNyGpRmP",
        "outputId": "8c8dce45-1e9f-4d9f-9802-e0d78ca50e07"
      },
      "execution_count": null,
      "outputs": [
        {
          "output_type": "stream",
          "name": "stdout",
          "text": [
            "hello\n"
          ]
        }
      ]
    },
    {
      "cell_type": "code",
      "source": [
        "if 10 and 9: # True나 False가 아니라 단락평가에 의해 9\n",
        "    print('hello')"
      ],
      "metadata": {
        "colab": {
          "base_uri": "https://localhost:8080/"
        },
        "id": "DiWK81ULpTKw",
        "outputId": "b671b6eb-4deb-4f48-c851-f4ff8de909c2"
      },
      "execution_count": null,
      "outputs": [
        {
          "output_type": "stream",
          "name": "stdout",
          "text": [
            "hello\n"
          ]
        }
      ]
    },
    {
      "cell_type": "code",
      "source": [
        "''\n",
        "0\n",
        "[]\n",
        "{}\n",
        "()\n",
        "set()\n",
        "\n",
        "#########\n",
        "\n",
        "1\n",
        "-1\n",
        "' '\n",
        "[10, 20]"
      ],
      "metadata": {
        "colab": {
          "base_uri": "https://localhost:8080/"
        },
        "id": "xYtvOZMppUfi",
        "outputId": "cd99f177-d370-4c3c-ce09-47ea2c24654f"
      },
      "execution_count": null,
      "outputs": [
        {
          "output_type": "execute_result",
          "data": {
            "text/plain": [
              "[10, 20]"
            ]
          },
          "metadata": {},
          "execution_count": 36
        }
      ]
    },
    {
      "cell_type": "code",
      "source": [
        "x = 5\n",
        "y = 0\n",
        "result = 'x is greater' if x > y else 'y is greater or equal'\n",
        "result"
      ],
      "metadata": {
        "colab": {
          "base_uri": "https://localhost:8080/",
          "height": 35
        },
        "id": "c27w3JDerEnn",
        "outputId": "04495ef7-3d5e-4878-e1b3-720f120a7a57"
      },
      "execution_count": null,
      "outputs": [
        {
          "output_type": "execute_result",
          "data": {
            "text/plain": [
              "'x is greater'"
            ],
            "application/vnd.google.colaboratory.intrinsic+json": {
              "type": "string"
            }
          },
          "metadata": {},
          "execution_count": 43
        }
      ]
    },
    {
      "cell_type": "markdown",
      "source": [
        "##연습문제"
      ],
      "metadata": {
        "id": "1ZcIRvRcrqcO"
      }
    },
    {
      "cell_type": "code",
      "source": [
        "# 1. 주어진 리스트 `data = [{\"name\": \"길동\", \"수학\": 3, \"과학\": 93},\n",
        "#  {\"name\": \"춘향\", \"수학\": 33, \"과학\": 11},\n",
        "#  {\"name\": \"철수\", \"수학\": 94, \"과학\": 67}]`\n",
        "#에서 평균점수가 가장 높은 학생에 이름을 출력하세요.\n",
        "\n",
        "data = [{\"name\": \"길동\", \"수학\": 3, \"과학\": 93},\n",
        "{\"name\": \"춘향\", \"수학\": 33, \"과학\": 11},\n",
        "{\"name\": \"철수\", \"수학\": 94, \"과학\": 67}]\n",
        "\n",
        "max_entry = max(data, key = lambda x : x['수학'] + x['과학'])\n",
        "print(max_entry)\n",
        "print(max_entry['name'])"
      ],
      "metadata": {
        "colab": {
          "base_uri": "https://localhost:8080/"
        },
        "id": "ZlF4xjd4roZ3",
        "outputId": "a5552c3a-b291-4183-9d94-75a92111c0cd"
      },
      "execution_count": null,
      "outputs": [
        {
          "output_type": "stream",
          "name": "stdout",
          "text": [
            "{'name': '철수', '수학': 94, '과학': 67}\n",
            "철수\n"
          ]
        }
      ]
    },
    {
      "cell_type": "code",
      "source": [
        "# 2. 주어진 사전 `grades = {\"Tom\": 87, \"Jerry\": 95, \"Mickey\": 70}`\n",
        "#의 모든 값을 5점씩 증가시키고 결과를 출력하세요.\n",
        "\n",
        "grades = {'Tom' : 87, 'Jerry' : 95, 'Mickey' : 70}\n",
        "update = grades.items()\n",
        "update = {i: score +5 for i, score in update}\n",
        "update"
      ],
      "metadata": {
        "colab": {
          "base_uri": "https://localhost:8080/"
        },
        "id": "Bm9F5uN3vBaf",
        "outputId": "06a8d18d-2a05-4e60-9a66-ebbb19f717d6"
      },
      "execution_count": null,
      "outputs": [
        {
          "output_type": "execute_result",
          "data": {
            "text/plain": [
              "{'Tom': 92, 'Jerry': 100, 'Mickey': 75}"
            ]
          },
          "metadata": {},
          "execution_count": 67
        }
      ]
    },
    {
      "cell_type": "code",
      "source": [
        " #3. 주어진 문자열 `s = \"apple banana apple cherry banana cherry apple\"`에서\n",
        " #가장 자주 등장하는 단어를 출력하세요.\n",
        "from collections import Counter\n",
        "s = \"apple banana apple cherry banana cherry apple\"\n",
        "\n",
        "ss = s.split(' ')\n",
        "print(max(Counter(ss).items(), key = lambda x : x[1]))\n",
        "\n",
        "Counter(ss).most_common(1)\n"
      ],
      "metadata": {
        "colab": {
          "base_uri": "https://localhost:8080/"
        },
        "id": "yiA7NN4IwMlH",
        "outputId": "c410a43f-255f-409b-95bd-4032cfae50ca"
      },
      "execution_count": null,
      "outputs": [
        {
          "output_type": "stream",
          "name": "stdout",
          "text": [
            "('apple', 3)\n"
          ]
        },
        {
          "output_type": "execute_result",
          "data": {
            "text/plain": [
              "[('apple', 3)]"
            ]
          },
          "metadata": {},
          "execution_count": 1
        }
      ]
    },
    {
      "cell_type": "code",
      "source": [
        "s = 'apple banana apple cherry banana cherry apple'\n",
        "words = s.split(' ')\n",
        "most_frequent_word = max(set(words), key = words.count)\n",
        "most_frequent_word"
      ],
      "metadata": {
        "colab": {
          "base_uri": "https://localhost:8080/",
          "height": 35
        },
        "id": "tIRwRCdEKPug",
        "outputId": "6a57ef01-3cbe-456b-9281-d96524020db9"
      },
      "execution_count": null,
      "outputs": [
        {
          "output_type": "execute_result",
          "data": {
            "text/plain": [
              "'apple'"
            ],
            "application/vnd.google.colaboratory.intrinsic+json": {
              "type": "string"
            }
          },
          "metadata": {},
          "execution_count": 4
        }
      ]
    },
    {
      "cell_type": "code",
      "source": [
        "[i if i % 2 ==0 else None for i in range(10)]"
      ],
      "metadata": {
        "colab": {
          "base_uri": "https://localhost:8080/"
        },
        "id": "vn-CNs-HzsF0",
        "outputId": "afd90f51-0128-4717-c317-5afb96d39b45"
      },
      "execution_count": null,
      "outputs": [
        {
          "output_type": "execute_result",
          "data": {
            "text/plain": [
              "[0, None, 2, None, 4, None, 6, None, 8, None]"
            ]
          },
          "metadata": {},
          "execution_count": 113
        }
      ]
    },
    {
      "cell_type": "code",
      "source": [
        "[i for i in range(10) if i % 2 == 0]"
      ],
      "metadata": {
        "colab": {
          "base_uri": "https://localhost:8080/"
        },
        "id": "MwVMaSmH0a4H",
        "outputId": "200492d9-ff2a-4beb-ce74-4a4e6e97e2e0"
      },
      "execution_count": null,
      "outputs": [
        {
          "output_type": "execute_result",
          "data": {
            "text/plain": [
              "[0, 2, 4, 6, 8]"
            ]
          },
          "metadata": {},
          "execution_count": 112
        }
      ]
    },
    {
      "cell_type": "code",
      "source": [
        "def f():\n",
        "    return True\n",
        "\n",
        "if f():\n",
        "    print('hello')"
      ],
      "metadata": {
        "colab": {
          "base_uri": "https://localhost:8080/"
        },
        "id": "hCHiN9zj0cAv",
        "outputId": "d822a8ff-69c4-460a-c6b8-ce7949c70799"
      },
      "execution_count": null,
      "outputs": [
        {
          "output_type": "stream",
          "name": "stdout",
          "text": [
            "hello\n"
          ]
        }
      ]
    },
    {
      "cell_type": "code",
      "source": [
        "def f():\n",
        "    return True\n",
        "\n",
        "def ff():\n",
        "    return 'hello'\n",
        "\n",
        "if f() and ff():\n",
        "    print('hello')"
      ],
      "metadata": {
        "colab": {
          "base_uri": "https://localhost:8080/"
        },
        "id": "3FG207Ih0kLS",
        "outputId": "68ef1807-1c7b-4ee4-8c10-be556b529dca"
      },
      "execution_count": null,
      "outputs": [
        {
          "output_type": "stream",
          "name": "stdout",
          "text": [
            "hello\n"
          ]
        }
      ]
    },
    {
      "cell_type": "code",
      "source": [
        "# 성능에 영향을 끼칩니다!\n",
        "def f():\n",
        "    return True\n",
        "\n",
        "def ff():\n",
        "    x = 100 / 0 # error\n",
        "    return 'hello'\n",
        "\n",
        "if f() or ff():\n",
        "    print('hello')"
      ],
      "metadata": {
        "colab": {
          "base_uri": "https://localhost:8080/"
        },
        "id": "iKX020_G0mm2",
        "outputId": "67c7f721-b94a-416a-89b7-eb226adf92c8"
      },
      "execution_count": null,
      "outputs": [
        {
          "output_type": "stream",
          "name": "stdout",
          "text": [
            "hello\n"
          ]
        }
      ]
    },
    {
      "cell_type": "code",
      "source": [
        "#error가 나는 코드\n",
        "def f():\n",
        "    return True\n",
        "\n",
        "def ff():\n",
        "    x = 100 / 0 # error\n",
        "    return 'hello'\n",
        "\n",
        "if ff() or f():\n",
        "    print('hello')"
      ],
      "metadata": {
        "id": "0gz7IJLE0tlA"
      },
      "execution_count": null,
      "outputs": []
    },
    {
      "cell_type": "code",
      "source": [
        "my_funtion = lambda x : '짝수' if x % 2 == 0 else '홀수'\n",
        "my_funtion(9)"
      ],
      "metadata": {
        "colab": {
          "base_uri": "https://localhost:8080/",
          "height": 35
        },
        "id": "1qw3A_sd1DHW",
        "outputId": "ee5807eb-e701-4622-94fe-6efe65725258"
      },
      "execution_count": null,
      "outputs": [
        {
          "output_type": "execute_result",
          "data": {
            "text/plain": [
              "'홀수'"
            ],
            "application/vnd.google.colaboratory.intrinsic+json": {
              "type": "string"
            }
          },
          "metadata": {},
          "execution_count": 128
        }
      ]
    },
    {
      "cell_type": "code",
      "source": [
        "x = -1\n",
        "assert x > 0, '0보다 크지 않잔아!' #조건이 참이 아니면 나오는 오류 메세지"
      ],
      "metadata": {
        "colab": {
          "base_uri": "https://localhost:8080/",
          "height": 199
        },
        "id": "clWpspSR1Xam",
        "outputId": "9aa563d1-604e-4ea4-b109-2f05a9e5b683"
      },
      "execution_count": null,
      "outputs": [
        {
          "output_type": "error",
          "ename": "AssertionError",
          "evalue": "ignored",
          "traceback": [
            "\u001b[0;31m---------------------------------------------------------------------------\u001b[0m",
            "\u001b[0;31mAssertionError\u001b[0m                            Traceback (most recent call last)",
            "\u001b[0;32m<ipython-input-130-80bd9f788780>\u001b[0m in \u001b[0;36m<cell line: 2>\u001b[0;34m()\u001b[0m\n\u001b[1;32m      1\u001b[0m \u001b[0mx\u001b[0m \u001b[0;34m=\u001b[0m \u001b[0;34m-\u001b[0m\u001b[0;36m1\u001b[0m\u001b[0;34m\u001b[0m\u001b[0;34m\u001b[0m\u001b[0m\n\u001b[0;32m----> 2\u001b[0;31m \u001b[0;32massert\u001b[0m \u001b[0mx\u001b[0m \u001b[0;34m>\u001b[0m \u001b[0;36m0\u001b[0m\u001b[0;34m,\u001b[0m \u001b[0;34m'0보다 크지 않잔아!'\u001b[0m\u001b[0;34m\u001b[0m\u001b[0;34m\u001b[0m\u001b[0m\n\u001b[0m",
            "\u001b[0;31mAssertionError\u001b[0m: 0보다 크지 않잔아!"
          ]
        }
      ]
    },
    {
      "cell_type": "code",
      "source": [
        "x = 10\n",
        "assert x > 0, '양수여야 한다!'\n",
        "#맞으면 그냥 통과"
      ],
      "metadata": {
        "id": "lXgH9DOo1lkc"
      },
      "execution_count": null,
      "outputs": []
    },
    {
      "cell_type": "code",
      "source": [
        "score = 59\n",
        "money = 0\n",
        "\n",
        "if score >= 90:\n",
        "    print('90점을 넘기다니 미쳤군.,')\n",
        "    money += 900000\n",
        "elif score >= 80:\n",
        "    print('80점을 넘기다니')\n",
        "    money += 80000\n",
        "elif score >= 70:\n",
        "    print('70점을 넘겼구나')\n",
        "    money += 7000\n",
        "elif score >= 60:\n",
        "    print('60점은 넘었구나,...')\n",
        "    money += 600\n",
        "else:\n",
        "     print('넌 나가라!')\n",
        "     money -= 9999999\n",
        "print(money)"
      ],
      "metadata": {
        "colab": {
          "base_uri": "https://localhost:8080/"
        },
        "id": "ItG6Z7fQ1qnu",
        "outputId": "5042d319-2a72-4037-98a6-18a76f2bd7dd"
      },
      "execution_count": null,
      "outputs": [
        {
          "output_type": "stream",
          "name": "stdout",
          "text": [
            "넌 나가라!\n",
            "-9999999\n"
          ]
        }
      ]
    },
    {
      "cell_type": "code",
      "source": [
        "score = 81\n",
        "money = 0\n",
        "\n",
        "if score >= 90:\n",
        "    print('mom : i\\'m so happy!')\n",
        "    money += 1000000\n",
        "if 90 > score >= 80:\n",
        "    print('mom : i\\'m happy!')\n",
        "    money += 100000\n",
        "if 80 > score >= 70:\n",
        "    print('mom : i\\'m so...!')\n",
        "    money += 10000\n",
        "if 70 > score >= 60:\n",
        "    print('mom : i\\'m so...!')\n",
        "    money += 1000\n",
        "else:\n",
        "    print('mom : i\\'m...!')\n",
        "print(money)"
      ],
      "metadata": {
        "colab": {
          "base_uri": "https://localhost:8080/"
        },
        "id": "uZeQD5Q03XDJ",
        "outputId": "14d8340f-3329-4c78-915a-6a927eb6dc39"
      },
      "execution_count": null,
      "outputs": [
        {
          "output_type": "stream",
          "name": "stdout",
          "text": [
            "mom : i'm happy!\n",
            "mom : i'm...!\n",
            "100000\n"
          ]
        }
      ]
    },
    {
      "cell_type": "code",
      "source": [
        "# 위와 같이 하더라도 실행이 같지 않고\n",
        "# 또 성능도 안좋습니다!!\n",
        "# 성능이 왜 안좋나요?\n",
        "# if 뒤를 다 검사해야 하기 때문에 그렇습니다.\n",
        "# 적절하게 묶는 것은 매우 중요한 포인트입니다"
      ],
      "metadata": {
        "id": "HpBXu9an3V0Y"
      },
      "execution_count": null,
      "outputs": []
    },
    {
      "cell_type": "code",
      "source": [
        "#if를 중첩해서 사용하기\n",
        "\n",
        "movie = {\n",
        "    '영화' : '무빙',\n",
        "    '장르' : 'SF',\n",
        "    '서비스' : '디즈니',\n",
        "    '비용' : 15000,\n",
        "    '평점' : 4.9\n",
        "}\n",
        "\n",
        "\n",
        "if movie['장르'] == 'SF':\n",
        "    if movie['서비스'] == '디즈니':\n",
        "        if movie['비용'] <= 20000:\n",
        "            if movie['평점'] >= 4.5:\n",
        "                print('영화시청')"
      ],
      "metadata": {
        "id": "3CAT58Vu3bu6",
        "colab": {
          "base_uri": "https://localhost:8080/"
        },
        "outputId": "4508c5db-add7-456d-e0e3-e0b2e523b595"
      },
      "execution_count": null,
      "outputs": [
        {
          "output_type": "stream",
          "name": "stdout",
          "text": [
            "영화시청\n"
          ]
        }
      ]
    },
    {
      "cell_type": "code",
      "source": [
        "#조금 더 다듬어 보기\n",
        "\n",
        "if movie['장르'] == 'SF' and (movie['서비스'] == '디즈니' or movie[서비스] == '넷플릭스') and movie['평점'] >= 4.5 and movie['비용'] <= 20000:\n",
        "    print('영화시청')\n",
        "\n",
        "#다듬어 진게 맞을까??"
      ],
      "metadata": {
        "colab": {
          "base_uri": "https://localhost:8080/"
        },
        "id": "S0sHoLs9L4hv",
        "outputId": "9005ecf6-1d41-4bc9-fcac-f571f4846772"
      },
      "execution_count": null,
      "outputs": [
        {
          "output_type": "stream",
          "name": "stdout",
          "text": [
            "영화시청\n"
          ]
        }
      ]
    },
    {
      "cell_type": "code",
      "source": [
        "#지금 이 코드에서는 동일하게 작동하겠지만\n",
        "#이렇게 if를 중첩문으로 했을 때 문제가 발생합니다.\n",
        "\n",
        "movie = {\n",
        "    '영화' : '무빙',\n",
        "    '장르' : 'SF',\n",
        "    '서비스' : '넷플릭스',\n",
        "    '비용' : 15000,\n",
        "    '평점' : 4.1 #변경\n",
        "}\n",
        "\n",
        "\n",
        "if movie['장르'] == 'SF':\n",
        "    if movie['평점'] >= 4.5:\n",
        "        if movie['비용'] <= 20000:\n",
        "            if movie['서비스'] == '디즈니' or '넷플릭스':\n",
        "                print('영화시청')\n",
        "\n",
        "\n",
        "def 구독중인ott():\n",
        "    #사용자에게 문자 알림을 준다던지 하는 엑션을 추가해여 한다?  위와같으면 매우 어려움\n",
        "        return movie['서비스'] == '디즈니' or '넷플릭스'"
      ],
      "metadata": {
        "colab": {
          "base_uri": "https://localhost:8080/"
        },
        "id": "qb7JJjOUM0ug",
        "outputId": "d0b47ccc-c41c-4ee2-a3a4-b574b2e28155"
      },
      "execution_count": null,
      "outputs": [
        {
          "output_type": "stream",
          "name": "stdout",
          "text": [
            "영화시청\n"
          ]
        }
      ]
    },
    {
      "cell_type": "code",
      "source": [
        "# if를 중첩해서 사용하기\n",
        "# 이정도가 깔끔하게 다듬어진 것입니다.\n",
        "movie = {\n",
        "    '영화': '무빙',\n",
        "    '장르': 'SF',\n",
        "    '서비스': '디즈니',\n",
        "    '비용': 15000,\n",
        "    '평점': 4.9\n",
        "}\n",
        "\n",
        "if movie['장르'] == 'SF':\n",
        "    if movie['서비스'] == '디즈니' or movie['서비스'] == '넷플릭스':\n",
        "        if movie['평점'] >= 4.5 and movie['비용'] <= 20000:\n",
        "            print('영화시청')"
      ],
      "metadata": {
        "colab": {
          "base_uri": "https://localhost:8080/"
        },
        "id": "vUaAT2CWNG5d",
        "outputId": "77a723af-5610-4acb-9d6e-efc1dc7e9439"
      },
      "execution_count": null,
      "outputs": [
        {
          "output_type": "stream",
          "name": "stdout",
          "text": [
            "영화시청\n"
          ]
        }
      ]
    },
    {
      "cell_type": "code",
      "source": [
        "# if를 중첩해서 사용하기\n",
        "# 이정도가 깔끔하게 다듬어진 것입니다.\n",
        "movie = {\n",
        "    '영화': '무빙',\n",
        "    '장르': 'SF',\n",
        "    '서비스': '왓챠',\n",
        "    '비용': 15000,\n",
        "    '평점': 4.9\n",
        "}\n",
        "\n",
        "if movie['장르'] == 'SF':\n",
        "    if movie['서비스'] == '디즈니' or movie['서비스'] == '넷플릭스':\n",
        "        if movie['평점'] >= 4.5 and movie['비용'] <= 20000:\n",
        "            print('영화시청')\n",
        "    else:\n",
        "        print(movie['서비스'] + ' 구독하기!')"
      ],
      "metadata": {
        "colab": {
          "base_uri": "https://localhost:8080/"
        },
        "id": "vkwCi4HoOZWo",
        "outputId": "df297c49-6748-427b-f8d8-4b810a0eeeb9"
      },
      "execution_count": null,
      "outputs": [
        {
          "output_type": "stream",
          "name": "stdout",
          "text": [
            "왓챠 구독하기!\n"
          ]
        }
      ]
    },
    {
      "cell_type": "markdown",
      "source": [
        "##match"
      ],
      "metadata": {
        "id": "WzYf6MqTOfNv"
      }
    },
    {
      "cell_type": "code",
      "source": [
        "text = 'Hello World'\n",
        "#JS의 스위치 같은건가?\n",
        "match text:\n",
        "    case 'Hello':\n",
        "        print('Hello')\n",
        "    case 'World':\n",
        "        print('World')\n",
        "    case 'Hello World':\n",
        "        print('굿굿')\n"
      ],
      "metadata": {
        "colab": {
          "base_uri": "https://localhost:8080/"
        },
        "id": "PLK6YBWsOglT",
        "outputId": "3dd56bd2-9745-47f1-ea0b-011c2a116325"
      },
      "execution_count": null,
      "outputs": [
        {
          "output_type": "stream",
          "name": "stdout",
          "text": [
            "굿굿\n"
          ]
        }
      ]
    },
    {
      "cell_type": "code",
      "source": [
        "#JS의 스위치 같은건가?\n",
        "text = 'Hello'\n",
        "def match_text():\n",
        "    match text:\n",
        "        case 'Hello':\n",
        "            print('Hello')\n",
        "        case 'World':\n",
        "            print('World')\n",
        "        case 'Hello World':\n",
        "            print('굿굿')\n",
        "\n",
        "match_text()"
      ],
      "metadata": {
        "colab": {
          "base_uri": "https://localhost:8080/"
        },
        "id": "-5zay7DTPIbf",
        "outputId": "33c9b739-6335-43a5-dd82-be40f2bdde13"
      },
      "execution_count": null,
      "outputs": [
        {
          "output_type": "stream",
          "name": "stdout",
          "text": [
            "Hello\n"
          ]
        }
      ]
    },
    {
      "cell_type": "code",
      "source": [
        "# 작동하지 않는 코드입니다. JavaScript와 같은 곳에서는 아래와 같은 형식으로 사용하곤 합니다.\n",
        "text = 'Hello'\n",
        "match text:\n",
        "    case 'Hello':\n",
        "    case 'World':\n",
        "        print('World')\n",
        "    case _:\n",
        "        print('No Match')"
      ],
      "metadata": {
        "colab": {
          "base_uri": "https://localhost:8080/",
          "height": 146
        },
        "id": "bsyT5qLZPxn8",
        "outputId": "4939f7a5-769c-4db6-dbc9-ee93d9d02d26"
      },
      "execution_count": null,
      "outputs": [
        {
          "output_type": "error",
          "ename": "IndentationError",
          "evalue": "ignored",
          "traceback": [
            "\u001b[0;36m  File \u001b[0;32m\"<ipython-input-27-a1f19f253236>\"\u001b[0;36m, line \u001b[0;32m5\u001b[0m\n\u001b[0;31m    case 'World':\u001b[0m\n\u001b[0m    ^\u001b[0m\n\u001b[0;31mIndentationError\u001b[0m\u001b[0;31m:\u001b[0m expected an indented block after 'case' statement on line 4\n"
          ]
        }
      ]
    },
    {
      "cell_type": "code",
      "source": [
        "# 작동하지 않는 코드입니다.\n",
        "text = 'Hello'\n",
        "match text:\n",
        "    case 'Hello' or 'World':\n",
        "        print('World')\n",
        "    case _:\n",
        "        print('No Match')"
      ],
      "metadata": {
        "colab": {
          "base_uri": "https://localhost:8080/",
          "height": 146
        },
        "id": "Set-3nJnP9JZ",
        "outputId": "61457937-9a40-4487-c19d-0d800db5caaa"
      },
      "execution_count": null,
      "outputs": [
        {
          "output_type": "error",
          "ename": "SyntaxError",
          "evalue": "ignored",
          "traceback": [
            "\u001b[0;36m  File \u001b[0;32m\"<ipython-input-29-775af7124e6a>\"\u001b[0;36m, line \u001b[0;32m4\u001b[0m\n\u001b[0;31m    case 'Hello' or 'World':\u001b[0m\n\u001b[0m                 ^\u001b[0m\n\u001b[0;31mSyntaxError\u001b[0m\u001b[0;31m:\u001b[0m invalid syntax\n"
          ]
        }
      ]
    },
    {
      "cell_type": "code",
      "source": [
        "#그러면 어떻게 동시 만족을 표현할 수 있을까요?\n",
        "#예시\n",
        "\n",
        "text = 'Hello'\n",
        "\n",
        "match text:\n",
        "    case 'Hello' | 'World':\n",
        "        print('Hello world')\n",
        "    case _: #이전 케이스에 해당하지 않는경우\n",
        "        print('No match')"
      ],
      "metadata": {
        "colab": {
          "base_uri": "https://localhost:8080/"
        },
        "id": "jb1z1lIHQGao",
        "outputId": "d71a2c0f-c5b3-4f66-ea37-96c0c10c8919"
      },
      "execution_count": null,
      "outputs": [
        {
          "output_type": "stream",
          "name": "stdout",
          "text": [
            "Hello world\n"
          ]
        }
      ]
    },
    {
      "cell_type": "code",
      "source": [
        "def test(i):\n",
        "    if isinstance(i, int) == False:\n",
        "        print('정수를 입력하세요!!')\n",
        "        return\n",
        "\n",
        "    match i:\n",
        "        case 1:\n",
        "            print('One')\n",
        "        case 2:\n",
        "            print('Two')\n",
        "        case 3 | 4:\n",
        "            print('Three or Four')\n",
        "        case _ if i in range(5, 11) :\n",
        "            print('5~10')\n",
        "        case _ if i > 10:\n",
        "            print(f'{i} is greater than Ten')\n",
        "        case _:\n",
        "            print('숫자를 입력한게 맞나요?')\n",
        "\n",
        "test(456)\n",
        "test(1)\n",
        "test(2)\n",
        "test(3)\n",
        "test(4)\n",
        "test(6)\n",
        "test('23')"
      ],
      "metadata": {
        "colab": {
          "base_uri": "https://localhost:8080/"
        },
        "id": "47VF_xU4QzHv",
        "outputId": "4058152b-be12-4bf8-b7a5-1988fac7e30a"
      },
      "execution_count": null,
      "outputs": [
        {
          "output_type": "stream",
          "name": "stdout",
          "text": [
            "456 is greater than Ten\n",
            "One\n",
            "Two\n",
            "Three or Four\n",
            "Three or Four\n",
            "5~10\n",
            "정수를 입력하세요!!\n"
          ]
        }
      ]
    },
    {
      "cell_type": "code",
      "source": [
        "#더 개선된 case\n",
        "\n",
        "def test(i):\n",
        "    if isinstance(i, int) == False:\n",
        "        print('정수를 입력하세요!!')\n",
        "        return\n",
        "\n",
        "    match i:\n",
        "        case 1:\n",
        "            print('One')\n",
        "        case 2:\n",
        "            print('Two')\n",
        "        case 3 | 4:\n",
        "            print('Three or Four')\n",
        "        case _:\n",
        "            if i in range(5, 11) :\n",
        "                print('5~10')\n",
        "            elif i > 10:\n",
        "                print(f'{i} is greater than Ten')\n",
        "            else:\n",
        "                print('숫자를 입력한게 맞나요?')\n",
        "test(456)\n",
        "test(1)\n",
        "test(2)\n",
        "test(3)\n",
        "test(4)\n",
        "test(6)\n",
        "test('23')"
      ],
      "metadata": {
        "colab": {
          "base_uri": "https://localhost:8080/"
        },
        "id": "Jq-kZCJtS7Ry",
        "outputId": "75c937cf-bcd7-46da-f1e3-4ab1e2729b53"
      },
      "execution_count": null,
      "outputs": [
        {
          "output_type": "stream",
          "name": "stdout",
          "text": [
            "456 is greater than Ten\n",
            "One\n",
            "Two\n",
            "Three or Four\n",
            "Three or Four\n",
            "5~10\n",
            "정수를 입력하세요!!\n"
          ]
        }
      ]
    },
    {
      "cell_type": "code",
      "source": [
        "#문제 match를 사용하여 아래 코드를 완성해주세요.\n",
        "\n",
        "def attack(attack_type, damage):\n",
        "    #match...\n",
        "    pass\n",
        "\n",
        "attack('물리공격', 100) #출력 100의 데미지 입혔습니다.\n",
        "\n",
        "#각 공격에 따라 아래의 값이 출력되어야 합니다.\n",
        "#공격의 종류: 물리공격, 마법공격, 정신공격\n",
        "#물리공격, 마법공격 : '100의 데미지를 입혔습니다.'\n",
        "#정신공격: '100ms 만큼 상대방이 혼란을 느낍니다.'"
      ],
      "metadata": {
        "id": "XRPktuDNUmRB"
      },
      "execution_count": null,
      "outputs": []
    },
    {
      "cell_type": "code",
      "source": [
        "def attack(attack_type, damage):\n",
        "    match (attack_type, damage):\n",
        "        case ('물리공격', _) | ('마법공격', _):\n",
        "            print(f'{attack_type}으로 {damage}의 데미지를 입혔습니다.')\n",
        "        case ('정신공격', _):\n",
        "            print(f'{damage}ms 만큼 상대방이 혼란을 느낍니다.')\n",
        "        case (_, _):\n",
        "            print(f'{attack_type}은 규칙에 맞지않아...')\n",
        "\n",
        "\n",
        "attack('물리공격', 200)\n",
        "attack('마법공격', 200)\n",
        "attack('정신공격', 200)\n",
        "attack('강한공격', 200)"
      ],
      "metadata": {
        "colab": {
          "base_uri": "https://localhost:8080/"
        },
        "id": "649YHHYbU1b4",
        "outputId": "36781645-cc6e-47f8-f2b4-c694b9c36adf"
      },
      "execution_count": null,
      "outputs": [
        {
          "output_type": "stream",
          "name": "stdout",
          "text": [
            "물리공격으로 200의 데미지를 입혔습니다.\n",
            "마법공격으로 200의 데미지를 입혔습니다.\n",
            "200ms 만큼 상대방이 혼란을 느낍니다.\n",
            "강한공격은 규칙에 맞지않아...\n"
          ]
        }
      ]
    },
    {
      "cell_type": "markdown",
      "source": [
        "##반복문"
      ],
      "metadata": {
        "id": "S1bZSYqMWyeB"
      }
    },
    {
      "cell_type": "code",
      "source": [
        "for x in 'hello': #순회 가능한 객체가 들어갑니다.\n",
        "    print(f'현재 값은{x} 입니다.')\n",
        "for x in range(1, 6):\n",
        "    print(f'현재 값은{x} 입니다.')\n"
      ],
      "metadata": {
        "colab": {
          "base_uri": "https://localhost:8080/"
        },
        "id": "Ahw84gngWzg0",
        "outputId": "a7ec25a2-91a3-4476-aaf8-60f0e6dbd692"
      },
      "execution_count": null,
      "outputs": [
        {
          "output_type": "stream",
          "name": "stdout",
          "text": [
            "현재 값은h 입니다.\n",
            "현재 값은e 입니다.\n",
            "현재 값은l 입니다.\n",
            "현재 값은l 입니다.\n",
            "현재 값은o 입니다.\n",
            "현재 값은1 입니다.\n",
            "현재 값은2 입니다.\n",
            "현재 값은3 입니다.\n",
            "현재 값은4 입니다.\n",
            "현재 값은5 입니다.\n"
          ]
        }
      ]
    },
    {
      "cell_type": "code",
      "source": [
        "d = {\n",
        "    '하나' : 'one',\n",
        "    '둘' : 'two',\n",
        "    '셋' : 'three',\n",
        "}\n",
        "for i in d.keys():\n",
        "    print(i)\n",
        "for i in d.values():\n",
        "    print(i)"
      ],
      "metadata": {
        "colab": {
          "base_uri": "https://localhost:8080/"
        },
        "id": "HA5iHrC7XI6x",
        "outputId": "556b1923-0565-4710-9f86-16970680eae5"
      },
      "execution_count": null,
      "outputs": [
        {
          "output_type": "stream",
          "name": "stdout",
          "text": [
            "하나\n",
            "둘\n",
            "셋\n",
            "one\n",
            "two\n",
            "three\n"
          ]
        }
      ]
    },
    {
      "cell_type": "code",
      "source": [
        "for i, j in d.items():\n",
        "    print(f'{i} : {j}')\n",
        "\n",
        "for k, v in d.items():\n",
        "    print(k, ':', d[k], sep=' ', end=', ')"
      ],
      "metadata": {
        "colab": {
          "base_uri": "https://localhost:8080/"
        },
        "id": "zODbyy_VXgjR",
        "outputId": "990eafe9-9470-4b3b-ab19-ee9782933f91"
      },
      "execution_count": null,
      "outputs": [
        {
          "output_type": "stream",
          "name": "stdout",
          "text": [
            "하나 : one\n",
            "둘 : two\n",
            "셋 : three\n",
            "하나 : one, 둘 : two, 셋 : three, "
          ]
        }
      ]
    },
    {
      "cell_type": "code",
      "source": [
        "# __iter__ 이 메직메서드가 없다? for문이 안된다! 순회가능한 객체가 아니다.\n",
        "#있다? for문이 된다! 순회가능한 객체이다!\n",
        "\n",
        "# 1부터 시작해서 5까지의 값이 x에는 어떻게 들어가는 것일까요?\n",
        "x = iter('hello')\n",
        "print(x)"
      ],
      "metadata": {
        "colab": {
          "base_uri": "https://localhost:8080/"
        },
        "id": "A1h8CBR-YGem",
        "outputId": "6d5d8af0-0439-4936-c251-1aaedb176b42"
      },
      "execution_count": null,
      "outputs": [
        {
          "output_type": "stream",
          "name": "stdout",
          "text": [
            "<str_iterator object at 0x7906305d5f60>\n"
          ]
        }
      ]
    },
    {
      "cell_type": "code",
      "source": [
        "print(next(x))\n",
        "print(next(x))\n",
        "print(next(x))\n",
        "print(next(x))"
      ],
      "metadata": {
        "colab": {
          "base_uri": "https://localhost:8080/"
        },
        "id": "IFmrB9T_YShT",
        "outputId": "c60e3237-3cfe-4206-854b-8381681658e0"
      },
      "execution_count": null,
      "outputs": [
        {
          "output_type": "stream",
          "name": "stdout",
          "text": [
            "h\n",
            "e\n",
            "l\n",
            "l\n"
          ]
        }
      ]
    },
    {
      "cell_type": "code",
      "source": [
        "x = 'hello'\n",
        "y = x.__iter__()"
      ],
      "metadata": {
        "id": "NDDaTDHSYbvF"
      },
      "execution_count": null,
      "outputs": []
    },
    {
      "cell_type": "code",
      "source": [
        "print(y.__next__())\n",
        "print(y.__next__())\n",
        "print(y.__next__())\n",
        "print(y.__next__())\n",
        "print(y.__next__())\n",
        "print(y.__next__())"
      ],
      "metadata": {
        "colab": {
          "base_uri": "https://localhost:8080/",
          "height": 307
        },
        "id": "0x217pw2Yi6Y",
        "outputId": "c9f0a555-ac68-48fd-f397-82c68f3f9ba4"
      },
      "execution_count": null,
      "outputs": [
        {
          "output_type": "stream",
          "name": "stdout",
          "text": [
            "h\n",
            "e\n",
            "l\n",
            "l\n",
            "o\n"
          ]
        },
        {
          "output_type": "error",
          "ename": "StopIteration",
          "evalue": "ignored",
          "traceback": [
            "\u001b[0;31m---------------------------------------------------------------------------\u001b[0m",
            "\u001b[0;31mStopIteration\u001b[0m                             Traceback (most recent call last)",
            "\u001b[0;32m<ipython-input-99-10bb919f59a6>\u001b[0m in \u001b[0;36m<cell line: 6>\u001b[0;34m()\u001b[0m\n\u001b[1;32m      4\u001b[0m \u001b[0mprint\u001b[0m\u001b[0;34m(\u001b[0m\u001b[0my\u001b[0m\u001b[0;34m.\u001b[0m\u001b[0m__next__\u001b[0m\u001b[0;34m(\u001b[0m\u001b[0;34m)\u001b[0m\u001b[0;34m)\u001b[0m\u001b[0;34m\u001b[0m\u001b[0;34m\u001b[0m\u001b[0m\n\u001b[1;32m      5\u001b[0m \u001b[0mprint\u001b[0m\u001b[0;34m(\u001b[0m\u001b[0my\u001b[0m\u001b[0;34m.\u001b[0m\u001b[0m__next__\u001b[0m\u001b[0;34m(\u001b[0m\u001b[0;34m)\u001b[0m\u001b[0;34m)\u001b[0m\u001b[0;34m\u001b[0m\u001b[0;34m\u001b[0m\u001b[0m\n\u001b[0;32m----> 6\u001b[0;31m \u001b[0mprint\u001b[0m\u001b[0;34m(\u001b[0m\u001b[0my\u001b[0m\u001b[0;34m.\u001b[0m\u001b[0m__next__\u001b[0m\u001b[0;34m(\u001b[0m\u001b[0;34m)\u001b[0m\u001b[0;34m)\u001b[0m\u001b[0;34m\u001b[0m\u001b[0;34m\u001b[0m\u001b[0m\n\u001b[0m",
            "\u001b[0;31mStopIteration\u001b[0m: "
          ]
        }
      ]
    },
    {
      "cell_type": "code",
      "source": [
        "result = 0\n",
        "for i in range(0, 11, 2):\n",
        "    result += i\n",
        "\n",
        "print(result)"
      ],
      "metadata": {
        "colab": {
          "base_uri": "https://localhost:8080/"
        },
        "id": "fOWowDGCYxmO",
        "outputId": "f39231c3-d221-4d0b-ab47-52a232ee3ec7"
      },
      "execution_count": null,
      "outputs": [
        {
          "output_type": "stream",
          "name": "stdout",
          "text": [
            "30\n"
          ]
        }
      ]
    },
    {
      "cell_type": "code",
      "source": [
        "n = 100\n",
        "result =  (n + 1) * n / 2\n",
        "result"
      ],
      "metadata": {
        "colab": {
          "base_uri": "https://localhost:8080/"
        },
        "id": "R9OLr4h-nQuU",
        "outputId": "9e872329-4b3d-46e4-da99-f2e36d178da8"
      },
      "execution_count": null,
      "outputs": [
        {
          "output_type": "execute_result",
          "data": {
            "text/plain": [
              "5050.0"
            ]
          },
          "metadata": {},
          "execution_count": 4
        }
      ]
    },
    {
      "cell_type": "code",
      "source": [
        "#1부터 100까지 더하기\n",
        "\n",
        "result = 0\n",
        "for i in range(1, 101):\n",
        "    result += i\n",
        "print(result)\n",
        "\n",
        "#1부터 100까지 짝수를 더하는 코드\n",
        "#1. 권장하지 않는 코드(100번 돌아야하고, if문도 체크해야하고)\n",
        "\n",
        "result = 0\n",
        "for i in range(101):\n",
        "    if i % 2 == 0:\n",
        "        result += i\n",
        "print(result)\n",
        "\n",
        "#2.권장하는코드 (순회도 반만 돌고, if문도 없음)\n",
        "\n",
        "result = 0\n",
        "for i in range(0, 101, 2):\n",
        "    result += i\n",
        "print(result)\n",
        "\n",
        "#구구단 출력\n",
        "for i in range(2, 10):\n",
        "    for j in range(1, 10):\n",
        "        # print(f'{i} x {j} = {i*j}')\n",
        "        pass\n",
        "\n",
        "#홀수들에 특이한 덧셈을 하고 싶습니다.\n",
        "#예를 들어, 6이하의 특이한 덧셈을 한다면\n",
        "# 1 + 3 이하의수 + 5이하의 수...\n",
        "# 1+ 1 + 2 + 3 + 1 + 2 + 3 + 4 + 5 이렇게 답이 나와야 합니다.\n",
        "\n",
        "result = 0\n",
        "for i in [range(2), range(4), range(6)]:\n",
        "    for j in i:\n",
        "        result += j\n",
        "print(result)"
      ],
      "metadata": {
        "colab": {
          "base_uri": "https://localhost:8080/"
        },
        "id": "KW894CPDnhuQ",
        "outputId": "bff415e4-1ab0-4ce5-c0df-eeb2cd2e6ce2"
      },
      "execution_count": null,
      "outputs": [
        {
          "output_type": "stream",
          "name": "stdout",
          "text": [
            "5050\n",
            "2550\n",
            "2550\n",
            "22\n"
          ]
        }
      ]
    },
    {
      "cell_type": "code",
      "source": [
        "#두 문제 모두 for는 중첩 2번 해야 합니다.\n",
        "\n",
        "#문제1\n",
        "#다음과 같은 문자열이 있습니다.\n",
        "#s = '135678'\n",
        "#이때 구구단 1단, 3단, 5단, 6단, 7단, 8단을 출력하는 코드를 만들어주세요.\n",
        "\n",
        "s ='135678'\n",
        "for num in s:\n",
        "    for j in range(1, 10):\n",
        "        print(f'{num} X {j} = {int(num) * j}')\n"
      ],
      "metadata": {
        "id": "gYGLOHqLpkOh"
      },
      "execution_count": null,
      "outputs": []
    },
    {
      "cell_type": "code",
      "source": [
        "#심화문제\n",
        "#특이한 구구단이 있다.\n",
        "# [2, 3 6]이 있었을 때 아래와 같이 출력되어야 한다.\n",
        "# 2, 3, 6단을 출력하고\n",
        "#곱해지는 수는 이에 [2, 3, 6]에 1씩을 더한\n",
        "# [3, 4, 7]이 각각 곱해져야 합니다.\n",
        "\n",
        "'''\n",
        "2 X 3 = 6\n",
        "2 X 4 = 8\n",
        "2 X 7 = 14\n",
        "3 X 3 = 9\n",
        "3 X 4 = 12\n",
        "3 X 7 = 21\n",
        "6 X 3 = 18\n",
        "6 X 4 = 24\n",
        "6 X 7 = 42\n",
        "'''\n",
        "\n",
        "l = [2, 3, 6]\n",
        "for num in l:\n",
        "    for j in l:\n",
        "        print(f'{num} X {j+1} = {num * (j+1)}')"
      ],
      "metadata": {
        "id": "0zTaP02Uqm1G"
      },
      "execution_count": null,
      "outputs": []
    },
    {
      "cell_type": "code",
      "source": [
        "nums = [1,2,3,4,5]\n",
        "result = [f'{x}는 3보다 큰 짝수' if x % 2 ==0 else f'{x}는 3보다 큰 홀 수' for x in nums if x > 3]\n",
        "result"
      ],
      "metadata": {
        "colab": {
          "base_uri": "https://localhost:8080/"
        },
        "id": "IxUmkxj4sXAr",
        "outputId": "b27cf86c-2ead-4718-c85d-aa0da1a9b334"
      },
      "execution_count": null,
      "outputs": [
        {
          "output_type": "execute_result",
          "data": {
            "text/plain": [
              "['4는 3보다 큰 짝수', '5는 3보다 큰 홀 수']"
            ]
          },
          "metadata": {},
          "execution_count": 26
        }
      ]
    },
    {
      "cell_type": "code",
      "source": [
        "#개선\n",
        "result =  []\n",
        "nums = [1, 2, 3, 4, 5]\n",
        "\n",
        "for x in nums:\n",
        "    if x > 3:\n",
        "        if x % 2 == 0:\n",
        "            result.append(f'{x}는 3보다 큰 짝수')\n",
        "        else:\n",
        "           result.append(f'{x}는 3보다 큰 홀수')\n",
        "result"
      ],
      "metadata": {
        "colab": {
          "base_uri": "https://localhost:8080/"
        },
        "id": "FxPPnp4Ls_De",
        "outputId": "fad6b8f7-ca1a-4162-cff8-dd49740305aa"
      },
      "execution_count": null,
      "outputs": [
        {
          "output_type": "execute_result",
          "data": {
            "text/plain": [
              "['4는 3보다 큰 짝수', '5는 3보다 큰 홀수']"
            ]
          },
          "metadata": {},
          "execution_count": 28
        }
      ]
    },
    {
      "cell_type": "code",
      "source": [
        "def something(i):\n",
        "    if i % 100 == 0:\n",
        "        return i\n",
        "    else:\n",
        "        return 0\n",
        "\n",
        "l = [100, 200, 300, 301, 302, 202]\n",
        "l = list(map(something, l))\n",
        "\n",
        "print(l)"
      ],
      "metadata": {
        "colab": {
          "base_uri": "https://localhost:8080/"
        },
        "id": "Noel7LdxtenM",
        "outputId": "570cadf3-c4e5-4540-d842-0a1775b29419"
      },
      "execution_count": null,
      "outputs": [
        {
          "output_type": "stream",
          "name": "stdout",
          "text": [
            "[100, 200, 300, 0, 0, 0]\n"
          ]
        }
      ]
    },
    {
      "cell_type": "code",
      "source": [
        "#하나만 리스트여도 쌓이면 상관없이 잘 돌아감\n",
        "skill = [\n",
        "    ('고기잡이', 100, 'SS'),\n",
        "    ('고기팔기', 120, 'SSS'),\n",
        "    ('낚시', 5, 'C'),\n",
        "    ('통발', 5, 'C'),\n",
        "    ('큰그물', 5, 'C')\n",
        "]\n",
        "\n",
        "for skillName, level, skillgarde in skill:\n",
        "    print(skillName, level, skillgarde)"
      ],
      "metadata": {
        "colab": {
          "base_uri": "https://localhost:8080/"
        },
        "id": "I43CFz3buwga",
        "outputId": "02f16836-c3c6-428f-a144-40019c665069"
      },
      "execution_count": null,
      "outputs": [
        {
          "output_type": "stream",
          "name": "stdout",
          "text": [
            "고기잡이 100 SS\n",
            "고기팔기 120 SSS\n",
            "낚시 5 C\n",
            "통발 5 C\n",
            "큰그물 5 C\n"
          ]
        }
      ]
    },
    {
      "cell_type": "code",
      "source": [
        "영화누적관객수 = ['레미제라블', '뷰티인사이트', '매트릭스', '인셉션', '어거스트 러쉬']\n",
        "for i in enumerate(영화누적관객수):\n",
        "    print(i)\n",
        "\n",
        "for rank, movieName in enumerate(영화누적관객수, 1):\n",
        "    print(f'누적관객수 {rank}위! {movieName}~')"
      ],
      "metadata": {
        "colab": {
          "base_uri": "https://localhost:8080/"
        },
        "id": "SxymlGbWvnTT",
        "outputId": "18c4e86b-39ba-4113-8757-a741820100b4"
      },
      "execution_count": null,
      "outputs": [
        {
          "output_type": "stream",
          "name": "stdout",
          "text": [
            "(0, '레미제라블')\n",
            "(1, '뷰티인사이트')\n",
            "(2, '매트릭스')\n",
            "(3, '인셉션')\n",
            "(4, '어거스트 러쉬')\n",
            "누적관객수 1위! 레미제라블~\n",
            "누적관객수 2위! 뷰티인사이트~\n",
            "누적관객수 3위! 매트릭스~\n",
            "누적관객수 4위! 인셉션~\n",
            "누적관객수 5위! 어거스트 러쉬~\n"
          ]
        }
      ]
    },
    {
      "cell_type": "code",
      "source": [
        "#실행시키면 런타임 다시 시작해야 합니다.\n",
        "l = [1, 2]\n",
        "for i in l:\n",
        "    l.append(3)\n",
        "    print(i)"
      ],
      "metadata": {
        "id": "rOTOZq6Vwbjk"
      },
      "execution_count": null,
      "outputs": []
    },
    {
      "cell_type": "code",
      "source": [
        "#파이썬 for문은 순회할 객체를 평가하고 그 결과를 바탕으로 순회를 진행\n",
        "#문자열은 불변이기 때문에 원본문자열이 변경되지않음\n",
        "#반면 list는 가변적이기 때문에 순회도중 list의 내용이 변경되면서 무한 순회 발생.\n",
        "\n",
        "s = 'hello'\n",
        "for i in s: #정상적 순회\n",
        "    s += '!'\n",
        "    print(i)\n",
        "    print(s)"
      ],
      "metadata": {
        "colab": {
          "base_uri": "https://localhost:8080/"
        },
        "id": "UpUks_GgwwOB",
        "outputId": "912a53a3-f497-44a0-af56-831d3d5b8d28"
      },
      "execution_count": null,
      "outputs": [
        {
          "output_type": "stream",
          "name": "stdout",
          "text": [
            "h\n",
            "hello!\n",
            "e\n",
            "hello!!\n",
            "l\n",
            "hello!!!\n",
            "l\n",
            "hello!!!!\n",
            "o\n",
            "hello!!!!!\n",
            "hello!!!!!\n"
          ]
        }
      ]
    },
    {
      "cell_type": "code",
      "source": [
        "#for문에서 순회하는동안 dict를 업데이트, 제거하는것은 허용하지 않음.\n",
        "\n",
        "d = {'one' : '하나'}\n",
        "for i in d:\n",
        "    d.update({i +d[i]: 1})\n",
        "print(d)"
      ],
      "metadata": {
        "colab": {
          "base_uri": "https://localhost:8080/",
          "height": 217
        },
        "id": "n6vioIoFyjW2",
        "outputId": "5c03e016-44eb-4191-8430-7e4370030a4a"
      },
      "execution_count": null,
      "outputs": [
        {
          "output_type": "error",
          "ename": "RuntimeError",
          "evalue": "ignored",
          "traceback": [
            "\u001b[0;31m---------------------------------------------------------------------------\u001b[0m",
            "\u001b[0;31mRuntimeError\u001b[0m                              Traceback (most recent call last)",
            "\u001b[0;32m<ipython-input-54-f9beab4381e1>\u001b[0m in \u001b[0;36m<cell line: 2>\u001b[0;34m()\u001b[0m\n\u001b[1;32m      1\u001b[0m \u001b[0md\u001b[0m \u001b[0;34m=\u001b[0m \u001b[0;34m{\u001b[0m\u001b[0;34m'one'\u001b[0m \u001b[0;34m:\u001b[0m \u001b[0;34m'하나'\u001b[0m\u001b[0;34m}\u001b[0m\u001b[0;34m\u001b[0m\u001b[0;34m\u001b[0m\u001b[0m\n\u001b[0;32m----> 2\u001b[0;31m \u001b[0;32mfor\u001b[0m \u001b[0mi\u001b[0m \u001b[0;32min\u001b[0m \u001b[0md\u001b[0m\u001b[0;34m:\u001b[0m\u001b[0;34m\u001b[0m\u001b[0;34m\u001b[0m\u001b[0m\n\u001b[0m\u001b[1;32m      3\u001b[0m     \u001b[0md\u001b[0m\u001b[0;34m.\u001b[0m\u001b[0mupdate\u001b[0m\u001b[0;34m(\u001b[0m\u001b[0;34m{\u001b[0m\u001b[0mi\u001b[0m \u001b[0;34m+\u001b[0m\u001b[0md\u001b[0m\u001b[0;34m[\u001b[0m\u001b[0mi\u001b[0m\u001b[0;34m]\u001b[0m\u001b[0;34m:\u001b[0m \u001b[0;36m1\u001b[0m\u001b[0;34m}\u001b[0m\u001b[0;34m)\u001b[0m\u001b[0;34m\u001b[0m\u001b[0;34m\u001b[0m\u001b[0m\n",
            "\u001b[0;31mRuntimeError\u001b[0m: dictionary changed size during iteration"
          ]
        }
      ]
    },
    {
      "cell_type": "code",
      "source": [
        "#그래서 안에서 새로운 dict요소를 추가하고 안에서 업데이트 후 덮어 씌우는건 가능.\n",
        "d = {'one' : '하나'}\n",
        "for i in d:\n",
        "    li = dict(d)\n",
        "    li.update({i +li[i]: None})\n",
        "print(li)"
      ],
      "metadata": {
        "colab": {
          "base_uri": "https://localhost:8080/"
        },
        "id": "7M9os2VHzVOo",
        "outputId": "b59bbf0a-95dd-4c3a-e50e-c846e5dafb1f"
      },
      "execution_count": null,
      "outputs": [
        {
          "output_type": "stream",
          "name": "stdout",
          "text": [
            "{'one': '하나', 'one하나': None}\n"
          ]
        }
      ]
    },
    {
      "cell_type": "code",
      "source": [
        "#이런 코드는 OS에서 사용하거나\n",
        "#쉘 만들 때 사용합니다.\n",
        "while True:\n",
        "    userinput = input('>')\n",
        "    if userinput == 'pwd':\n",
        "        print('현재 위치 출력')\n",
        "    elif userinput == 'dir' or userinput == 'ls':\n",
        "        print('현재 폴더의 위치와 파일명 출력')\n",
        "    elif userinput == 'exit':\n",
        "        print('안녕히 가세요')\n",
        "        break\n",
        "    else:\n",
        "        print('없는 단어야. \"다시\"')\n"
      ],
      "metadata": {
        "colab": {
          "base_uri": "https://localhost:8080/"
        },
        "id": "igzAerjZ0E3m",
        "outputId": "fdb31d09-69d0-4626-e6f9-d1fed67937b1"
      },
      "execution_count": null,
      "outputs": [
        {
          "output_type": "stream",
          "name": "stdout",
          "text": [
            ">ㅁㄴㅇㄹㄴㅁㅇㄹ\n",
            "없는 단어야. \"다시\"\n",
            ">ㅁㄴㅇㄻㄴㅇㄹ\n",
            "없는 단어야. \"다시\"\n",
            ">ㅁㄴㅇㄻㄴㅇㄻ\n",
            "없는 단어야. \"다시\"\n",
            ">exit\n",
            "안녕히 가세요\n"
          ]
        }
      ]
    },
    {
      "cell_type": "code",
      "source": [
        "# .py파일로 작성해서 실행해보세요.\n",
        "import os\n",
        "\n",
        "while True:\n",
        "    userinput = input('>')\n",
        "    if userinput == 'pwd':\n",
        "        # print('현재 위치 출력')\n",
        "        # print('\\\\'.join(__file__.split('\\\\')[:-1]))\n",
        "        print(os.getcwd())\n",
        "    elif userinput == 'dir' or userinput == 'ls':\n",
        "        # print('현재 폴더에 폴더와 파일명 출력')\n",
        "        print(os.listdir(os.getcwd()))\n",
        "    elif userinput == 'exit':\n",
        "        print('안녕히가세요.')\n",
        "        break"
      ],
      "metadata": {
        "colab": {
          "base_uri": "https://localhost:8080/"
        },
        "id": "yfX1YDjO1EtC",
        "outputId": "3f6aceea-f4a0-4ca8-8f0d-9a6c3ec2babc"
      },
      "execution_count": null,
      "outputs": [
        {
          "output_type": "stream",
          "name": "stdout",
          "text": [
            ">pwd\n",
            "/content\n",
            ">dir\n",
            "['.config', 'sample_data']\n",
            ">exit\n",
            "안녕히가세요.\n"
          ]
        }
      ]
    },
    {
      "cell_type": "code",
      "source": [
        "import random\n",
        "\n",
        "answer = random.randint(1, 1000)\n",
        "while True:\n",
        "    inin = input('숫자를 입력해 주세요. >>')\n",
        "    try:\n",
        "        userinput = int(inin)\n",
        "    except ValueError:\n",
        "        print('숫자 넣으라고 ㅅㅂ')\n",
        "        continue\n",
        "    if userinput > answer:\n",
        "        print('너무 높아')\n",
        "    elif userinput < answer:\n",
        "        print('너무 낮아')\n",
        "    else:\n",
        "        print(f'정답! {answer}는 1~1000까지 숫자였어')\n",
        "        break"
      ],
      "metadata": {
        "id": "72ZrYHeP1crq"
      },
      "execution_count": null,
      "outputs": []
    },
    {
      "cell_type": "code",
      "source": [
        "import random\n",
        "s =[1, 2, 3, 4, 5]\n",
        "random.shuffle(s)\n",
        "print(s)\n",
        "random.shuffle(s)\n",
        "print(s)"
      ],
      "metadata": {
        "colab": {
          "base_uri": "https://localhost:8080/"
        },
        "id": "qY4Jw4Ck46is",
        "outputId": "010fa6f7-0c39-43ed-e735-8cad3f56d575"
      },
      "execution_count": null,
      "outputs": [
        {
          "output_type": "stream",
          "name": "stdout",
          "text": [
            "[4, 2, 1, 5, 3]\n",
            "[1, 5, 3, 2, 4]\n"
          ]
        }
      ]
    },
    {
      "cell_type": "code",
      "source": [
        "x = (n := 10) * 2\n",
        "print(x)  # 출력: 20\n",
        "print(n)  # 출력: 10"
      ],
      "metadata": {
        "colab": {
          "base_uri": "https://localhost:8080/"
        },
        "id": "sAFe1mIb5PhO",
        "outputId": "ddbf772c-e80d-402e-d764-bd0bdbda7b82"
      },
      "execution_count": null,
      "outputs": [
        {
          "output_type": "stream",
          "name": "stdout",
          "text": [
            "20\n",
            "10\n"
          ]
        }
      ]
    },
    {
      "cell_type": "code",
      "source": [
        "import random\n",
        "\n",
        "while (x := random.randint(0, 10)) != 7:\n",
        "    print(x)"
      ],
      "metadata": {
        "colab": {
          "base_uri": "https://localhost:8080/"
        },
        "id": "wquvqSFs5SoG",
        "outputId": "be9e29a2-1a3d-4146-eef5-cfa074655525"
      },
      "execution_count": null,
      "outputs": [
        {
          "output_type": "stream",
          "name": "stdout",
          "text": [
            "0\n",
            "9\n",
            "4\n",
            "2\n",
            "4\n",
            "3\n",
            "8\n",
            "1\n",
            "2\n",
            "9\n",
            "4\n"
          ]
        }
      ]
    },
    {
      "cell_type": "code",
      "source": [
        "i = 2\n",
        "while i < 10:\n",
        "    j = 1 #매우 중요!!!!!!! while문은 중첩해서 사용할 때 초기화가 필요합니다.\n",
        "    while j < 10:\n",
        "        print(f'{i} X {j} = {i*j}')\n",
        "        j += 1\n",
        "    i +=1"
      ],
      "metadata": {
        "id": "t8FAbBte5r77"
      },
      "execution_count": null,
      "outputs": []
    },
    {
      "cell_type": "code",
      "source": [
        "x = 0\n",
        "while x < 10:\n",
        "    print(x)\n",
        "    if x ==5:\n",
        "        break\n",
        "    x +=1"
      ],
      "metadata": {
        "colab": {
          "base_uri": "https://localhost:8080/"
        },
        "id": "dGOpqjZq6IM-",
        "outputId": "d6f07f09-fb39-4560-a4f6-3cd2e496db23"
      },
      "execution_count": null,
      "outputs": [
        {
          "output_type": "stream",
          "name": "stdout",
          "text": [
            "0\n",
            "1\n",
            "2\n",
            "3\n",
            "4\n",
            "5\n"
          ]
        }
      ]
    },
    {
      "cell_type": "code",
      "source": [
        "# 주의해주세요! 무한반복입니다!\n",
        "x = 0\n",
        "while x < 10:\n",
        "    print(x)\n",
        "    if x == 5:\n",
        "        continue\n",
        "    x += 1"
      ],
      "metadata": {
        "id": "PXYLxBCQ6TDN"
      },
      "execution_count": null,
      "outputs": []
    },
    {
      "cell_type": "code",
      "source": [
        "x = 0\n",
        "while x < 5:\n",
        "    x += 1\n",
        "    if x == 3:\n",
        "        continue\n",
        "    print(x)"
      ],
      "metadata": {
        "colab": {
          "base_uri": "https://localhost:8080/"
        },
        "id": "EqvL5MJu67Ij",
        "outputId": "5f46d3c5-c9c6-409e-e5a9-b84acb3d30c7"
      },
      "execution_count": null,
      "outputs": [
        {
          "output_type": "stream",
          "name": "stdout",
          "text": [
            "1\n",
            "2\n",
            "4\n",
            "5\n"
          ]
        }
      ]
    },
    {
      "cell_type": "code",
      "source": [
        "x = 0\n",
        "while x < 5:\n",
        "    x += 1\n",
        "    if x == 3:\n",
        "        pass\n",
        "    print(x)"
      ],
      "metadata": {
        "colab": {
          "base_uri": "https://localhost:8080/"
        },
        "id": "4DobfgMH69UD",
        "outputId": "116780ac-ad86-4243-d3ed-f48d30f889ee"
      },
      "execution_count": null,
      "outputs": [
        {
          "output_type": "stream",
          "name": "stdout",
          "text": [
            "1\n",
            "2\n",
            "3\n",
            "4\n",
            "5\n"
          ]
        }
      ]
    },
    {
      "cell_type": "code",
      "source": [
        "# break은 바로 위에 부모만 탈출합니다.\n",
        "# continue는 아래코드를 실행하지 않고 다음 루프로 넘어갑니다.\n",
        "# pass는 지나칠 뿐입니다.\n",
        "# 아래에서 pass는 코드가 애러가 나지 않게만 합니다.\n",
        "x = 0\n",
        "while x < 10:\n",
        "    x += 1\n",
        "    if x == 5:\n",
        "        pass\n",
        "    print(x)"
      ],
      "metadata": {
        "colab": {
          "base_uri": "https://localhost:8080/"
        },
        "id": "VV17Tzjz7PGY",
        "outputId": "81b18992-3d37-4a9e-dcc6-74d59814d143"
      },
      "execution_count": null,
      "outputs": [
        {
          "output_type": "stream",
          "name": "stdout",
          "text": [
            "1\n",
            "2\n",
            "3\n",
            "4\n",
            "5\n",
            "6\n",
            "7\n",
            "8\n",
            "9\n",
            "10\n"
          ]
        }
      ]
    },
    {
      "cell_type": "code",
      "source": [
        "i = 2\n",
        "while i < 10:\n",
        "    j = 1 # 별표 5개! while문은 중첩해서 사용할 때 초기화가 필요합니다!\n",
        "    while j < 10:\n",
        "        if j == 3:\n",
        "            break\n",
        "        print(f'{i} X {j} = {i*j}')\n",
        "        j += 1\n",
        "    i += 1"
      ],
      "metadata": {
        "colab": {
          "base_uri": "https://localhost:8080/"
        },
        "id": "sg9Ew45l7bKo",
        "outputId": "d4e9aa53-6d6f-445d-b44f-8a387b51a1f7"
      },
      "execution_count": null,
      "outputs": [
        {
          "output_type": "stream",
          "name": "stdout",
          "text": [
            "2 X 1 = 2\n",
            "2 X 2 = 4\n",
            "3 X 1 = 3\n",
            "3 X 2 = 6\n",
            "4 X 1 = 4\n",
            "4 X 2 = 8\n",
            "5 X 1 = 5\n",
            "5 X 2 = 10\n",
            "6 X 1 = 6\n",
            "6 X 2 = 12\n",
            "7 X 1 = 7\n",
            "7 X 2 = 14\n",
            "8 X 1 = 8\n",
            "8 X 2 = 16\n",
            "9 X 1 = 9\n",
            "9 X 2 = 18\n"
          ]
        }
      ]
    },
    {
      "cell_type": "code",
      "source": [
        "switch = 0\n",
        "for i in range(5):\n",
        "    if switch == 1:\n",
        "        break\n",
        "    for j in range(5):\n",
        "        if j == 3:\n",
        "            switch = 1\n",
        "            break\n",
        "        print(f'{i}, {j}')"
      ],
      "metadata": {
        "colab": {
          "base_uri": "https://localhost:8080/"
        },
        "id": "PfLqCyGH7kqp",
        "outputId": "ac7f204b-2ce0-4bb5-c3e6-5580dd91c2ac"
      },
      "execution_count": null,
      "outputs": [
        {
          "output_type": "stream",
          "name": "stdout",
          "text": [
            "0, 0\n",
            "0, 1\n",
            "0, 2\n"
          ]
        }
      ]
    },
    {
      "cell_type": "code",
      "source": [
        "from logging import exception\n",
        "\n",
        "class 그만(Exception):\n",
        "    pass\n",
        "\n",
        "\n",
        "try:\n",
        "    for i in range(2, 10):\n",
        "        for j in range(1, 10):\n",
        "            if j ==3:\n",
        "                raise 그만\n",
        "            print(f'{i} X {j} = {i*j}')\n",
        "except 그만:\n",
        "    print('Done')"
      ],
      "metadata": {
        "colab": {
          "base_uri": "https://localhost:8080/"
        },
        "id": "5ARKPlhD702d",
        "outputId": "cc011af0-bb61-4d57-e104-ab81dc517f97"
      },
      "execution_count": null,
      "outputs": [
        {
          "output_type": "stream",
          "name": "stdout",
          "text": [
            "2 X 1 = 2\n",
            "2 X 2 = 4\n",
            "Done\n"
          ]
        }
      ]
    },
    {
      "cell_type": "code",
      "source": [
        "# else라고 하지 않고 다른 키워드로 해야한다는 주장이 있었어요.\n",
        "\n",
        "for i in range(5):\n",
        "    print(i)\n",
        "else:\n",
        "    print('정상 종료')\n",
        "\n",
        "# else라고 하지 않고 다른 키워드로 해야한다는 주장이 있었어요.\n",
        "\n",
        "for i in range(5):\n",
        "    if i == 3:\n",
        "        break\n",
        "    print(i)\n",
        "else:\n",
        "    print('정상종료')"
      ],
      "metadata": {
        "colab": {
          "base_uri": "https://localhost:8080/"
        },
        "id": "ioSQ4wIN7501",
        "outputId": "b5999ebc-6dc2-4bf8-c747-5ea5e8c37b8d"
      },
      "execution_count": null,
      "outputs": [
        {
          "output_type": "stream",
          "name": "stdout",
          "text": [
            "0\n",
            "1\n",
            "2\n",
            "3\n",
            "4\n",
            "정상 종료\n",
            "0\n",
            "1\n",
            "2\n"
          ]
        }
      ]
    },
    {
      "cell_type": "code",
      "source": [
        "x = 1\n",
        "while x < 10:\n",
        "    print(x)\n",
        "    if x == 3:\n",
        "        break\n",
        "    x += 1\n",
        "else:\n",
        "    print('정상종료')"
      ],
      "metadata": {
        "colab": {
          "base_uri": "https://localhost:8080/"
        },
        "id": "GAdSIaLt9NT-",
        "outputId": "84cd4a91-50a9-42f0-b4f5-89d59d530667"
      },
      "execution_count": null,
      "outputs": [
        {
          "output_type": "stream",
          "name": "stdout",
          "text": [
            "1\n",
            "2\n",
            "3\n"
          ]
        }
      ]
    },
    {
      "cell_type": "code",
      "source": [
        "data = [\n",
        "    {\n",
        "    \"_id\": \"fd7e9a0f-e77b-436a-B781-119b66033d49\",\n",
        "    \"index\": \"1\",\n",
        "    \"name\": \"나주헌\",\n",
        "    \"email\": \"user-tzctc1q@suspendisse.org\",\n",
        "    \"phone\": \"010-5547-5841\",\n",
        "    \"country\": \"과테말라\",\n",
        "    \"address\": \"광나루로 99-2\",\n",
        "    \"job\": \"유치원교사\",\n",
        "    \"gender\": \"여성\",\n",
        "    \"age\": \"43\"\n",
        "    },\n",
        "    {\n",
        "    \"_id\": \"8ec6eabb-160a-41e4-A3de-cd33aff0b281\",\n",
        "    \"index\": \"2\",\n",
        "    \"name\": \"엄루다\",\n",
        "    \"email\": \"user-1rz7xby@mi.org\",\n",
        "    \"phone\": \"010-3963-9373\",\n",
        "    \"country\": \"엘살바도르\",\n",
        "    \"address\": \"석촌호수로 37-1\",\n",
        "    \"job\": \"프로게이머\",\n",
        "    \"gender\": \"남성\",\n",
        "    \"age\": \"22\"\n",
        "  },\n",
        "  {\n",
        "    \"_id\": \"bcf804f7-0452-4c31-B9d1-20cc2d38490b\",\n",
        "    \"index\": \"3\",\n",
        "    \"name\": \"형유환\",\n",
        "    \"email\": \"user-ym96wth@have.net\",\n",
        "    \"phone\": \"010-6389-9499\",\n",
        "    \"country\": \"벨리즈\",\n",
        "    \"address\": \"잠실로 33-3\",\n",
        "    \"job\": \"아나운서\",\n",
        "    \"gender\": \"남성\",\n",
        "    \"age\": \"31\"\n",
        "  },\n",
        "  {\n",
        "    \"_id\": \"11006f0d-e88d-41fc-A288-caa2e67927e7\",\n",
        "    \"index\": \"4\",\n",
        "    \"name\": \"위도현\",\n",
        "    \"email\": \"user-tkxj6f5@diam.org\",\n",
        "    \"phone\": \"010-4246-4752\",\n",
        "    \"country\": \"바레인\",\n",
        "    \"address\": \"종로 99-8\",\n",
        "    \"job\": \"작곡가\",\n",
        "    \"gender\": \"여성\",\n",
        "    \"age\": \"42\"\n",
        "  },\n",
        "  {\n",
        "    \"_id\": \"b7421487-da52-4410-B696-17bab958a5d8\",\n",
        "    \"index\": \"5\",\n",
        "    \"name\": \"유성재\",\n",
        "    \"email\": \"user-bgxih63@Sed.net\",\n",
        "    \"phone\": \"010-6359-7592\",\n",
        "    \"country\": \"피지\",\n",
        "    \"address\": \"방학로 71-3\",\n",
        "    \"job\": \"연기자\",\n",
        "    \"gender\": \"여성\",\n",
        "    \"age\": \"48\"\n",
        "  }\n",
        "]"
      ],
      "metadata": {
        "id": "tPZSOlxE9kKS"
      },
      "execution_count": null,
      "outputs": []
    },
    {
      "cell_type": "code",
      "source": [
        "## 문제 1번: 평균 나이를 출력해주세요.\n",
        "# 문제 2번: 남녀 성비를 출력해주세요.\n",
        "\n",
        "data[0]"
      ],
      "metadata": {
        "colab": {
          "base_uri": "https://localhost:8080/"
        },
        "id": "BDfOevFZ95pl",
        "outputId": "6f8523d9-b64c-475c-efe4-66e8a60efa92"
      },
      "execution_count": null,
      "outputs": [
        {
          "output_type": "execute_result",
          "data": {
            "text/plain": [
              "{'_id': 'fd7e9a0f-e77b-436a-B781-119b66033d49',\n",
              " 'index': '1',\n",
              " 'name': '나주헌',\n",
              " 'email': 'user-tzctc1q@suspendisse.org',\n",
              " 'phone': '010-5547-5841',\n",
              " 'country': '과테말라',\n",
              " 'address': '광나루로 99-2',\n",
              " 'job': '유치원교사',\n",
              " 'gender': '여성',\n",
              " 'age': '43'}"
            ]
          },
          "metadata": {},
          "execution_count": 132
        }
      ]
    },
    {
      "cell_type": "code",
      "source": [
        "#1번 평균나이\n",
        "age = map(lambda x: x['age'], data)\n",
        "age = list(map(int, age))\n",
        "average = sum(age) / len(age)\n",
        "average"
      ],
      "metadata": {
        "colab": {
          "base_uri": "https://localhost:8080/"
        },
        "id": "S-gyk3WZ-xEZ",
        "outputId": "0d414f83-45d7-4ff7-bd5d-9dc4ca4a1096"
      },
      "execution_count": null,
      "outputs": [
        {
          "output_type": "execute_result",
          "data": {
            "text/plain": [
              "37.2"
            ]
          },
          "metadata": {},
          "execution_count": 145
        }
      ]
    },
    {
      "cell_type": "code",
      "source": [
        "#2번 남녀 성비\n",
        "gen = list(map(lambda x: x['gender'], data))\n",
        "\n",
        "def 성비(genlist):\n",
        "    man = genlist.count('남성')\n",
        "    woman = genlist.count('여성')\n",
        "    print(f'총 인원 {man + woman}명중 남성 {man}, 여성{woman} 으로 성비는 \"{round(man / woman, 2)}\"입니다.')\n",
        "    print(man / (man+woman))\n",
        "\n",
        "성비(gen)"
      ],
      "metadata": {
        "colab": {
          "base_uri": "https://localhost:8080/"
        },
        "id": "o-iXEdiK_4gE",
        "outputId": "da2b9aeb-6d00-464d-812e-5ff2c6efd669"
      },
      "execution_count": null,
      "outputs": [
        {
          "output_type": "stream",
          "name": "stdout",
          "text": [
            "총 인원 5명중 남성 2, 여성3 으로 성비는 \"0.67\"입니다.\n",
            "0.4\n"
          ]
        }
      ]
    },
    {
      "cell_type": "code",
      "source": [
        "a = map(int, ['1', '2'])\n",
        "a = list(a)\n",
        "a"
      ],
      "metadata": {
        "colab": {
          "base_uri": "https://localhost:8080/"
        },
        "id": "BkKxOW00BXYB",
        "outputId": "3e5ad602-daea-49f7-a370-e28110725832"
      },
      "execution_count": null,
      "outputs": [
        {
          "output_type": "execute_result",
          "data": {
            "text/plain": [
              "[1, 2]"
            ]
          },
          "metadata": {},
          "execution_count": 160
        }
      ]
    },
    {
      "cell_type": "code",
      "source": [
        "gender = list(map(lambda x: x['gender'], data))\n",
        "total = len(gender)\n",
        "man = gender.count('남성')\n",
        "woman = total - man\n",
        "man / total * 100, woman / total * 100"
      ],
      "metadata": {
        "colab": {
          "base_uri": "https://localhost:8080/"
        },
        "id": "dOr9PHgqBiQI",
        "outputId": "421f2782-8c52-42ae-f56f-a0a02236bb79"
      },
      "execution_count": null,
      "outputs": [
        {
          "output_type": "execute_result",
          "data": {
            "text/plain": [
              "(40.0, 60.0)"
            ]
          },
          "metadata": {},
          "execution_count": 161
        }
      ]
    },
    {
      "cell_type": "code",
      "source": [
        "n = 0\n",
        "while n < 5:\n",
        "    print(f'현제 숫자는 {n}입니다')\n",
        "    n += 1\n",
        "    if n > 3:\n",
        "        break\n",
        "else:\n",
        "        print('반복문을 종료합니다.')"
      ],
      "metadata": {
        "colab": {
          "base_uri": "https://localhost:8080/"
        },
        "id": "puLKO9GiCJf3",
        "outputId": "2fb31552-fce5-45af-96f5-f91ac25cd7d3"
      },
      "execution_count": null,
      "outputs": [
        {
          "output_type": "stream",
          "name": "stdout",
          "text": [
            "현제 숫자는 0입니다\n",
            "현제 숫자는 1입니다\n",
            "현제 숫자는 2입니다\n",
            "현제 숫자는 3입니다\n"
          ]
        }
      ]
    },
    {
      "cell_type": "markdown",
      "source": [
        "##클래스"
      ],
      "metadata": {
        "id": "9rKblydJCj5L"
      }
    },
    {
      "cell_type": "code",
      "source": [
        "#클래스 공부\n",
        "\n",
        "class Car: #차의 설계 도면 또는 차 공장 => 클래스\n",
        "    max_speed = 300\n",
        "    max_people = 5\n",
        "    car_gear = ['P', 'D', 'R', 'N']\n",
        "\n",
        "    def start(self):\n",
        "        print('자동차 출발합니다!')\n",
        "\n",
        "    def stop(self):\n",
        "        print('차가 멈췄습니다.')\n",
        "\n",
        "#공장에서 막 찍혀나온 자동차 3대\n",
        "# model x, y, s => 인스턴스\n",
        "\n",
        "modelx = Car() # 인트턴스 = 클래스()\n",
        "modely = Car()\n",
        "models = Car()\n",
        "\n",
        "# Car.max_speed #modelx의 속도를 보고 싶으면 modelx.max_speed를 찍어야 합니다.\n",
        "# modelx를 제가 구매했습니다.\n",
        "\n",
        "print(modelx.max_speed)\n",
        "print(modelx.car_gear[1])\n",
        "modelx.start()\n",
        "modelx.stop()\n"
      ],
      "metadata": {
        "colab": {
          "base_uri": "https://localhost:8080/"
        },
        "id": "kPtLpS2oCi--",
        "outputId": "c1687e8e-5d2c-4a8c-c195-ec22a3ddf1ac"
      },
      "execution_count": 6,
      "outputs": [
        {
          "output_type": "stream",
          "name": "stdout",
          "text": [
            "300\n",
            "D\n",
            "자동차 출발합니다!\n",
            "차가 멈췄습니다.\n"
          ]
        }
      ]
    },
    {
      "cell_type": "code",
      "source": [
        "l = [1, 2, 3]\n",
        "l.append(3)\n",
        "l"
      ],
      "metadata": {
        "colab": {
          "base_uri": "https://localhost:8080/"
        },
        "id": "Q8BzH_XI1GH8",
        "outputId": "c58c731d-bd94-4c71-be65-c93772c238b5"
      },
      "execution_count": 4,
      "outputs": [
        {
          "output_type": "execute_result",
          "data": {
            "text/plain": [
              "[1, 2, 3, 3]"
            ]
          },
          "metadata": {},
          "execution_count": 4
        }
      ]
    },
    {
      "cell_type": "code",
      "source": [
        "#int, float, str과 같은 새로운 Car는 type을 만들고 있는 것입니다.\n",
        "\n",
        "print(type(models))\n",
        "print(dir(models))"
      ],
      "metadata": {
        "colab": {
          "base_uri": "https://localhost:8080/"
        },
        "id": "o4mg9cBy1TBV",
        "outputId": "845a4ea1-15c6-4baf-b5bb-858392c86f20"
      },
      "execution_count": 7,
      "outputs": [
        {
          "output_type": "stream",
          "name": "stdout",
          "text": [
            "<class '__main__.Car'>\n",
            "['__class__', '__delattr__', '__dict__', '__dir__', '__doc__', '__eq__', '__format__', '__ge__', '__getattribute__', '__gt__', '__hash__', '__init__', '__init_subclass__', '__le__', '__lt__', '__module__', '__ne__', '__new__', '__reduce__', '__reduce_ex__', '__repr__', '__setattr__', '__sizeof__', '__str__', '__subclasshook__', '__weakref__', 'car_gear', 'max_people', 'max_speed', 'start', 'stop']\n"
          ]
        }
      ]
    },
    {
      "cell_type": "code",
      "source": [
        "x = int(3)\n",
        "# x는 int라는 class의 인스턴스로 적용\n",
        "type(x)"
      ],
      "metadata": {
        "colab": {
          "base_uri": "https://localhost:8080/"
        },
        "id": "woKri6x51nBv",
        "outputId": "13e27ba8-83bc-45eb-8083-ac75c3bc376c"
      },
      "execution_count": 8,
      "outputs": [
        {
          "output_type": "execute_result",
          "data": {
            "text/plain": [
              "int"
            ]
          },
          "metadata": {},
          "execution_count": 8
        }
      ]
    },
    {
      "cell_type": "code",
      "source": [
        "print(isinstance(x, int))"
      ],
      "metadata": {
        "colab": {
          "base_uri": "https://localhost:8080/"
        },
        "id": "tbc21EiP1v0m",
        "outputId": "aa36d5de-9238-465a-e389-13dc4d681dd4"
      },
      "execution_count": 9,
      "outputs": [
        {
          "output_type": "stream",
          "name": "stdout",
          "text": [
            "True\n"
          ]
        }
      ]
    },
    {
      "cell_type": "code",
      "source": [
        "# x = int(3) 에서 넣었던 3이라는 값이 어떻게 처리되는지 확인\n",
        "\n",
        "class Car:\n",
        "    max_speed = 300\n",
        "    max_people = 5\n",
        "    car_gear = ['P', 'D', 'R', 'N']\n",
        "\n",
        "    def __init__(self, name): #클래스로 인스턴스를 만들 때 호출\n",
        "        self.name = name\n",
        "\n",
        "    def start(self):\n",
        "        print('자동차 출발~')\n",
        "    def stop(self):\n",
        "        print('자동차 정지~')\n",
        "\n",
        "modelx = Car('테슬라 모델 X') # x = int(3) 여기서 넣었던 3이 __init__메직메서드에서 처리\n",
        "print(modelx.name)\n",
        "modelx.stop()"
      ],
      "metadata": {
        "colab": {
          "base_uri": "https://localhost:8080/"
        },
        "id": "3VSLAqLS11Su",
        "outputId": "7ad72ed3-7859-4556-c23c-e433236fbbb3"
      },
      "execution_count": 17,
      "outputs": [
        {
          "output_type": "stream",
          "name": "stdout",
          "text": [
            "테슬라 모델 X\n",
            "자동차 정지~\n"
          ]
        }
      ]
    },
    {
      "cell_type": "code",
      "source": [
        "# 실제 게임 코드 예시\n",
        "\n",
        "class Character:\n",
        "    def __init__(self, name, role, hp, mp, power):\n",
        "        self.name = name\n",
        "        self.role = role\n",
        "        self.hp = hp\n",
        "        self.mp = mp\n",
        "        self.power = power\n",
        "\n",
        "    def attack(self):\n",
        "        print('공격~~')\n",
        "    def defense(self):\n",
        "        print('방어~~')\n",
        "\n",
        "용사 = Character('용사1', '전사', 100,  50, 100)\n",
        "무직백수 = Character('무직백수', '백수', 50,  10, 50)\n",
        "#이런직으로 여러 등장인물을 코딩할 수 있습니다."
      ],
      "metadata": {
        "id": "me0QdE-23KpM"
      },
      "execution_count": 31,
      "outputs": []
    },
    {
      "cell_type": "code",
      "source": [
        "class Person:\n",
        "    name = 'jun' #클래스 변수\n",
        "    def __init__(self, name):\n",
        "        self.name = name #인스턴스 변수\n",
        "\n",
        "hojun = Person('hojun')\n",
        "hojun.name, Person.name"
      ],
      "metadata": {
        "colab": {
          "base_uri": "https://localhost:8080/"
        },
        "id": "4LNmDhVc5Fzj",
        "outputId": "68067b1c-e909-4159-85d7-2e2147c237a1"
      },
      "execution_count": 33,
      "outputs": [
        {
          "output_type": "execute_result",
          "data": {
            "text/plain": [
              "('hojun', 'jun')"
            ]
          },
          "metadata": {},
          "execution_count": 33
        }
      ]
    },
    {
      "cell_type": "code",
      "source": [
        "class Person:\n",
        "    name = 'jun'\n",
        "    def __init__(self, name):\n",
        "        def hello():\n",
        "            print('hello world')\n",
        "        hello()\n",
        "        self.name = name # 인스턴스 변수\n",
        "\n",
        "hojun = Person('hojun')\n",
        "hojun.name, Person.name\n"
      ],
      "metadata": {
        "colab": {
          "base_uri": "https://localhost:8080/"
        },
        "id": "VpTFDARR5ghC",
        "outputId": "ad6c3191-0aab-45ec-8e2f-b19e635c0f50"
      },
      "execution_count": 39,
      "outputs": [
        {
          "output_type": "stream",
          "name": "stdout",
          "text": [
            "hello world\n"
          ]
        },
        {
          "output_type": "execute_result",
          "data": {
            "text/plain": [
              "('hojun', 'jun')"
            ]
          },
          "metadata": {},
          "execution_count": 39
        }
      ]
    },
    {
      "cell_type": "code",
      "source": [
        "class Car:\n",
        "    #클래스 변수의 위치\n",
        "    max_speed = 500\n",
        "    max_people = 5\n",
        "    car_gear = ['P', 'D', 'R', 'N']\n",
        "\n",
        "modelx = Car()\n",
        "print(Car.max_speed)\n",
        "print(modelx.max_speed)"
      ],
      "metadata": {
        "colab": {
          "base_uri": "https://localhost:8080/"
        },
        "id": "IfU4opWc5xD5",
        "outputId": "de2c5e37-7959-4386-c945-e18941b469d0"
      },
      "execution_count": 40,
      "outputs": [
        {
          "output_type": "stream",
          "name": "stdout",
          "text": [
            "500\n",
            "500\n"
          ]
        }
      ]
    },
    {
      "cell_type": "code",
      "source": [
        "class Car:\n",
        "    kinds = []\n",
        "    speed = 300\n",
        "    def __init__(self, name):\n",
        "        self.name = name\n",
        "    def add_kinds(self, name):\n",
        "        self.kinds.append(name)\n",
        "\n",
        "    def change_speed(self, speed):\n",
        "        self.speed = speed\n",
        "\n",
        "modelx = Car('modelx')\n",
        "modely = Car('modely')\n",
        "\n",
        "modelx.add_kinds('x')\n",
        "modely.add_kinds('y')\n",
        "modelx.change_speed(500)\n",
        "modelx.change_speed(1000)\n",
        "\n",
        "def intro(name):\n",
        "    print(f'이 차의 이름은 {name.name}이며 속도는 {name.speed}입니다.')\n",
        "    #kinds가 클래스 변수이기 때문에 kinds에서 둘 다 추가된 상태\n",
        "    print(f'{name.name}의 kinds는 현재 {name.kinds}입니다')\n",
        "intro(modelx)\n",
        "intro(modely)\n"
      ],
      "metadata": {
        "colab": {
          "base_uri": "https://localhost:8080/"
        },
        "id": "c_6fLmcg55cw",
        "outputId": "990ac7f2-296e-49c1-aa45-72c6c70cc52d"
      },
      "execution_count": 48,
      "outputs": [
        {
          "output_type": "stream",
          "name": "stdout",
          "text": [
            "이 차의 이름은 modelx이며 속도는 1000입니다.\n",
            "modelx의 kinds는 현재 ['x', 'y']입니다\n",
            "이 차의 이름은 modely이며 속도는 300입니다.\n",
            "modely의 kinds는 현재 ['x', 'y']입니다\n"
          ]
        }
      ]
    },
    {
      "cell_type": "code",
      "source": [
        " speed = 300 #전역변수\n",
        "\n",
        " def change_speed(value):\n",
        "    speed = value #지역변수\n",
        "\n",
        "change_speed(100)\n",
        "speed #바뀌지않고 300으로 출력됨"
      ],
      "metadata": {
        "colab": {
          "base_uri": "https://localhost:8080/"
        },
        "id": "aW3f5j1m8NfX",
        "outputId": "5c224b38-91d9-4f09-d9b7-db8fe4e1fc34"
      },
      "execution_count": 49,
      "outputs": [
        {
          "output_type": "execute_result",
          "data": {
            "text/plain": [
              "300"
            ]
          },
          "metadata": {},
          "execution_count": 49
        }
      ]
    },
    {
      "cell_type": "code",
      "source": [
        "kinds = []\n",
        "\n",
        "def add_kinds(value):\n",
        "    kinds.append(value)\n",
        "\n",
        "add_kinds(100)\n",
        "kinds"
      ],
      "metadata": {
        "colab": {
          "base_uri": "https://localhost:8080/"
        },
        "id": "JTE50jpZ8e95",
        "outputId": "dca74fe8-9e3c-4e86-a116-c99632130fd3"
      },
      "execution_count": 66,
      "outputs": [
        {
          "output_type": "execute_result",
          "data": {
            "text/plain": [
              "[100]"
            ]
          },
          "metadata": {},
          "execution_count": 66
        }
      ]
    },
    {
      "cell_type": "code",
      "source": [
        "class Car:\n",
        "    max_speed = 300\n",
        "\n",
        "    def __init__(self, name): #self는 자신만의 영역\n",
        "        self.name = name\n",
        "\n",
        "    def start(self, speed): #self는 자신만의 영역\n",
        "        self.speed = speed\n",
        "        return f'{self.name}차가 {self.speed}의 속력으로 움직이고 있습니다.'\n",
        "\n",
        "modelx = Car('Tesla Model X')\n",
        "print(modelx.name)\n",
        "print(modelx.start(20))"
      ],
      "metadata": {
        "colab": {
          "base_uri": "https://localhost:8080/"
        },
        "id": "HbfLUlXx8n3N",
        "outputId": "55a59355-e2f2-4508-d1d4-a6a2454df25c"
      },
      "execution_count": 74,
      "outputs": [
        {
          "output_type": "stream",
          "name": "stdout",
          "text": [
            "Tesla Model X\n",
            "Tesla Model X차가 20의 속력으로 움직이고 있습니다.\n"
          ]
        }
      ]
    },
    {
      "cell_type": "code",
      "source": [
        "class Car:\n",
        "    max_speed = 300\n",
        "\n",
        "    def __init__(self, name): # self는 자신만의 영역\n",
        "        self.name = name\n",
        "\n",
        "    def start(self, speed): # self는 자신만의 영역\n",
        "        self.speed = speed\n",
        "        return f'{self.name}차가 {self.speed}의 속력으로 움직이고 있습니다.'\n",
        "\n",
        "modelx = Car('Tesla Model X')\n",
        "modelx.name = 'ModelY'\n",
        "modelx.welcome = 'hello world'\n",
        "print(modelx.name, modelx.welcome)"
      ],
      "metadata": {
        "colab": {
          "base_uri": "https://localhost:8080/"
        },
        "id": "Q-W5UOjq9xAw",
        "outputId": "c6218fbe-7fcc-47cd-ce17-4133b19b2875"
      },
      "execution_count": 75,
      "outputs": [
        {
          "output_type": "stream",
          "name": "stdout",
          "text": [
            "ModelY hello world\n"
          ]
        }
      ]
    },
    {
      "cell_type": "code",
      "source": [
        "# 인스턴스 변수 선언을 허락하고 있지 않습니다!\n",
        "s = 10\n",
        "s.hi = 'hi, world'\n",
        "s.hi\n",
        "#AttributeError: 'int' object has no attribute 'hi'"
      ],
      "metadata": {
        "id": "L1-DtdsZ-GVb"
      },
      "execution_count": null,
      "outputs": []
    },
    {
      "cell_type": "code",
      "source": [
        "s = 'hello'\n",
        "s.hi = '안녕~'\n",
        "s.hi\n",
        "#AttributeError: 'str' object has no attribute 'hi'"
      ],
      "metadata": {
        "id": "Q20AixzV-MmV"
      },
      "execution_count": null,
      "outputs": []
    },
    {
      "cell_type": "code",
      "source": [
        "s = [10, 20, 30]\n",
        "s.hi = 'hi, world'\n",
        "s.hi\n",
        "#AttributeError: 'list' object has no attribute 'hi'"
      ],
      "metadata": {
        "id": "Fol_YozP-Xr4"
      },
      "execution_count": null,
      "outputs": []
    },
    {
      "cell_type": "code",
      "source": [
        "s = {'one':1}\n",
        "s.hi = 'hi, world'\n",
        "s.hi\n",
        "#AttributeError: 'dict' object has no attribute 'hi'"
      ],
      "metadata": {
        "id": "1Qh89koI-cRj"
      },
      "execution_count": null,
      "outputs": []
    },
    {
      "cell_type": "code",
      "source": [
        "hero = {\n",
        "    'name': 'Jun',\n",
        "    'hp': 100,\n",
        "    'mp': 100,\n",
        "    'power': 30,\n",
        "    'drop_rate': 0,\n",
        "    'attack': lambda :f'{hero[\"power\"]}에 파워로 공격하였습니다.',\n",
        "}\n",
        "\n",
        "print(hero['hp'])\n",
        "print(hero['attack']())  # 출력: 30에 파워로 공격하였습니다."
      ],
      "metadata": {
        "colab": {
          "base_uri": "https://localhost:8080/"
        },
        "id": "zJofousk-foY",
        "outputId": "fea197fc-d2f3-4826-d811-d15b963ec1f2"
      },
      "execution_count": 82,
      "outputs": [
        {
          "output_type": "stream",
          "name": "stdout",
          "text": [
            "100\n",
            "30에 파워로 공격하였습니다.\n"
          ]
        }
      ]
    },
    {
      "cell_type": "code",
      "source": [
        "def create_character(name, hp, mp, power):\n",
        "    data = {\n",
        "        'name' : name,\n",
        "        'hp' : hp,\n",
        "        'mp' : mp,\n",
        "        'power' : power\n",
        "    }\n",
        "\n",
        "    def get_data(key):\n",
        "        return data[key]\n",
        "\n",
        "    def attack():\n",
        "        return f\"{get_data('power')}에 파워로 공격하였습니다.\"\n",
        "\n",
        "    return {'attack' : attack}\n",
        "\n",
        "hero = create_character('용사1', 100, 50, 30)\n",
        "\n",
        "print(hero['attack']())"
      ],
      "metadata": {
        "colab": {
          "base_uri": "https://localhost:8080/"
        },
        "id": "PylNpxtl-xSe",
        "outputId": "d42461a3-8fb1-45ae-8856-eaefbf34bbd7"
      },
      "execution_count": 97,
      "outputs": [
        {
          "output_type": "stream",
          "name": "stdout",
          "text": [
            "30에 파워로 공격하였습니다.\n"
          ]
        }
      ]
    },
    {
      "cell_type": "code",
      "source": [
        "#저라면 Car에서는 __add__를 구현하지 않았을 겁니다.\n",
        "class Car:\n",
        "    max_speed = 300\n",
        "\n",
        "    def __init__(self, name):\n",
        "        self.name = name\n",
        "\n",
        "    def start(self):\n",
        "        print('자동차 출발~')\n",
        "\n",
        "modelx = Car('모델X')\n",
        "print(modelx.name)\n",
        "modelx.start()"
      ],
      "metadata": {
        "colab": {
          "base_uri": "https://localhost:8080/"
        },
        "id": "rz7f8GOCAt29",
        "outputId": "b8607368-33ef-473f-c32c-d0a6e52c4e53"
      },
      "execution_count": 110,
      "outputs": [
        {
          "output_type": "stream",
          "name": "stdout",
          "text": [
            "모델X\n",
            "자동차 출발~\n"
          ]
        }
      ]
    },
    {
      "cell_type": "code",
      "source": [
        "#좌표를 클래스화\n",
        "class Coordinate:\n",
        "\n",
        "    def __init__(self, x, y):\n",
        "        self.x = x\n",
        "        self.y = y\n",
        "\n",
        "    def __add__(self, other):\n",
        "        return [(self.x + other.x), (self.y + other.y)]\n",
        "\n",
        "dot1 = Coordinate(10, 20)\n",
        "dot2 = Coordinate(20, 30)\n",
        "\n",
        "dot1 + dot2"
      ],
      "metadata": {
        "colab": {
          "base_uri": "https://localhost:8080/"
        },
        "id": "PjH0lTYgDHgr",
        "outputId": "6724e966-f2b0-4531-d9e6-8de31051edf7"
      },
      "execution_count": 117,
      "outputs": [
        {
          "output_type": "execute_result",
          "data": {
            "text/plain": [
              "[30, 50]"
            ]
          },
          "metadata": {},
          "execution_count": 117
        }
      ]
    },
    {
      "cell_type": "code",
      "source": [
        "#자표 클래스 예제\n",
        "\n",
        "class Point:\n",
        "\n",
        "    def __init__(self, x, y):\n",
        "        self.x = x\n",
        "        self.y = y\n",
        "\n",
        "    def __add__(self, other):\n",
        "        if isinstance(other, Point):\n",
        "            return Point((self.x + other.x), (self.y + other.y))\n",
        "        elif isinstance(other, int) or isinstance(other, float):\n",
        "            return Point((self.x + other), (self.y + other))\n",
        "\n",
        "    def distance(self, other):\n",
        "        dx = self.x - other.x\n",
        "        dy = self.y - other.y\n",
        "        return round((dx**2 + dy**2)**0.5, 3)\n",
        "\n",
        "dot1 = Point(0, 20)\n",
        "dot2 = Point(20, 30)\n",
        "\n",
        "dot3 = dot1 + 10\n",
        "print(dot1.x , dot1.y)\n",
        "print(dot3.x , dot3.y)\n",
        "\n",
        "dot4 = dot1 + dot2\n",
        "print(dot4.x , dot4.y)\n",
        "\n",
        "print(dot1.distance(dot3))\n",
        "print(dot4.distance(dot1))"
      ],
      "metadata": {
        "colab": {
          "base_uri": "https://localhost:8080/"
        },
        "id": "IgrxQ1wyELvF",
        "outputId": "814c7234-7c2e-4597-f14c-c80ab7c1244d"
      },
      "execution_count": 124,
      "outputs": [
        {
          "output_type": "stream",
          "name": "stdout",
          "text": [
            "0 20\n",
            "10 30\n",
            "20 50\n",
            "14.142\n",
            "36.056\n"
          ]
        }
      ]
    },
    {
      "cell_type": "code",
      "source": [
        "class Point:\n",
        "\n",
        "    def __init__(self, x, y):\n",
        "        self.x = x\n",
        "        self.y = y\n",
        "\n",
        "    def __mul__(self, other):\n",
        "        dx = self.x - other.x\n",
        "        dy = self.y - other.y\n",
        "\n",
        "        return [(dx**2), (dy**2)]\n",
        "\n",
        "dot1 = Point(10, 20)\n",
        "dot2 = Point(30, 40)\n",
        "\n",
        "dot1 * dot2"
      ],
      "metadata": {
        "colab": {
          "base_uri": "https://localhost:8080/"
        },
        "id": "RpXK5pkZGCfI",
        "outputId": "636908c6-9834-459d-884e-6bb227b66562"
      },
      "execution_count": 126,
      "outputs": [
        {
          "output_type": "execute_result",
          "data": {
            "text/plain": [
              "[400, 400]"
            ]
          },
          "metadata": {},
          "execution_count": 126
        }
      ]
    },
    {
      "cell_type": "code",
      "source": [
        "#메트릭스 예제\n",
        "\n",
        "class Matrix:\n",
        "\n",
        "    def __init__(self, value):\n",
        "        self.value = value\n",
        "\n",
        "    def __add__(self, other):\n",
        "        result = []\n",
        "        for i in range(len(self.value)):\n",
        "            result.append(self.value[i] + other.value[i])\n",
        "        return result\n",
        "\n",
        "m1 = Matrix([10, 20, 30])\n",
        "m2 = Matrix([20, 30, 40])\n",
        "\n",
        "m1 + m2"
      ],
      "metadata": {
        "colab": {
          "base_uri": "https://localhost:8080/"
        },
        "id": "HdBpRlFEGuJK",
        "outputId": "3cf5ba85-2a4b-4634-b2a7-8f2c85d20ed9"
      },
      "execution_count": 127,
      "outputs": [
        {
          "output_type": "execute_result",
          "data": {
            "text/plain": [
              "[30, 50, 70]"
            ]
          },
          "metadata": {},
          "execution_count": 127
        }
      ]
    },
    {
      "cell_type": "code",
      "source": [
        "class Matrix:\n",
        "\n",
        "    def __init__(self, value):\n",
        "        self.value = value\n",
        "\n",
        "    def __add__(self, other):\n",
        "        result = []\n",
        "        for i in range(len(self.value)):\n",
        "            result.append(self.value[i] + other.value[i])\n",
        "        return result\n",
        "\n",
        "    def __mul__(self, other):\n",
        "        if isinstance(other, int):\n",
        "            return [i * other for i in self.value]\n",
        "        raise TypeError('int형 외에 곱을 허락하지 않습니다!')\n",
        "\n",
        "m1 = Matrix([10, 20, 30])\n",
        "m2 = Matrix([20, 50, 40])\n",
        "\n",
        "m1 * 3 #30 60 90\n",
        "m1 * [1, 2, 3]"
      ],
      "metadata": {
        "colab": {
          "base_uri": "https://localhost:8080/",
          "height": 343
        },
        "id": "RSPa4ha2IVKt",
        "outputId": "5f846059-9375-42d3-e702-baa6e674ab04"
      },
      "execution_count": 129,
      "outputs": [
        {
          "output_type": "error",
          "ename": "TypeError",
          "evalue": "ignored",
          "traceback": [
            "\u001b[0;31m---------------------------------------------------------------------------\u001b[0m",
            "\u001b[0;31mTypeError\u001b[0m                                 Traceback (most recent call last)",
            "\u001b[0;32m<ipython-input-129-e602db75b149>\u001b[0m in \u001b[0;36m<cell line: 21>\u001b[0;34m()\u001b[0m\n\u001b[1;32m     19\u001b[0m \u001b[0;34m\u001b[0m\u001b[0m\n\u001b[1;32m     20\u001b[0m \u001b[0mm1\u001b[0m \u001b[0;34m*\u001b[0m \u001b[0;36m3\u001b[0m\u001b[0;34m\u001b[0m\u001b[0;34m\u001b[0m\u001b[0m\n\u001b[0;32m---> 21\u001b[0;31m \u001b[0mm1\u001b[0m \u001b[0;34m*\u001b[0m \u001b[0;34m[\u001b[0m\u001b[0;36m1\u001b[0m\u001b[0;34m,\u001b[0m \u001b[0;36m2\u001b[0m\u001b[0;34m,\u001b[0m \u001b[0;36m3\u001b[0m\u001b[0;34m]\u001b[0m\u001b[0;34m\u001b[0m\u001b[0;34m\u001b[0m\u001b[0m\n\u001b[0m",
            "\u001b[0;32m<ipython-input-129-e602db75b149>\u001b[0m in \u001b[0;36m__mul__\u001b[0;34m(self, other)\u001b[0m\n\u001b[1;32m     13\u001b[0m         \u001b[0;32mif\u001b[0m \u001b[0misinstance\u001b[0m\u001b[0;34m(\u001b[0m\u001b[0mother\u001b[0m\u001b[0;34m,\u001b[0m \u001b[0mint\u001b[0m\u001b[0;34m)\u001b[0m\u001b[0;34m:\u001b[0m\u001b[0;34m\u001b[0m\u001b[0;34m\u001b[0m\u001b[0m\n\u001b[1;32m     14\u001b[0m             \u001b[0;32mreturn\u001b[0m \u001b[0;34m[\u001b[0m\u001b[0mi\u001b[0m \u001b[0;34m*\u001b[0m \u001b[0mother\u001b[0m \u001b[0;32mfor\u001b[0m \u001b[0mi\u001b[0m \u001b[0;32min\u001b[0m \u001b[0mself\u001b[0m\u001b[0;34m.\u001b[0m\u001b[0mvalue\u001b[0m\u001b[0;34m]\u001b[0m\u001b[0;34m\u001b[0m\u001b[0;34m\u001b[0m\u001b[0m\n\u001b[0;32m---> 15\u001b[0;31m         \u001b[0;32mraise\u001b[0m \u001b[0mTypeError\u001b[0m\u001b[0;34m(\u001b[0m\u001b[0;34m'int형 외에 곱을 허락하지 않습니다!'\u001b[0m\u001b[0;34m)\u001b[0m\u001b[0;34m\u001b[0m\u001b[0;34m\u001b[0m\u001b[0m\n\u001b[0m\u001b[1;32m     16\u001b[0m \u001b[0;34m\u001b[0m\u001b[0m\n\u001b[1;32m     17\u001b[0m \u001b[0mm1\u001b[0m \u001b[0;34m=\u001b[0m \u001b[0mMatrix\u001b[0m\u001b[0;34m(\u001b[0m\u001b[0;34m[\u001b[0m\u001b[0;36m10\u001b[0m\u001b[0;34m,\u001b[0m \u001b[0;36m20\u001b[0m\u001b[0;34m,\u001b[0m \u001b[0;36m30\u001b[0m\u001b[0;34m]\u001b[0m\u001b[0;34m)\u001b[0m\u001b[0;34m\u001b[0m\u001b[0;34m\u001b[0m\u001b[0m\n",
            "\u001b[0;31mTypeError\u001b[0m: int형 외에 곱을 허락하지 않습니다!"
          ]
        }
      ]
    },
    {
      "cell_type": "code",
      "source": [
        "[1, 2, 3] * [1, 2, 3]"
      ],
      "metadata": {
        "colab": {
          "base_uri": "https://localhost:8080/",
          "height": 181
        },
        "id": "GIrwWTAUJgcv",
        "outputId": "284e0656-76d7-40b9-8c8a-d9e58ce840cf"
      },
      "execution_count": 130,
      "outputs": [
        {
          "output_type": "error",
          "ename": "TypeError",
          "evalue": "ignored",
          "traceback": [
            "\u001b[0;31m---------------------------------------------------------------------------\u001b[0m",
            "\u001b[0;31mTypeError\u001b[0m                                 Traceback (most recent call last)",
            "\u001b[0;32m<ipython-input-130-4fc0609f657e>\u001b[0m in \u001b[0;36m<cell line: 1>\u001b[0;34m()\u001b[0m\n\u001b[0;32m----> 1\u001b[0;31m \u001b[0;34m[\u001b[0m\u001b[0;36m1\u001b[0m\u001b[0;34m,\u001b[0m \u001b[0;36m2\u001b[0m\u001b[0;34m,\u001b[0m \u001b[0;36m3\u001b[0m\u001b[0;34m]\u001b[0m \u001b[0;34m*\u001b[0m \u001b[0;34m[\u001b[0m\u001b[0;36m1\u001b[0m\u001b[0;34m,\u001b[0m \u001b[0;36m2\u001b[0m\u001b[0;34m,\u001b[0m \u001b[0;36m3\u001b[0m\u001b[0;34m]\u001b[0m\u001b[0;34m\u001b[0m\u001b[0;34m\u001b[0m\u001b[0m\n\u001b[0m",
            "\u001b[0;31mTypeError\u001b[0m: can't multiply sequence by non-int of type 'list'"
          ]
        }
      ]
    },
    {
      "cell_type": "code",
      "source": [
        "# 단순화 시키긴 했으나 실제 아래와 같이 만듭니다.\n",
        "\n",
        "class 게시물설계도:\n",
        "    _id = int()\n",
        "    title = str()\n",
        "    contents = str()\n",
        "    author = str()\n",
        "    create_time = str()\n",
        "    update_time = str()\n",
        "    view_count = int()\n",
        "    last_connect_location = str()\n",
        "    last_connect_time = str()\n",
        "\n",
        "게시물1 = 게시물설계도()\n",
        "게시물2 = 게시물설계도()"
      ],
      "metadata": {
        "id": "ctD6zLJmJm_A"
      },
      "execution_count": null,
      "outputs": []
    },
    {
      "cell_type": "code",
      "source": [
        "#아래 기본 data를 기반으로 문제를 풀어주세요.\n",
        "\n",
        "data = [\n",
        "    {\n",
        "    \"_id\": \"fd7e9a0f-e77b-436a-B781-119b66033d49\",\n",
        "    \"index\": \"1\",\n",
        "    \"name\": \"나주헌\",\n",
        "    \"gender\": \"여성\",\n",
        "    \"age\": \"43\"\n",
        "  },\n",
        "  {\n",
        "    \"_id\": \"8ec6eabb-160a-41e4-A3de-cd33aff0b281\",\n",
        "    \"index\": \"2\",\n",
        "    \"name\": \"엄루다\",\n",
        "    \"gender\": \"남성\",\n",
        "    \"age\": \"22\"\n",
        "  },\n",
        "  {\n",
        "    \"_id\": \"bcf804f7-0452-4c31-B9d1-20cc2d38490b\",\n",
        "    \"index\": \"3\",\n",
        "    \"name\": \"형유환\",\n",
        "    \"gender\": \"남성\",\n",
        "    \"age\": \"31\"\n",
        "  }\n",
        "]"
      ],
      "metadata": {
        "id": "lJXGfZIaKETo"
      },
      "execution_count": 132,
      "outputs": []
    },
    {
      "cell_type": "code",
      "source": [
        "# 문제 1 gender, age값을 추출해보세요. 아래 양식처럼 추출하시면 됩니다. 가능하면 map을 사용해주세요.\n",
        "'''\n",
        " [\n",
        "  {\n",
        "    \"gender\": \"여성\",\n",
        "    \"age\": \"43\"\n",
        "  },\n",
        "  {\n",
        "    \"gender\": \"남성\",\n",
        "    \"age\": \"22\"\n",
        "  },\n",
        "  {\n",
        "    \"gender\": \"남성\",\n",
        "    \"age\": \"31\"\n",
        "  }\n",
        "]\n",
        "'''\n",
        "\n",
        "\n",
        "def 성별나이추출기(data):\n",
        "    result = list(map(lambda x: {'gender' : x['gender'], 'age' : x['age']}, data))\n",
        "    print(result)\n",
        "\n",
        "성별나이추출기(data)\n"
      ],
      "metadata": {
        "colab": {
          "base_uri": "https://localhost:8080/"
        },
        "id": "TlTKPBJoKNX_",
        "outputId": "fb05d420-3779-49f7-debb-e24f9e1975fe"
      },
      "execution_count": 141,
      "outputs": [
        {
          "output_type": "stream",
          "name": "stdout",
          "text": [
            "[{'gender': '여성', 'age': '43'}, {'gender': '남성', 'age': '22'}, {'gender': '남성', 'age': '31'}]\n"
          ]
        }
      ]
    },
    {
      "cell_type": "code",
      "source": [
        "# 문제 2 User라는 class를 만들어 해당 데이터를 관리해주세요.\n",
        "# 아래처럼 저장되어야 합니다.\n",
        "# 다만 꼭 변수 이름이 user_1...user_n 일 필요는 없습니다.\n",
        "# 저장양식: '[user_1, user_2, user_3]'"
      ],
      "metadata": {
        "id": "Uu_zZA46NnE5"
      },
      "execution_count": null,
      "outputs": []
    },
    {
      "cell_type": "code",
      "source": [
        "# 우리 수업에서 Django에서 사용되고\n",
        "# 곧 나올 크롤링 같은 곳에서도 많이 사용됩니다.\n",
        "# 1. 속도: 기본자료형보다 훨신 빠릅니다.\n",
        "# 2. 메서드 구현: User클래스를 가지고 20 ~ 30, 30 ~ 40, 40 ~ 50별 타겟팅 광고\n",
        "\n",
        "class User():\n",
        "    def __init__(self, data):\n",
        "        self._id = data['_id']\n",
        "        self._index = data['index']\n",
        "        self.name = data['name']\n",
        "        self.gender = data['gender']\n",
        "        self.age = data['age']\n",
        "\n",
        "\n",
        "\n",
        "user_1 = User(data[0])\n",
        "user_2 = User(data[1])\n",
        "user_3 = User(data[2])\n",
        "\n",
        "\n",
        "user_list = [user_1, user_2, user_3]\n",
        "user_list[0].name\n",
        "for i in user_list:\n",
        "    print(i.age)"
      ],
      "metadata": {
        "colab": {
          "base_uri": "https://localhost:8080/"
        },
        "id": "HjXjj7gNNp-j",
        "outputId": "d0d42cee-5c33-4da2-901f-d31fe22751d3"
      },
      "execution_count": 147,
      "outputs": [
        {
          "output_type": "stream",
          "name": "stdout",
          "text": [
            "43\n",
            "22\n",
            "31\n"
          ]
        }
      ]
    },
    {
      "cell_type": "code",
      "source": [
        "#이런식으로 활용가능\n",
        "\n",
        "class User:\n",
        "    def __init__(self, _id, index, name, gender, age):\n",
        "        self._id = _id\n",
        "        self.index = index\n",
        "        self.name = name\n",
        "        self.gender = gender\n",
        "        self.age = age\n",
        "\n",
        "    def __repr__(self):\n",
        "        return f'user_{self.index}'\n",
        "\n",
        "users = [User(**x) for x in data]\n",
        "print(users)\n",
        "users[0].name"
      ],
      "metadata": {
        "colab": {
          "base_uri": "https://localhost:8080/",
          "height": 53
        },
        "id": "EfYpG1T-PYBK",
        "outputId": "150340ae-6e5b-45d3-d0b3-f931d50805a1"
      },
      "execution_count": 149,
      "outputs": [
        {
          "output_type": "stream",
          "name": "stdout",
          "text": [
            "[user_1, user_2, user_3]\n"
          ]
        },
        {
          "output_type": "execute_result",
          "data": {
            "text/plain": [
              "'나주헌'"
            ],
            "application/vnd.google.colaboratory.intrinsic+json": {
              "type": "string"
            }
          },
          "metadata": {},
          "execution_count": 149
        }
      ]
    },
    {
      "cell_type": "code",
      "source": [
        "from dataclasses import dataclass\n",
        "\n",
        "@dataclass\n",
        "class User:\n",
        "    id: int\n",
        "    name: str\n",
        "    email: str\n",
        "\n",
        "user = User(123, 'hojun', 'testemail@gmail.com')\n",
        "user"
      ],
      "metadata": {
        "colab": {
          "base_uri": "https://localhost:8080/"
        },
        "id": "LagUJz4tRBOi",
        "outputId": "8d4fd3b8-41ba-4b1d-8a6c-5bd7fe4f435a"
      },
      "execution_count": 150,
      "outputs": [
        {
          "output_type": "execute_result",
          "data": {
            "text/plain": [
              "User(id=123, name='hojun', email='testemail@gmail.com')"
            ]
          },
          "metadata": {},
          "execution_count": 150
        }
      ]
    },
    {
      "cell_type": "code",
      "source": [
        "class BankAccount:\n",
        "    def __init__(self, owner, balance=0):\n",
        "        self.owner = owner\n",
        "        self.balance = balance\n",
        "\n",
        "    def deposit(self, amount):\n",
        "        self.balance += amount\n",
        "        return self.balance\n",
        "\n",
        "    def withdraw(self, amount):\n",
        "        if amount > self.balance:\n",
        "            print('잔액 부족')\n",
        "        else:\n",
        "            self.balance -= amount\n",
        "            return self.balance\n",
        "    def 잔액확인(self):\n",
        "        return f'현재 잔액은 {self.balance}원 입니다.'\n",
        "내텅장 = BankAccount('김창환', 100000 )\n",
        "내텅장.deposit(200000)\n",
        "내텅장.잔액확인()"
      ],
      "metadata": {
        "colab": {
          "base_uri": "https://localhost:8080/",
          "height": 35
        },
        "id": "pBhPr1tkRXRO",
        "outputId": "e6cfbd43-154d-48b5-f789-fcaebe989a13"
      },
      "execution_count": 161,
      "outputs": [
        {
          "output_type": "execute_result",
          "data": {
            "text/plain": [
              "'현재 잔액은 300000원 입니다.'"
            ],
            "application/vnd.google.colaboratory.intrinsic+json": {
              "type": "string"
            }
          },
          "metadata": {},
          "execution_count": 161
        }
      ]
    }
  ]
}