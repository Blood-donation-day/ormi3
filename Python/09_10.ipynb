{
  "cells": [
    {
      "cell_type": "markdown",
      "metadata": {
        "id": "kHSBRnTXrbGq"
      },
      "source": [
        "##독스트링, 컨벤션에 따른 주석"
      ]
    },
    {
      "cell_type": "code",
      "execution_count": null,
      "metadata": {
        "colab": {
          "base_uri": "https://localhost:8080/"
        },
        "id": "dEEe4qzOk6xc",
        "outputId": "2832d2dc-8303-42ab-d4f0-b03cfe916632"
      },
      "outputs": [
        {
          "data": {
            "text/plain": [
              "4"
            ]
          },
          "execution_count": 1,
          "metadata": {},
          "output_type": "execute_result"
        }
      ],
      "source": [
        "# 독스트링, 컨벤션에 따른 주석\n",
        "#기본적으로 공식 가이드라인인 PEP257을 따라가고\n",
        "#회사나 팀별로 가진 컨벤션을 따라갑니다.\n",
        "\n",
        "#한줄 독스트링\n",
        "def test(a, b):\n",
        "    \"\"\"this is test function for add two two numbers and return the result.\"\"\"\n",
        "    return a + b\n",
        "\n",
        "#여러줄 독스트링\n",
        "def complex_function(a,b):\n",
        "    \"\"\"\n",
        "    Perfrom a complex operation,\n",
        "\n",
        "    This funtion does many things, and we need multiple lines to describe it.\n",
        "\n",
        "    Frist add each other and save as....\n",
        "    \"\"\"\n",
        "\n",
        "    pass"
      ]
    },
    {
      "cell_type": "code",
      "execution_count": null,
      "metadata": {
        "id": "tmRHdzanm-tr"
      },
      "outputs": [],
      "source": [
        "#인자와 반환값에 대한 설명\n",
        "#인자와 반환 값에 대한 정보를 포함하는 경우, 일반적으로 인자는\n",
        "#Args: 라벨을, 반환 값은 Returns: 라벨을 사용하여 기술\n",
        "\n",
        "def add(a, b):\n",
        "    \"\"\"\n",
        "    Add two numbers and return the result.\n",
        "\n",
        "    Args:\n",
        "        a (int or float): The first number.\n",
        "        b (int or float): The second number.\n",
        "\n",
        "    Returns:\n",
        "        int or float: The sum of the two numbers.\n",
        "    \"\"\"\n",
        "    return a + b\n",
        "\n",
        "#google coding convention\n",
        "def fetch_smalltable_rows(\n",
        "    table_handle: smalltble.Table,\n",
        "    keys: Sequence[bytes, str],\n",
        "    require_all_keys: bool = False,\n",
        ") -> Mapping[bytes, tuple[str, ...]]:\n",
        "\n",
        "\"\"\"Fetches rows from a Smalltable.\n",
        "\n",
        "    Retrieves rows pertaining to the given keys from the Table instance\n",
        "    represented by table_handle.  String keys will be UTF-8 encoded.\n",
        "\n",
        "    Args:\n",
        "        table_handle: An open smalltable.Table instance.\n",
        "        keys: A sequence of strings representing the key of each table\n",
        "          row to fetch.  String keys will be UTF-8 encoded.\n",
        "        require_all_keys: If True only rows with values set for all keys will be\n",
        "          returned.\n",
        "\n",
        "    Returns:\n",
        "        A dict mapping keys to the corresponding table row data\n",
        "        fetched. Each row is represented as a tuple of strings. For\n",
        "        example:\n",
        "\n",
        "        {b'Serak': ('Rigel VII', 'Preparer'),\n",
        "         b'Zim': ('Irk', 'Invader'),\n",
        "         b'Lrrr': ('Omicron Persei 8', 'Emperor')}\n",
        "\n",
        "        Returned keys are always bytes.  If a key from the keys argument is\n",
        "        missing from the dictionary, then that row was not found in the\n",
        "        table (and require_all_keys must have been False).\n",
        "\n",
        "    Raises:\n",
        "        IOError: An error occurred accessing the smalltable.\n",
        "    \"\"\""
      ]
    },
    {
      "cell_type": "markdown",
      "metadata": {
        "id": "O4P5ETVWrfC7"
      },
      "source": [
        "##컴프리헨션\n",
        "\n",
        "Python의 컴프리헨션(comprehension) 문법은 기존 시퀀스(sequence), 이터러블(iterable)\n",
        "또는 다른 표현식들로부터 새로운 시퀀스를 생성하는 간결하고 가독성 있는 방법입니다."
      ]
    },
    {
      "cell_type": "code",
      "execution_count": null,
      "metadata": {
        "colab": {
          "base_uri": "https://localhost:8080/"
        },
        "collapsed": true,
        "id": "RBFzL-Rfptsg",
        "outputId": "d0039e2d-b39a-4a10-b6a5-f027f6af5e92"
      },
      "outputs": [
        {
          "name": "stdout",
          "output_type": "stream",
          "text": [
            "[0, 1, 4, 9, 16, 25, 36, 49, 64, 81]\n",
            "[0, 4, 16, 36, 64]\n"
          ]
        }
      ],
      "source": [
        "#List 컴프리헨션: 가장 일반적으로 사용되며 []사이에 표현식과 for를 넣어 리스트를 생성\n",
        "\n",
        "squares = [x**2 for x in range(10)]\n",
        "print(squares)\n",
        "\n",
        "#0~9의 제곱 리스트 중 짝수의 리스트 생성\n",
        "even_squares = [x**2 for x in range(10) if x % 2 == 0]\n",
        "print(even_squares)"
      ]
    },
    {
      "cell_type": "code",
      "execution_count": null,
      "metadata": {
        "id": "mVrAwyqYroAz"
      },
      "outputs": [],
      "source": [
        "#딕셔너리 컴프리헨션: {}안에 for문과 선택적 if문을 사용하여 딕셔너리를 생성합니다.\n",
        "#key : value    형태를 사용합니다.\n",
        "\n",
        "#0~4까지 숫자를 키로, 그 제곱값을 값으로 하는 딕셔너리 생성.\n",
        "square_dict = {x: x**2 for x in range(5)}\n",
        "print(square_dict)\n",
        "\n",
        "books = ['python', 'javascript', 'html/css']\n",
        "book_dict = {book: idx for idx, book in enumerate(books)}\n",
        "print(book_dict)\n",
        "\n",
        "#문제: {'python': 10000000, 'javascript': 24000000, 'html/css': 39000000} 와\n",
        "#같은 형태로 출력되게 해주세요!\n",
        "\n",
        "books = [('python', 1000, '10000원'), ('javascript', 2000, '12000원'), ('html/css', 3000, '13000원')]\n",
        "\n",
        "def changer(dictt):\n",
        "\n",
        "    for i in range(len(dictt)):\n",
        "        price = dictt[i][2]\n",
        "        price = price[:-1]\n",
        "        dictt[i] = (dictt[i][0], dictt[i][1] * int(price))\n",
        "    return dictt\n",
        "\n",
        "changer(books)"
      ]
    },
    {
      "cell_type": "code",
      "execution_count": null,
      "metadata": {
        "colab": {
          "base_uri": "https://localhost:8080/"
        },
        "id": "prre9EHD1V9D",
        "outputId": "a92b803c-305c-4c80-ffb6-15f77fae8285"
      },
      "outputs": [
        {
          "data": {
            "text/plain": [
              "{1, 3, 5, 7, 9}"
            ]
          },
          "execution_count": 2,
          "metadata": {},
          "output_type": "execute_result"
        }
      ],
      "source": [
        "#세트 컴프리헨션 : {}안에 for문과 선택적 if문을 사용하여 세트를 생성\n",
        "\n",
        "odd_set = {x for x in range(10) if x % 2 !=0}\n",
        "odd_set"
      ]
    },
    {
      "cell_type": "code",
      "execution_count": null,
      "metadata": {
        "id": "6p1nwzOz19mm"
      },
      "outputs": [],
      "source": [
        "#제너레이터 컴프리헨션: ()안에 for문과 선택적 if문을 사용하여 제너레이터 객체를 생성합니다.\n",
        "#제너레이터는 반복을 위한 이터러블이지만, 모든 값을 메모리에 저장하지않고\n",
        "#필요할 때마다 생성합니다.\n",
        "\n",
        "square_gen = (x**2 for x in range(10))\n",
        "\n",
        "gen = (i for i in range(2, 100000000, 2))\n",
        "\n",
        "for i, j in zip(range(10), gen):\n",
        "    print(i,j)"
      ]
    },
    {
      "cell_type": "markdown",
      "metadata": {
        "id": "hKEoxk6946kJ"
      },
      "source": [
        "##제너레이터와 이터레이터\n",
        "\n"
      ]
    },
    {
      "cell_type": "markdown",
      "metadata": {
        "id": "AuhguYYHC2NF"
      },
      "source": [
        "###이터레이터"
      ]
    },
    {
      "cell_type": "markdown",
      "metadata": {
        "id": "Z69daY37CwUP"
      },
      "source": [
        "이터레이터란, 값을 차례대로 꺼낼 수 있는 객체를 의미합니다. 이는 파이썬의 리스트, 튜플, 문자열 같은 컬렉션 타입들을 의미합니다. 이러한 이터러블 객체들은 iter() 함수를 사용해 이터레이터로 변환될 수 있습니다. 이터레이터 객체는 next() 함수를 사용해 값을 순차적으로 꺼낼 수 있습니다."
      ]
    },
    {
      "cell_type": "code",
      "execution_count": null,
      "metadata": {
        "colab": {
          "base_uri": "https://localhost:8080/"
        },
        "id": "OrFwA6p44zxg",
        "outputId": "f60499b7-d7ac-491c-a947-06c8996a152f"
      },
      "outputs": [
        {
          "name": "stdout",
          "output_type": "stream",
          "text": [
            "1\n",
            "2\n"
          ]
        }
      ],
      "source": [
        "my_list = [1,2,3,4]\n",
        "my_iter = iter(my_list) #my_list에 __iter__ 호출\n",
        "\n",
        "print(next(my_iter))\n",
        "print(next(my_iter))"
      ]
    },
    {
      "cell_type": "code",
      "execution_count": null,
      "metadata": {
        "id": "QG1J2Uhx5Vg-"
      },
      "outputs": [],
      "source": [
        "# 이터레이터가 더 이상 꺼낼 요소가 없을 때 next()를 호출하면,\n",
        "#파이썬은 StopIteration 예외를 발생시킵니다.\n",
        "print(next(my_iter))"
      ]
    },
    {
      "cell_type": "markdown",
      "metadata": {
        "id": "vv8rf0mX9tsp"
      },
      "source": [
        "파이썬에서는 이터레이터를 만들기 위해 __iter__와 __next__ 메서드를 구현해야 합니다. 이터레이터를 만드는 간단한 예제를 살펴보겠습니다.\n",
        "\n"
      ]
    },
    {
      "cell_type": "code",
      "execution_count": null,
      "metadata": {
        "colab": {
          "base_uri": "https://localhost:8080/"
        },
        "id": "ZIuAg1009pJN",
        "outputId": "39837054-d6de-4bc3-8744-55f19aae1f62"
      },
      "outputs": [
        {
          "name": "stdout",
          "output_type": "stream",
          "text": [
            "0\n",
            "1\n",
            "2\n",
            "3\n",
            "4\n",
            "5\n"
          ]
        }
      ],
      "source": [
        "class MyIterator:\n",
        "    def __init__(self, stop):\n",
        "        self.currentValue = 0\n",
        "        self.stop = stop\n",
        "\n",
        "    def __iter__(self):\n",
        "        return self\n",
        "\n",
        "    def __next__(self):\n",
        "        if self.currentValue >= self.stop:\n",
        "            raise StopIteration\n",
        "        result = self.currentValue\n",
        "        self.currentValue += 1\n",
        "        return result\n",
        "\n",
        "    my_iterator = MyIterator(6)\n",
        "\n",
        "    for i in my_iterator:\n",
        "        print(i)"
      ]
    },
    {
      "cell_type": "code",
      "execution_count": null,
      "metadata": {
        "id": "iqgxdtMHA9Rj"
      },
      "outputs": [],
      "source": [
        "# @title\n",
        "class MyIterator:\n",
        "    def __init__(self, stop):\n",
        "        self.stop = stop\n",
        "\n",
        "    def __iter__(self):\n",
        "        self.currentValue = 0\n",
        "        return self\n",
        "\n",
        "    def __next__(self):\n",
        "        if self.currentValue >= self.stop:\n",
        "            raise StopIteration\n",
        "        result = self.currentValue\n",
        "        self.currentValue += 1\n",
        "        return result\n",
        "\n",
        "my_iterator = MyIterator(5)\n",
        "\n",
        "for i in my_iterator:\n",
        "    print(i)\n",
        "\n",
        "for i in my_iterator:\n",
        "    print(i)\n",
        "\n",
        "# 결국 for는 iter먼저 실행하고, next로 StopIteration\n",
        "# i = iter(li)\n",
        "# next(i)"
      ]
    },
    {
      "cell_type": "code",
      "execution_count": null,
      "metadata": {
        "colab": {
          "base_uri": "https://localhost:8080/"
        },
        "id": "6ZPVzg-hCgeR",
        "outputId": "6d642892-c0c0-4964-9a23-5313b9f84855"
      },
      "outputs": [
        {
          "data": {
            "text/plain": [
              "3"
            ]
          },
          "execution_count": 32,
          "metadata": {},
          "output_type": "execute_result"
        }
      ],
      "source": [
        "#이터레이터는 언패킹이 가능\n",
        "a, b, c, d = MyIterator(4)\n",
        "d\n",
        "\n",
        "# a, b, c, d = range(4)\n",
        "# c"
      ]
    },
    {
      "cell_type": "markdown",
      "metadata": {
        "id": "gVMnvx6NC5Jd"
      },
      "source": [
        "###제너레이터"
      ]
    },
    {
      "cell_type": "markdown",
      "metadata": {
        "id": "B3hf2865C6pC"
      },
      "source": [
        "제너레이터는 이터레이터를 생성하는 특별한 종류의 함수입니다. 제너레이터는 yield 키워드를 사용해 값을 '생성'합니다. 이터레이터와 마찬가지로 next() 함수를 통해 값들을 순차적으로 꺼낼 수 있지만, 모든 값을 메모리에 저장하는 대신 필요할 때마다 값을 생성합니다. 이로 인해 메모리 사용량을 줄이고, 큰 시퀀스를 생성할 때 성능을 개선할 수 있습니다."
      ]
    },
    {
      "cell_type": "code",
      "execution_count": null,
      "metadata": {
        "id": "8k5pjF-bC9OJ"
      },
      "outputs": [],
      "source": [
        "def count_up_to(n):\n",
        "    count = 1\n",
        "    while count <= n:\n",
        "        yield count\n",
        "        count += 1\n",
        "\n",
        "counter = count_up_to(5)\n",
        "\n",
        "print(next(counter))  # 출력: 1\n",
        "print(next(counter))  # 출력: 2"
      ]
    },
    {
      "cell_type": "code",
      "execution_count": null,
      "metadata": {
        "id": "HDbrV9l0DOBe"
      },
      "outputs": [],
      "source": [
        "#제너레이터 컴프리핸션에서 사용했었던 문법을 함수형태의 제너레이터로 구현\n",
        "def count():\n",
        "    count = 2\n",
        "    while True:\n",
        "        yield count\n",
        "        count += 2\n",
        "\n",
        "for i,j in zip(range(10), count()):\n",
        "    print(i,j)"
      ]
    },
    {
      "cell_type": "markdown",
      "metadata": {
        "id": "HCSk0q5fDznU"
      },
      "source": [
        "제너레이터 또한 이터레이터와 마찬가지로, 더 이상 꺼낼 요소가 없을 때 next()를 호출하면 StopIteration 예외를 발생시킵니다."
      ]
    },
    {
      "cell_type": "code",
      "execution_count": null,
      "metadata": {
        "id": "MZjQssvLD93E"
      },
      "outputs": [],
      "source": [
        "#제너레이터를 만드는 예제 2\n",
        "# yield i = i값을 계속 저장 이터레이터에 사용\n",
        "def generator(data):\n",
        "    for i in data:\n",
        "        yield i\n",
        "\n",
        "my_list = [1,2,3,4,5]\n",
        "my_iterator = generator(my_list)\n",
        "\n",
        "for i in my_iterator:\n",
        "    print(i)"
      ]
    },
    {
      "cell_type": "code",
      "execution_count": null,
      "metadata": {
        "id": "LRuvPNPGE0J0"
      },
      "outputs": [],
      "source": [
        "#제너레이터를 만드는 예제3\n",
        "\n",
        "def  infinite_generator():\n",
        "    i = 0\n",
        "    while True:\n",
        "        yield i\n",
        "        i+= 1\n",
        "\n",
        "my_iterator = infinite_generator()\n",
        "\n",
        "for i in my_iterator:\n",
        "    print(i)\n",
        "    if i >= 10:\n",
        "        break"
      ]
    }
  ],
  "metadata": {
    "colab": {
      "provenance": []
    },
    "kernelspec": {
      "display_name": "Python 3",
      "name": "python3"
    },
    "language_info": {
      "name": "python"
    }
  },
  "nbformat": 4,
  "nbformat_minor": 0
}
