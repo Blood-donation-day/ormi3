{
 "cells": [
  {
   "cell_type": "code",
   "execution_count": null,
   "metadata": {},
   "outputs": [],
   "source": [
    "x = 3\n",
    "y = 5\n",
    "result = (isinstance(x, int) and isinstance(y, int)) and x + y # 여기에 논리연산자를 더 붙여 두 수를 더하는 코드를 만들어보세요.\n",
    "\n",
    "result # 8"
   ]
  },
  {
   "cell_type": "code",
   "execution_count": null,
   "metadata": {},
   "outputs": [],
   "source": [
    "print('hello' < 'hell o')\n",
    "print([10, 20, 30] < [10, 19, 100])\n",
    "print(10 % 3.3 == 0.1)\n",
    "\n",
    "# false false false\n",
    "#1.글자의 앞에서 비교를 시작해 5번째 글자 'o' 와 ' '을 비교하는 과정에서 왼쪽의 'o'가 더 크다고 판단 false출력\n",
    "#2.배열의 앞에서 비교를 시작해 2번째 '20' 과 '19' 를 비교해 왼쪽의 '20'이 더 큼으로 false 출력\n",
    "#3.부동소수점 문제로 인하여 0.1000... 즉 결과값이 0.1이 아니므로 false 출력"
   ]
  },
  {
   "cell_type": "code",
   "execution_count": null,
   "metadata": {},
   "outputs": [],
   "source": [
    "\n",
    "email2 = 'abc.@gmail.com' # gmail\n",
    "email3 = 'abc@naver.com' # naver\n",
    "email4 = 'abc@weniv.co.kr' # weniv\n",
    "email5 = 'li.cat@weniv.co.kr' # weniv\n",
    "\n",
    "def FindDomain(email):\n",
    "    firstindex = email.index(\"@\")     \n",
    "    # lastindex: email을 @가 나오는 인덱스에서 시작하여 문자 끝까지 범위에서  . 까지의 인덱스\n",
    "    lastindex = email[firstindex:-1].index(\".\")   \n",
    "    email = email[firstindex +1:firstindex + lastindex]\n",
    "    print(f'해당 계정은 \"{email}\"을(를) 사용중입니다.')\n",
    "\n",
    "\n",
    "emails = [email2, email3, email4, email5]   #emails안에 email넣기\n",
    "\n",
    "for email in emails:\n",
    "    FindDomain(email)"
   ]
  },
  {
   "cell_type": "markdown",
   "metadata": {},
   "source": [
    "## 9-18 연습문제 "
   ]
  },
  {
   "cell_type": "markdown",
   "metadata": {},
   "source": [
    "#문제 1: 동물 클래스 Animal을 만드세요\n",
    "동물 클래스 Animal을 만드세요. Dog와 cat 클래스를 각각 정의하십시오.\n",
    "#Animal 클래스는 name속성을 가집니다. 이 클래스는 make_sound 매서드를 갖고 있습니다.\n",
    "\n",
    "#Dog와 Cat클래스를 Animal클래스를 상속받는 클래스 입니다. Dog클래스의 make_sound 메서드는 \"멍멍\"\n",
    "#Cat클래스의 make_sound매서드는 \"야옹!\"을 출력하도록 재정의 하세요.\n",
    "#(더 완성도 높은 클래스를 만들어보세요. 추가 속성이나 메서드 작성 가능합니다.)"
   ]
  },
  {
   "cell_type": "code",
   "execution_count": null,
   "metadata": {},
   "outputs": [],
   "source": [
    "\n",
    "\n",
    "#문제 1\n",
    "\n",
    "class Animal():\n",
    "    def __init__ (self, name = ''):\n",
    "        self.name = name\n",
    "    def setName(self, name):\n",
    "        self.name = name\n",
    "        self.played = []\n",
    "    def playtogether(self, kinds):\n",
    "        if kinds not in self.played:\n",
    "            self.played.append(kinds)\n",
    "            print(f'{self.name}과 함께 {kinds}를 시작합니다!')\n",
    "        elif kinds in self.played:\n",
    "            print(\"했던거라 지겨웡... 다른걸 해보자!\")\n",
    "        \n",
    "class Dog(Animal):\n",
    "    \n",
    "    def __init__(self):\n",
    "        self.sound = '멍멍!'\n",
    "    \n",
    "    def make_sound(self):\n",
    "        print(self.sound)\n",
    "\n",
    "class Cat(Animal):\n",
    "    \n",
    "    def __init__(self):\n",
    "        self.sound = '야옹!'\n",
    "    \n",
    "    def make_sound(self):\n",
    "        print(self.sound)\n",
    "\n",
    "dog = Dog()\n",
    "dog.setName('땡글이')\n",
    "cat = Cat()\n",
    "cat.setName('참치')\n",
    "\n",
    "print(dog.name, cat.name)\n",
    "dog.make_sound()\n",
    "cat.make_sound()\n",
    "dog.playtogether('공놀이')\n",
    "cat.playtogether('놀아주기')\n",
    "dog.playtogether('공놀이')"
   ]
  },
  {
   "cell_type": "markdown",
   "metadata": {},
   "source": [
    "문제 2: Person을 상속받는 Student 클래스를 정의하십시오.\n",
    "Person이라는 기본 클래스를 만들어주세요. Person 클래스는 `이름`과 `나이`라는 두 개의 속성과 `소개하기`라는 메서드를 가지며, 이 메서드는 \"Hello World!, 제 이름은 [이름]이고 제 나이는 [나이]살 입니다.\"라는 메시지를 출력합니다.\n",
    "\n",
    "Person 클래스를 상속받는 Student 클래스를 정의하십시오. Student 클래스는 추가적으로 `학년` 속성을 가집니다. Student 클래스에서 `소개하기` 메서드를 오버라이드하여 \"Hello World!, 제 이름은 [이름]이고 제 나이는 [나이]살 입니다. 그리고 저는 [학년]학년입니다. \"라는 메시지를 출력하도록 만드세요."
   ]
  },
  {
   "cell_type": "code",
   "execution_count": null,
   "metadata": {},
   "outputs": [],
   "source": [
    "#문제 2\n",
    "\n",
    "class Person:\n",
    "    def __init__(self, name, age):\n",
    "        self.name = name\n",
    "        self.age = age\n",
    "\n",
    "    def introduce(self):\n",
    "        print(f'Hello World!, 제 이름은 [{self.name}]이고 제 나이는 [{self.age}]살 입니다.')\n",
    "\n",
    "class Student(Person):\n",
    "    def __init__(self, name, age, grade):\n",
    "        Person.__init__(self, name, age)\n",
    "        self.grade = grade\n",
    "    \n",
    "    #소개하기 를 오버라이드 하여 Person의 class에만 적용되는 함수\n",
    "    def introduce(self):\n",
    "        print(f'Hello World!, 제 이름은 [{self.name}]이고 제 나이는 [{self.age}]살 입니다. 그리고 저는 [{self.grade}]학년입니다.')\n",
    "\n",
    "고등학생 = Student('김창환', 18, 2)\n",
    "고등학생.introduce()"
   ]
  },
  {
   "cell_type": "markdown",
   "metadata": {},
   "source": [
    "## 9-19 연습문제"
   ]
  },
  {
   "cell_type": "markdown",
   "metadata": {},
   "source": [
    "문제1: (라운지 쓰레드)\n",
    "두 수를 나누는 함수 div(a, b)가 있었을 때 \n",
    "b에 0이 입력되면 예외처리를 하여 정상작동이 되는 함수로 작성을 해주세요."
   ]
  },
  {
   "cell_type": "code",
   "execution_count": null,
   "metadata": {},
   "outputs": [],
   "source": [
    "def div(a, b):\n",
    "    #정수, 실수 외 다른값을 입력시 출력\n",
    "    if not (isinstance(a, int) or isinstance(a, float)) or not (isinstance(b, int) or isinstance(b, float)):\n",
    "        print('정수, 실수를 입력하세요.') \n",
    "        return\n",
    "    try:\n",
    "        return f'{a} / {b} = {a/b}'\n",
    "    except:\n",
    "        return '0으로 나눌 수 없습니다!'\n",
    "\n",
    "print(div(5, 0.1))\n",
    "print(div(11, 0))"
   ]
  },
  {
   "cell_type": "markdown",
   "metadata": {},
   "source": [
    "문제2: (class 쓰레드)\n",
    "하나의 숫자에 제곱근을 구하는 함수 sqrt_number(num)이 있었을 때\n",
    "자체 예외 NegativeNumberError를 정의하세요. 이 예외는 음수가 입력될 때 발생하도록 합니다.\n",
    "사용자로부터 숫자를 입력 받아 그 숫자의 제곱근을 반환하는 함수를 작성하세요.\n",
    "입력된 숫자가 음수이면 NegativeNumberError를 발생시키고 \n",
    "\"음수의 제곱근은 계산할 수 없습니다.\"라는 메시지를 출력하세요."
   ]
  },
  {
   "cell_type": "code",
   "execution_count": 40,
   "metadata": {},
   "outputs": [
    {
     "name": "stdout",
     "output_type": "stream",
     "text": [
      "21.354156504062622\n"
     ]
    }
   ],
   "source": [
    "class NegativeNumberError(Exception):\n",
    "    def __init__(self):\n",
    "        super().__init__('음수의 제곱근은 계산할 수 없습니다.')\n",
    "\n",
    "def sqrt_number(num):\n",
    "\n",
    "    if num < 0:\n",
    "        raise NegativeNumberError()\n",
    "    print(num**(1/2))\n",
    "\n",
    "sqrt_number(456)"
   ]
  },
  {
   "cell_type": "markdown",
   "metadata": {},
   "source": [
    "문제3: (class 쓰레드)\n",
    "사용자로부터 인덱스 값을 입력 받아서 리스트 [\"apple\", \"banana\", \"cherry\"]에서 \n",
    "해당 인덱스의 값을 출력하는 함수를 작성하세요.\n",
    "사용자가 범위를 벗어난 인덱스를 입력하면 \"리스트의 범위를 벗어났습니다.\"라는 메시지를 출력하세요."
   ]
  },
  {
   "cell_type": "code",
   "execution_count": 37,
   "metadata": {},
   "outputs": [
    {
     "name": "stdout",
     "output_type": "stream",
     "text": [
      "정수를 입력해주세요.\n"
     ]
    }
   ],
   "source": [
    "fruit = [\"apple\", \"banana\", \"cherry\"]\n",
    "class OutOfList(Exception):\n",
    "    def __init__(self):\n",
    "        super().__init__('리스트의 범위를 벗어났습니다.')\n",
    "\n",
    "def choice():\n",
    "    \n",
    "    try:\n",
    "        index = int(input())\n",
    "    except:\n",
    "        print('정수를 입력해주세요.')\n",
    "        return\n",
    "    \n",
    "    if len(fruit) < index:\n",
    "        raise OutOfList\n",
    "\n",
    "    print(fruit[index-1])\n",
    "\n",
    "choice()"
   ]
  }
 ],
 "metadata": {
  "kernelspec": {
   "display_name": "Python 3",
   "language": "python",
   "name": "python3"
  },
  "language_info": {
   "codemirror_mode": {
    "name": "ipython",
    "version": 3
   },
   "file_extension": ".py",
   "mimetype": "text/x-python",
   "name": "python",
   "nbconvert_exporter": "python",
   "pygments_lexer": "ipython3",
   "version": "3.11.4"
  },
  "orig_nbformat": 4
 },
 "nbformat": 4,
 "nbformat_minor": 2
}
