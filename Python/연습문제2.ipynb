{
 "cells": [
  {
   "cell_type": "code",
   "execution_count": null,
   "metadata": {},
   "outputs": [],
   "source": [
    "x = 3\n",
    "y = 5\n",
    "result = (isinstance(x, int) and isinstance(y, int)) and x + y # 여기에 논리연산자를 더 붙여 두 수를 더하는 코드를 만들어보세요.\n",
    "\n",
    "result # 8"
   ]
  },
  {
   "cell_type": "code",
   "execution_count": null,
   "metadata": {},
   "outputs": [],
   "source": [
    "print('hello' < 'hell o')\n",
    "print([10, 20, 30] < [10, 19, 100])\n",
    "print(10 % 3.3 == 0.1)\n",
    "\n",
    "# false false false\n",
    "#1.글자의 앞에서 비교를 시작해 5번째 글자 'o' 와 ' '을 비교하는 과정에서 왼쪽의 'o'가 더 크다고 판단 false출력\n",
    "#2.배열의 앞에서 비교를 시작해 2번째 '20' 과 '19' 를 비교해 왼쪽의 '20'이 더 큼으로 false 출력\n",
    "#3.부동소수점 문제로 인하여 0.1000... 즉 결과값이 0.1이 아니므로 false 출력"
   ]
  },
  {
   "cell_type": "code",
   "execution_count": null,
   "metadata": {},
   "outputs": [],
   "source": [
    "\n",
    "email2 = 'abc.@gmail.com' # gmail\n",
    "email3 = 'abc@naver.com' # naver\n",
    "email4 = 'abc@weniv.co.kr' # weniv\n",
    "email5 = 'li.cat@weniv.co.kr' # weniv\n",
    "\n",
    "def FindDomain(email):\n",
    "    firstindex = email.index(\"@\")     \n",
    "    # lastindex: email을 @가 나오는 인덱스에서 시작하여 문자 끝까지 범위에서  . 까지의 인덱스\n",
    "    lastindex = email[firstindex:-1].index(\".\")   \n",
    "    email = email[firstindex +1:firstindex + lastindex]\n",
    "    print(f'해당 계정은 \"{email}\"을(를) 사용중입니다.')\n",
    "\n",
    "\n",
    "emails = [email2, email3, email4, email5]   #emails안에 email넣기\n",
    "\n",
    "for email in emails:\n",
    "    FindDomain(email)"
   ]
  },
  {
   "cell_type": "code",
   "execution_count": null,
   "metadata": {},
   "outputs": [],
   "source": []
  }
 ],
 "metadata": {
  "kernelspec": {
   "display_name": "Python 3",
   "language": "python",
   "name": "python3"
  },
  "language_info": {
   "codemirror_mode": {
    "name": "ipython",
    "version": 3
   },
   "file_extension": ".py",
   "mimetype": "text/x-python",
   "name": "python",
   "nbconvert_exporter": "python",
   "pygments_lexer": "ipython3",
   "version": "3.11.4"
  },
  "orig_nbformat": 4
 },
 "nbformat": 4,
 "nbformat_minor": 2
}
