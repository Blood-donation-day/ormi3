{
  "nbformat": 4,
  "nbformat_minor": 0,
  "metadata": {
    "colab": {
      "provenance": []
    },
    "kernelspec": {
      "name": "python3",
      "display_name": "Python 3"
    },
    "language_info": {
      "name": "python"
    }
  },
  "cells": [
    {
      "cell_type": "markdown",
      "source": [
        "##조건문"
      ],
      "metadata": {
        "id": "n9jDmFCUmZiA"
      }
    },
    {
      "cell_type": "code",
      "execution_count": null,
      "metadata": {
        "colab": {
          "base_uri": "https://localhost:8080/"
        },
        "id": "UypP2U15mRjT",
        "outputId": "9f5d5f3b-cae5-48c9-8ec8-bf82333bbcdb"
      },
      "outputs": [
        {
          "output_type": "stream",
          "name": "stdout",
          "text": [
            "hello 0\n",
            "hello 1\n",
            "hello 2\n",
            "hello 3\n",
            "hello 4\n",
            "hello 5\n",
            "hello 6\n",
            "hello 7\n",
            "hello 8\n",
            "hello 9\n",
            "hello 10\n"
          ]
        }
      ],
      "source": [
        "def wow():\n",
        "    iss = 0\n",
        "    while True:\n",
        "       yield iss\n",
        "       iss += 1\n",
        "\n",
        "\n",
        "for i in wow():\n",
        "    if i > 10:\n",
        "        break\n",
        "    print(f'hello {i}')\n",
        "    i += 1\n"
      ]
    },
    {
      "cell_type": "code",
      "source": [
        "if False:\n",
        "    print('hello')"
      ],
      "metadata": {
        "id": "9WK5o020pQ1b"
      },
      "execution_count": null,
      "outputs": []
    },
    {
      "cell_type": "code",
      "source": [
        "if (True): # 이렇게 괄호를 안해도 됩니다!\n",
        "    print('hello')"
      ],
      "metadata": {
        "colab": {
          "base_uri": "https://localhost:8080/"
        },
        "id": "af-3ZNyGpRmP",
        "outputId": "8c8dce45-1e9f-4d9f-9802-e0d78ca50e07"
      },
      "execution_count": null,
      "outputs": [
        {
          "output_type": "stream",
          "name": "stdout",
          "text": [
            "hello\n"
          ]
        }
      ]
    },
    {
      "cell_type": "code",
      "source": [
        "if 10 and 9: # True나 False가 아니라 단락평가에 의해 9\n",
        "    print('hello')"
      ],
      "metadata": {
        "colab": {
          "base_uri": "https://localhost:8080/"
        },
        "id": "DiWK81ULpTKw",
        "outputId": "b671b6eb-4deb-4f48-c851-f4ff8de909c2"
      },
      "execution_count": null,
      "outputs": [
        {
          "output_type": "stream",
          "name": "stdout",
          "text": [
            "hello\n"
          ]
        }
      ]
    },
    {
      "cell_type": "code",
      "source": [
        "''\n",
        "0\n",
        "[]\n",
        "{}\n",
        "()\n",
        "set()\n",
        "\n",
        "#########\n",
        "\n",
        "1\n",
        "-1\n",
        "' '\n",
        "[10, 20]"
      ],
      "metadata": {
        "colab": {
          "base_uri": "https://localhost:8080/"
        },
        "id": "xYtvOZMppUfi",
        "outputId": "cd99f177-d370-4c3c-ce09-47ea2c24654f"
      },
      "execution_count": null,
      "outputs": [
        {
          "output_type": "execute_result",
          "data": {
            "text/plain": [
              "[10, 20]"
            ]
          },
          "metadata": {},
          "execution_count": 36
        }
      ]
    },
    {
      "cell_type": "code",
      "source": [
        "x = 5\n",
        "y = 0\n",
        "result = 'x is greater' if x > y else 'y is greater or equal'\n",
        "result"
      ],
      "metadata": {
        "colab": {
          "base_uri": "https://localhost:8080/",
          "height": 35
        },
        "id": "c27w3JDerEnn",
        "outputId": "04495ef7-3d5e-4878-e1b3-720f120a7a57"
      },
      "execution_count": null,
      "outputs": [
        {
          "output_type": "execute_result",
          "data": {
            "text/plain": [
              "'x is greater'"
            ],
            "application/vnd.google.colaboratory.intrinsic+json": {
              "type": "string"
            }
          },
          "metadata": {},
          "execution_count": 43
        }
      ]
    },
    {
      "cell_type": "markdown",
      "source": [
        "##연습문제"
      ],
      "metadata": {
        "id": "1ZcIRvRcrqcO"
      }
    },
    {
      "cell_type": "code",
      "source": [
        "# 1. 주어진 리스트 `data = [{\"name\": \"길동\", \"수학\": 3, \"과학\": 93},\n",
        "#  {\"name\": \"춘향\", \"수학\": 33, \"과학\": 11},\n",
        "#  {\"name\": \"철수\", \"수학\": 94, \"과학\": 67}]`\n",
        "#에서 평균점수가 가장 높은 학생에 이름을 출력하세요.\n",
        "\n",
        "data = [{\"name\": \"길동\", \"수학\": 3, \"과학\": 93},\n",
        "{\"name\": \"춘향\", \"수학\": 33, \"과학\": 11},\n",
        "{\"name\": \"철수\", \"수학\": 94, \"과학\": 67}]\n",
        "\n",
        "max_entry = max(data, key = lambda x : x['수학'] + x['과학'])\n",
        "print(max_entry)\n",
        "print(max_entry['name'])"
      ],
      "metadata": {
        "colab": {
          "base_uri": "https://localhost:8080/"
        },
        "id": "ZlF4xjd4roZ3",
        "outputId": "a5552c3a-b291-4183-9d94-75a92111c0cd"
      },
      "execution_count": null,
      "outputs": [
        {
          "output_type": "stream",
          "name": "stdout",
          "text": [
            "{'name': '철수', '수학': 94, '과학': 67}\n",
            "철수\n"
          ]
        }
      ]
    },
    {
      "cell_type": "code",
      "source": [
        "# 2. 주어진 사전 `grades = {\"Tom\": 87, \"Jerry\": 95, \"Mickey\": 70}`\n",
        "#의 모든 값을 5점씩 증가시키고 결과를 출력하세요.\n",
        "\n",
        "grades = {'Tom' : 87, 'Jerry' : 95, 'Mickey' : 70}\n",
        "update = grades.items()\n",
        "update = {i: score +5 for i, score in update}\n",
        "update"
      ],
      "metadata": {
        "colab": {
          "base_uri": "https://localhost:8080/"
        },
        "id": "Bm9F5uN3vBaf",
        "outputId": "06a8d18d-2a05-4e60-9a66-ebbb19f717d6"
      },
      "execution_count": null,
      "outputs": [
        {
          "output_type": "execute_result",
          "data": {
            "text/plain": [
              "{'Tom': 92, 'Jerry': 100, 'Mickey': 75}"
            ]
          },
          "metadata": {},
          "execution_count": 67
        }
      ]
    },
    {
      "cell_type": "code",
      "source": [
        " #3. 주어진 문자열 `s = \"apple banana apple cherry banana cherry apple\"`에서\n",
        " #가장 자주 등장하는 단어를 출력하세요.\n",
        "from collections import Counter\n",
        "s = \"apple banana apple cherry banana cherry apple\"\n",
        "\n",
        "ss = s.split(' ')\n",
        "print(max(Counter(ss).items(), key = lambda x : x[1]))\n",
        "\n",
        "Counter(ss).most_common(1)\n"
      ],
      "metadata": {
        "colab": {
          "base_uri": "https://localhost:8080/"
        },
        "id": "yiA7NN4IwMlH",
        "outputId": "c410a43f-255f-409b-95bd-4032cfae50ca"
      },
      "execution_count": 1,
      "outputs": [
        {
          "output_type": "stream",
          "name": "stdout",
          "text": [
            "('apple', 3)\n"
          ]
        },
        {
          "output_type": "execute_result",
          "data": {
            "text/plain": [
              "[('apple', 3)]"
            ]
          },
          "metadata": {},
          "execution_count": 1
        }
      ]
    },
    {
      "cell_type": "code",
      "source": [
        "s = 'apple banana apple cherry banana cherry apple'\n",
        "words = s.split(' ')\n",
        "most_frequent_word = max(set(words), key = words.count)\n",
        "most_frequent_word"
      ],
      "metadata": {
        "colab": {
          "base_uri": "https://localhost:8080/",
          "height": 35
        },
        "id": "tIRwRCdEKPug",
        "outputId": "6a57ef01-3cbe-456b-9281-d96524020db9"
      },
      "execution_count": 4,
      "outputs": [
        {
          "output_type": "execute_result",
          "data": {
            "text/plain": [
              "'apple'"
            ],
            "application/vnd.google.colaboratory.intrinsic+json": {
              "type": "string"
            }
          },
          "metadata": {},
          "execution_count": 4
        }
      ]
    },
    {
      "cell_type": "code",
      "source": [
        "[i if i % 2 ==0 else None for i in range(10)]"
      ],
      "metadata": {
        "colab": {
          "base_uri": "https://localhost:8080/"
        },
        "id": "vn-CNs-HzsF0",
        "outputId": "afd90f51-0128-4717-c317-5afb96d39b45"
      },
      "execution_count": null,
      "outputs": [
        {
          "output_type": "execute_result",
          "data": {
            "text/plain": [
              "[0, None, 2, None, 4, None, 6, None, 8, None]"
            ]
          },
          "metadata": {},
          "execution_count": 113
        }
      ]
    },
    {
      "cell_type": "code",
      "source": [
        "[i for i in range(10) if i % 2 == 0]"
      ],
      "metadata": {
        "colab": {
          "base_uri": "https://localhost:8080/"
        },
        "id": "MwVMaSmH0a4H",
        "outputId": "200492d9-ff2a-4beb-ce74-4a4e6e97e2e0"
      },
      "execution_count": null,
      "outputs": [
        {
          "output_type": "execute_result",
          "data": {
            "text/plain": [
              "[0, 2, 4, 6, 8]"
            ]
          },
          "metadata": {},
          "execution_count": 112
        }
      ]
    },
    {
      "cell_type": "code",
      "source": [
        "def f():\n",
        "    return True\n",
        "\n",
        "if f():\n",
        "    print('hello')"
      ],
      "metadata": {
        "colab": {
          "base_uri": "https://localhost:8080/"
        },
        "id": "hCHiN9zj0cAv",
        "outputId": "d822a8ff-69c4-460a-c6b8-ce7949c70799"
      },
      "execution_count": null,
      "outputs": [
        {
          "output_type": "stream",
          "name": "stdout",
          "text": [
            "hello\n"
          ]
        }
      ]
    },
    {
      "cell_type": "code",
      "source": [
        "def f():\n",
        "    return True\n",
        "\n",
        "def ff():\n",
        "    return 'hello'\n",
        "\n",
        "if f() and ff():\n",
        "    print('hello')"
      ],
      "metadata": {
        "colab": {
          "base_uri": "https://localhost:8080/"
        },
        "id": "3FG207Ih0kLS",
        "outputId": "68ef1807-1c7b-4ee4-8c10-be556b529dca"
      },
      "execution_count": null,
      "outputs": [
        {
          "output_type": "stream",
          "name": "stdout",
          "text": [
            "hello\n"
          ]
        }
      ]
    },
    {
      "cell_type": "code",
      "source": [
        "# 성능에 영향을 끼칩니다!\n",
        "def f():\n",
        "    return True\n",
        "\n",
        "def ff():\n",
        "    x = 100 / 0 # error\n",
        "    return 'hello'\n",
        "\n",
        "if f() or ff():\n",
        "    print('hello')"
      ],
      "metadata": {
        "colab": {
          "base_uri": "https://localhost:8080/"
        },
        "id": "iKX020_G0mm2",
        "outputId": "67c7f721-b94a-416a-89b7-eb226adf92c8"
      },
      "execution_count": null,
      "outputs": [
        {
          "output_type": "stream",
          "name": "stdout",
          "text": [
            "hello\n"
          ]
        }
      ]
    },
    {
      "cell_type": "code",
      "source": [
        "#error가 나는 코드\n",
        "def f():\n",
        "    return True\n",
        "\n",
        "def ff():\n",
        "    x = 100 / 0 # error\n",
        "    return 'hello'\n",
        "\n",
        "if ff() or f():\n",
        "    print('hello')"
      ],
      "metadata": {
        "id": "0gz7IJLE0tlA"
      },
      "execution_count": null,
      "outputs": []
    },
    {
      "cell_type": "code",
      "source": [
        "my_funtion = lambda x : '짝수' if x % 2 == 0 else '홀수'\n",
        "my_funtion(9)"
      ],
      "metadata": {
        "colab": {
          "base_uri": "https://localhost:8080/",
          "height": 35
        },
        "id": "1qw3A_sd1DHW",
        "outputId": "ee5807eb-e701-4622-94fe-6efe65725258"
      },
      "execution_count": null,
      "outputs": [
        {
          "output_type": "execute_result",
          "data": {
            "text/plain": [
              "'홀수'"
            ],
            "application/vnd.google.colaboratory.intrinsic+json": {
              "type": "string"
            }
          },
          "metadata": {},
          "execution_count": 128
        }
      ]
    },
    {
      "cell_type": "code",
      "source": [
        "x = -1\n",
        "assert x > 0, '0보다 크지 않잔아!' #조건이 참이 아니면 나오는 오류 메세지"
      ],
      "metadata": {
        "colab": {
          "base_uri": "https://localhost:8080/",
          "height": 199
        },
        "id": "clWpspSR1Xam",
        "outputId": "9aa563d1-604e-4ea4-b109-2f05a9e5b683"
      },
      "execution_count": null,
      "outputs": [
        {
          "output_type": "error",
          "ename": "AssertionError",
          "evalue": "ignored",
          "traceback": [
            "\u001b[0;31m---------------------------------------------------------------------------\u001b[0m",
            "\u001b[0;31mAssertionError\u001b[0m                            Traceback (most recent call last)",
            "\u001b[0;32m<ipython-input-130-80bd9f788780>\u001b[0m in \u001b[0;36m<cell line: 2>\u001b[0;34m()\u001b[0m\n\u001b[1;32m      1\u001b[0m \u001b[0mx\u001b[0m \u001b[0;34m=\u001b[0m \u001b[0;34m-\u001b[0m\u001b[0;36m1\u001b[0m\u001b[0;34m\u001b[0m\u001b[0;34m\u001b[0m\u001b[0m\n\u001b[0;32m----> 2\u001b[0;31m \u001b[0;32massert\u001b[0m \u001b[0mx\u001b[0m \u001b[0;34m>\u001b[0m \u001b[0;36m0\u001b[0m\u001b[0;34m,\u001b[0m \u001b[0;34m'0보다 크지 않잔아!'\u001b[0m\u001b[0;34m\u001b[0m\u001b[0;34m\u001b[0m\u001b[0m\n\u001b[0m",
            "\u001b[0;31mAssertionError\u001b[0m: 0보다 크지 않잔아!"
          ]
        }
      ]
    },
    {
      "cell_type": "code",
      "source": [
        "x = 10\n",
        "assert x > 0, '양수여야 한다!'\n",
        "#맞으면 그냥 통과"
      ],
      "metadata": {
        "id": "lXgH9DOo1lkc"
      },
      "execution_count": null,
      "outputs": []
    },
    {
      "cell_type": "code",
      "source": [
        "score = 59\n",
        "money = 0\n",
        "\n",
        "if score >= 90:\n",
        "    print('90점을 넘기다니 미쳤군.,')\n",
        "    money += 900000\n",
        "elif score >= 80:\n",
        "    print('80점을 넘기다니')\n",
        "    money += 80000\n",
        "elif score >= 70:\n",
        "    print('70점을 넘겼구나')\n",
        "    money += 7000\n",
        "elif score >= 60:\n",
        "    print('60점은 넘었구나,...')\n",
        "    money += 600\n",
        "else:\n",
        "     print('넌 나가라!')\n",
        "     money -= 9999999\n",
        "print(money)"
      ],
      "metadata": {
        "colab": {
          "base_uri": "https://localhost:8080/"
        },
        "id": "ItG6Z7fQ1qnu",
        "outputId": "5042d319-2a72-4037-98a6-18a76f2bd7dd"
      },
      "execution_count": null,
      "outputs": [
        {
          "output_type": "stream",
          "name": "stdout",
          "text": [
            "넌 나가라!\n",
            "-9999999\n"
          ]
        }
      ]
    },
    {
      "cell_type": "code",
      "source": [
        "score = 81\n",
        "money = 0\n",
        "\n",
        "if score >= 90:\n",
        "    print('mom : i\\'m so happy!')\n",
        "    money += 1000000\n",
        "if 90 > score >= 80:\n",
        "    print('mom : i\\'m happy!')\n",
        "    money += 100000\n",
        "if 80 > score >= 70:\n",
        "    print('mom : i\\'m so...!')\n",
        "    money += 10000\n",
        "if 70 > score >= 60:\n",
        "    print('mom : i\\'m so...!')\n",
        "    money += 1000\n",
        "else:\n",
        "    print('mom : i\\'m...!')\n",
        "print(money)"
      ],
      "metadata": {
        "colab": {
          "base_uri": "https://localhost:8080/"
        },
        "id": "uZeQD5Q03XDJ",
        "outputId": "14d8340f-3329-4c78-915a-6a927eb6dc39"
      },
      "execution_count": null,
      "outputs": [
        {
          "output_type": "stream",
          "name": "stdout",
          "text": [
            "mom : i'm happy!\n",
            "mom : i'm...!\n",
            "100000\n"
          ]
        }
      ]
    },
    {
      "cell_type": "code",
      "source": [
        "# 위와 같이 하더라도 실행이 같지 않고\n",
        "# 또 성능도 안좋습니다!!\n",
        "# 성능이 왜 안좋나요?\n",
        "# if 뒤를 다 검사해야 하기 때문에 그렇습니다.\n",
        "# 적절하게 묶는 것은 매우 중요한 포인트입니다"
      ],
      "metadata": {
        "id": "HpBXu9an3V0Y"
      },
      "execution_count": null,
      "outputs": []
    },
    {
      "cell_type": "code",
      "source": [
        "#if를 중첩해서 사용하기\n",
        "\n",
        "movie = {\n",
        "    '영화' : '무빙',\n",
        "    '장르' : 'SF',\n",
        "    '서비스' : '디즈니',\n",
        "    '비용' : 15000,\n",
        "    '평점' : 4.9\n",
        "}\n",
        "\n",
        "\n",
        "if movie['장르'] == 'SF':\n",
        "    if movie['서비스'] == '디즈니':\n",
        "        if movie['비용'] <= 20000:\n",
        "            if movie['평점'] >= 4.5:\n",
        "                print('영화시청')"
      ],
      "metadata": {
        "id": "3CAT58Vu3bu6",
        "colab": {
          "base_uri": "https://localhost:8080/"
        },
        "outputId": "4508c5db-add7-456d-e0e3-e0b2e523b595"
      },
      "execution_count": 5,
      "outputs": [
        {
          "output_type": "stream",
          "name": "stdout",
          "text": [
            "영화시청\n"
          ]
        }
      ]
    },
    {
      "cell_type": "code",
      "source": [
        "#조금 더 다듬어 보기\n",
        "\n",
        "if movie['장르'] == 'SF' and (movie['서비스'] == '디즈니' or movie[서비스] == '넷플릭스') and movie['평점'] >= 4.5 and movie['비용'] <= 20000:\n",
        "    print('영화시청')\n",
        "\n",
        "#다듬어 진게 맞을까??"
      ],
      "metadata": {
        "colab": {
          "base_uri": "https://localhost:8080/"
        },
        "id": "S0sHoLs9L4hv",
        "outputId": "9005ecf6-1d41-4bc9-fcac-f571f4846772"
      },
      "execution_count": 7,
      "outputs": [
        {
          "output_type": "stream",
          "name": "stdout",
          "text": [
            "영화시청\n"
          ]
        }
      ]
    },
    {
      "cell_type": "code",
      "source": [
        "#지금 이 코드에서는 동일하게 작동하겠지만\n",
        "#이렇게 if를 중첩문으로 했을 때 문제가 발생합니다.\n",
        "\n",
        "movie = {\n",
        "    '영화' : '무빙',\n",
        "    '장르' : 'SF',\n",
        "    '서비스' : '넷플릭스',\n",
        "    '비용' : 15000,\n",
        "    '평점' : 4.1 #변경\n",
        "}\n",
        "\n",
        "\n",
        "if movie['장르'] == 'SF':\n",
        "    if movie['평점'] >= 4.5:\n",
        "        if movie['비용'] <= 20000:\n",
        "            if movie['서비스'] == '디즈니' or '넷플릭스':\n",
        "                print('영화시청')\n",
        "\n",
        "\n",
        "def 구독중인ott():\n",
        "    #사용자에게 문자 알림을 준다던지 하는 엑션을 추가해여 한다?  위와같으면 매우 어려움\n",
        "        return movie['서비스'] == '디즈니' or '넷플릭스'"
      ],
      "metadata": {
        "colab": {
          "base_uri": "https://localhost:8080/"
        },
        "id": "qb7JJjOUM0ug",
        "outputId": "d0b47ccc-c41c-4ee2-a3a4-b574b2e28155"
      },
      "execution_count": 14,
      "outputs": [
        {
          "output_type": "stream",
          "name": "stdout",
          "text": [
            "영화시청\n"
          ]
        }
      ]
    },
    {
      "cell_type": "code",
      "source": [
        "# if를 중첩해서 사용하기\n",
        "# 이정도가 깔끔하게 다듬어진 것입니다.\n",
        "movie = {\n",
        "    '영화': '무빙',\n",
        "    '장르': 'SF',\n",
        "    '서비스': '디즈니',\n",
        "    '비용': 15000,\n",
        "    '평점': 4.9\n",
        "}\n",
        "\n",
        "if movie['장르'] == 'SF':\n",
        "    if movie['서비스'] == '디즈니' or movie['서비스'] == '넷플릭스':\n",
        "        if movie['평점'] >= 4.5 and movie['비용'] <= 20000:\n",
        "            print('영화시청')"
      ],
      "metadata": {
        "colab": {
          "base_uri": "https://localhost:8080/"
        },
        "id": "vUaAT2CWNG5d",
        "outputId": "77a723af-5610-4acb-9d6e-efc1dc7e9439"
      },
      "execution_count": 15,
      "outputs": [
        {
          "output_type": "stream",
          "name": "stdout",
          "text": [
            "영화시청\n"
          ]
        }
      ]
    },
    {
      "cell_type": "code",
      "source": [
        "# if를 중첩해서 사용하기\n",
        "# 이정도가 깔끔하게 다듬어진 것입니다.\n",
        "movie = {\n",
        "    '영화': '무빙',\n",
        "    '장르': 'SF',\n",
        "    '서비스': '왓챠',\n",
        "    '비용': 15000,\n",
        "    '평점': 4.9\n",
        "}\n",
        "\n",
        "if movie['장르'] == 'SF':\n",
        "    if movie['서비스'] == '디즈니' or movie['서비스'] == '넷플릭스':\n",
        "        if movie['평점'] >= 4.5 and movie['비용'] <= 20000:\n",
        "            print('영화시청')\n",
        "    else:\n",
        "        print(movie['서비스'] + ' 구독하기!')"
      ],
      "metadata": {
        "colab": {
          "base_uri": "https://localhost:8080/"
        },
        "id": "vkwCi4HoOZWo",
        "outputId": "df297c49-6748-427b-f8d8-4b810a0eeeb9"
      },
      "execution_count": 16,
      "outputs": [
        {
          "output_type": "stream",
          "name": "stdout",
          "text": [
            "왓챠 구독하기!\n"
          ]
        }
      ]
    },
    {
      "cell_type": "markdown",
      "source": [
        "##match"
      ],
      "metadata": {
        "id": "WzYf6MqTOfNv"
      }
    },
    {
      "cell_type": "code",
      "source": [
        "text = 'Hello World'\n",
        "#JS의 스위치 같은건가?\n",
        "match text:\n",
        "    case 'Hello':\n",
        "        print('Hello')\n",
        "    case 'World':\n",
        "        print('World')\n",
        "    case 'Hello World':\n",
        "        print('굿굿')\n"
      ],
      "metadata": {
        "colab": {
          "base_uri": "https://localhost:8080/"
        },
        "id": "PLK6YBWsOglT",
        "outputId": "3dd56bd2-9745-47f1-ea0b-011c2a116325"
      },
      "execution_count": 17,
      "outputs": [
        {
          "output_type": "stream",
          "name": "stdout",
          "text": [
            "굿굿\n"
          ]
        }
      ]
    },
    {
      "cell_type": "code",
      "source": [
        "#JS의 스위치 같은건가?\n",
        "text = 'Hello'\n",
        "def match_text():\n",
        "    match text:\n",
        "        case 'Hello':\n",
        "            print('Hello')\n",
        "        case 'World':\n",
        "            print('World')\n",
        "        case 'Hello World':\n",
        "            print('굿굿')\n",
        "\n",
        "match_text()"
      ],
      "metadata": {
        "colab": {
          "base_uri": "https://localhost:8080/"
        },
        "id": "-5zay7DTPIbf",
        "outputId": "33c9b739-6335-43a5-dd82-be40f2bdde13"
      },
      "execution_count": 24,
      "outputs": [
        {
          "output_type": "stream",
          "name": "stdout",
          "text": [
            "Hello\n"
          ]
        }
      ]
    },
    {
      "cell_type": "code",
      "source": [
        "# 작동하지 않는 코드입니다. JavaScript와 같은 곳에서는 아래와 같은 형식으로 사용하곤 합니다.\n",
        "text = 'Hello'\n",
        "match text:\n",
        "    case 'Hello':\n",
        "    case 'World':\n",
        "        print('World')\n",
        "    case _:\n",
        "        print('No Match')"
      ],
      "metadata": {
        "colab": {
          "base_uri": "https://localhost:8080/",
          "height": 146
        },
        "id": "bsyT5qLZPxn8",
        "outputId": "4939f7a5-769c-4db6-dbc9-ee93d9d02d26"
      },
      "execution_count": 27,
      "outputs": [
        {
          "output_type": "error",
          "ename": "IndentationError",
          "evalue": "ignored",
          "traceback": [
            "\u001b[0;36m  File \u001b[0;32m\"<ipython-input-27-a1f19f253236>\"\u001b[0;36m, line \u001b[0;32m5\u001b[0m\n\u001b[0;31m    case 'World':\u001b[0m\n\u001b[0m    ^\u001b[0m\n\u001b[0;31mIndentationError\u001b[0m\u001b[0;31m:\u001b[0m expected an indented block after 'case' statement on line 4\n"
          ]
        }
      ]
    },
    {
      "cell_type": "code",
      "source": [
        "# 작동하지 않는 코드입니다.\n",
        "text = 'Hello'\n",
        "match text:\n",
        "    case 'Hello' or 'World':\n",
        "        print('World')\n",
        "    case _:\n",
        "        print('No Match')"
      ],
      "metadata": {
        "colab": {
          "base_uri": "https://localhost:8080/",
          "height": 146
        },
        "id": "Set-3nJnP9JZ",
        "outputId": "61457937-9a40-4487-c19d-0d800db5caaa"
      },
      "execution_count": 29,
      "outputs": [
        {
          "output_type": "error",
          "ename": "SyntaxError",
          "evalue": "ignored",
          "traceback": [
            "\u001b[0;36m  File \u001b[0;32m\"<ipython-input-29-775af7124e6a>\"\u001b[0;36m, line \u001b[0;32m4\u001b[0m\n\u001b[0;31m    case 'Hello' or 'World':\u001b[0m\n\u001b[0m                 ^\u001b[0m\n\u001b[0;31mSyntaxError\u001b[0m\u001b[0;31m:\u001b[0m invalid syntax\n"
          ]
        }
      ]
    },
    {
      "cell_type": "code",
      "source": [
        "#그러면 어떻게 동시 만족을 표현할 수 있을까요?\n",
        "#예시\n",
        "\n",
        "text = 'Hello'\n",
        "\n",
        "match text:\n",
        "    case 'Hello' | 'World':\n",
        "        print('Hello world')\n",
        "    case _: #이전 케이스에 해당하지 않는경우\n",
        "        print('No match')"
      ],
      "metadata": {
        "colab": {
          "base_uri": "https://localhost:8080/"
        },
        "id": "jb1z1lIHQGao",
        "outputId": "d71a2c0f-c5b3-4f66-ea37-96c0c10c8919"
      },
      "execution_count": 32,
      "outputs": [
        {
          "output_type": "stream",
          "name": "stdout",
          "text": [
            "Hello world\n"
          ]
        }
      ]
    },
    {
      "cell_type": "code",
      "source": [
        "def test(i):\n",
        "    if isinstance(i, int) == False:\n",
        "        print('정수를 입력하세요!!')\n",
        "        return\n",
        "\n",
        "    match i:\n",
        "        case 1:\n",
        "            print('One')\n",
        "        case 2:\n",
        "            print('Two')\n",
        "        case 3 | 4:\n",
        "            print('Three or Four')\n",
        "        case _ if i in range(5, 11) :\n",
        "            print('5~10')\n",
        "        case _ if i > 10:\n",
        "            print(f'{i} is greater than Ten')\n",
        "        case _:\n",
        "            print('숫자를 입력한게 맞나요?')\n",
        "\n",
        "test(456)\n",
        "test(1)\n",
        "test(2)\n",
        "test(3)\n",
        "test(4)\n",
        "test(6)\n",
        "test('23')"
      ],
      "metadata": {
        "colab": {
          "base_uri": "https://localhost:8080/"
        },
        "id": "47VF_xU4QzHv",
        "outputId": "4058152b-be12-4bf8-b7a5-1988fac7e30a"
      },
      "execution_count": 57,
      "outputs": [
        {
          "output_type": "stream",
          "name": "stdout",
          "text": [
            "456 is greater than Ten\n",
            "One\n",
            "Two\n",
            "Three or Four\n",
            "Three or Four\n",
            "5~10\n",
            "정수를 입력하세요!!\n"
          ]
        }
      ]
    },
    {
      "cell_type": "code",
      "source": [
        "#더 개선된 case\n",
        "\n",
        "def test(i):\n",
        "    if isinstance(i, int) == False:\n",
        "        print('정수를 입력하세요!!')\n",
        "        return\n",
        "\n",
        "    match i:\n",
        "        case 1:\n",
        "            print('One')\n",
        "        case 2:\n",
        "            print('Two')\n",
        "        case 3 | 4:\n",
        "            print('Three or Four')\n",
        "        case _:\n",
        "            if i in range(5, 11) :\n",
        "                print('5~10')\n",
        "            elif i > 10:\n",
        "                print(f'{i} is greater than Ten')\n",
        "            else:\n",
        "                print('숫자를 입력한게 맞나요?')\n",
        "test(456)\n",
        "test(1)\n",
        "test(2)\n",
        "test(3)\n",
        "test(4)\n",
        "test(6)\n",
        "test('23')"
      ],
      "metadata": {
        "colab": {
          "base_uri": "https://localhost:8080/"
        },
        "id": "Jq-kZCJtS7Ry",
        "outputId": "75c937cf-bcd7-46da-f1e3-4ab1e2729b53"
      },
      "execution_count": 60,
      "outputs": [
        {
          "output_type": "stream",
          "name": "stdout",
          "text": [
            "456 is greater than Ten\n",
            "One\n",
            "Two\n",
            "Three or Four\n",
            "Three or Four\n",
            "5~10\n",
            "정수를 입력하세요!!\n"
          ]
        }
      ]
    },
    {
      "cell_type": "code",
      "source": [
        "#문제 match를 사용하여 아래 코드를 완성해주세요.\n",
        "\n",
        "def attack(attack_type, damage):\n",
        "    #match...\n",
        "    pass\n",
        "\n",
        "attack('물리공격', 100) #출력 100의 데미지 입혔습니다.\n",
        "\n",
        "#각 공격에 따라 아래의 값이 출력되어야 합니다.\n",
        "#공격의 종류: 물리공격, 마법공격, 정신공격\n",
        "#물리공격, 마법공격 : '100의 데미지를 입혔습니다.'\n",
        "#정신공격: '100ms 만큼 상대방이 혼란을 느낍니다.'"
      ],
      "metadata": {
        "id": "XRPktuDNUmRB"
      },
      "execution_count": null,
      "outputs": []
    },
    {
      "cell_type": "code",
      "source": [
        "def attack(attack_type, damage):\n",
        "    match (attack_type, damage):\n",
        "        case ('물리공격', _) | ('마법공격', _):\n",
        "            print(f'{attack_type}으로 {damage}의 데미지를 입혔습니다.')\n",
        "        case ('정신공격', _):\n",
        "            print(f'{damage}ms 만큼 상대방이 혼란을 느낍니다.')\n",
        "        case (_, _):\n",
        "            print(f'{attack_type}은 규칙에 맞지않아...')\n",
        "\n",
        "\n",
        "attack('물리공격', 200)\n",
        "attack('마법공격', 200)\n",
        "attack('정신공격', 200)\n",
        "attack('강한공격', 200)"
      ],
      "metadata": {
        "colab": {
          "base_uri": "https://localhost:8080/"
        },
        "id": "649YHHYbU1b4",
        "outputId": "36781645-cc6e-47f8-f2b4-c694b9c36adf"
      },
      "execution_count": 68,
      "outputs": [
        {
          "output_type": "stream",
          "name": "stdout",
          "text": [
            "물리공격으로 200의 데미지를 입혔습니다.\n",
            "마법공격으로 200의 데미지를 입혔습니다.\n",
            "200ms 만큼 상대방이 혼란을 느낍니다.\n",
            "강한공격은 규칙에 맞지않아...\n"
          ]
        }
      ]
    },
    {
      "cell_type": "markdown",
      "source": [
        "##반복문"
      ],
      "metadata": {
        "id": "S1bZSYqMWyeB"
      }
    },
    {
      "cell_type": "code",
      "source": [
        "for x in 'hello': #순회 가능한 객체가 들어갑니다.\n",
        "    print(f'현재 값은{x} 입니다.')\n",
        "for x in range(1, 6):\n",
        "    print(f'현재 값은{x} 입니다.')\n"
      ],
      "metadata": {
        "colab": {
          "base_uri": "https://localhost:8080/"
        },
        "id": "Ahw84gngWzg0",
        "outputId": "a7ec25a2-91a3-4476-aaf8-60f0e6dbd692"
      },
      "execution_count": 70,
      "outputs": [
        {
          "output_type": "stream",
          "name": "stdout",
          "text": [
            "현재 값은h 입니다.\n",
            "현재 값은e 입니다.\n",
            "현재 값은l 입니다.\n",
            "현재 값은l 입니다.\n",
            "현재 값은o 입니다.\n",
            "현재 값은1 입니다.\n",
            "현재 값은2 입니다.\n",
            "현재 값은3 입니다.\n",
            "현재 값은4 입니다.\n",
            "현재 값은5 입니다.\n"
          ]
        }
      ]
    },
    {
      "cell_type": "code",
      "source": [
        "d = {\n",
        "    '하나' : 'one',\n",
        "    '둘' : 'two',\n",
        "    '셋' : 'three',\n",
        "}\n",
        "for i in d.keys():\n",
        "    print(i)\n",
        "for i in d.values():\n",
        "    print(i)"
      ],
      "metadata": {
        "colab": {
          "base_uri": "https://localhost:8080/"
        },
        "id": "HA5iHrC7XI6x",
        "outputId": "556b1923-0565-4710-9f86-16970680eae5"
      },
      "execution_count": 78,
      "outputs": [
        {
          "output_type": "stream",
          "name": "stdout",
          "text": [
            "하나\n",
            "둘\n",
            "셋\n",
            "one\n",
            "two\n",
            "three\n"
          ]
        }
      ]
    },
    {
      "cell_type": "code",
      "source": [
        "for i, j in d.items():\n",
        "    print(f'{i} : {j}')\n",
        "\n",
        "for k, v in d.items():\n",
        "    print(k, ':', d[k], sep=' ', end=', ')"
      ],
      "metadata": {
        "colab": {
          "base_uri": "https://localhost:8080/"
        },
        "id": "zODbyy_VXgjR",
        "outputId": "990eafe9-9470-4b3b-ab19-ee9782933f91"
      },
      "execution_count": 84,
      "outputs": [
        {
          "output_type": "stream",
          "name": "stdout",
          "text": [
            "하나 : one\n",
            "둘 : two\n",
            "셋 : three\n",
            "하나 : one, 둘 : two, 셋 : three, "
          ]
        }
      ]
    },
    {
      "cell_type": "code",
      "source": [
        "# __iter__ 이 메직메서드가 없다? for문이 안된다! 순회가능한 객체가 아니다.\n",
        "#있다? for문이 된다! 순회가능한 객체이다!\n",
        "\n",
        "# 1부터 시작해서 5까지의 값이 x에는 어떻게 들어가는 것일까요?\n",
        "x = iter('hello')\n",
        "print(x)"
      ],
      "metadata": {
        "colab": {
          "base_uri": "https://localhost:8080/"
        },
        "id": "A1h8CBR-YGem",
        "outputId": "6d5d8af0-0439-4936-c251-1aaedb176b42"
      },
      "execution_count": 87,
      "outputs": [
        {
          "output_type": "stream",
          "name": "stdout",
          "text": [
            "<str_iterator object at 0x7906305d5f60>\n"
          ]
        }
      ]
    },
    {
      "cell_type": "code",
      "source": [
        "print(next(x))\n",
        "print(next(x))\n",
        "print(next(x))\n",
        "print(next(x))"
      ],
      "metadata": {
        "colab": {
          "base_uri": "https://localhost:8080/"
        },
        "id": "IFmrB9T_YShT",
        "outputId": "c60e3237-3cfe-4206-854b-8381681658e0"
      },
      "execution_count": 88,
      "outputs": [
        {
          "output_type": "stream",
          "name": "stdout",
          "text": [
            "h\n",
            "e\n",
            "l\n",
            "l\n"
          ]
        }
      ]
    },
    {
      "cell_type": "code",
      "source": [
        "x = 'hello'\n",
        "y = x.__iter__()"
      ],
      "metadata": {
        "id": "NDDaTDHSYbvF"
      },
      "execution_count": 98,
      "outputs": []
    },
    {
      "cell_type": "code",
      "source": [
        "print(y.__next__())\n",
        "print(y.__next__())\n",
        "print(y.__next__())\n",
        "print(y.__next__())\n",
        "print(y.__next__())\n",
        "print(y.__next__())"
      ],
      "metadata": {
        "colab": {
          "base_uri": "https://localhost:8080/",
          "height": 307
        },
        "id": "0x217pw2Yi6Y",
        "outputId": "c9f0a555-ac68-48fd-f397-82c68f3f9ba4"
      },
      "execution_count": 99,
      "outputs": [
        {
          "output_type": "stream",
          "name": "stdout",
          "text": [
            "h\n",
            "e\n",
            "l\n",
            "l\n",
            "o\n"
          ]
        },
        {
          "output_type": "error",
          "ename": "StopIteration",
          "evalue": "ignored",
          "traceback": [
            "\u001b[0;31m---------------------------------------------------------------------------\u001b[0m",
            "\u001b[0;31mStopIteration\u001b[0m                             Traceback (most recent call last)",
            "\u001b[0;32m<ipython-input-99-10bb919f59a6>\u001b[0m in \u001b[0;36m<cell line: 6>\u001b[0;34m()\u001b[0m\n\u001b[1;32m      4\u001b[0m \u001b[0mprint\u001b[0m\u001b[0;34m(\u001b[0m\u001b[0my\u001b[0m\u001b[0;34m.\u001b[0m\u001b[0m__next__\u001b[0m\u001b[0;34m(\u001b[0m\u001b[0;34m)\u001b[0m\u001b[0;34m)\u001b[0m\u001b[0;34m\u001b[0m\u001b[0;34m\u001b[0m\u001b[0m\n\u001b[1;32m      5\u001b[0m \u001b[0mprint\u001b[0m\u001b[0;34m(\u001b[0m\u001b[0my\u001b[0m\u001b[0;34m.\u001b[0m\u001b[0m__next__\u001b[0m\u001b[0;34m(\u001b[0m\u001b[0;34m)\u001b[0m\u001b[0;34m)\u001b[0m\u001b[0;34m\u001b[0m\u001b[0;34m\u001b[0m\u001b[0m\n\u001b[0;32m----> 6\u001b[0;31m \u001b[0mprint\u001b[0m\u001b[0;34m(\u001b[0m\u001b[0my\u001b[0m\u001b[0;34m.\u001b[0m\u001b[0m__next__\u001b[0m\u001b[0;34m(\u001b[0m\u001b[0;34m)\u001b[0m\u001b[0;34m)\u001b[0m\u001b[0;34m\u001b[0m\u001b[0;34m\u001b[0m\u001b[0m\n\u001b[0m",
            "\u001b[0;31mStopIteration\u001b[0m: "
          ]
        }
      ]
    },
    {
      "cell_type": "code",
      "source": [
        "result = 0\n",
        "for i in range(0, 11, 2):\n",
        "    result += i\n",
        "\n",
        "print(result)"
      ],
      "metadata": {
        "colab": {
          "base_uri": "https://localhost:8080/"
        },
        "id": "fOWowDGCYxmO",
        "outputId": "f39231c3-d221-4d0b-ab47-52a232ee3ec7"
      },
      "execution_count": 2,
      "outputs": [
        {
          "output_type": "stream",
          "name": "stdout",
          "text": [
            "30\n"
          ]
        }
      ]
    },
    {
      "cell_type": "code",
      "source": [
        "n = 100\n",
        "result =  (n + 1) * n / 2\n",
        "result"
      ],
      "metadata": {
        "colab": {
          "base_uri": "https://localhost:8080/"
        },
        "id": "R9OLr4h-nQuU",
        "outputId": "9e872329-4b3d-46e4-da99-f2e36d178da8"
      },
      "execution_count": 4,
      "outputs": [
        {
          "output_type": "execute_result",
          "data": {
            "text/plain": [
              "5050.0"
            ]
          },
          "metadata": {},
          "execution_count": 4
        }
      ]
    },
    {
      "cell_type": "code",
      "source": [
        "#1부터 100까지 더하기\n",
        "\n",
        "result = 0\n",
        "for i in range(1, 101):\n",
        "    result += i\n",
        "print(result)\n",
        "\n",
        "#1부터 100까지 짝수를 더하는 코드\n",
        "#1. 권장하지 않는 코드(100번 돌아야하고, if문도 체크해야하고)\n",
        "\n",
        "result = 0\n",
        "for i in range(101):\n",
        "    if i % 2 == 0:\n",
        "        result += i\n",
        "print(result)\n",
        "\n",
        "#2.권장하는코드 (순회도 반만 돌고, if문도 없음)\n",
        "\n",
        "result = 0\n",
        "for i in range(0, 101, 2):\n",
        "    result += i\n",
        "print(result)\n",
        "\n",
        "#구구단 출력\n",
        "for i in range(2, 10):\n",
        "    for j in range(1, 10):\n",
        "        # print(f'{i} x {j} = {i*j}')\n",
        "        pass\n",
        "\n",
        "#홀수들에 특이한 덧셈을 하고 싶습니다.\n",
        "#예를 들어, 6이하의 특이한 덧셈을 한다면\n",
        "# 1 + 3 이하의수 + 5이하의 수...\n",
        "# 1+ 1 + 2 + 3 + 1 + 2 + 3 + 4 + 5 이렇게 답이 나와야 합니다.\n",
        "\n",
        "result = 0\n",
        "for i in [range(2), range(4), range(6)]:\n",
        "    for j in i:\n",
        "        result += j\n",
        "print(result)"
      ],
      "metadata": {
        "colab": {
          "base_uri": "https://localhost:8080/"
        },
        "id": "KW894CPDnhuQ",
        "outputId": "bff415e4-1ab0-4ce5-c0df-eeb2cd2e6ce2"
      },
      "execution_count": 11,
      "outputs": [
        {
          "output_type": "stream",
          "name": "stdout",
          "text": [
            "5050\n",
            "2550\n",
            "2550\n",
            "22\n"
          ]
        }
      ]
    },
    {
      "cell_type": "code",
      "source": [
        "#두 문제 모두 for는 중첩 2번 해야 합니다.\n",
        "\n",
        "#문제1\n",
        "#다음과 같은 문자열이 있습니다.\n",
        "#s = '135678'\n",
        "#이때 구구단 1단, 3단, 5단, 6단, 7단, 8단을 출력하는 코드를 만들어주세요.\n",
        "\n",
        "s ='135678'\n",
        "for num in s:\n",
        "    for j in range(1, 10):\n",
        "        print(f'{num} X {j} = {int(num) * j}')\n"
      ],
      "metadata": {
        "id": "gYGLOHqLpkOh"
      },
      "execution_count": null,
      "outputs": []
    },
    {
      "cell_type": "code",
      "source": [
        "#심화문제\n",
        "#특이한 구구단이 있다.\n",
        "# [2, 3 6]이 있었을 때 아래와 같이 출력되어야 한다.\n",
        "# 2, 3, 6단을 출력하고\n",
        "#곱해지는 수는 이에 [2, 3, 6]에 1씩을 더한\n",
        "# [3, 4, 7]이 각각 곱해져야 합니다.\n",
        "\n",
        "'''\n",
        "2 X 3 = 6\n",
        "2 X 4 = 8\n",
        "2 X 7 = 14\n",
        "3 X 3 = 9\n",
        "3 X 4 = 12\n",
        "3 X 7 = 21\n",
        "6 X 3 = 18\n",
        "6 X 4 = 24\n",
        "6 X 7 = 42\n",
        "'''\n",
        "\n",
        "l = [2, 3, 6]\n",
        "for num in l:\n",
        "    for j in l:\n",
        "        print(f'{num} X {j+1} = {num * (j+1)}')"
      ],
      "metadata": {
        "id": "0zTaP02Uqm1G"
      },
      "execution_count": null,
      "outputs": []
    },
    {
      "cell_type": "code",
      "source": [
        "nums = [1,2,3,4,5]\n",
        "result = [f'{x}는 3보다 큰 짝수' if x % 2 ==0 else f'{x}는 3보다 큰 홀 수' for x in nums if x > 3]\n",
        "result"
      ],
      "metadata": {
        "colab": {
          "base_uri": "https://localhost:8080/"
        },
        "id": "IxUmkxj4sXAr",
        "outputId": "b27cf86c-2ead-4718-c85d-aa0da1a9b334"
      },
      "execution_count": 26,
      "outputs": [
        {
          "output_type": "execute_result",
          "data": {
            "text/plain": [
              "['4는 3보다 큰 짝수', '5는 3보다 큰 홀 수']"
            ]
          },
          "metadata": {},
          "execution_count": 26
        }
      ]
    },
    {
      "cell_type": "code",
      "source": [
        "#개선\n",
        "result =  []\n",
        "nums = [1, 2, 3, 4, 5]\n",
        "\n",
        "for x in nums:\n",
        "    if x > 3:\n",
        "        if x % 2 == 0:\n",
        "            result.append(f'{x}는 3보다 큰 짝수')\n",
        "        else:\n",
        "           result.append(f'{x}는 3보다 큰 홀수')\n",
        "result"
      ],
      "metadata": {
        "colab": {
          "base_uri": "https://localhost:8080/"
        },
        "id": "FxPPnp4Ls_De",
        "outputId": "fad6b8f7-ca1a-4162-cff8-dd49740305aa"
      },
      "execution_count": 28,
      "outputs": [
        {
          "output_type": "execute_result",
          "data": {
            "text/plain": [
              "['4는 3보다 큰 짝수', '5는 3보다 큰 홀수']"
            ]
          },
          "metadata": {},
          "execution_count": 28
        }
      ]
    },
    {
      "cell_type": "code",
      "source": [
        "def something(i):\n",
        "    if i % 100 == 0:\n",
        "        return i\n",
        "    else:\n",
        "        return 0\n",
        "\n",
        "l = [100, 200, 300, 301, 302, 202]\n",
        "l = list(map(something, l))\n",
        "\n",
        "print(l)"
      ],
      "metadata": {
        "colab": {
          "base_uri": "https://localhost:8080/"
        },
        "id": "Noel7LdxtenM",
        "outputId": "570cadf3-c4e5-4540-d842-0a1775b29419"
      },
      "execution_count": 38,
      "outputs": [
        {
          "output_type": "stream",
          "name": "stdout",
          "text": [
            "[100, 200, 300, 0, 0, 0]\n"
          ]
        }
      ]
    },
    {
      "cell_type": "code",
      "source": [
        "#하나만 리스트여도 쌓이면 상관없이 잘 돌아감\n",
        "skill = [\n",
        "    ('고기잡이', 100, 'SS'),\n",
        "    ('고기팔기', 120, 'SSS'),\n",
        "    ('낚시', 5, 'C'),\n",
        "    ('통발', 5, 'C'),\n",
        "    ('큰그물', 5, 'C')\n",
        "]\n",
        "\n",
        "for skillName, level, skillgarde in skill:\n",
        "    print(skillName, level, skillgarde)"
      ],
      "metadata": {
        "colab": {
          "base_uri": "https://localhost:8080/"
        },
        "id": "I43CFz3buwga",
        "outputId": "02f16836-c3c6-428f-a144-40019c665069"
      },
      "execution_count": 40,
      "outputs": [
        {
          "output_type": "stream",
          "name": "stdout",
          "text": [
            "고기잡이 100 SS\n",
            "고기팔기 120 SSS\n",
            "낚시 5 C\n",
            "통발 5 C\n",
            "큰그물 5 C\n"
          ]
        }
      ]
    },
    {
      "cell_type": "code",
      "source": [
        "영화누적관객수 = ['레미제라블', '뷰티인사이트', '매트릭스', '인셉션', '어거스트 러쉬']\n",
        "for i in enumerate(영화누적관객수):\n",
        "    print(i)\n",
        "\n",
        "for rank, movieName in enumerate(영화누적관객수, 1):\n",
        "    print(f'누적관객수 {rank}위! {movieName}~')"
      ],
      "metadata": {
        "colab": {
          "base_uri": "https://localhost:8080/"
        },
        "id": "SxymlGbWvnTT",
        "outputId": "18c4e86b-39ba-4113-8757-a741820100b4"
      },
      "execution_count": 42,
      "outputs": [
        {
          "output_type": "stream",
          "name": "stdout",
          "text": [
            "(0, '레미제라블')\n",
            "(1, '뷰티인사이트')\n",
            "(2, '매트릭스')\n",
            "(3, '인셉션')\n",
            "(4, '어거스트 러쉬')\n",
            "누적관객수 1위! 레미제라블~\n",
            "누적관객수 2위! 뷰티인사이트~\n",
            "누적관객수 3위! 매트릭스~\n",
            "누적관객수 4위! 인셉션~\n",
            "누적관객수 5위! 어거스트 러쉬~\n"
          ]
        }
      ]
    },
    {
      "cell_type": "code",
      "source": [
        "#실행시키면 런타임 다시 시작해야 합니다.\n",
        "l = [1, 2]\n",
        "for i in l:\n",
        "    l.append(3)\n",
        "    print(i)"
      ],
      "metadata": {
        "id": "rOTOZq6Vwbjk"
      },
      "execution_count": null,
      "outputs": []
    },
    {
      "cell_type": "code",
      "source": [
        "#파이썬 for문은 순회할 객체를 평가하고 그 결과를 바탕으로 순회를 진행\n",
        "#문자열은 불변이기 때문에 원본문자열이 변경되지않음\n",
        "#반면 list는 가변적이기 때문에 순회도중 list의 내용이 변경되면서 무한 순회 발생.\n",
        "\n",
        "s = 'hello'\n",
        "for i in s: #정상적 순회\n",
        "    s += '!'\n",
        "    print(i)\n",
        "    print(s)"
      ],
      "metadata": {
        "colab": {
          "base_uri": "https://localhost:8080/"
        },
        "id": "UpUks_GgwwOB",
        "outputId": "912a53a3-f497-44a0-af56-831d3d5b8d28"
      },
      "execution_count": 52,
      "outputs": [
        {
          "output_type": "stream",
          "name": "stdout",
          "text": [
            "h\n",
            "hello!\n",
            "e\n",
            "hello!!\n",
            "l\n",
            "hello!!!\n",
            "l\n",
            "hello!!!!\n",
            "o\n",
            "hello!!!!!\n",
            "hello!!!!!\n"
          ]
        }
      ]
    },
    {
      "cell_type": "code",
      "source": [
        "#for문에서 순회하는동안 dict를 업데이트, 제거하는것은 허용하지 않음.\n",
        "\n",
        "d = {'one' : '하나'}\n",
        "for i in d:\n",
        "    d.update({i +d[i]: 1})\n",
        "print(d)"
      ],
      "metadata": {
        "colab": {
          "base_uri": "https://localhost:8080/",
          "height": 217
        },
        "id": "n6vioIoFyjW2",
        "outputId": "5c03e016-44eb-4191-8430-7e4370030a4a"
      },
      "execution_count": 54,
      "outputs": [
        {
          "output_type": "error",
          "ename": "RuntimeError",
          "evalue": "ignored",
          "traceback": [
            "\u001b[0;31m---------------------------------------------------------------------------\u001b[0m",
            "\u001b[0;31mRuntimeError\u001b[0m                              Traceback (most recent call last)",
            "\u001b[0;32m<ipython-input-54-f9beab4381e1>\u001b[0m in \u001b[0;36m<cell line: 2>\u001b[0;34m()\u001b[0m\n\u001b[1;32m      1\u001b[0m \u001b[0md\u001b[0m \u001b[0;34m=\u001b[0m \u001b[0;34m{\u001b[0m\u001b[0;34m'one'\u001b[0m \u001b[0;34m:\u001b[0m \u001b[0;34m'하나'\u001b[0m\u001b[0;34m}\u001b[0m\u001b[0;34m\u001b[0m\u001b[0;34m\u001b[0m\u001b[0m\n\u001b[0;32m----> 2\u001b[0;31m \u001b[0;32mfor\u001b[0m \u001b[0mi\u001b[0m \u001b[0;32min\u001b[0m \u001b[0md\u001b[0m\u001b[0;34m:\u001b[0m\u001b[0;34m\u001b[0m\u001b[0;34m\u001b[0m\u001b[0m\n\u001b[0m\u001b[1;32m      3\u001b[0m     \u001b[0md\u001b[0m\u001b[0;34m.\u001b[0m\u001b[0mupdate\u001b[0m\u001b[0;34m(\u001b[0m\u001b[0;34m{\u001b[0m\u001b[0mi\u001b[0m \u001b[0;34m+\u001b[0m\u001b[0md\u001b[0m\u001b[0;34m[\u001b[0m\u001b[0mi\u001b[0m\u001b[0;34m]\u001b[0m\u001b[0;34m:\u001b[0m \u001b[0;36m1\u001b[0m\u001b[0;34m}\u001b[0m\u001b[0;34m)\u001b[0m\u001b[0;34m\u001b[0m\u001b[0;34m\u001b[0m\u001b[0m\n",
            "\u001b[0;31mRuntimeError\u001b[0m: dictionary changed size during iteration"
          ]
        }
      ]
    },
    {
      "cell_type": "code",
      "source": [
        "#그래서 안에서 새로운 dict요소를 추가하고 안에서 업데이트 후 덮어 씌우는건 가능.\n",
        "d = {'one' : '하나'}\n",
        "for i in d:\n",
        "    li = dict(d)\n",
        "    li.update({i +li[i]: None})\n",
        "print(li)"
      ],
      "metadata": {
        "colab": {
          "base_uri": "https://localhost:8080/"
        },
        "id": "7M9os2VHzVOo",
        "outputId": "b59bbf0a-95dd-4c3a-e50e-c846e5dafb1f"
      },
      "execution_count": 57,
      "outputs": [
        {
          "output_type": "stream",
          "name": "stdout",
          "text": [
            "{'one': '하나', 'one하나': None}\n"
          ]
        }
      ]
    },
    {
      "cell_type": "code",
      "source": [
        "#이런 코드는 OS에서 사용하거나\n",
        "#쉘 만들 때 사용합니다.\n",
        "while True:\n",
        "    userinput = input('>')\n",
        "    if userinput == 'pwd':\n",
        "        print('현재 위치 출력')\n",
        "    elif userinput == 'dir' or userinput == 'ls':\n",
        "        print('현재 폴더의 위치와 파일명 출력')\n",
        "    elif userinput == 'exit':\n",
        "        print('안녕히 가세요')\n",
        "        break\n",
        "    else:\n",
        "        print('없는 단어야. \"다시\"')\n"
      ],
      "metadata": {
        "colab": {
          "base_uri": "https://localhost:8080/"
        },
        "id": "igzAerjZ0E3m",
        "outputId": "fdb31d09-69d0-4626-e6f9-d1fed67937b1"
      },
      "execution_count": 59,
      "outputs": [
        {
          "output_type": "stream",
          "name": "stdout",
          "text": [
            ">ㅁㄴㅇㄹㄴㅁㅇㄹ\n",
            "없는 단어야. \"다시\"\n",
            ">ㅁㄴㅇㄻㄴㅇㄹ\n",
            "없는 단어야. \"다시\"\n",
            ">ㅁㄴㅇㄻㄴㅇㄻ\n",
            "없는 단어야. \"다시\"\n",
            ">exit\n",
            "안녕히 가세요\n"
          ]
        }
      ]
    },
    {
      "cell_type": "code",
      "source": [
        "# .py파일로 작성해서 실행해보세요.\n",
        "import os\n",
        "\n",
        "while True:\n",
        "    userinput = input('>')\n",
        "    if userinput == 'pwd':\n",
        "        # print('현재 위치 출력')\n",
        "        # print('\\\\'.join(__file__.split('\\\\')[:-1]))\n",
        "        print(os.getcwd())\n",
        "    elif userinput == 'dir' or userinput == 'ls':\n",
        "        # print('현재 폴더에 폴더와 파일명 출력')\n",
        "        print(os.listdir(os.getcwd()))\n",
        "    elif userinput == 'exit':\n",
        "        print('안녕히가세요.')\n",
        "        break"
      ],
      "metadata": {
        "colab": {
          "base_uri": "https://localhost:8080/"
        },
        "id": "yfX1YDjO1EtC",
        "outputId": "3f6aceea-f4a0-4ca8-8f0d-9a6c3ec2babc"
      },
      "execution_count": 60,
      "outputs": [
        {
          "output_type": "stream",
          "name": "stdout",
          "text": [
            ">pwd\n",
            "/content\n",
            ">dir\n",
            "['.config', 'sample_data']\n",
            ">exit\n",
            "안녕히가세요.\n"
          ]
        }
      ]
    },
    {
      "cell_type": "code",
      "source": [
        "import random\n",
        "\n",
        "answer = random.randint(1, 1000)\n",
        "while True:\n",
        "    inin = input('숫자를 입력해 주세요. >>')\n",
        "    try:\n",
        "        userinput = int(inin)\n",
        "    except ValueError:\n",
        "        print('숫자 넣으라고 ㅅㅂ')\n",
        "        continue\n",
        "    if userinput > answer:\n",
        "        print('너무 높아')\n",
        "    elif userinput < answer:\n",
        "        print('너무 낮아')\n",
        "    else:\n",
        "        print(f'정답! {answer}는 1~1000까지 숫자였어')\n",
        "        break"
      ],
      "metadata": {
        "id": "72ZrYHeP1crq"
      },
      "execution_count": null,
      "outputs": []
    },
    {
      "cell_type": "code",
      "source": [
        "import random\n",
        "s =[1, 2, 3, 4, 5]\n",
        "random.shuffle(s)\n",
        "print(s)\n",
        "random.shuffle(s)\n",
        "print(s)"
      ],
      "metadata": {
        "colab": {
          "base_uri": "https://localhost:8080/"
        },
        "id": "qY4Jw4Ck46is",
        "outputId": "010fa6f7-0c39-43ed-e735-8cad3f56d575"
      },
      "execution_count": 87,
      "outputs": [
        {
          "output_type": "stream",
          "name": "stdout",
          "text": [
            "[4, 2, 1, 5, 3]\n",
            "[1, 5, 3, 2, 4]\n"
          ]
        }
      ]
    },
    {
      "cell_type": "code",
      "source": [
        "x = (n := 10) * 2\n",
        "print(x)  # 출력: 20\n",
        "print(n)  # 출력: 10"
      ],
      "metadata": {
        "colab": {
          "base_uri": "https://localhost:8080/"
        },
        "id": "sAFe1mIb5PhO",
        "outputId": "ddbf772c-e80d-402e-d764-bd0bdbda7b82"
      },
      "execution_count": 88,
      "outputs": [
        {
          "output_type": "stream",
          "name": "stdout",
          "text": [
            "20\n",
            "10\n"
          ]
        }
      ]
    },
    {
      "cell_type": "code",
      "source": [
        "import random\n",
        "\n",
        "while (x := random.randint(0, 10)) != 7:\n",
        "    print(x)"
      ],
      "metadata": {
        "colab": {
          "base_uri": "https://localhost:8080/"
        },
        "id": "wquvqSFs5SoG",
        "outputId": "be9e29a2-1a3d-4146-eef5-cfa074655525"
      },
      "execution_count": 93,
      "outputs": [
        {
          "output_type": "stream",
          "name": "stdout",
          "text": [
            "0\n",
            "9\n",
            "4\n",
            "2\n",
            "4\n",
            "3\n",
            "8\n",
            "1\n",
            "2\n",
            "9\n",
            "4\n"
          ]
        }
      ]
    },
    {
      "cell_type": "code",
      "source": [
        "i = 2\n",
        "while i < 10:\n",
        "    j = 1 #매우 중요!!!!!!! while문은 중첩해서 사용할 때 초기화가 필요합니다.\n",
        "    while j < 10:\n",
        "        print(f'{i} X {j} = {i*j}')\n",
        "        j += 1\n",
        "    i +=1"
      ],
      "metadata": {
        "id": "t8FAbBte5r77"
      },
      "execution_count": null,
      "outputs": []
    },
    {
      "cell_type": "code",
      "source": [
        "x = 0\n",
        "while x < 10:\n",
        "    print(x)\n",
        "    if x ==5:\n",
        "        break\n",
        "    x +=1"
      ],
      "metadata": {
        "colab": {
          "base_uri": "https://localhost:8080/"
        },
        "id": "dGOpqjZq6IM-",
        "outputId": "d6f07f09-fb39-4560-a4f6-3cd2e496db23"
      },
      "execution_count": 97,
      "outputs": [
        {
          "output_type": "stream",
          "name": "stdout",
          "text": [
            "0\n",
            "1\n",
            "2\n",
            "3\n",
            "4\n",
            "5\n"
          ]
        }
      ]
    },
    {
      "cell_type": "code",
      "source": [
        "# 주의해주세요! 무한반복입니다!\n",
        "x = 0\n",
        "while x < 10:\n",
        "    print(x)\n",
        "    if x == 5:\n",
        "        continue\n",
        "    x += 1"
      ],
      "metadata": {
        "id": "PXYLxBCQ6TDN"
      },
      "execution_count": null,
      "outputs": []
    },
    {
      "cell_type": "code",
      "source": [
        "x = 0\n",
        "while x < 5:\n",
        "    x += 1\n",
        "    if x == 3:\n",
        "        continue\n",
        "    print(x)"
      ],
      "metadata": {
        "colab": {
          "base_uri": "https://localhost:8080/"
        },
        "id": "EqvL5MJu67Ij",
        "outputId": "5f46d3c5-c9c6-409e-e5a9-b84acb3d30c7"
      },
      "execution_count": 100,
      "outputs": [
        {
          "output_type": "stream",
          "name": "stdout",
          "text": [
            "1\n",
            "2\n",
            "4\n",
            "5\n"
          ]
        }
      ]
    },
    {
      "cell_type": "code",
      "source": [
        "x = 0\n",
        "while x < 5:\n",
        "    x += 1\n",
        "    if x == 3:\n",
        "        pass\n",
        "    print(x)"
      ],
      "metadata": {
        "colab": {
          "base_uri": "https://localhost:8080/"
        },
        "id": "4DobfgMH69UD",
        "outputId": "116780ac-ad86-4243-d3ed-f48d30f889ee"
      },
      "execution_count": 101,
      "outputs": [
        {
          "output_type": "stream",
          "name": "stdout",
          "text": [
            "1\n",
            "2\n",
            "3\n",
            "4\n",
            "5\n"
          ]
        }
      ]
    },
    {
      "cell_type": "code",
      "source": [
        "# break은 바로 위에 부모만 탈출합니다.\n",
        "# continue는 아래코드를 실행하지 않고 다음 루프로 넘어갑니다.\n",
        "# pass는 지나칠 뿐입니다.\n",
        "# 아래에서 pass는 코드가 애러가 나지 않게만 합니다.\n",
        "x = 0\n",
        "while x < 10:\n",
        "    x += 1\n",
        "    if x == 5:\n",
        "        pass\n",
        "    print(x)"
      ],
      "metadata": {
        "colab": {
          "base_uri": "https://localhost:8080/"
        },
        "id": "VV17Tzjz7PGY",
        "outputId": "81b18992-3d37-4a9e-dcc6-74d59814d143"
      },
      "execution_count": 102,
      "outputs": [
        {
          "output_type": "stream",
          "name": "stdout",
          "text": [
            "1\n",
            "2\n",
            "3\n",
            "4\n",
            "5\n",
            "6\n",
            "7\n",
            "8\n",
            "9\n",
            "10\n"
          ]
        }
      ]
    },
    {
      "cell_type": "code",
      "source": [
        "i = 2\n",
        "while i < 10:\n",
        "    j = 1 # 별표 5개! while문은 중첩해서 사용할 때 초기화가 필요합니다!\n",
        "    while j < 10:\n",
        "        if j == 3:\n",
        "            break\n",
        "        print(f'{i} X {j} = {i*j}')\n",
        "        j += 1\n",
        "    i += 1"
      ],
      "metadata": {
        "colab": {
          "base_uri": "https://localhost:8080/"
        },
        "id": "sg9Ew45l7bKo",
        "outputId": "d4e9aa53-6d6f-445d-b44f-8a387b51a1f7"
      },
      "execution_count": 103,
      "outputs": [
        {
          "output_type": "stream",
          "name": "stdout",
          "text": [
            "2 X 1 = 2\n",
            "2 X 2 = 4\n",
            "3 X 1 = 3\n",
            "3 X 2 = 6\n",
            "4 X 1 = 4\n",
            "4 X 2 = 8\n",
            "5 X 1 = 5\n",
            "5 X 2 = 10\n",
            "6 X 1 = 6\n",
            "6 X 2 = 12\n",
            "7 X 1 = 7\n",
            "7 X 2 = 14\n",
            "8 X 1 = 8\n",
            "8 X 2 = 16\n",
            "9 X 1 = 9\n",
            "9 X 2 = 18\n"
          ]
        }
      ]
    },
    {
      "cell_type": "code",
      "source": [
        "switch = 0\n",
        "for i in range(5):\n",
        "    if switch == 1:\n",
        "        break\n",
        "    for j in range(5):\n",
        "        if j == 3:\n",
        "            switch = 1\n",
        "            break\n",
        "        print(f'{i}, {j}')"
      ],
      "metadata": {
        "colab": {
          "base_uri": "https://localhost:8080/"
        },
        "id": "PfLqCyGH7kqp",
        "outputId": "ac7f204b-2ce0-4bb5-c3e6-5580dd91c2ac"
      },
      "execution_count": 104,
      "outputs": [
        {
          "output_type": "stream",
          "name": "stdout",
          "text": [
            "0, 0\n",
            "0, 1\n",
            "0, 2\n"
          ]
        }
      ]
    },
    {
      "cell_type": "code",
      "source": [
        "from logging import exception\n",
        "\n",
        "class 그만(Exception):\n",
        "    pass\n",
        "\n",
        "\n",
        "try:\n",
        "    for i in range(2, 10):\n",
        "        for j in range(1, 10):\n",
        "            if j ==3:\n",
        "                raise 그만\n",
        "            print(f'{i} X {j} = {i*j}')\n",
        "except 그만:\n",
        "    print('Done')"
      ],
      "metadata": {
        "colab": {
          "base_uri": "https://localhost:8080/"
        },
        "id": "5ARKPlhD702d",
        "outputId": "cc011af0-bb61-4d57-e104-ab81dc517f97"
      },
      "execution_count": 114,
      "outputs": [
        {
          "output_type": "stream",
          "name": "stdout",
          "text": [
            "2 X 1 = 2\n",
            "2 X 2 = 4\n",
            "Done\n"
          ]
        }
      ]
    },
    {
      "cell_type": "code",
      "source": [
        "# else라고 하지 않고 다른 키워드로 해야한다는 주장이 있었어요.\n",
        "\n",
        "for i in range(5):\n",
        "    print(i)\n",
        "else:\n",
        "    print('정상 종료')\n",
        "\n",
        "# else라고 하지 않고 다른 키워드로 해야한다는 주장이 있었어요.\n",
        "\n",
        "for i in range(5):\n",
        "    if i == 3:\n",
        "        break\n",
        "    print(i)\n",
        "else:\n",
        "    print('정상종료')"
      ],
      "metadata": {
        "colab": {
          "base_uri": "https://localhost:8080/"
        },
        "id": "ioSQ4wIN7501",
        "outputId": "b5999ebc-6dc2-4bf8-c747-5ea5e8c37b8d"
      },
      "execution_count": 117,
      "outputs": [
        {
          "output_type": "stream",
          "name": "stdout",
          "text": [
            "0\n",
            "1\n",
            "2\n",
            "3\n",
            "4\n",
            "정상 종료\n",
            "0\n",
            "1\n",
            "2\n"
          ]
        }
      ]
    },
    {
      "cell_type": "code",
      "source": [
        "x = 1\n",
        "while x < 10:\n",
        "    print(x)\n",
        "    if x == 3:\n",
        "        break\n",
        "    x += 1\n",
        "else:\n",
        "    print('정상종료')"
      ],
      "metadata": {
        "colab": {
          "base_uri": "https://localhost:8080/"
        },
        "id": "GAdSIaLt9NT-",
        "outputId": "84cd4a91-50a9-42f0-b4f5-89d59d530667"
      },
      "execution_count": 119,
      "outputs": [
        {
          "output_type": "stream",
          "name": "stdout",
          "text": [
            "1\n",
            "2\n",
            "3\n"
          ]
        }
      ]
    },
    {
      "cell_type": "code",
      "source": [
        "data = [\n",
        "    {\n",
        "    \"_id\": \"fd7e9a0f-e77b-436a-B781-119b66033d49\",\n",
        "    \"index\": \"1\",\n",
        "    \"name\": \"나주헌\",\n",
        "    \"email\": \"user-tzctc1q@suspendisse.org\",\n",
        "    \"phone\": \"010-5547-5841\",\n",
        "    \"country\": \"과테말라\",\n",
        "    \"address\": \"광나루로 99-2\",\n",
        "    \"job\": \"유치원교사\",\n",
        "    \"gender\": \"여성\",\n",
        "    \"age\": \"43\"\n",
        "    },\n",
        "    {\n",
        "    \"_id\": \"8ec6eabb-160a-41e4-A3de-cd33aff0b281\",\n",
        "    \"index\": \"2\",\n",
        "    \"name\": \"엄루다\",\n",
        "    \"email\": \"user-1rz7xby@mi.org\",\n",
        "    \"phone\": \"010-3963-9373\",\n",
        "    \"country\": \"엘살바도르\",\n",
        "    \"address\": \"석촌호수로 37-1\",\n",
        "    \"job\": \"프로게이머\",\n",
        "    \"gender\": \"남성\",\n",
        "    \"age\": \"22\"\n",
        "  },\n",
        "  {\n",
        "    \"_id\": \"bcf804f7-0452-4c31-B9d1-20cc2d38490b\",\n",
        "    \"index\": \"3\",\n",
        "    \"name\": \"형유환\",\n",
        "    \"email\": \"user-ym96wth@have.net\",\n",
        "    \"phone\": \"010-6389-9499\",\n",
        "    \"country\": \"벨리즈\",\n",
        "    \"address\": \"잠실로 33-3\",\n",
        "    \"job\": \"아나운서\",\n",
        "    \"gender\": \"남성\",\n",
        "    \"age\": \"31\"\n",
        "  },\n",
        "  {\n",
        "    \"_id\": \"11006f0d-e88d-41fc-A288-caa2e67927e7\",\n",
        "    \"index\": \"4\",\n",
        "    \"name\": \"위도현\",\n",
        "    \"email\": \"user-tkxj6f5@diam.org\",\n",
        "    \"phone\": \"010-4246-4752\",\n",
        "    \"country\": \"바레인\",\n",
        "    \"address\": \"종로 99-8\",\n",
        "    \"job\": \"작곡가\",\n",
        "    \"gender\": \"여성\",\n",
        "    \"age\": \"42\"\n",
        "  },\n",
        "  {\n",
        "    \"_id\": \"b7421487-da52-4410-B696-17bab958a5d8\",\n",
        "    \"index\": \"5\",\n",
        "    \"name\": \"유성재\",\n",
        "    \"email\": \"user-bgxih63@Sed.net\",\n",
        "    \"phone\": \"010-6359-7592\",\n",
        "    \"country\": \"피지\",\n",
        "    \"address\": \"방학로 71-3\",\n",
        "    \"job\": \"연기자\",\n",
        "    \"gender\": \"여성\",\n",
        "    \"age\": \"48\"\n",
        "  }\n",
        "]"
      ],
      "metadata": {
        "id": "tPZSOlxE9kKS"
      },
      "execution_count": 121,
      "outputs": []
    },
    {
      "cell_type": "code",
      "source": [
        "## 문제 1번: 평균 나이를 출력해주세요.\n",
        "# 문제 2번: 남녀 성비를 출력해주세요.\n",
        "\n",
        "data[0]"
      ],
      "metadata": {
        "colab": {
          "base_uri": "https://localhost:8080/"
        },
        "id": "BDfOevFZ95pl",
        "outputId": "6f8523d9-b64c-475c-efe4-66e8a60efa92"
      },
      "execution_count": 132,
      "outputs": [
        {
          "output_type": "execute_result",
          "data": {
            "text/plain": [
              "{'_id': 'fd7e9a0f-e77b-436a-B781-119b66033d49',\n",
              " 'index': '1',\n",
              " 'name': '나주헌',\n",
              " 'email': 'user-tzctc1q@suspendisse.org',\n",
              " 'phone': '010-5547-5841',\n",
              " 'country': '과테말라',\n",
              " 'address': '광나루로 99-2',\n",
              " 'job': '유치원교사',\n",
              " 'gender': '여성',\n",
              " 'age': '43'}"
            ]
          },
          "metadata": {},
          "execution_count": 132
        }
      ]
    },
    {
      "cell_type": "code",
      "source": [
        "#1번 평균나이\n",
        "age = map(lambda x: x['age'], data)\n",
        "age = list(map(int, age))\n",
        "average = sum(age) / len(age)\n",
        "average"
      ],
      "metadata": {
        "colab": {
          "base_uri": "https://localhost:8080/"
        },
        "id": "S-gyk3WZ-xEZ",
        "outputId": "0d414f83-45d7-4ff7-bd5d-9dc4ca4a1096"
      },
      "execution_count": 145,
      "outputs": [
        {
          "output_type": "execute_result",
          "data": {
            "text/plain": [
              "37.2"
            ]
          },
          "metadata": {},
          "execution_count": 145
        }
      ]
    },
    {
      "cell_type": "code",
      "source": [
        "#2번 남녀 성비\n",
        "gen = list(map(lambda x: x['gender'], data))\n",
        "\n",
        "def 성비(genlist):\n",
        "    man = genlist.count('남성')\n",
        "    woman = genlist.count('여성')\n",
        "    print(f'총 인원 {man + woman}명중 남성 {man}, 여성{woman} 으로 성비는 \"{round(man / woman, 2)}\"입니다.')\n",
        "    print(man / (man+woman))\n",
        "\n",
        "성비(gen)"
      ],
      "metadata": {
        "colab": {
          "base_uri": "https://localhost:8080/"
        },
        "id": "o-iXEdiK_4gE",
        "outputId": "da2b9aeb-6d00-464d-812e-5ff2c6efd669"
      },
      "execution_count": 163,
      "outputs": [
        {
          "output_type": "stream",
          "name": "stdout",
          "text": [
            "총 인원 5명중 남성 2, 여성3 으로 성비는 \"0.67\"입니다.\n",
            "0.4\n"
          ]
        }
      ]
    },
    {
      "cell_type": "code",
      "source": [
        "a = map(int, ['1', '2'])\n",
        "a = list(a)\n",
        "a"
      ],
      "metadata": {
        "colab": {
          "base_uri": "https://localhost:8080/"
        },
        "id": "BkKxOW00BXYB",
        "outputId": "3e5ad602-daea-49f7-a370-e28110725832"
      },
      "execution_count": 160,
      "outputs": [
        {
          "output_type": "execute_result",
          "data": {
            "text/plain": [
              "[1, 2]"
            ]
          },
          "metadata": {},
          "execution_count": 160
        }
      ]
    },
    {
      "cell_type": "code",
      "source": [
        "gender = list(map(lambda x: x['gender'], data))\n",
        "total = len(gender)\n",
        "man = gender.count('남성')\n",
        "woman = total - man\n",
        "man / total * 100, woman / total * 100"
      ],
      "metadata": {
        "colab": {
          "base_uri": "https://localhost:8080/"
        },
        "id": "dOr9PHgqBiQI",
        "outputId": "421f2782-8c52-42ae-f56f-a0a02236bb79"
      },
      "execution_count": 161,
      "outputs": [
        {
          "output_type": "execute_result",
          "data": {
            "text/plain": [
              "(40.0, 60.0)"
            ]
          },
          "metadata": {},
          "execution_count": 161
        }
      ]
    },
    {
      "cell_type": "code",
      "source": [
        "n = 0\n",
        "while n < 5:\n",
        "    print(f'현제 숫자는 {n}입니다')\n",
        "    n += 1\n",
        "    if n > 3:\n",
        "        break\n",
        "else:\n",
        "        print('반복문을 종료합니다.')"
      ],
      "metadata": {
        "colab": {
          "base_uri": "https://localhost:8080/"
        },
        "id": "puLKO9GiCJf3",
        "outputId": "2fb31552-fce5-45af-96f5-f91ac25cd7d3"
      },
      "execution_count": 167,
      "outputs": [
        {
          "output_type": "stream",
          "name": "stdout",
          "text": [
            "현제 숫자는 0입니다\n",
            "현제 숫자는 1입니다\n",
            "현제 숫자는 2입니다\n",
            "현제 숫자는 3입니다\n"
          ]
        }
      ]
    },
    {
      "cell_type": "markdown",
      "source": [
        "##클래스"
      ],
      "metadata": {
        "id": "9rKblydJCj5L"
      }
    },
    {
      "cell_type": "code",
      "source": [
        "#클래스 공부\n",
        "\n",
        "class Car: #차의 설계 도면 또는 차 공장 => 클래스\n",
        "    max_speed = 300\n",
        "    max_people = 5\n",
        "    car_gear = ['P', 'D', 'R', 'N']\n",
        "\n",
        "    def start(self):\n",
        "        print('자동차 출발합니다!')\n",
        "\n",
        "    def stop(self):\n",
        "        print('차가 멈췄습니다.')\n",
        "\n",
        "#공장에서 막 찍혀나온 자동차 3대\n",
        "# model x, y, s => 인스턴스\n",
        "\n",
        "modelx = Car() # 인트턴스 = 클래스()\n",
        "modely = Car()\n",
        "models = Car()\n",
        "\n",
        "# Car.max_speed #modelx의 속도를 보고 싶으면 modelx.max_speed를 찍어야 합니다.\n",
        "# modelx를 제가 구매했습니다.\n",
        "\n",
        "print(modelx.max_speed)\n",
        "print(modelx.car_gear[1])\n",
        "modelx.start()\n",
        "modelx.stop()\n"
      ],
      "metadata": {
        "colab": {
          "base_uri": "https://localhost:8080/"
        },
        "id": "kPtLpS2oCi--",
        "outputId": "7af0c8cd-4e42-437d-a6a9-a9fae4102354"
      },
      "execution_count": 172,
      "outputs": [
        {
          "output_type": "stream",
          "name": "stdout",
          "text": [
            "300\n",
            "D\n",
            "자동차 출발합니다!\n",
            "차가 멈췄습니다.\n"
          ]
        }
      ]
    }
  ]
}