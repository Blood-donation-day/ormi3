{
  "nbformat": 4,
  "nbformat_minor": 0,
  "metadata": {
    "colab": {
      "provenance": []
    },
    "kernelspec": {
      "name": "python3",
      "display_name": "Python 3"
    },
    "language_info": {
      "name": "python"
    }
  },
  "cells": [
    {
      "cell_type": "markdown",
      "source": [
        "##조건문"
      ],
      "metadata": {
        "id": "n9jDmFCUmZiA"
      }
    },
    {
      "cell_type": "code",
      "execution_count": 24,
      "metadata": {
        "colab": {
          "base_uri": "https://localhost:8080/"
        },
        "id": "UypP2U15mRjT",
        "outputId": "9f5d5f3b-cae5-48c9-8ec8-bf82333bbcdb"
      },
      "outputs": [
        {
          "output_type": "stream",
          "name": "stdout",
          "text": [
            "hello 0\n",
            "hello 1\n",
            "hello 2\n",
            "hello 3\n",
            "hello 4\n",
            "hello 5\n",
            "hello 6\n",
            "hello 7\n",
            "hello 8\n",
            "hello 9\n",
            "hello 10\n"
          ]
        }
      ],
      "source": [
        "def wow():\n",
        "    iss = 0\n",
        "    while True:\n",
        "       yield iss\n",
        "       iss += 1\n",
        "\n",
        "\n",
        "for i in wow():\n",
        "    if i > 10:\n",
        "        break\n",
        "    print(f'hello {i}')\n",
        "    i += 1\n"
      ]
    },
    {
      "cell_type": "code",
      "source": [
        "if False:\n",
        "    print('hello')"
      ],
      "metadata": {
        "id": "9WK5o020pQ1b"
      },
      "execution_count": 25,
      "outputs": []
    },
    {
      "cell_type": "code",
      "source": [
        "if (True): # 이렇게 괄호를 안해도 됩니다!\n",
        "    print('hello')"
      ],
      "metadata": {
        "colab": {
          "base_uri": "https://localhost:8080/"
        },
        "id": "af-3ZNyGpRmP",
        "outputId": "8c8dce45-1e9f-4d9f-9802-e0d78ca50e07"
      },
      "execution_count": 26,
      "outputs": [
        {
          "output_type": "stream",
          "name": "stdout",
          "text": [
            "hello\n"
          ]
        }
      ]
    },
    {
      "cell_type": "code",
      "source": [
        "if 10 and 9: # True나 False가 아니라 단락평가에 의해 9\n",
        "    print('hello')"
      ],
      "metadata": {
        "colab": {
          "base_uri": "https://localhost:8080/"
        },
        "id": "DiWK81ULpTKw",
        "outputId": "b671b6eb-4deb-4f48-c851-f4ff8de909c2"
      },
      "execution_count": 27,
      "outputs": [
        {
          "output_type": "stream",
          "name": "stdout",
          "text": [
            "hello\n"
          ]
        }
      ]
    },
    {
      "cell_type": "code",
      "source": [
        "''\n",
        "0\n",
        "[]\n",
        "{}\n",
        "()\n",
        "set()\n",
        "\n",
        "#########\n",
        "\n",
        "1\n",
        "-1\n",
        "' '\n",
        "[10, 20]"
      ],
      "metadata": {
        "colab": {
          "base_uri": "https://localhost:8080/"
        },
        "id": "xYtvOZMppUfi",
        "outputId": "cd99f177-d370-4c3c-ce09-47ea2c24654f"
      },
      "execution_count": 36,
      "outputs": [
        {
          "output_type": "execute_result",
          "data": {
            "text/plain": [
              "[10, 20]"
            ]
          },
          "metadata": {},
          "execution_count": 36
        }
      ]
    },
    {
      "cell_type": "code",
      "source": [
        "x = 5\n",
        "y = 0\n",
        "result = 'x is greater' if x > y else 'y is greater or equal'\n",
        "result"
      ],
      "metadata": {
        "colab": {
          "base_uri": "https://localhost:8080/",
          "height": 35
        },
        "id": "c27w3JDerEnn",
        "outputId": "04495ef7-3d5e-4878-e1b3-720f120a7a57"
      },
      "execution_count": 43,
      "outputs": [
        {
          "output_type": "execute_result",
          "data": {
            "text/plain": [
              "'x is greater'"
            ],
            "application/vnd.google.colaboratory.intrinsic+json": {
              "type": "string"
            }
          },
          "metadata": {},
          "execution_count": 43
        }
      ]
    },
    {
      "cell_type": "markdown",
      "source": [
        "##연습문제"
      ],
      "metadata": {
        "id": "1ZcIRvRcrqcO"
      }
    },
    {
      "cell_type": "code",
      "source": [
        "# 1. 주어진 리스트 `data = [{\"name\": \"길동\", \"수학\": 3, \"과학\": 93},\n",
        "#  {\"name\": \"춘향\", \"수학\": 33, \"과학\": 11},\n",
        "#  {\"name\": \"철수\", \"수학\": 94, \"과학\": 67}]`\n",
        "#에서 평균점수가 가장 높은 학생에 이름을 출력하세요.\n",
        "\n",
        "data = [{\"name\": \"길동\", \"수학\": 3, \"과학\": 93},\n",
        "{\"name\": \"춘향\", \"수학\": 33, \"과학\": 11},\n",
        "{\"name\": \"철수\", \"수학\": 94, \"과학\": 67}]\n",
        "\n",
        "max_entry = max(data, key = lambda x : x['수학'] + x['과학'])\n",
        "print(max_entry)\n",
        "print(max_entry['name'])"
      ],
      "metadata": {
        "colab": {
          "base_uri": "https://localhost:8080/"
        },
        "id": "ZlF4xjd4roZ3",
        "outputId": "a5552c3a-b291-4183-9d94-75a92111c0cd"
      },
      "execution_count": 63,
      "outputs": [
        {
          "output_type": "stream",
          "name": "stdout",
          "text": [
            "{'name': '철수', '수학': 94, '과학': 67}\n",
            "철수\n"
          ]
        }
      ]
    },
    {
      "cell_type": "code",
      "source": [
        "# 2. 주어진 사전 `grades = {\"Tom\": 87, \"Jerry\": 95, \"Mickey\": 70}`\n",
        "#의 모든 값을 5점씩 증가시키고 결과를 출력하세요.\n",
        "\n",
        "grades = {'Tom' : 87, 'Jerry' : 95, 'Mickey' : 70}\n",
        "update = grades.items()\n",
        "update = {i: score +5 for i, score in update}\n",
        "update"
      ],
      "metadata": {
        "colab": {
          "base_uri": "https://localhost:8080/"
        },
        "id": "Bm9F5uN3vBaf",
        "outputId": "06a8d18d-2a05-4e60-9a66-ebbb19f717d6"
      },
      "execution_count": 67,
      "outputs": [
        {
          "output_type": "execute_result",
          "data": {
            "text/plain": [
              "{'Tom': 92, 'Jerry': 100, 'Mickey': 75}"
            ]
          },
          "metadata": {},
          "execution_count": 67
        }
      ]
    },
    {
      "cell_type": "code",
      "source": [
        " #3. 주어진 문자열 `s = \"apple banana apple cherry banana cherry apple\"`에서\n",
        " #가장 자주 등장하는 단어를 출력하세요.\n",
        "from collections import Counter\n",
        "s = \"apple banana apple cherry banana cherry apple\"\n",
        "\n",
        "ss = s.split(' ')\n",
        "print(max(Counter(ss).items(), key = lambda x : x[1]))\n",
        "\n",
        "Counter(ss).most_common(1)\n"
      ],
      "metadata": {
        "colab": {
          "base_uri": "https://localhost:8080/"
        },
        "id": "yiA7NN4IwMlH",
        "outputId": "b0c95640-cba2-4ca2-f9db-c18c74a80e5d"
      },
      "execution_count": 101,
      "outputs": [
        {
          "output_type": "stream",
          "name": "stdout",
          "text": [
            "('apple', 3)\n"
          ]
        },
        {
          "output_type": "execute_result",
          "data": {
            "text/plain": [
              "[('apple', 3)]"
            ]
          },
          "metadata": {},
          "execution_count": 101
        }
      ]
    },
    {
      "cell_type": "code",
      "source": [
        "[i if i % 2 ==0 else None for i in range(10)]"
      ],
      "metadata": {
        "colab": {
          "base_uri": "https://localhost:8080/"
        },
        "id": "vn-CNs-HzsF0",
        "outputId": "afd90f51-0128-4717-c317-5afb96d39b45"
      },
      "execution_count": 113,
      "outputs": [
        {
          "output_type": "execute_result",
          "data": {
            "text/plain": [
              "[0, None, 2, None, 4, None, 6, None, 8, None]"
            ]
          },
          "metadata": {},
          "execution_count": 113
        }
      ]
    },
    {
      "cell_type": "code",
      "source": [
        "[i for i in range(10) if i % 2 == 0]"
      ],
      "metadata": {
        "colab": {
          "base_uri": "https://localhost:8080/"
        },
        "id": "MwVMaSmH0a4H",
        "outputId": "200492d9-ff2a-4beb-ce74-4a4e6e97e2e0"
      },
      "execution_count": 112,
      "outputs": [
        {
          "output_type": "execute_result",
          "data": {
            "text/plain": [
              "[0, 2, 4, 6, 8]"
            ]
          },
          "metadata": {},
          "execution_count": 112
        }
      ]
    },
    {
      "cell_type": "code",
      "source": [
        "def f():\n",
        "    return True\n",
        "\n",
        "if f():\n",
        "    print('hello')"
      ],
      "metadata": {
        "colab": {
          "base_uri": "https://localhost:8080/"
        },
        "id": "hCHiN9zj0cAv",
        "outputId": "d822a8ff-69c4-460a-c6b8-ce7949c70799"
      },
      "execution_count": 114,
      "outputs": [
        {
          "output_type": "stream",
          "name": "stdout",
          "text": [
            "hello\n"
          ]
        }
      ]
    },
    {
      "cell_type": "code",
      "source": [
        "def f():\n",
        "    return True\n",
        "\n",
        "def ff():\n",
        "    return 'hello'\n",
        "\n",
        "if f() and ff():\n",
        "    print('hello')"
      ],
      "metadata": {
        "colab": {
          "base_uri": "https://localhost:8080/"
        },
        "id": "3FG207Ih0kLS",
        "outputId": "68ef1807-1c7b-4ee4-8c10-be556b529dca"
      },
      "execution_count": 115,
      "outputs": [
        {
          "output_type": "stream",
          "name": "stdout",
          "text": [
            "hello\n"
          ]
        }
      ]
    },
    {
      "cell_type": "code",
      "source": [
        "# 성능에 영향을 끼칩니다!\n",
        "def f():\n",
        "    return True\n",
        "\n",
        "def ff():\n",
        "    x = 100 / 0 # error\n",
        "    return 'hello'\n",
        "\n",
        "if f() or ff():\n",
        "    print('hello')"
      ],
      "metadata": {
        "colab": {
          "base_uri": "https://localhost:8080/"
        },
        "id": "iKX020_G0mm2",
        "outputId": "67c7f721-b94a-416a-89b7-eb226adf92c8"
      },
      "execution_count": 116,
      "outputs": [
        {
          "output_type": "stream",
          "name": "stdout",
          "text": [
            "hello\n"
          ]
        }
      ]
    },
    {
      "cell_type": "code",
      "source": [
        "#error가 나는 코드\n",
        "def f():\n",
        "    return True\n",
        "\n",
        "def ff():\n",
        "    x = 100 / 0 # error\n",
        "    return 'hello'\n",
        "\n",
        "if ff() or f():\n",
        "    print('hello')"
      ],
      "metadata": {
        "id": "0gz7IJLE0tlA"
      },
      "execution_count": null,
      "outputs": []
    },
    {
      "cell_type": "code",
      "source": [
        "my_funtion = lambda x : '짝수' if x % 2 == 0 else '홀수'\n",
        "my_funtion(9)"
      ],
      "metadata": {
        "colab": {
          "base_uri": "https://localhost:8080/",
          "height": 35
        },
        "id": "1qw3A_sd1DHW",
        "outputId": "ee5807eb-e701-4622-94fe-6efe65725258"
      },
      "execution_count": 128,
      "outputs": [
        {
          "output_type": "execute_result",
          "data": {
            "text/plain": [
              "'홀수'"
            ],
            "application/vnd.google.colaboratory.intrinsic+json": {
              "type": "string"
            }
          },
          "metadata": {},
          "execution_count": 128
        }
      ]
    },
    {
      "cell_type": "code",
      "source": [
        "x = -1\n",
        "assert x > 0, '0보다 크지 않잔아!' #조건이 참이 아니면 나오는 오류 메세지"
      ],
      "metadata": {
        "colab": {
          "base_uri": "https://localhost:8080/",
          "height": 199
        },
        "id": "clWpspSR1Xam",
        "outputId": "9aa563d1-604e-4ea4-b109-2f05a9e5b683"
      },
      "execution_count": 130,
      "outputs": [
        {
          "output_type": "error",
          "ename": "AssertionError",
          "evalue": "ignored",
          "traceback": [
            "\u001b[0;31m---------------------------------------------------------------------------\u001b[0m",
            "\u001b[0;31mAssertionError\u001b[0m                            Traceback (most recent call last)",
            "\u001b[0;32m<ipython-input-130-80bd9f788780>\u001b[0m in \u001b[0;36m<cell line: 2>\u001b[0;34m()\u001b[0m\n\u001b[1;32m      1\u001b[0m \u001b[0mx\u001b[0m \u001b[0;34m=\u001b[0m \u001b[0;34m-\u001b[0m\u001b[0;36m1\u001b[0m\u001b[0;34m\u001b[0m\u001b[0;34m\u001b[0m\u001b[0m\n\u001b[0;32m----> 2\u001b[0;31m \u001b[0;32massert\u001b[0m \u001b[0mx\u001b[0m \u001b[0;34m>\u001b[0m \u001b[0;36m0\u001b[0m\u001b[0;34m,\u001b[0m \u001b[0;34m'0보다 크지 않잔아!'\u001b[0m\u001b[0;34m\u001b[0m\u001b[0;34m\u001b[0m\u001b[0m\n\u001b[0m",
            "\u001b[0;31mAssertionError\u001b[0m: 0보다 크지 않잔아!"
          ]
        }
      ]
    },
    {
      "cell_type": "code",
      "source": [
        "x = 10\n",
        "assert x > 0, '양수여야 한다!'\n",
        "#맞으면 그냥 통과"
      ],
      "metadata": {
        "id": "lXgH9DOo1lkc"
      },
      "execution_count": 131,
      "outputs": []
    },
    {
      "cell_type": "code",
      "source": [
        "score = 59\n",
        "money = 0\n",
        "\n",
        "if score >= 90:\n",
        "    print('90점을 넘기다니 미쳤군.,')\n",
        "    money += 900000\n",
        "elif score >= 80:\n",
        "    print('80점을 넘기다니')\n",
        "    money += 80000\n",
        "elif score >= 70:\n",
        "    print('70점을 넘겼구나')\n",
        "    money += 7000\n",
        "elif score >= 60:\n",
        "    print('60점은 넘었구나,...')\n",
        "    money += 600\n",
        "else:\n",
        "     print('넌 나가라!')\n",
        "     money -= 9999999\n",
        "print(money)"
      ],
      "metadata": {
        "colab": {
          "base_uri": "https://localhost:8080/"
        },
        "id": "ItG6Z7fQ1qnu",
        "outputId": "5042d319-2a72-4037-98a6-18a76f2bd7dd"
      },
      "execution_count": 143,
      "outputs": [
        {
          "output_type": "stream",
          "name": "stdout",
          "text": [
            "넌 나가라!\n",
            "-9999999\n"
          ]
        }
      ]
    },
    {
      "cell_type": "code",
      "source": [
        "score = 81\n",
        "money = 0\n",
        "\n",
        "if score >= 90:\n",
        "    print('mom : i\\'m so happy!')\n",
        "    money += 1000000\n",
        "if 90 > score >= 80:\n",
        "    print('mom : i\\'m happy!')\n",
        "    money += 100000\n",
        "if 80 > score >= 70:\n",
        "    print('mom : i\\'m so...!')\n",
        "    money += 10000\n",
        "if 70 > score >= 60:\n",
        "    print('mom : i\\'m so...!')\n",
        "    money += 1000\n",
        "else:\n",
        "    print('mom : i\\'m...!')\n",
        "print(money)"
      ],
      "metadata": {
        "colab": {
          "base_uri": "https://localhost:8080/"
        },
        "id": "uZeQD5Q03XDJ",
        "outputId": "14d8340f-3329-4c78-915a-6a927eb6dc39"
      },
      "execution_count": 144,
      "outputs": [
        {
          "output_type": "stream",
          "name": "stdout",
          "text": [
            "mom : i'm happy!\n",
            "mom : i'm...!\n",
            "100000\n"
          ]
        }
      ]
    },
    {
      "cell_type": "code",
      "source": [
        "# 위와 같이 하더라도 실행이 같지 않고\n",
        "# 또 성능도 안좋습니다!!\n",
        "# 성능이 왜 안좋나요?\n",
        "# if 뒤를 다 검사해야 하기 때문에 그렇습니다.\n",
        "# 적절하게 묶는 것은 매우 중요한 포인트입니다"
      ],
      "metadata": {
        "id": "HpBXu9an3V0Y"
      },
      "execution_count": null,
      "outputs": []
    },
    {
      "cell_type": "code",
      "source": [
        "#if를 중첩해서 사용하기\n",
        "\n",
        "movie = {\n",
        "    '영화' : '무빙',\n",
        "    '장르' : 'SF',\n",
        "\n",
        "}"
      ],
      "metadata": {
        "id": "3CAT58Vu3bu6"
      },
      "execution_count": null,
      "outputs": []
    }
  ]
}