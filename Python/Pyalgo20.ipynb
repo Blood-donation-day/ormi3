{
 "cells": [
  {
   "cell_type": "markdown",
   "metadata": {},
   "source": [
    "## 1.자격증명\n",
    "https://pyalgo.co.kr/?page=1#"
   ]
  },
  {
   "cell_type": "code",
   "execution_count": null,
   "metadata": {},
   "outputs": [],
   "source": [
    "# + > 1 - > 0 으로 바꾸고 // 이진수로 변환 후 // 아스키 코드에 대입\n",
    "\n",
    "def solution(arr):\n",
    "    return ''.join(chr(int(letter.strip(' ').replace('+', '1').replace('-', '0').replace(' ', ''), 2)) for letter in arr)\n",
    "        \n",
    "solution([' + - - + - + - ', ' + + + - + - + ', ' + + - + + + - '])"
   ]
  },
  {
   "cell_type": "markdown",
   "metadata": {},
   "source": [
    "## 2.암호문"
   ]
  },
  {
   "cell_type": "code",
   "execution_count": null,
   "metadata": {},
   "outputs": [],
   "source": [
    "# 문장에서 r, e, v 가 나오면 // 그 다음 문자열의 숫자를 저장하고 // 모두 더함. /\n",
    "# 더한값의 앞자리는 월 // 뒷자리는 일\n",
    "def solution(data):\n",
    "    value = 0\n",
    "    data = re.findall('([rev])(10|[1-9])', data)\n",
    "    for i , j in data:\n",
    "        value += int(j) \n",
    "    value = str(value)\n",
    "    return f'{value[0]}월 {value[1:]}일'\n",
    "\n",
    "solution('a10b9r10ce33uab8wc918v2cv11v9vbv10')"
   ]
  },
  {
   "cell_type": "code",
   "execution_count": null,
   "metadata": {},
   "outputs": [],
   "source": [
    "import re \n",
    "\n",
    "re.findall('([rev])(10|[1-9])','a10b9r10ce33uab8wc918v2cv11v9vb')"
   ]
  },
  {
   "cell_type": "markdown",
   "metadata": {},
   "source": [
    "## 3.출정인원 선발\n",
    "sort 리스트의 메서트   >> return None // 원본을 건듬\n",
    "sorted 내장함수(built in function)  >> return값 정렬된값 // 원본을 건들지 않음."
   ]
  },
  {
   "cell_type": "code",
   "execution_count": null,
   "metadata": {},
   "outputs": [],
   "source": [
    "#2차원 배열에서 각 배열의 합을 구하고 // 높은 순으로 정렬 후 // 상위 30% 이내 선발\n",
    "# // 단 상위 동일점수가 30% 넘어가면 빈 배열\n",
    "\n",
    "def solution(data):\n",
    "    result = []\n",
    "    for dat in data:\n",
    "        score = 0\n",
    "        score += sum(dat[1:])\n",
    "        result.append([dat[0], score])\n",
    "    #result를 높은것부터 정렬\n",
    "    result.sort(key = lambda x:x[1], reverse=True)\n",
    "    \n",
    "\n",
    "\n",
    "solution([['A', 25, 25, 25, 25], ['B', 10, 12, 13, 11], ['C', 24, 22, 23, 21], ['D', 13, 22, 16, 14]])"
   ]
  },
  {
   "cell_type": "code",
   "execution_count": null,
   "metadata": {},
   "outputs": [],
   "source": [
    "l = [\n",
    "    [6,\"a\" ,\"hello\"],\n",
    "    [3,\"f\" ,\"hello world\"],\n",
    "    [7,\"b\" ,\"hello a\"],\n",
    "    [8,\"g\" ,\"hello world hello\"],\n",
    "    [4,\"e\" ,\"hello world hello world\"],\n",
    "    [2,\"c\" ,\"hello aa\"],\n",
    "    [1,\"d\" ,\"hello abc\"],\n",
    "]"
   ]
  },
  {
   "cell_type": "code",
   "execution_count": null,
   "metadata": {},
   "outputs": [],
   "source": [
    "def ss(value):\n",
    "    return value[0]\n",
    "\n",
    "sorted(l, key=ss)"
   ]
  },
  {
   "cell_type": "code",
   "execution_count": null,
   "metadata": {},
   "outputs": [],
   "source": [
    "# 3번째 원소 값의 문자열 길이 순서대로 정렬 (내림차순)\n",
    "def ss3(value):\n",
    "    return len(value[2])\n",
    "\n",
    "sorted(l, key=ss3, reverse=True)"
   ]
  },
  {
   "cell_type": "code",
   "execution_count": null,
   "metadata": {},
   "outputs": [],
   "source": [
    "# 3번째 원소 값의 문자열 길이 순서대로 정렬 (내림차순)\n",
    "# 람다함수를 이용해 간단하게 표현 // 한번만 사용할 때 유용\n",
    "sorted(l, key=lambda x:len(x[2]), reverse=True)"
   ]
  },
  {
   "cell_type": "code",
   "execution_count": null,
   "metadata": {},
   "outputs": [],
   "source": [
    "#여기까지가 상위 30% 를 뽑는 함수\n",
    "\n",
    "data = [['A', 25, 25, 25, 25], ['B', 10, 12, 13, 11], ['C', 24, 22, 23, 21], ['D', 13, 22, 16, 14]]\n",
    "# 내림차순 합 정렬\n",
    "def solution(data):\n",
    "    length = len(data)\n",
    "    # int로 표현하면 내림으로 표시\n",
    "    ratio = int((length * 3) / 10) \n",
    "    print(ratio)\n",
    "    return sorted(data, key= lambda x:sum(x[1:],), reverse=True)[:ratio]\n",
    "\n",
    "solution(data)"
   ]
  },
  {
   "cell_type": "code",
   "execution_count": null,
   "metadata": {},
   "outputs": [],
   "source": [
    "data = [['A', 25, 25, 25, 25], \n",
    "        ['B', 10, 12, 13, 11], \n",
    "        ['C', 24, 22, 23, 21], \n",
    "        ['D', 13, 22, 16, 14],\n",
    "        ['E', 13, 22, 16, 14],\n",
    "        ]\n",
    "# 내림차순 합 정렬\n",
    "def solution(data):\n",
    "    length = len(data)\n",
    "    ratio = int((length * 3) / 10) \n",
    "    if ratio == 0:\n",
    "        return\n",
    "    result = 0\n",
    "    scoreboard = {}\n",
    "    resultlist = []\n",
    "    \n",
    "    #같은 점수대끼리 묶어줌\n",
    "    #{100: ['A'], 46: ['B'], 90: ['C'], 65: ['D', 'E']}\n",
    "    for i in data:\n",
    "        score = sum(i[1:])\n",
    "        if score in scoreboard:\n",
    "            scoreboard[score] = scoreboard[score] + [i[0]]\n",
    "        else:\n",
    "            scoreboard[score] = [i[0]]\n",
    "    \n",
    "    #같은 점수대 끼리 묶어준걸 리스트로 변환 //  리스트를 돌면서 30%안에 들어온다면 배열에 추가\n",
    "    # 리스트 덩어리를 넣었을 때 30% 넘어간다면 그동안 쌓인 배열 리턴  \n",
    "    for i in sorted(list(scoreboard.items()), reverse=True):\n",
    "        \n",
    "        if result <= ratio and len(i[1]) <= ratio and result != ratio:\n",
    "            resultlist.extend(i[1])\n",
    "            result += len(i[1])\n",
    "        \n",
    "        elif len(i[1]) > ratio:\n",
    "            return resultlist\n",
    "    return sorted(resultlist ,reverse=True)\n",
    "\n",
    "solution(data)"
   ]
  },
  {
   "cell_type": "code",
   "execution_count": null,
   "metadata": {},
   "outputs": [],
   "source": [
    "def solution(data):\n",
    "    \n",
    "    ratio = int(len(data) * 0.3)\n",
    "    scoredata = {}\n",
    "    count = 0\n",
    "    result = []\n",
    "    for i in data:\n",
    "        score = sum(i[1:])\n",
    "        if score in scoredata:\n",
    "            scoredata[score] += [i[0]]\n",
    "        else:\n",
    "            scoredata[score] = [i[0]]\n",
    "    \n",
    "    #30% 되기전까지 scoredata 값 더해줌\n",
    "    \n",
    "    # 더했을 때 30% 길이가 넘는지 확인하고 넘는다면 더하기 전에 리턴\n",
    "    # 30% 이내라면 값을 더해줌\n",
    "    for i, j in sorted(list(scoredata.items()), reverse=True):\n",
    "        \n",
    "        if len(j) + count <= ratio:\n",
    "            count += len(j)\n",
    "            result.extend(j)\n",
    "        else:\n",
    "            return sorted(result, reverse=True)\n",
    "    \n",
    "    \n",
    "\n",
    "solution([['D', 25, 25, 25, 25], ['t', 25, 25, 25, 25], ['B', 10, 12, 13, 11], ['C', 24, 22, 23, 21], ['8', 13, 22, 16, 14], ['8', 13, 22, 16, 14], ['8', 13, 22, 16, 14], ['8', 13, 22, 16, 14], ['8', 13, 22, 16, 14], ['8', 13, 22, 16, 14], ])"
   ]
  },
  {
   "cell_type": "markdown",
   "metadata": {},
   "source": [
    "# 4. 꿈의 설계"
   ]
  },
  {
   "cell_type": "code",
   "execution_count": null,
   "metadata": {},
   "outputs": [],
   "source": [
    "data = ['10 - A. 20 - B. 30 - A.', '1 - A. 1 - A. 1 - A. 1 - A. 2 - B. 1 - A. 1 - B.']"
   ]
  },
  {
   "cell_type": "code",
   "execution_count": null,
   "metadata": {},
   "outputs": [],
   "source": [
    "data[0].split('.')"
   ]
  },
  {
   "cell_type": "code",
   "execution_count": null,
   "metadata": {},
   "outputs": [],
   "source": [
    "import re\n",
    "#한글 + 숫자 + 한글 + 알파벳\n",
    "re.findall(r'([ㄱ-ㅎ|ㅏ-ㅣ|기-힣\\W]*)(\\d+)([ㄱ-ㅎ|ㅏ-ㅣ|기-힣\\W]*)([a-zA-Z])', '10 - A')"
   ]
  },
  {
   "cell_type": "code",
   "execution_count": null,
   "metadata": {},
   "outputs": [],
   "source": [
    "data = data[0].split('.')\n",
    "for i in data:\n",
    "    print(re.findall(r'([ㄱ-ㅎ|ㅏ-ㅣ|가-힣\\W]*)(\\d+)([ㄱ-ㅎ|ㅏ-ㅣ|가-힣\\W]*)([a-zA-Z])', i))"
   ]
  },
  {
   "cell_type": "code",
   "execution_count": null,
   "metadata": {},
   "outputs": [],
   "source": [
    "for i in data[:-1]:\n",
    "    수치 = re.findall(r'([ㄱ-ㅎ|ㅏ-ㅣ|가-힣\\W]*)(\\d+)([ㄱ-ㅎ|ㅏ-ㅣ|가-힣\\W]*)([a-zA-Z])', i)[0][1]\n",
    "    알파벳 = re.findall(r'([ㄱ-ㅎ|ㅏ-ㅣ|가-힣\\W]*)(\\d+)([ㄱ-ㅎ|ㅏ-ㅣ|가-힣\\W]*)([a-zA-Z])', i)[0][3]\n",
    "    print(수치, 알파벳)"
   ]
  },
  {
   "cell_type": "code",
   "execution_count": null,
   "metadata": {},
   "outputs": [],
   "source": [
    "data = ['빙키는 10만큼 A를 훈련했다. 빙키는 날씨가 안 좋은데도 불구하고 20만큼 B를 했다. 빙키는 비가 내리는 가운데서도 10만큼 B를 훈련했다.', '빙키는 A를 30만큼 고민했다. 40만큼 B를 고민했다. 빙키는 A를 70만큼 참 오랜 시간 고민했다. 빙키는 놀랍게도 C를 10만큼 고민했다.']\n",
    "알파벳 = re.findall(r'[a-zA-Z]', data[0])\n",
    "숫자 = re.findall(r'\\d+', data[0])\n",
    "\n",
    "리스트 = list(zip(알파벳, 숫자))\n",
    "딕셔너리 = dict(zip(알파벳, 숫자))\n",
    "\n",
    "print(리스트)\n",
    "print(딕셔너리)"
   ]
  },
  {
   "cell_type": "code",
   "execution_count": null,
   "metadata": {},
   "outputs": [],
   "source": [
    "d = {'A': '10', 'B': '10', 'C': '30'}\n",
    "max(d.values())\n",
    "d[max(d)]"
   ]
  },
  {
   "cell_type": "code",
   "execution_count": null,
   "metadata": {},
   "outputs": [],
   "source": [
    "import re\n",
    "\n",
    "def solution(data):\n",
    "    훈련수치 = {}\n",
    "    고민수치 = {}\n",
    "    원래미래 = 0\n",
    "    바뀐미래 = 0\n",
    "    # 훈련수치\n",
    "    for i in data[0].split('.')[:-1]:\n",
    "        key = re.findall(r'[a-zA-Z]', i)[0]\n",
    "        value = re.findall(r'\\d+', i)[0]\n",
    "        \n",
    "        # 키값이 곂치는 경우 값 +\n",
    "        if key in 훈련수치:\n",
    "            훈련수치[key] += int(value)\n",
    "        else:\n",
    "            훈련수치[key] = int(value)\n",
    "    \n",
    "    # 고민수치\n",
    "    for i in data[1].split('.')[:-1]:\n",
    "        key = re.findall(r'[a-zA-Z]', i)[0]\n",
    "        value = re.findall(r'\\d+', i)[0]\n",
    "        \n",
    "        # 키값이 곂치는 경우 값 +\n",
    "        if key in 고민수치:\n",
    "            고민수치[key] += int(value)\n",
    "        else:\n",
    "            고민수치[key] = int(value)\n",
    "    \n",
    "    # 원래미래\n",
    "    for i in 훈련수치.keys():\n",
    "        if i in 고민수치:\n",
    "            원래미래 += 훈련수치[i] * 고민수치[i]\n",
    "            \n",
    "    # 원래미래 == 0\n",
    "    if 원래미래 == 0:\n",
    "        return '미래가 보이지 않습니다.'\n",
    "    \n",
    "    \n",
    "    #가장 큰 값에 + 100\n",
    "    훈련수치중가장큰값 = max(훈련수치.values())\n",
    "    고민수치중가장큰값 = max(고민수치.values())\n",
    "\n",
    "    #가장 큰 값이 2개 이상인 경우 모두 100을 더하기\n",
    "    for i in 훈련수치:\n",
    "        if 훈련수치[i] == 훈련수치중가장큰값:\n",
    "            훈련수치[i] += 100\n",
    "    \n",
    "    for i in 고민수치:\n",
    "        if 고민수치[i] == 고민수치중가장큰값:\n",
    "            고민수치[i] += 100\n",
    "    \n",
    "    for i in 훈련수치.keys():\n",
    "        if i in 고민수치:\n",
    "            바뀐미래 += 훈련수치[i] * 고민수치[i]\n",
    "    \n",
    "        \n",
    "    return f'최종 꿈의 설계는 원래 미래 {원래미래}, 바뀐 미래 {바뀐미래}입니다. 이 수치대로 Vision을 만듭니다.'\n",
    "\n",
    "solution(['100만큼 A를 훈련. 201 B. 120보다 이십만큼 더 B를 훈련했다.', '30만큼 A를 고민했다. 40만큼 B를 고민. 빙키는 A를 70만큼. C 10. D 10. A 10. z 10.'])"
   ]
  },
  {
   "cell_type": "markdown",
   "metadata": {},
   "source": [
    "# 5. 상한 당근 찾기"
   ]
  },
  {
   "cell_type": "code",
   "execution_count": null,
   "metadata": {},
   "outputs": [],
   "source": [
    "import numpy as np\n",
    "import pandas as pd\n",
    "test = np.array([['#', 0, 0, 0, '#'], [0, '#', '#', 0, 0], ['#', '#', '#', 0, '#'], ['#', 0, 0, '#', '#']])\n",
    "test"
   ]
  },
  {
   "cell_type": "code",
   "execution_count": null,
   "metadata": {},
   "outputs": [],
   "source": [
    "test = np.array([[1,2,3,4], [5,6,7,8], [9,10,11,12]])\n",
    "test * 2"
   ]
  },
  {
   "cell_type": "code",
   "execution_count": null,
   "metadata": {},
   "outputs": [],
   "source": [
    "test = np.array([[1,2,3,4], [5,6,7,8], [9,10,11,12]])\n",
    "test.flatten()"
   ]
  },
  {
   "cell_type": "code",
   "execution_count": null,
   "metadata": {},
   "outputs": [],
   "source": [
    "test = np.array([['#', 0, 0, 0, '#'], [0, '#', '#', 0, 0], ['#', '#', '#', 0, '#'], ['#', 0, 0, '#', '#']])\n",
    "df = pd.DataFrame(test)\n",
    "df"
   ]
  },
  {
   "cell_type": "code",
   "execution_count": null,
   "metadata": {},
   "outputs": [],
   "source": [
    "df.where(df == '#')"
   ]
  },
  {
   "cell_type": "code",
   "execution_count": null,
   "metadata": {},
   "outputs": [],
   "source": [
    "arr = np.argwhere(df.values == '#')\n",
    "arr"
   ]
  },
  {
   "cell_type": "code",
   "execution_count": null,
   "metadata": {},
   "outputs": [],
   "source": [
    "data = [['#', 0, 0, 0, '#'], [0, '#', '#', 0, 0], ['#', '#', '#', 0, '#'], ['#', 0, 0, '#', '#']]\n",
    "\n",
    "def solution(data):\n",
    "    trash = sum(data, []).count('#')\n",
    "    for i in range(len(data)):\n",
    "        for j in range(len(data[0])):\n",
    "            \n",
    "            if data[i][j] == '#':\n",
    "                \n",
    "            \n",
    "                #상\n",
    "                if i != 0:\n",
    "                    if data[i-1][j] != '#':\n",
    "                        data[i-1][j] += 1\n",
    "                #하\n",
    "                if i != len(data)-1:\n",
    "                    if data[i+1][j] != '#':\n",
    "                        data[i+1][j] += 1\n",
    "                #좌\n",
    "                if j != 0:\n",
    "                    if data[i][j-1] != '#':\n",
    "                        data[i][j-1] += 1\n",
    "                #우\n",
    "                if j != len(data[0])-1:\n",
    "                    if data[i][j+1] != '#':\n",
    "                        data[i][j+1] += 1\n",
    "                \n",
    "                #좌상\n",
    "                if i != 0 and j != 0:\n",
    "                    if data[i-1][j-1] != '#':\n",
    "                        data[i-1][j-1] += 1\n",
    "                #우상\n",
    "                if i != 0 and j != len(data[0])-1:\n",
    "                    if data[i-1][j+1] != '#':\n",
    "                        data[i-1][j+1] += 1\n",
    "                #좌하\n",
    "                if i != len(data)-1 and j != 0:\n",
    "                    if data[i+1][j-1] != '#':\n",
    "                        data[i+1][j-1] += 1\n",
    "                #우하\n",
    "                if i != len(data)-1 and j != len(data[0]) -1:\n",
    "                    if data[i+1][j+1] != '#':\n",
    "                        data[i+1][j+1] += 1\n",
    "                        \n",
    "\n",
    "    data = list(filter(lambda x: type(x) == int, sum(data, [])))\n",
    "    data = sum(data)\n",
    "    return [trash, data]\n",
    "    \n",
    "solution([['#', 0, 0, 0, '#'], [0, '#', '#', 0, 0], ['#', '#', '#', 0, '#'], ['#', 0, 0, '#', '#']])"
   ]
  },
  {
   "cell_type": "markdown",
   "metadata": {},
   "source": [
    "# 6. 샌드위치 포장"
   ]
  },
  {
   "cell_type": "code",
   "execution_count": null,
   "metadata": {},
   "outputs": [],
   "source": [
    "def solution(data):\n",
    "    # 1 2 3 4 1\n",
    "    sample = '12341'\n",
    "    count = 0\n",
    "    s = ''.join(map(str, data))\n",
    "\n",
    "    while s.find(sample) != -1:\n",
    "        s.replace(sample, '', 1)\n",
    "        count +=1\n",
    "        \n",
    "    return count"
   ]
  },
  {
   "cell_type": "code",
   "execution_count": null,
   "metadata": {},
   "outputs": [],
   "source": [
    "# 스택으로 풀이\n",
    "\n",
    "def solution(data):\n",
    "    result = 0\n",
    "    stack = []\n",
    "    \n",
    "    for i in data:\n",
    "        stack.append(i)\n",
    "        if stack[-5:] == [1,2,3,4,1]:\n",
    "            for _ in range(5):\n",
    "                stack.pop()\n",
    "            \n",
    "            result += 1\n",
    "    \n",
    "    return result\n",
    "\n",
    "solution()"
   ]
  },
  {
   "cell_type": "markdown",
   "metadata": {},
   "source": [
    "# 7. 두 수의 합 찾기"
   ]
  },
  {
   "cell_type": "code",
   "execution_count": null,
   "metadata": {},
   "outputs": [],
   "source": [
    "# 투포인터 , 슬라이딩 윈도우, 순열과 조합 한세트로 기억"
   ]
  },
  {
   "cell_type": "code",
   "execution_count": null,
   "metadata": {},
   "outputs": [],
   "source": [
    "import itertools\n",
    "\n",
    "arr = [1, 5, 10, 20, 93]\n",
    "순열 = itertools.permutations(arr, 2) # 순서가 정해진 리스트\n",
    "조합 = itertools.combinations(arr, 2) # 순서가 정해지지 않는 리스트\n",
    "list(조합)\n",
    "\n",
    "# for i in list(조합):\n",
    "#     if sum(i) == 103:\n",
    "#         print(i)\n"
   ]
  },
  {
   "cell_type": "code",
   "execution_count": 226,
   "metadata": {},
   "outputs": [
    {
     "data": {
      "text/plain": [
       "[0, 3]"
      ]
     },
     "execution_count": 226,
     "metadata": {},
     "output_type": "execute_result"
    }
   ],
   "source": [
    "import itertools\n",
    "\n",
    "def solution(data):\n",
    "    조합 = list(itertools.combinations(data[0], 2))\n",
    "    answer = list(filter(lambda x : sum(x) == data[1], 조합))[0]\n",
    "    \n",
    "    index1 = data[0].index(answer[0])\n",
    "    index2 = data[0].index(answer[1], index1 +1)\n",
    "    \n",
    "    return sorted([index1, index2])\n",
    "\n",
    "solution([[4, 9, 11, 2],6])"
   ]
  },
  {
   "cell_type": "markdown",
   "metadata": {},
   "source": [
    "# 8. 무기생산"
   ]
  },
  {
   "cell_type": "code",
   "execution_count": null,
   "metadata": {},
   "outputs": [],
   "source": [
    "def solution(data):\n",
    "    # 10 자루당 날이 서지 않은 검 1자루\n",
    "    # 100 자루당 날이 선 검 1자루\n",
    "    \n",
    "    # 기본으로 3300원으로 계산\n",
    "    budget = data\n",
    "    count = 0\n",
    "    bonus = 0\n",
    "    while budget >= 3300:\n",
    "        budget -= 3300\n",
    "        count += 1\n",
    "        \n",
    "        if count % 10 == 0 and budget >= 300:\n",
    "            budget -= 300\n",
    "            bonus += 1\n",
    "        \n",
    "        if count % 100 == 0:\n",
    "            bonus += 1\n",
    "    \n",
    "    return count + bonus"
   ]
  },
  {
   "cell_type": "markdown",
   "metadata": {},
   "source": [
    "# 9. 최대 손실액"
   ]
  },
  {
   "cell_type": "code",
   "execution_count": 5,
   "metadata": {},
   "outputs": [
    {
     "data": {
      "text/plain": [
       "6000"
      ]
     },
     "execution_count": 5,
     "metadata": {},
     "output_type": "execute_result"
    }
   ],
   "source": [
    "def solution(data):\n",
    "    # 나중에사면 이전 가격에는 팔지 못함\n",
    "    answer = 0\n",
    "    \n",
    "    for i in range(len(data)):\n",
    "        if i <= len(data) -1:\n",
    "            \n",
    "            if answer <= data[i] - min(data[i:]):\n",
    "                answer = data[i] - min(data[i:])\n",
    "            \n",
    "    return answer \n",
    "\n",
    "solution([58000, 58700, 55300, 54200, 53600, 52700, 57700, 61100])"
   ]
  }
 ],
 "metadata": {
  "kernelspec": {
   "display_name": "Python 3",
   "language": "python",
   "name": "python3"
  },
  "language_info": {
   "codemirror_mode": {
    "name": "ipython",
    "version": 3
   },
   "file_extension": ".py",
   "mimetype": "text/x-python",
   "name": "python",
   "nbconvert_exporter": "python",
   "pygments_lexer": "ipython3",
   "version": "3.12.0"
  }
 },
 "nbformat": 4,
 "nbformat_minor": 2
}
