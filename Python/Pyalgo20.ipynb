{
 "cells": [
  {
   "cell_type": "markdown",
   "metadata": {},
   "source": [
    "## 1.자격증명\n",
    "https://pyalgo.co.kr/?page=1#"
   ]
  },
  {
   "cell_type": "code",
   "execution_count": 1,
   "metadata": {},
   "outputs": [
    {
     "data": {
      "text/plain": [
       "'Jun'"
      ]
     },
     "execution_count": 1,
     "metadata": {},
     "output_type": "execute_result"
    }
   ],
   "source": [
    "# + > 1 - > 0 으로 바꾸고 // 이진수로 변환 후 // 아스키 코드에 대입\n",
    "\n",
    "def solution(arr):\n",
    "    return ''.join(chr(int(letter.strip(' ').replace('+', '1').replace('-', '0').replace(' ', ''), 2)) for letter in arr)\n",
    "        \n",
    "solution([' + - - + - + - ', ' + + + - + - + ', ' + + - + + + - '])"
   ]
  },
  {
   "cell_type": "markdown",
   "metadata": {},
   "source": [
    "## 2.암호문"
   ]
  },
  {
   "cell_type": "code",
   "execution_count": null,
   "metadata": {},
   "outputs": [],
   "source": [
    "# 문장에서 r, e, v 가 나오면 // 그 다음 문자열의 숫자를 저장하고 // 모두 더함. /\n",
    "# 더한값의 앞자리는 월 // 뒷자리는 일\n",
    "def solution(data):\n",
    "    value = 0\n",
    "    data = re.findall('([rev])(10|[1-9])', data)\n",
    "    for i , j in data:\n",
    "        value += int(j) \n",
    "    value = str(value)\n",
    "    return f'{value[0]}월 {value[1:]}일'\n",
    "\n",
    "solution('a10b9r10ce33uab8wc918v2cv11v9vbv10')"
   ]
  },
  {
   "cell_type": "code",
   "execution_count": null,
   "metadata": {},
   "outputs": [],
   "source": [
    "import re \n",
    "\n",
    "re.findall('([rev])(10|[1-9])','a10b9r10ce33uab8wc918v2cv11v9vb')"
   ]
  },
  {
   "cell_type": "markdown",
   "metadata": {},
   "source": [
    "## 3.출정인원 선발\n",
    "sort 리스트의 메서트   >> return None // 원본을 건듬\n",
    "sorted 내장함수(built in function)  >> return값 정렬된값 // 원본을 건들지 않음."
   ]
  },
  {
   "cell_type": "code",
   "execution_count": null,
   "metadata": {},
   "outputs": [],
   "source": [
    "#2차원 배열에서 각 배열의 합을 구하고 // 높은 순으로 정렬 후 // 상위 30% 이내 선발\n",
    "# // 단 상위 동일점수가 30% 넘어가면 빈 배열\n",
    "\n",
    "def solution(data):\n",
    "    result = []\n",
    "    for dat in data:\n",
    "        score = 0\n",
    "        score += sum(dat[1:])\n",
    "        result.append([dat[0], score])\n",
    "    #result를 높은것부터 정렬\n",
    "    result.sort(key = lambda x:x[1], reverse=True)\n",
    "    \n",
    "\n",
    "\n",
    "solution([['A', 25, 25, 25, 25], ['B', 10, 12, 13, 11], ['C', 24, 22, 23, 21], ['D', 13, 22, 16, 14]])"
   ]
  },
  {
   "cell_type": "code",
   "execution_count": null,
   "metadata": {},
   "outputs": [],
   "source": [
    "l = [\n",
    "    [6,\"a\" ,\"hello\"],\n",
    "    [3,\"f\" ,\"hello world\"],\n",
    "    [7,\"b\" ,\"hello a\"],\n",
    "    [8,\"g\" ,\"hello world hello\"],\n",
    "    [4,\"e\" ,\"hello world hello world\"],\n",
    "    [2,\"c\" ,\"hello aa\"],\n",
    "    [1,\"d\" ,\"hello abc\"],\n",
    "]"
   ]
  },
  {
   "cell_type": "code",
   "execution_count": null,
   "metadata": {},
   "outputs": [],
   "source": [
    "def ss(value):\n",
    "    return value[0]\n",
    "\n",
    "sorted(l, key=ss)"
   ]
  },
  {
   "cell_type": "code",
   "execution_count": null,
   "metadata": {},
   "outputs": [],
   "source": [
    "# 3번째 원소 값의 문자열 길이 순서대로 정렬 (내림차순)\n",
    "def ss3(value):\n",
    "    return len(value[2])\n",
    "\n",
    "sorted(l, key=ss3, reverse=True)"
   ]
  },
  {
   "cell_type": "code",
   "execution_count": null,
   "metadata": {},
   "outputs": [],
   "source": [
    "# 3번째 원소 값의 문자열 길이 순서대로 정렬 (내림차순)\n",
    "# 람다함수를 이용해 간단하게 표현 // 한번만 사용할 때 유용\n",
    "sorted(l, key=lambda x:len(x[2]), reverse=True)"
   ]
  },
  {
   "cell_type": "code",
   "execution_count": null,
   "metadata": {},
   "outputs": [],
   "source": [
    "#여기까지가 상위 30% 를 뽑는 함수\n",
    "\n",
    "data = [['A', 25, 25, 25, 25], ['B', 10, 12, 13, 11], ['C', 24, 22, 23, 21], ['D', 13, 22, 16, 14]]\n",
    "# 내림차순 합 정렬\n",
    "def solution(data):\n",
    "    length = len(data)\n",
    "    # int로 표현하면 내림으로 표시\n",
    "    ratio = int((length * 3) / 10) \n",
    "    print(ratio)\n",
    "    return sorted(data, key= lambda x:sum(x[1:],), reverse=True)[:ratio]\n",
    "\n",
    "solution(data)"
   ]
  },
  {
   "cell_type": "code",
   "execution_count": null,
   "metadata": {},
   "outputs": [],
   "source": [
    "data = [['A', 25, 25, 25, 25], \n",
    "        ['B', 10, 12, 13, 11], \n",
    "        ['C', 24, 22, 23, 21], \n",
    "        ['D', 13, 22, 16, 14],\n",
    "        ['E', 13, 22, 16, 14],\n",
    "        ]\n",
    "# 내림차순 합 정렬\n",
    "def solution(data):\n",
    "    length = len(data)\n",
    "    ratio = int((length * 3) / 10) \n",
    "    if ratio == 0:\n",
    "        return\n",
    "    result = 0\n",
    "    scoreboard = {}\n",
    "    resultlist = []\n",
    "    \n",
    "    #같은 점수대끼리 묶어줌\n",
    "    #{100: ['A'], 46: ['B'], 90: ['C'], 65: ['D', 'E']}\n",
    "    for i in data:\n",
    "        score = sum(i[1:])\n",
    "        if score in scoreboard:\n",
    "            scoreboard[score] = scoreboard[score] + [i[0]]\n",
    "        else:\n",
    "            scoreboard[score] = [i[0]]\n",
    "    \n",
    "    #같은 점수대 끼리 묶어준걸 리스트로 변환 //  리스트를 돌면서 30%안에 들어온다면 배열에 추가\n",
    "    # 리스트 덩어리를 넣었을 때 30% 넘어간다면 그동안 쌓인 배열 리턴  \n",
    "    for i in sorted(list(scoreboard.items()), reverse=True):\n",
    "        \n",
    "        if result <= ratio and len(i[1]) <= ratio and result != ratio:\n",
    "            resultlist.extend(i[1])\n",
    "            result += len(i[1])\n",
    "        \n",
    "        elif len(i[1]) > ratio:\n",
    "            return resultlist\n",
    "    return sorted(resultlist ,reverse=True)\n",
    "\n",
    "solution(data)"
   ]
  },
  {
   "cell_type": "code",
   "execution_count": null,
   "metadata": {},
   "outputs": [],
   "source": [
    "def solution(data):\n",
    "    \n",
    "    ratio = int(len(data) * 0.3)\n",
    "    scoredata = {}\n",
    "    count = 0\n",
    "    result = []\n",
    "    for i in data:\n",
    "        score = sum(i[1:])\n",
    "        if score in scoredata:\n",
    "            scoredata[score] += [i[0]]\n",
    "        else:\n",
    "            scoredata[score] = [i[0]]\n",
    "    \n",
    "    #30% 되기전까지 scoredata 값 더해줌\n",
    "    \n",
    "    # 더했을 때 30% 길이가 넘는지 확인하고 넘는다면 더하기 전에 리턴\n",
    "    # 30% 이내라면 값을 더해줌\n",
    "    for i, j in sorted(list(scoredata.items()), reverse=True):\n",
    "        \n",
    "        if len(j) + count <= ratio:\n",
    "            count += len(j)\n",
    "            result.extend(j)\n",
    "        else:\n",
    "            return sorted(result, reverse=True)\n",
    "    \n",
    "    \n",
    "\n",
    "solution([['D', 25, 25, 25, 25], ['t', 25, 25, 25, 25], ['B', 10, 12, 13, 11], ['C', 24, 22, 23, 21], ['8', 13, 22, 16, 14], ['8', 13, 22, 16, 14], ['8', 13, 22, 16, 14], ['8', 13, 22, 16, 14], ['8', 13, 22, 16, 14], ['8', 13, 22, 16, 14], ])"
   ]
  }
 ],
 "metadata": {
  "kernelspec": {
   "display_name": "Python 3",
   "language": "python",
   "name": "python3"
  },
  "language_info": {
   "codemirror_mode": {
    "name": "ipython",
    "version": 3
   },
   "file_extension": ".py",
   "mimetype": "text/x-python",
   "name": "python",
   "nbconvert_exporter": "python",
   "pygments_lexer": "ipython3",
   "version": "3.11.4"
  }
 },
 "nbformat": 4,
 "nbformat_minor": 2
}
