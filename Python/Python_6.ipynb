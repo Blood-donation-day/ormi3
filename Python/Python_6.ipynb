{
  "nbformat": 4,
  "nbformat_minor": 0,
  "metadata": {
    "colab": {
      "provenance": [],
      "toc_visible": true
    },
    "kernelspec": {
      "name": "python3",
      "display_name": "Python 3"
    },
    "language_info": {
      "name": "python"
    }
  },
  "cells": [
    {
      "cell_type": "markdown",
      "source": [
        "##일급함수와 고차함수\n",
        "\n",
        "1. 함수를 변수에 할당할 수 있습니다.\n",
        "2. 함수를 데이터 구조에 저장할 수 있습니다.\n",
        "3. 함수를 인자로 다른 함수에 전달할 수 있습니다.\n",
        "4. 함수를 결과로서 반환할 수 있습니다."
      ],
      "metadata": {
        "id": "XGDi3x_o8L-T"
      }
    },
    {
      "cell_type": "code",
      "execution_count": null,
      "metadata": {
        "colab": {
          "base_uri": "https://localhost:8080/"
        },
        "id": "XWz_f7uL6mO7",
        "outputId": "ebe4095c-eafa-4514-c2e1-07b0ffa7542d"
      },
      "outputs": [
        {
          "output_type": "execute_result",
          "data": {
            "text/plain": [
              "[10, 20, 30, 40]"
            ]
          },
          "metadata": {},
          "execution_count": 10
        }
      ],
      "source": [
        "l = [10, 20, 30]\n",
        "la = l.append\n",
        "la(40)\n",
        "l"
      ]
    },
    {
      "cell_type": "code",
      "source": [
        "#함수를 데이터 구조에 저장할 수 있습니다.\n",
        "def add(x, y):\n",
        "    return x + y\n",
        "\n",
        "def subtract(x, y):\n",
        "    return x - y\n",
        "\n",
        "funcs = [add, subtract]\n",
        "print(funcs[0](2, 3))  # 출력: 5"
      ],
      "metadata": {
        "colab": {
          "base_uri": "https://localhost:8080/"
        },
        "id": "lUDTU6lx8rPs",
        "outputId": "3ffb20f0-a8ee-44ad-8f7d-dd5a9f6dce81"
      },
      "execution_count": null,
      "outputs": [
        {
          "output_type": "stream",
          "name": "stdout",
          "text": [
            "5\n"
          ]
        }
      ]
    },
    {
      "cell_type": "code",
      "source": [
        "#함수를 인자로 다른 함수에 전달할 수 있습니다 .\n",
        "def say(name):\n",
        "    return f'Hello, {name}'\n",
        "\n",
        "def greet(func, name):\n",
        "    return func(name)\n",
        "\n",
        "print(greet(say, 'World'))"
      ],
      "metadata": {
        "colab": {
          "base_uri": "https://localhost:8080/"
        },
        "id": "m_boeyFx85DU",
        "outputId": "20a0051c-31a0-4c2b-a9f6-90d2e2d2bd81"
      },
      "execution_count": null,
      "outputs": [
        {
          "output_type": "stream",
          "name": "stdout",
          "text": [
            "Hello, World\n"
          ]
        }
      ]
    },
    {
      "cell_type": "code",
      "source": [
        "class Operator:\n",
        "    def add(self, x, y):\n",
        "        return x + y\n",
        "\n",
        "    def sub(self, x, y):\n",
        "        pass\n",
        "\n",
        "    def mul(self, x, y):\n",
        "        pass\n",
        "\n",
        "    def div(self, x, y):\n",
        "        pass\n",
        "\n",
        "    def _and(self, x, y):\n",
        "        pass\n",
        "\n",
        "    def _or(self, x, y):\n",
        "        pass\n",
        "\n",
        "op = Operator()\n",
        "logical_op = {\n",
        "    'add' : op.add,\n",
        "    'sub' : op.sub,\n",
        "    'mul' : op.mul,\n",
        "    'div' : op.div,\n",
        "}\n",
        "arithmetic_op = {\n",
        "    '_and': op._and,\n",
        "    '_or': op._or,\n",
        "}\n",
        "\n",
        "\n",
        "print(logical_op['add'](2, 3))  # 출력: 5\n",
        "print(arithmetic_op['_and'](5, 6))"
      ],
      "metadata": {
        "colab": {
          "base_uri": "https://localhost:8080/"
        },
        "id": "qw2tcvKI9cZc",
        "outputId": "210988d6-34ec-4e46-e781-d3d7e441ecca"
      },
      "execution_count": null,
      "outputs": [
        {
          "output_type": "stream",
          "name": "stdout",
          "text": [
            "5\n",
            "None\n"
          ]
        }
      ]
    },
    {
      "cell_type": "code",
      "source": [
        "def cat_sound(p):\n",
        "    x = 10\n",
        "    y = 10\n",
        "    z = 10\n",
        "    j = 10\n",
        "    p('냐옹')\n",
        "\n",
        "cat_sound(print) #함수안에 built-in-function인 print를 넣었습니다."
      ],
      "metadata": {
        "colab": {
          "base_uri": "https://localhost:8080/"
        },
        "id": "qaNitl1x_rfn",
        "outputId": "d46e7320-c74c-4cba-943f-5ab364973714"
      },
      "execution_count": null,
      "outputs": [
        {
          "output_type": "stream",
          "name": "stdout",
          "text": [
            "냐옹\n"
          ]
        }
      ]
    },
    {
      "cell_type": "code",
      "source": [
        "#원의 넓이를 변수에 함수를 넣어서 구하기\n",
        "def square(x):\n",
        "    return x**2\n",
        "\n",
        "def width_circle(r, s):\n",
        "    return s(r) * 3.14\n",
        "\n",
        "width_circle(10, square) #10**2 * 3.14"
      ],
      "metadata": {
        "colab": {
          "base_uri": "https://localhost:8080/"
        },
        "id": "mxRYZE_HAHyc",
        "outputId": "1e5a1de2-2de1-466a-fe0b-540e01b21f10"
      },
      "execution_count": null,
      "outputs": [
        {
          "output_type": "execute_result",
          "data": {
            "text/plain": [
              "314.0"
            ]
          },
          "metadata": {},
          "execution_count": 21
        }
      ]
    },
    {
      "cell_type": "code",
      "source": [
        "#삼각형에서 한 변의 길이 구하기\n",
        "def square(x):\n",
        "    return x**2\n",
        "def root(x):\n",
        "    return x**(1/2)\n",
        "\n",
        "def length(a, b, s, r):\n",
        "    return r(s(a) + s(b))\n",
        "\n",
        "\n",
        "length(3, 4, square, root)"
      ],
      "metadata": {
        "colab": {
          "base_uri": "https://localhost:8080/"
        },
        "id": "Vs7uGUFrBQ_0",
        "outputId": "6bbdeaf1-cb68-4a9f-91e2-d5d5f0b5e02e"
      },
      "execution_count": null,
      "outputs": [
        {
          "output_type": "execute_result",
          "data": {
            "text/plain": [
              "5.0"
            ]
          },
          "metadata": {},
          "execution_count": 29
        }
      ]
    },
    {
      "cell_type": "code",
      "source": [
        "# 함수를 결과로 반환!\n",
        "def create_adder(x):\n",
        "    def adder(y):\n",
        "        return x + y\n",
        "    return adder\n",
        "\n",
        "add_5 = create_adder(5)\n",
        "print(add_5(10))  # 출력: 15"
      ],
      "metadata": {
        "id": "G5SdC51XDyPt"
      },
      "execution_count": null,
      "outputs": []
    },
    {
      "cell_type": "code",
      "source": [
        "def create_exponent(x):\n",
        "    def exponent(y):\n",
        "        return y ** x\n",
        "    return exponent\n",
        "\n",
        "exponent_2 = create_exponent(2)\n",
        "exponent_3 = create_exponent(3)\n",
        "print(exponent_2(10)) # 출력: 100\n",
        "#print(create_exponent(2)(10))  => return y ** 2(상수취급)\n",
        "print(exponent_3(10)) # 출력: 1000\n",
        "print(create_exponent(2)(10)) # 출력: 1000"
      ],
      "metadata": {
        "colab": {
          "base_uri": "https://localhost:8080/"
        },
        "id": "LkN-CfKcDlPk",
        "outputId": "51e33801-348a-4879-b24f-59a9c93904c8"
      },
      "execution_count": null,
      "outputs": [
        {
          "output_type": "stream",
          "name": "stdout",
          "text": [
            "100\n",
            "1000\n",
            "100\n"
          ]
        }
      ]
    },
    {
      "cell_type": "code",
      "source": [
        "def f():\n",
        "    l = [10, 20, 30]\n",
        "    print(id(l))\n",
        "    return l\n",
        "\n",
        "sample = f()\n",
        "id(sample) #주소가 같다 함수가 끝나면 변수들이 다 휘발되지 않던가?\n",
        "# smaple이 l을 참조하고 있기 때문에 변수가 휘발되지 않았음.\n"
      ],
      "metadata": {
        "colab": {
          "base_uri": "https://localhost:8080/"
        },
        "id": "tCxMnbqLHJwq",
        "outputId": "3edf5799-d3ae-4fab-f6a6-c7abbdd5606e"
      },
      "execution_count": null,
      "outputs": [
        {
          "output_type": "stream",
          "name": "stdout",
          "text": [
            "132747690323328\n"
          ]
        },
        {
          "output_type": "execute_result",
          "data": {
            "text/plain": [
              "132747690323328"
            ]
          },
          "metadata": {},
          "execution_count": 9
        }
      ]
    },
    {
      "cell_type": "code",
      "source": [
        "import sys\n",
        "sys.getrefcount(sample)"
      ],
      "metadata": {
        "colab": {
          "base_uri": "https://localhost:8080/"
        },
        "id": "jFqU6vnOJGrz",
        "outputId": "2a8ef786-af1f-4b70-c082-9c424151bf4f"
      },
      "execution_count": null,
      "outputs": [
        {
          "output_type": "execute_result",
          "data": {
            "text/plain": [
              "3"
            ]
          },
          "metadata": {},
          "execution_count": 11
        }
      ]
    },
    {
      "cell_type": "code",
      "source": [
        "#일급함수 : 함수를 일급객체(값, 주소)로 취급\n",
        "#고차함수 : 함수를 아규먼트로 받거나 return 값으로 반환할 수 있는 함수"
      ],
      "metadata": {
        "id": "gEw36ZnIKSJB"
      },
      "execution_count": null,
      "outputs": []
    },
    {
      "cell_type": "markdown",
      "source": [
        "## 클로저\n",
        "\n",
        "휘발되었어야 하는 메모리 영역에 접근하여 데이터(주로 함수)를 활용하는 일"
      ],
      "metadata": {
        "id": "aXWUfytfK9pz"
      }
    },
    {
      "cell_type": "code",
      "source": [
        "#고차함수이며, 클로저가 아닌경우\n",
        "def outer_function():\n",
        "    def inner_function():\n",
        "        return 100 + 100\n",
        "    return inner_function\n",
        "\n",
        "outer_function()()"
      ],
      "metadata": {
        "colab": {
          "base_uri": "https://localhost:8080/"
        },
        "id": "MQ_UZhZVLqAS",
        "outputId": "39890f85-347d-4a8e-f95e-1ae9fd144a3b"
      },
      "execution_count": null,
      "outputs": [
        {
          "output_type": "execute_result",
          "data": {
            "text/plain": [
              "200"
            ]
          },
          "metadata": {},
          "execution_count": 3
        }
      ]
    },
    {
      "cell_type": "code",
      "source": [
        "#클로저인 경우\n",
        "def outer_function(x):\n",
        "    def inner_function(y):\n",
        "        return x + y\n",
        "    return inner_function\n",
        "\n",
        "inner = outer_function(100)\n",
        "inner(200)"
      ],
      "metadata": {
        "colab": {
          "base_uri": "https://localhost:8080/"
        },
        "id": "GlcpbvhtK--G",
        "outputId": "58800524-418e-441a-d1b6-042ad37117e4"
      },
      "execution_count": null,
      "outputs": [
        {
          "output_type": "execute_result",
          "data": {
            "text/plain": [
              "300"
            ]
          },
          "metadata": {},
          "execution_count": 12
        }
      ]
    },
    {
      "cell_type": "markdown",
      "source": [
        "위 예제에서 `outer_function`은 `inner_function`을 반환합니다. `inner_function`은 외부 함수의 변수 `x`를 참조하고 있습니다. 따라서, `outer_function`을 호출하고 결과를 `closure`에 저장하면, `closure`는 `inner_function`의 코드와 `x = 100`이라는 상태를 기억하는 클로저가 됩니다.\n",
        "\n",
        "`closure(5)`를 호출하면 `inner_function(5)`를 호출하는 것과 동일한 결과를 얻게 됩니다. 이는 클로저가 `inner_function`의 코드뿐만 아니라 `x = 100`이라는 상태도 '기억'하고 있기 때문입니다."
      ],
      "metadata": {
        "id": "mnsldpgQNWet"
      }
    },
    {
      "cell_type": "markdown",
      "source": [
        "## 데코레이터"
      ],
      "metadata": {
        "id": "rAJhuTCaNtJ2"
      }
    },
    {
      "cell_type": "code",
      "source": [
        "def sample_decorator(function):\n",
        "    def wrapper():\n",
        "        print('Before the function call')\n",
        "        function()\n",
        "        print('After the function call')\n",
        "    return wrapper\n",
        "\n",
        "\n",
        "\n",
        "def hello():\n",
        "    print('Hello, World')\n",
        "\n",
        "# hello() #데코레이터가 없는 상태에서는 sample_decorator(hello)()와 같습니다.\n",
        "sample_decorator(hello)()  # => wrapper()\n",
        "\n"
      ],
      "metadata": {
        "colab": {
          "base_uri": "https://localhost:8080/"
        },
        "id": "3w9-bRuLM5R-",
        "outputId": "fd006fba-88bd-4539-b2ce-42cff6153fc4"
      },
      "execution_count": null,
      "outputs": [
        {
          "output_type": "stream",
          "name": "stdout",
          "text": [
            "Before the function call\n",
            "Hello, World\n",
            "After the function call\n"
          ]
        }
      ]
    },
    {
      "cell_type": "code",
      "source": [
        "#sample_decorator 핵심 함수에 hello() 라는 부가기능을 넣는 느낌\n",
        "\n",
        "@sample_decorator\n",
        "def hello():\n",
        "    print('Hello, World')\n",
        "hello()"
      ],
      "metadata": {
        "colab": {
          "base_uri": "https://localhost:8080/"
        },
        "id": "PiColtUPPTJK",
        "outputId": "52ea9402-6e0d-4436-d716-9f44d1a63da7"
      },
      "execution_count": null,
      "outputs": [
        {
          "output_type": "stream",
          "name": "stdout",
          "text": [
            "Before the function call\n",
            "Hello, World\n",
            "After the function call\n"
          ]
        }
      ]
    },
    {
      "cell_type": "code",
      "source": [
        "def data_Preprocessing(function):\n",
        "    def wrapper(data):\n",
        "        return function(list(map(int, data)))\n",
        "    return wrapper\n",
        "\n",
        "@data_Preprocessing\n",
        "def mean(data):\n",
        "    return sum(data) / len(data)\n",
        "\n",
        "mean([1, '2', '3', 4, 5, '77'])"
      ],
      "metadata": {
        "colab": {
          "base_uri": "https://localhost:8080/"
        },
        "id": "lsBcW_nkQqAf",
        "outputId": "0dedc6bd-d675-4d8d-a07f-35d4c82540a7"
      },
      "execution_count": null,
      "outputs": [
        {
          "output_type": "execute_result",
          "data": {
            "text/plain": [
              "15.333333333333334"
            ]
          },
          "metadata": {},
          "execution_count": 27
        }
      ]
    },
    {
      "cell_type": "markdown",
      "source": [
        "![image.png](data:image/png;base64,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)"
      ],
      "metadata": {
        "id": "5qI1-wlxV9uA"
      }
    },
    {
      "cell_type": "code",
      "source": [
        "#직접 짜보기\n",
        "\n",
        "def data_processing(function):\n",
        "    def wrapper1(data):\n",
        "        return function(list(map(int, data)))\n",
        "    return wrapper1\n",
        "\n",
        "@data_processing\n",
        "def average(data):\n",
        "    return sum(data) / len(data)\n",
        "\n",
        "c = [1, 2, '3', '4', 5, '10', 20]\n",
        "\n",
        "average(c)"
      ],
      "metadata": {
        "colab": {
          "base_uri": "https://localhost:8080/"
        },
        "id": "5AVKFZmbZBjy",
        "outputId": "c98cad3b-2069-42bc-e6b9-655c7148b901"
      },
      "execution_count": null,
      "outputs": [
        {
          "output_type": "execute_result",
          "data": {
            "text/plain": [
              "6.428571428571429"
            ]
          },
          "metadata": {},
          "execution_count": 29
        }
      ]
    },
    {
      "cell_type": "code",
      "source": [
        "import sys\n",
        "\n",
        "def ff():\n",
        "    l = [10, 20, 30]\n",
        "    return l\n",
        "\n",
        "sample_ = ff()\n",
        "sys.getrefcount(sample_) # window, mac, linux의 출력값이 달라요.\n",
        "# 중요한 포인트는 getrefcount의 작동 원리가 아니라\n",
        "# 함수가 종료되어도 참조하는 변수가 있다면\n",
        "# 값이 사라지지 않는다는 것이 포인트입니다!"
      ],
      "metadata": {
        "colab": {
          "base_uri": "https://localhost:8080/"
        },
        "id": "ctR21zMhVjZG",
        "outputId": "5f64cb27-b32c-4594-ca3c-97b170d970ff"
      },
      "execution_count": null,
      "outputs": [
        {
          "output_type": "execute_result",
          "data": {
            "text/plain": [
              "2"
            ]
          },
          "metadata": {},
          "execution_count": 28
        }
      ]
    },
    {
      "cell_type": "code",
      "source": [
        "# 이런 식으로 우린 사용합니다.\n",
        "# login한 사용자만 게시판 읽도록\n",
        "# Django와 같은 프레임웤은 필요한 데코레이터는 미리 구현되어 있습니다.\n",
        "# 걱정하지 않으셔도 됩니다.\n",
        "def login(arg):\n",
        "    pass\n",
        "\n",
        "@login\n",
        "def 게시판읽기():\n",
        "    pass"
      ],
      "metadata": {
        "id": "OGYAo1aTZxo1"
      },
      "execution_count": null,
      "outputs": []
    },
    {
      "cell_type": "code",
      "source": [
        "def add_exclamation(function):\n",
        "    def wrapper(text):\n",
        "        print(f'add_exclamation 데코레이터 시작')\n",
        "        result = function(text) + \"!\"\n",
        "        print(f'add_exclamation 데코레이터 종료')\n",
        "        return result\n",
        "    return wrapper\n",
        "\n",
        "def add_question_mark(function):\n",
        "    def wrapper(text):\n",
        "        print(f'add_question_mark 데코레이터 시작')\n",
        "        result = function(text) + \"?\"\n",
        "        print(f'add_question_mark 데코레이터 종료')\n",
        "        return result\n",
        "    return wrapper\n",
        "\n",
        "def add_dot(function):\n",
        "    def wrapper(text):\n",
        "        print(f'add_dot 데코레이터 시작')\n",
        "        result = function(text) + \".\"\n",
        "        print(f'add_dot 데코레이터 종료')\n",
        "        return result\n",
        "    return wrapper\n",
        "\n",
        "@add_exclamation\n",
        "@add_question_mark\n",
        "@add_dot\n",
        "def say(anytext):\n",
        "    return anytext\n",
        "\n",
        "c = say('hello 123')\n",
        "print(c)"
      ],
      "metadata": {
        "colab": {
          "base_uri": "https://localhost:8080/"
        },
        "id": "WwUw2BIUZ8-E",
        "outputId": "7a77fa46-f335-4ac2-f869-30029e30e95a"
      },
      "execution_count": null,
      "outputs": [
        {
          "output_type": "stream",
          "name": "stdout",
          "text": [
            "add_exclamation 데코레이터 시작\n",
            "add_question_mark 데코레이터 시작\n",
            "add_dot 데코레이터 시작\n",
            "add_dot 데코레이터 종료\n",
            "add_question_mark 데코레이터 종료\n",
            "add_exclamation 데코레이터 종료\n",
            "hello 123.?!\n"
          ]
        }
      ]
    },
    {
      "cell_type": "code",
      "source": [
        "#데코레이터를 감싸는 하나의 함수를 더 만들어서 아규먼트를 받는 방법입니다.\n",
        "def add():\n",
        "    def decorator(function):\n",
        "        def new_function(a, b):\n",
        "            print(f'plus함수가 {function(a, b)}만큼 증가시키는 데코레이터 실행')\n",
        "            result = function(a, b)\n",
        "            print(result)\n",
        "            print(f'plus함수가 {function(a, b)}만큼 증가시키는 데코레이터 종료')\n",
        "            return result\n",
        "        return new_function\n",
        "    return decorator\n",
        "\n",
        "@add()\n",
        "def plus(a, b):\n",
        "    print('plus함수 호출')\n",
        "    return a + b\n",
        "\n",
        "nums1 = plus(10, 20)\n",
        "print(f'nums1 : {nums1}')"
      ],
      "metadata": {
        "colab": {
          "base_uri": "https://localhost:8080/"
        },
        "id": "ZvpDxg5WbQtY",
        "outputId": "17bf98bf-3c3f-456d-a874-a6f174a673c9"
      },
      "execution_count": null,
      "outputs": [
        {
          "output_type": "stream",
          "name": "stdout",
          "text": [
            "plus함수 호출\n",
            "plus함수가 30만큼 증가시키는 데코레이터 실행\n",
            "plus함수 호출\n",
            "30\n",
            "plus함수 호출\n",
            "plus함수가 30만큼 증가시키는 데코레이터 종료\n",
            "nums1 : 30\n"
          ]
        }
      ]
    },
    {
      "cell_type": "code",
      "source": [
        "def plus(a, b):\n",
        "    print('plus 함수가 호출되었습니다.')\n",
        "    return a + b\n",
        "\n",
        "def add(n):\n",
        "    def decorator(f):\n",
        "        def wrapper(a, b):\n",
        "            print(f'plus 함수가 {n}만큼 증가시키는 데코레이터가 시작됩니다.')\n",
        "            result = f(a, b)\n",
        "            print(result)\n",
        "            print(f'plus 함수가 {n}만큼 증가시키는 데코레이터가 종료됩니다.')\n",
        "            return result + n\n",
        "        return wrapper\n",
        "    return decorator\n",
        "\n",
        "# d = add(1000)\n",
        "# w = d(plus)\n",
        "# w(10, 20)\n",
        "\n",
        "add(1000)(plus)(10, 20)"
      ],
      "metadata": {
        "colab": {
          "base_uri": "https://localhost:8080/"
        },
        "id": "YWALi1eBxKZZ",
        "outputId": "f06b2d53-9f5d-416a-e37f-3aa61d337808"
      },
      "execution_count": null,
      "outputs": [
        {
          "output_type": "stream",
          "name": "stdout",
          "text": [
            "plus 함수가 1000만큼 증가시키는 데코레이터가 시작됩니다.\n",
            "plus 함수가 호출되었습니다.\n",
            "30\n",
            "plus 함수가 1000만큼 증가시키는 데코레이터가 종료됩니다.\n"
          ]
        },
        {
          "output_type": "execute_result",
          "data": {
            "text/plain": [
              "1030"
            ]
          },
          "metadata": {},
          "execution_count": 6
        }
      ]
    },
    {
      "cell_type": "markdown",
      "source": [
        "## lambda"
      ],
      "metadata": {
        "id": "esPjibqleHc8"
      }
    },
    {
      "cell_type": "code",
      "source": [
        "square = lambda x: x*x\n",
        "print(square(5))"
      ],
      "metadata": {
        "colab": {
          "base_uri": "https://localhost:8080/"
        },
        "id": "JI1pVbKXeI_U",
        "outputId": "b4e98a70-934a-4242-ec90-dd724531c9d0"
      },
      "execution_count": null,
      "outputs": [
        {
          "output_type": "stream",
          "name": "stdout",
          "text": [
            "25\n"
          ]
        }
      ]
    },
    {
      "cell_type": "code",
      "source": [
        "import numpy\n",
        "#재사용되는 코드\n",
        "def 제곱(x):\n",
        "    return x * x\n",
        "\n",
        "list1 = [1, 2, 3]\n",
        "list2 = [numpy.arange(0, 20, 0.5)]\n",
        "print(list(map(제곱, list1)))\n",
        "print(list(map(제곱, list2)))"
      ],
      "metadata": {
        "colab": {
          "base_uri": "https://localhost:8080/"
        },
        "id": "EicNjm2zeP_C",
        "outputId": "02136ef1-1408-4d82-8d99-f3843090ad71"
      },
      "execution_count": null,
      "outputs": [
        {
          "output_type": "stream",
          "name": "stdout",
          "text": [
            "[1, 4, 9]\n",
            "[array([0.0000e+00, 2.5000e-01, 1.0000e+00, 2.2500e+00, 4.0000e+00,\n",
            "       6.2500e+00, 9.0000e+00, 1.2250e+01, 1.6000e+01, 2.0250e+01,\n",
            "       2.5000e+01, 3.0250e+01, 3.6000e+01, 4.2250e+01, 4.9000e+01,\n",
            "       5.6250e+01, 6.4000e+01, 7.2250e+01, 8.1000e+01, 9.0250e+01,\n",
            "       1.0000e+02, 1.1025e+02, 1.2100e+02, 1.3225e+02, 1.4400e+02,\n",
            "       1.5625e+02, 1.6900e+02, 1.8225e+02, 1.9600e+02, 2.1025e+02,\n",
            "       2.2500e+02, 2.4025e+02, 2.5600e+02, 2.7225e+02, 2.8900e+02,\n",
            "       3.0625e+02, 3.2400e+02, 3.4225e+02, 3.6100e+02, 3.8025e+02])]\n"
          ]
        }
      ]
    },
    {
      "cell_type": "code",
      "source": [
        "#재사용되지 않는 코드\n",
        "print(list(map(lambda x:x**2, [1, 2, 3])))"
      ],
      "metadata": {
        "colab": {
          "base_uri": "https://localhost:8080/"
        },
        "id": "yP68qmfPfNQO",
        "outputId": "4110927a-d396-46b9-b6cf-9f478a501365"
      },
      "execution_count": null,
      "outputs": [
        {
          "output_type": "stream",
          "name": "stdout",
          "text": [
            "[1, 4, 9]\n"
          ]
        }
      ]
    },
    {
      "cell_type": "code",
      "source": [
        "#이런 형태는 오늘 보고 끝입니다.\n",
        "result = lambda x: x**2\n",
        "print(result(3))\n",
        "\n",
        "result = (lambda x : x ** 2)(3) #x에 바로 3 대입\n",
        "print(result)  # 출력: 9\n"
      ],
      "metadata": {
        "colab": {
          "base_uri": "https://localhost:8080/"
        },
        "id": "xcN1pUNofWWn",
        "outputId": "4e681a4d-713d-42de-fdfb-215f8c2cda07"
      },
      "execution_count": null,
      "outputs": [
        {
          "output_type": "stream",
          "name": "stdout",
          "text": [
            "9\n",
            "9\n"
          ]
        }
      ]
    },
    {
      "cell_type": "markdown",
      "source": [
        "## args, kargs"
      ],
      "metadata": {
        "id": "-u67PJcfx-pR"
      }
    },
    {
      "cell_type": "code",
      "source": [
        "a, b, *c = 10, 20, 30, 40, 50\n",
        "a, b, c"
      ],
      "metadata": {
        "colab": {
          "base_uri": "https://localhost:8080/"
        },
        "id": "qqkEe5rgyBMr",
        "outputId": "fe0ba6aa-aaca-4d7d-f1bf-a3273ea57480"
      },
      "execution_count": null,
      "outputs": [
        {
          "output_type": "execute_result",
          "data": {
            "text/plain": [
              "(10, 20, [30, 40, 50])"
            ]
          },
          "metadata": {},
          "execution_count": 10
        }
      ]
    },
    {
      "cell_type": "code",
      "source": [
        "def print_args(a, b, *args): # *args뒤에 일반 변수를 선언하지 못합니다.\n",
        "    print(args)\n",
        "    for x in args:\n",
        "        print(x)\n",
        "\n",
        "print_args(100, True, 'Licat', 'hello', 200)\n",
        "print_args(100, True) #없어도 출력됨 => ()"
      ],
      "metadata": {
        "colab": {
          "base_uri": "https://localhost:8080/"
        },
        "id": "iLvEz1McySm9",
        "outputId": "79492024-69b8-4bc7-9b1b-59d10a1b1ea2"
      },
      "execution_count": null,
      "outputs": [
        {
          "output_type": "stream",
          "name": "stdout",
          "text": [
            "('Licat', 'hello', 200)\n",
            "Licat\n",
            "hello\n",
            "200\n",
            "()\n"
          ]
        }
      ]
    },
    {
      "cell_type": "code",
      "source": [
        "def print_kwargs(a, **kwargs): #key와 value를 모두 넘기기위해 ** 두개 사용\n",
        "    print(a)\n",
        "    print(kwargs)\n",
        "    for i in kwargs:\n",
        "        print(i)\n",
        "\n",
        "print_kwargs(100, name='Licat', age='10')"
      ],
      "metadata": {
        "colab": {
          "base_uri": "https://localhost:8080/"
        },
        "id": "2W9NKg7ny2iE",
        "outputId": "0c68224b-59fa-4c34-b02a-34a345a8c39d"
      },
      "execution_count": null,
      "outputs": [
        {
          "output_type": "stream",
          "name": "stdout",
          "text": [
            "100\n",
            "{'name': 'Licat', 'age': '10'}\n",
            "name\n",
            "age\n"
          ]
        }
      ]
    },
    {
      "cell_type": "code",
      "source": [
        "def print_args(**args):\n",
        "    for i in args:\n",
        "        print(i)\n",
        "        print(args[i])\n",
        "\n",
        "print_args(name='Licat', age='10')\n"
      ],
      "metadata": {
        "colab": {
          "base_uri": "https://localhost:8080/"
        },
        "id": "CWI8j0-h0kR5",
        "outputId": "f2783dd9-da3e-4b79-82ac-a2fa1e80ffb0"
      },
      "execution_count": null,
      "outputs": [
        {
          "output_type": "stream",
          "name": "stdout",
          "text": [
            "name\n",
            "Licat\n",
            "age\n",
            "10\n"
          ]
        }
      ]
    },
    {
      "cell_type": "code",
      "source": [
        "def func(a, b, *, c, d):  #* 뒤에건 키를 정해서 전달해줘야함\n",
        "    print(a, b, c, d)\n",
        "\n",
        "func(1, 2, c = 3, d = 4)  # 올바른 예시\n",
        "# func(1, 2, 3, d = 4)  # 잘못된 예시\n",
        "# func(1, 2, 3, 4)    # 잘못된 예시"
      ],
      "metadata": {
        "colab": {
          "base_uri": "https://localhost:8080/"
        },
        "id": "NHJpWMJ417c9",
        "outputId": "b7b5af60-f9e8-4c7d-c0f3-4507bf3fec4c"
      },
      "execution_count": null,
      "outputs": [
        {
          "output_type": "stream",
          "name": "stdout",
          "text": [
            "1 2 3 4\n"
          ]
        }
      ]
    },
    {
      "cell_type": "code",
      "source": [
        "#args 와 keywordargs 차이\n",
        "def func(a, b, c):\n",
        "    print(a, b, c)\n",
        "\n",
        "args = (1, 2, 3)\n",
        "func(*args)\n",
        "\n",
        "kwargs = {'a': 1, 'b': 2, 'c': 3}\n",
        "func(**kwargs)"
      ],
      "metadata": {
        "colab": {
          "base_uri": "https://localhost:8080/"
        },
        "id": "hLg4LUua2fOX",
        "outputId": "863c5a9e-d0a8-4835-f9b4-a1358c270a71"
      },
      "execution_count": null,
      "outputs": [
        {
          "output_type": "stream",
          "name": "stdout",
          "text": [
            "1 2 3\n",
            "1 2 3\n"
          ]
        }
      ]
    },
    {
      "cell_type": "code",
      "source": [
        "kwargs = {'a': 1, 'b': 2, 'c': 3}\n",
        "func(**kwargs)\n",
        "print(kwargs, *kwargs)\n",
        "print(kwargs, **kwargs) #errror 왜 에스터리스크가 2개일 때 error가 날까요\n",
        "print(kwargs, {'a' = 1, 'b' = 2, 'c' = 3}) #이 코드가 바로 위의 코드와 같습니다."
      ],
      "metadata": {
        "colab": {
          "base_uri": "https://localhost:8080/",
          "height": 146
        },
        "id": "8Ja34zHO3HAF",
        "outputId": "d369842a-f0a0-4100-81d8-21fe34a61d25"
      },
      "execution_count": null,
      "outputs": [
        {
          "output_type": "error",
          "ename": "SyntaxError",
          "evalue": "ignored",
          "traceback": [
            "\u001b[0;36m  File \u001b[0;32m\"<ipython-input-33-60270f253e52>\"\u001b[0;36m, line \u001b[0;32m5\u001b[0m\n\u001b[0;31m    print(kwargs, {'a' = 1, 'b' = 2, 'c' = 3}) #이 코드가 바로 위의 코드와 같음\u001b[0m\n\u001b[0m                   ^\u001b[0m\n\u001b[0;31mSyntaxError\u001b[0m\u001b[0;31m:\u001b[0m cannot assign to literal here. Maybe you meant '==' instead of '='?\n"
          ]
        }
      ]
    },
    {
      "cell_type": "code",
      "source": [
        "# a=1, b=2, c=3 => **kwargs => {'a' = 1, 'b' = 2, 'c' = 3}\n",
        "\n",
        "\n",
        "def function(a=100, **kwargs):\n",
        "    print(a, kwargs)\n",
        "\n",
        "function(200, asd=3, b=2, c=3)"
      ],
      "metadata": {
        "colab": {
          "base_uri": "https://localhost:8080/"
        },
        "id": "qujz0ihG4YFK",
        "outputId": "ef96504a-669f-4f4c-e2c4-b0d4741c3074"
      },
      "execution_count": null,
      "outputs": [
        {
          "output_type": "stream",
          "name": "stdout",
          "text": [
            "200 {'asd': 3, 'b': 2, 'c': 3}\n"
          ]
        }
      ]
    },
    {
      "cell_type": "code",
      "source": [
        "# 반대로 {'a' = 1, 'b' = 2, 'c' = 3} => **kwargs => a=1, b=2, c=3\n",
        "\n",
        "def function(a, b, c):\n",
        "    print(a, b, c)\n",
        "\n",
        "\n",
        "args = {'a' : 1, 'b' : 2, 'c' : 3, 'd' : 2 }\n",
        "function(*args[:2])\n"
      ],
      "metadata": {
        "colab": {
          "base_uri": "https://localhost:8080/",
          "height": 217
        },
        "id": "HcrwK2FV5GCv",
        "outputId": "67f1ce15-9152-4261-d86f-486e3d3261cd"
      },
      "execution_count": null,
      "outputs": [
        {
          "output_type": "error",
          "ename": "TypeError",
          "evalue": "ignored",
          "traceback": [
            "\u001b[0;31m---------------------------------------------------------------------------\u001b[0m",
            "\u001b[0;31mTypeError\u001b[0m                                 Traceback (most recent call last)",
            "\u001b[0;32m<ipython-input-42-60a54fdf0d1d>\u001b[0m in \u001b[0;36m<cell line: 8>\u001b[0;34m()\u001b[0m\n\u001b[1;32m      6\u001b[0m \u001b[0;34m\u001b[0m\u001b[0m\n\u001b[1;32m      7\u001b[0m \u001b[0margs\u001b[0m \u001b[0;34m=\u001b[0m \u001b[0;34m{\u001b[0m\u001b[0;34m'a'\u001b[0m \u001b[0;34m:\u001b[0m \u001b[0;36m1\u001b[0m\u001b[0;34m,\u001b[0m \u001b[0;34m'b'\u001b[0m \u001b[0;34m:\u001b[0m \u001b[0;36m2\u001b[0m\u001b[0;34m,\u001b[0m \u001b[0;34m'c'\u001b[0m \u001b[0;34m:\u001b[0m \u001b[0;36m3\u001b[0m\u001b[0;34m,\u001b[0m \u001b[0;34m'd'\u001b[0m \u001b[0;34m:\u001b[0m \u001b[0;36m2\u001b[0m \u001b[0;34m}\u001b[0m\u001b[0;34m\u001b[0m\u001b[0;34m\u001b[0m\u001b[0m\n\u001b[0;32m----> 8\u001b[0;31m \u001b[0mfunction\u001b[0m\u001b[0;34m(\u001b[0m\u001b[0;34m*\u001b[0m\u001b[0margs\u001b[0m\u001b[0;34m[\u001b[0m\u001b[0;34m:\u001b[0m\u001b[0;36m2\u001b[0m\u001b[0;34m]\u001b[0m\u001b[0;34m)\u001b[0m\u001b[0;34m\u001b[0m\u001b[0;34m\u001b[0m\u001b[0m\n\u001b[0m",
            "\u001b[0;31mTypeError\u001b[0m: unhashable type: 'slice'"
          ]
        }
      ]
    },
    {
      "cell_type": "markdown",
      "source": [
        "## 이터레이터, 제너레이터"
      ],
      "metadata": {
        "id": "Ldv_kcyh6LGY"
      }
    },
    {
      "cell_type": "markdown",
      "source": [
        "### 이터레이터"
      ],
      "metadata": {
        "id": "HKCLjoskBKoL"
      }
    },
    {
      "cell_type": "code",
      "source": [
        "class MyIterator:\n",
        "    def __init__(self, stop):\n",
        "        self.current_value = 0  # 현재 값\n",
        "        self.stop = stop  # 순회를 멈출 값\n",
        "\n",
        "    def __iter__(self):\n",
        "        return self\n",
        "\n",
        "    def __next__(self):\n",
        "        if self.current_value >= self.stop:\n",
        "            raise StopIteration\n",
        "        result = self.current_value\n",
        "        self.current_value += 1\n",
        "        return result\n",
        "\n",
        "my_iterator = MyIterator(5)\n",
        "\n",
        "for i in my_iterator:\n",
        "    print(i)\n",
        "\n",
        "#초기화가 되지않아 순회가 돌지 않습니다.\n",
        "for i in my_iterator:\n",
        "    print(i)"
      ],
      "metadata": {
        "colab": {
          "base_uri": "https://localhost:8080/"
        },
        "id": "bZjldnrM51Xz",
        "outputId": "7c172a2e-7678-4d30-b635-5623e2409060"
      },
      "execution_count": null,
      "outputs": [
        {
          "output_type": "stream",
          "name": "stdout",
          "text": [
            "0\n",
            "1\n",
            "2\n",
            "3\n",
            "4\n"
          ]
        }
      ]
    },
    {
      "cell_type": "code",
      "source": [
        "class MyIterator:\n",
        "    def __init__(self, stop):\n",
        "        self.current_value = 0  # 현재 값\n",
        "        self.stop = stop  # 순회를 멈출 값\n",
        "\n",
        "    def __iter__(self):\n",
        "        return self\n",
        "\n",
        "    def __next__(self):\n",
        "        if self.current_value >= self.stop:\n",
        "            raise StopIteration\n",
        "        result = self.current_value\n",
        "        self.current_value += 1\n",
        "        return result\n",
        "\n",
        "my_iterator = MyIterator(5)"
      ],
      "metadata": {
        "id": "ISroyaJyA4sQ"
      },
      "execution_count": null,
      "outputs": []
    },
    {
      "cell_type": "code",
      "source": [
        "#for 문이 도는방법 next로 계속 나가다가 stopiteration에러를 만나면 for문 종료\n",
        "i = iter(my_iterator)\n",
        "print(next(i))\n",
        "print(next(i))\n",
        "print(next(i))\n",
        "print(next(i))\n",
        "print(next(i))\n",
        "print(next(i))"
      ],
      "metadata": {
        "colab": {
          "base_uri": "https://localhost:8080/",
          "height": 432
        },
        "id": "HEZYcZN-9uYE",
        "outputId": "ce5b2449-c2b5-4e46-96f5-ccef76f85493"
      },
      "execution_count": null,
      "outputs": [
        {
          "output_type": "stream",
          "name": "stdout",
          "text": [
            "0\n",
            "1\n",
            "2\n",
            "3\n",
            "4\n"
          ]
        },
        {
          "output_type": "error",
          "ename": "StopIteration",
          "evalue": "ignored",
          "traceback": [
            "\u001b[0;31m---------------------------------------------------------------------------\u001b[0m",
            "\u001b[0;31mStopIteration\u001b[0m                             Traceback (most recent call last)",
            "\u001b[0;32m<ipython-input-72-73c4050bb260>\u001b[0m in \u001b[0;36m<cell line: 7>\u001b[0;34m()\u001b[0m\n\u001b[1;32m      5\u001b[0m \u001b[0mprint\u001b[0m\u001b[0;34m(\u001b[0m\u001b[0mnext\u001b[0m\u001b[0;34m(\u001b[0m\u001b[0mi\u001b[0m\u001b[0;34m)\u001b[0m\u001b[0;34m)\u001b[0m\u001b[0;34m\u001b[0m\u001b[0;34m\u001b[0m\u001b[0m\n\u001b[1;32m      6\u001b[0m \u001b[0mprint\u001b[0m\u001b[0;34m(\u001b[0m\u001b[0mnext\u001b[0m\u001b[0;34m(\u001b[0m\u001b[0mi\u001b[0m\u001b[0;34m)\u001b[0m\u001b[0;34m)\u001b[0m\u001b[0;34m\u001b[0m\u001b[0;34m\u001b[0m\u001b[0m\n\u001b[0;32m----> 7\u001b[0;31m \u001b[0mprint\u001b[0m\u001b[0;34m(\u001b[0m\u001b[0mnext\u001b[0m\u001b[0;34m(\u001b[0m\u001b[0mi\u001b[0m\u001b[0;34m)\u001b[0m\u001b[0;34m)\u001b[0m\u001b[0;34m\u001b[0m\u001b[0;34m\u001b[0m\u001b[0m\n\u001b[0m",
            "\u001b[0;32m<ipython-input-71-ad47ac7e5948>\u001b[0m in \u001b[0;36m__next__\u001b[0;34m(self)\u001b[0m\n\u001b[1;32m      9\u001b[0m     \u001b[0;32mdef\u001b[0m \u001b[0m__next__\u001b[0m\u001b[0;34m(\u001b[0m\u001b[0mself\u001b[0m\u001b[0;34m)\u001b[0m\u001b[0;34m:\u001b[0m\u001b[0;34m\u001b[0m\u001b[0;34m\u001b[0m\u001b[0m\n\u001b[1;32m     10\u001b[0m         \u001b[0;32mif\u001b[0m \u001b[0mself\u001b[0m\u001b[0;34m.\u001b[0m\u001b[0mcurrent_value\u001b[0m \u001b[0;34m>=\u001b[0m \u001b[0mself\u001b[0m\u001b[0;34m.\u001b[0m\u001b[0mstop\u001b[0m\u001b[0;34m:\u001b[0m\u001b[0;34m\u001b[0m\u001b[0;34m\u001b[0m\u001b[0m\n\u001b[0;32m---> 11\u001b[0;31m             \u001b[0;32mraise\u001b[0m \u001b[0mStopIteration\u001b[0m\u001b[0;34m\u001b[0m\u001b[0;34m\u001b[0m\u001b[0m\n\u001b[0m\u001b[1;32m     12\u001b[0m         \u001b[0mresult\u001b[0m \u001b[0;34m=\u001b[0m \u001b[0mself\u001b[0m\u001b[0;34m.\u001b[0m\u001b[0mcurrent_value\u001b[0m\u001b[0;34m\u001b[0m\u001b[0;34m\u001b[0m\u001b[0m\n\u001b[1;32m     13\u001b[0m         \u001b[0mself\u001b[0m\u001b[0;34m.\u001b[0m\u001b[0mcurrent_value\u001b[0m \u001b[0;34m+=\u001b[0m \u001b[0;36m1\u001b[0m\u001b[0;34m\u001b[0m\u001b[0;34m\u001b[0m\u001b[0m\n",
            "\u001b[0;31mStopIteration\u001b[0m: "
          ]
        }
      ]
    },
    {
      "cell_type": "markdown",
      "source": [
        "### 제너레이터"
      ],
      "metadata": {
        "id": "dym5FdCpBMnn"
      }
    },
    {
      "cell_type": "code",
      "source": [
        "def my_generator(data):\n",
        "    for i in data:\n",
        "        yield i * 10\n",
        "\n",
        "for i in my_generator([1, 2, 3]):\n",
        "    print(i)"
      ],
      "metadata": {
        "colab": {
          "base_uri": "https://localhost:8080/"
        },
        "id": "1IOYnVkmBN7q",
        "outputId": "03afbbb4-432f-4dbf-d659-31b2185bac5f"
      },
      "execution_count": null,
      "outputs": [
        {
          "output_type": "stream",
          "name": "stdout",
          "text": [
            "10\n",
            "20\n",
            "30\n"
          ]
        }
      ]
    },
    {
      "cell_type": "code",
      "source": [
        "#이럴 때 많이 사용합니다.\n",
        "import random\n",
        "def my_generator():\n",
        "    l = ['홀', '짝']\n",
        "    r = ''\n",
        "    while True:\n",
        "        r = random.choice(l)\n",
        "        yield r\n",
        "\n",
        "try1 = 10\n",
        "\n",
        "result = list(zip(range(try1),'하이 요 hello123', my_generator())) #zip 이터레이터가 셋중 하나라도 종료될때까지 next\n",
        "result"
      ],
      "metadata": {
        "colab": {
          "base_uri": "https://localhost:8080/"
        },
        "id": "CsQgPFvWDV7J",
        "outputId": "910df886-1dd9-42af-a112-0873ac8cb4f9"
      },
      "execution_count": null,
      "outputs": [
        {
          "output_type": "execute_result",
          "data": {
            "text/plain": [
              "[(0, '하', '짝'),\n",
              " (1, '이', '짝'),\n",
              " (2, ' ', '홀'),\n",
              " (3, '요', '짝'),\n",
              " (4, ' ', '짝'),\n",
              " (5, 'h', '홀'),\n",
              " (6, 'e', '홀'),\n",
              " (7, 'l', '짝'),\n",
              " (8, 'l', '짝'),\n",
              " (9, 'o', '짝')]"
            ]
          },
          "metadata": {},
          "execution_count": 83
        }
      ]
    },
    {
      "cell_type": "code",
      "source": [
        "gen = (i for i in range(2, 11, 2))\n",
        "for i in gen:\n",
        "    print(i)"
      ],
      "metadata": {
        "colab": {
          "base_uri": "https://localhost:8080/"
        },
        "id": "t-jdRIkTGb7A",
        "outputId": "7c9e182c-3529-4afc-d089-a28135ab39bd"
      },
      "execution_count": null,
      "outputs": [
        {
          "output_type": "stream",
          "name": "stdout",
          "text": [
            "2\n",
            "4\n",
            "6\n",
            "8\n",
            "10\n"
          ]
        }
      ]
    },
    {
      "cell_type": "markdown",
      "source": [
        "## 연습문제\n",
        "회전초밥집에 들어갔습니다. 초밥은 아래와 같은 양식으로 나옵니다.\n",
        "\n",
        "[['광어초밥', 1000], ['연어초밥', 2000], ['계란초밥', 3000]]\n",
        "\n",
        "각 초밥은 몇 개 나올지 알 수 없습니다.\n",
        "각 초밥은 1000원씩 비싸집니다.\n",
        "초밥에 '어'가 나오는 초밥만 먹습니다\n",
        "\n",
        "내가 먹은 초밥의 비용을 계산하는 코드를 작성해주세요.\n"
      ],
      "metadata": {
        "id": "Ohs6wxspHc-g"
      }
    },
    {
      "cell_type": "code",
      "source": [
        "import random\n",
        "from collections import Counter\n",
        "sushi = [\n",
        "    ['광어초밥', 1000],\n",
        "    ['연어초밥', 2000],\n",
        "    ['계란초밥', 3000],\n",
        "    ['문어초밥', 4000],\n",
        "    ['장어초밥', 4000]\n",
        "    ]\n",
        "eated = []\n",
        "\n",
        "def HowManyEat():\n",
        "    eatcount = random.randint(1, 10)\n",
        "    filter = []\n",
        "    for i in range(eatcount):\n",
        "        filter.append(random.choice(sushi)[0])\n",
        "\n",
        "    for i in filter:\n",
        "        if '어' in i:\n",
        "            eated.append(i)\n",
        "    print(f'나는 {filter}초밥중, \\n {eated}초밥을 먹었어. \\n 총 {len(eated)}개 먹었어.')\n",
        "\n",
        "\n",
        "def totalcost():\n",
        "    HowManyEat()\n",
        "    cost = 0\n",
        "    menu = {}\n",
        "    for shusi_cost in sushi:\n",
        "        menu[shusi_cost[0]] = shusi_cost[1]\n",
        "    #먹은 갯수 세기\n",
        "    eated_counter = Counter(eated)\n",
        "\n",
        "    for i in eated:\n",
        "        cost = cost + menu.get(i)\n",
        "    for eat, count in eated_counter.items():\n",
        "        if count > 1:\n",
        "            cost = cost + (count-1)*1000\n",
        "    print(f'총 {cost}원이야.')\n",
        "\n",
        "totalcost()\n"
      ],
      "metadata": {
        "colab": {
          "base_uri": "https://localhost:8080/"
        },
        "id": "coZbUq7kHynE",
        "outputId": "2c108bc5-a9f0-4f4a-adb6-47966e255bd9"
      },
      "execution_count": null,
      "outputs": [
        {
          "output_type": "stream",
          "name": "stdout",
          "text": [
            "나는 ['장어초밥', '광어초밥', '광어초밥', '계란초밥', '장어초밥']초밥중, \n",
            " ['장어초밥', '광어초밥', '광어초밥', '장어초밥']초밥을 먹었어. \n",
            " 총 4개 먹었어.\n",
            "총 12000원이야.\n"
          ]
        }
      ]
    },
    {
      "cell_type": "code",
      "source": [
        "def gen(data):\n",
        "    for name, price in data:\n",
        "        if '어' in name:\n",
        "            yield price\n",
        "\n",
        "def solution(data):\n",
        "    return sum(gen(data))\n",
        "\n",
        "solution([['광어초밥', 1000], ['연어초밥', 2000], ['계란초밥', 3000], ['문어초밥', 4000], ['장어초밥', 5000]])"
      ],
      "metadata": {
        "colab": {
          "base_uri": "https://localhost:8080/"
        },
        "id": "Ki-iFbE2TT0o",
        "outputId": "20323d16-c966-4ac0-815e-003f7b3bc01c"
      },
      "execution_count": null,
      "outputs": [
        {
          "output_type": "execute_result",
          "data": {
            "text/plain": [
              "12000"
            ]
          },
          "metadata": {},
          "execution_count": 8
        }
      ]
    },
    {
      "cell_type": "markdown",
      "source": [
        "## nonlocal"
      ],
      "metadata": {
        "id": "LFVDOQ9oHj1C"
      }
    },
    {
      "cell_type": "code",
      "source": [
        "x = 100\n",
        "def outer():\n",
        "    x = 1\n",
        "    def inner():\n",
        "        nonlocal x\n",
        "        x += 1\n",
        "        print(x)\n",
        "    inner()\n",
        "    print(x)\n",
        "\n",
        "outer()\n",
        "print(x)"
      ],
      "metadata": {
        "colab": {
          "base_uri": "https://localhost:8080/"
        },
        "id": "XvJP9b2XTefe",
        "outputId": "44be9d0d-e2f4-4621-82c7-f78c9d0c240e"
      },
      "execution_count": null,
      "outputs": [
        {
          "output_type": "stream",
          "name": "stdout",
          "text": [
            "2\n",
            "2\n",
            "100\n"
          ]
        }
      ]
    },
    {
      "cell_type": "markdown",
      "source": [
        "## zip이 사라지는 이유"
      ],
      "metadata": {
        "id": "CXZ9u8n5HpQi"
      }
    },
    {
      "cell_type": "code",
      "source": [
        "a = [1, 2, 3]\n",
        "b = ['a', 'b', 'c']\n",
        "\n",
        "z = zip(a, b)\n",
        "print(list(z)) # [(1, 'a'), (2, 'b'), (3, 'c')]\n",
        "\n",
        "# zip 객체는 한 번 사용되었으므로 빈 리스트가 반환됩니다.\n",
        "print(list(z)) # []"
      ],
      "metadata": {
        "colab": {
          "base_uri": "https://localhost:8080/"
        },
        "id": "gQivlr1pThTN",
        "outputId": "b268716d-f0c9-4af9-8c89-0f1ae3d0f3aa"
      },
      "execution_count": null,
      "outputs": [
        {
          "output_type": "stream",
          "name": "stdout",
          "text": [
            "[(1, 'a'), (2, 'b'), (3, 'c')]\n",
            "[]\n"
          ]
        }
      ]
    },
    {
      "cell_type": "code",
      "source": [
        "x = [1, 2, 3]\n",
        "y = sorted(x)\n",
        "\n",
        "for i in y:\n",
        "    print(i)\n",
        "\n",
        "for i in y:\n",
        "    print(i)\n",
        "\n",
        "y # 심지어 리스트로 나옵니다!? zip, map 너무 차별하는 것 아닐까요?"
      ],
      "metadata": {
        "colab": {
          "base_uri": "https://localhost:8080/"
        },
        "id": "I9Er4GcFHuAt",
        "outputId": "796d8b4b-239f-4702-8155-9a5c9890a3aa"
      },
      "execution_count": null,
      "outputs": [
        {
          "output_type": "stream",
          "name": "stdout",
          "text": [
            "1\n",
            "2\n",
            "3\n",
            "1\n",
            "2\n",
            "3\n"
          ]
        },
        {
          "output_type": "execute_result",
          "data": {
            "text/plain": [
              "[1, 2, 3]"
            ]
          },
          "metadata": {},
          "execution_count": 2
        }
      ]
    },
    {
      "cell_type": "code",
      "source": [
        "aa = sorted(range(2, 1000, 12))\n",
        "aa\n",
        "#sorted는 메모리에 많은 부하를 줌. 사용에 주의하세요."
      ],
      "metadata": {
        "id": "3wz43qR9UBbU"
      },
      "execution_count": null,
      "outputs": []
    },
    {
      "cell_type": "markdown",
      "source": [
        "## 연습문제"
      ],
      "metadata": {
        "id": "XxO6nqdrHxFS"
      }
    },
    {
      "cell_type": "code",
      "source": [
        "# 문제1\n",
        "# 다음과 같이 동작하는 제너레이터 함수 fibonacci(n)를 완성하세요.\n",
        "# 주어진 숫자 n까지의 피보나치 수열을 반환합니다.\n",
        "# 인터넷에서 피보나치 순열 Python 코드를 검색해보셔도 좋습니다.\n",
        "\n",
        "def fib(n):\n",
        "    pass\n",
        "\n",
        "for i in fib(5):\n",
        "    print(i)\n",
        "\n",
        "'''\n",
        "출력\n",
        "1\n",
        "1\n",
        "2\n",
        "3\n",
        "5\n",
        "'''\n",
        "\n",
        "# 문제2\n",
        "# 주어진 함수의 실행 시간을 측정하여 출력하는 데코레이터 time_it를 작성하세요.\n",
        "# (힌트: time 모듈의 time() 함수를 사용하세요.)"
      ],
      "metadata": {
        "id": "qCE1wxpOHykH"
      },
      "execution_count": null,
      "outputs": []
    },
    {
      "cell_type": "code",
      "source": [
        "# value swap\n",
        "# pre, next = next, temp\n",
        "# 다른언어\n",
        "temp = a\n",
        "a = b\n",
        "b = temp\n",
        "# 파이썬\n",
        "a, b = b, a"
      ],
      "metadata": {
        "id": "-pVTzJGDH0WA"
      },
      "execution_count": null,
      "outputs": []
    },
    {
      "cell_type": "code",
      "source": [
        "# 문제1\n",
        "# 다음과 같이 동작하는 제너레이터 함수 fibonacci(n)를 완성하세요.\n",
        "# 주어진 숫자 n까지의 피보나치 수열을 반환합니다.\n",
        "\n",
        "def fib(n):\n",
        "    pre = 1\n",
        "    next = 1\n",
        "    count = 0\n",
        "    while True:\n",
        "        temp = pre + next\n",
        "        yield pre\n",
        "        pre, next = next, temp\n",
        "        count += 1\n",
        "        if count == n:\n",
        "            break\n",
        "\n",
        "for i in fib(5):\n",
        "    print(i)\n",
        "\n",
        "'''\n",
        "출력\n",
        "1\n",
        "1\n",
        "2\n",
        "3\n",
        "5\n",
        "'''\n",
        "\n",
        "# 문제2\n",
        "# 주어진 함수의 실행 시간을 측정하여 출력하는 데코레이터 time_it를 작성하세요.\n",
        "# (힌트: time 모듈의 time() 함수를 사용하세요.)\n",
        "\n",
        "import time\n",
        "\n",
        "def time_it(func):\n",
        "    def wrapper():\n",
        "        start_time = time.time()\n",
        "        func()\n",
        "        end_time = time.time()\n",
        "        print(f\"{end_time - start_time:.4f}s\")\n",
        "    return wrapper\n",
        "\n",
        "@time_it\n",
        "def main():\n",
        "    def fib(n):\n",
        "        pre = 1\n",
        "        next = 1\n",
        "        count = 0\n",
        "        while True:\n",
        "            temp = pre + next\n",
        "            yield pre\n",
        "            pre, next = next, temp\n",
        "            count += 1\n",
        "            if count == n:\n",
        "                break\n",
        "\n",
        "    for i in fib(20):\n",
        "        print(i)\n",
        "\n",
        "main()"
      ],
      "metadata": {
        "id": "SYEKXPCnH3IH"
      },
      "execution_count": null,
      "outputs": []
    },
    {
      "cell_type": "markdown",
      "source": [
        "## 파이썬의 버전별 문법"
      ],
      "metadata": {
        "id": "DXPHDwYGKfxG"
      }
    },
    {
      "cell_type": "code",
      "source": [
        "# 3.6\n",
        "def greet(name: str) -> str:\n",
        "    return f'Hello, {name}'\n",
        "\n",
        "greet(10)"
      ],
      "metadata": {
        "id": "tIuA5xP0LM5J"
      },
      "execution_count": null,
      "outputs": []
    },
    {
      "cell_type": "code",
      "source": [
        "# 3.6\n",
        "def greet(name):\n",
        "    '''\n",
        "    인사를 하는 함수입니다.\n",
        "\n",
        "    이 함수는 name 인자로 받아 name과 함께 인사를 하는 함수입니다~~\n",
        "\n",
        "    Args:\n",
        "        a(str): 블라블라\n",
        "        b(int): 블라블라\n",
        "\n",
        "    Returns:\n",
        "        리턴은 이런식입니다.\n",
        "        example: [1, 2, 3]\n",
        "\n",
        "    Raises:\n",
        "        IOError: 애러 블라블라\n",
        "    '''\n",
        "    return f'Hello, {name}'\n",
        "\n",
        "greet(10) #마우스를 올려보세요\n",
        "greet.__doc__"
      ],
      "metadata": {
        "colab": {
          "base_uri": "https://localhost:8080/",
          "height": 89
        },
        "id": "mimFf7b1IV1N",
        "outputId": "219aff0e-b73b-4882-c577-3e4278ddcc6d"
      },
      "execution_count": null,
      "outputs": [
        {
          "output_type": "execute_result",
          "data": {
            "text/plain": [
              "'\\n    인사를 하는 함수입니다.\\n\\n    이 함수는 name 인자로 받아 name과 함께 인사를 하는 함수입니다~~\\n\\n    Args:\\n        a(str): 블라블라\\n        b(int): 블라블라\\n\\n    Returns:\\n        리턴은 이런식입니다.\\n        example: [1, 2, 3]\\n\\n    Raises:\\n        IOError: 애러 블라블라\\n    '"
            ],
            "application/vnd.google.colaboratory.intrinsic+json": {
              "type": "string"
            }
          },
          "metadata": {},
          "execution_count": 6
        }
      ]
    },
    {
      "cell_type": "code",
      "source": [
        "# 3.7\n",
        "from dataclasses import dataclass\n",
        "\n",
        "@dataclass\n",
        "class User:\n",
        "    id: int\n",
        "    name: str\n",
        "    email : str\n",
        "\n",
        "user = User(123, 'hojun', 'hojun@gmail')\n",
        "user"
      ],
      "metadata": {
        "id": "WOAXLmi6LSBK"
      },
      "execution_count": null,
      "outputs": []
    },
    {
      "cell_type": "code",
      "source": [
        "# 3.8 왈러스 연산자\n",
        "(x := 10) * 3"
      ],
      "metadata": {
        "colab": {
          "base_uri": "https://localhost:8080/"
        },
        "id": "q7mK8JzwKREm",
        "outputId": "e2e5e367-89ad-41b0-c59d-6eb967efabd2"
      },
      "execution_count": null,
      "outputs": [
        {
          "output_type": "execute_result",
          "data": {
            "text/plain": [
              "30"
            ]
          },
          "metadata": {},
          "execution_count": 8
        }
      ]
    },
    {
      "cell_type": "code",
      "source": [
        "# 3.9\n",
        "#딕셔너리 결합 연산자\n",
        "x = {'key1' : 'value1'}\n",
        "y = {'key2' : 'value2'}\n",
        "z = x | y\n",
        "z"
      ],
      "metadata": {
        "colab": {
          "base_uri": "https://localhost:8080/"
        },
        "id": "GcJW5KJiKa_u",
        "outputId": "805b2f8c-7eb1-4c53-c850-0ab7e18576f2"
      },
      "execution_count": null,
      "outputs": [
        {
          "output_type": "execute_result",
          "data": {
            "text/plain": [
              "{'key1': 'value1', 'key2': 'value2'}"
            ]
          },
          "metadata": {},
          "execution_count": 9
        }
      ]
    },
    {
      "cell_type": "code",
      "source": [
        "# {\"key1\": \"value1\"} + {\"key2\": \"value2\"}\n",
        "# {\"key1\": \"value1\"}.append({\"key2\": \"value2\"})\n",
        "x = {\"key1\": \"value1\"}\n",
        "x.update({\"key2\": \"value2\"})\n",
        "x"
      ],
      "metadata": {
        "colab": {
          "base_uri": "https://localhost:8080/"
        },
        "id": "pK_hNYN4K6XF",
        "outputId": "fb3ba1b9-c0e3-42ee-9cdc-27f18341b2ce"
      },
      "execution_count": null,
      "outputs": [
        {
          "output_type": "execute_result",
          "data": {
            "text/plain": [
              "{'key1': 'value1', 'key2': 'value2'}"
            ]
          },
          "metadata": {},
          "execution_count": 10
        }
      ]
    },
    {
      "cell_type": "code",
      "source": [
        "# 아래와 같은 딕셔너리 언패킹은 3.5버전에서 나온 기능입니다.\n",
        "x = {\"key1\": \"value1\"}\n",
        "y = {\"key2\": \"value2\"}\n",
        "z = {**x, **y}\n",
        "z"
      ],
      "metadata": {
        "colab": {
          "base_uri": "https://localhost:8080/"
        },
        "id": "_xzjtErvMXvA",
        "outputId": "7bc3aacb-0957-4f66-f43a-cf575ab11546"
      },
      "execution_count": null,
      "outputs": [
        {
          "output_type": "execute_result",
          "data": {
            "text/plain": [
              "{'key1': 'value1', 'key2': 'value2'}"
            ]
          },
          "metadata": {},
          "execution_count": 12
        }
      ]
    },
    {
      "cell_type": "code",
      "source": [
        "# 3.10\n",
        "#구조적 패턴 매칭\n",
        "# 간단한 버전\n",
        "str_test = \"happy\"\n",
        "\n",
        "match str_test:\n",
        "    case \"happy\":\n",
        "        print(\"happy\")\n",
        "\n",
        "    case \"good\":\n",
        "        print(\"good\")\n",
        "\n",
        "    case \"bad\":\n",
        "        print(\"bad\")"
      ],
      "metadata": {
        "colab": {
          "base_uri": "https://localhost:8080/"
        },
        "id": "w2dW6UfuMiNt",
        "outputId": "cad37f43-311f-4be9-dfe0-5b0d76a0d6e9"
      },
      "execution_count": null,
      "outputs": [
        {
          "output_type": "stream",
          "name": "stdout",
          "text": [
            "happy\n"
          ]
        }
      ]
    },
    {
      "cell_type": "code",
      "source": [
        "# Enum 사용\n",
        "from enum import Enum\n",
        "\n",
        "class Test(Enum): # Enum을 상속받은 class 정의\n",
        "\tENTER  = 1\n",
        "\tQUIT = 0\n",
        "\n",
        "test = Test(1) # ENTER 값을 가진 class 객체 생성\n",
        "\n",
        "match test:\n",
        "\tcase Test.ENTER:\n",
        "\t\tprint(\"enter\")\n",
        "\n",
        "\tcase Test.QUIT:\n",
        "\t\tprint(\"quit\")"
      ],
      "metadata": {
        "id": "ewxPZz23NG2N"
      },
      "execution_count": null,
      "outputs": []
    },
    {
      "cell_type": "code",
      "source": [
        "# 리스트 사용\n",
        "test = [\"quit\",\"good\"]\n",
        "match test:\n",
        "\t\t# 리스트 내부에 quit이라는 문자열만 있는 지 확인,\n",
        "\t\t# 이외에 다른 값이 있을 경우 매칭이 되지 않습니다.\n",
        "    case [\"quit\"]:\n",
        "        quit()\n",
        "\t\t# 리스트 첫 번째 요소가 문자열 load인지 판단합니다.\n",
        "    # filename이라는 변수는 체크하지 않고 값을 가져와 사용합니다.\n",
        "    case [\"load\", filename]:\n",
        "        print(f\"Loading {filename}\")\n",
        "\t\t# 모든 케이스가 매칭이 되지 않을 경우 최종적으로 수행하는 매칭되는 구문입니다.(와일드 카드)\n",
        "    case _:\n",
        "        print (\"기본값\")"
      ],
      "metadata": {
        "id": "4buAxn9KNIRC"
      },
      "execution_count": null,
      "outputs": []
    },
    {
      "cell_type": "code",
      "source": [
        "# 패턴 예시\n",
        "\n",
        "case \"test\" # 단일 값 \"test\"에 매칭\n",
        "case [\"a\",\"b\"] # [\"a\",\"b\"]라는 컬렉션에 매칭\n",
        "case [\"a\", value] : # 두 개의 값이 있는 컬렉션에 매칭하고, 두 번째 값을 캡처 변수 value에 저장\n",
        "case (\"a\"|\"b\"|\"c\") : # or 연산자(|)를 사용해서 하나의 case 블록에서 여러 case를 처리, \"a\",\"b\" 또는 \"c\"에 매칭\n",
        "case [\"z\", _] # \"z\"로 시작하는 모든 컬렉션을 매칭"
      ],
      "metadata": {
        "id": "X6UE8weSNI8g"
      },
      "execution_count": null,
      "outputs": []
    },
    {
      "cell_type": "markdown",
      "source": [
        "## 파일 입출력"
      ],
      "metadata": {
        "id": "uHfBybnnNMA8"
      }
    },
    {
      "cell_type": "code",
      "source": [
        "# open(파일이름, 파일모드)\n",
        "f = open('python.txt', 'w') #파일모드 r, w, a\n",
        "\n",
        "#파일모드\n",
        "# r(읽기모드)\n",
        "# w(쓰기모드, 파일이 없으면 생성합니다. 내용이 있어도 w모드면 덮어씁니다.)\n",
        "# a(추가모드)\n",
        "f.close()"
      ],
      "metadata": {
        "id": "9uXTeZ3HNKfD"
      },
      "execution_count": null,
      "outputs": []
    },
    {
      "cell_type": "code",
      "source": [
        "f = open('python.txt', 'w')\n",
        "s= ''\n",
        "for i in range(1, 6):\n",
        "    s += f'{i}명 참여 중입니다. \\n'\n",
        "f.write(s)\n",
        "f.close()"
      ],
      "metadata": {
        "id": "kDCKPQ8-RDL3"
      },
      "execution_count": null,
      "outputs": []
    },
    {
      "cell_type": "code",
      "source": [
        "f = open('python.txt', 'r')\n",
        "while True:\n",
        "    line = f.readline()\n",
        "    if not line:\n",
        "        break\n",
        "    print(line)\n",
        "f.close()"
      ],
      "metadata": {
        "colab": {
          "base_uri": "https://localhost:8080/"
        },
        "id": "Cw6z4CtBRVyT",
        "outputId": "5e389a26-f58f-49c6-cd6b-1909285fb7bb"
      },
      "execution_count": null,
      "outputs": [
        {
          "output_type": "stream",
          "name": "stdout",
          "text": [
            "1명 참여 중입니다. \n",
            "\n",
            "2명 참여 중입니다. \n",
            "\n",
            "3명 참여 중입니다. \n",
            "\n",
            "4명 참여 중입니다. \n",
            "\n",
            "5명 참여 중입니다. \n",
            "\n"
          ]
        }
      ]
    },
    {
      "cell_type": "code",
      "source": [
        "f = open('python.txt', 'r')\n",
        "lines = f.readlines()\n",
        "for line in lines:\n",
        "    print(lines)\n",
        "    print(line)\n",
        "f.close()"
      ],
      "metadata": {
        "colab": {
          "base_uri": "https://localhost:8080/"
        },
        "id": "taeoPgXhRvUX",
        "outputId": "1629d043-625c-485a-f278-22420f8669da"
      },
      "execution_count": null,
      "outputs": [
        {
          "output_type": "stream",
          "name": "stdout",
          "text": [
            "['1명 참여 중입니다. \\n', '2명 참여 중입니다. \\n', '3명 참여 중입니다. \\n', '4명 참여 중입니다. \\n', '5명 참여 중입니다. \\n']\n",
            "1명 참여 중입니다. \n",
            "\n",
            "['1명 참여 중입니다. \\n', '2명 참여 중입니다. \\n', '3명 참여 중입니다. \\n', '4명 참여 중입니다. \\n', '5명 참여 중입니다. \\n']\n",
            "2명 참여 중입니다. \n",
            "\n",
            "['1명 참여 중입니다. \\n', '2명 참여 중입니다. \\n', '3명 참여 중입니다. \\n', '4명 참여 중입니다. \\n', '5명 참여 중입니다. \\n']\n",
            "3명 참여 중입니다. \n",
            "\n",
            "['1명 참여 중입니다. \\n', '2명 참여 중입니다. \\n', '3명 참여 중입니다. \\n', '4명 참여 중입니다. \\n', '5명 참여 중입니다. \\n']\n",
            "4명 참여 중입니다. \n",
            "\n",
            "['1명 참여 중입니다. \\n', '2명 참여 중입니다. \\n', '3명 참여 중입니다. \\n', '4명 참여 중입니다. \\n', '5명 참여 중입니다. \\n']\n",
            "5명 참여 중입니다. \n",
            "\n"
          ]
        }
      ]
    },
    {
      "cell_type": "code",
      "source": [
        "f = open('python.txt', 'r')\n",
        "data = f.read()\n",
        "print(data)\n",
        "f.close()"
      ],
      "metadata": {
        "colab": {
          "base_uri": "https://localhost:8080/"
        },
        "id": "pvu0PKA1SWz0",
        "outputId": "65e3ebe6-ee9b-4412-f058-efb55a8b5c95"
      },
      "execution_count": null,
      "outputs": [
        {
          "output_type": "stream",
          "name": "stdout",
          "text": [
            "1명 참여 중입니다. \n",
            "2명 참여 중입니다. \n",
            "3명 참여 중입니다. \n",
            "4명 참여 중입니다. \n",
            "5명 참여 중입니다. \n",
            "\n"
          ]
        }
      ]
    },
    {
      "cell_type": "code",
      "source": [
        "data"
      ],
      "metadata": {
        "colab": {
          "base_uri": "https://localhost:8080/",
          "height": 53
        },
        "id": "4YyhsZ2CSf3l",
        "outputId": "ac7dd41d-a58f-4fc8-97b4-80d51a57261e"
      },
      "execution_count": null,
      "outputs": [
        {
          "output_type": "execute_result",
          "data": {
            "text/plain": [
              "'1명 참여 중입니다. \\n2명 참여 중입니다. \\n3명 참여 중입니다. \\n4명 참여 중입니다. \\n5명 참여 중입니다. \\n'"
            ],
            "application/vnd.google.colaboratory.intrinsic+json": {
              "type": "string"
            }
          },
          "metadata": {},
          "execution_count": 43
        }
      ]
    },
    {
      "cell_type": "code",
      "source": [
        "#html 작성\n",
        "f = open('python.html', 'w')\n",
        "s = '''<html>\n",
        "<head>\n",
        "</head>\n",
        "<body>\n",
        "<h1>Hello, World</h1>\n",
        "</body>\n",
        "</html>\n",
        "'''\n",
        "\n",
        "f.write(s)\n",
        "f.close()"
      ],
      "metadata": {
        "id": "0B57xdi4S2Qo"
      },
      "execution_count": null,
      "outputs": []
    },
    {
      "cell_type": "code",
      "source": [
        "# 쉬운예제\n",
        "f = open('python.csv', 'w', encoding = 'utf-8')\n",
        "s = '''제목, 평점, 이미지, 줄거리\n",
        "무빙, 5.0, img, 줄거리\n",
        "무빙, 5.0, img, 줄거리\n",
        "무빙, 5.0,      img, 줄거리\n",
        "무빙, 5.0, img, 줄거리\n",
        "'''\n",
        "\n",
        "f.write(s)\n",
        "f.close()"
      ],
      "metadata": {
        "id": "vAPLvwjTUK24"
      },
      "execution_count": null,
      "outputs": []
    },
    {
      "cell_type": "code",
      "source": [
        "# 어려운 예제\n",
        "# django의 동작원리와도 관련이 있습니다.\n",
        "import requests\n",
        "from bs4 import BeautifulSoup\n",
        "\n",
        "paullab_url = 'http://paullab.co.kr/bookservice/'\n",
        "response = requests.get(paullab_url)\n",
        "response.encoding = 'utf-8'\n",
        "html = response.text\n",
        "\n",
        "soup = BeautifulSoup(html, 'html.parser')\n",
        "\n",
        "bookservices = soup.select('.col-lg-6 > h2')     # col-lg-6 클래스 안의 h2 태그 탐색\n",
        "contents = ''\n",
        "\n",
        "for no, book in enumerate(bookservices, 1):\n",
        "    contents += f'''\n",
        "                <section>\n",
        "                <h2>{no}. {book.text}</h2>\n",
        "                <img src=''>\n",
        "                </section>\n",
        "                '''\n",
        "\n",
        "# 이미지 양식: https://paullab.co.kr/bookservice/img/notion.jpg\n",
        "f = open('python.html', 'w')\n",
        "s = f'''<html>\n",
        "<head>\n",
        "</head>\n",
        "<body>\n",
        "{contents}\n",
        "</body>\n",
        "</html>\n",
        "'''\n",
        "f.write(s)\n",
        "f.close()"
      ],
      "metadata": {
        "id": "qPVysWg3U-AH"
      },
      "execution_count": null,
      "outputs": []
    },
    {
      "cell_type": "code",
      "source": [
        "#내용 수정 a\n",
        "f = open('python.txt', 'a')\n",
        "s = ''\n",
        "for i in range(6, 11):\n",
        "    s += f'{i}명 참여 중입니다. \\n'\n",
        "f.write(s)\n",
        "f.close()"
      ],
      "metadata": {
        "id": "WPcz9jSvYglV"
      },
      "execution_count": null,
      "outputs": []
    },
    {
      "cell_type": "code",
      "source": [
        "#파일 열기와 닫기를 동시에\n",
        "with open('test.txt', 'w') as f:\n",
        "    내용 = 'Life is too short, you need python'\n",
        "    f.write(내용)"
      ],
      "metadata": {
        "id": "yPEmnxUQY6hH"
      },
      "execution_count": null,
      "outputs": []
    },
    {
      "cell_type": "code",
      "source": [
        "f = open('python.txt', 'w+') #읽기 쓰기(기존에 있던 내용은 덮어쓰기)\n",
        "lines = f.readlines()\n",
        "for line in lines:\n",
        "    print(line, end ='')\n",
        "f.close()"
      ],
      "metadata": {
        "id": "FSjsX8N-Z1oT"
      },
      "execution_count": null,
      "outputs": []
    },
    {
      "cell_type": "code",
      "source": [
        "f = open('python.txt', 'r+') #읽기 쓰기 (기존에 있던 내용을 읽을 수 있고, 최종적으로는 덮어씀 )\n",
        "lines = f.readlines()\n",
        "for line in lines:\n",
        "    print(line, end ='')\n",
        "f.close()"
      ],
      "metadata": {
        "id": "mhuhrO6VaF4h"
      },
      "execution_count": null,
      "outputs": []
    },
    {
      "cell_type": "code",
      "source": [
        "f = open('python.txt', 'a+') #읽기 없으면 파일추가\n",
        "lines = f.readlines()\n",
        "for line in lines:\n",
        "    print(line, end ='')\n",
        "f.close()"
      ],
      "metadata": {
        "id": "7qaiRwgXaUmD"
      },
      "execution_count": null,
      "outputs": []
    },
    {
      "cell_type": "markdown",
      "source": [
        "## 비트연산"
      ],
      "metadata": {
        "id": "Tsb-r7MWbTgQ"
      }
    },
    {
      "cell_type": "code",
      "source": [
        "#비트의 and 연산\n",
        "5 & 12\n",
        "\n",
        "# 00000101 == 5\n",
        "# 00001100 == 2\n",
        "# ----------\n",
        "# 00000100 ==> 4"
      ],
      "metadata": {
        "colab": {
          "base_uri": "https://localhost:8080/"
        },
        "id": "pVW_cwj-bUwe",
        "outputId": "9a177174-f7ec-43e4-c866-76953dc92b09"
      },
      "execution_count": null,
      "outputs": [
        {
          "output_type": "execute_result",
          "data": {
            "text/plain": [
              "4"
            ]
          },
          "metadata": {},
          "execution_count": 77
        }
      ]
    },
    {
      "cell_type": "code",
      "source": [
        "#비트의 or 연산\n",
        "5 | 12\n",
        "\n",
        "# 00000101 == 5\n",
        "# 00001100 == 12\n",
        "# ----------\n",
        "# 00001101 == 13"
      ],
      "metadata": {
        "colab": {
          "base_uri": "https://localhost:8080/"
        },
        "id": "RsAW2AIEf-E4",
        "outputId": "24c64c6e-5c6a-467a-d16b-d86d9177eecc"
      },
      "execution_count": null,
      "outputs": [
        {
          "output_type": "execute_result",
          "data": {
            "text/plain": [
              "13"
            ]
          },
          "metadata": {},
          "execution_count": 80
        }
      ]
    },
    {
      "cell_type": "code",
      "source": [
        "# 쉬프트 연산\n",
        "7 << 2\n",
        "\n",
        "#00000111\n",
        "#00011100 (16 + 8 + 4)"
      ],
      "metadata": {
        "colab": {
          "base_uri": "https://localhost:8080/"
        },
        "id": "viNAHgzEgcOI",
        "outputId": "2456d19a-99b7-43f7-c605-ae28892a7ec6"
      },
      "execution_count": null,
      "outputs": [
        {
          "output_type": "execute_result",
          "data": {
            "text/plain": [
              "28"
            ]
          },
          "metadata": {},
          "execution_count": 81
        }
      ]
    },
    {
      "cell_type": "code",
      "source": [
        "# -(n + 1)가 n의 보수\n",
        "~20"
      ],
      "metadata": {
        "colab": {
          "base_uri": "https://localhost:8080/"
        },
        "id": "oh_orwR3geNL",
        "outputId": "329a8ac4-37fa-4d72-9654-bed6b91ba4ad"
      },
      "execution_count": null,
      "outputs": [
        {
          "output_type": "execute_result",
          "data": {
            "text/plain": [
              "-21"
            ]
          },
          "metadata": {},
          "execution_count": 95
        }
      ]
    },
    {
      "cell_type": "code",
      "source": [
        "num = 3.14159\n",
        "print(f\"{num:.2f}\")  # 출력: 3.14\n",
        "\n",
        "name = \"Alice\"\n",
        "print(f\"{name:>10}\")  # 출력:      Alice"
      ],
      "metadata": {
        "colab": {
          "base_uri": "https://localhost:8080/"
        },
        "id": "UqnjMjxOkoDe",
        "outputId": "529fc497-cf13-4bc0-87b7-85f398c294d6"
      },
      "execution_count": null,
      "outputs": [
        {
          "output_type": "stream",
          "name": "stdout",
          "text": [
            "3.14\n",
            "     Alice\n"
          ]
        }
      ]
    },
    {
      "cell_type": "markdown",
      "source": [
        "## f-string"
      ],
      "metadata": {
        "id": "ZhslbvQpkutC"
      }
    },
    {
      "cell_type": "code",
      "source": [
        "value = 'hello'\n",
        "print(f'{value}')\n",
        "print(f'{{value}}')\n",
        "print(f'{{{value}}}')\n",
        "print(f'{{{{value}}}}')\n",
        "print(f'{{{{{value}}}}}')\n",
        "print(f'{{{{{{value}}}}}}')\n",
        "print(f'{{{{{{{value}}}}}}}')"
      ],
      "metadata": {
        "colab": {
          "base_uri": "https://localhost:8080/"
        },
        "id": "lYiLD4WckyJ9",
        "outputId": "d26efd20-a231-41ef-9299-f5d290d18a11"
      },
      "execution_count": null,
      "outputs": [
        {
          "output_type": "stream",
          "name": "stdout",
          "text": [
            "hello\n",
            "{value}\n",
            "{hello}\n",
            "{{value}}\n",
            "{{hello}}\n",
            "{{{value}}}\n",
            "{{{hello}}}\n"
          ]
        }
      ]
    },
    {
      "cell_type": "code",
      "source": [
        "def solution(a, b ,included):\n",
        "    result = a\n",
        "    include = []\n",
        "    for i in included:\n",
        "        included.append(i)\n",
        "\n",
        "    for i in range(len(included)):\n",
        "        if included[i] == True:\n",
        "            result += b * (i )\n",
        "\n",
        "    return result\n",
        "\n",
        "solution(7,1, [False, False, False, True, False, False, False])"
      ],
      "metadata": {
        "colab": {
          "base_uri": "https://localhost:8080/",
          "height": 343
        },
        "id": "3k9oc9AY9ZfG",
        "outputId": "cdc114b1-68b5-4752-86b5-64f96e2aa56f"
      },
      "execution_count": null,
      "outputs": [
        {
          "output_type": "error",
          "ename": "KeyboardInterrupt",
          "evalue": "ignored",
          "traceback": [
            "\u001b[0;31m---------------------------------------------------------------------------\u001b[0m",
            "\u001b[0;31mKeyboardInterrupt\u001b[0m                         Traceback (most recent call last)",
            "\u001b[0;32m<ipython-input-1-42296f8529ca>\u001b[0m in \u001b[0;36m<cell line: 13>\u001b[0;34m()\u001b[0m\n\u001b[1;32m     11\u001b[0m     \u001b[0;32mreturn\u001b[0m \u001b[0mresult\u001b[0m\u001b[0;34m\u001b[0m\u001b[0;34m\u001b[0m\u001b[0m\n\u001b[1;32m     12\u001b[0m \u001b[0;34m\u001b[0m\u001b[0m\n\u001b[0;32m---> 13\u001b[0;31m \u001b[0msolution\u001b[0m\u001b[0;34m(\u001b[0m\u001b[0;36m7\u001b[0m\u001b[0;34m,\u001b[0m\u001b[0;36m1\u001b[0m\u001b[0;34m,\u001b[0m \u001b[0;34m[\u001b[0m\u001b[0;32mFalse\u001b[0m\u001b[0;34m,\u001b[0m \u001b[0;32mFalse\u001b[0m\u001b[0;34m,\u001b[0m \u001b[0;32mFalse\u001b[0m\u001b[0;34m,\u001b[0m \u001b[0;32mTrue\u001b[0m\u001b[0;34m,\u001b[0m \u001b[0;32mFalse\u001b[0m\u001b[0;34m,\u001b[0m \u001b[0;32mFalse\u001b[0m\u001b[0;34m,\u001b[0m \u001b[0;32mFalse\u001b[0m\u001b[0;34m]\u001b[0m\u001b[0;34m)\u001b[0m\u001b[0;34m\u001b[0m\u001b[0;34m\u001b[0m\u001b[0m\n\u001b[0m",
            "\u001b[0;32m<ipython-input-1-42296f8529ca>\u001b[0m in \u001b[0;36msolution\u001b[0;34m(a, b, included)\u001b[0m\n\u001b[1;32m      3\u001b[0m     \u001b[0minclude\u001b[0m \u001b[0;34m=\u001b[0m \u001b[0;34m[\u001b[0m\u001b[0;34m]\u001b[0m\u001b[0;34m\u001b[0m\u001b[0;34m\u001b[0m\u001b[0m\n\u001b[1;32m      4\u001b[0m     \u001b[0;32mfor\u001b[0m \u001b[0mi\u001b[0m \u001b[0;32min\u001b[0m \u001b[0mincluded\u001b[0m\u001b[0;34m:\u001b[0m\u001b[0;34m\u001b[0m\u001b[0;34m\u001b[0m\u001b[0m\n\u001b[0;32m----> 5\u001b[0;31m         \u001b[0mincluded\u001b[0m\u001b[0;34m.\u001b[0m\u001b[0mappend\u001b[0m\u001b[0;34m(\u001b[0m\u001b[0mi\u001b[0m\u001b[0;34m)\u001b[0m\u001b[0;34m\u001b[0m\u001b[0;34m\u001b[0m\u001b[0m\n\u001b[0m\u001b[1;32m      6\u001b[0m \u001b[0;34m\u001b[0m\u001b[0m\n\u001b[1;32m      7\u001b[0m     \u001b[0;32mfor\u001b[0m \u001b[0mi\u001b[0m \u001b[0;32min\u001b[0m \u001b[0mrange\u001b[0m\u001b[0;34m(\u001b[0m\u001b[0mlen\u001b[0m\u001b[0;34m(\u001b[0m\u001b[0mincluded\u001b[0m\u001b[0;34m)\u001b[0m\u001b[0;34m)\u001b[0m\u001b[0;34m:\u001b[0m\u001b[0;34m\u001b[0m\u001b[0;34m\u001b[0m\u001b[0m\n",
            "\u001b[0;31mKeyboardInterrupt\u001b[0m: "
          ]
        }
      ]
    },
    {
      "cell_type": "code",
      "source": [
        "value = 'hello'\n",
        "# print(f'{value + 'world'}') error\n",
        "print(f'{value + \"world\"}')\n",
        "print(f'{10 + 10}') #중괄호 안에서 연산을 하는것은 권장하지 않습니다."
      ],
      "metadata": {
        "colab": {
          "base_uri": "https://localhost:8080/"
        },
        "id": "Q1KExywalYV1",
        "outputId": "5b19fbac-5338-4c33-ddce-c64cb887492f"
      },
      "execution_count": null,
      "outputs": [
        {
          "output_type": "stream",
          "name": "stdout",
          "text": [
            "helloworld\n",
            "20\n"
          ]
        }
      ]
    },
    {
      "cell_type": "code",
      "source": [
        "a = 10\n",
        "b = 20\n",
        "\n",
        "# case1\n",
        "two_numbers_mul = a * b # 굳이 변수 1개를 더 생성할 필요가 있을까?\n",
        "print(f'{two_numbers_mul}')\n",
        "\n",
        "# case2\n",
        "print(f'{a * b}') # 간단하니까 이걸로 사용하자!\n",
        "# 코드가 복잡해지면 가독성에서 차이가 납니다."
      ],
      "metadata": {
        "id": "R7gpXrF2nh9m"
      },
      "execution_count": null,
      "outputs": []
    },
    {
      "cell_type": "code",
      "source": [
        " #중괄호 안에서 연산을 하는것은 권장하지 않습니다.\n",
        "\n",
        " a = 10\n",
        " b = 20\n",
        "\n",
        " #case1\n",
        " two_numbers_mul = a * b\n",
        " two_numbers_add = a + b\n",
        " two_numbers_mul_add = two_numbers_mul * two_numbers_add\n",
        " print(f'{two_numbers_mul_add}') # 변수명으로 어떤 역할을 하는지 유추할 수 있습니다.\n",
        "\n",
        "# case2\n",
        "print(f'{(a * b) * (a + b)}') # 이 값이 무엇을 의미하는지 모릅니다.\n",
        "# 코드가 복잡해지면 가독성에서 차이가 납니다."
      ],
      "metadata": {
        "colab": {
          "base_uri": "https://localhost:8080/"
        },
        "id": "mwBMHH77mran",
        "outputId": "56359006-b633-415a-d832-c81b8af6c84a"
      },
      "execution_count": null,
      "outputs": [
        {
          "output_type": "stream",
          "name": "stdout",
          "text": [
            "6000\n",
            "6000\n"
          ]
        }
      ]
    },
    {
      "cell_type": "code",
      "source": [
        "# 파이썬(Python) 3 포맷팅 방식\n",
        "print('나의 이름은 {}입니다'.format('한사람'))\n",
        "print('나의 이름은 {0}입니다. 나이는 {1}세이고 성별은 {2}입니다.'.format('한사람',33,'남성'))\n",
        "print('나이는 {1}세이고 성별은 {2}입니다. 나의 이름은 {0}입니다. '.format('한사람',33,'남성'))\n",
        "print('나이는 {age}세이고 성별은 {gender}입니다. 나의 이름은 {name}입니다.'.format(name='한사람',age=33,gender='남성'))\n",
        "print('만세삼창 :  {0}!!! {0}!!! {0}!!! '.format('만세'))\n",
        "print('삼삼칠 박수 :  {0}!!! {0}!!! {1}!!! '.format('짝'*3,'짝'*7))\n",
        "print('-' * 40)\n",
        "\n",
        "# 파이썬(Python) 3.6 f-string 방식\n",
        "something = '볼펜'\n",
        "EA = 2\n",
        "one_length = 5.343\n",
        "scale = 'cm'\n",
        "\n",
        "print(f'{something} {EA}개의 길이는 {one_length*EA}{scale} 입니다.')\n",
        "print(f'{something} {EA}개의 길이는 {one_length*EA:ㅁ>20.1f}{scale} 입니다.')\n",
        "print(f'{something} {EA}개의 길이는 {round(one_length*EA, 2)}{scale} 입니다.')"
      ],
      "metadata": {
        "colab": {
          "base_uri": "https://localhost:8080/"
        },
        "id": "9nKYPC9hnqfn",
        "outputId": "fa14cfe3-1b6b-4c90-8f9c-be5f71b51184"
      },
      "execution_count": null,
      "outputs": [
        {
          "output_type": "stream",
          "name": "stdout",
          "text": [
            "나의 이름은 한사람입니다\n",
            "나의 이름은 한사람입니다. 나이는 33세이고 성별은 남성입니다.\n",
            "나이는 33세이고 성별은 남성입니다. 나의 이름은 한사람입니다. \n",
            "나이는 33세이고 성별은 남성입니다. 나의 이름은 한사람입니다.\n",
            "만세삼창 :  만세!!! 만세!!! 만세!!! \n",
            "삼삼칠 박수 :  짝짝짝!!! 짝짝짝!!! 짝짝짝짝짝짝짝!!! \n",
            "----------------------------------------\n",
            "볼펜 2개의 길이는 10.686cm 입니다.\n",
            "볼펜 2개의 길이는 ㅁㅁㅁㅁㅁㅁㅁㅁㅁㅁㅁㅁㅁㅁㅁㅁ10.7cm 입니다.\n",
            "볼펜 2개의 길이는 10.69cm 입니다.\n"
          ]
        }
      ]
    },
    {
      "cell_type": "code",
      "source": [
        "print('Python is [{:15}]'.format('good')) # 양식 같음, 자료형만 다름\n",
        "print('Python is [{:<15}]'.format('good'))\n",
        "print('Python is [{:>15}]'.format('good'))\n",
        "print('Python is [{:^15}]'.format('good'))\n",
        "print('Python is [{:-^15}]'.format('good'))\n",
        "print('당신의 나이는 [{:15}]세'.format(22)) # 양식 같음, 자료형만 다름\n",
        "print('당신의 나이는 [{:<15}]세'.format(22))\n",
        "print('당신의 나이는 [{:>15}]세'.format(22))\n",
        "print('당신의 나이는 [{:^15}]세'.format(22))\n",
        "print('-' * 40)"
      ],
      "metadata": {
        "colab": {
          "base_uri": "https://localhost:8080/"
        },
        "id": "SAKx7wBY_IgS",
        "outputId": "a25426ac-1ebd-46bd-e529-112a62cb45f4"
      },
      "execution_count": null,
      "outputs": [
        {
          "output_type": "stream",
          "name": "stdout",
          "text": [
            "Python is [good           ]\n",
            "Python is [good           ]\n",
            "Python is [           good]\n",
            "Python is [     good      ]\n",
            "Python is [-----good------]\n",
            "당신의 나이는 [             22]세\n",
            "당신의 나이는 [22             ]세\n",
            "당신의 나이는 [             22]세\n",
            "당신의 나이는 [      22       ]세\n",
            "----------------------------------------\n"
          ]
        }
      ]
    },
    {
      "cell_type": "code",
      "source": [
        "char_a = '5'\n",
        "int_a = 5\n",
        "sample = 1234567890\n",
        "\n",
        "print(1234567890)\n",
        "print(f'{sample:>5}') # >는 오른쪽정렬\n",
        "print(f'{char_a:>5}') # >는 오른쪽정렬\n",
        "print(f'{char_a:<5}') # <는 왼쪽정렬\n",
        "print(f'{char_a:^5}') # ^는 가운데정렬\n",
        "print(f'{int_a:0<5}')# <는 왼쪽정렬, 빈자리를 0으로 채울수도 있음\n",
        "print(f'{int_a:^10.2f}') # ^ 가운데 정렬하면서 float 타입지정"
      ],
      "metadata": {
        "colab": {
          "base_uri": "https://localhost:8080/"
        },
        "id": "ker5lHoE_FCE",
        "outputId": "b7464369-8c6e-4532-ae0b-6d47bbd1da27"
      },
      "execution_count": null,
      "outputs": [
        {
          "output_type": "stream",
          "name": "stdout",
          "text": [
            "1234567890\n",
            "1234567890\n",
            "    5\n",
            "5    \n",
            "  5  \n",
            "50000\n",
            "   5.00   \n"
          ]
        }
      ]
    },
    {
      "cell_type": "code",
      "source": [
        "int_a = 5\n",
        "print(f'{int_a:0<5}') # <는 왼쪽정렬, 빈자리를 0으로 채울수도 있음\n",
        "print(f'{int_a:0>5}') # <는 왼쪽정렬, 빈자리를 0으로 채울수도 있음\n",
        "\n",
        "'12345'.zfill(10)"
      ],
      "metadata": {
        "colab": {
          "base_uri": "https://localhost:8080/",
          "height": 71
        },
        "id": "fExKU65S_FXq",
        "outputId": "402d875f-4b25-4c91-cc6a-77d9771e21f8"
      },
      "execution_count": null,
      "outputs": [
        {
          "output_type": "stream",
          "name": "stdout",
          "text": [
            "50000\n",
            "00005\n"
          ]
        },
        {
          "output_type": "execute_result",
          "data": {
            "text/plain": [
              "'0000012345'"
            ],
            "application/vnd.google.colaboratory.intrinsic+json": {
              "type": "string"
            }
          },
          "metadata": {},
          "execution_count": 125
        }
      ]
    },
    {
      "cell_type": "code",
      "source": [
        "# 문제1: 1 ~ 9 까지 더하는 프로그램\n",
        "def add_1_to_9():\n",
        "    return sum(range(1,10))\n",
        "print(add_1_to_9())\n",
        "\n",
        "# 문제2: 1 ~ 9 까지 홀수의 합\n",
        "def add_1_to_9_odd():\n",
        "    othersol1 = sum([i for i in range(1, 10, 2)])\n",
        "    othersol2 = sum(filter(lambda x:x % 2 == 1, range(10)))\n",
        "    othersol3 = 0\n",
        "    for i in range(10):\n",
        "        if i % 2 == 1:\n",
        "            othersol3 += i\n",
        "    return sum(range(1,10,2))\n",
        "print(add_1_to_9_odd())\n",
        "# 문제3: 1000 미만의 자연수에서 3의 배수와 5의 배수의 총합을\n",
        "#구하는 프로그램을 작성\n",
        "\n",
        "def solution():\n",
        "    return sum(i for i in range(1000) if i % 3 == 0 or i % 5 == 0)\n",
        "print(solution())"
      ],
      "metadata": {
        "colab": {
          "base_uri": "https://localhost:8080/"
        },
        "id": "_nHd591D_o11",
        "outputId": "0a28c3fa-a6fc-4c1f-d74e-95843ca4c60d"
      },
      "execution_count": null,
      "outputs": [
        {
          "output_type": "stream",
          "name": "stdout",
          "text": [
            "45\n",
            "25\n",
            "233168\n"
          ]
        }
      ]
    },
    {
      "cell_type": "code",
      "source": [
        "f = open('python.txt', 'w+') # 읽기 쓰기(기존에 있던 내용은 덮어쓰기)\n",
        "f.seek(0) # 커서를 앞으로 보냈음에도 기존에 텍스트를 읽지 못합니다.\n",
        "print(f.read())\n",
        "f.write('\\nw+모드입니다!') # 그냥 덮어 써버림\n",
        "f.seek(0) # 쓴 내용을 읽을 수는 있음!\n",
        "print(f.read())\n",
        "f.close()\n",
        "# 차이:\n",
        "# r+ 모드는 파일을 열 때 기존의 내용을 보존\n",
        "# w+ 모드는 파일을 열 때 기존의 내용을 삭제"
      ],
      "metadata": {
        "colab": {
          "base_uri": "https://localhost:8080/"
        },
        "id": "6tGWLQmYBmLf",
        "outputId": "8e89f31c-bcb6-498b-b9fb-4f677ca30556"
      },
      "execution_count": null,
      "outputs": [
        {
          "output_type": "stream",
          "name": "stdout",
          "text": [
            "\n",
            "\n",
            "w+모드입니다!\n"
          ]
        }
      ]
    },
    {
      "cell_type": "code",
      "source": [
        "# 문제4: 아래 메트릭스를 모두 더해주세요.\n",
        "m = [[1, 2, 3], [4, 5, 6], [7, 8, 9]]\n",
        "# sum(m)\n",
        "sum(sum(m, []))"
      ],
      "metadata": {
        "colab": {
          "base_uri": "https://localhost:8080/"
        },
        "id": "K7ZZDz8KNoWl",
        "outputId": "0fbb7e7c-444b-46b6-b84f-f08b5a39c937"
      },
      "execution_count": null,
      "outputs": [
        {
          "output_type": "execute_result",
          "data": {
            "text/plain": [
              "45"
            ]
          },
          "metadata": {},
          "execution_count": 8
        }
      ]
    },
    {
      "cell_type": "code",
      "source": [
        "sum([1, 2, 3], 100)\n",
        "sum([[1, 2, 3], [4, 5, 6], [7, 8, 9]], [])\n",
        "# [1, 2, 3] + [] == [1, 2, 3]\n",
        "# [4, 5, 6] + [1, 2, 3] == [4, 5, 6, 1, 2, 3]\n",
        "# [7, 8, 9] + [4, 5, 6, 1, 2, 3] == [7, 8, 9, 4, 5, 6, 1, 2, 3]"
      ],
      "metadata": {
        "id": "sZ2SvegYNrqO"
      },
      "execution_count": null,
      "outputs": []
    },
    {
      "cell_type": "code",
      "source": [
        "import numpy as np\n",
        "# 수학 수식에 막강한 성능을 자랑합니다.\n",
        "# 수학 수식 관련해서 파이썬보다 속도도 훨~~~~씬 빠르고 기능도 많아요.\n",
        "\n",
        "np.sum([[1, 2, 3], [4, 5, 6], [7, 8, 9]])"
      ],
      "metadata": {
        "colab": {
          "base_uri": "https://localhost:8080/"
        },
        "id": "s3j1otHZN1bL",
        "outputId": "c83f70b9-16d4-4ee9-f700-531f57086a4f"
      },
      "execution_count": null,
      "outputs": [
        {
          "output_type": "execute_result",
          "data": {
            "text/plain": [
              "45"
            ]
          },
          "metadata": {},
          "execution_count": 9
        }
      ]
    },
    {
      "cell_type": "code",
      "source": [
        "import collections\n",
        "\n",
        "s = \"Hello, World! This is a sample string for testing purposes.\"\n",
        "# s = s.replace(',', '').replace('!', '').replace('.', '')\n",
        "table = str.translate(',!.', '   ')\n",
        "s.translate(table)\n",
        "collections.Counter(s)\n",
        "# collections.Counter(s).most_common"
      ],
      "metadata": {
        "id": "QPv7mvVPN2XE"
      },
      "execution_count": null,
      "outputs": []
    },
    {
      "cell_type": "code",
      "source": [
        "import collections\n",
        "d = {}\n",
        "s = \"Hello, World! This is a sample string for testing purposes.\"\n",
        "\n",
        "#풀이 1 for문으로 돌아가면서 곂치면 카운트 1추가\n",
        "for i in s:\n",
        "    if i in d:\n",
        "        d[i] += 1\n",
        "    else:\n",
        "        d[i] = 1\n",
        "\n",
        "# 풀이2, set으로 만들어서 count를 한다.\n",
        "s = \"Hello, World! This is a sample string for testing purposes.\"\n",
        "for i in set(s):\n",
        "    d[i] = s.count(i)\n",
        "d\n"
      ],
      "metadata": {
        "colab": {
          "base_uri": "https://localhost:8080/"
        },
        "id": "Zgd3MFzWO4L_",
        "outputId": "5866c7ce-8f2d-438d-b6c2-a0818917c393"
      },
      "execution_count": null,
      "outputs": [
        {
          "output_type": "execute_result",
          "data": {
            "text/plain": [
              "{'H': 1,\n",
              " 'e': 4,\n",
              " 'l': 4,\n",
              " 'o': 4,\n",
              " ',': 1,\n",
              " ' ': 9,\n",
              " 'W': 1,\n",
              " 'r': 4,\n",
              " 'd': 1,\n",
              " '!': 1,\n",
              " 'T': 1,\n",
              " 'h': 1,\n",
              " 'i': 4,\n",
              " 's': 7,\n",
              " 'a': 2,\n",
              " 'm': 1,\n",
              " 'p': 3,\n",
              " 't': 3,\n",
              " 'n': 2,\n",
              " 'g': 2,\n",
              " 'f': 1,\n",
              " 'u': 1,\n",
              " '.': 1}"
            ]
          },
          "metadata": {},
          "execution_count": 30
        }
      ]
    },
    {
      "cell_type": "code",
      "source": [
        "# 문제6 트리만들기\n",
        "\n",
        "for i in range(1, 10):\n",
        "    print(' '* (10-i) + ('*' * (2 * i - 1)))\n",
        "\n",
        "for i in range(1, 10):\n",
        "    print(f\"{'*' * (2 * i-1):^20}\")"
      ],
      "metadata": {
        "colab": {
          "base_uri": "https://localhost:8080/"
        },
        "id": "HGXq2mByQ3ia",
        "outputId": "1a82e41c-2370-4d20-df9e-e94436157343"
      },
      "execution_count": null,
      "outputs": [
        {
          "output_type": "stream",
          "name": "stdout",
          "text": [
            "         *\n",
            "        ***\n",
            "       *****\n",
            "      *******\n",
            "     *********\n",
            "    ***********\n",
            "   *************\n",
            "  ***************\n",
            " *****************\n",
            "         *          \n",
            "        ***         \n",
            "       *****        \n",
            "      *******       \n",
            "     *********      \n",
            "    ***********     \n",
            "   *************    \n",
            "  ***************   \n",
            " *****************  \n"
          ]
        }
      ]
    },
    {
      "cell_type": "code",
      "source": [
        "# 다음 자료구조 클래스를 만들어주세요.\n",
        "# 데이터는 <1, 2, 3, 4> 형식으로 숫자만 저장됩니다.\n",
        "# print()를 하면 <1, 2, 3, 4>와 같이 출력이 되어야 합니다.\n",
        "# 메서드는 append, remove 가 있습니다.\n",
        "# <1, 2, 3, 4> + <1, 2, 3, 4> == <2, 4, 6, 8>과 같이 같은 순서에 요소를 더합니다.\n",
        "# <1, 2, 3, 4> - <1, 2, 1, 2> == <0, 0, 2, 2>과 같이 같은 순서에 요소를 뺍합니다.\n",
        "# <1, 2, 3, 4> * 3 = <3, 6, 9, 12>가 됩니다.\n",
        "\n",
        "class OperList():\n",
        "    def __init__(self, *nums):\n",
        "        self.nums = list(nums)\n",
        "    def append(self, app):\n",
        "        self.nums.append(app)\n",
        "    def remove(self, remove):\n",
        "        self.nums.remove(remove)\n",
        "    def __add__(self, other):\n",
        "        result = []\n",
        "        for i in range(len(self.nums)):\n",
        "            result.append(self.nums[i] + other.nums[i])\n",
        "        return result\n",
        "    def __sub__(self, other):\n",
        "        result = []\n",
        "        for i in range(len(self.nums)):\n",
        "            result.append(self.nums[i] - other.nums[i])\n",
        "        return result\n",
        "    def __mul__(self, other):\n",
        "        result = []\n",
        "        for i in range(len(self.nums)):\n",
        "            result.append(self.nums[i] * other.nums[i])\n",
        "        return result\n",
        "\n",
        "\n",
        "l = OperList(1, 2, 3)\n",
        "ll = OperList(6, 2, 7)\n",
        "print(l + l)\n",
        "print(ll - l)\n",
        "print(ll * l)\n",
        "# ㅣ + ㅣ => <2, 4, 6, 8, 10>으로 출력"
      ],
      "metadata": {
        "colab": {
          "base_uri": "https://localhost:8080/"
        },
        "id": "-TCUpoOAVgtp",
        "outputId": "37bcd3e9-0756-4f75-aecc-748e9f804856"
      },
      "execution_count": null,
      "outputs": [
        {
          "output_type": "stream",
          "name": "stdout",
          "text": [
            "[2, 4, 6]\n",
            "[5, 0, 4]\n",
            "[6, 4, 21]\n"
          ]
        }
      ]
    },
    {
      "cell_type": "code",
      "source": [
        "##수정\n",
        "\n",
        "class OperList():\n",
        "    def __init__(self, *nums):\n",
        "        self.nums = list(nums)\n",
        "\n",
        "    def __str__(self):\n",
        "        return f'<{str(self.nums)[1:-1]}>'\n",
        "\n",
        "    def __repr__(self):\n",
        "        return f'<{str(self.nums)[1:-1]}>'\n",
        "    def __len__(self):\n",
        "        return self.nums.__len__()\n",
        "\n",
        "    def append(self, app):\n",
        "        self.nums.append(app)\n",
        "    def remove(self, remove):\n",
        "        self.nums.remove(remove)\n",
        "\n",
        "    def __add__(self, other):\n",
        "        result = []\n",
        "        if len(self.nums) != len(other.nums):\n",
        "            raise\n",
        "        for i in range(len(self.nums)):\n",
        "            result.append(self.nums[i] + other.nums[i])\n",
        "        return result\n",
        "    def __sub__(self, other):\n",
        "        result = []\n",
        "        if len(self.nums) != len(other.nums):\n",
        "            raise\n",
        "        for i in range(len(self.nums)):\n",
        "            result.append(self.nums[i] - other.nums[i])\n",
        "        return result\n",
        "\n",
        "    def __mul__(self, other):\n",
        "        if len(self.nums) != len(other.nums):\n",
        "            raise\n",
        "        result = []\n",
        "        for i in range(len(self.nums)):\n",
        "            result.append(self.nums[i] * other.nums[i])\n",
        "        return result\n",
        "\n",
        "\n",
        "l = OperList(1, 2, 3)\n",
        "ll = OperList(6, 2, 7)\n",
        "print(l + l)\n",
        "print(ll - l)\n",
        "print(ll * l)\n",
        "# ㅣ + ㅣ => <2, 4, 6, 8, 10>으로 출력"
      ],
      "metadata": {
        "colab": {
          "base_uri": "https://localhost:8080/"
        },
        "id": "OLEiC5l-Y26N",
        "outputId": "8042526d-f663-42d2-e9d6-c76fee801ca8"
      },
      "execution_count": null,
      "outputs": [
        {
          "output_type": "stream",
          "name": "stdout",
          "text": [
            "[2, 4, 6]\n",
            "[5, 0, 4]\n",
            "[6, 4, 21]\n"
          ]
        }
      ]
    }
  ]
}