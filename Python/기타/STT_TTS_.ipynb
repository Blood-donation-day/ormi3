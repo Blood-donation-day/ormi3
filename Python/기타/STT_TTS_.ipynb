{
  "cells": [
    {
      "cell_type": "markdown",
      "source": [
        "## ffmepg 패키지 설치"
      ],
      "metadata": {
        "id": "LfxjCTJC_kTs"
      }
    },
    {
      "cell_type": "code",
      "source": [
        "!pip install ffmpeg-python"
      ],
      "metadata": {
        "id": "f5o_jLhW2ETA",
        "outputId": "776011ff-e543-4bd4-865b-7edf5d03ed01",
        "colab": {
          "base_uri": "https://localhost:8080/"
        }
      },
      "execution_count": null,
      "outputs": [
        {
          "output_type": "stream",
          "name": "stdout",
          "text": [
            "Requirement already satisfied: ffmpeg-python in /usr/local/lib/python3.10/dist-packages (0.2.0)\n",
            "Requirement already satisfied: future in /usr/local/lib/python3.10/dist-packages (from ffmpeg-python) (0.18.3)\n"
          ]
        }
      ]
    },
    {
      "cell_type": "markdown",
      "source": [
        "## 마이크 녹음"
      ],
      "metadata": {
        "id": "RYNeA4Bh_vEz"
      }
    },
    {
      "cell_type": "code",
      "source": [
        "\"\"\"\n",
        "To write this piece of code I took inspiration/code from a lot of places.\n",
        "It was late night, so I'm not sure how much I created or just copied o.O\n",
        "Here are some of the possible references:\n",
        "https://blog.addpipe.com/recording-audio-in-the-browser-using-pure-html5-and-minimal-javascript/\n",
        "https://stackoverflow.com/a/18650249\n",
        "https://hacks.mozilla.org/2014/06/easy-audio-capture-with-the-mediarecorder-api/\n",
        "https://air.ghost.io/recording-to-an-audio-file-using-html5-and-js/\n",
        "https://stackoverflow.com/a/49019356\n",
        "\"\"\"\n",
        "from IPython.display import HTML, Audio\n",
        "from google.colab.output import eval_js\n",
        "from base64 import b64decode\n",
        "import numpy as np\n",
        "from scipy.io.wavfile import read as wav_read\n",
        "import io\n",
        "import ffmpeg\n",
        "\n",
        "AUDIO_HTML = \"\"\"\n",
        "<script>\n",
        "var my_div = document.createElement(\"DIV\");\n",
        "var my_p = document.createElement(\"P\");\n",
        "var my_btn = document.createElement(\"BUTTON\");\n",
        "var t = document.createTextNode(\"Press to start recording\");\n",
        "\n",
        "my_btn.appendChild(t);\n",
        "//my_p.appendChild(my_btn);\n",
        "my_div.appendChild(my_btn);\n",
        "document.body.appendChild(my_div);\n",
        "\n",
        "var base64data = 0;\n",
        "var reader;\n",
        "var recorder, gumStream;\n",
        "var recordButton = my_btn;\n",
        "\n",
        "var handleSuccess = function(stream) {\n",
        "  gumStream = stream;\n",
        "  var options = {\n",
        "    //bitsPerSecond: 8000, //chrome seems to ignore, always 48k\n",
        "    mimeType : 'audio/webm;codecs=opus'\n",
        "    //mimeType : 'audio/webm;codecs=pcm'\n",
        "  };\n",
        "  //recorder = new MediaRecorder(stream, options);\n",
        "  recorder = new MediaRecorder(stream);\n",
        "  recorder.ondataavailable = function(e) {\n",
        "    var url = URL.createObjectURL(e.data);\n",
        "    var preview = document.createElement('audio');\n",
        "    preview.controls = true;\n",
        "    preview.src = url;\n",
        "    document.body.appendChild(preview);\n",
        "\n",
        "    reader = new FileReader();\n",
        "    reader.readAsDataURL(e.data);\n",
        "    reader.onloadend = function() {\n",
        "      base64data = reader.result;\n",
        "      //console.log(\"Inside FileReader:\" + base64data);\n",
        "    }\n",
        "  };\n",
        "  recorder.start();\n",
        "  };\n",
        "\n",
        "recordButton.innerText = \"Recording... press to stop\";\n",
        "\n",
        "navigator.mediaDevices.getUserMedia({audio: true}).then(handleSuccess);\n",
        "\n",
        "\n",
        "function toggleRecording() {\n",
        "  if (recorder && recorder.state == \"recording\") {\n",
        "      recorder.stop();\n",
        "      gumStream.getAudioTracks()[0].stop();\n",
        "      recordButton.innerText = \"Saving the recording... pls wait!\"\n",
        "  }\n",
        "}\n",
        "\n",
        "// https://stackoverflow.com/a/951057\n",
        "function sleep(ms) {\n",
        "  return new Promise(resolve => setTimeout(resolve, ms));\n",
        "}\n",
        "\n",
        "var data = new Promise(resolve=>{\n",
        "//recordButton.addEventListener(\"click\", toggleRecording);\n",
        "recordButton.onclick = ()=>{\n",
        "toggleRecording()\n",
        "\n",
        "sleep(2000).then(() => {\n",
        "  // wait 2000ms for the data to be available...\n",
        "  // ideally this should use something like await...\n",
        "  //console.log(\"Inside data:\" + base64data)\n",
        "  resolve(base64data.toString())\n",
        "\n",
        "});\n",
        "\n",
        "}\n",
        "});\n",
        "\n",
        "</script>\n",
        "\"\"\"\n",
        "\n",
        "def get_audio():\n",
        "  display(HTML(AUDIO_HTML))\n",
        "  data = eval_js(\"data\")\n",
        "  binary = b64decode(data.split(',')[1])\n",
        "\n",
        "  process = (ffmpeg\n",
        "    .input('pipe:0')\n",
        "    .output('pipe:1', format='wav')\n",
        "    .run_async(pipe_stdin=True, pipe_stdout=True, pipe_stderr=True, quiet=True, overwrite_output=True)\n",
        "  )\n",
        "  output, err = process.communicate(input=binary)\n",
        "\n",
        "  riff_chunk_size = len(output) - 8\n",
        "  # Break up the chunk size into four bytes, held in b.\n",
        "  q = riff_chunk_size\n",
        "  b = []\n",
        "  for i in range(4):\n",
        "      q, r = divmod(q, 256)\n",
        "      b.append(r)\n",
        "\n",
        "  # Replace bytes 4:8 in proc.stdout with the actual size of the RIFF chunk.\n",
        "  riff = output[:4] + bytes(b) + output[8:]\n",
        "\n",
        "  sr, audio = wav_read(io.BytesIO(riff))\n",
        "\n",
        "  return audio, sr"
      ],
      "metadata": {
        "id": "BQkwFxrQ2Hax"
      },
      "execution_count": null,
      "outputs": []
    },
    {
      "cell_type": "markdown",
      "source": [
        "## 녹음하기\n",
        "녹음된 음성은 /content/recording.wav 경로에 저장됨"
      ],
      "metadata": {
        "id": "cIQ0g5PL_0qW"
      }
    },
    {
      "cell_type": "code",
      "source": [
        "audio, sr = get_audio()\n",
        "import scipy\n",
        "scipy.io.wavfile.write('/content/recording.wav', sr, audio)"
      ],
      "metadata": {
        "id": "QbPei-Ot2K-z",
        "outputId": "3b829093-3bd2-4d80-dd0f-ad7728015660",
        "colab": {
          "base_uri": "https://localhost:8080/",
          "height": 95
        }
      },
      "execution_count": null,
      "outputs": [
        {
          "output_type": "display_data",
          "data": {
            "text/plain": [
              "<IPython.core.display.HTML object>"
            ],
            "text/html": [
              "\n",
              "<script>\n",
              "var my_div = document.createElement(\"DIV\");\n",
              "var my_p = document.createElement(\"P\");\n",
              "var my_btn = document.createElement(\"BUTTON\");\n",
              "var t = document.createTextNode(\"Press to start recording\");\n",
              "\n",
              "my_btn.appendChild(t);\n",
              "//my_p.appendChild(my_btn);\n",
              "my_div.appendChild(my_btn);\n",
              "document.body.appendChild(my_div);\n",
              "\n",
              "var base64data = 0;\n",
              "var reader;\n",
              "var recorder, gumStream;\n",
              "var recordButton = my_btn;\n",
              "\n",
              "var handleSuccess = function(stream) {\n",
              "  gumStream = stream;\n",
              "  var options = {\n",
              "    //bitsPerSecond: 8000, //chrome seems to ignore, always 48k\n",
              "    mimeType : 'audio/webm;codecs=opus'\n",
              "    //mimeType : 'audio/webm;codecs=pcm'\n",
              "  };\n",
              "  //recorder = new MediaRecorder(stream, options);\n",
              "  recorder = new MediaRecorder(stream);\n",
              "  recorder.ondataavailable = function(e) {\n",
              "    var url = URL.createObjectURL(e.data);\n",
              "    var preview = document.createElement('audio');\n",
              "    preview.controls = true;\n",
              "    preview.src = url;\n",
              "    document.body.appendChild(preview);\n",
              "\n",
              "    reader = new FileReader();\n",
              "    reader.readAsDataURL(e.data);\n",
              "    reader.onloadend = function() {\n",
              "      base64data = reader.result;\n",
              "      //console.log(\"Inside FileReader:\" + base64data);\n",
              "    }\n",
              "  };\n",
              "  recorder.start();\n",
              "  };\n",
              "\n",
              "recordButton.innerText = \"Recording... press to stop\";\n",
              "\n",
              "navigator.mediaDevices.getUserMedia({audio: true}).then(handleSuccess);\n",
              "\n",
              "\n",
              "function toggleRecording() {\n",
              "  if (recorder && recorder.state == \"recording\") {\n",
              "      recorder.stop();\n",
              "      gumStream.getAudioTracks()[0].stop();\n",
              "      recordButton.innerText = \"Saving the recording... pls wait!\"\n",
              "  }\n",
              "}\n",
              "\n",
              "// https://stackoverflow.com/a/951057\n",
              "function sleep(ms) {\n",
              "  return new Promise(resolve => setTimeout(resolve, ms));\n",
              "}\n",
              "\n",
              "var data = new Promise(resolve=>{\n",
              "//recordButton.addEventListener(\"click\", toggleRecording);\n",
              "recordButton.onclick = ()=>{\n",
              "toggleRecording()\n",
              "\n",
              "sleep(2000).then(() => {\n",
              "  // wait 2000ms for the data to be available...\n",
              "  // ideally this should use something like await...\n",
              "  //console.log(\"Inside data:\" + base64data)\n",
              "  resolve(base64data.toString())\n",
              "\n",
              "});\n",
              "\n",
              "}\n",
              "});\n",
              "\n",
              "</script>\n"
            ]
          },
          "metadata": {}
        }
      ]
    },
    {
      "cell_type": "markdown",
      "source": [
        "## OpenAI의 Whisper 설치"
      ],
      "metadata": {
        "id": "kosakhNmxb7A"
      }
    },
    {
      "cell_type": "code",
      "execution_count": null,
      "metadata": {
        "id": "ZsJUxc0aRsAf",
        "colab": {
          "base_uri": "https://localhost:8080/"
        },
        "outputId": "e5b3bf6a-0d01-4a53-feba-802bf2c13cca"
      },
      "outputs": [
        {
          "output_type": "stream",
          "name": "stdout",
          "text": [
            "  Installing build dependencies ... \u001b[?25l\u001b[?25hdone\n",
            "  Getting requirements to build wheel ... \u001b[?25l\u001b[?25hdone\n",
            "  Preparing metadata (pyproject.toml) ... \u001b[?25l\u001b[?25hdone\n",
            "\u001b[2K     \u001b[90m━━━━━━━━━━━━━━━━━━━━━━━━━━━━━━━━━━━━━━━━\u001b[0m \u001b[32m1.7/1.7 MB\u001b[0m \u001b[31m9.4 MB/s\u001b[0m eta \u001b[36m0:00:00\u001b[0m\n",
            "\u001b[?25h  Building wheel for openai-whisper (pyproject.toml) ... \u001b[?25l\u001b[?25hdone\n"
          ]
        }
      ],
      "source": [
        "! pip install git+https://github.com/openai/whisper.git -q"
      ]
    },
    {
      "cell_type": "markdown",
      "source": [
        "## Model 로드"
      ],
      "metadata": {
        "id": "AtAvuKSJxhNw"
      }
    },
    {
      "cell_type": "code",
      "source": [
        "import whisper\n",
        "\n",
        "model = whisper.load_model(\"small\")\n"
      ],
      "metadata": {
        "id": "Kr5faKybKi4p"
      },
      "execution_count": null,
      "outputs": []
    },
    {
      "cell_type": "markdown",
      "source": [
        "## GPU가 있는지 확인\n",
        "\n",
        "아래에 `device(type='cuda', index=0)` 출력이 표시되어야 합니다.  \n",
        "그렇지 않다면 CPU 전용 Colab 인스턴스를 사용 중일 수 있으며 느리게 실행됩니다.  \n",
        "런타임->런타임 유형 변경`으로 이 문제를 해결하세요."
      ],
      "metadata": {
        "id": "e200RNNlxn5j"
      }
    },
    {
      "cell_type": "code",
      "source": [
        "model.device"
      ],
      "metadata": {
        "id": "u_6_s2iHboR4",
        "colab": {
          "base_uri": "https://localhost:8080/"
        },
        "outputId": "2c8879c9-5cc7-4e71-993d-b450b782c7aa"
      },
      "execution_count": null,
      "outputs": [
        {
          "output_type": "execute_result",
          "data": {
            "text/plain": [
              "device(type='cuda', index=0)"
            ]
          },
          "metadata": {},
          "execution_count": 8
        }
      ]
    },
    {
      "cell_type": "markdown",
      "source": [
        "## STT 수행\n",
        "see  https://github.com/openai/whisper"
      ],
      "metadata": {
        "id": "s-P7A0So965E"
      }
    },
    {
      "cell_type": "code",
      "source": [
        "result = model.transcribe(\"/content/recording.wav\")\n",
        "print(result[\"text\"])"
      ],
      "metadata": {
        "id": "U_qTn3Wh9m1Z"
      },
      "execution_count": null,
      "outputs": []
    },
    {
      "cell_type": "markdown",
      "source": [
        "## 구글 gTTS"
      ],
      "metadata": {
        "id": "isl39nW5Nmv1"
      }
    },
    {
      "cell_type": "code",
      "source": [
        "!pip install gtts"
      ],
      "metadata": {
        "id": "BeoeArDlAiNj",
        "colab": {
          "base_uri": "https://localhost:8080/"
        },
        "outputId": "c698de10-466d-4ed4-c666-7b830d2fa3ed"
      },
      "execution_count": null,
      "outputs": [
        {
          "output_type": "stream",
          "name": "stdout",
          "text": [
            "Collecting gtts\n",
            "  Downloading gTTS-2.3.2-py3-none-any.whl (28 kB)\n",
            "Requirement already satisfied: requests<3,>=2.27 in /usr/local/lib/python3.10/dist-packages (from gtts) (2.31.0)\n",
            "Requirement already satisfied: click<8.2,>=7.1 in /usr/local/lib/python3.10/dist-packages (from gtts) (8.1.7)\n",
            "Requirement already satisfied: charset-normalizer<4,>=2 in /usr/local/lib/python3.10/dist-packages (from requests<3,>=2.27->gtts) (3.2.0)\n",
            "Requirement already satisfied: idna<4,>=2.5 in /usr/local/lib/python3.10/dist-packages (from requests<3,>=2.27->gtts) (3.4)\n",
            "Requirement already satisfied: urllib3<3,>=1.21.1 in /usr/local/lib/python3.10/dist-packages (from requests<3,>=2.27->gtts) (2.0.4)\n",
            "Requirement already satisfied: certifi>=2017.4.17 in /usr/local/lib/python3.10/dist-packages (from requests<3,>=2.27->gtts) (2023.7.22)\n",
            "Installing collected packages: gtts\n",
            "Successfully installed gtts-2.3.2\n"
          ]
        }
      ]
    },
    {
      "cell_type": "code",
      "source": [
        "from gtts import gTTS\n",
        "from IPython.display import Audio\n",
        "tts = gTTS(text='안녕하세요. 오진우님.  면접 참 힘들지요? 오진우님 얘기는 베리에이션을 주자는 거지요?', lang='ko')\n",
        "sound_file = 'test.mp3'\n",
        "tts.save(sound_file)\n",
        "Audio(sound_file, autoplay=True)"
      ],
      "metadata": {
        "id": "YtjnJxISNlFE",
        "colab": {
          "base_uri": "https://localhost:8080/",
          "height": 74
        },
        "outputId": "61c46b54-0550-4e29-b197-e2ff97902e9b"
      },
      "execution_count": null,
      "outputs": [
        {
          "output_type": "execute_result",
          "data": {
            "text/plain": [
              "<IPython.lib.display.Audio object>"
            ],
            "text/html": [
              "\n",
              "                <audio  controls=\"controls\" autoplay=\"autoplay\">\n",
              "                    <source src=\"data:audio/mpeg;base64,//NExAAQyKowAUkYAEaNGjnPwgjRo0YrFYrFYbBAEAQBAUCgkQQd39ECAAGBgYGLcHzX/9/R/////8oCAIO8Tg4CAIAgCAPg+D4Pg4CAIAgq/pd9a4y8fF/3OMkV7/28//NExA8VWdKQAZhoABwqfm9AWgkBLfC1hzz6I1gSgOWM/zdToThuZW/p1FxjWkXy4Xf6CDdBz6bsbf+gg639FzcwTeDX/zQJCtBcIf96d2DzIlKVMEWJwFGLIMNOoksC//NExAwVOVrAAY94AIEsXtMG+b6cN4TAtp1JoRIXA5y5iEDgSpO1IzFxEPZEsUAaA8XfxjdHC+6eJer//eMXxrby1Y8fDyeBr///f1nW4loeB9vmelYbBcEUTwwxywVQ//NExAoU2SLMAY94ALrn6rjINxWLo4jnCrLeeS1EVIrxpPzIOw/ELQRBlUj14nRcy5R93j3rNe92Leu+ia1f4xOzRZYMsGA4vbFwIgHIQDgudAKfAPK1EHOkgIrzQJc///NExAkUmTrMAY9gAZOotzJYfh/C3mILehpcx2CUwLpYMySuUCCcC8Axsem4fKDuiMkxQutBArXLbAcUOv0lpO+tgabYOoctEvWxuTn2u4DBgGQbbgNKziIVsa8OkoQy//NExAkU2UqkAdl4ACDk3DTiaKtAFHSuHW7SKU0rswimtxm9Gp5uniwGbatgsTp8kxcUMSZYV0zYV14sJ81vaRbT1mZp2X1T072LiG91X/edeDF4sVGdVdEADMHxsGgU//NExAgUqRJ8AOPScMEFM0EJJeYyEw0IhQBkRtb0GKV74elqcykgCvs7WWCAbqrXkjnUtNnezVDJQmiIZJXkszVYU9CzB5LLXwclIKhLub5Jn//+i6iaQlOC4xxXUDm4//NExAgSIL58AN4YTDAQ5JBRkMJUDNQlhIS4Sg6y1vZkj/G3KcR9VhFGFl8wBohC407vxvLdMUZ0htvuDHYxloCDCvk/f2//9TmF/yiqgEcADKfI2wKIQAztoEjhNIz8//NExBISKLqEAN4STIFxICSOksgHuT1KX2aFxKAJCREKhQmEJxdtLztStQJPUUYAJzVZSFhO72D/dWqnb1/4/9Z8N13uJKeBYSUzgGeP6VBIOBxJ4ghRoXogAKPIKNMg//NExBwRMRakANGKcLuqz85/uQhGD4BixFeryMhGJQ6vOLhh9hwoCBQMI///7qPVZf/+wB+psUJYoeAyisCXu/HSXDNKSApBwkhuvlu01P6NshO++XP31Z4PEDvA+fJQ//NExCoSgVqwAMLMlBp6nHRTt6wuoKB7OJnVdX9yUggMmPHkCZ4jb///0p/o1ZWkB93zwLaNSixKQoPjXTrv4EjMQl2Jke8ynYv0TORsbgVI5wC4MInh6Z0JuzpJR0gi//NExDMSUV60AMrSlLhx+R+2g8UO/7+SZQOo5pG9x9n///oVxuMZBjqWgL7Qi+z5Nn+IqfgdyAo3Hn+msc9FvsZe8H4htms7dQkOPvcFDd5y67BtSg7KkhBDCf4+Kjau//NExDwSEVa8AMPQlG8obFiEfBTrOf//+lXl1hBvQyyhEZKzco2TPX+Fo5zTEDwbn4sXbBIkYpAUA22ogoc0A5idT1tv7eXxafOpeQ5rGie1cdIqEF78FV6/3BQRzhio//NExEYSKVawAMvQlRCdSr9E/Z6RStdKBCLW4omSND55uqPktWJaGgkcP4Mw7RTggpARNwwhioFYZUq0W12KSX0MaumApcdjmm0FmoZ0DZRFoklBb////9WW0zDThB5m//NExFASOWqkANRKlLB4wKDQvDrugAUb2s8SzKeQEyLlRTN5G7MyFj1qJ5K9utf+fvrg8y1K9hnhFcMxAwtwatWoBDThv////+9alVLDR5uyqOChzQqdQwKB0jcy5cJa//NExFoRKQqcAN4EcICohshIArdL4DuLQhQOQCXfIYnId4fxfe6RN3vr/B9bzLR+ivDoUVCPzJEB3Q0ot0m6vVCEoFRG5sePLKZI6Hn/EIX4uj4CzXjnDeajsG6yJUqD//NExGgRoV6sAMvGla1QJIH+UqvL4zv3N/Hkh7hvKazm5jfVZUy5AqAs2E0ZNHLOnfr+TqOSoCR5dNG3WLFo/C/oqenFSvsRSvIShoaPrdDQn+VUAIFeaKB32bsXBhyZ//NExHQTuV60AMPMlU2W5NeCxalrBQoQ48WXDB9IyiXU8Ks2pR3ZSl9Wi8ePjLR6+C6ZAEcisl0vIiQftMtY6fIReKcKEbrEIxXpULOUBdgH///F2/ZcQYqvYiSnaDKZ//NExHgb8XKkAM5YlJkATcl6DAhCMhAiEiSC2IJHr+fpzxosMNwgiHlHm5RZ3Ie4/TEonDcqhCPabytbXGrOrRSaQTVHuZOxXQstM2LEMRrohoqSNrSRjziqnpFsLmhI//NExFscWWqgANYSlKiHMxC7DBIYr//ptMWUXCi3Cv//TFVKkeIYs7FSOjb8KDMPcNDVr0Ow1FnZpIaMi+ePQ4ulM6tPXTkkk0xZBItPZ9J+dimvb3Vex604u9rurOyz//NExDwegxqkAMMGvNmfOTP5JdpdpRs/3+9vX67n/pPicLDnuhXVEYjlYhDsr1FcGLOm7uZk7/TEJhABEw4sG7gbgYGLQW4Gf0XpCBhYwCIos3//////Pfr7t5/uevn///NExBUUMxq0ABASvdv5/LZ/zxuMupBR01NhD+eVNfOXNBdu4WqaZf2CNZ7Zh7ZwcEERWUyZAumUEDQEcoxRTDbLYYp4pgYmWhiK//////////wi3M/83HF1vw2MGD7i//NExBcSSxq8AAgQvc9qGTcHj1EWJGDhKPHpbnII5wciG7Za0rs1IHTCLY4RhdDSwzQgCcoYUo0OVFzhEPHU1V//////mP6///z////tX21e9NGU6qeLGsiu4+IqijB5//NExCARww7AAAhKuY5j1YeKnmKV1QXWQWmEosHimM9Dw6IOwFGqxGHDzCRyGOViDBcSCH///1p//g+U5bPrv/00//////P/7//+pRjNVRiMGpcZTJBSDOuoxqrD8Zqp//NExCwRQva4AAiGuRbdxM1UtqrFSWMrUqFWAQqlzlJmDN/CpgxgL4MECGJmXNns8V7Or72xqT7hYt7W/bP6JYajDGxyBKoShBVf/rEpWL5qtT5GJXHSoCg0V+s6WLTJ//NExDoQYLKgAU8QAOa3+S1OrOmlBFBvmiuxmNAIctGZoY8YJKkXw8GW6a265ft0xIJuCvW1YThCFQmnCjSnHA/DTZ1WXxYSa5UROOnFRDF2HcGGWNBAqiRl0VR1GQ4P//NExEsfIXqgAZl4AOa8ckCYjYj7RYwTUhNzNXelfH98RHTG1sMeJK1uSeT03DPC5jKl/mdGI0hDq2//zP6lLERZKsBOclYDuCphhgCIOkTIAN3WglJh12ey989mY2CG//NExCEaoXqwAZh4AIybsLKplKyuTI4SPGRRkCHPg0UQK+V5zm4sj1kzLwcDYhp1NsKHMcCfW40SO0paekClYLVVma86kiPIcfN7xmCBM/qHeQdl3/6FrJLDQXiBT51c//NExAkToWqwAdhgAXtNKJhZ6B0oe6S5XaT5Hue+tlUyu7jrDvQ1csY4IJ8UwHKx1MDlQX1pmcmZlQnWJ3n13u3f365WZmuVo6w9sGsTSXJdscWMJKNLWmXSoWmQ4l7M//NExA0SiVK0AVhgAQgU2yZEonbcTs1aOV3tTuGe3eb16WMrxwdOBUVw+J5k6gtnTxwmW2OGlh828v//+c7tr8zMzTOtNYoraeKqGQB0C86t6YJapkBa9zBRSb6DarJM//NExBUWOXK0AZhgANDiRQ6KmZ2+7XhFMlpgeOG/S6wVS8XwKhU0S0N4AyqtDoXGhiZKUip+lMOSz3209VuT7l72+96TzULubWzji+jPBXrTLBEYEx1CkJqcj5L0WMjO//NExA8VeWa4AZh4ANeIRO9UGkuiXdbEr0PZ3b6ZkQpSsmqqtgVxKoK+eA/4V+/Y51a93ujDJWE1sDybesYvn1rDeR7XpnNqU1f1pT/5gQyQG/4sBQDTK8kwUEJSLG/N//NExAwVGWa8AY94APPxJAuQY4xwaTSJweZ9HOhabXSNJ8cRAWFHpeY5C5I7ZIz6cs3j5j7375rjftuG/3m/zrWq1tuLWuM+kO/z8wd6r/qcOnft4tVKgMOnsXEQRpvs//NExAoVEWa4AZh4AAGVPwoO5LGAciE8bsDhLeHgMMf4pYuYa+JgWRhoXAwL5H3pChRvW+cUx85+de1qZj5tE+80m1mtb5e2q/mvvfti9858LYNHiHv6larIS1kpETIM//NExAgSUUawAdhoAFDnkzTia0XDbKiqtdmSa7zsibo3zXFkuI1ErGrECtDsMywlUEElbOku3WzOrVetlqoqU6jGXFLdapvMXEgwiNukFf4Qxo2tDTJIj3LkqVY1koIH//NExBESOWKoAMRMlZGsB76AacZBi0mxfgKAMYgjoWNhzRRUyZdZpRfaj/r7rf5jv879t5xIRfM186HhJkXFzKsePOk4q0wUdLmwJUz0EqTmUeJa0kiJDQWolZdSFDoE//NExBsSAVasAMPKlZQkgkgk4EgJ8M9Rp6DDru2fvOdbx/r/uiyd+m+VRjqFMR4mU4eiCoOaNtzzJPoBDgahKhG5+K5cyB09gM+TqrIA4eT2QHxVu6SEYHTxNaJflr+c//NExCYSAWqoAMYElTVJjc5j/P/fM987///tXX/UqFEx3VXCncSRhRiinYdygxXPBLYr97XiYOmLL+6W0alWLmD0UggMYmACAlIXKA3A2K4uaaE6ykamr169Wm+222+8//NExDEQUWKkAMTKlcPZTRpHGmRhVRrKEbBO/HcquS0GtF8w2IYs1rCJtdkYtq04C9yYDZAbqkGFmAKYmAQYLXSmI7GiXywfTS1aK021fZlaie/9XMQrKDZpggUhRLqB//NExEISmVqgAMRElOJkj5xH///9NYHeMLQXBdktRDMcEhUZRVdeIl+qAOoVROQJQWUGXgnQ/UOhC6o4ShuTpyp+tVTu7alUzQi//v6avYk6fDOiGYFRKwfr5L8ynXqM//NExEoRqWqcANRGlXQmpvoDps6WBTFrQKHTSNuE4qKMRFMV3xUhMNENfDru2/tSGbOr/48/Huu9x/+/lqTatHrvT5arSDac0S4KjlhX////Qup54FNnRIhIoANUBkyH//NExFYSEV6UANYElDR5uegYQ3hDksvFuCPAXQHEG64IWUg9SXUyNb1bMJbUqUeKrWASfoKjXDVIEpswDZkNN////+hyqlNBHROuIAUszh8eSGBGJXL5gJTZ0SKtUnQ///NExGARUH6EANPeSAUBIAorFsAVYbrYnHfXTrIma2lpjZSGZP/tVDcKyhKWMtB13dR///9FUsVqBDzcs1JSZgNvUMi+TY3mUxc1czzQycJQ6gLBsisPQ/FJNKlja90t//NExG0RUTZwANMEcK3HpbX7drYdXZdmq///VWKTN/ssDGFXLbqvVd//8O+3s00IQvNinLikLMjkDHm2/kiRLAIkiGFE1Bq9yhyuDCQiPG4SCgGeYYHYo46eY469yisO//NExHoSKV5MAMLGlDCJbd1KQK2XXK1c8YYx32vZT3YiliSFAUwbIQU6d2hw4wpAkSnkEPRYhFKHJICDAICuZmwYSuoGXUFmxK5kShOgSgqpDgCMYtDmbf/X//+2/m5s//NExIQR4J34AHmGTGCnUxQzbjpUQ3UMLvKMxRgTbTUNwLNQNVmH6oyYBCdNCW0i5FtIyxpF2OuSkjYNhc4dclKp0W0jFHJGsSCqGoYGQEahhS0BBGFgYHAqQKsqgtqs//NExI8P+JnwAHpGTKFTDHY15ZY3t5befn5Z8M3UjpMZKR0T0SRMaoYUThhXAJyDO1ICPDCsKAphUKhNJLCkAwgDPFUpVM4jd2Rq9aJK3EpNT7qRoBhIgLlnAhrKpuKJ//NExKIfaw3UAMmGuQymSQbQNlTSdXKkbnxbTlG1MxvNi+k4eBfSU8IUXFS84SRIbeAjHIvtImJ6TczTdKipwnfhM+e0F2vMMGMfBkFsjTKylBDFc+ySkN+n4mfbctDC//NExHciMwXYAMpMuXfy7uIh+xDuhnZRjKh40ugBkTNoHp0oQKA1JYJNZ9aCPQ2xGSRZ9n6lMkMpgiomwTKwhMKsTdIhdBpWE2Vk3UiThuLTzEU82Kz86KcdwxkTGWoY//NExEEfKwHYAMpGuFe1EzhksNVWMpyiZSqnGX4YVvwwr+kdjMa0BEkxqXVVSNQoCYUoxhRKnxgwFVWgKMGFe1AV2arqArKgqjo4SIwN7muQa49yqAA9IKGJkBJNVGkw//NExBcT+JHgAMJGTPABTAzIOLSi4BBOIQ+AAGQD4RAZQmEQuBEkD45wgnC5pJxbxPDylyajgghmqQWfL9byc4r3I//7V1iCQyYzPH0eq648PMFycKICAwbWbOkdKSgd//NExBoR8KXsAMJGTIotLqH4jBCPFHgQmTDMIg+fNCCkMww9T2k1qOSkQYoxyx1Fvovf04fRc6v2/6ltDSh22BXZW+j3VACRAhLd0UtRNMTx5CZ/5STP6LnKhJxcIhoC//NExCUQgLHwAMGMTJUOpirEmZEkWaEwxLNoUqVK0a+xij26ezu//7frABCE6z2pMhYxMxmahiJz9DaoJbJLty7qvasVKlKJRAc2GlZeWEcQYJXFreq5pzlltDPnd6t1//NExDYXSMHsAVgYAb/xbZfz591apfWEkAbx/FGrt6pxpqwUICy9vQNvZw1uqfRk69djS6olp5DBL4Aug33OdPNQsBdp8YeEsOuGUYihAD4B40Y+y4CM4om5ur7TRDCE//NExCsdWyoQAY9AAK+qrnk+ZQ4fDFRXx7u6aSSTMVNz//+x76+jXHA2qr/7//SuWu3RNHViilW/Jav5X///SjxfFxc8Uqw8FDPH9iEDwqKiwlBqHtyHNV11h0oBxgYI//NExAgTKvp8AZtoAXB2KvTxi0gDMzIjIS/H6J0AgWKAQl8OIeCYToRBL/6K1K/+///////ev///////rTa33a8zcp//+m6SHdW7cuKrydVcomtsxBKWE6wFDjADgbmR//NExA4U8maAAdsQAQAJijMb+gGNhA4MBCbUMBETLwlS1iNG5MpjE9fr88KQ5io3+//32ovr/9mnZ7tTT//////86VfXc1Gs4hgQ+/B0vmdd/FZckFkphFtm0glKgRnF//NExA0V6mqEAOHEuJ4AhwGHDkFQTDQFoSwNQUMpwcA4ZLAqROCAuwrGVE7U0ejb70bfeP0KN/TXWgQshUCau///////XcrBEo1Xo9Ga7h1ebELnXoQ7VblGIjspSpww//NExAgUiU6MANyElJDgklTeMG9jHQ3ELhTFL4iGw7JiBHQD7L4DzC3sjBnCcWP6CBddb/TarXUjV0CDTjKhf6a59CkECmCKBL///sMA2EW9Ch5I/V/0qoFo0gBvcuUx//NExAgSyUaUANYKcPbB5lHg3MYHlmcpHvLWhE/XGBsOhalJtAzUGhZvGIg+khgfv2PV52kxDGuJgciCLT/7+uhYgPOCJT///5EpYuxTIDVV3BQEYB2ZCYaZaTCRQAZa//NExA8QkNqgANPGcFkQ58XAi9ytKpokBCoqlVpKTpFtQ4cpIENR8QaZNmMUd5uExxheHTXq8sKiEM/////9+lWZX0c1475gigFQgYKqgBSy3FgUNYLltbGa7/cq1rV+//NExB8SoNqAAVp4AMxpufqQW48mW287t/i1o2bWgzRrPo3Okv+SEURaOV+j2Ulbf8RPJf/8O/jVICpU+IuMEH+VR1HPMWNw/18W/Wxj/UkbOv2QZNOm6Kf/86mmmXzf//NExCcbWyqIAY9oAPp7aB4e5Lj0EYLCv/repk7mhgJgCrBTBaA2DM1H//9m+3YTwgHT8YcYxAErLomYWv//092f2bz7jlJJMcYmZ8oEgTysT8hqKRX/////////7dv3//NExAwR4t7IAcEoAVn2u0gvVtxYoOYhCvVSLaQUSiKyWQqoVroUejJHTkUhSEUglZKIJCLyXYajSi0pyuQipOxR4/AmIDRyeuA4JAXPdjN7r///f/+j+X/TjZ9nl/tk//NExBcRukbEAEBGuQ7jSsUP6pXgqGrR0My9j3ps3NiE7X2YMbrDo1C4aLk2GoujDrmy5FWa1P8mC/bnr/23YwBZNWQnjx5XTPxo6wPXcuP8jQgwRDMdGSvqt2qRRcHj//NExCMQcRK8AMBEcILJBBxxKelJFNIaeyi3nrVhs83QvSdEoa7+9o0br63LKCDh+bNWHFRQTOslMxTty9k4/o6nqLdb69RQnB7EAyMQ3FZqDc7eKfHM/ge5FDXdX5u+//NExDQQmU6wAMtMlIJTaAt7P///ee/r//+xat6buZT+6kYHB4HCwmhAosoEUlSX3kshuR+8wvgtnVOfVZQT9UD4MsUJ63SM/iN9CAJdI66utvSNfy/TM+IwJttKSv////NExEQSWVKkANLSlP57///9NZiXuwYBiTE3JGASLKFdVQBEVlLqVqzKJzmkM1cZP79EIfrGqxB7cH4fnE4pJsTzJ+kpHVI3g6TpS+W1Vf/8/DjwFO////f/xVW/EyQQ//NExE0SEUKQAOPWcDPsdHC8BTMBErfTwklOE4p+K/U46pW5DXGGc7142E2ZokKbCBBYoZTIxXkFGa8ESjCI2FwR4UEjc8f1BgPuDzfVt//6U/1KmLwXDnpSK1KNGEHw//NExFcSmPKUANvScCx8rCIHTYA8sFwNNCMEmlB1rliFIFCUuA6I4gKqKByUPKWS1ksqBQljxVjx45k//n/4eXGUYoIB1a80K9okvqo8JbRqIi6UDUqrN1zC/FCqcdvg//NExF8RCUaoANJQcRPiYN1JUCB5eT1vQW+NbF1ph6ggU4oBRgEgck/+Hf/ppBg5CaQ8///+LCqcgMdpz70AAwLEmqmJHhAaGQqBD2AqqaDhFAULpx2eSNvLFX+aDixz//NExG0ROVqoAMsGlJOYIba5TKqDyNghK0Dm1////8f//v0zuoKjf///1fuTpH7NrcBVxgXyDghwcFow+nqjlbrS7gOGWiNx05ZRqRSUkLOLImrio1qtbK4lgMYOh0VF//NExHsR+UakANMMcIRBBYPKvXza/SorKKg1///6wEpVEdDDMP4z0MRROQNnDCgYEUrWhkbY+4lTqINSreY0ou6pueWF2raLjXzmr5W0YvMnc+ZTEqFHDwFp9i/7Pd////NExIYRWVKYAMpKlP0z7PoFBtWUCgOd+UhiKQJBlp6lYCSQOUVUDDgZtxXwuleY54nIhyuNlTKRAyuZ0zoi/3p2aomqxdtex/+x2KGmlucln/7zH//z4RJgf7SicZYh//NExJMRiPKAANvMcB7CZpjE4aiJEIwawVkQSZVx9HdQKRPDLWkW4JZFFokTYkCIEDEaSc8/OVyOY6wuem6Y5alCR7SJZbv7NKjWra3/9S/0IlgSqPHFpYKBzK3gxYKM//NExJ8SKO58ANvMcAjIz8JQHiwyrsQg9FjD3XilEFsUpHhqz87SS8gIRONjuYvrGrjkKQM67iRVR5/7dVx1vQlP/7/6qghkONaTAq4z4OMXfjDnAw8qEjMzItBoOZyV//NExKkR8MJ8AN4YTBiQY7rvq9hkaCGlCBjMWCSBwFwJOHPEaEwPoIF4wUodqOdPvZlmjLNicJ+bm7Ogy5pmCpgg5wehp+rqQzdNIky+f/UvXQQoLTrTZN7u29bf/9+t//NExLQRkL6AAVtAAGdM2WmXCYaJ////+31pplxCUEEDdOoyYzIxGPQBIZQh8xgcEuybp7hu8Ak2rT0HQxfzH4lJDSTikYjvhaW75jPNf2k086rG4thjzId68tao+ZdT//NExMAgkyaEAZtoAIdpsuhJiOtfhQ7br3GJiaG7lzhuWks+rX/39fH8bq//7uWw2Zva7+NtOiY/+HVc2z/97URFBq9DAqJb+gPvcmp0FPnnEtxOMQCCwNViyFAQaEI4//NExJAfEpKcAZlYAMAhkalf3YP21+y6GUlnsqX2f/qxz0z+RS/rD0BvCE0BItqKTyU8sRV+TjhpN2x00p1htBFVHcwhLj8Jax26/YZK7v/+TDhRLeZaIRClz3O1Ch08//NExGYbUXaQAdpgABsPtFbSw8UqgIqDmY9JjlkUQJZ1Wo7A8CEIXyGb6NFsBRAeEQaZnYziszj7z8mxI8hEpQuaS1R12+/ntX51DiQTz2cs66+Z7M+WGddQISPyyzt2//NExEsYUXKYAMoelHMfIbYj//yw8a5m95Myq32p/TQPvaZqurwOIdxRzWPlhNvGtkAuSPMnu9QOQXGlA4wWsVlN70bmZdSTBChGDWj/l02ptdL/IGVDJxQ1jFZS8pya//NExDwTiWqgAMnSlDuF2m2tWs+9X//5aa3//9dh9FWWu0ElveBCk2RQVHB3TDCiij0L5SIL4OxirMmfD+8pU+kTZQ4cKCQG7YJEik1W4KJpyYy4ouSEy5EizIbuJJq9//NExEARkVakAMoSlae5avFTqBXKIm0ZHCrVTSwSxkg4rFXqXH2nxDpg04iLwd1qezU+t8vlM8mQ9CgfTKTsVY7RRreRWakvg7gsuG6er3GdZm77rmbLjiE2bbZ/SoSC//NExEwR+VagAMrelc5go4pcHAAqaGkiXxhQ0YJBQ4mZwiHjKf1EklnaFNiQdsaMgLOW1nGYwjBrWmSyxMGRwZJRkhiifSJ9S3//1Ly9//qoybN3FRnbhBIRA+VGAEyU//NExFcSeTqIANPSccR4kMIMkRRAIIBV8x3p5Jwth9E4Nc01AqFGvkwMEwDwRq1GjFRUgSLtlnFZEKxEyKgaZDDZBS8gx/pQpal2yBmHxjBfhwGFS5WBCxhQNJRnae4B//NExGAScOp8ANvScJUwVEpTOS+sYVtGJBEILyUXCyvslttdmaySq7C7lB4uOqGpmpnoG3Mvd/Y05eZPoWogwqdEAYf4aYICBaJRiSDKEIl4FAAnnfEbiI2RXCdGWWTa//NExGkRcOqAANMScMbnwYqEF7FUy6ZAsXTQY3E+iMkp8eMmGTDxP2JmhzvlUp0WsJoVBgQyDw3oU2/0IgmTKMIBz0vomoSAJbKKOYrQzehNJIpXLZimkstAkkOpmpe+//NExHYSEPZ8ANMScM6+5Sjmw2cVllWGkCy68xIwg4/+y8ZQ9RgYA0CNVAow5JTxRRNBWIFGkeVRgcEGAiwYKEYYazDgkeZnTfslLiQkTRQPiwkJE1NMTMpxXGp68O8f//NExIARuO58AVpIAKnW4xGtzb3DDxkiNZ+t1ieqPbO5PS2K1qYK80m2KwsPU7+NBb7017axJ/m3zbXm9aRMyaz9Yx7zRbYCel2/2882hi3L7Zhn66WVxtWAgaIZLR05//NExIwhCaZgAZx4AB68H3sedx0xG64ZhpjAoKstf2Mwy/rku07z/Q9GpdTU1pS/UKAgIEKY9VCiW1VVVVPVQoCAgICBCgaBoOiqP+IlcwchAboCdX4xKbbNMEQlRU9o//NExFoR4QZQAdkYAHUjHZiM3j5MZ9cdqyIbQTMHyxp4xrT0ibSLWyTF3tuXdZ2KPY1MN7L/77b1t+mpaeBMqAoVrFaa4MTls9DUtjGV5seNmyExi6FAhMzixU22cTlN//NExGUQMKIMAMmGTF7fSWfjMQEnLNHBojc/shjmGvb0KUgYlrjgKACEe0SiVoGUJZa2kKBpB0jSj0Oskoom3f9CVC0SuCg6FrO2aN9ykgV8WzRuQX7QgqJyRGpNVhdA//NExHcWeVH0AMJGlKLpImlpnF0694qpqL+MCwLqxsFZW/ZWgruamv5oJMygkTMoEg5IUAg6SEgs+LNEowWLWCYtnju8zQjQOfvyWvWNJOHAjSYDAZJAEDmIMC6QfL0N//NExHAXgU3kAMJGlIgE4453regTz+sMCcccRico85teGCaMQCceflAiCCwfKOiAufD9QYEgDyj3f/WfEGcE4EDFNjwx00cX1SrfRC+YZe7UDOzC3BhU3K5UcA9Ynb0j//NExGURqDXgAHmMBDBtvtk4pa5NFEXoutOLD0bn7ekq0I2sulOsVbZTYRJT0Z/fDSktSOPRpnnCLVskTl+u5SUmqOI169Uaixcy7Jd63pFmonEmXrsdZFEsjlSzHckv//NExHEh0w3cAMpMub58iryvjY074mPkU8EqzMaXlGBSSEGVX8PbUkwhWxrlWbxE4+RBQEHJr4PSMBEJLdS2MQwXJCAMC4uLHFrE5zE4eE9YfLn4nWH5ccD/DPR7sx0O//NExDwRYIHoAMJMSNDtBjmOj+7mubUA9HAeZcXqhFDhSOm0bBoBRQhkahjEodYAg4KBWIodGBJ4CPmj09jr1nDTHHWpo2WvExJDECq6+lC0qW5X9Ve+MqUExOcFAoBA//NExEkQYG30AHmGKGEEMP08L0/ch2QQKyT5raWmB4a4GMDBYZOjpT0jIguIL3bdtX////93+z7V2PN851lruvfdt21rur77l/f7rnu/qgY4qi3Lxpk7jHQqPKx3gQMW//NExFoSGFn0AEmMJf8v3/pNTWUiM7QfS3tPwgTkLJw56BAQGFCBckwYTeLEDgnPgATn9jSjMuTY1vf19+6oIe21XZ25imWKcDAkBIHQj2y2edFmqP5sFcr9xQcaYduC//NExGQSYPX8AU8YABWODcdZ+90Qy2HEKP0xxocQNjUmnSeuweCZKs56EJ5zh9zH8XD5c6IOVDmcxD7YqxjJvmbZviH3Fm67+p4m/iuKtnt+OIpjKjh8QbwgyHVN1NX///NExG0hSyoQAZhYAPx+gxhxjjQsM0DQnwc85ByDY6cUadpprVU4VpCDc4MOViOWJjjBR/aWXtfMfFVfcmb1DFMyLgIBMPAODoBqSsee7WccHlHxCoOGGSNERKEiM83j//NExDofuyo8AZtAALtBlCHZCKO7eo+KjmJjoRHP5u/qPuZ3fmhDoySpgdEcX9z1UVF3XVXyWQ2g66mLgRKp55uv5/56aaqYmdP2RkW5idKHkl3ocDByw5IWHhIwM1Kx//NExA4UkUp8AdtAAPEIOCgdrsGKVw1FOV87f0lj8P1Scd3fe6nhJgaPVgXoWLuXZZ4oHAolWk3ZFEJpw+9oQZFGFHBHrB8Cf1vZ/d9H//v6aqvmDKTURcd9Gr33MrI3//NExA4VIVqgAMsSlMFkykLmMo7TDGjymOZtJSOU+bNvyxRKB8zE4sMEw74oYyTHUy1GIBdHJJAqG0aTGSbnkrKEhgLhg8To5NAj///+393/9SaqrTJDSzXpdUmOpBmY//NExAwUAWKwAMsSlCBqYcKFiJt+34EtfH/0JROqMQjSSv9+euOfpwAKlwGdrIMll65iYedxHnEmwQ3ZB5G/5XZuRwIRVFolX9Lr///6b/3I5dIPq/rDhEorDBlC5YgH//NExA8UKVK0AMPSlCu1t5UvQ/p+dk1jr3hAXbkbtctWRkOoZPobCX1k23R5Xs8hExyuyR8hDFEQrfT/K5xlDIXEnlMMMWSRBN5xH///TcNlSJEe4VTRbEhC20dIdq9u//NExBEReVa4AMPQlSqTNk9fpPursk+FFPIh0SCQVzRRFz2ZvlU7xG/kqC7lLJESigjtSLWuBH5M+pJO7Cl4eJD6xzIPjcncLFH5tCkYDkYY1v7zhbjqXXN2Lz+nudrl//NExB4R8WKsAMPKlJSKzYqjGwMFbwpZuxb8H+Uc4x2U0XaHB7BF/I9Xvh2w8fGjok5W3///oqkXFFcbN4MLRA6MSuKhoLAjWhGGNhkFGEQ0HEVhNCVFnoDyIohFJxoR//NExCkRwQKQANpScAqY8dj/7zU/lR6bNiV9kaSy2FL+WnZ06pK///9/6HAk4UbyvtewCmo9ywESrjCZgZDBebMJ1YSB7CF0R0pVxcCcS4V03zOYNcUXq+p6F6sSUaoA//NExDUR0QqEANvWcFchpXXCaz3QqjqpG//+xE595ap9SACMeAQfBmGi5h7OJQMHGElRENwWg+xXOfk1dr0/m717sg7x+zyA21/E+/l3zw33PztphrRQi6r6X2/Z79i///NExEAR0Q6IAVtYAP/0MOI9wRqqCgMc2nggsEp4AkBlYYITVooAGy6DYngZmxmelEatAWqSiyaUSz0c2SKc73qinc+fVTT53RjUZSNiE8/+z1RmPeSFzz2WjMururnv//NExEsfUyqIAZtQAKuSBdieBYPD36ky9zjkpbpPnGlB4F2DQSQuxBjdjv//0ZtN/EQaKAv2JCNB6DeTGCLJ6u4V/////////////9rbdVu0neImZ0OrD3FBgAClhpiq//NExCARku7EAcEoAUYjkZTuLoLkigyYokKWHyCbGEFoKjyoRbLMpBccHyIWMHDLjKlcqqoKCRHvI2tpPcn//c4vn8jf////f///5a0tswFIKQSispZc2hioZDOVjGdA//NExCwRwqbEAEhEuUGdwwEDY6Hqi02eqPIR0oOGLEhuX+cdN06bm+ZkIgO2E3gSueYcX0HXttATNLEIN3mWF9WR3uyW2KisoumIG9gMNyF+uxzN5nfaotb6D1H3ar1c//NExDgRwVK0AMMElOoIko6z6fZlv/3fs0X6qu4sqB/b5+VhOPLiUYM2g96QdfPuGWFLIwSdIjRrLSEASyXgEYnlEOEHPTacLc6YZhlXyNSzqFWsSxq8T6jmIpOCpZIu//NExEQSUV6wAMxOlMhR///6ar0qSdMaCGYMCrD2T6iw9vWZ6ayEhSAiISQuGwKPPkoA0UoGIBNA3tAWcTtZIaPK2Y6Te2P5byz+mO/Cs7OCfbMfp/UhPNUOeZDPUp3d//NExE0S6WKsAMzSlHgg1KZdZUrFmJS1UFZSnAVFUgUzALWWIuA5gnwfABsBmTECAQGjDYSHKXMjf6Kmq3K91asxoGMiUMgICGY2qoBuwGBKCDwsKbGK5z52fN6wumHU//NExFQSMU6sAMzGlbXAaGfh73QYIAVLTAog3OSHWAkAzpEA/AAMRPlUlRYUFEWSmPW22vav5zvnx57TjgycFEt7V7zcBUhMqFVyobMMVTrF8ODAcHAQPhwRgRMEmYnx//NExF4SAUqkAMzMlY6AE+BtE2JUgwLpxEhK0eoQoA6MMlriw6zWLp1L6lavf9y0NzIdlKGO/JbjcLHJBxGjCTAB3aQmqpqYyTJBLpEQeZATiwiSgSH50vAke3LxbLK2//NExGkRMRp8ANvEcR09tu7lkzP0T1K1JbcqlKdAxn63FiQaNRgyE5MGGBwZPWmy+6ejWnCdadhqfRpCq3YgTO6PVb3OeWhfUnTzzO9BnX0XBFTh05u47Aw5L1yYXZoS//NExHcPOQ5UANsEcJ///6tHsR/+ujPmgFVEAY5+gHEkwYhZ3+sK2eP5fv+XM+ZWeL2M31SM8uk7n+VtJdZWPtMxDAcNHQoMS16yYBSk+IEpen3o7Gs8hR92r//Sihsi//NExI0QoUZIANjGcDxUMGvyCiDJ7336cvA/v7ysMueHYlDpLkcFtDEvjzLiB4FOGHHiIz83UgYm4XQFfDnBcRc/JdTM8SYuEEcpaX9lq2qapieksk0mf/9qas1Nhljj//NExJ0R4RpEAVoYACQJcLWUxp//+934c8c5mO8hjsJU4bGbof////47x5jwMDQlEUxGxgzcxGHHnQ0TVP///9///8f/////////xVf8V8Ve9/oL8HIThhoeNECYS1zk//NExKggaypcAZpoAFG5QTDTUOJNzhubpjrBDIdCyYVh7XVTPsTMx2GRukTDEEcPADwdAeDIEsCcnuUHYOwmEGHsnuNM3SAeD5JWfHYP4iASDoHYWPNyWHgPBMN3uVPj//NExHkgYxqgAcVYAb2sUJipvJ95dfACwEAyQxjxjnJEM3AD5szaGk/4z/7yjYO7Nu7utUWUNcibFAobXMGEmfAXiVQFuuSlRg6yTB5hGuPCFpQwZg82GhRAVkhLAJDa//NExEofixqwAAhSvREw9jAJDbysEDImIQ0CVEIEtzH2XkIiEwkEzIJNionPnTYsKKIiVESrUiFC5RJid0QTkkoqIfbyGEFG8k1huuZxWB+XeAjIiroaTkj8y75FTale//NExB4Z0wK4ABDMuXO//6/7jvBjSe4KQNPih9ookLyz7dB/rQ9HtdGu5I5Z9nUcaY0WYSocWqYwvXOgCNKctm7l0eRGovVaSJOdubCNNFPlPHRsnCoqMVBgPkiqBIF7//NExAkTmZK0ABjGlR1UWYOn0g1ibERGkJwWcXJSy6RfbfOYZVMy//9plOyhm1YmoDaby+C0BV+Xm64KSijdUsDvNl/hX+862Kt4S7+8msb//LW9qMmjWLVyyNKAQLRU//NExA0U8YKsAMpMlNJn3keOgoYGRcAhCUJCOCEkFZZAICQPpYpMgYRtRSyG467srLcwhGEyfsHJ3hCG8Z7v8xC+ZGe07lN3xASgwz07P+tV3Qup+nIBUBrRci5TUU4K//NExAwQ8Wa8AHvMlejeCDprACTlbqQgU+2wnu7G4ZMWRgLFbRuO7dv1m8tclnbzH7lTBAMl7jYQufc/vj2dvevdqfGV1XgAC8U8XfQMVu6HSWaUUcJARe4UgQVh66IT//NExBsSIVKwAMvMla2Ro4njweeIxPAlU+mNCflMOWcsuPDz+0ewKjxCbaICcaq1zt/3wa7sDJclNFWAYkjKZfbqIMmIQYCCcDNeTIRlcx/uL7gtnmcSlVDFdlhIBECH//NExCUSOUqUANvKlQFJOuKeTdcPZt1e2zNE+6iZDCDIMAih0LFilZtZjfpcRDr5LJfLUWxNxDM9FhCWcKSNPgMqDQ8nu9DYjXdA7tc9HtoYg6MkbwEFzxkokqyoFTQW//NExC8R6TqEANvUcPQOzQuzUGAg6iqX2bb/yKZku6///okP101eDSxQKGP6kYQBTE1+miAAt2YUaJjPGqjljCvBg1sOyfMh4v/DBjOWrnfK65HXWmTtQbCG0BAVB8TR//NExDoReOKEAOPWcGsv8Q2W+pn//2f6EIJiRACmrzo0iwMIhYsBtZ0AsHEQ1np/YjWTM6tt5la3RBY6RWdeuvi39YXxF3hguLOOJkIaov2Odf9ERTnECc////8Lgc/7//NExEcSEUqQANvElLpq1WR3A4jbyxMZyrT7M6h7PDsKACFKAsl3R//6/dKpu9GorKdXBj3CN72OL1BABC7HhhQHapyjm1QY8PrPtggGOGP79Pkz4nXVMTpdAyRzOtq2//NExFERyWakAMiElP+z///pR6K2pHUhKshFOwsgxjKBRtlhh9rvXnS5oiiTIFSAQSBBhL3ssv6nt9KdxitnjVSjaUkCc+lGM5R/tvYKMUvDFLFREv2B/xbjtHyxSolB//NExFwYMj6oAGiSuUIEm9/tQ9Ayf3f/////5FsS5/rz3eYKlMKCoRjSBxREsfwW7ixzuYLmim8x8zVwtJD0nLP3Xsdu7eWmuxSZOd+eu/SyQWLkd5L//1f/8bwm3/////NExE4SMfa4AFBQmcv/6xmUBiyBJtkQ6QIEAAvApP23eV2YWcElrmiQRhN9yu+U/f2z0/m/+8fbbf81lNfj5pj0rORtNV31/K7YraKuhf92rvv+1ReT0MpPptvf//ai//NExFgTEjK8AChMuRbuW52bFVHVnRBQBBYUFSTHElVNVMi5gdQJAsHITAeI0KtnLd3zPde3K3Mo7WMalRuG4le+IKHycCDg64A1zcjho8tyUyK1WQkqgZTAmidQt5Bn//NExF4VCjK0ABFQuIe9azjOfz/+RmpGMhA75r+8+xX1RwoOZnJGkXz13/pC4s4cjpsREZLJTxZ66MiyVnSKXT1NFmrozvfd04vGVtGIhhxA8XqrtgMSFlkN+wA4bYax//NExFwROWasAHhMlG9MTQkQyyQ2xxxh/PX37+PFBDnWCMacCraDQu8PMf5u9nhLe31u3xtNBo8OPHTrP1/v6f+wYlVwbF8wEFjjAHajPAwOGXAS1qPs+Hl5YMzcDeco//NExGoTUUaYANvMcFr3u7hu9qPtyntbsfwar8m3pk36w37aFZrEwTPXNv2/v9HT//17PyDzKornLDAxYJyXGlgVMis0YQ/wgBAX2chLyw4hCeF6zRgjZ5A1DrDfn0vi//NExG8RWPqMAOYScL81nkwNuDQ9cC8fWlA0HsoeJ/b2SdNn/+o4k8z0pI2q90i8pn8yeQEtaVTMbQxpFeJl5hYNLs6y1bfwljaYF11mAwz5tptqe5k+dbdSkB3DySNC//NExHwSQPqMANvWcNPUziO3////Mn/////0ZpH/84Mplt1jamhfY2dhzKAvYwKiEdAyWroCglBwpK0fYjyFKO0JXaSyhpHbmGkG0kfBP1SNVK1u822UCYCMJbj3//q///NExIYSKlqIANtEuf8RX09JkRKVU6ZozspTAb/HUHlBFEwUIT4f9pcap69Tp4frFC49xWpdhehlczblkugLCtCiuVEFhZ1E6NReGOG7/NV/sb8kBI9kI8P4yPD3dR2i//NExJAREO54AOPGcPTMy9bJTxoidzL3/58xi6Q732QvTH0WFquP2eyea5OkNMVlw9O03nzY/7x30g9Zb0hbRGb8syaQ+aW2ESR/FRvUSJD1EkKKoVMkSfnE0IjVlS7K//NExJ4gwxKQANMMuLlQwHTb4zOLfxuEt7abG/tdjQ8Rf2c2oHalcy1uXZWJJV9ub9WA8BwAAWk00lns42oi0xABpVcCgtCWq/H/MV7MzTN/xa8tDTtw1xNGswkGq82m//NExG4gGh6YANYQmebxwoLSvuDDdfLCsO34q2WW/0q1VdIwEoIhTqnZn3oQhhpR4zBJf265D8bwV+Op8fsCi8qjQnDYQg4qQwejS+YzcOKEX8/lVg8CKenAHB9dHMPg//NExEAWWU6kANPYlKUV8nIIrZTe6a9Sp98DZytEn///zoGIfoH1qV2QAHELCJGnocwJK64gDDoGkzg1VVuXxa8BG5w2KXcM31nUNVYswExPFICOAqXBkNyBBT5loTKn//NExDkV6VakANPelM0u8XAuL1dtJw5viubxtY+/6PsYeM25rxdM///+fHqzcVTNflHhsaAEALA5idEKgSFT9WVZgPdb07x2ze2BU7lZ2WrxvVz5IkKfmmOYW1AI9lbj//NExDQVSU6gANPYlIL9F7yASSqCg8hCECekHVs1W2b27lolscMMvA7///9ihtWrJCwKb2TvvCcZC5peystrSU9/lEh9MrrUhrSGu3d3bW/joyKgOgCk0gFv1iY0cQkL//NExDETOVKgAMsSlCeIQJBEaRBaa0oXeQlvzfupTrUpNS+n//5RRlKWZ0hxDc4IRYOEwL6fNNThGunjNTtWtuvPfs//9iAcFNGgyntV5MWlwZDAZFCZUOKxwFFHtssv//NExDcR2OKgANGMcBtF2qyE1itKSgupE7ivX/11tTIqcKAddWGk47V6nluOGX/////IRmRWYeHmEJ/7f/99eymYXWggZQ5zndqnkIREZZ5zujSNWdm5FMSgQQy3uCL5//NExEISmlaYAMBEuCLhcLXh/1Z9KjHHoAEWR6zr/////////l//f+82/eGh2+/2mUUEdM9BML+I2T55oOndSytPvL2TCOw+0EKXEaY5VqynDM4tPlj3lMvAs8LtgHWR//NExEoWEsaoAFBMubDSZddl5JV0f5wfXYHD6jkL////////8/883f57ZbQeXTYtVi0KgzIQTO4HZh29QeL5m0g6pMJ5nSRv1OV35meccpn11ShBIj+XN3No69UXttb7//NExEQUkxK8AAhMuRuGKpn1/UJfU6zKd26qarr//////l/88p9Iw/mRlH2leQPhiAWbOm0G0J8AqqpPJmDBeZMPPbVc0QzW1tyPNGhHlXOUqqpVyOKCPv8OBlQhJ0gZ//NExEQRMtbAAAhGuK6ZTiFptgOhtNNVw4+Nf//5f+rlS96JWY7Z3OrW9s12MEn07/2AbELNC0QmNKCiONuRf51vO0FiiQUcbyF9sjTTu8W+aLq6uX+N12q4rKlQ3Uuc//NExFISkVK0AHhKleyF4rqU6caH2b3v2XEDnh3V+64e1f6hLoQTxCFzAFxODcFgicXgyBTRgujAlJCvsCEkCGEKgWbEp0RBVzBVn//RU7RVzlpNytAHiv4RONOAkSZ7//NExFoSiVKoAMIGlEd7t0d20K6i2aztttR2kVHMpn1gPZLJ2TAZg1HgsCIkIhQkSWK6DZEjffh5bL7G9qSjSCbkNyjbpsUPBspIoOWxoWVEj2doQgdAoWWPKHOJvSYs//NExGISAVqkAMsSlbUe11I6ccxmm4DpOKFDC4qQfsyFNqKY16CkLsFGOZj1H+/7btfG8b+dy7g5gpssldlUgmRUWHt4fRbYGgg0WL1vgAvDmrMuE98r3VOF5Yk2NQXh//NExG0SUUKkAMMecdA4HQBxo3mjyw1IWDp5hqWyTXkl5ishSE1P/O3btvc2GsacGy84skonjeMItE1NIZEQ3cCkCiwJADTXJ5rsfijP5UnRENEy1GrC+jjFnOowz4AQ//NExHYSOUakAMsWcQFSgJhwzRpCFCww6Bg0AAxDhzfvCi798oNHHDrdFc4aHxw2DqvmzJelRKBEInFBgVFDbSXglDVG8Ya366l0OIsdWdecaZtFZ3MSg5MxZkh7ZG6p//NExIASmUKoAMPGcPSBM7MJy4WL5/Slgp5AvYV/rsJsBEiAXIjXxP911boZTlGmP8jMMNTi0jgTIuBeQ2AYCDAiA8S4p+juFLXVt5+rY//9bUzbdM2OQKZRflI4sUx5//NExIgRuUasAMYGcU7C7bnb7c5gEkHiXAEKDpKw6VCpG8TKBxkNGZF+l2X1CICcssgn4IDsHdtypZOX717PnOb/HHXP1/7WqvlWvl1YIAlAxSExoMQgTBY3HDJVq7Wy//NExJQRqWKsAMPKlSeKFHVCC6OBduaBplQSGLgNAuELLRCcVsDaQiw5gNMZ4WaOwdhcLpoy29V3Z/em+3X6SuJEGKqFY4kQao4wgGJR+1Jtqvrl9CkTIbIYZ64IOFRW//NExKASYV6oAMYElQgoFuZYFLhpBZD/AicjAF4EdkPBvoW8JKIPU7bVvvU+s6R+Xl5f/I2hs5wWzAxSASMwRgaDkse7///9dZRMimhhG6eoiSvxcIhkzcDIDdXZKVGm//NExKkRyWqoAMQElR8KCDhKYARwR6AFyOjGKed3rHmt//65v/3j/6qlfb/6rI9nOw4swkoYpUChsUKMCH////UqfNxQbQFoTPjAEkCcvYixVwy1TvRtbAnIpiFBYRzA//NExLQSWWqgANSGlHoTQUMH7kIeIsZqLq71vvurqfd+nv/vZjXoLYgzimFGLHgmxr////59aksVgNTU7TQ6JQqEjAB32XKWWOAA1U5uGW4F3QhHicl2HAMEXZX2ncrP//NExL0SyWaYAM4ElC4IzwSmU1NJiNrUpjmphSWEogUZCLtlH///5FdxEVVKkLBR+IcYuDGRpBgIMj8GBzCznBZB1QlEtTsguoMZdN6HKNQJ5LZbXmYpEwIjxFU0BjQ+//NExMQSeV6QANRElEW7HuyQ0kChYGirfKJVq////qYhM2INcRN6+MJNOQnJhACBOu7KFNqhpuDMzMo+VY3qYuoRCYUrPy8j6eHgM92REo14d+Waw75IO86/GfSqOx3E//NExM0RYHqEANPeSBmM+5NcUM2FASADDwEALLpVqaRdGsz9yX3jDATaEochpKiYjSMAv54JZxfCkRDIyKEZltDK0UJ5sZXSs8twBcOhK1yWwm4VAJkRSILC5FbpJCGK//NExNoR8H5sANveSDVbpFJYX9WVVeW+xqtT/qVVAqUBJeldMvZc4z3u/HIlQEEZhrMOOMUEooGGkZYpoiPabM2oodwYOpfFxcDGBEHRcWQ6tiDAoxL6mpeE1iVr+l6i//NExOUOyJJUANPSTDF5iQzCmTfvW2Nf9bY1ArjapJvTRmJP3ZgglKCpHAaJm0irKmg0DCnoUSlClLKFUBXQq7AqoV9r5HZHa3+VkP634L4r3ivFec5s1g5h7kRyJtKi//NExPwZiOn0ANPScG0S+KJLluKrFgyxdxZpZpZ5hsw0bMNuMRTwtlwH7b9zY3FpW/c9FWZggk4g8YItnnmOSx7DmmIQaPiTOi9WODPIgibQPLmHocRQ9Lnoelz0Pufd//NExOgT8M3kAMGGcHPuufdc+7M3bqdN27T+lTadvnFjKvJA3bUudvkPhqGkiuGlS9r1iyTE5Wb0OSkZA7R97IyOYNzQs4yBHBkhOEChSIFKOH3aS7EKv72puTtZamq1//NExOsXMJ3gAMJGTVc66y3czTTXUjUcnKsMwtyaFprkR4nCuHxGXLiliPQsLLsWRZuqG/LOTaIWCht7SSjbvFeN/xXjeWFTDWZTZivnOFFPKuFMXTuFsXT+NY0dYaQQ//NExOESYNHsAMIGcB1afij7p9+gUT/dAp/r+pUWCMlW4rnGNg4FTpETrEsUwSuGHAitkHVKLuSzWW8m5Vxq2lltq7V9b+P2z+7c/XPt7P639/Z53b78X3TryvNqTzWf//NExOoTKNnoAMJGcI79WwO/TRy+0bpT1h0xdRCgkBujkOCIcionc7vILEyh0CfIKAhmhCZCrdPCcE6Mxoti0pGag0NjKlaIXhN1yGWpNSaBMxv/DtmpvspwfkLVYVW///NExPAWWJXoAMJMTf0AZrS3sYVV007zDOaeuqR5fvVj/vn1upWlJ86rvWH9EsKB+dZJEGyp6IyN9IUGE+o5QdVcY8XV9bQWEHIUk9uDkehkY2KzpNh4VZrYgkdJC6vd//NExOkUYG3wAMJGKSyqMXYs8ejaxT2+prjp4c8cLiqDWta135csvGVhHOL/rXZYQiTn/LOddb9A0ong5A//mg7DhePQI4JR7/0Dgex1nySVk88Cf/+z9mTye8JHRt////NExOoZAV3wAHmMlcmVY6DjDdc/I9miBP///N3sYx784TDYmuJhusij////6Zuff0fvYWLSVGDCVahEOof////5ykDRj766e9/ptNDhYsqqTDZQ+aoqimECrvN9wc1q//NExNkSYLH4AU8YACnHCTxsw4GjAIJ/3/i6VRgICNYg5fNwG8UGOU/M1oqHswW+hVoITNMsE4av9m8xJtyAEEPd+y/jljnkmbrcc///8VuONkGPJMr/79d/dZmRcumx//NExOIhWynsAZlYABQ2WouD4EEBz/oIU03QQb6lIsiq6auOeVxcCKZHi4yLjQJ8cwhhmX4aLAoNGF/50scY6EiB9Pl5SoVFDuez9mloQUATGDgIBXUBwesASAqCAaAH//NExK8g8yo4AZyAAB2suVCJ+JzwOAYxSuzus++y3I3ShCVPMi1Z3l1U5qPIZnnPY6pPZP2//622zIZUZSKp49brGoPEBrBwBxwfBDLE3coib0odjrUi5BetCFkuTxIB//NExH4e+u5oAdsoAaOhh+jhlEUWMSvsnWZh0JmVI0frCwOK4MIyAtKEGiI0gCkTBGAwNIAIKK3GdPjOjFPkALSZRJN1MpVlm6SD0He6kEEZvKBoYk2t12tU72iZx5DF//NExFUhcopwAOUKuTCxhAUFQ+d9D7f//3+n75I0TIOKhTndiKPE3KYYBTAxCFFTjoAqxPX8QwPakv7VR/VQFuQUqTrhp9BDMnNjRf8QXB0aI3NBEDi+Np2GEj7aS8DB//NExCIbGm6EAN0KuLMQONoDABAtMYTYSCRBT6ih3reg8wat3OMo4aLIYaMX0N9q0M+SUeQSD4mMD54pp//////3odDgh3Lpo6pQwgYRDhhIVEsVQ77tCpZEhEXi4I8g//NExAgS6UaYAN4KcKqKCB9SqqGhAC9XTTWtStU1PLE6Wm0gNIDAv0iG8zXIGlbW2v92fJjKi+RGGEGgGxBZlX/Rq6cdOJShN////qc795VVzdMCrTpEU0jHMxIy0UKx//NExA8VgOKcANPQcA1QOGG8YWdfVMBWOLUkUJYkSW0tpYS+h0q1dGOjAZlpiTR5qPvEmsKkDRhtnQ97YCQVAIMkjyUIecHf6VOIelR/43p+li2KUUgk12sOoAUUTawI//NExAwQwI6AAVowAAyzrAYbfpyaOdnqW9aypu48rb1DSgYKCpKJETEqEgKJUveCxIOu/h2BfshU6id/oI+j7VP/8egg5wwBgUIs0z//////97/t1eZUeEn+rnMPJ54t//NExBwY+yqoAYVQAI8JFJ9/yMuPFMKGowmCLC2IsKARAxGxB/+Ts09rnvJwbGG54XBKKgiAuQpyIn//97qTkBjGKiGcXCuFQWSMJhIShqK5KWHgmDvL/////+///t/b//NExAsRuqrIAcEQAbXlvdqCmBsVC2KfFohTRYxCndrHoLLR0U1iyq06bkIZh5XOU4cyo0IQFKZIJmKBMhRPN2DWIq7IN7OqtdYPcI+P9+1KCaSmd///6/+STL/9peMd//NExBcSgcLAAHhElWv6IppHhnhRN+7RyhCo/Uq6hvOg19YivbFyVg01RSMEzCgkb8SUUc/K81/ijWUUX6RU3Mt5n6yXV14gTN37b9tMx+680hoTz9B/Xq8dGzRWDg9y//NExCARiU60AMHGlM+g5ai3gd2MIHFELePIleUU7AwhHQ1zorxF9fVJJFS377oZ/9P0Kt5uAcPg0RfbGBcGpZqAFDHO2F+BqqUzPkx/QvzL3+8HzrBsABdKY2xXUwHj//NExCwQ+UqsAMrOlLgLFiziWRdJHKtcDWRA0NI/////rr//1bswqmKzqX7uRUDSKnDsBcAS5LXDcekVGp1pYf5UrN698aqWqjAGn0GhVCbLOIc1UKszOkKH3/UpbX////NExDsRoT6gANrScPcmrBIFXHv////5FZfJUPjevItc0kqGgKYVqOYYOWvSvPFTLCFMZ6SkfGqXdh7USWJWzVFd++HHbAorMu7hceeSAxawqjtHIiElHcUan9lP//2///NExEcSAPKQANvYcI+9Whk5dVetOQADLg5A4RaEoHzkueTqATXcU03yVVUsgzv4kI1JfF+dHFLBL/UPZhtQfLN4pHIYn/8P5iuK4N3vcXh8BbdmGj0NlvTrlEX6FPUS//NExFIQ4UqkANMWlU5sVeOO7S45U1ugzddENOqkI+BpI/EpwQ8wU1nCI34LhmBCi2DFyohkLObf16Xwt6naJMnRX1///+iR/KKzlLQ9+qCuMhQidVjpkUqMNHMPP+Ao//NExGESqVKgANPWlIGoQ7zInI5wh9JCDLaD0bVQiJnLlE0UzHhZKA7aBpCo17ZXRdWxJeUJvPf//+z/J3/9Fa1FFzihku2v0kDTGwWMPCJEqvYlfpJTBMf80TuwrOfJ//NExGkSGU6kANMOlPdK562rd46PvqcrZxd8qOtViQUh6OZr+v/hvVcoWaRY5Ya/////pYZpU0D28wMDJGIzszcKd+VGElCTBuYEjlMTpEwDdPRmJXCo/Y3KkqicvPN0//NExHMRsU6cANsQlOKiMcAabKmRWz//d//5a/6w8hWMwAOgc1dO0H2kEBTMNAZ2WwhcisFfVPvyhQ4FXwtdtMSU/Fy38fG2VMoEB1Tv7R4xzTaIXe30/5Gz//hS/2rY//NExH8PkPaMANtOcFnqmKFPwyPgXZaEAqNPkUixhgM3x03M+R2kaDEP3lZb4lnm8uo2GGgYU7pq/a3UXCyeQKACc2/3//RTt5K1Tv+7LvE6xiSMpl/C0ds4gCiK8Vw8//NExJMQgQaIAOPOcEYCXCwhfx7j7VNXbSJt0iyfCix4Me/k39Q93fKCjWbyxHbptS2j7fvIECt/BfSq8vwEAqDxiQw1zxXFQWBoJ48GBIOHn36afunVP/63pY5VlXTv//NExKQQaQqUANrEcHatJJvba/yffkzHvJIlsi8J5KqUUTzG+sDSJ7FVjWp2hQuHwyJZzelXEdDG7hkZ25LOVZ/a509nehRWSmjg5g1KGHpMbsmJxYvLQB8ShgWPshiM//NExLUdEl6UANvUuekCpmDIWQzKLnoBlH//9Qog7qqiGcs/x6zpWl7VIqtMtk+7IzBpgomKY3IEhl/hI1xLsYSibDSOQoIppIXQv1DVaz54lmSMjDSMNi5S0iPmSkj3//NExJMXcVqgANMSlF5K9/r4UDE2p+R9Sm5bRWq7mytuYkZ7dLv//9p7+v/8jfdwkAnMYlAq2DiIYGbQqgQ4ItfLVZRQvqrUji3ncu9Wfdna1+xVrpobJRSPi8GgLlTJ//NExIgVaV6oAMpelGOFg5iTbWjYiLUYc3DIEzio1g0df//////+3UpI5Xy8TfNgxkaBwkZKqJ0MgLiF3F3JdAL6kHei5HZwpROsrQjWNZUszyBbfUp41XIhMmQhUdDC//NExIUTWUqoANMQlAUohTaKs5GpS31UmpSkshdw6mi0vskFhkCGqkL6mFzCLFVs7Uho3xxhL/vJvg1oPGS6yizx04hvWuptby5fLXrMNx28Q3bYQBvisCGxBIaEx0O9//NExIoSgS6MANvScDVMUI///+4lhpqJhUinNUwUDYQAgykQ1csZCBAEBKOlvRloYkiCiEEL0rzrQl4sH25Kw51TNrbpKSh0qjSRJID9isYDSyusX2q/qGJt+v//82qH//NExJMR+NaIAOPecCgML7w6ZTBMEUjUQpgwVFQc3RqABKNl4ExXdcNnMZduBKay40kcBeTKo5Q3tJxnNlQhmjKESJxMfJgyLEOtTBZ21Xzn///+m/9NpGnmNR5QDoCT//NExJ4SWO6IAOPScClODAYGCxlw+pkvguKDAoaGAZDRAFTJCKj5akBAaYn/ZYys7Ig4JDAIMpurf7/tnoCkVf///tJfUxaxZGI0DipkFdUGwVfaRI31jrTsqgejEEAo//NExKcSqN6EAN4ScKNUo45rfd////+dugwEAEP/C05/2V0IUIHcWtAyBgQGYGLxc/sT2f+w0B1GGI2hkQ//Nk0eiq7CDQNfkweW9GVS0UrZ7IGM28L6gcI6i6UydX+Q//NExK8QuUKMANpEcLOoG6AeHx5bWjw/33FkDAgUEbcMjR6QOFUasnoPBIOs//0dCGubMRTspV//6MZ8jPA4KKnmQFDUQ4vaxAsj/5IxiTevCRVX1fXOxlB+Lg0BuA4P//NExL8ToVaQANGGlAkPzd9nOEJ/75o2BAhTPuYj9gw9HBQmphpdTf///F/9VcKEDMlhC5RmTAdsMCgV7xp589VJljXW7vd2l1dn0ypccHYYkKgmMAOqSKe6tZd5bYRB//NExMMSgVqcAMiMlIQLIDCRja3hFgRZYUxeGRX///pV+8BnwKlsDxtKAPB4lKnpelM/6N5m9Taym8HmQft1c2kxI/A3MHSNArcs5lHd1JPXsVqJGRLIDaMtDYx08gLn//NExMwRmVqsAMISlFGPE4iWg/WI///6FeSsynUY1tmutESAgnsfQVHczsx3bT1K7w+14vba1Yd5hahZ/nhKOCpS4KYdpuGkLkTSA43itEVhc40/xLCTyy9cXdmf6n3I//NExNgRUVqwAMIMlOu6qrHB62e0HJn///HB8X9Vv//amtXGaJOFY0lz4NxUAYZWAqKiws+/6vbUO2/3tbF8OednRRIEHJCAlhqTFzzd6jnna7l3KRs9tV8tWNjzDU1c//NExOUSkWKwAMLSlBUj///0oWd4nTSvwRPjejJwF6PEpUIVOLA7NdRnCmxx/LLL/ymZ+c2Zy16tPQH3DyWTIkhSHQfEkSSc248yTYpZ1bSWc2vTa3tGR9z1AKInr24o//NExO0XEWKkAMvelA0eDX9HWMnbfnf+W5WHYLP1KgQWI42KtjITBwxw5a7MjVagks6w5DlLycNGGbICIR6osgiC2DjxBp5egzqQL5NlsfSRECqM1RV0yLldlph0Yy5A//NExOMQsVKoAMLWlIgIYsAZDW8wLjIIM5GB6ZEB3DKIj3/1um9BrDPjuIgYDnlcipExz///9k3di+R44zcdY9mpZMSsRL//9v3/NGJt3MkVFkrISgVKlcLCi44CBTyj//NExPMXiUp4AVlgAMYYYqx35fcjFBY/ueeWWv/nau7cz5Q9f1+x72lFVnZVZOM4JsesrGCRA04VmkbBMGBQSIHeZBOMEtZQostlm1pwYPeGNts74bJKOXB/pO/S2/Et//NExOcioyp0AZmIAE8lr/Kaa0n5UIXCtunJ0fod2XeFf6DWPc0zcwz0tbkRHZgZXBkbN39X8pICluX4Ms6kdFZfwotwf4LPTvf5jcUHg40CczEIBZv0B5NWOk4pt/1h//NExK8eWmKUAdpIAbhoI7aYd4mzFBjHEP2zUWQKzwOmf07FjH+lVLxcs9u5BASUOq6qG88U0J+WrPHw5RF/DMBxJrheYoFaWCJH5MEpqILy+1RtOG+TNeVlBZEEtRMw//NExIgXuVagAMrYlDiX1FtadNTj5EbqGq6UifZdD7txxb7hF9GbR8sHuWvqikp///vUsBqttXQp3+i1Eg3RpYAJaTFIkaBQc20KJjiKgMPPhW8aF5JD+2Y+LV0pfx/r//NExHwWuVagANtelPVi4LCpGAULNLAqaHhxYoXNqOrxY7kVqGrvsOTUHzTitf///V/WaytYwoMzqw8DBirowcbpNMmAAMLCZvVDnM+uUHn81yYafaKbjzVsq0N9131b//NExHQRuVqkAMpQlMwOdmjs95TUh9XaqAwZZ9pan+J3f///ot9GmolAJVNGKmrmbiYEmLCFzo9mrJrWlLL8444IkNiLBWRZxQ/2Sl1XeVSRe/eKc5gjhiNygeP1Y8o6//NExIAR4PKEAOYWcH+HJbMCQOIVsRL35/fmk5Of002973WLKxnC////EFXHCXnitXqkCry0r0jCkJeGI1wPQe24pv0j9tN/aX+m2eVtj1yMy0JyVdoT2NZicIL51ChK//NExIsViVacANPYlCZPi///rv//2prD8HgWBoz///00qtfQngvJ9Ehb6Yx0dtdfVC83wVUfClYNdq/gsms6j+rT5TdL3CL8S+PXCrsUFqiw8YOgD8hyHlf7VrV/PA25//NExIcSCUKwAMrecKpyRwPCP///n0/6KsebOly1iOkkQPIAMh5b1RXSWwbvU4W9r0ywe9iR7rmsnA+C6EllaO6w+mhj2wLcSE11e+TeqAUjgi4sDACD7v//9s7+usaZ//NExJESUVawAMvQlAmHoCkwFcxlAaoYWGAyoBdwF0MVAJSi0CJ6RKyozc2lUJQ6CKgiJhEThkhiZl2k0KSaqBWkKIhEqrmtqK9Q8FQrOkn///6KKopBhhk8DRsRgRki//NExJoRIPqwAMsYcLAoyRCMWHCIJUpUHEQcoJCkkrScoafilVKg2yOClW3KD9LpZQ9n6VylV81j6qx0qjuZB0VRyRL/v////s/uRXKSdKbRWSEIo+IlXQIeLmWgAA63//NExKgSUP6kANJScEmacZjMZj/LCrZENUKrgqhCrF/q1U3TdbW4yl+YfZ+q1/lPjyH/AKSPQ0IgdX/qmpUcQRjwOFxE6sMQfM3M0kRwCCC6fAZZ2w6WwyXCQyXigWso//NExLESaOqMANvYcOfqA8oUPX7K68e0WzV7Wa1tdpcmJKCUQIl1CeBo0r/9SoQW6OdQgQIGbIBuoYDT0AElMYiEWUwAyUXf601Rp00/NV2sbMayhnKgnu5e3SrUIda1//NExLoQwPaIANPYcEzrUkjhg4GoQlm01jv6/YLX////9dUIEtKEO07gU9qYzJQxjs2i8MEAYa6SKS1oi/ruyRyqKGpe/ti1S8pmAYDPRfzPmQylRyoAwqJAEcOsVR/8//NExMoRGPKEANvYcKgIsVLEv//2f1u//9AFY4wocDBRIMEns9skAaYhCA1IhgWSuLAIge3Vg+u0yBz717cbIvaYw/rSJ7HaRrIm4VfO3otj1a0drKbj/VyrGWbxzSxE//NExNgRyPJ8AN4QcPKFrlopt+5z+2q4nPw/pDTbLIdya+xDlL2vLEeSf6vo649zs+trmfBFMcw32uVW1d3GGK/fY3/fz9627n/tvtM317pfmm/7EwTNrQ7t+rF1ylUE//NExOMSePJYAVooAMV1HPi7gM2AV6NYUuQcaTYcSWV41DkvV1XwUcENUgCI6+4dErCWlL5PINHKUkQiyJMY7kwAgdHhuf50J2+Sl6lIePBOFExnbh4cFgf/mcXH12TH//NExOwlyxowAZxgARyh42vtrHUpS7b7jT1+1dauT1Oi+3Xp0z3zP06bW6Yen2MIOMkhTUAxPxcmFI1zapFQ2ZWDUdDkmQslDAG9hdefcSO3qtuXxqfll+HsZrHuNNuw//NExKch4iqEAZhgAL7UB3a1rzaM6XvnLcYmXMkyYmJoThBgsUzdv6uV26yZz932+pFHr4eNHDMoUaCQKB6AWNt/5dgwUAbRXbR/81uUUGKAVkGf0EWSFAEIiQMgRpOv//NExHIYaU6MAdlgAIBA40AiVw/IXavcFYQiJGOCVqcH948kR8vKDbUq8m+l6NcYggdCrXIKs/EMXLwvjLKb6mD4YkoBQfLTJ5wxXNC1iBfCZ5VM8cJjzcB+cYmcHYd0//NExGMhmhqQANPWmN0NUbsfXPDr6///////4QoqBDAIqe1xRQB/7aCg84OMNMBRVZqMgWsmhjZLOr+nFrHrFQCcmWSl1Kkxs3Myo6nvlhjyKPbdDtGZKUfwzOQheH+v//NExC8ceiqkAMvUmBzE6NAfRho5pLg2JlrfKIBgSgrg1kZYwgH5cfEhxUxzmlxUKDMLQ8FcuNh4RGnK6JO/////+h55xKeRNd2mv/3vv9LsyVIYjfasojDAJIY9BAkn//NExBASYVK0AMvSlP83uqU3px8tP58wY/av59eTWEPnei0TMIjDqgnQiPcHm8GzE0G0rO0GSb97/PbJIqILcDxpH///SQrlcYdHh5IKNNTzIdW8urgn+3F4JduM6kt5//NExBkR8VawAMrSlFOVNQ/qrajcgS5AMg5ReELJR9YVMLCKJUDLbR/Ol6X269w/N3g4smxJYXO///+q3KCyKA9CciMq9Sox2Q1nHzv401rPD9481llul9mvWe/azZdc//NExCQRkVKgAVhgAOYrHMTIShTRc9q13VtCsZR1r2z2WmazMzte3cWu1EX///rqZULIpgDS2fnBFsngZPt30SRoPXz5lrN/VpHjn/2mMakuNPcYYSCowLEiQcBAazve//NExDAc+mKgAZpAAJQsSJzqEUQwFA/Fxa97MreBtmmXdHsI7wVdfv+HSm2KDh7sPVZKW4KikT/f8esuvV0dUFilDHk1iP18k48NJCvQxItTty0UZPERmzvGcO0OkUUg//NExA8RMVaoAdlIAfo6Hn3aTn1MNZ83y3kd/jPy/xG+ZJAsKGhEAonnK9pdtOoS+a0SIUCN6cKhFGbFaASFJIIOnbPWAnOENRfYqOFNMYCYPb3e/VLIhO9G9q3NXx+z//NExB0RsVqsANLSlJMDihsWHhuATBs6SI5+HQpZX/VUIBETiglJWp2yRrjSo8dJ9mzP///1JcsYMPe2F4iOgi0nNJOYfr/ZLn7f6mdaHp/9f0jnREJHEQIEAhCAK3oH//NExCkSGVasAMpYlKmHR5S2/POdY050SVe5HSpeomIQlmi1x97///60IF0K5jaPKZ5oiOrAUetSg0Wn/VjIjZzUeqN2ommrROVE4ZDl4EnPrgWHfJT9KZAmZ/MIljoQ//NExDMSGV6sAMtYlI0vphNVp5h0Wjy1lL1mu///8q9v4tXfaoDfhF1lRPVIqcLAtS5rdBc9CXRqDXjXP0GsjBvE1glgwTMAIH7NpNBw+day5IR3bN3cWXm69awcEla+//NExD0RyV6wAMqYlCQqu3HP//+ql4uqw+OB9k7k7IdtZesEjSf8v1Cm8w+G1pegdqKvhtIEK7HYBKakGCX/Gtq2bV0/drRmz5m5dOffeK3tmXvmajoFL3s///9V/dMc//NExEgRKVqwAMrYlFIyeaChomJTs6GNZDfofnB1yfnOXcyPVH9LIhTaFSMkwP4UrIDoyzx9isofH8hKUJ5nT1ZOTQHYUlGAtWk3///0zy////Zo5lETsepY8S0P5Pti//NExFYSgV6sANNalFT1vw7PE6g8enJtS2mVzg/NNB08egZFBPlbzmRyrpU/6xmCoN5Z4u5a/sOLJBz11eMI///9SyT9wEadsulAhIGoLcvL1a/L+SPauL4JvUz1+b6E//NExF8QuU6wAMqelItjAo4LREXO9d/bnSR9r/+VIwoqdea1PqzdD2zKOSeE/Bp////g7///1UXdxWUggfLTAoxYTxYFMyi1d+dKLzVGcVmzzFdT6mQJ5YgwykEAixce//NExG8RqVKwAMoelFiD+MdRuLpnpUP6djBAWI+lppcXViiIvQQM5d///1Cis0YgCPqtoD1GkbD840t2aWvlpB02hJ077bHJ0Uiw6yCofASaASkpZ6tHMhuVRIGI5iDl//NExHsR6VqoANNYlGswV8tWnAwE2/wwc//ayIG+uv/ptoH0CujJ5TT998b//////n596/7ynywW8+nlE+ghmmhMIi8RESkAACj6EEgiUDfmH5vEJOwDFvHpjC2tcBXl//NExIYRwU6oAMnMlN/gGqBGwD4/6RrCPH25zAGX////////z8jIKo7f++5tnkFSX7KOSo+otUBAI6BqFdCMlrOqXUaNTu4tMnHsqOkpHVgjtQTItKkohBsqj2x0E8zT//NExJITObq4AHhGldsdKCZanSv/PsVUNniVv8p1yO////////+ez/plN/m0ydzQPiJURgAqFDEKWHWQyXLQv2eIRky0408cyZViBrWoPdQCTRYxFKcL3rPR4Me5wkRr//NExJgVuw68ABBMubq+qid/Pr9fv1T/kI5Dq7J17JdTIGDlyl/uEFLRZiQzF4rYU6BjUBUE4ZwRrmpcnmsP2msXrL/1eQ56Q09y844NF14yz3ZDlYt/Ord7Nfy7gZxj//NExJQQ0irMAAhGmbnAlfsJBx/h0IzsT3TIh7fLqm4d4Biwl2AtDyhd9JDd6SwUKB5Tqw0EQcDphYLFqyx48aUVW6y2WDt4TO1nXiIyVcJVjHo/f6P1qpZEkPTIyl3P//NExKMSmnrAAAiGufJfiy2OqpD0wHGotCmK6TIwqsgnkXDcTSNz5UUZeP9lVAKiO+IIXNDUocEbEjlWQZ6IgNxRj7M1RNqAh9kbNNk7MNZiuckuA5EQiMinh0GhR7////NExKsTyQqwAHmGcP9BoylPCaU1yurIPJdvImKptNjSfglFFo4kbjkWc4dwDL1c54vho7beZTNDQpx6cL1Gb0d/Ci/MJLmJMQz8IJUAO1/wolUb2mYNJViOYhQgf/////NExK4YmV6kANPSlO/+ldS1cxO+beRjRSGl2DooiBXlVC+VHKOHEc5DKovwLyF9c2o0XjIXcUlljluVWFLErdW68HVTZtJ9pDLoPJbl/W+5f//opTOE2ahjSmkrIFeZ//NExJ4TYVqwAMvMlMPYXzZ4aGjGRUEOQy5rehRLb1IELetYt8WAkI+kgjKvEXRXTHS5iJ0qc3OOtH0JdZlaAQnEHSSVWjan9Ro8Kf///3/lqKRzgwNPgGiIVVWMaJCg//NExKMSqVaoANPSlR0rASTiSXDjKwwDo1OIE6iKlBvEkn8UJW4xhZGiAZwEof7cCnJPgSc86G+Zc7dEokRWMBZYngXVtn4H1c/s6/nXpPZ2U7Fm83G4kBl6P/d+0mIC//NExKsSgQqIANPWcDbraKjv/WhtTRv6VJY1bXmlAhaRolooGaAEC3G5io7Z8Qi93spomGpGasu48hOHSJaHzlQeHRlwd3GiWrajPGj4twkkTCwtTcFZE4+keH2jv/////NExLQauVaQANvYlMUV5cbGYvErsMuJlZGmQBzaSx+LcgQ02jSvqHdw91qkeui6ZLM8Ltxh0snHGyTUWZTDpQzVZuOX/WGrf9PmX/6/k/lPK///+uV/2rX66+DwnfiP//NExJwSkPqsAMvYcIXdUi/RYOGm5c0MWwYgzEgnXqexLgeD33LchoxcG4L6+zbzY3a1RbNuU5YumE8vDTf99e+v//jPxNyLv///wyqteZ2fEI1e6Yo6n3RjhwibSvG6//NExKQSYT6sAMrecOReNMGI0en5AHdQl8Lifa4R2IYI0tSEEKbLeOqeAeE+UWtbU4uTuQ0FrWZviL/n/6/f6VR///+qksBEBc9RBoqw5k1SfVMBSyEV0bVhwCmdD5LV//NExK0RmUKsAMrecMvZFfSJtqXN2KNU7wgqEMAGk5R6R4aue9ji0hEFVMye3vddYtrFNe/zvV84lASP/q/6ey7KV2jU4wKclMSAga228RORRe2ZGzFed/qqrZ/5qOZK//NExLkSsT6kANLecCwNWUPAFEQ3XWA6OFcoGx00UdfF8WsXK5KiUzT1hr/T87yq5aDVudLPka1QIwoJaBrvAOVLBg4LxeZaJd1upTZf+XN8//y/ez37VXkGCvskgkoj//NExMEUOUacANJecDiMiRvRKHJZSXDrw0DQC2G2OeRdQnjmdVX///f/39FSJgGiPpHkuJtTSgakdC/dM/zy6blxVXjLJA0QMS6gr7JpqNC8iZrX+kyay+mUUjAdgmAm//NExMMR8TaMAMmQcB/NyYSh8uGg83IZJiwBsBUCr/qNKmT0x2DxEYLB5heDQ0Hh/++gyG3Om5LpmZ5EzRM1k///1Mmm63ZlpmiDZePGZubDvGWOcKoJ6MGPAWAlFQ4H//NExM4R6PZUAVowAHpU7Ea/90Ix95mZmZmZ35vf56Z/umdylX2G707cq+ooxEIjnMGDFoVA3ZYqYt1y9NdtA4/Bd+8NLVp1LzTcn1kP/Sr+/FA53rzt9ekhYzV/oSjm//NExNkg2yqEAY9oAA4XUotLYl/LeGDx68ccYP++iw4Lqs+WmbqNYfrIoCwSE/H5w44dx2SoOPS4vYEqL/uJf6v+/KA8/y+BjQPoU6wCxxnClcMx9pdsW7NpkfSXNs/s//NExKgg2xqsAcJgAbwl5/AxhplWXHJldRtqzjy5UM7PEVrbSUBWBhRqKexAwYpkX/yxauwcAUVjJd67//XP01MkVhBnh2W4I5l+bS3to91Uhr+9eif/29rp+ZM7AjO5//NExHcSot68AAhGuVk0pKXla6GVSorlTosrI4K+ai77HpruBAhK2MKUO7MvE60YkzsI2QESPjGnN6swAIKjLz1eV0Rndft9jqpFFJYU99/Z97O3Htcm7vuceRKjDQuc//NExH8QYsa8AEBEuCtKn1t11bZDnWDuIS8GmLDZpmEqEYT9fa9HKcB2p/TZ1+9NLMeVbHBAQLAnE4gDwwYFm9CWDu1FN99SmsUs0lxBaAIG2ONETgPlLkLRpFkQdniE//NExJAQiTq4AMBEcD9zS2rvYL///yEzX/9P/+j70cpbqzpcq1ElUrB5ykGafhBwz59b5pAz1x9Lr/AtyZwB/XyMOOdYp+Bmr+pXXYSER6/////4////1//8/7wveoU4//NExKARaUa4AHhEcJTU3BCAWivEfd1NCrzeufsVqIik8KAAf4meVMYvd6+YtM0lAxzLfncQOSTtI4zG1WtAuAcnvlQSFAgEirfbeqlrZCcJsFEV//8FOLm3HmhPQLRE//NExK0RaaqoAGBElWw0BpFowJGhK4AmRFAQTY8NLcJWKpJHlgqp6yw1in2Cy7tUqXEpS9cg0OWv+GrR5eMvZFZsDcbB9qaGdMO0dGIVWtJfL5BsJoTZRPe7d/QbKxij//NExLoQ0rLAAAhGuSBZdgkQhuar5vn7Hg/LPizFBZrv//64ssMiRLWMZ4mFbjCblqARycn8nDng9XdklnWVRtdOPgoRZiNdlUxXMqtP13tq+az0dPlDtNyBIafFUqTV//NExMkRADrEAGMSBO1/6ai3Ii3kzhbOqqWmFBwfJCHxQCSyNBYeXzBlCKc0gjNY5QtT94nX77i9mmhYYQ3STaCGF7TJZpY283K0//1PQqY9tyERPOhbVS8+nsWJ1H9W//NExNgSaVa0AMMMlKpG/aTln5FC8Sf///9FiEbCxQn0CwFTIaaLgS3HnyhSE4OMza7HoEvUrzW4CXtL4406joWcyabcmMuKkMZcjdExaGtDYuq4xbH+vmNuRmnalFPa//NExOERkVq8AMPMlRW+N6hPt//NfmCaC4m4/+JkSbohljK4tBFKTYR1DniY4Bjw8ywfIibOKYLS4RAvH85OH1SNpvE5x6YVohwyKDlGB15h8nZk3Zm0qAXWxDIQ+Wky//NExO0VKWasAM4SlOXTEf3/8ToDnWdFH//RR8mYi9W+7gKCZXFw4JkAADkil0wsxAQBIdpICEGjwTmyQC68HwSdi0AqXSHJrLN/cFi89TKWulbVvjbiBcak6qsyljuQ//NExOsVOUKcANYecW0VJQwuvflt+w5Lr+IGJwXySFAwSMXTKiggi6C3Wo1SPDLMiUGObl9I0QNDShTUl/////ruYMwIfkj//rXVLwypyUqGW5EjsxkRuN82oZyIfMC0//NExOkVSUaEANvWcFacUC17cnxYXbiO2V1R2i+uxb68ez1Gr3wbX46Is3PaonNzbBn8EvJ9Ox6zpeXCEB1mHx9zlj8tm5s4RUqJRsYkSnEe7f/////72JZ1Ei5pRu7+//NExOYgqhqMAOYamK1C2sNqopY4w8AneAJMENlKHlQlrYMK2gzxDHdRlzVSA4XCxWZooI2Tve6u9pDksXdXBKIqKemwkmMY6yPYmh6YFhcFgoF4lbwVFgkJSQd///0x//NExLYaMh6YANYUmGEXcbiyE60rADscYLwwFC40ABhIMAjUwZez7k0stMc17T7NOxN+a79y2bbR1spy/+9rFscVY69aB2JIcqSQPJZHMPjE0X1MiwSX+z///8Wewx9S//NExKAUuO6UANvYcIIjAXngyldILqQ0ku2YeMBBcpYAggeWsOOxhrVy2JtTqSfoGmGfX/7lKWyj2c1toYWoYSsQR6EkKjZoPHRb+xH///5wTXVWi6zpanDekNHFvSAo//NExKATKPKMAN4YcNB8aVAw52TsPC4D2NTbF01KqKjC4KgkguCATJbxNE5j7o31er6sUsooHihEOlOrd//qBAMKOX//7rPYRngVWOBxPlvkAa3yEs1R0cDAOARDOGSW//NExKYSoO6IANvYcNQOK3AocCBWDwDBMUVifOU83TnJnHvjOsU9qb+CEhCEAznO///+RldFe/R0fCsFUEv///6vRaeJj69eMEYzYDICDhgoUY/ZmDm6i8sYb50FcRVn//NExK4Q8OqMAMvKcBE4qmQ7aCMMM/iCd1HQdmbn53nd5Y495zPPPfDzzIncpUE3aH/bJvx/fIYBp8ZRTztqwgkMYjAUSXsko4rPAE0x8A2sqkDNpzzqXRRHwPSlRYBx//NExL0TKY6YAMvElA0gfJ/EHOhGtjg+gbv92z679c6cymKrsEUQHUtNpKNePYaeLxiRyownoWhnjOGhU2a4OGZWIam1D9q+n4ArQxOzTqyh2Zx44df8SYuQrVCSeVHw//NExMMTmU6gAM4MlefN67mxNSuKY1a+49ppXrfV+r9oQnf9BxeKUN7qMG47IDPxET5nLmzMRQB8planeMEWC3KmTgJwrAsphw60OUpBidEqWFGnDzIOh5by+lhAnkWw//NExMcSAVqsAMvKlCDTh7L8dghMKofZYTlTsZ9FckQ8xnUJ8wuOIW2mJfMS+4bbp/LnwV5SzMWcavLJwi3u9nxWF21Fs9///PCX7FC1HIAACmBQlCQwAIcAmNNF3goE//NExNISMPKsAVh4AQENasuqQQ1Le2vkffcfnA+DQIFNNHfECBRhGpXta/A1Tnt5p+plZ9agyjLisWm7juKtsVYOgqH4eTnh0PkopJHKabkONpKeDhwuOIMPGDRUklzg//NExNwdqXKYAZl4APldJMHRVKd0rRNKPF9SA4lxp+QYL/GqnQxI9iHheJhgsE3vVQiBIbA+AKGx5hc8am////////////////ipd5v5d+kRE3ga5BiQKVTliUPxAUXB//NExLgiEuKMAZpAAbgvECxIIgxRe4EOJFwbixggB4ZIoHA0OxHlwEwXh4KavY1h0SWPgPJLF1sgRIINhQ4FBQyUeEuTyAaKeiMHAiOW576JIdnIwg6BWIVf////+p/O//NExIIdqw6YAcdAAY3rupzz7c/OhHnUwQFV7Vy62Ty2thYjQh+0hLCoYmJw8QyG+DhVMy+unkBBKpsYIA5nxTgrxDYMz5FpWNURYRFheoMTtp8lNF+rKl0xO1qjiYjj//NExF4gKxqgAClYvTs7Pl5VPqHJ+fr8L1GTVLoNzyyldBdE04eMxqN20KbPVsAdGd///z5f/WZt/POiQuZdv9tq+VmJX8Y9R6RTUKPQvE12SsOyOqZcyiixpU004dZl//NExDAVWva0AAhMuWlL2uk9NyUfZlBvePtoyU1az6818pdsSqnKr/K8NR3aWNgrTWDKgkCBioXWZPM/////j1v//9LyuR5Q/29WcsSJDSBUIM0MM6AnWMTWiHqHAtKv//NExC0SGaa0AEhGlf8ev0lfTm7GhNjorMJKrn8MWaiBhq1hk3/3/1V4SgG+XcMwsAvB/jnF4nG+Pv5+77x/v/HC6c/3oIIIVxBOZoVq26CDg+Z5Fnn/2BqKgZFoVhqs//NExDcRwU6sAU8YAFwEain+6giS2ft7b1ucj+kGOgEdASM14IwjEIwAYM/Jn4SGZpRQK7PFOLUiSkX9lEOYSDsugGHY9KJZYjFPW1EpbDU3ATWG6Kx00sbkoFBcAvKx//NExEMhmYKYAZrAADCCIUpjNzXe79S3K5fKWGxnO/i/zLYalsem8ZXF3UpKmWqWrqmpuU0fdidi1XfPvguFoLHTtAp5Ps++tlHygZOf/2VqEGBGkOONaBEQhgJiahRd//NExA8V0XKoAZhgAAShxg+TFZG8mLayyI/9i8JJcXL36PP84oTKjlcOAcAPLawxDm56ehSLhyK5YEtXa+UZd7YqkldsF+jYWK7U/p6td3aL/dy7+mqOrQGrL/KOtcY+//NExAoSgUakAdhIAazosCh0kkt2gVMpvckp4Klkdn5VOVb8USNcQCgPkY8YHhsMCIqmixqJ5ZGdLJMwclOcqz+/Wfb9+ruU3Jciv5y8woe3BI+yUIlvSRAdMOpAgRV5//NExBMR6UaoAMYMcZz6F7K0grPvK3ojEAv++zjuE6jQH2fEBBQSlJu7DXLyYdZtYrEEifMl9+tn28j/3rKxNHztl7/j0nQJAv23S0xOFqxIDBUgYt606I8vembPIHFb//NExB4RmUKsAVhoAfd5zH1c4mhOxMRLB5DzPHnRSUtFSuzO7IpUlLqRWlSrqrq9p+ZubetKL+m3gWoK/GaGTAjKIxojgFpMEQlAkgKNoYIAKDTbQ4hYQNSHLFCCSB5A//NExCobKXakAZjAADgIwhDXGpdjV41FPQjhu3UpM8rNrHPG/hr/5ytdoKabrdwsVL13Ptqkkk1azllavhly7P8p8869evSYWcwse0l+F0WLvKQhEASU7itaV60ls6Qz//NExBAVKW60AZh4APKBqmqRKiBdJVMQgsQQ8koD5E+NcG6FmZTveDrxbj+3X73rXr/n5/1bX+JK/1+4vtnF3lNaiZzTV6+tM1xO+yCJblWcipS4IWmUXf4ZU7D7F73Y//NExA4RsWKoAdhAAV5Ap7tqqoAIEaMhG11rCNaphUbdV2oPQIPB4Uga8x9avt//z8f/cf/rQ4WzI2mxxCDkQe7m4exLHv6WBRsu6qkUCaTJRhxVVHi677AiglBIgLIS//NExBoSAWKkAMyElYIyAVMVkDBQuuQEgI9maJ6z+pa0VaqlWmiV0/lBGFCiQp2FBJxBQhxwoo3KVHy1cFZQ2KnHBlizCS6p6BP9GybgwGz5BD4NxkETAhAwyYAbEkzE//NExCUSOWqcAMyKlHNNmLGvX0tGrXIu+331aEnVMaRAgIyCJnDysKuOga7///6rV/rlikmelhIZLImKjuNDYjHXrGFMCbF/BTnkxhDxGSfgsjKXSJfUzXP//zi2P/////NExC8Q4WagAMvElWd3//3WwKyO5yMEIJCOKBlE2JfepbLWg+hGqUgJ7mohqCYoEUfnDb6dmFWOkkejMpun2Bsq5aRD1BNT9+9rmX91/47/uv/+1Qlrt/13R32VKEKp//NExD4RWWqUAMYElQwExRsTmnMKbmmmedUXyGgACXWQwyzFMRQJc7UYZlZJToCN3DFAAIpI/S+yJxrYVbPWLu3+cW+bevz+XKr/393Yqq63K1SMWDZnLzTpaUQhVNFz//NExEsRgVqEANPElVKoSa2QJJCABUihrpRNOFUI5dF+GMS0nQ/xDSwnUZVaRUOjsM3ttscO1DP2ahdLVazps8Colx4TcOeCpWOeNv////6aJk0wW1P2bQwKL0tGceHY//NExFgSINJwANvGcOEidsZnMcOELiQY0gzTaegCWfbBQ0/N//6uJnioKgUFQEHcVlZZbtQKioJBIKPsU7///+VqNNhDF1s04EM5AjGA0GgzA3liSyQYwylIMfJtEKJi//NExGIQ0J5YANvSTBcGViYBRALhkREAmQwaDSRGAmvZCpFos+SFEf7VkQkROv+uBUjcLGzLZ4v6tSRmhPKndyhCzj0x8AvDMgPIJaeHxUow0LhMSG6T5is43UTaUYEI//NExHEQMIIgANvSSJ1OdJlDajhOm5M3dp0X+zR/TRUIMmg360YTOFglhdSuOaC5N0UEpw00QlioVBaSYMNHA6eGlg0sJXiM8eMtadDU9PMOxE1ESwaQ3rYVcO3r2ffs//NExIMQmHX4AHpGSKqejSoQhAyGqO23eLw9hBwDIgghRFMefYs+mECI4RFo7qgIDEDIXWH0BBZhJ8UMlGC7wO1jgIxr3KZetty6Xqorp/0VOPJk6Q4RKAhBRLRbTpXX//NExJMQ2FH4AMJMJEm5PhDkCvzLexYIiQgIiZs6MlYMoUNtGnrrInpqqxkijkmmpqqxtVWOya25PnaqlAVNmYiGR1VEBTVohDFmaJG7bSVczPpm9vJM2bIiyIkjHbJr//NExKIP2JHYAMGGTGmZ5m728tczkQQLekiBAiHAgQQILMQIACCcuuoEROA0UV0xXALAkCQpJWaRIgICAljBgIUzxEDR6Cwd/+vKhqsFXSoalgZwaDssHf///rEVYKnY//NExLUfWwHQANpGuSoKuKgqdLAyCsGgaOiIGg7VH4e4hZY0gPQXBxT50MmX7++/S77Rj3z06IBEg4XQOF1GXpiFAgRIDAdAAIogQw8nbRbGQ5NNiAWUAAgsHC9gmnfg//NExIoRyGXUAMJGKIEMPIIPd3emE02IIf/xGHk9MIYQQcnsEMeI/u98a0PdsQhiCGXd73u97REaYACBYDAayADJ60ECCjwAEFgML0gQwAIh8Bg1CA5C+CDDZGvszemI//NExJUAAANIAAAAAMHQTE6ftutKKSooxCX+oMkssFkoGRpLUcOONBkjQCNOASQkGSLIyxx3qqlHDiSYoksSCycSrdqjmkjOIoy/2q6SWyrO7YiixJIs3S59V5n5mZ23//NExOgiAvXMAHmMuWtefR2mpbKM/+p7VvbXJErBQCo4GS9HVVSCkXIhKKQUk6K9FMWnAjBhYpOr+FiWlLAKuYe2WGHvZdKm9lzswSwNaIrqTxgdmyzVGZI1mJUp0zdt//NExLMhgv3cAMGMuWurHrrYrrnmGqwtbLdXaZrta/GxbNgn/vzmzkDPwSPzdvRU9XhcQrm0Lad7lCyptzkP6SwtbsYLKMR6qEhUhIqRqEN2piSIdAtBA2QkHEO0CokA//NExIAfwxncAMsGvFgWhGIS4VSHA5CwsO4QATBI46beBwcCAjOCrUkS5Rxd1qRGwoZLgNh9IZkGpaXQqobHfZaxLFWOt/n3EDgEJhEewLDSBxVY96TiFTHERna6zhoj//NExFQS0FHwAHmGJPUD2YqIRA06IKN02SDB14pHJdoc/lOoOoBcJ1lBAcNhprWVDkhw6pV7qUNFGaUwnZe6lEU/9/i6q0Lo2H0dagckHSahRsucl9ZiySiEPaucbTPQ//NExFsRmJXsAMGMTLTPGKGFMBSxaCuDQOhEk8ClnFVios8ZMoe9UVWxVNyKFNZ3mdFv0evVo8r63+quLkK4IwPWo2NaLg2oyPMDjyF8mEWyBQAzYsmvL4cWhlEp5owj//NExGcQsJnsAMJGTOshSEHHvE8WOMLvKNnxpd7RBccLl0UH63yGGZd8hurR2r/b9viCAtwxr8OktWKRXGBFR4RPJJFonJ7JlEMZhcojioRsQIiAjgkQCl5BDEsOMINc//NExHcScOXoAHmGcOc5SqrKteqmxH/ZZdY5VVFSOirqEFWcqvazxvXcnqYSmxWuXMymaJNvQojg4QuiUQEeRgyKHlBcLkUCEXLJFHHRBoHMlS47cTuQ57EIZHoTtcbu//NExIAQQKHwAMJGTCTH12X1X9f8U6osKGFvJCrGASo0c9RBVZMPKKNMDpAuULPJDzCWKoFGalbytdDeNVSabp/uHrLITHqpSS0pJWs7fvdUpdUTQgjgPses+AbASA4H//NExJISMKXwAMJGTHvVDvAgALOh3cDAxdP4hO5V365pELiUDFw+sPkfKO/6gws/+ufdE4nKJt68H8g7lHa+IHehP1kJUEeDmWoU7cAcBUCXO0oAqdmWGQUjY1I/bVVU//NExJwOyFX8AHpGJKQMBAXioa5U6REQdKhIGXEqg0HaVhos8OyrlPo0FnwW9gKnd6PthqvqBIaSovYSlYUhcNQ9khewyVh5IRCK5wvgmWKjQ0XQN5dJpJLhl3rFRbFh//NExLMQcNoAAHjGcHI1iotxf+oX4qLNqF2f//4q3FhcVioqLNiwuK1iqkxBTUUzLjEwMKqqqqqqqqqqqqqqqqqqqqqqqqqqqqqqqqqqqqqqqqqqqqqqqqqqqqqqqqqq//NExMQRwMIAAHmGTKqqqqqqqqqqqqqqqqqqqqqqqqqqqqqqqqqqqqqqqqqqqqqqqqqqqqqqqqqqqqqqqqqqqqqqqqqqqqqqqqqqqqqqqqqqqqqqqqqqqqqqqqqqqqqq//NExNAR2JlwAGMSTKqqqqqqqqqqqqqqqqqqqqqqqqqqqqqqqqqqqqqqqqqqqqqqqqqqqqqqqqqqqqqqqqqqqqqqqqqqqqqqqqqqqqqqqqqqqqqqqqqqqqqqqqqqqqqq\" type=\"audio/mpeg\" />\n",
              "                    Your browser does not support the audio element.\n",
              "                </audio>\n",
              "              "
            ]
          },
          "metadata": {},
          "execution_count": 3
        }
      ]
    },
    {
      "cell_type": "code",
      "source": [],
      "metadata": {
        "id": "J9Gii_BSAx46"
      },
      "execution_count": null,
      "outputs": []
    }
  ],
  "metadata": {
    "accelerator": "GPU",
    "colab": {
      "provenance": [],
      "gpuType": "T4"
    },
    "kernelspec": {
      "display_name": "Python 3",
      "name": "python3"
    },
    "language_info": {
      "codemirror_mode": {
        "name": "ipython",
        "version": 3
      },
      "file_extension": ".py",
      "mimetype": "text/x-python",
      "name": "python",
      "nbconvert_exporter": "python",
      "pygments_lexer": "ipython3",
      "version": "3.9.9"
    }
  },
  "nbformat": 4,
  "nbformat_minor": 0
}