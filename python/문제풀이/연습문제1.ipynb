{
  "nbformat": 4,
  "nbformat_minor": 0,
  "metadata": {
    "colab": {
      "provenance": [],
      "authorship_tag": "ABX9TyPNsTdWrSxzB4HmoTzKJLIS",
      "include_colab_link": true
    },
    "kernelspec": {
      "name": "python3",
      "display_name": "Python 3"
    },
    "language_info": {
      "name": "python"
    }
  },
  "cells": [
    {
      "cell_type": "markdown",
      "metadata": {
        "id": "view-in-github",
        "colab_type": "text"
      },
      "source": [
        "<a href=\"https://colab.research.google.com/github/Blood-donation-day/ormi3/blob/main/python/%EB%AC%B8%EC%A0%9C%ED%92%80%EC%9D%B4/%EC%97%B0%EC%8A%B5%EB%AC%B8%EC%A0%9C1.ipynb\" target=\"_parent\"><img src=\"https://colab.research.google.com/assets/colab-badge.svg\" alt=\"Open In Colab\"/></a>"
      ]
    },
    {
      "cell_type": "code",
      "execution_count": null,
      "metadata": {
        "colab": {
          "base_uri": "https://localhost:8080/"
        },
        "id": "jxL2Ikr9qdbK",
        "outputId": "cc6e517c-c398-41e6-8bfe-9eafa1e756f6"
      },
      "outputs": [
        {
          "output_type": "stream",
          "name": "stdout",
          "text": [
            "kimchanghwannn\n",
            "kimchanghwannn\n"
          ]
        }
      ],
      "source": [
        "#문제1 문자열 s에 마지막에 있는 문자열을 2번 더 붙이는 코드를 작성해주세요.\n",
        "#예) s = 'jun'\n",
        "#정답) s = 'junnn'\n",
        "s = 'kimchanghwan'\n",
        "end = s[-1]\n",
        "splus2 = s + end*2\n",
        "print(splus2)\n",
        "#or\n",
        "print(s + s[-1]*2)"
      ]
    },
    {
      "cell_type": "code",
      "source": [
        "#문제2 대문자는 소문자로 치환하는 코드를 작성해주세요.\n",
        "#예)  s = 'Jun'\n",
        "#정답) s = 'jun'\n",
        "\n",
        "name = 'ChangHwan'\n",
        "print(name.lower())"
      ],
      "metadata": {
        "colab": {
          "base_uri": "https://localhost:8080/"
        },
        "id": "3XnNoOJqqoWW",
        "outputId": "26b99dc2-2afe-40e9-e7cf-95f641bdbd43"
      },
      "execution_count": null,
      "outputs": [
        {
          "output_type": "stream",
          "name": "stdout",
          "text": [
            "changhwan\n"
          ]
        }
      ]
    },
    {
      "cell_type": "code",
      "source": [
        "#문제3 'abcde', 숫자, 대쉬(-), 언더스코어(_)를 모두 제거해주세요.\n",
        "#예) s = 'hello_world123'\n",
        "#정답 s = 'hlloworld'\n",
        "\n",
        "s = 'hello_world123    abcde0123456789-_'\n",
        "번역기 = str.maketrans('','',' abcde0123456789-_')\n",
        "print(s.translate(번역기))"
      ],
      "metadata": {
        "colab": {
          "base_uri": "https://localhost:8080/"
        },
        "id": "CRaRquC1qrF-",
        "outputId": "6db67b0c-493b-4ecc-acec-cd62f6bcc02b"
      },
      "execution_count": null,
      "outputs": [
        {
          "output_type": "stream",
          "name": "stdout",
          "text": [
            "hlloworl\n"
          ]
        }
      ]
    },
    {
      "cell_type": "code",
      "source": [
        "#신규 아이디 추천\n",
        "\n",
        "def solution(new_id):\n",
        "    new_id = str(new_id).lower()    #1단계  소문자로 변경\n",
        "    step2 = ''\n",
        "    for i in new_id:                     #2단계 i 안에 있는 문자열을 한바퀴 도는동안\n",
        "        if i.isalnum() or i in '-_.':   #       i(n번째 문자) 가 isalnum이거나 -_.이면  (한글안걸러짐)\n",
        "            step2 += i                  #       step2에 i내용을 더한다.\n",
        "    while '..' in step2:                #3단계 step2 안에 ..이라는 문자열이 있는 동안반복\n",
        "        step2 = step2.replace('..', '.') #     step2의 .. >> .으로 변경\n",
        "    new_id = step2                  #      new_id 를 step2의 값으로 저장\n",
        "    new_id = new_id.replace('=', '')\n",
        "    if new_id[-1] == '.':               #4단계 마지막 또는 첫번째에 .일경우 제거\n",
        "        new_id = new_id[:-1]\n",
        "    if new_id != \"\" and new_id[0] == '.':  #   빈 문자열 방지\n",
        "        new_id = new_id[1:]\n",
        "    if new_id == '':                    #5단계 빈 문자열이라면 'a' 대입\n",
        "        new_id = 'a'\n",
        "    if len(new_id) >= 15 :              #6단계 길이가 16자 이상이면 첫 15문자 제외 나머지 전부 제거\n",
        "        new_id = new_id[:15]\n",
        "    if new_id[-1] == '.':\n",
        "        new_id = new_id[:-1]            #15글자로 자르고 마지막 글자가 .이라면 .제거\n",
        "    if len(new_id) <= 2 :               #7단계 길이가 2자 이하라면 마지막 문자를 new_id의 길이가\n",
        "        new_id = new_id + new_id[-1]*3               #      3이 될 때까지 반복해서 끝에 붙임\n",
        "        new_id = new_id[:3]\n",
        "    answer = new_id\n",
        "    return answer\n",
        "\n",
        "solution('...!@bat#*..y.abcdefghijklm')"
      ],
      "metadata": {
        "colab": {
          "base_uri": "https://localhost:8080/",
          "height": 35
        },
        "id": "5ULydFwGtefV",
        "outputId": "d6294fbf-8529-4006-fbfe-a5bc498ae96d"
      },
      "execution_count": null,
      "outputs": [
        {
          "output_type": "execute_result",
          "data": {
            "text/plain": [
              "'bat.y.abcdefghi'"
            ],
            "application/vnd.google.colaboratory.intrinsic+json": {
              "type": "string"
            }
          },
          "metadata": {},
          "execution_count": 4
        }
      ]
    }
  ]
}